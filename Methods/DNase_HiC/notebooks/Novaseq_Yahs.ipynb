{
 "cells": [
  {
   "cell_type": "code",
   "execution_count": 5,
   "id": "9a6806a8-c77a-4f1e-954b-14af107615e9",
   "metadata": {},
   "outputs": [],
   "source": [
    "# Set Variables\n",
    "WKDIR=/workspace/hraijc/HiC_trials/Manuka\n",
    "ASSEMBLY=${WKDIR}/primary.genome.scf.fasta\n",
    "BAMFILE=${WKDIR}/manuka_V1_dedup.bam\n",
    "APREFIX=manuka_V1\n",
    "cd ${WKDIR}"
   ]
  },
  {
   "cell_type": "code",
   "execution_count": 6,
   "id": "96c583b9-32d8-4a8f-93dd-c41bb3f0504a",
   "metadata": {},
   "outputs": [],
   "source": [
    "mkdir -p ${WKDIR}/log"
   ]
  },
  {
   "cell_type": "code",
   "execution_count": 7,
   "id": "8e3bce89-3e0e-4f9d-89ff-25afcec21b97",
   "metadata": {},
   "outputs": [],
   "source": [
    "# Starting with Bamfile generated with HiC-scaffolding-pipeline that keeps stalling.\n",
    "ln -s ${WKDIR}/hic-scaffolding-pipeline/results/bam/manuka_V1_dedup.bam ${BAMFILE}\n"
   ]
  },
  {
   "cell_type": "code",
   "execution_count": 8,
   "id": "5e363c12-a25d-4d7a-a993-97274ec40bc3",
   "metadata": {},
   "outputs": [
    {
     "name": "stdout",
     "output_type": "stream",
     "text": [
      "Submitted batch job 1543621\n"
     ]
    }
   ],
   "source": [
    "#Just run YAHS\n",
    "\n",
    "sbatch << EOF\n",
    "#!/bin/bash\n",
    "#SBATCH -J YAHS\n",
    "#SBATCH -o ${WKDIR}/log/%J.out\n",
    "#SBATCH -e ${WKDIR}/log/%J.err\n",
    "#SBATCH --cpus-per-task=1\n",
    "#SBATCH --mem=48G\n",
    "#SBATCH --time=23:00:00\n",
    "\n",
    "cd ${WKDIR}\n",
    "\n",
    "### Run YAHS ###\n",
    "#/workspace/hraijc/git_clones/yahs/yahs ${ASSEMBLY} ${BAMFILE} -o ${APREFIX}_yahs #This is actually _yahs_20k because it runs out of RAM silently. \n",
    "/workspace/hraijc/git_clones/yahs/yahs ${ASSEMBLY} ${BAMFILE} --no-mem-check -o ${APREFIX}_yahs_20K -r 20000,50000,100000,200000,500000,1000000,2000000,5000000,10000000,20000000,50000000,100000000,200000000,500000000\n",
    "/workspace/hraijc/git_clones/yahs/yahs ${ASSEMBLY} ${BAMFILE} --no-mem-check -o ${APREFIX}_yahs_10K -r 10000,20000,50000,100000,200000,500000,1000000,2000000,5000000,10000000,20000000,50000000,100000000,200000000,500000000\n",
    "/workspace/hraijc/git_clones/yahs/yahs ${ASSEMBLY} ${BAMFILE} --no-mem-check -o ${APREFIX}_yahs_5K -r 5000,10000,20000,50000,100000,200000,500000,1000000,2000000,5000000,10000000,20000000,50000000,100000000,200000000,500000000\n",
    "/workspace/hraijc/git_clones/yahs/yahs ${ASSEMBLY} ${BAMFILE} --no-mem-check -o ${APREFIX}_yahs_1K -r 1000,5000,10000,20000,50000,100000,200000,500000,1000000,2000000,5000000,10000000,20000000,50000000,100000000,200000000,500000000\n",
    "\n",
    "\n",
    "\n",
    "\n",
    "### YAHS without error correction. ###\n",
    "#/workspace/hraijc/git_clones/yahs/yahs --no-contig-ec --no-scaffold-ec $ASSEMBLY ${BAMFILE} -o ${APREFIX}_yahsNoEC\n",
    "\n",
    "\n",
    "\n",
    "\n",
    "EOF\n"
   ]
  },
  {
   "cell_type": "code",
   "execution_count": 7,
   "id": "337bb78a-2ce2-4f51-bf9a-8adc93fe99c3",
   "metadata": {},
   "outputs": [
    {
     "name": "stdout",
     "output_type": "stream",
     "text": [
      "Job ID: 1490847\n",
      "Cluster: powerplant\n",
      "User/Group: hraijc/hraijc\n",
      "State: FAILED (exit code 127)\n",
      "Cores: 1\n",
      "CPU Utilized: 02:15:22\n",
      "CPU Efficiency: 98.50% of 02:17:26 core-walltime\n",
      "Job Wall-clock time: 02:17:26\n",
      "Memory Utilized: 2.48 GB\n",
      "Memory Efficiency: 49.60% of 5.00 GB\n",
      "Job ID: 1495673\n",
      "Cluster: powerplant\n",
      "User/Group: hraijc/hraijc\n",
      "State: COMPLETED (exit code 0)\n",
      "Cores: 1\n",
      "CPU Utilized: 02:52:58\n",
      "CPU Efficiency: 96.61% of 02:59:02 core-walltime\n",
      "Job Wall-clock time: 02:59:02\n",
      "Memory Utilized: 2.48 GB\n",
      "Memory Efficiency: 10.33% of 24.00 GB\n",
      "Job ID: 1513064\n",
      "Cluster: powerplant\n",
      "User/Group: hraijc/hraijc\n",
      "State: COMPLETED (exit code 0)\n",
      "Cores: 1\n",
      "CPU Utilized: 07:03:13\n",
      "CPU Efficiency: 99.61% of 07:04:52 core-walltime\n",
      "Job Wall-clock time: 07:04:52\n",
      "Memory Utilized: 22.30 GB\n",
      "Memory Efficiency: 46.45% of 48.00 GB\n"
     ]
    }
   ],
   "source": [
    "seff 1490847 # Running YAHS with 5G RAM\n",
    "seff 1495673 # Running YAHS with 24G RAM # Still not using the RAM....\n",
    "seff 1513064 # Running YAHS with 48G RAM and --no-mem-check. Trying different HiC resolutions...."
   ]
  },
  {
   "cell_type": "code",
   "execution_count": 2,
   "id": "08519a7b-abf2-423e-84aa-253da6576b87",
   "metadata": {},
   "outputs": [
    {
     "name": "stdout",
     "output_type": "stream",
     "text": [
      "Submitted batch job 1527616\n"
     ]
    }
   ],
   "source": [
    "out=${APREFIX}_yahs_5K # prefix of outfiles produced by YAHS.  \n",
    "contigs=${ASSEMBLY} # need to be indexed, i.e., test.fa.gz.fai in same directory\n",
    "wkdir=${WKDIR}\n",
    "\n",
    "\n",
    "sbatch --job-name=hic_mapyahs \\\n",
    "    -o ${WKDIR}/log/%J.out \\\n",
    "    -e ${WKDIR}/log/%J.err \\\n",
    "    --cpus-per-task=8 \\\n",
    "    --mem=24G \\\n",
    "    --time=03:10:00 \\\n",
    "    --export=out=$out,contigs=$contigs,wkdir=$wkdir \\\n",
    "    /workspace/hraijc/Gitrepos/High-quality-genomes/Methods/DNase_HiC/notebooks/yahs_contactmapgen2.sh"
   ]
  },
  {
   "cell_type": "code",
   "execution_count": 5,
   "id": "830bff6e-c86e-46b6-bda9-cff3237926f5",
   "metadata": {},
   "outputs": [
    {
     "name": "stdout",
     "output_type": "stream",
     "text": [
      "Submitted batch job 1527736\n"
     ]
    }
   ],
   "source": [
    "out=${APREFIX}_yahs_10K # prefix of outfiles produced by YAHS.  \n",
    "contigs=${ASSEMBLY} # need to be indexed, i.e., test.fa.gz.fai in same directory\n",
    "wkdir=${WKDIR}\n",
    "\n",
    "\n",
    "sbatch --job-name=hic_mapyahs \\\n",
    "    -o ${WKDIR}/log/%J.out \\\n",
    "    -e ${WKDIR}/log/%J.err \\\n",
    "    --cpus-per-task=8 \\\n",
    "    --mem=24G \\\n",
    "    --time=03:10:00 \\\n",
    "    --export=out=$out,contigs=$contigs,wkdir=$wkdir \\\n",
    "    /workspace/hraijc/Gitrepos/High-quality-genomes/Methods/DNase_HiC/notebooks/yahs_contactmapgen2.sh"
   ]
  },
  {
   "cell_type": "code",
   "execution_count": 3,
   "id": "82179cd0-3279-4886-9d79-b7b7c5fc9d01",
   "metadata": {},
   "outputs": [
    {
     "name": "stdout",
     "output_type": "stream",
     "text": [
      "Submitted batch job 1539915\n"
     ]
    }
   ],
   "source": [
    "out=${APREFIX}_yahs_20K # prefix of outfiles produced by YAHS.  \n",
    "contigs=${ASSEMBLY} # need to be indexed, i.e., test.fa.gz.fai in same directory\n",
    "wkdir=${WKDIR}\n",
    "\n",
    "\n",
    "sbatch --job-name=hic_mapyahs \\\n",
    "    -o ${WKDIR}/log/%J.out \\\n",
    "    -e ${WKDIR}/log/%J.err \\\n",
    "    --cpus-per-task=8 \\\n",
    "    --mem=24G \\\n",
    "    --time=03:10:00 \\\n",
    "    --export=out=$out,contigs=$contigs,wkdir=$wkdir \\\n",
    "    /workspace/hraijc/Gitrepos/High-quality-genomes/Methods/DNase_HiC/notebooks/yahs_contactmapgen2.sh"
   ]
  },
  {
   "cell_type": "code",
   "execution_count": null,
   "id": "cbf3d596-a0a2-4d3b-974c-2fa8a12d7ea6",
   "metadata": {},
   "outputs": [],
   "source": [
    "##############\n",
    "#Do manual scaffolding cleanup in Juicer then run\n",
    "\n",
    "##############"
   ]
  },
  {
   "cell_type": "code",
   "execution_count": null,
   "id": "c842f1eb-fc79-46ff-8d5c-4941bb7d56bb",
   "metadata": {},
   "outputs": [],
   "source": [
    "#Just run YAHS\n",
    "\n",
    "sbatch << EOF\n",
    "#!/bin/bash\n",
    "#SBATCH -J YAHS\n",
    "#SBATCH -o ${WKDIR}/log/%J.out\n",
    "#SBATCH -e ${WKDIR}/log/%J.err\n",
    "#SBATCH --cpus-per-task=1\n",
    "#SBATCH --mem=4G\n",
    "#SBATCH --time=2:00:00\n",
    "\n",
    "module load samtools\n",
    "\n",
    "\n",
    "cd ${WKDIR}\n",
    "\n",
    "module load samtools\n",
    "\n",
    "/workspace/hraijc/git_clones/yahs/juicer post -o ${OUT_PREFIX}_v1 ${OUT_PREFIX}_JBAT.review.assembly ${OUT_PREFIX}_JBAT.liftover.agp ${ASSEMBLY_PRESCAFF}\n",
    "\n",
    "\n",
    "\n",
    "EOF"
   ]
  },
  {
   "cell_type": "code",
   "execution_count": 4,
   "id": "2fe10390-b4d6-4aba-8343-050af6728648",
   "metadata": {},
   "outputs": [
    {
     "name": "stdout",
     "output_type": "stream",
     "text": [
      "java -ea -Xmx200m -cp /software/bioinformatics/BBMap-38.33/current/ jgi.AssemblyStatsWrapper format=3 in=/workspace/hraijc/HiC_trials/HiC23/Assemblies/Crodergsii_HiFi130423_purged.fa,/workspace/hraijc/HiC_trials/HiC23/NovaSeq/Urchin/Crodergsii_HiC070623_yahs_5K_scaffolds_final.fa,/workspace/hraijc/HiC_trials/HiC23/NovaSeq/Urchin/Crodergsii_HiC070623_yahs_10K_scaffolds_final.fa,/workspace/hraijc/HiC_trials/HiC23/NovaSeq/Urchin/Crodergsii_HiC070623_yahs_20K_scaffolds_final.fa format=3\n",
      "n_scaffolds\tn_contigs\tscaf_bp\tcontig_bp\tgap_pct\tscaf_N50\tscaf_L50\tctg_N50\tctg_L50\tscaf_N90\tscaf_L90\tctg_N90\tctg_L90\tscaf_max\tctg_max\tscaf_n_gt50K\tscaf_pct_gt50K\tgc_avg\tgc_std\tfilename\n",
      "2770\t2887\t883753165\t883750474\t0.000\t498\t559676\t501\t557004\t1595\t156350\t1621\t150094\t4267868\t4267868\t2376\t98.531\t0.39359\t0.00860\t/powerplant/workspace/hraijc/HiC_trials/HiC23/Assemblies/Crodergsii_HiFi130423_purged.fa\n",
      "226\t3002\t884284965\t883750474\t0.060\t7\t40653293\t515\t549938\t17\t31167351\t1661\t146243\t92137127\t4267868\t123\t99.762\t0.39359\t0.01995\t/powerplant/workspace/hraijc/HiC_trials/HiC23/NovaSeq/Urchin/Crodergsii_HiC070623_yahs_5K_scaffolds_final.fa\n",
      "337\t3002\t884262765\t883750474\t0.058\t9\t39820943\t515\t549938\t18\t32836090\t1661\t146243\t76945733\t4267868\t167\t99.575\t0.39359\t0.01835\t/powerplant/workspace/hraijc/HiC_trials/HiC23/NovaSeq/Urchin/Crodergsii_HiC070623_yahs_10K_scaffolds_final.fa\n",
      "620\t3002\t884206165\t883750474\t0.052\t9\t39310224\t515\t549938\t19\t27936322\t1661\t146243\t98960227\t4267868\t253\t98.885\t0.39359\t0.01624\t/powerplant/workspace/hraijc/HiC_trials/HiC23/NovaSeq/Urchin/Crodergsii_HiC070623_yahs_20K_scaffolds_final.fa\n"
     ]
    }
   ],
   "source": [
    "\n",
    "\n",
    "\n",
    "cd ${WKDIR}\n",
    "module load BBMap/38.33\n",
    "\n",
    "statswrapper.sh in=$ASSEMBLY,${WKDIR}/${APREFIX}_yahs_5K_scaffolds_final.fa,${WKDIR}/${APREFIX}_yahs_10K_scaffolds_final.fa,${WKDIR}/${APREFIX}_yahs_20K_scaffolds_final.fa format=3 \n",
    "module unload BBMap/38.33"
   ]
  },
  {
   "cell_type": "markdown",
   "id": "fcd9373a-38fa-42f0-a180-409c605a4352",
   "metadata": {},
   "source": [
    "| n_scaffolds \t| n_contigs \t| scaf_bp   \t| contig_bp \t| gap_pct \t| scaf_N50 \t| scaf_L50 \t| ctg_N50 \t| ctg_L50 \t| scaf_N90 \t| scaf_L90 \t| ctg_N90 \t| ctg_L90 \t| scaf_max  \t| ctg_max \t| scaf_n_gt50K \t| scaf_pct_gt50K \t| gc_avg  \t| gc_std  \t| filename                                         \t|\n",
    "|-------------\t|-----------\t|-----------\t|-----------\t|---------\t|----------\t|----------\t|---------\t|---------\t|----------\t|----------\t|---------\t|---------\t|-----------\t|---------\t|--------------\t|----------------\t|---------\t|---------\t|--------------------------------------------------\t|\n",
    "| 2770        \t| 2887      \t| 883753165 \t| 883750474 \t| 0.000   \t| 498      \t| 559676   \t| 501     \t| 557004  \t| 1595     \t| 156350   \t| 1621    \t| 150094  \t| 4267868   \t| 4267868 \t| 2376         \t| 98.531         \t| 0.39359 \t| 0.00860 \t| Crodergsii_HiFi130423_purged.fa                  \t|\n",
    "| 1154        \t| 3002      \t| 884099365 \t| 883750474 \t| 0.039   \t| 11       \t| 35672154 \t| 515     \t| 549938  \t| 55       \t| 582957   \t| 1661    \t| 146243  \t| 65081279  \t| 4267868 \t| 693          \t| 98.408         \t| 0.39359 \t| 0.01363 \t| Crodergsii_HiC070623_yahs_scaffolds_final.fa     \t|\n",
    "| 536         \t| 2887      \t| 884199965 \t| 883750474 \t| 0.051   \t| 7        \t| 44190339 \t| 501     \t| 557004  \t| 17       \t| 23979814 \t| 1621    \t| 150094  \t| 139140493 \t| 4267868 \t| 234          \t| 98.999         \t| 0.39359 \t| 0.01326 \t| Crodergsii_HiC070623_yahsNoEC_scaffolds_final.fa \t|\n"
   ]
  },
  {
   "cell_type": "markdown",
   "id": "21ba27e9-75e5-46d0-9f71-e44af1f92358",
   "metadata": {},
   "source": [
    "| n_scaffolds \t| n_contigs \t| scaf_bp   \t| contig_bp \t| gap_pct \t| scaf_N50 \t| scaf_L50 \t| ctg_N50 \t| ctg_L50 \t| scaf_N90 \t| scaf_L90 \t| ctg_N90 \t| ctg_L90 \t| scaf_max \t| ctg_max \t| scaf_n_gt50K \t| scaf_pct_gt50K \t| gc_avg  \t| gc_std  \t| filename                                                                                                      \t|\n",
    "|-------------\t|-----------\t|-----------\t|-----------\t|---------\t|----------\t|----------\t|---------\t|---------\t|----------\t|----------\t|---------\t|---------\t|----------\t|---------\t|--------------\t|----------------\t|---------\t|---------\t|---------------------------------------------------------------------------------------------------------------\t|\n",
    "| 2770        \t| 2887      \t| 883753165 \t| 883750474 \t| 0.000   \t| 498      \t| 559676   \t| 501     \t| 557004  \t| 1595     \t| 156350   \t| 1621    \t| 150094  \t| 4267868  \t| 4267868 \t| 2376         \t| 98.531         \t| 0.39359 \t| 0.00860 \t| /powerplant/workspace/hraijc/HiC_trials/HiC23/Assemblies/Crodergsii_HiFi130423_purged.fa                      \t|\n",
    "| 226         \t| 3002      \t| 884284965 \t| 883750474 \t| 0.060   \t| 7        \t| 40653293 \t| 515     \t| 549938  \t| 17       \t| 31167351 \t| 1661    \t| 146243  \t| 92137127 \t| 4267868 \t| 123          \t| 99.762         \t| 0.39359 \t| 0.01995 \t| /powerplant/workspace/hraijc/HiC_trials/HiC23/NovaSeq/Urchin/Crodergsii_HiC070623_yahs_5K_scaffolds_final.fa  \t|\n",
    "| 337         \t| 3002      \t| 884262765 \t| 883750474 \t| 0.058   \t| 9        \t| 39820943 \t| 515     \t| 549938  \t| 18       \t| 32836090 \t| 1661    \t| 146243  \t| 76945733 \t| 4267868 \t| 167          \t| 99.575         \t| 0.39359 \t| 0.01835 \t| /powerplant/workspace/hraijc/HiC_trials/HiC23/NovaSeq/Urchin/Crodergsii_HiC070623_yahs_10K_scaffolds_final.fa \t|\n",
    "| 620         \t| 3002      \t| 884206165 \t| 883750474 \t| 0.052   \t| 9        \t| 39310224 \t| 515     \t| 549938  \t| 19       \t| 27936322 \t| 1661    \t| 146243  \t| 98960227 \t| 4267868 \t| 253          \t| 98.885         \t| 0.39359 \t| 0.01624 \t| /powerplant/workspace/hraijc/HiC_trials/HiC23/NovaSeq/Urchin/Crodergsii_HiC070623_yahs_20K_scaffolds_final.fa \t|\n",
    "|"
   ]
  },
  {
   "cell_type": "markdown",
   "id": "f65397fa-4d20-47ee-86e1-d5707d6e798d",
   "metadata": {},
   "source": [
    "## Appendix\n",
    "\n",
    "The dataset was passed through PFR's HiC-Scaffolding-Pipeline.\n",
    "\n",
    "To do it yourself see below:\n"
   ]
  },
  {
   "cell_type": "code",
   "execution_count": null,
   "id": "5d4781ae-1084-4f63-9753-ad3acf13a94f",
   "metadata": {},
   "outputs": [],
   "source": [
    "#Set Variables\n",
    "SPDIR=${WKDIR}/Karaka\n",
    "mkdir -p $SPDIR\n",
    "ASSEMBLY=${GENOMEDIR}/karaka_phasing.hic.hap1.p_ctg.fasta\n",
    "APREFIX=Karaka_hic\n",
    "HiC_RAW=${HiCDIR}/Karaka-5-Hi-C_S3_L001_R\n",
    "READ1=${HiC_RAW}1_001.fastq.gz\n",
    "READ2=${HiC_RAW}2_001.fastq.gz\n",
    "TEMP=${WKDIR}/TEMP"
   ]
  },
  {
   "cell_type": "code",
   "execution_count": null,
   "id": "1a5890aa-68c8-4af1-8a68-46297ad549bc",
   "metadata": {},
   "outputs": [],
   "source": [
    "#Run HiC workflow\n",
    "\n",
    "sbatch << EOF\n",
    "#!/bin/bash\n",
    "#SBATCH -J hic\n",
    "#SBATCH -o ${WKDIR}/log/%J.out\n",
    "#SBATCH -e ${WKDIR}/log/%J.err\n",
    "#SBATCH --cpus-per-task=12\n",
    "#SBATCH --mem=10G\n",
    "#SBATCH --time=5:00:00\n",
    "\n",
    "module load bwa/0.7.17\n",
    "module load samtools/1.16\n",
    "module load conda\n",
    "module load fastp/0.23.2\n",
    "\n",
    "\n",
    "### Clean HiC Reads with fastp.###\n",
    "fastp \\\n",
    "-i ${READ1} \\\n",
    "-o ${HiC_CLEAN}/${APREFIX}_Clean_R1.fastq.gz \\\n",
    "-I ${READ2} \\\n",
    "-O ${HiC_CLEAN}/${APREFIX}_Clean_R2.fastq.gz \\\n",
    "#--trim_front1 15 \\ # Legacy cleaning parameter. Don't think it improves output. \n",
    "#--trim_front2 15 \\\n",
    "--qualified_quality_phred 20 \\\n",
    "--length_required 50 \\\n",
    "--thread 12\n",
    "\n",
    "\n",
    "###Align reads with BWA. Use -5SP for Hi-C reads.###\n",
    "bwa index $ASSEMBLY\n",
    "bwa mem -5SP -t12 ${ASSEMBLY} ${HiC_CLEAN}/${APREFIX}_Clean_R1.fastq.gz ${HiC_CLEAN}/${APREFIX}_Clean_R2.fastq.gz -o ${TEMP}/${APREFIX}.sam\n",
    "\n",
    "\n",
    "\n",
    "###Flag PCR Duplicates with SAMBLASTER###\n",
    "/workspace/hraijc/git_clones/samblaster/samblaster -i ${TEMP}/${APREFIX}.sam -o ${TEMP}/${APREFIX}_marked_byread.sam\n",
    "\n",
    "\n",
    "\n",
    "### Remove unmmaped and non-primary aligned reads. Sort and Index bam files.### \n",
    "samtools view -S -b -h -@ 12 -F 2316 ${TEMP}/${APREFIX}_marked_byread.sam > ${TEMP}/${APREFIX}_presort_marked.bam\n",
    "\n",
    "samtools sort -@ 12 ${TEMP}/${APREFIX}_presort_marked.bam -o ${APREFIX}_marked.bam\n",
    "samtools sort -@ 12 -n ${TEMP}/${APREFIX}_presort_marked.bam -o ${APREFIX}_marked_namesort.bam\n",
    "\n",
    "samtools view -b -h -@ 12 -F 3340 ${APREFIX}_marked.bam > ${TEMP}/${APREFIX}_presort_marked.bam \n",
    "\n",
    "samtools sort -@ 12 ${TEMP}/${APREFIX}_presort_marked.bam -o ${APREFIX}_dedup.bam\n",
    "#samtools sort -@ 12 -n ${TEMP}/${APREFIX}_presort_marked.bam -o ${APREFIX}_dedup_namesort.bam\n",
    "\n",
    "#samtools index -@ 12 ${APREFIX}_marked.bam \n",
    "\n",
    "samtools index -@ 12 ${APREFIX}_dedup.bam \n",
    "\n",
    "#samtools flagstat -@ 12 ${APREFIX}_marked.bam > flagstat.txt\n",
    "samtools flagstat -@ 12 ${APREFIX}_dedup.bam  > flagstat_dedup.txt\n",
    "\n",
    "\n",
    "### HiC QC from Phase genomics ###\n",
    "conda activate hraijc_hic_qc2\n",
    "python /workspace/hraijc/git_clones/hic_qc/hic_qc.py -n -1 -b ${APREFIX}_marked_namesort.bam --outfile_prefix ${APREFIX}_marked\n",
    "python /workspace/hraijc/git_clones/hic_qc/hic_qc.py -n -1 -b ${APREFIX}_dedup_namesort.bam --outfile_prefix ${APREFIX}_dedup\n",
    "\n",
    "conda deactivate\n",
    "\n",
    "\n",
    "## Viz HiC Coverage #####\n",
    "#/home/hraijc/.local/bin/plotCoverage -b ${APREFIX}_marked.bam --plotFile example_coverage -n 100000 -o HiC_Coverage_allreads.png --labels ${APREFIX} --plotTitle \"HiC_Coverage all reads\" \n",
    "#/home/hraijc/.local/bin/plotCoverage -b ${APREFIX}_dedup.bam --plotFile example_coverage -n 100000 -o HiC_Coverage_unique_reads.png --labels ${APREFIX} --plotTitle \"HiC_Coverage PCR duplicates removed\" \n",
    "\n",
    "\n",
    "### Run YAHS ###\n",
    "###SEE ABOVE\n",
    "\n",
    "\n",
    "EOF\n"
   ]
  },
  {
   "cell_type": "code",
   "execution_count": null,
   "id": "23ad400f-744f-47d2-b9e4-95b42688adda",
   "metadata": {},
   "outputs": [],
   "source": []
  }
 ],
 "metadata": {
  "kernelspec": {
   "display_name": "Bash",
   "language": "bash",
   "name": "bash"
  },
  "language_info": {
   "codemirror_mode": "shell",
   "file_extension": ".sh",
   "mimetype": "text/x-sh",
   "name": "bash"
  }
 },
 "nbformat": 4,
 "nbformat_minor": 5
}
