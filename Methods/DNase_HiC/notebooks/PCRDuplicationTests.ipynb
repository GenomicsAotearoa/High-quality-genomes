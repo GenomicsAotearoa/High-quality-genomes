{
 "cells": [
  {
   "cell_type": "markdown",
   "id": "a0a97287-56a1-4878-a2cd-d39d6ee9edb7",
   "metadata": {},
   "source": [
    "# PCR duplication tests\n",
    "\n",
    "Some of our HiC libraries have very high PCR duplication rates, presumably due to low complexity libraries generated from very small ammounts of intra-molecular ligated chromatin (IMLC).\n",
    "\n",
    "We normally run a MiSeq on the libraries to check the quality of the HiC library but this will vastly underestimate the PCR duplication rate. It does give us a good idea of the distribution of readpairs, and accurately estimates the percent of readpairs that are valid (intercontig or >10kb appart.\n",
    "\n",
    "Can we estimate PCR duplication rates from a small subsample of HiC reads? (or any library prep)\n",
    "\n",
    "### Method\n",
    "\n",
    "Two libraries: A good one with low PCR duplication rates (kiwifruit) and a bad one with high PCR duplication rates (92%) will be used in this test. \n",
    "\n",
    "The cleaned HiC reads will be mapped to the genome and then the sam files will be subsampled. The subsampled sam files will then be fed into samblaster to flag PCR duplicates. After this a samtools flagstat will tell us the PCR duplication rate. \n",
    "\n",
    "Then plot these results to see if there is a predicatable relationship betwween # of reads and PCR duplication rate. \n",
    "\n",
    "\n",
    "Number of reads in each dataset:\n",
    "- Rasp-826,802,162\n",
    "- Kiwi-1,944,174,986\n",
    "\n",
    "\n",
    "| FileName       \t| NumPairs  \t| NumReads  \t| Kiwi        \t| Rasp        \t|\n",
    "|----------------\t|-----------\t|-----------\t|-------------\t|-------------\t|\n",
    "| Starting Reads \t|           \t|           \t| 1944174986  \t| 826802162   \t|\n",
    "| 400M           \t| 400000000 \t| 800000000 \t| 0.411485595 \t| 0.967583343 \t|\n",
    "| 250M           \t| 250000000 \t| 500000000 \t| 0.257178497 \t| 0.604739589 \t|\n",
    "| 125M           \t| 125000000 \t| 250000000 \t| 0.128589248 \t| 0.302369795 \t|\n",
    "| 50M            \t| 50000000  \t| 100000000 \t| 0.051435699 \t| 0.120947918 \t|\n",
    "| 25M            \t| 25000000  \t| 50000000  \t| 0.02571785  \t| 0.060473959 \t|\n",
    "| 5M             \t| 5000000   \t| 10000000  \t| 0.00514357  \t| 0.012094792 \t|\n",
    "| 2.5M           \t| 2500000   \t| 5000000   \t| 0.002571785 \t| 0.006047396 \t|\n",
    "| 1.5M           \t| 1500000   \t| 3000000   \t| 0.001543071 \t| 0.003628438 \t|\n",
    "| 1M             \t| 1000000   \t| 2000000   \t| 0.001028714 \t| 0.002418958 \t|\n",
    "| 0.5M           \t| 500000    \t| 1000000   \t| 0.000514357 \t| 0.001209479 \t|\n",
    "| 0.25M          \t| 250000    \t| 500000    \t| 0.000257178 \t| 0.00060474  \t|\n"
   ]
  },
  {
   "cell_type": "code",
   "execution_count": 5,
   "id": "dfd6061b-0201-4dd6-b1c7-9b8ab78fa2fb",
   "metadata": {},
   "outputs": [],
   "source": [
    "# Set up\n",
    "\n",
    "WKDIR=/workspace/hraijc/HiC_trials/duptest\n",
    "KIWISAM=${WKDIR}/Kiwifruit_HiC.sam\n",
    "RASSAM=${WKDIR}/Wakefield_HiC.sam\n",
    "\n",
    "\n",
    "\n",
    "mkdir -p $WKDIR/log\n",
    "cd $WKDIR\n",
    "\n"
   ]
  },
  {
   "cell_type": "code",
   "execution_count": 7,
   "id": "246bb8c2-7cf0-43f8-81ca-c40114f5e6d4",
   "metadata": {},
   "outputs": [],
   "source": [
    "#Symlink the input files.\n",
    "#ln -s /workspace/hraijc/Raspberry/Wakefield_genomeV2/V2.2/temp/Wakefield_flye20_pilon1_purged.sam ${RASSAM}\n",
    "#ln -s /workspace/hraijc/Kiwi/Ck69_01_monoploid/HiC8_Novaseq/Scratch_Files/CK69_01_v2_contigs_HiC8_min1kb.sam ${KIWISAM}\n"
   ]
  },
  {
   "cell_type": "code",
   "execution_count": null,
   "id": "bf29ddde-37b1-4972-9dc4-750b90d6e8fa",
   "metadata": {},
   "outputs": [],
   "source": []
  },
  {
   "cell_type": "code",
   "execution_count": 54,
   "id": "254c7b3f-e9d4-484f-9506-21e41609ee81",
   "metadata": {},
   "outputs": [
    {
     "name": "stdout",
     "output_type": "stream",
     "text": [
      "Submitted batch job 951229\n"
     ]
    }
   ],
   "source": [
    "#Flagstat starting files.\n",
    "sbatch << EOF\n",
    "#!/bin/bash\n",
    "#SBATCH -J Flagstat\n",
    "#SBATCH -o ${WKDIR}/log/%J.out\n",
    "#SBATCH -e ${WKDIR}/log/%J.err\n",
    "#SBATCH --cpus-per-task=12\n",
    "#SBATCH --mem=1G\n",
    "#SBATCH --time=5:00:00\n",
    "\n",
    "module load samtools/1.16\n",
    "\n",
    "\n",
    "samtools flagstat -@ 12 /workspace/hraijc/Kiwi/Ck69_01_monoploid/HiC8_Novaseq/CK69_01_v2_HiC8_dedup.bam > Kiwifruit_HiC_all_flagstat.txt\n",
    "samtools flagstat -@ 12 /workspace/hraijc/Raspberry/Wakefield_genomeV2/V2.2/Wakefield_flye20_pilon1_purged_marked.bam > Wakefield_HiC_all_flagstat.txt\n",
    "\n",
    "EOF"
   ]
  },
  {
   "cell_type": "code",
   "execution_count": 63,
   "id": "2639c5b7-e7b6-4a8b-92cc-2ee64e289aa5",
   "metadata": {},
   "outputs": [
    {
     "name": "stdout",
     "output_type": "stream",
     "text": [
      "/workspace/hraijc/HiC_trials/duptest/Kiwifruit_HiC.sam\n"
     ]
    }
   ],
   "source": [
    "\n",
    "\n",
    "\n"
   ]
  },
  {
   "cell_type": "code",
   "execution_count": 6,
   "id": "f3440751-e3e6-4e0e-be5e-508eccb5756a",
   "metadata": {},
   "outputs": [
    {
     "name": "stdout",
     "output_type": "stream",
     "text": [
      "SBATCH_ARGS: --time 20:10:00 --cpus-per-task=12 --mem 30G\n",
      "JOB_ARRAY_NAME: /workspace/hraijc/HiC_trials/duptest/log/subtest\n",
      "GROUP_SIZE: 3\n",
      "NUM_COMMANDS: 66\n",
      "ARRAY_SIZE: 22\n",
      "Submitted batch job 953271\n"
     ]
    }
   ],
   "source": [
    "\n",
    "module load samtools/1.16\n",
    "\n",
    "for SAM in {$KIWISAM,$RASSAM}     #Loop through input files\n",
    "do\n",
    "    PREFIX=$(basename $SAM)\n",
    "    APREFIX=${PREFIX%.sam}\n",
    "    for (( i=1; i<=11; i++ ))      #Loop through each line in table above to look for percent of sam file to subsample\n",
    "    do\n",
    "        RI=$(( ( RANDOM % 100 ) + 1)) #Generate random number between 1-100\n",
    "        PREFILENAME=$(head -n $i Filenames.txt | tail -n 1) # Get the filename from the filenames list\n",
    "        FILENAME=${PREFILENAME//[$'\\t\\r\\n']} && FILENAME=${FILENAME%%*( )} # Remove newlines from variable #Ugly\n",
    "        PRESUB=$(head -n $i ${APREFIX}_subsample_list.txt | tail -n 1) #Get the correct substitution value from file named after organism.\n",
    "        SUB=${PRESUB//[$'\\t\\r\\n']} && FILENAME=${FILENAME%%*( )} # Remove newlines from variable #Ugly\n",
    "        OPREFIX=${APREFIX}_${FILENAME} #Make outfile name prefix.\n",
    "        echo \"samtools view -@ 12 -h -s ${RI}.${SUB} ${SAM} -o ${OPREFIX}.sam\"\n",
    "        echo \"/workspace/hraijc/git_clones/samblaster/samblaster -i ${OPREFIX}.sam -o ${OPREFIX}_marked_byread.sam\"\n",
    "        echo \"samtools flagstat -@ 12 ${OPREFIX}_marked_byread.sam > ${OPREFIX}_flagstat.txt\"\n",
    "    done \n",
    "done | abatch -j ${WKDIR}/log/subtest -g 3 --time 20:10:00 --cpus-per-task=12 --mem 30G | sbatch\n"
   ]
  },
  {
   "cell_type": "code",
   "execution_count": null,
   "id": "d1513687-c895-4eb8-acd9-2570465def67",
   "metadata": {},
   "outputs": [],
   "source": []
  },
  {
   "cell_type": "code",
   "execution_count": null,
   "id": "99b6d278-d853-4a49-98f4-d02a319ea536",
   "metadata": {},
   "outputs": [],
   "source": []
  },
  {
   "cell_type": "code",
   "execution_count": 7,
   "id": "1febd702-bc6b-4173-a951-2c2fc3171239",
   "metadata": {},
   "outputs": [],
   "source": [
    "#Samtools flagstat reader\n",
    " \n",
    "echo \"File,Reads,Duplicates,Mapped\" > flag_results.csv\n",
    "\n",
    "for FLAG in *flagstat.txt\n",
    "do\n",
    "    READS=$(grep \"total\" $FLAG | cut -d ' ' -f1)\n",
    "    DUPS=$(grep \"duplicates\" $FLAG | head -n 1 | cut -d ' ' -f1)\n",
    "    MAPS=$(grep \"mapped\" $FLAG | head -n 1 | cut -d ' ' -f1)\n",
    "\n",
    "    echo \"$FLAG,$READS,$DUPS,$MAPS\" >> flag_results.csv\n",
    "done"
   ]
  },
  {
   "cell_type": "code",
   "execution_count": 47,
   "id": "6e6f7c2e-6a5e-4fc5-a294-f56d81d03f0e",
   "metadata": {},
   "outputs": [
    {
     "name": "stdout",
     "output_type": "stream",
     "text": [
      "Kiwifruit_HiC_100_flagstat.txt\ttest_flagstat.txt\n"
     ]
    }
   ],
   "source": []
  },
  {
   "cell_type": "code",
   "execution_count": null,
   "id": "a8c5f13b-830b-4e3e-ab5e-bd8df89bcfbe",
   "metadata": {},
   "outputs": [],
   "source": []
  }
 ],
 "metadata": {
  "kernelspec": {
   "display_name": "Bash",
   "language": "bash",
   "name": "bash"
  },
  "language_info": {
   "codemirror_mode": "shell",
   "file_extension": ".sh",
   "mimetype": "text/x-sh",
   "name": "bash"
  }
 },
 "nbformat": 4,
 "nbformat_minor": 5
}
