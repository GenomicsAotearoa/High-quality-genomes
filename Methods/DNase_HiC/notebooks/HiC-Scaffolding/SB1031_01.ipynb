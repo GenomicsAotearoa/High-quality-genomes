{
 "cells": [
  {
   "cell_type": "code",
   "execution_count": 11,
   "id": "ba71a204-7be3-4a02-94f0-37af81cda5bb",
   "metadata": {},
   "outputs": [],
   "source": [
    "#Set Up\n",
    "WKDIR=/workspace/hraijc/HiC_trials/HiC23/NovaSeq/SB1031\n",
    "\n",
    "mkdir -p $WKDIR/log\n",
    "cd $WKDIR"
   ]
  },
  {
   "cell_type": "code",
   "execution_count": 1,
   "id": "624547f4-3aeb-4412-beb4-1052dc54bddb",
   "metadata": {},
   "outputs": [],
   "source": []
  },
  {
   "cell_type": "code",
   "execution_count": null,
   "id": "b759acb6-3d90-4671-8834-3081a44c5471",
   "metadata": {},
   "outputs": [],
   "source": []
  },
  {
   "cell_type": "code",
   "execution_count": null,
   "id": "b1343a9a-66ec-47eb-ae47-b8f4dc3c8219",
   "metadata": {},
   "outputs": [],
   "source": [
    "/workspace/hraijc/HiC_trials/HiC23/Assemblies/SB1031"
   ]
  },
  {
   "cell_type": "code",
   "execution_count": 4,
   "id": "943634db-83ba-4535-af42-ab79c841a029",
   "metadata": {},
   "outputs": [],
   "source": [
    "#IN INTERACTIVE SESSION:\n",
    "#Use Srun not Salloc\n",
    "\"\"\"\n",
    "srun --time 01:00:00 --cpus-per-task 1 --mem-per-cpu 4G --pty bash\n",
    "cd $WKDIR\n",
    "git clone git@github.com:ignacio3437/hic-scaffolding-pipeline.git\n",
    "cd ${WKDIR}/hic-scaffolding-pipeline/\n",
    "git checkout dev\n",
    "cd ${WKDIR}/hic-scaffolding-pipeline/containers\n",
    "sudo -E singularity build pipeline_container.sif pipeline_container.def\n",
    "\n",
    "\"\"\""
   ]
  },
  {
   "cell_type": "code",
   "execution_count": 1,
   "id": "467108ec-8482-416e-8dfd-f014d2c554b1",
   "metadata": {},
   "outputs": [
    {
     "name": "stdout",
     "output_type": "stream",
     "text": [
      "/input/genomic/plant/Actinidia/chinensis/ExperimentRequestor11022/AGRF_CAGRF230414403_HFFHYDSX7/Grape_1031_HFFHYDSX7_CACGAT_L002_R1.fastq.gz\n",
      "/input/genomic/plant/Actinidia/chinensis/ExperimentRequestor11022/AGRF_CAGRF230414403_HFFHYDSX7/Grape_1031_HFFHYDSX7_CACGAT_L002_R2.fastq.gz\n",
      "/input/genomic/plant/Actinidia/chinensis/ExperimentRequestor11022/AGRF_CAGRF230414403_HFFHYDSX7/Grape_1031_HFFHYDSX7_CACGAT_L003_R1.fastq.gz\n",
      "/input/genomic/plant/Actinidia/chinensis/ExperimentRequestor11022/AGRF_CAGRF230414403_HFFHYDSX7/Grape_1031_HFFHYDSX7_CACGAT_L003_R2.fastq.gz\n"
     ]
    }
   ],
   "source": [
    "# RAW Hi-C Data\n",
    "ls /input/genomic/plant/Actinidia/chinensis/ExperimentRequestor11022/AGRF_CAGRF230414403_HFFHYDSX7/Grape_1031_HFFHYDSX7*"
   ]
  },
  {
   "cell_type": "code",
   "execution_count": 3,
   "id": "cdfb73e5-7ca3-4123-933d-5b957fbcb210",
   "metadata": {
    "tags": []
   },
   "outputs": [
    {
     "name": "stdout",
     "output_type": "stream",
     "text": [
      "Submitted batch job 1948299\n"
     ]
    }
   ],
   "source": [
    "#Combine Reads from flowcells\n",
    "\n",
    "sbatch << EOF\n",
    "#!/bin/bash\n",
    "#SBATCH -J cat\n",
    "#SBATCH --cpus-per-task=1\n",
    "#SBATCH --mem=1G\n",
    "#SBATCH --time=1:00:00\n",
    "#SBATCH -o ${WKDIR}/log/%J.out\n",
    "#SBATCH -e ${WKDIR}/log/%J.err\n",
    "\n",
    "\n",
    "\n",
    "cd /input/genomic/plant/Actinidia/chinensis/ExperimentRequestor11022/AGRF_CAGRF230414403_HFFHYDSX7\n",
    "date\n",
    "cat Grape_1031_HFFHYDSX7_CACGAT_L002_R1.fastq.gz Grape_1031_HFFHYDSX7_CACGAT_L003_R1.fastq.gz > /workspace/hraijc/TEMP/SB1031_HiC23_R1.fastq.gz\n",
    "cat Grape_1031_HFFHYDSX7_CACGAT_L002_R2.fastq.gz Grape_1031_HFFHYDSX7_CACGAT_L003_R2.fastq.gz > /workspace/hraijc/TEMP/SB1031_HiC23_R2.fastq.gz\n",
    "date\n",
    "\n",
    "\n",
    "\n",
    "\n",
    "EOF\n"
   ]
  },
  {
   "cell_type": "code",
   "execution_count": 12,
   "id": "af742cf4-c94a-460a-bb53-8acc8d0c907a",
   "metadata": {
    "tags": []
   },
   "outputs": [
    {
     "name": "stdout",
     "output_type": "stream",
     "text": [
      "includeConfig './conf/base.config'\n",
      "\n",
      "params {\n",
      "\n",
      "    // R1, R2 dataset\n",
      "    reads_R1                = \"/workspace/hraijc/HiC_trials/HiC23/NovaSeq/SB1031/TEMP/SB1031_hic1_umap_R1.fastq.gz\"\n",
      "    reads_R2                = \"/workspace/hraijc/HiC_trials/HiC23/NovaSeq/SB1031/TEMP/SB1031_hic1_umap_R2.fastq.gz\"\n",
      "\n",
      "    // Assembly file\n",
      "    assembly_fasta          = \"/workspace/hraijc/HiC_trials/HiC23/Assemblies/SB1031/SB1031_duplex_Q20_50kb_plushic.hic.purged.fa\" // SALSA requires fasta to not contain \":\" character\n",
      "\n",
      "    // Prefix for output files\n",
      "    out_prefix              = \"SB1031_hic2\"\n",
      "\n",
      "    //STAG 1 \n",
      "    stop_at_hicqc           = false\n",
      "\n",
      "    //STAG 2: Include one specific scaffolder, report included\n",
      "    only_run_yahs           = false\n",
      "    only_run_salsa2         = false\n",
      "    only_run_allhic         = false\n",
      "    only_run_3D_DNA         = false\n",
      "    \n",
      "\n",
      "    /* https://github.com/c-zhou/yahs\n",
      "    yahs_params{\n",
      "        scaffolding_with_agp_file       = \"\" // for exmple: -a\n",
      "        resolution                      = \"\" // for exmple: -r\n",
      "        enzyme                          = \"\" // for exmple: -e GATC\n",
      "        min_contig_len                  = \"\" // for exmple: -l\n",
      "        skip_assembly_error_correction  = \"\" // for example: --no-contig-ec\n",
      "        skip_scaffolding_error_check    = \"\" // for example: --no-scaffold-ec\n",
      "        diable_runtime_memory_check     = \"\" // for example: --no-mem-check\n",
      "    }\n",
      "    */\n",
      "\n",
      "    /*\n",
      "    salsa2_params{\n",
      "        \n",
      "    }\n",
      "    */\n",
      "\n",
      "\n",
      "    yahs_params             = \"-l 10000 -q 20 --no-mem-check\"\n",
      "    salsa2_params           = \"-e DNASE -s 493000000  -i 3 -m no\"\n",
      "    allhic_params {\n",
      "        no_of_chrs          = 19\n",
      "    }\n",
      "    \n",
      "    threeddna_params        = \"\"\n",
      "\n",
      "    //STAG 2: No scaffolding at all, fastqc report, hic_qc report and final hic heatmap. \n",
      "    skip_scaffolding_step  = false\n",
      "    \n",
      "    heatmap_resolution      = \"250000\"\n",
      "\n",
      "\n",
      "    //STAG 3: Scaffolders Benchmarking\n",
      "\n",
      "    tidk {        \n",
      "        // http://telomerase.asu.edu/sequences_telomere.html\n",
      "        // Plant: TTTAGGG, Fungus, Vertebrates: TTAGGG, Insect: TTAGG\n",
      "        repeat_seq          = \"TTTAGGG\"\n",
      "    }\n",
      "\n",
      "\n",
      "    should_email            = false\n",
      "    email                   = \"First.Last@plantandfood.co.nz\"\n",
      "\n",
      "    // Without a storage server, the HIC SCAFFOLDING REPORT process cannot\n",
      "    // load hic files for presentation.\n",
      "    // If a storage server is not available, set the below 'storage_server' variable to null.\n",
      "    // This will store all the individual results in the hic_scaffolding_report\n",
      "    // folder but will not curate them into a single HTML report.\n",
      "    storage_server          = \"https://storage.powerplant.pfr.co.nz\"\n",
      "    // Results folder\n",
      "    // All the results are stored under 'results' directory inside the\n",
      "    // directory from which the pipeline is launched.\n",
      "}\n",
      "\n",
      "includeConfig './conf/compiled.config'"
     ]
    }
   ],
   "source": [
    "# Modify Config file\n",
    "\n",
    "cat ${WKDIR}/hic-scaffolding-pipeline/nextflow.config"
   ]
  },
  {
   "cell_type": "code",
   "execution_count": 10,
   "id": "282ba07b-ca7d-4484-ae00-9bde368efa49",
   "metadata": {},
   "outputs": [
    {
     "name": "stdout",
     "output_type": "stream",
     "text": [
      "Submitted batch job 1950039\n"
     ]
    }
   ],
   "source": [
    "# Run\n",
    "\n",
    "sbatch << EOF\n",
    "#!/bin/bash -e\n",
    "\n",
    "#SBATCH -J hic_pipeline_${USER}\n",
    "#SBATCH --time=167:00:00\n",
    "#SBATCH --nodes=1\n",
    "#SBATCH --ntasks=1\n",
    "#SBATCH --cpus-per-task=1\n",
    "#SBATCH -o ${WKDIR}/log/%J.out\n",
    "#SBATCH -e ${WKDIR}/log/%J.err\n",
    "#SBATCH --mem=4G\n",
    "\n",
    "ml nextflow/22.10.4\n",
    "ml apptainer/1.1\n",
    "\n",
    "cd ${WKDIR}/hic-scaffolding-pipeline\n",
    "\n",
    "srun nextflow main.nf -resume\n",
    "EOF\n",
    "\n",
    "\n",
    "\n"
   ]
  },
  {
   "cell_type": "code",
   "execution_count": null,
   "id": "adcacdaa-a6fa-4e1a-93dd-864eeecce3b7",
   "metadata": {},
   "outputs": [],
   "source": []
  },
  {
   "cell_type": "code",
   "execution_count": null,
   "id": "0a1d54d0-1306-4422-a0e1-dc1835f10cc0",
   "metadata": {},
   "outputs": [],
   "source": []
  },
  {
   "cell_type": "markdown",
   "id": "69d1ac2d-2996-455d-9336-d3442a9e6c71",
   "metadata": {},
   "source": [
    "## Subset mapped unique reads from HiC scaffolding pipeline above to speed things up in the future."
   ]
  },
  {
   "cell_type": "code",
   "execution_count": null,
   "id": "85515f6b-415a-4306-8c95-3004586620e5",
   "metadata": {},
   "outputs": [],
   "source": [
    "#ln -s /workspace/hraijc/HiC_trials/HiC23/NovaSeq/SB1031/hic-scaffolding-pipeline/work/a2/1f3e4a5d328922b544d4616e2f8ef5/SB1031_hic1_dedup.bam /workspace/hraijc/HiC_trials/HiC23/NovaSeq/SB1031/TEMP/"
   ]
  },
  {
   "cell_type": "code",
   "execution_count": 5,
   "id": "e612ea9b-1a10-4069-935f-ec4dfcdea79c",
   "metadata": {},
   "outputs": [],
   "source": [
    "BAMFILE=/workspace/hraijc/HiC_trials/HiC23/NovaSeq/SB1031/TEMP/SB1031_hic1_dedup.bam\n",
    "WKDIR=/workspace/hraijc/HiC_trials/HiC23/NovaSeq/SB1031/\n",
    "OUTPREFIX=SB1031_hic1_umap"
   ]
  },
  {
   "cell_type": "code",
   "execution_count": 6,
   "id": "dcad86cd-6115-42fa-a2ca-d96e3b2bf35c",
   "metadata": {},
   "outputs": [
    {
     "name": "stdout",
     "output_type": "stream",
     "text": [
      "Submitted batch job 1950277\n"
     ]
    }
   ],
   "source": [
    "##############\n",
    "# Subset HiC reads to keep unique mapped reads only. speed up analysis for future iterations.\n",
    "\n",
    "##############\n",
    "\n",
    "cd ${WKDIR}/TEMP\n",
    "\n",
    "sbatch << EOF\n",
    "#!/bin/bash\n",
    "#SBATCH -J samtoolsfastq\n",
    "#SBATCH -o ${WKDIR}/log/%J.out\n",
    "#SBATCH -e ${WKDIR}/log/%J.err\n",
    "#SBATCH --cpus-per-task=8\n",
    "#SBATCH --mem=12G\n",
    "#SBATCH --time=12:00:00\n",
    "\n",
    "cd ${WKDIR}\n",
    "\n",
    "module load samtools \n",
    "\n",
    "samtools view -h -b -@ 8 -F 3340 ${BAMFILE} | samtools sort -@ 8 -n | samtools fastq -@ 8 -1 ${OUTPREFIX}_R1.fastq.gz -2 ${OUTPREFIX}_R2.fastq.gz -0 /dev/null -s /dev/null -n\n",
    "\n",
    "\n",
    "\n",
    "EOF"
   ]
  },
  {
   "cell_type": "code",
   "execution_count": 1,
   "id": "14f78cfc-907d-4c28-83a5-48f03565706e",
   "metadata": {},
   "outputs": [
    {
     "name": "stdout",
     "output_type": "stream",
     "text": [
      "Job ID: 1950277\n",
      "Cluster: powerplant\n",
      "User/Group: hraijc/hraijc\n",
      "State: COMPLETED (exit code 0)\n",
      "Nodes: 1\n",
      "Cores per node: 8\n",
      "CPU Utilized: 09:52:29\n",
      "CPU Efficiency: 93.22% of 10:35:36 core-walltime\n",
      "Job Wall-clock time: 01:19:27\n",
      "Memory Utilized: 6.72 GB\n",
      "Memory Efficiency: 55.99% of 12.00 GB\n"
     ]
    }
   ],
   "source": [
    "seff 1950277"
   ]
  },
  {
   "cell_type": "markdown",
   "id": "5cecff7d-3d46-4cff-927c-8fbae72954d2",
   "metadata": {},
   "source": [
    "## Hi-C Scaffolding 2. Running full pipeline on subset of Hi-C reads that mapped and are unique."
   ]
  },
  {
   "cell_type": "code",
   "execution_count": 1,
   "id": "0e3a72f6-2dfa-47ec-9aad-87ea23d71dbe",
   "metadata": {},
   "outputs": [],
   "source": [
    "#Set Up\n",
    "WKDIR=/workspace/hraijc/HiC_trials/HiC23/NovaSeq/SB1031\n",
    "\n",
    "mkdir -p $WKDIR/log\n",
    "cd $WKDIR"
   ]
  },
  {
   "cell_type": "code",
   "execution_count": 2,
   "id": "6c443e9e-1d04-40d4-9b95-623a7caf58b8",
   "metadata": {},
   "outputs": [
    {
     "name": "stdout",
     "output_type": "stream",
     "text": [
      "Submitted batch job 1953196\n"
     ]
    }
   ],
   "source": [
    "# Run\n",
    "\n",
    "sbatch << EOF\n",
    "#!/bin/bash -e\n",
    "\n",
    "#SBATCH -J hic_pipeline_${USER}\n",
    "#SBATCH --time=167:00:00\n",
    "#SBATCH --nodes=1\n",
    "#SBATCH --ntasks=1\n",
    "#SBATCH --cpus-per-task=1\n",
    "#SBATCH -o ${WKDIR}/log/%J.out\n",
    "#SBATCH -e ${WKDIR}/log/%J.err\n",
    "#SBATCH --mem=4G\n",
    "\n",
    "ml nextflow/22.10.4\n",
    "ml apptainer/1.1\n",
    "\n",
    "cd ${WKDIR}/hic-scaffolding-pipeline\n",
    "\n",
    "srun nextflow main.nf -resume\n",
    "EOF\n",
    "\n",
    "\n"
   ]
  },
  {
   "cell_type": "code",
   "execution_count": 8,
   "id": "864dca81-308e-495b-afa4-21733224c501",
   "metadata": {},
   "outputs": [],
   "source": [
    "WKDIR=/workspace/hraijc/HiC_trials/HiC23/NovaSeq/SB1031/hic-scaffolding-pipeline/work/50/466373aa171544a40475edde4b1d93\n",
    "ASSEMBLY=SB1031_duplex_Q20_50kb_plushic.hic.purged.fa\n",
    "OUT=SB1031_hic2_yahs\n",
    "mkdir -p ${WKDIR}/log"
   ]
  },
  {
   "cell_type": "code",
   "execution_count": 10,
   "id": "37f6a2c8-19a3-4191-87be-8f3aea153da0",
   "metadata": {},
   "outputs": [
    {
     "name": "stdout",
     "output_type": "stream",
     "text": [
      "Submitted batch job 1960327\n"
     ]
    }
   ],
   "source": [
    "# Make heatmap of YAHS output\n",
    "cd ${WKDIR}\n",
    "out=${OUT} # prefix of outfiles produced by YAHS.  \n",
    "contigs=${WKDIR}/${ASSEMBLY} # need to be indexed, i.e., test.fa.gz.fai in same directory\n",
    "wkdir=${WKDIR}\n",
    "\n",
    "\n",
    "sbatch --job-name=hic_mapyahs \\\n",
    "    -o ${WKDIR}/log/%J.out \\\n",
    "    -e ${WKDIR}/log/%J.err \\\n",
    "    --cpus-per-task=8 \\\n",
    "    --mem=12G \\\n",
    "    --time=03:10:00 \\\n",
    "    --export=out=$out,contigs=$contigs,wkdir=$wkdir \\\n",
    "    /workspace/hraijc/Gitrepos/High-quality-genomes/Methods/DNase_HiC/notebooks/yahs_contactmapgen2.sh"
   ]
  },
  {
   "cell_type": "code",
   "execution_count": null,
   "id": "d4720d4f-b480-43f6-9963-8d7c659bb82a",
   "metadata": {},
   "outputs": [],
   "source": []
  }
 ],
 "metadata": {
  "kernelspec": {
   "display_name": "Bash",
   "language": "bash",
   "name": "bash"
  },
  "language_info": {
   "codemirror_mode": "shell",
   "file_extension": ".sh",
   "mimetype": "text/x-sh",
   "name": "bash"
  }
 },
 "nbformat": 4,
 "nbformat_minor": 5
}
