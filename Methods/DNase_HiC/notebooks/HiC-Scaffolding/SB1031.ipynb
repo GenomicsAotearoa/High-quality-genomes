{
 "cells": [
  {
   "cell_type": "code",
   "execution_count": 6,
   "id": "ba71a204-7be3-4a02-94f0-37af81cda5bb",
   "metadata": {},
   "outputs": [],
   "source": [
    "#Set Up\n",
    "WKDIR=/workspace/hraijc/HiC_trials/HiC23/NovaSeq/SB1031\n",
    "\n",
    "mkdir -p $WKDIR/log\n",
    "cd $WKDIR"
   ]
  },
  {
   "cell_type": "code",
   "execution_count": 1,
   "id": "624547f4-3aeb-4412-beb4-1052dc54bddb",
   "metadata": {},
   "outputs": [],
   "source": []
  },
  {
   "cell_type": "code",
   "execution_count": null,
   "id": "b759acb6-3d90-4671-8834-3081a44c5471",
   "metadata": {},
   "outputs": [],
   "source": []
  },
  {
   "cell_type": "code",
   "execution_count": null,
   "id": "b1343a9a-66ec-47eb-ae47-b8f4dc3c8219",
   "metadata": {},
   "outputs": [],
   "source": [
    "/workspace/hraijc/HiC_trials/HiC23/Assemblies/SB1031"
   ]
  },
  {
   "cell_type": "code",
   "execution_count": 4,
   "id": "943634db-83ba-4535-af42-ab79c841a029",
   "metadata": {},
   "outputs": [],
   "source": [
    "#IN INTERACTIVE SESSION:\n",
    "#Use Srun not Salloc\n",
    "\"\"\"\n",
    "srun --time 01:00:00 --cpus-per-task 1 --mem-per-cpu 4G --pty bash\n",
    "cd $WKDIR\n",
    "git clone git@github.com:ignacio3437/hic-scaffolding-pipeline.git\n",
    "cd ${WKDIR}/hic-scaffolding-pipeline/\n",
    "git checkout dev\n",
    "cd ${WKDIR}/hic-scaffolding-pipeline/containers\n",
    "sudo -E singularity build pipeline_container.sif pipeline_container.def\n",
    "\n",
    "\"\"\""
   ]
  },
  {
   "cell_type": "code",
   "execution_count": 1,
   "id": "467108ec-8482-416e-8dfd-f014d2c554b1",
   "metadata": {},
   "outputs": [
    {
     "name": "stdout",
     "output_type": "stream",
     "text": [
      "/input/genomic/plant/Actinidia/chinensis/ExperimentRequestor11022/AGRF_CAGRF230414403_HFFHYDSX7/Grape_1031_HFFHYDSX7_CACGAT_L002_R1.fastq.gz\n",
      "/input/genomic/plant/Actinidia/chinensis/ExperimentRequestor11022/AGRF_CAGRF230414403_HFFHYDSX7/Grape_1031_HFFHYDSX7_CACGAT_L002_R2.fastq.gz\n",
      "/input/genomic/plant/Actinidia/chinensis/ExperimentRequestor11022/AGRF_CAGRF230414403_HFFHYDSX7/Grape_1031_HFFHYDSX7_CACGAT_L003_R1.fastq.gz\n",
      "/input/genomic/plant/Actinidia/chinensis/ExperimentRequestor11022/AGRF_CAGRF230414403_HFFHYDSX7/Grape_1031_HFFHYDSX7_CACGAT_L003_R2.fastq.gz\n"
     ]
    }
   ],
   "source": [
    "# RAW Hi-C Data\n",
    "ls /input/genomic/plant/Actinidia/chinensis/ExperimentRequestor11022/AGRF_CAGRF230414403_HFFHYDSX7/Grape_1031_HFFHYDSX7*"
   ]
  },
  {
   "cell_type": "code",
   "execution_count": 3,
   "id": "cdfb73e5-7ca3-4123-933d-5b957fbcb210",
   "metadata": {
    "tags": []
   },
   "outputs": [
    {
     "name": "stdout",
     "output_type": "stream",
     "text": [
      "Submitted batch job 1948299\n"
     ]
    }
   ],
   "source": [
    "#Combine Reads from flowcells\n",
    "\n",
    "sbatch << EOF\n",
    "#!/bin/bash\n",
    "#SBATCH -J cat\n",
    "#SBATCH --cpus-per-task=1\n",
    "#SBATCH --mem=1G\n",
    "#SBATCH --time=1:00:00\n",
    "#SBATCH -o ${WKDIR}/log/%J.out\n",
    "#SBATCH -e ${WKDIR}/log/%J.err\n",
    "\n",
    "\n",
    "\n",
    "cd /input/genomic/plant/Actinidia/chinensis/ExperimentRequestor11022/AGRF_CAGRF230414403_HFFHYDSX7\n",
    "date\n",
    "cat Grape_1031_HFFHYDSX7_CACGAT_L002_R1.fastq.gz Grape_1031_HFFHYDSX7_CACGAT_L003_R1.fastq.gz > /workspace/hraijc/TEMP/SB1031_HiC23_R1.fastq.gz\n",
    "cat Grape_1031_HFFHYDSX7_CACGAT_L002_R2.fastq.gz Grape_1031_HFFHYDSX7_CACGAT_L003_R2.fastq.gz > /workspace/hraijc/TEMP/SB1031_HiC23_R2.fastq.gz\n",
    "date\n",
    "\n",
    "\n",
    "\n",
    "\n",
    "EOF\n"
   ]
  },
  {
   "cell_type": "code",
   "execution_count": 5,
   "id": "af742cf4-c94a-460a-bb53-8acc8d0c907a",
   "metadata": {
    "tags": []
   },
   "outputs": [
    {
     "name": "stdout",
     "output_type": "stream",
     "text": [
      "includeConfig './conf/base.config'\n",
      "\n",
      "params {\n",
      "\n",
      "    // R1, R2 dataset\n",
      "    reads_R1                = \"/workspace/hraijc/TEMP/SB1031_HiC23_R1.fastq.gz\"\n",
      "    reads_R2                = \"/workspace/hraijc/TEMP/SB1031_HiC23_R2.fastq.gz\"\n",
      "\n",
      "    // Assembly file\n",
      "    assembly_fasta          = \"/workspace/hraijc/HiC_trials/HiC23/Assemblies/SB1031/SB1031_duplex_Q20_50kb_plushic.hic.purged.fa\" // SALSA requires fasta to not contain \":\" character\n",
      "\n",
      "    // Prefix for output files\n",
      "    out_prefix              = \"SB1031_hic1\"\n",
      "\n",
      "    //STAG 1 \n",
      "    stop_at_hicqc           = false\n",
      "\n",
      "    //STAG 2: Include one specific scaffolder, report included\n",
      "    only_run_yahs           = true\n",
      "    only_run_salsa2         = false\n",
      "    only_run_allhic         = false\n",
      "    only_run_3D_DNA         = false\n",
      "    \n",
      "\n",
      "    /* https://github.com/c-zhou/yahs\n",
      "    yahs_params{\n",
      "        scaffolding_with_agp_file       = \"\" // for exmple: -a\n",
      "        resolution                      = \"\" // for exmple: -r\n",
      "        enzyme                          = \"\" // for exmple: -e GATC\n",
      "        min_contig_len                  = \"\" // for exmple: -l\n",
      "        skip_assembly_error_correction  = \"\" // for example: --no-contig-ec\n",
      "        skip_scaffolding_error_check    = \"\" // for example: --no-scaffold-ec\n",
      "        diable_runtime_memory_check     = \"\" // for example: --no-mem-check\n",
      "    }\n",
      "    */\n",
      "\n",
      "    /*\n",
      "    salsa2_params{\n",
      "        \n",
      "    }\n",
      "    */\n",
      "\n",
      "\n",
      "    yahs_params             = \"--no-contig-ec -l 10000 -q 20 --no-mem-check\"\n",
      "    salsa2_params           = \"-e DNASE -s 1000000000  -i 3 -m no\"\n",
      "    allhic_params {\n",
      "        no_of_chrs          = 19\n",
      "    }\n",
      "    \n",
      "    threeddna_params        = \"\"\n",
      "\n",
      "    //STAG 2: No scaffolding at all, fastqc report, hic_qc report and final hic heatmap. \n",
      "    skip_scaffolding_step  = false\n",
      "    \n",
      "    heatmap_resolution      = \"250000\"\n",
      "\n",
      "\n",
      "    //STAG 3: Scaffolders Benchmarking\n",
      "\n",
      "    tidk {        \n",
      "        // http://telomerase.asu.edu/sequences_telomere.html\n",
      "        // Plant: TTTAGGG, Fungus, Vertebrates: TTAGGG, Insect: TTAGG\n",
      "        repeat_seq          = \"TTTAGGG\"\n",
      "    }\n",
      "\n",
      "\n",
      "    should_email            = false\n",
      "    email                   = \"First.Last@plantandfood.co.nz\"\n",
      "\n",
      "    // Without a storage server, the HIC SCAFFOLDING REPORT process cannot\n",
      "    // load hic files for presentation.\n",
      "    // If a storage server is not available, set the below 'storage_server' variable to null.\n",
      "    // This will store all the individual results in the hic_scaffolding_report\n",
      "    // folder but will not curate them into a single HTML report.\n",
      "    storage_server          = \"https://storage.powerplant.pfr.co.nz\"\n",
      "\n",
      "    // Results folder\n",
      "    // All the results are stored under 'results' directory inside the\n",
      "    // directory from which the pipeline is launched.\n",
      "}\n",
      "\n",
      "includeConfig './conf/compiled.config'"
     ]
    }
   ],
   "source": [
    "# Modify Config file\n",
    "\n",
    "cat ${WKDIR}/hic-scaffolding-pipeline/nextflow.config"
   ]
  },
  {
   "cell_type": "code",
   "execution_count": 8,
   "id": "282ba07b-ca7d-4484-ae00-9bde368efa49",
   "metadata": {},
   "outputs": [
    {
     "name": "stdout",
     "output_type": "stream",
     "text": [
      "Submitted batch job 1948302\n"
     ]
    }
   ],
   "source": [
    "# Run\n",
    "\n",
    "sbatch << EOF\n",
    "#!/bin/bash -e\n",
    "\n",
    "#SBATCH -J hic_pipeline_${USER}\n",
    "#SBATCH --time=167:00:00\n",
    "#SBATCH --nodes=1\n",
    "#SBATCH --ntasks=1\n",
    "#SBATCH --cpus-per-task=1\n",
    "#SBATCH -o ${WKDIR}/log/%J.out\n",
    "#SBATCH -e ${WKDIR}/log/%J.err\n",
    "#SBATCH --mem=4G\n",
    "\n",
    "ml nextflow/22.10.4\n",
    "ml apptainer/1.1\n",
    "\n",
    "cd ${WKDIR}/hic-scaffolding-pipeline\n",
    "\n",
    "srun nextflow main.nf -resume\n",
    "EOF\n",
    "\n",
    "\n",
    "\n"
   ]
  },
  {
   "cell_type": "code",
   "execution_count": null,
   "id": "85515f6b-415a-4306-8c95-3004586620e5",
   "metadata": {},
   "outputs": [],
   "source": []
  },
  {
   "cell_type": "code",
   "execution_count": null,
   "id": "dcad86cd-6115-42fa-a2ca-d96e3b2bf35c",
   "metadata": {},
   "outputs": [],
   "source": []
  },
  {
   "cell_type": "code",
   "execution_count": null,
   "id": "14f78cfc-907d-4c28-83a5-48f03565706e",
   "metadata": {},
   "outputs": [],
   "source": []
  },
  {
   "cell_type": "code",
   "execution_count": null,
   "id": "cef30de4-2ee4-4310-afd2-74d6709b78b6",
   "metadata": {},
   "outputs": [],
   "source": []
  },
  {
   "cell_type": "code",
   "execution_count": null,
   "id": "0e3a72f6-2dfa-47ec-9aad-87ea23d71dbe",
   "metadata": {},
   "outputs": [],
   "source": []
  },
  {
   "cell_type": "code",
   "execution_count": null,
   "id": "6c443e9e-1d04-40d4-9b95-623a7caf58b8",
   "metadata": {},
   "outputs": [],
   "source": []
  }
 ],
 "metadata": {
  "kernelspec": {
   "display_name": "Bash",
   "language": "bash",
   "name": "bash"
  },
  "language_info": {
   "codemirror_mode": "shell",
   "file_extension": ".sh",
   "mimetype": "text/x-sh",
   "name": "bash"
  }
 },
 "nbformat": 4,
 "nbformat_minor": 5
}
