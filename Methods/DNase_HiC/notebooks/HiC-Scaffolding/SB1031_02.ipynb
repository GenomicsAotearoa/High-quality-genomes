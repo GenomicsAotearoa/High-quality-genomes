{
 "cells": [
  {
   "cell_type": "code",
   "execution_count": 9,
   "id": "43c5efd8-58dd-43e6-a763-ed86339512e7",
   "metadata": {},
   "outputs": [],
   "source": [
    "#Set Up\n",
    "WKDIR=/workspace/hraijc/HiC_trials/HiC23/NovaSeq/SB1031/Phased_HiC\n",
    "READ1=/workspace/hraijc/HiC_trials/HiC23/NovaSeq/SB1031/Reads/SB1031_hic1_umap_R1.fastq.gz\n",
    "READ2=/workspace/hraijc/HiC_trials/HiC23/NovaSeq/SB1031/Reads/SB1031_hic1_umap_R2.fastq.gz\n",
    "ASSEMBLY_DIR=/workspace/hraijc/HiC_trials/HiC23/Assemblies/SB1031\n",
    "TEMP=/workspace/hraijc/HiC_trials/HiC23/NovaSeq/SB1031/TEMP\n",
    "\n",
    "mkdir -p $WKDIR/log\n",
    "cd $WKDIR"
   ]
  },
  {
   "cell_type": "markdown",
   "id": "3329a4b4-9925-46dc-ba6b-6924227ef25e",
   "metadata": {},
   "source": [
    "## Primary Assembly"
   ]
  },
  {
   "cell_type": "code",
   "execution_count": 22,
   "id": "b209afae-7008-41bf-9ac0-7284f22661a1",
   "metadata": {},
   "outputs": [
    {
     "name": "stdout",
     "output_type": "stream",
     "text": [
      "Submitted batch job 1985617\n"
     ]
    }
   ],
   "source": [
    "ASSEMBLY=${ASSEMBLY_DIR}/SB1031_q15_duplex_q2050kb_simplex.primary.purged.010923.fa\n",
    "APREFIX=SB1031_Primary_uHiC_q15_duplex_q2050kb_simplex\n",
    "\n",
    "sbatch << EOF\n",
    "#!/bin/bash\n",
    "#SBATCH -J hic\n",
    "#SBATCH -o ${WKDIR}/log/%J.out\n",
    "#SBATCH -e ${WKDIR}/log/%J.err\n",
    "#SBATCH --cpus-per-task=12\n",
    "#SBATCH --mem=20G\n",
    "#SBATCH --time=23:00:00\n",
    "\n",
    "module load bwa/0.7.17\n",
    "module load samtools/1.16\n",
    "\n",
    "\n",
    "cd ${WKDIR}\n",
    "\n",
    "### Align reads with BWA. Use -5SP for Hi-C reads.#############################\n",
    "#samtools faidx ${ASSEMBLY}\n",
    "#bwa index ${ASSEMBLY}\n",
    "bwa mem -5SP -t12 ${ASSEMBLY} ${READ1} ${READ2} -o ${TEMP}/${APREFIX}.sam\n",
    "\n",
    "\n",
    "### Flag PCR Duplicates with SAMBLASTER #######################################\n",
    "/workspace/hraijc/git_clones/samblaster/samblaster -i ${TEMP}/${APREFIX}.sam -o ${TEMP}/${APREFIX}_marked_byread.sam\n",
    "\n",
    "\n",
    "### Remove unmmaped and non-primary aligned reads. Sort and Index bam files.###\n",
    "samtools view -S -b -h -@ 12 -F 2316 ${TEMP}/${APREFIX}_marked_byread.sam > ${TEMP}/${APREFIX}_presort_marked.bam\n",
    "samtools sort -@ 12 ${TEMP}/${APREFIX}_presort_marked.bam -o ${APREFIX}.bam\n",
    "\n",
    "### Run YAHS with contig and scaffolding error correction. ####################\n",
    "/workspace/hraijc/git_clones/yahs/yahs --no-mem-check ${ASSEMBLY} ${APREFIX}.bam -o ${APREFIX}_yahs3\n",
    "\n",
    "EOF\n",
    "\n",
    "unset ASSEMBLY\n",
    "unset APREFIX"
   ]
  },
  {
   "cell_type": "code",
   "execution_count": 10,
   "id": "0da37b9c-cc85-49b4-b0a8-3fc36991ebe9",
   "metadata": {},
   "outputs": [
    {
     "name": "stdout",
     "output_type": "stream",
     "text": [
      "Submitted batch job 2002385\n"
     ]
    }
   ],
   "source": [
    "### Make heatmap of YAHS output ###############################################\n",
    "ASSEMBLY=${ASSEMBLY_DIR}/SB1031_q15_duplex_q2050kb_simplex.primary.purged.010923.fa\n",
    "APREFIX=SB1031_Primary_uHiC_q15_duplex_q2050kb_simplex\n",
    "cd ${WKDIR}\n",
    "\n",
    "out=${APREFIX}_yahs3 # prefix of outfiles produced by YAHS.  \n",
    "contigs=${ASSEMBLY} # need to be indexed, i.e., test.fa.gz.fai in same directory\n",
    "wkdir=${WKDIR}\n",
    "\n",
    "\n",
    "sbatch --job-name=hic_mapyahs \\\n",
    "    -o ${WKDIR}/log/%J.out \\\n",
    "    -e ${WKDIR}/log/%J.err \\\n",
    "    --cpus-per-task=8 \\\n",
    "    --mem=24G \\\n",
    "    --time=03:10:00 \\\n",
    "    --export=out=$out,contigs=$contigs,wkdir=$wkdir \\\n",
    "    /workspace/hraijc/Gitrepos/High-quality-genomes/Methods/DNase_HiC/notebooks/yahs_contactmapgen2.sh"
   ]
  },
  {
   "cell_type": "markdown",
   "id": "dfce8687-7e62-4a5b-b0ab-9e29bda18864",
   "metadata": {},
   "source": [
    "## Hap1 Assembly"
   ]
  },
  {
   "cell_type": "code",
   "execution_count": 23,
   "id": "ef870fc8-5a13-4dd2-b9eb-aa9f7e0c48dc",
   "metadata": {},
   "outputs": [
    {
     "name": "stdout",
     "output_type": "stream",
     "text": [
      "Submitted batch job 1985618\n"
     ]
    }
   ],
   "source": [
    "ASSEMBLY=${ASSEMBLY_DIR}/SB1031_q15_duplex_q2050kb_simplex.hap1.purged.240823.fa\n",
    "APREFIX=SB1031_hap1_uHiC_q15_duplex_q2050kb_simplex\n",
    "\n",
    "sbatch << EOF\n",
    "#!/bin/bash\n",
    "#SBATCH -J hic\n",
    "#SBATCH -o ${WKDIR}/log/%J.out\n",
    "#SBATCH -e ${WKDIR}/log/%J.err\n",
    "#SBATCH --cpus-per-task=12\n",
    "#SBATCH --mem=20G\n",
    "#SBATCH --time=22:00:00\n",
    "\n",
    "module load bwa/0.7.17\n",
    "module load samtools/1.16\n",
    "\n",
    "\n",
    "cd ${WKDIR}\n",
    "\n",
    "### Align reads with BWA. Use -5SP for Hi-C reads.#############################\n",
    "#samtools faidx ${ASSEMBLY}\n",
    "#bwa index ${ASSEMBLY}\n",
    "bwa mem -5SP -t12 ${ASSEMBLY} ${READ1} ${READ2} -o ${TEMP}/${APREFIX}.sam\n",
    "\n",
    "\n",
    "### Flag PCR Duplicates with SAMBLASTER #######################################\n",
    "/workspace/hraijc/git_clones/samblaster/samblaster -i ${TEMP}/${APREFIX}.sam -o ${TEMP}/${APREFIX}_marked_byread.sam\n",
    "\n",
    "\n",
    "### Remove unmmaped and non-primary aligned reads. Sort and Index bam files.###\n",
    "samtools view -S -b -h -@ 12 -F 2316 ${TEMP}/${APREFIX}_marked_byread.sam > ${TEMP}/${APREFIX}_presort_marked.bam\n",
    "samtools sort -@ 12 ${TEMP}/${APREFIX}_presort_marked.bam -o ${APREFIX}.bam\n",
    "\n",
    "### Run YAHS with contig and scaffolding error correction. ####################\n",
    "/workspace/hraijc/git_clones/yahs/yahs --no-mem-check ${ASSEMBLY} ${APREFIX}.bam -o ${APREFIX}_yahs3\n",
    "\n",
    "EOF\n",
    "\n",
    "unset ASSEMBLY\n",
    "unset APREFIX"
   ]
  },
  {
   "cell_type": "code",
   "execution_count": 11,
   "id": "b3c7e665-7d07-4030-9901-2d75dcd797f5",
   "metadata": {},
   "outputs": [
    {
     "name": "stdout",
     "output_type": "stream",
     "text": [
      "Submitted batch job 2002386\n"
     ]
    }
   ],
   "source": [
    "### Make heatmap of YAHS output ###############################################\n",
    "ASSEMBLY=${ASSEMBLY_DIR}/SB1031_q15_duplex_q2050kb_simplex.hap1.purged.240823.fa\n",
    "APREFIX=SB1031_hap1_uHiC_q15_duplex_q2050kb_simplex\n",
    "\n",
    "cd ${WKDIR}\n",
    "\n",
    "out=${APREFIX}_yahs3 # prefix of outfiles produced by YAHS.  \n",
    "contigs=${ASSEMBLY} # need to be indexed, i.e., test.fa.gz.fai in same directory\n",
    "wkdir=${WKDIR}\n",
    "\n",
    "\n",
    "sbatch --job-name=hic_mapyahs \\\n",
    "    -o ${WKDIR}/log/%J.out \\\n",
    "    -e ${WKDIR}/log/%J.err \\\n",
    "    --cpus-per-task=8 \\\n",
    "    --mem=24G \\\n",
    "    --time=03:10:00 \\\n",
    "    --export=out=$out,contigs=$contigs,wkdir=$wkdir \\\n",
    "    /workspace/hraijc/Gitrepos/High-quality-genomes/Methods/DNase_HiC/notebooks/yahs_contactmapgen2.sh"
   ]
  },
  {
   "cell_type": "markdown",
   "id": "559d6781-7d11-4e02-933a-482511b9b381",
   "metadata": {},
   "source": [
    "## Hap2 Assembly"
   ]
  },
  {
   "cell_type": "code",
   "execution_count": 24,
   "id": "5dd00318-c7fc-436e-8409-519e66ab78dd",
   "metadata": {},
   "outputs": [
    {
     "name": "stdout",
     "output_type": "stream",
     "text": [
      "Submitted batch job 1985619\n"
     ]
    }
   ],
   "source": [
    "ASSEMBLY=${ASSEMBLY_DIR}/SB1031_q15_duplex_q2050kb_simplex.hap2.purged.240823.fa\n",
    "APREFIX=SB1031_hap2_uHiC_q15_duplex_q2050kb_simplex\n",
    "\n",
    "sbatch << EOF\n",
    "#!/bin/bash\n",
    "#SBATCH -J hic\n",
    "#SBATCH -o ${WKDIR}/log/%J.out\n",
    "#SBATCH -e ${WKDIR}/log/%J.err\n",
    "#SBATCH --cpus-per-task=12\n",
    "#SBATCH --mem=20G\n",
    "#SBATCH --time=23:00:00\n",
    "\n",
    "module load bwa/0.7.17\n",
    "module load samtools/1.16\n",
    "\n",
    "\n",
    "cd ${WKDIR}\n",
    "\n",
    "### Align reads with BWA. Use -5SP for Hi-C reads.#############################\n",
    "#samtools faidx ${ASSEMBLY}\n",
    "#bwa index ${ASSEMBLY}\n",
    "bwa mem -5SP -t12 ${ASSEMBLY} ${READ1} ${READ2} -o ${TEMP}/${APREFIX}.sam\n",
    "\n",
    "\n",
    "### Flag PCR Duplicates with SAMBLASTER #######################################\n",
    "/workspace/hraijc/git_clones/samblaster/samblaster -i ${TEMP}/${APREFIX}.sam -o ${TEMP}/${APREFIX}_marked_byread.sam\n",
    "\n",
    "\n",
    "### Remove unmmaped and non-primary aligned reads. Sort and Index bam files.###\n",
    "samtools view -S -b -h -@ 12 -F 2316 ${TEMP}/${APREFIX}_marked_byread.sam > ${TEMP}/${APREFIX}_presort_marked.bam\n",
    "samtools sort -@ 12 ${TEMP}/${APREFIX}_presort_marked.bam -o ${APREFIX}.bam\n",
    "\n",
    "### Run YAHS with contig and scaffolding error correction. ####################\n",
    "/workspace/hraijc/git_clones/yahs/yahs --no-mem-check ${ASSEMBLY} ${APREFIX}.bam -o ${APREFIX}_yahs3\n",
    "\n",
    "EOF\n",
    "\n",
    "unset ASSEMBLY\n",
    "unset APREFIX"
   ]
  },
  {
   "cell_type": "code",
   "execution_count": 12,
   "id": "5e10146e-ea8f-4830-8447-2dd8b204f093",
   "metadata": {},
   "outputs": [
    {
     "name": "stdout",
     "output_type": "stream",
     "text": [
      "Submitted batch job 2002387\n"
     ]
    }
   ],
   "source": [
    "### Make heatmap of YAHS output ###############################################\n",
    "ASSEMBLY=${ASSEMBLY_DIR}/SB1031_q15_duplex_q2050kb_simplex.hap2.purged.240823.fa\n",
    "APREFIX=SB1031_hap2_uHiC_q15_duplex_q2050kb_simplex\n",
    "cd ${WKDIR}\n",
    "\n",
    "out=${APREFIX}_yahs3 # prefix of outfiles produced by YAHS.  \n",
    "contigs=${ASSEMBLY} # need to be indexed, i.e., test.fa.gz.fai in same directory\n",
    "wkdir=${WKDIR}\n",
    "\n",
    "\n",
    "sbatch --job-name=hic_mapyahs \\\n",
    "    -o ${WKDIR}/log/%J.out \\\n",
    "    -e ${WKDIR}/log/%J.err \\\n",
    "    --cpus-per-task=8 \\\n",
    "    --mem=24G \\\n",
    "    --time=03:10:00 \\\n",
    "    --export=out=$out,contigs=$contigs,wkdir=$wkdir \\\n",
    "    /workspace/hraijc/Gitrepos/High-quality-genomes/Methods/DNase_HiC/notebooks/yahs_contactmapgen2.sh"
   ]
  },
  {
   "cell_type": "code",
   "execution_count": 8,
   "id": "16dfb485-6011-4719-b554-88e2d7546848",
   "metadata": {},
   "outputs": [
    {
     "name": "stdout",
     "output_type": "stream",
     "text": [
      "Job ID: 1985619\n",
      "Cluster: powerplant\n",
      "User/Group: hraijc/hraijc\n",
      "State: COMPLETED (exit code 0)\n",
      "Nodes: 1\n",
      "Cores per node: 12\n",
      "CPU Utilized: 3-19:06:34\n",
      "CPU Efficiency: 84.91% of 4-11:18:24 core-walltime\n",
      "Job Wall-clock time: 08:56:32\n",
      "Memory Utilized: 9.57 GB\n",
      "Memory Efficiency: 47.83% of 20.00 GB\n",
      "Job ID: 2002376\n",
      "Cluster: powerplant\n",
      "User/Group: hraijc/hraijc\n",
      "State: COMPLETED (exit code 0)\n",
      "Nodes: 1\n",
      "Cores per node: 8\n",
      "CPU Utilized: 01:04:15\n",
      "CPU Efficiency: 23.45% of 04:34:00 core-walltime\n",
      "Job Wall-clock time: 00:34:15\n",
      "Memory Utilized: 24.15 GB\n",
      "Memory Efficiency: 201.28% of 12.00 GB\n"
     ]
    }
   ],
   "source": [
    "seff 1985619\n",
    "seff 2002387"
   ]
  },
  {
   "cell_type": "code",
   "execution_count": 2,
   "id": "f81364f4-062d-464d-9fe2-44bd6641a125",
   "metadata": {},
   "outputs": [
    {
     "name": "stdout",
     "output_type": "stream",
     "text": [
      "java -ea -Xmx200m -cp /software/bioinformatics/BBMap-38.33/current/ jgi.AssemblyStatsWrapper format=3 in=/workspace/hraijc/HiC_trials/HiC23/Assemblies/SB1031/SB1031_q15_duplex_q2050kb_simplex.primary.purged.010923.fa,SB1031_Primary_uHiC_q15_duplex_q2050kb_simplex_yahs3_scaffolds_final.fa,/workspace/hraijc/HiC_trials/HiC23/Assemblies/SB1031/SB1031_q15_duplex_q2050kb_simplex.hap1.purged.240823.fa,SB1031_hap1_uHiC_q15_duplex_q2050kb_simplex_yahs3_scaffolds_final.fa,/workspace/hraijc/HiC_trials/HiC23/Assemblies/SB1031/SB1031_q15_duplex_q2050kb_simplex.hap2.purged.240823.fa,SB1031_hap2_uHiC_q15_duplex_q2050kb_simplex_yahs3_scaffolds_final.fa format=3\n",
      "n_scaffolds\tn_contigs\tscaf_bp\tcontig_bp\tgap_pct\tscaf_N50\tscaf_L50\tctg_N50\tctg_L50\tscaf_N90\tscaf_L90\tctg_N90\tctg_L90\tscaf_max\tctg_max\tscaf_n_gt50K\tscaf_pct_gt50K\tgc_avg\tgc_std\tfilename\n",
      "22\t22\t494320633\t494320633\t0.000\t9\t25244161\t9\t25244161\t17\t21457242\t17\t21457242\t35581360\t35581360\t22\t100.000\t0.35047\t0.01982\t/powerplant/workspace/hraijc/HiC_trials/HiC23/Assemblies/SB1031/SB1031_q15_duplex_q2050kb_simplex.primary.purged.010923.fa\n",
      "23\t23\t494320633\t494320633\t0.000\t9\t25244161\t9\t25244161\t17\t21457242\t17\t21457242\t35581360\t35581360\t22\t99.993\t0.35047\t0.02469\t/powerplant/workspace/hraijc/HiC_trials/HiC23/NovaSeq/SB1031/Phased_HiC/SB1031_Primary_uHiC_q15_duplex_q2050kb_simplex_yahs3_scaffolds_final.fa\n",
      "35\t35\t503922201\t503922201\t0.000\t9\t25019217\t9\t25019217\t19\t13226561\t19\t13226561\t37690093\t37690093\t35\t100.000\t0.35140\t0.04945\t/powerplant/workspace/hraijc/HiC_trials/HiC23/Assemblies/SB1031/SB1031_q15_duplex_q2050kb_simplex.hap1.purged.240823.fa\n",
      "31\t37\t503923401\t503922201\t0.000\t8\t27008740\t9\t24881217\t16\t21390040\t19\t13226561\t50925296\t37690093\t30\t99.993\t0.35140\t0.03631\t/powerplant/workspace/hraijc/HiC_trials/HiC23/NovaSeq/SB1031/Phased_HiC/SB1031_hap1_uHiC_q15_duplex_q2050kb_simplex_yahs3_scaffolds_final.fa\n",
      "41\t41\t494209437\t494209437\t0.000\t11\t21765494\t11\t21765494\t24\t8564956\t24\t8564956\t28597816\t28597816\t40\t99.996\t0.34960\t0.04444\t/powerplant/workspace/hraijc/HiC_trials/HiC23/Assemblies/SB1031/SB1031_q15_duplex_q2050kb_simplex.hap2.purged.240823.fa\n",
      "29\t45\t494212637\t494209437\t0.001\t8\t26017946\t11\t21765494\t16\t22589806\t24\t8564956\t44542958\t28597816\t26\t99.984\t0.34960\t0.05377\t/powerplant/workspace/hraijc/HiC_trials/HiC23/NovaSeq/SB1031/Phased_HiC/SB1031_hap2_uHiC_q15_duplex_q2050kb_simplex_yahs3_scaffolds_final.fa\n"
     ]
    }
   ],
   "source": [
    "cd ${WKDIR}\n",
    "module load BBMap/38.33\n",
    "\n",
    "\n",
    "statswrapper.sh in=${ASSEMBLY_DIR}/SB1031_q15_duplex_q2050kb_simplex.primary.purged.010923.fa,SB1031_Primary_uHiC_q15_duplex_q2050kb_simplex_yahs3_scaffolds_final.fa,${ASSEMBLY_DIR}/SB1031_q15_duplex_q2050kb_simplex.hap1.purged.240823.fa,SB1031_hap1_uHiC_q15_duplex_q2050kb_simplex_yahs3_scaffolds_final.fa,${ASSEMBLY_DIR}/SB1031_q15_duplex_q2050kb_simplex.hap2.purged.240823.fa,SB1031_hap2_uHiC_q15_duplex_q2050kb_simplex_yahs3_scaffolds_final.fa format=3 \n",
    "module unload BBMap/38.33\n"
   ]
  },
  {
   "cell_type": "markdown",
   "id": "912d93c3-99c7-472a-9cf6-8d7ece9441f4",
   "metadata": {},
   "source": [
    "| n_scaffolds \t| n_contigs \t| scaf_bp \t| contig_bp \t| gap_pct \t| scaf_N50 \t| scaf_L50 \t| ctg_N50 \t| ctg_L50 \t| scaf_N90 \t| scaf_L90 \t| ctg_N90 \t| ctg_L90 \t| scaf_max \t| ctg_max \t| scaf_n_gt50K \t| scaf_pct_gt50K \t| gc_avg \t| gc_std \t| filename \t|\n",
    "|---\t|---\t|---\t|---\t|---\t|---\t|---\t|---\t|---\t|---\t|---\t|---\t|---\t|---\t|---\t|---\t|---\t|---\t|---\t|---\t|\n",
    "| 22 \t| 22 \t| 494320633 \t| 494320633 \t| 0.000 \t| 9 \t| 25244161 \t| 9 \t| 25244161 \t| 17 \t| 21457242 \t| 17 \t| 21457242 \t| 35581360 \t| 35581360 \t| 22 \t| 100.000 \t| 0.35047 \t| 0.01982 \t| SB1031_q15_duplex_q2050kb_simplex.primary.purged.010923.fa \t|\n",
    "| 23 \t| 23 \t| 494320633 \t| 494320633 \t| 0.000 \t| 9 \t| 25244161 \t| 9 \t| 25244161 \t| 17 \t| 21457242 \t| 17 \t| 21457242 \t| 35581360 \t| 35581360 \t| 22 \t| 99.993 \t| 0.35047 \t| 0.02469 \t| SB1031_Primary_uHiC_q15_duplex_q2050kb_simplex_yahs3_scaffolds_final.fa \t|\n",
    "| 35 \t| 35 \t| 503922201 \t| 503922201 \t| 0.000 \t| 9 \t| 25019217 \t| 9 \t| 25019217 \t| 19 \t| 13226561 \t| 19 \t| 13226561 \t| 37690093 \t| 37690093 \t| 35 \t| 100.000 \t| 0.35140 \t| 0.04945 \t| SB1031_q15_duplex_q2050kb_simplex.hap1.purged.240823.fa \t|\n",
    "| 31 \t| 37 \t| 503923401 \t| 503922201 \t| 0.000 \t| 8 \t| 27008740 \t| 9 \t| 24881217 \t| 16 \t| 21390040 \t| 19 \t| 13226561 \t| 50925296 \t| 37690093 \t| 30 \t| 99.993 \t| 0.35140 \t| 0.03631 \t| SB1031_hap1_uHiC_q15_duplex_q2050kb_simplex_yahs3_scaffolds_final.fa \t|\n",
    "| 41 \t| 41 \t| 494209437 \t| 494209437 \t| 0.000 \t| 11 \t| 21765494 \t| 11 \t| 21765494 \t| 24 \t| 8564956 \t| 24 \t| 8564956 \t| 28597816 \t| 28597816 \t| 40 \t| 99.996 \t| 0.34960 \t| 0.04444 \t| SB1031_q15_duplex_q2050kb_simplex.hap2.purged.240823.fa \t|\n",
    "| 29 \t| 45 \t| 494212637 \t| 494209437 \t| 0.001 \t| 8 \t| 26017946 \t| 11 \t| 21765494 \t| 16 \t| 22589806 \t| 24 \t| 8564956 \t| 44542958 \t| 28597816 \t| 26 \t| 99.984 \t| 0.34960 \t| 0.05377 \t| SB1031_hap2_uHiC_q15_duplex_q2050kb_simplex_yahs3_scaffolds_final.fa \t|"
   ]
  },
  {
   "cell_type": "code",
   "execution_count": null,
   "id": "bfbc744b-bc4c-4c57-a8d1-beac2456c1f0",
   "metadata": {},
   "outputs": [],
   "source": []
  }
 ],
 "metadata": {
  "kernelspec": {
   "display_name": "Bash",
   "language": "bash",
   "name": "bash"
  },
  "language_info": {
   "codemirror_mode": "shell",
   "file_extension": ".sh",
   "mimetype": "text/x-sh",
   "name": "bash"
  }
 },
 "nbformat": 4,
 "nbformat_minor": 5
}
