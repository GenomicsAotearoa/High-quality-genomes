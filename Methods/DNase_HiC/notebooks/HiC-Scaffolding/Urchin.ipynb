{
 "cells": [
  {
   "cell_type": "markdown",
   "id": "ed696821-0dc1-4160-895c-186038dd2075",
   "metadata": {},
   "source": [
    "# Hi-C Scaffolding Urchin"
   ]
  },
  {
   "cell_type": "code",
   "execution_count": 8,
   "id": "918d0e0c-0155-471c-a4fc-31201ea1fcd3",
   "metadata": {},
   "outputs": [],
   "source": [
    "#Set Up\n",
    "WKDIR=/workspace/hraijc/HiC_trials/HiC23/NovaSeq/Urchin\n",
    "ASSEMBLY_PRESCAFF=/workspace/hraijc/HiC_trials/HiC23/Assemblies/Crodergsii_HiFi130423_purged.fa\n",
    "ASSEMBLY_POSTSCAFF=/workspace/hraijc/HiC_trials/HiC23/Results/Crodergsii_HiC070623_v2.fa\n",
    "HiC_R1=/workspace/hraijc/TEMP/Urchin_HiC23_R1.fastq.gz\n",
    "HiC_R2=/workspace/hraijc/TEMP/Urchin_HiC23_R2.fastq.gz\n",
    "OUT_PREFIX=Crodergsii_HiC070623\n",
    "TELOMERE=TTAGGG #http://telomerase.asu.edu/sequences_telomere.html\n",
    "GENOME_SIZE=880000000\n",
    "NF_CONFIG=/workspace/hraijc/HiC_trials/HiC23/NovaSeq/Urchin/hic-scaffolding-pipeline/nextflow.config\n",
    "\n",
    "mkdir -p $WKDIR/log\n",
    "cd $WKDIR"
   ]
  },
  {
   "cell_type": "code",
   "execution_count": null,
   "id": "c5cb93d7-ddd6-4e78-b600-a085d0437592",
   "metadata": {},
   "outputs": [],
   "source": []
  },
  {
   "cell_type": "code",
   "execution_count": 11,
   "id": "f3073bdb-615a-48ad-8ec3-5ba7030c70ae",
   "metadata": {},
   "outputs": [
    {
     "name": "stdout",
     "output_type": "stream",
     "text": [
      "Submitted batch job 1361115\n"
     ]
    }
   ],
   "source": [
    "#Combine Reads from flowcells\n",
    "\n",
    "sbatch << EOF\n",
    "#!/bin/bash\n",
    "#SBATCH -J cat\n",
    "#SBATCH --cpus-per-task=1\n",
    "#SBATCH --mem=1G\n",
    "#SBATCH --time=1:00:00\n",
    "#SBATCH -o ${WKDIR}/log/%J.out\n",
    "#SBATCH -e ${WKDIR}/log/%J.err\n",
    "\n",
    "\n",
    "\n",
    "cd /input/genomic/plant/Actinidia/chinensis/ExperimentRequestor11022/AGRF_CAGRF230414403_HFFHYDSX7\n",
    "\n",
    "echo \"start\"\n",
    "date\n",
    "cat Urchin_sp_HFFHYDSX7_TAATCG_L002_R1.fastq.gz Urchin_sp_HFFHYDSX7_TAATCG_L003_R1.fastq.gz > /workspace/hraijc/TEMP/Urchin_HiC23_R1.fastq.gz\n",
    "cat Urchin_sp_HFFHYDSX7_TAATCG_L002_R2.fastq.gz Urchin_sp_HFFHYDSX7_TAATCG_L003_R2.fastq.gz > /workspace/hraijc/TEMP/Urchin_HiC23_R2.fastq.gz\n",
    "date\n",
    "\n",
    "\n",
    "EOF\n"
   ]
  },
  {
   "cell_type": "code",
   "execution_count": 4,
   "id": "17921ba6-c10d-4d8b-80ec-e7078b38dfcc",
   "metadata": {},
   "outputs": [],
   "source": [
    "#IN INTERACTIVE SESSION:\n",
    "#Use Srun not Salloc\n",
    "\"\"\"\n",
    "srun --time 01:00:00 --cpus-per-task 1 --mem-per-cpu 4G --pty bash\n",
    "#WKDIR=/workspace/hraijc/HiC_trials/HiC23/NovaSeq/Urchin\n",
    "cd $WKDIR\n",
    "git clone git@github.com:PlantandFoodResearch/hic-scaffolding-pipeline.git\n",
    "cd ${WKDIR}/hic-scaffolding-pipeline/\n",
    "git checkout dev\n",
    "cd ${WKDIR}/hic-scaffolding-pipeline/containers\n",
    "sudo -E singularity build pipeline_container.sif pipeline_container.def\n",
    "\n",
    "\"\"\""
   ]
  },
  {
   "cell_type": "code",
   "execution_count": 23,
   "id": "3e9ff1a5-7811-4db2-ac82-90c6dc20d137",
   "metadata": {},
   "outputs": [],
   "source": [
    "# Modify Config file\n",
    "\n",
    "sed -i \"s:/workspace/hraijc/Kiwi/Ck69_01_monoploid/HiC8_MiSeq/220622_M01815_0436/HiC8-lib_S1_L001_R1_001.fastq.gz:${HiC_R1}:g\" ${NF_CONFIG}\n",
    "sed -i \"s:/workspace/hraijc/Kiwi/Ck69_01_monoploid/HiC8_MiSeq/220622_M01815_0436/HiC8-lib_S1_L001_R2_001.fastq.gz:${HiC_R2}:g\" ${NF_CONFIG}\n",
    "sed -i \"s:/output/genomic/plant/Actinidia/chinensis/CK69_01m/Genome/Assembly/LATEST/Fasta/CK69_01_v2.scaffolds.fsa:${ASSEMBLY_PRESCAFF}:g\" ${NF_CONFIG}\n",
    "sed -i \"s:Ck69_01_monoploid:${OUT_PREFIX}:g\" ${NF_CONFIG}\n",
    "sed -i \"s:TTAGGG:${TELOMERE}:g\" ${NF_CONFIG}\n",
    "sed -i \"s:758000000:${GENOME_SIZE}:g\" ${NF_CONFIG}\n",
    "\n",
    "\n",
    "\n"
   ]
  },
  {
   "cell_type": "code",
   "execution_count": 5,
   "id": "ccaca01b-3b23-4b22-b8a2-27d0974ccb0a",
   "metadata": {},
   "outputs": [],
   "source": [
    "# Setup slurm.sh\n",
    "\n",
    "cat << EOF > hic_pipeline_slurm.sh\n",
    "#!/bin/bash -e\n",
    "\n",
    "#SBATCH -J Urchin_hic_pipeline_${USER}\n",
    "#SBATCH --time=14-00:00:00\n",
    "#SBATCH --nodes=1\n",
    "#SBATCH --ntasks=1\n",
    "#SBATCH --cpus-per-task=8\n",
    "#SBATCH -o ${WKDIR}/log/%J.out\n",
    "#SBATCH -e ${WKDIR}/log/%J.err\n",
    "#SBATCH --mem=32G\n",
    "\n",
    "ml nextflow/22.10.4\n",
    "ml apptainer/1.1\n",
    "\n",
    "cd ${WKDIR}/hic-scaffolding-pipeline\n",
    "\n",
    "srun nextflow main.nf -resume\n",
    "EOF\n",
    "\n",
    "\n",
    "\n"
   ]
  },
  {
   "cell_type": "code",
   "execution_count": 2,
   "id": "bb9a63fe-50ab-4fe3-a60b-97ccbd8da988",
   "metadata": {},
   "outputs": [
    {
     "name": "stdout",
     "output_type": "stream",
     "text": [
      "sbatch: It is not safe to run jobs over 7 days of walltime without checkpointing.\n",
      "sbatch: The time limit for this job is 14 days.\n",
      "Submitted batch job 1366144\n"
     ]
    }
   ],
   "source": [
    "# Run Pipeline\n",
    "chmod u+x ./hic_pipeline_slurm.sh\n",
    "sbatch ./hic_pipeline_slurm.sh"
   ]
  },
  {
   "cell_type": "code",
   "execution_count": null,
   "id": "f064572e-0895-437d-86d4-9f64797da815",
   "metadata": {},
   "outputs": [],
   "source": [
    "#Just run YAHS\n",
    "\n",
    "sbatch << EOF\n",
    "#!/bin/bash\n",
    "#SBATCH -J YAHS\n",
    "#SBATCH -o ${WKDIR}/log/%J.out\n",
    "#SBATCH -e ${WKDIR}/log/%J.err\n",
    "#SBATCH --cpus-per-task=1\n",
    "#SBATCH --mem=48G\n",
    "#SBATCH --time=23:00:00\n",
    "\n",
    "cd ${WKDIR}\n",
    "\n",
    "/workspace/hraijc/git_clones/yahs/yahs ${ASSEMBLY} ${BAMFILE} --no-mem-check -o ${OUT_PREFIX}_yahs_10K -r 10000,20000,50000,100000,200000,500000,1000000,2000000,5000000,10000000,20000000,50000000,100000000,200000000,500000000\n",
    "\n",
    "\n",
    "EOF\n",
    "\n"
   ]
  },
  {
   "cell_type": "code",
   "execution_count": 7,
   "id": "226b105d-05e3-42d4-9a84-6487bf7c1f46",
   "metadata": {},
   "outputs": [
    {
     "name": "stdout",
     "output_type": "stream",
     "text": [
      "hraijc\n"
     ]
    }
   ],
   "source": [
    "out=${OUT_PREFIX}_yahs_10K # prefix of outfiles produced by YAHS.  \n",
    "contigs=${ASSEMBLY_PRESCAFF} # need to be indexed, i.e., test.fa.gz.fai in same directory\n",
    "wkdir=${WKDIR}\n",
    "\n",
    "\n",
    "sbatch --job-name=hic_mapyahs \\\n",
    "    -o ${WKDIR}/log/%J.out \\\n",
    "    -e ${WKDIR}/log/%J.err \\\n",
    "    --cpus-per-task=8 \\\n",
    "    --mem=24G \\\n",
    "    --time=03:10:00 \\\n",
    "    --export=out=$out,contigs=$contigs,wkdir=$wkdir \\\n",
    "    /workspace/hraijc/Gitrepos/High-quality-genomes/Methods/DNase_HiC/notebooks/yahs_contactmapgen2.sh"
   ]
  },
  {
   "cell_type": "code",
   "execution_count": 7,
   "id": "dcadeed6-57ef-4331-a228-d06a7b0dd09e",
   "metadata": {},
   "outputs": [
    {
     "name": "stdout",
     "output_type": "stream",
     "text": [
      "Submitted batch job 1553444\n"
     ]
    }
   ],
   "source": [
    "##############\n",
    "#Do manual scaffolding cleanup in Juicer then run\n",
    "\n",
    "##############\n",
    "out=${OUT_PREFIX}_yahs_10K # prefix of outfiles produced by YAHS.  \n",
    "contigs=${ASSEMBLY_PRESCAFF} # need to be indexed, i.e., test.fa.gz.fai in same directory\n",
    "wkdir=${WKDIR}\n",
    "\n",
    "sbatch << EOF\n",
    "#!/bin/bash\n",
    "#SBATCH -J YAHS\n",
    "#SBATCH -o ${WKDIR}/log/%J.out\n",
    "#SBATCH -e ${WKDIR}/log/%J.err\n",
    "#SBATCH --cpus-per-task=1\n",
    "#SBATCH --mem=4G\n",
    "#SBATCH --time=2:00:00\n",
    "\n",
    "#module load samtools\n",
    "\n",
    "\n",
    "cd ${WKDIR}\n",
    "\n",
    "\n",
    "\n",
    "/workspace/hraijc/git_clones/yahs/juicer post -o Crodergsii_HiC070623_v2 Crodergsii_HiC070623_yahs_10Kv2_JBAT.review.assembly Crodergsii_HiC070623_yahs_10K_JBAT.liftover.agp ${ASSEMBLY_PRESCAFF}\n",
    "\n",
    "\n",
    "\n",
    "EOF\n"
   ]
  },
  {
   "cell_type": "code",
   "execution_count": 11,
   "id": "ee291693-46e9-4df3-882f-311d3900d0aa",
   "metadata": {},
   "outputs": [],
   "source": [
    "cp ${WKDIR}/${OUT_PREFIX}_v2.FINAL.fa ${ASSEMBLY_POSTSCAFF}"
   ]
  },
  {
   "cell_type": "code",
   "execution_count": null,
   "id": "4dfebcac-14a7-4dff-bf7a-e8644841c5e0",
   "metadata": {},
   "outputs": [],
   "source": []
  },
  {
   "cell_type": "code",
   "execution_count": 14,
   "id": "84066d8e-1cfd-4600-9686-aa239bc2e290",
   "metadata": {
    "tags": []
   },
   "outputs": [
    {
     "name": "stdout",
     "output_type": "stream",
     "text": [
      "java -ea -Xmx200m -cp /software/bioinformatics/BBMap-38.33/current/ jgi.AssemblyStatsWrapper format=3 in=/workspace/hraijc/HiC_trials/HiC23/Assemblies/Crodergsii_HiFi130423_purged.fa,/workspace/hraijc/HiC_trials/HiC23/NovaSeq/Urchin/Crodergsii_HiC070623_yahs_10K_scaffolds_final.fa,/workspace/hraijc/HiC_trials/HiC23/Results/Crodergsii_HiC070623_v2.fa format=3\n",
      "n_scaffolds\tn_contigs\tscaf_bp\tcontig_bp\tgap_pct\tscaf_N50\tscaf_L50\tctg_N50\tctg_L50\tscaf_N90\tscaf_L90\tctg_N90\tctg_L90\tscaf_max\tctg_max\tscaf_n_gt50K\tscaf_pct_gt50K\tgc_avg\tgc_std\tfilename\n",
      "2770\t2887\t883753165\t883750474\t0.000\t498\t559676\t501\t557004\t1595\t156350\t1621\t150094\t4267868\t4267868\t2376\t98.531\t0.39359\t0.00860\t/powerplant/workspace/hraijc/HiC_trials/HiC23/Assemblies/Crodergsii_HiFi130423_purged.fa\n",
      "337\t3002\t884262765\t883750474\t0.058\t9\t39820943\t515\t549938\t18\t32836090\t1661\t146243\t76945733\t4267868\t167\t99.575\t0.39359\t0.01835\t/powerplant/workspace/hraijc/HiC_trials/HiC23/NovaSeq/Urchin/Crodergsii_HiC070623_yahs_10K_scaffolds_final.fa\n",
      "346\t3010\t884262565\t883750474\t0.058\t11\t38040201\t517\t549493\t21\t32277710\t1666\t145522\t52699487\t4267868\t174\t99.570\t0.39359\t0.01826\t/powerplant/workspace/hraijc/HiC_trials/HiC23/Results/Crodergsii_HiC070623_v2.fa\n"
     ]
    }
   ],
   "source": [
    "out=${OUT_PREFIX}_yahs_10K # prefix of outfiles produced by YAHS.  \n",
    "\n",
    "cd ${WKDIR}\n",
    "module load BBMap/38.33\n",
    "\n",
    "statswrapper.sh in=${ASSEMBLY_PRESCAFF},${WKDIR}/${OUT_PREFIX}_yahs_10K_scaffolds_final.fa,${ASSEMBLY_POSTSCAFF} format=3 \n",
    "module unload BBMap/38.33"
   ]
  },
  {
   "cell_type": "markdown",
   "id": "510979d7-9483-4fec-b1f4-9be7fd21cef9",
   "metadata": {},
   "source": [
    "| n_scaffolds \t| n_contigs \t| scaf_bp \t| contig_bp \t| gap_pct \t| scaf_N50 \t| scaf_L50 \t| ctg_N50 \t| ctg_L50 \t| scaf_N90 \t| scaf_L90 \t| ctg_N90 \t| ctg_L90 \t| scaf_max \t| ctg_max \t| scaf_n_gt50K \t| scaf_pct_gt50K \t| gc_avg \t| gc_std \t| filename \t|\n",
    "|---\t|---\t|---\t|---\t|---\t|---\t|---\t|---\t|---\t|---\t|---\t|---\t|---\t|---\t|---\t|---\t|---\t|---\t|---\t|---\t|\n",
    "| 2770 \t| 2887 \t| 883753165 \t| 883750474 \t| 0.000 \t| 498 \t| 559676 \t| 501 \t| 557004 \t| 1595 \t| 156350 \t| 1621 \t| 150094 \t| 4267868 \t| 4267868 \t| 2376 \t| 98.531 \t| 0.39359 \t| 0.00860 \t| /powerplant/workspace/hraijc/HiC_trials/HiC23/Assemblies/Crodergsii_HiFi130423_purged.fa \t|\n",
    "| 337 \t| 3002 \t| 884262765 \t| 883750474 \t| 0.058 \t| 9 \t| 39820943 \t| 515 \t| 549938 \t| 18 \t| 32836090 \t| 1661 \t| 146243 \t| 76945733 \t| 4267868 \t| 167 \t| 99.575 \t| 0.39359 \t| 0.01835 \t| /powerplant/workspace/hraijc/HiC_trials/HiC23/NovaSeq/Urchin/Crodergsii_HiC070623_yahs_10K_scaffolds_final.fa \t|\n",
    "| 346 \t| 3010 \t| 884262565 \t| 883750474 \t| 0.058 \t| 11 \t| 38040201 \t| 517 \t| 549493 \t| 21 \t| 32277710 \t| 1666 \t| 145522 \t| 52699487 \t| 4267868 \t| 174 \t| 99.570 \t| 0.39359 \t| 0.01826 \t| /powerplant/workspace/hraijc/HiC_trials/HiC23/Results/Crodergsii_HiC070623_v2.fa \t|"
   ]
  },
  {
   "cell_type": "markdown",
   "id": "23383ace-30d6-4a5e-aa44-de3d364b3760",
   "metadata": {},
   "source": [
    "## AssemblyQC"
   ]
  },
  {
   "cell_type": "code",
   "execution_count": null,
   "id": "e8f04541-8b76-4fc5-b1ea-bfa6999654d5",
   "metadata": {},
   "outputs": [],
   "source": [
    "#cd ${WKDIR}\n",
    "#git clone git@github.com:PlantandFoodResearch/assembly_qc.git"
   ]
  },
  {
   "cell_type": "code",
   "execution_count": 15,
   "id": "1cd4945e-2f86-4998-ab4b-6cf8c09a18fe",
   "metadata": {},
   "outputs": [],
   "source": [
    "cd ${WKDIR}/assembly_qc\n"
   ]
  },
  {
   "cell_type": "code",
   "execution_count": 16,
   "id": "43172c36-f477-4895-a7d3-b251fbb49e49",
   "metadata": {},
   "outputs": [
    {
     "name": "stdout",
     "output_type": "stream",
     "text": [
      "Submitted batch job 1554492\n"
     ]
    }
   ],
   "source": [
    "sbatch ./assembly_qc_pfr.sh\n"
   ]
  },
  {
   "cell_type": "code",
   "execution_count": null,
   "id": "7eee43c0-4341-4cff-bc25-c114b3e342b2",
   "metadata": {},
   "outputs": [],
   "source": []
  },
  {
   "cell_type": "code",
   "execution_count": null,
   "id": "f3360725-7e28-4796-887a-ff1dbf1bc0c5",
   "metadata": {},
   "outputs": [],
   "source": []
  }
 ],
 "metadata": {
  "kernelspec": {
   "display_name": "Bash",
   "language": "bash",
   "name": "bash"
  },
  "language_info": {
   "codemirror_mode": "shell",
   "file_extension": ".sh",
   "mimetype": "text/x-sh",
   "name": "bash"
  }
 },
 "nbformat": 4,
 "nbformat_minor": 5
}
