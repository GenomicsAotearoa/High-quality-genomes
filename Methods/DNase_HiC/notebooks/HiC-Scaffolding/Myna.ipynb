{
 "cells": [
  {
   "cell_type": "markdown",
   "id": "ed696821-0dc1-4160-895c-186038dd2075",
   "metadata": {},
   "source": [
    "# Hi-C Scaffolding MynaBird"
   ]
  },
  {
   "cell_type": "code",
   "execution_count": null,
   "id": "78f0fa23-cf6f-4c39-bd0e-5ec205e2f6d2",
   "metadata": {},
   "outputs": [],
   "source": []
  },
  {
   "cell_type": "code",
   "execution_count": 2,
   "id": "80a25328-99a7-463d-8f27-db710d77b1a2",
   "metadata": {},
   "outputs": [],
   "source": [
    "#Set Up\n",
    "WKDIR=/workspace/hraijc/HiC_trials/HiC23/NovaSeq/Myna\n",
    "\n",
    "mkdir -p $WKDIR/log\n",
    "cd $WKDIR"
   ]
  },
  {
   "cell_type": "code",
   "execution_count": null,
   "id": "de215408-1e88-4dca-9dca-992e18b985f1",
   "metadata": {},
   "outputs": [],
   "source": []
  },
  {
   "cell_type": "code",
   "execution_count": 4,
   "id": "567b0d4a-1cdf-44a6-aac0-91cd1fab655b",
   "metadata": {},
   "outputs": [],
   "source": [
    "#IN INTERACTIVE SESSION:\n",
    "#Use Srun not Salloc\n",
    "\"\"\"\n",
    "srun --time 01:00:00 --cpus-per-task 1 --mem-per-cpu 4G --pty bash\n",
    "#WKDIR=/workspace/hraijc/HiC_trials/HiC23/NovaSeq/Urchin\n",
    "cd $WKDIR\n",
    "git clone git@github.com:PlantandFoodResearch/hic-scaffolding-pipeline.git\n",
    "cd ${WKDIR}/hic-scaffolding-pipeline/\n",
    "git checkout dev\n",
    "cd ${WKDIR}/hic-scaffolding-pipeline/containers\n",
    "sudo -E singularity build pipeline_container.sif pipeline_container.def\n",
    "\n",
    "\"\"\""
   ]
  },
  {
   "cell_type": "code",
   "execution_count": 1,
   "id": "325544d7-23b4-44a9-ac8f-de5ad588acf4",
   "metadata": {
    "jupyter": {
     "source_hidden": true
    },
    "tags": []
   },
   "outputs": [
    {
     "name": "stdout",
     "output_type": "stream",
     "text": [
      "Submitted batch job 1491010\n"
     ]
    }
   ],
   "source": [
    "#Combine Reads from flowcells\n",
    "\n",
    "sbatch << EOF\n",
    "#!/bin/bash\n",
    "#SBATCH -J cat\n",
    "#SBATCH --cpus-per-task=1\n",
    "#SBATCH --mem=1G\n",
    "#SBATCH --time=1:00:00\n",
    "#SBATCH -o ${WKDIR}/log/%J.out\n",
    "#SBATCH -e ${WKDIR}/log/%J.err\n",
    "\n",
    "\n",
    "\n",
    "cd /input/genomic/plant/Actinidia/chinensis/ExperimentRequestor11022/AGRF_CAGRF230414403_HFFHYDSX7\n",
    "date\n",
    "cat MBC3_C_HFFHYDSX7_CAGGCG_L002_R1.fastq.gz MBC3_C_HFFHYDSX7_CAGGCG_L003_R1.fastq.gz > /workspace/hraijc/TEMP/Myna_HiC23_R1.fastq.gz\n",
    "cat MBC3_C_HFFHYDSX7_CAGGCG_L002_R2.fastq.gz MBC3_C_HFFHYDSX7_CAGGCG_L003_R2.fastq.gz > /workspace/hraijc/TEMP/Myna_HiC23_R2.fastq.gz\n",
    "date\n",
    "\n",
    "\n",
    "\n",
    "\n",
    "EOF\n"
   ]
  },
  {
   "cell_type": "code",
   "execution_count": null,
   "id": "3414ab62-8e85-4093-993c-c4a50f1794a8",
   "metadata": {
    "jupyter": {
     "source_hidden": true
    },
    "tags": []
   },
   "outputs": [],
   "source": [
    "# Modify Config file\n",
    "\n",
    "cat ${WKDIR}/hic-scaffolding-pipeline/nextflow.config"
   ]
  },
  {
   "cell_type": "code",
   "execution_count": 8,
   "id": "06adca4d-eebc-4070-a398-cc1450c8ee49",
   "metadata": {},
   "outputs": [
    {
     "name": "stdout",
     "output_type": "stream",
     "text": [
      "Submitted batch job 1941063\n"
     ]
    }
   ],
   "source": [
    "# Run\n",
    "\n",
    "sbatch << EOF\n",
    "#!/bin/bash -e\n",
    "\n",
    "#SBATCH -J hic_pipeline_${USER}\n",
    "#SBATCH --time=167:00:00\n",
    "#SBATCH --nodes=1\n",
    "#SBATCH --ntasks=1\n",
    "#SBATCH --cpus-per-task=1\n",
    "#SBATCH -o ${WKDIR}/log/%J.out\n",
    "#SBATCH -e ${WKDIR}/log/%J.err\n",
    "#SBATCH --mem=4G\n",
    "\n",
    "ml nextflow/22.10.4\n",
    "ml apptainer/1.1\n",
    "\n",
    "cd ${WKDIR}/hic-scaffolding-pipeline\n",
    "\n",
    "srun nextflow main.nf -resume\n",
    "EOF\n",
    "\n",
    "\n",
    "\n"
   ]
  },
  {
   "cell_type": "code",
   "execution_count": null,
   "id": "7a4a25ca-fe1f-4492-8b06-436813e71be4",
   "metadata": {},
   "outputs": [],
   "source": []
  },
  {
   "cell_type": "code",
   "execution_count": null,
   "id": "1f19f716-527c-45a1-8efb-8a6875666181",
   "metadata": {},
   "outputs": [],
   "source": [
    "APREFIX=Atri_hic1"
   ]
  },
  {
   "cell_type": "code",
   "execution_count": null,
   "id": "5e7083ce-98d3-4757-ae67-639c0b571a47",
   "metadata": {},
   "outputs": [],
   "source": [
    "#Remove PCR duplicates to speed up analysis.\n",
    "sbatch << EOF\n",
    "#!/bin/bash\n",
    "#SBATCH -J hic\n",
    "#SBATCH -o ${WKDIR}/log/%J.out\n",
    "#SBATCH -e ${WKDIR}/log/%J.err\n",
    "#SBATCH --cpus-per-task=12\n",
    "#SBATCH --mem=10G\n",
    "#SBATCH --time=15:00:00\n",
    "\n",
    "module load samtools/1.16\n",
    "\n",
    "APREFIX=Atri_hic1\n",
    "\n",
    "\n",
    "cd /workspace/hraijc/HiC_trials/HiC23/NovaSeq/Myna/hic-scaffolding-pipeline/work/d7/9f9231cf5d6ad9d69cf958c935a037/\n",
    "\n",
    "samtools view -S -b -h -@ 12 -F 2316 ${APREFIX}_marked_byread.sam > ${APREFIX}_presort_marked.bam\n",
    "\n",
    "samtools sort -@ 12 ${APREFIX}_presort_marked.bam -o ${APREFIX}_marked.bam\n",
    "\n",
    "samtools view -h -@ 12 -F 3340 ${APREFIX}_marked.bam > ${APREFIX}_dedup.sam \n",
    "\n",
    "\n",
    "\n",
    "\n",
    "\n",
    "\n",
    "\n",
    "EOF\n"
   ]
  },
  {
   "cell_type": "code",
   "execution_count": 1,
   "id": "fced4e58-338a-4438-b865-d7fdd6d0bb12",
   "metadata": {},
   "outputs": [
    {
     "name": "stdout",
     "output_type": "stream",
     "text": [
      "Job ID: 1940533\n",
      "Cluster: powerplant\n",
      "User/Group: hraijc/hraijc\n",
      "State: COMPLETED (exit code 0)\n",
      "Nodes: 1\n",
      "Cores per node: 12\n",
      "CPU Utilized: 2-22:46:24\n",
      "CPU Efficiency: 54.93% of 5-08:50:00 core-walltime\n",
      "Job Wall-clock time: 10:44:10\n",
      "Memory Utilized: 9.85 GB\n",
      "Memory Efficiency: 98.52% of 10.00 GB\n"
     ]
    }
   ],
   "source": [
    "seff 1940533"
   ]
  },
  {
   "cell_type": "code",
   "execution_count": 7,
   "id": "8831c448-d84d-4634-a908-802af4c2a2b3",
   "metadata": {},
   "outputs": [
    {
     "name": "stdout",
     "output_type": "stream",
     "text": [
      "Submitted batch job 1940914\n"
     ]
    }
   ],
   "source": [
    "#Remove PCR duplicates to speed up analysis.\n",
    "sbatch << EOF\n",
    "#!/bin/bash\n",
    "#SBATCH -J hic\n",
    "#SBATCH -o ${WKDIR}/log/%J.out\n",
    "#SBATCH -e ${WKDIR}/log/%J.err\n",
    "#SBATCH --cpus-per-task=12\n",
    "#SBATCH --mem=10G\n",
    "#SBATCH --time=15:00:00\n",
    "\n",
    "module load samtools/1.16\n",
    "\n",
    "APREFIX=Atri_hic1\n",
    "\n",
    "\n",
    "cd /powerplant/workspace/hraijc/HiC_trials/HiC23/NovaSeq/Myna/hic-scaffolding-pipeline/TEMP\n",
    "\n",
    "samtools sort -n -@ 12 Atri_hic1_dedup_namesort.sam -o Atri_hic1_dedup.sam\n",
    "\n",
    "\n",
    "\n",
    "\n",
    "EOF\n"
   ]
  },
  {
   "cell_type": "code",
   "execution_count": 2,
   "id": "d18d07b3-4ea2-436a-aa2d-8859a9fc4b8b",
   "metadata": {},
   "outputs": [
    {
     "name": "stdout",
     "output_type": "stream",
     "text": [
      "Job ID: 1940914\n",
      "Cluster: powerplant\n",
      "User/Group: hraijc/hraijc\n",
      "State: COMPLETED (exit code 0)\n",
      "Nodes: 1\n",
      "Cores per node: 12\n",
      "CPU Utilized: 03:17:39\n",
      "CPU Efficiency: 15.44% of 21:19:48 core-walltime\n",
      "Job Wall-clock time: 01:46:39\n",
      "Memory Utilized: 10.11 GB\n",
      "Memory Efficiency: 101.11% of 10.00 GB\n"
     ]
    }
   ],
   "source": [
    "seff 1940914"
   ]
  },
  {
   "cell_type": "code",
   "execution_count": 3,
   "id": "e7f4971d-4d8d-45e5-81de-fc6587c9eb47",
   "metadata": {},
   "outputs": [
    {
     "name": "stdout",
     "output_type": "stream",
     "text": [
      "Submitted batch job 1944752\n"
     ]
    }
   ],
   "source": [
    "#Remove PCR duplicates to speed up analysis.\n",
    "sbatch << EOF\n",
    "#!/bin/bash\n",
    "#SBATCH -J hic\n",
    "#SBATCH -o ${WKDIR}/log/%J.out\n",
    "#SBATCH -e ${WKDIR}/log/%J.err\n",
    "#SBATCH --cpus-per-task=6\n",
    "#SBATCH --mem=1G\n",
    "#SBATCH --time=15:00:00\n",
    "\n",
    "module load samtools/1.16\n",
    "\n",
    "\n",
    "cd /workspace/hraijc/HiC_trials/HiC23/NovaSeq/Myna/hic-scaffolding-pipeline/results/bam\n",
    "\n",
    "samtools view -b -h -@ 6 -F 3340 Atri_hic1_yahs_predup.bam > Atri_hic1_yahs_dedup.bam\n",
    "\n",
    "\n",
    "\n",
    "EOF\n"
   ]
  },
  {
   "cell_type": "markdown",
   "id": "19788fb2-292a-486f-943a-c8111f864a47",
   "metadata": {},
   "source": [
    "## YAHS"
   ]
  },
  {
   "cell_type": "code",
   "execution_count": 19,
   "id": "0964edbf-ed0d-4ab3-b38b-12d37e5ae093",
   "metadata": {},
   "outputs": [],
   "source": [
    "#Set Up\n",
    "WKDIR=/workspace/hraijc/HiC_trials/HiC23/NovaSeq/Myna/yahs\n",
    "ASSEMBLY=/workspace/hraijc/HiC_trials/HiC23/Assemblies/Atri_polished_final_step3.purge.vecscreen.trim.filtered.fna\n",
    "BAMFILE=/workspace/hraijc/HiC_trials/HiC23/NovaSeq/Myna/hic-scaffolding-pipeline/results/bam/Atri_hic1_dedup.bam\n",
    "OUT_PREFIX=Atri_hic1\n",
    "mkdir -p $WKDIR/log\n",
    "cd $WKDIR"
   ]
  },
  {
   "cell_type": "code",
   "execution_count": 14,
   "id": "770efc2f-d20b-4d30-9bbe-d4bbdf5df68c",
   "metadata": {},
   "outputs": [
    {
     "name": "stdout",
     "output_type": "stream",
     "text": [
      "Submitted batch job 1948518\n"
     ]
    }
   ],
   "source": [
    "## Just run YAHS\n",
    "\n",
    "sbatch << EOF\n",
    "#!/bin/bash\n",
    "#SBATCH -J YAHS\n",
    "#SBATCH -o ${WKDIR}/log/%J.out\n",
    "#SBATCH -e ${WKDIR}/log/%J.err\n",
    "#SBATCH --cpus-per-task=1\n",
    "#SBATCH --mem=12G\n",
    "#SBATCH --time=23:00:00\n",
    "\n",
    "cd ${WKDIR}\n",
    "\n",
    "/workspace/hraijc/git_clones/yahs/yahs ${ASSEMBLY} ${BAMFILE} --no-mem-check -o ${OUT_PREFIX}_yahs -r 20000,50000,100000,200000,500000,1000000,2000000,5000000,10000000,20000000,50000000,100000000,200000000,500000000\n",
    "\n",
    "\n",
    "EOF\n"
   ]
  },
  {
   "cell_type": "code",
   "execution_count": 17,
   "id": "5d9f9344-3419-408d-b712-973444190705",
   "metadata": {},
   "outputs": [
    {
     "name": "stdout",
     "output_type": "stream",
     "text": [
      "Submitted batch job 1949004\n"
     ]
    }
   ],
   "source": [
    "## Index new assembly.\n",
    "\n",
    "sbatch << EOF\n",
    "#!/bin/bash\n",
    "#SBATCH -J YAHS\n",
    "#SBATCH -o ${WKDIR}/log/%J.out\n",
    "#SBATCH -e ${WKDIR}/log/%J.err\n",
    "#SBATCH --cpus-per-task=1\n",
    "#SBATCH --mem=1G\n",
    "#SBATCH --time=1:00:00\n",
    "\n",
    "cd ${WKDIR}\n",
    "\n",
    "module load samtools\n",
    "samtools faidx Atri_hic1_yahs_scaffolds_final.fa\n",
    "\n",
    "EOF\n"
   ]
  },
  {
   "cell_type": "code",
   "execution_count": 18,
   "id": "bbe700c8-5de0-4b82-b851-96a3cc31f404",
   "metadata": {},
   "outputs": [
    {
     "name": "stdout",
     "output_type": "stream",
     "text": [
      "Submitted batch job 1949005\n"
     ]
    }
   ],
   "source": [
    "# Make heatmap of YAHS output\n",
    "cd ${WKDIR}\n",
    "out=Atri_hic1_yahs # prefix of outfiles produced by YAHS.  \n",
    "contigs=${ASSEMBLY} # need to be indexed, i.e., test.fa.gz.fai in same directory\n",
    "wkdir=${WKDIR}\n",
    "\n",
    "\n",
    "sbatch --job-name=hic_mapyahs \\\n",
    "    -o ${WKDIR}/log/%J.out \\\n",
    "    -e ${WKDIR}/log/%J.err \\\n",
    "    --cpus-per-task=8 \\\n",
    "    --mem=12G \\\n",
    "    --time=03:10:00 \\\n",
    "    --export=out=$out,contigs=$contigs,wkdir=$wkdir \\\n",
    "    /workspace/hraijc/Gitrepos/High-quality-genomes/Methods/DNase_HiC/notebooks/yahs_contactmapgen2.sh"
   ]
  },
  {
   "cell_type": "code",
   "execution_count": 20,
   "id": "39ff6b3d-814f-4a4f-95cd-4ff591e3b83f",
   "metadata": {},
   "outputs": [
    {
     "name": "stdout",
     "output_type": "stream",
     "text": [
      "Submitted batch job 1949015\n"
     ]
    }
   ],
   "source": [
    "##############\n",
    "#Do manual scaffolding cleanup in JuiceBox then run\n",
    "\n",
    "##############\n",
    "\n",
    "\n",
    "sbatch << EOF\n",
    "#!/bin/bash\n",
    "#SBATCH -J YAHS\n",
    "#SBATCH -o ${WKDIR}/log/%J.out\n",
    "#SBATCH -e ${WKDIR}/log/%J.err\n",
    "#SBATCH --cpus-per-task=1\n",
    "#SBATCH --mem=4G\n",
    "#SBATCH --time=2:00:00\n",
    "\n",
    "#module load samtools\n",
    "\n",
    "\n",
    "cd ${WKDIR}\n",
    "\n",
    "\n",
    "\n",
    "/workspace/hraijc/git_clones/yahs/juicer post -o Atri_hic1_yahs2 Atri_hic1_yahs_JBAT.review.assembly Atri_hic1_yahs_JBAT.liftover.agp ${ASSEMBLY}\n",
    "\n",
    "\n",
    "\n",
    "EOF\n"
   ]
  },
  {
   "cell_type": "markdown",
   "id": "03798916-cd04-4e70-8928-9b9e5ca0437a",
   "metadata": {},
   "source": [
    "### Subset unique mapped reads"
   ]
  },
  {
   "cell_type": "code",
   "execution_count": null,
   "id": "580c861a-ecca-4316-bb3a-3a7c3a15a6d4",
   "metadata": {},
   "outputs": [],
   "source": []
  },
  {
   "cell_type": "code",
   "execution_count": 32,
   "id": "abcdc0ea-5b6e-4cdb-9c05-3a439111c877",
   "metadata": {},
   "outputs": [],
   "source": [
    "WKDIR=/workspace/hraijc/HiC_trials/HiC23/NovaSeq/Myna/hic-scaffolding-pipeline/results\n",
    "BAMFILE=${WKDIR}/bam/Atri_hic1_yahs_dedup.bam\n",
    "mkdir -p ${WKDIR}/log"
   ]
  },
  {
   "cell_type": "code",
   "execution_count": 33,
   "id": "feb079aa-c87c-4fde-96b4-2266c490ebe8",
   "metadata": {},
   "outputs": [
    {
     "name": "stdout",
     "output_type": "stream",
     "text": [
      "Submitted batch job 1949203\n"
     ]
    }
   ],
   "source": [
    "##############\n",
    "# Subset HiC reads to keep unique mapped reads only. speed up analysis for future iterations.\n",
    "\n",
    "##############\n",
    "\n",
    "\n",
    "sbatch << EOF\n",
    "#!/bin/bash\n",
    "#SBATCH -J YAHS\n",
    "#SBATCH -o ${WKDIR}/log/%J.out\n",
    "#SBATCH -e ${WKDIR}/log/%J.err\n",
    "#SBATCH --cpus-per-task=8\n",
    "#SBATCH --mem=12G\n",
    "#SBATCH --time=2:00:00\n",
    "\n",
    "cd ${WKDIR}\n",
    "\n",
    "module load samtools \n",
    "\n",
    "samtools sort -@ 8 -n ${BAMFILE} | samtools fastq -@ 8 ${BAMFILE} -1 Atri_hic1_umap_R1.fastq.gz -2 Atri_hic1_umap_R2.fastq.gz -0 /dev/null -s /dev/null -n\n",
    "\n",
    "\n",
    "\n",
    "EOF"
   ]
  },
  {
   "cell_type": "markdown",
   "id": "1fb6aaa5-fc70-4d6f-9be1-ec43956faa97",
   "metadata": {},
   "source": [
    "## ASSEMBLYQC"
   ]
  },
  {
   "cell_type": "code",
   "execution_count": null,
   "id": "c7d1442b-1d50-4696-a249-216cef837b6e",
   "metadata": {},
   "outputs": [],
   "source": [
    "#git clone git@github.com:PlantandFoodResearch/assembly_qc.git\n"
   ]
  },
  {
   "cell_type": "code",
   "execution_count": 26,
   "id": "a6d83bbd-a3d2-42ca-a53e-401fc6dc0f63",
   "metadata": {
    "tags": []
   },
   "outputs": [],
   "source": [
    "#Set Up\n",
    "WKDIR=/workspace/hraijc/HiC_trials/HiC23/NovaSeq/Myna/assembly_qc\n",
    "ASSEMBLY=/workspace/hraijc/HiC_trials/HiC23/NovaSeq/Myna/Atri_hic1_yahs2.fa\n",
    "mkdir -p $WKDIR/log\n",
    "cd $WKDIR"
   ]
  },
  {
   "cell_type": "code",
   "execution_count": 30,
   "id": "37369e95-9814-475b-b49d-3f8c4297feac",
   "metadata": {},
   "outputs": [
    {
     "name": "stdout",
     "output_type": "stream",
     "text": [
      "includeConfig './conf/base.config'\n",
      "\n",
      "params {\n",
      "    \n",
      "    target_assemblies       = [\n",
      "        [\"Atri_hic1_yahs2\", \"/workspace/hraijc/HiC_trials/HiC23/NovaSeq/Myna/Atri_hic1_yahs2.fa\"]\n",
      "    ]\n",
      "\n",
      "    assembly_gff3           = [\n",
      "        ]\n",
      "    \n",
      "    assemblathon_stats {\n",
      "        n_limit             = 100\n",
      "    }\n",
      "\n",
      "    ncbi_fcs_adaptor {\n",
      "\n",
      "\n",
      "    }\n",
      "\n",
      "    ncbi_fcs_gx {\n",
      "        skip                = 1\n",
      "\n",
      "        tax_id              = \"78410\"\n",
      "\n",
      "        db_path             = \"/workspace/ComparativeDataSources/NCBI/FCS/GX/r2023-01-24\"\n",
      "\n",
      "    }\n",
      "    \n",
      "    busco {\n",
      "        skip                = 0\n",
      "\n",
      "        mode                = \"geno\"\n",
      "        \n",
      "        lineage_datasets    = [\"aves_odb10\"]\n",
      "\n",
      "        download_path       = \"/workspace/ComparativeDataSources/BUSCO/assembly_qc\"\n",
      "    }\n",
      "\n",
      "    tidk {\n",
      "        skip                = 0\n",
      "        \n",
      "        repeat_seq          = \"TTAGGG\"\n",
      "\n",
      "        filter_by_size      = 0\n",
      "\n",
      "        filter_size_bp      = 1000000\n",
      "    }\n",
      "\n",
      "    lai {\n",
      "        skip                = 1\n",
      "\n",
      "        mode                = \"\"\n",
      "\n",
      "        pass_list           = []\n",
      "        out_file            = []\n",
      "\n",
      "        monoploid_seqs      = []\n",
      "        \n",
      "        edta {\n",
      "            is_sensitive    = 0\n",
      "        }\n",
      "    }\n",
      "\n",
      "    kraken2 {\n",
      "        skip                = 0\n",
      "\n",
      "        download_path       = \"/workspace/ComparativeDataSources/kraken2db/k2_pluspfp_08gb_20230605\"\n",
      "    }\n",
      "\n",
      "    hic {\n",
      "        skip                = 0\n",
      "        \n",
      "        paired_reads        = \"/workspace/hraijc/HiC_trials/HiC23/NovaSeq/Myna/hic-scaffolding-pipeline/results/Atri_hic1_umap_R{1,2}.fastq.gz\"\n",
      "    }\n",
      "\n",
      "    synteny {\n",
      "        skip                = 1\n",
      "\n",
      "\n",
      "        assembly_seq_list   = [\n",
      "            [\"hap1\", \"/workspace/assembly_qc/test_data/default/test_data1.seq.list\"],\n",
      "            [\"hap2\", \"/workspace/assembly_qc/test_data/default/test_data2.seq.list\"]\n",
      "        ]\n",
      "        \n",
      "        xref_assemblies     = [\n",
      "            [\"GenomeA\", \"/workspace/assembly_qc/test_data/default/test_data3.fasta\", \"/workspace/assembly_qc/test_data/default/test_data3.seq.list\"],\n",
      "            [\"GenomeB\", \"/workspace/assembly_qc/test_data/default/test_data4.fasta.gz\", \"/workspace/assembly_qc/test_data/default/test_data4.seq.list\"]\n",
      "        ]\n",
      "\n",
      "        many_to_many_align  = 0\n",
      "\n",
      "\n",
      "        plot_1_vs_all       = 1\n",
      "\n",
      "        color_by_contig     = 1\n",
      "    }\n",
      "    \n",
      "    outdir {\n",
      "        main                = \"./report\"\n",
      "    }\n",
      "\n",
      "    \n",
      "    max_cpus                = 12\n",
      "\n",
      "    max_memory              = 512.GB\n",
      "    \n",
      "    max_time                = 7.days\n",
      "}\n",
      "\n",
      "singularity {\n",
      "    cacheDir                = \"/workspace/assembly_qc/singularity\"\n",
      "}\n",
      "\n",
      "includeConfig './conf/module_defaults.config'\n"
     ]
    }
   ],
   "source": [
    "cat nextflow.config | grep -v \"//\""
   ]
  },
  {
   "cell_type": "code",
   "execution_count": null,
   "id": "e9474a81-ff59-4008-a40b-ec05300140fb",
   "metadata": {
    "tags": []
   },
   "outputs": [],
   "source": [
    "sbatch ./assembly_qc_pfr.sh\n"
   ]
  }
 ],
 "metadata": {
  "kernelspec": {
   "display_name": "Bash",
   "language": "bash",
   "name": "bash"
  },
  "language_info": {
   "codemirror_mode": "shell",
   "file_extension": ".sh",
   "mimetype": "text/x-sh",
   "name": "bash"
  }
 },
 "nbformat": 4,
 "nbformat_minor": 5
}
