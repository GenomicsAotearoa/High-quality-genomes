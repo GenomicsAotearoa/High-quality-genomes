{
 "cells": [
  {
   "cell_type": "markdown",
   "id": "010108dc-2367-49bb-9e3d-18ec7629197b",
   "metadata": {},
   "source": [
    "# MinION Test of PoreC library\n",
    "\n",
    "Using Karaka 4 developed using PFR OmniC protocol.\n",
    "\n",
    "### The Bridge sequence used when joining crosslinked chromatin: \n",
    "\n",
    "Oligo 1 is 5Phos/GCTGAGGGA/iBiotin-dT/C\n",
    "\n",
    "Oligo 2 is CCTCAGCT\n",
    "\n",
    "\n",
    "\n",
    "Seq to search for:\n",
    "GCTGAGGGA\n",
    "\n"
   ]
  },
  {
   "cell_type": "markdown",
   "id": "ab84e066-fcfc-4355-ad08-654cd9235088",
   "metadata": {},
   "source": [
    ": Biotinylated bridge adaptor \n",
    "(+) (5’ /5Phos/GCTGAGGGA/iBiotin-dT/C) and Bridge adaptor \n",
    "\n",
    "(-) (5'/ 5Phos/CCTCAGCT). \n",
    "\n",
    "The biotin hapten is connected to the oligonucleotide by a 6-carbon atom chain.\n"
   ]
  },
  {
   "cell_type": "markdown",
   "id": "0eeb5c05-4e1e-46a7-b08a-da1cfd56ad27",
   "metadata": {},
   "source": [
    "AGGGATCCCT"
   ]
  },
  {
   "cell_type": "code",
   "execution_count": 1,
   "id": "b3d2d741-6324-4c72-bba4-1c024537a3e4",
   "metadata": {},
   "outputs": [],
   "source": [
    "WKDIR=/workspace/hraijc/HiC_trials/PoreC_MinION_Trial/02_QC\n",
    "READS=/workspace/hraijc/HiC_trials/PoreC_MinION_Trial/01_Basecalling/fastq/pass/Karaka_PoreC_test1.fastq\n",
    "BRIDGE=${WKDIR}/bridge.fa\n",
    "GENOME=/workspace/hraijc/Karaka/karaka_phasing.hic.hap1.p_ctg.fa\n",
    "cd $WKDIR"
   ]
  },
  {
   "cell_type": "code",
   "execution_count": 2,
   "id": "f11ff6a7-34fd-4351-b758-e97f72fd38da",
   "metadata": {},
   "outputs": [],
   "source": [
    "mkdir -p ${WKDIR}/log"
   ]
  },
  {
   "cell_type": "code",
   "execution_count": 4,
   "id": "fcd79a91-f7f6-4318-bb85-c3d8f21da65d",
   "metadata": {},
   "outputs": [
    {
     "name": "stdout",
     "output_type": "stream",
     "text": [
      "8.7G\t/workspace/hraijc/HiC_trials/PoreC_MinION_Trial/01_Basecalling/fastq/pass/Karaka_PoreC_test1.fastq\n"
     ]
    }
   ],
   "source": [
    "du -sh $READS"
   ]
  },
  {
   "cell_type": "code",
   "execution_count": 2,
   "id": "575d918c-aace-4cd8-b9f0-8c95a392a6ec",
   "metadata": {},
   "outputs": [],
   "source": [
    "module load seqkit"
   ]
  },
  {
   "cell_type": "code",
   "execution_count": 7,
   "id": "429053f5-eed2-4e05-b5dc-baea0e09c5c9",
   "metadata": {},
   "outputs": [
    {
     "name": "stdout",
     "output_type": "stream",
     "text": [
      "file                                                                                                format  type   num_seqs        sum_len  min_len  avg_len  max_len\n",
      "/workspace/hraijc/HiC_trials/PoreC_MinION_Trial/01_Basecalling/fastq/pass/Karaka_PoreC_test1.fastq  FASTQ   DNA   5,192,526  3,512,770,729       28    676.5   66,490\n"
     ]
    }
   ],
   "source": [
    "seqkit stat $READS"
   ]
  },
  {
   "cell_type": "code",
   "execution_count": 13,
   "id": "cc3b194c-a283-42a7-93b0-e1f5ba06fba8",
   "metadata": {},
   "outputs": [
    {
     "name": "stdout",
     "output_type": "stream",
     "text": [
      "file                                                       format  type  num_seqs      sum_len  min_len      avg_len     max_len\n",
      "/workspace/hraijc/Karaka/karaka_phasing.hic.hap1.p_ctg.fa  FASTA   DNA        641  676,150,480   15,009  1,054,836.9  45,881,013\n"
     ]
    }
   ],
   "source": [
    "seqkit stat $GENOME"
   ]
  },
  {
   "cell_type": "code",
   "execution_count": null,
   "id": "525f6f1b-70e0-400a-8527-b674107eff4a",
   "metadata": {},
   "outputs": [],
   "source": []
  },
  {
   "cell_type": "code",
   "execution_count": 6,
   "id": "e4fb7572-800f-4b38-87b2-5b33a9e12e1b",
   "metadata": {},
   "outputs": [
    {
     "name": "stdout",
     "output_type": "stream",
     "text": [
      "531\n",
      "531\n"
     ]
    }
   ],
   "source": [
    "#Count occurences of bridge in reads\n",
    "grep \"AGGGATCCCT\" $READS | wc -l \n",
    "grep \"AGGGATCCCT\" $READS | wc -l \n",
    "# 660k HiC contacts\n",
    "# 188k contacts / Gb"
   ]
  },
  {
   "cell_type": "code",
   "execution_count": 22,
   "id": "e989050f-9d17-4eee-9161-438760eb2db6",
   "metadata": {},
   "outputs": [
    {
     "name": "stdout",
     "output_type": "stream",
     "text": [
      "368284\n",
      "585\n"
     ]
    }
   ],
   "source": [
    "#Do we see the bridge more often than a random sequence?\n",
    "#Bridge Count (shortened)\n",
    "grep \"CCTCAG\" $READS | wc -l \n",
    "grep \"CCTCAG\" $GENOME | wc -l "
   ]
  },
  {
   "cell_type": "code",
   "execution_count": 3,
   "id": "b8954fb4-b908-4615-854d-21f809f72600",
   "metadata": {},
   "outputs": [
    {
     "name": "stdout",
     "output_type": "stream",
     "text": [
      "206010\n",
      "590\n"
     ]
    }
   ],
   "source": [
    "#Bridge Count (randomseq)\n",
    "grep \"CCGATG\" $READS | wc -l \n",
    "grep \"CCGATG\" $GENOME | wc -l "
   ]
  },
  {
   "cell_type": "code",
   "execution_count": null,
   "id": "e9336265-24b9-4615-a0be-0508e93d018e",
   "metadata": {},
   "outputs": [],
   "source": []
  }
 ],
 "metadata": {
  "kernelspec": {
   "display_name": "Bash",
   "language": "bash",
   "name": "bash"
  },
  "language_info": {
   "codemirror_mode": "shell",
   "file_extension": ".sh",
   "mimetype": "text/x-sh",
   "name": "bash"
  }
 },
 "nbformat": 4,
 "nbformat_minor": 5
}
