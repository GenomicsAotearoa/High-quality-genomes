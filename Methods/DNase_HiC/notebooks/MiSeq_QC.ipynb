{
 "cells": [
  {
   "cell_type": "markdown",
   "id": "76863d99-d287-4672-9310-ffb1a82f42bb",
   "metadata": {},
   "source": [
    "# Testing DNase_HiC Libraries\n",
    "MiSeq run of HiC libraries prepared with protocols.io link here....\n",
    "\n",
    "Tried method on:\n",
    "- Kiwifruit (*Actinidia chinensis*)\n",
    "- *Eucalyptus regnans*\n",
    "- Karaka (*Corynocarpus laevigatus*)\n",
    "- Grape (*Vitis sp.*)\n",
    "- *Wahlenbergia ceracea*\n",
    "\n",
    "\n",
    "### Metadata\n",
    "Input genomes here:\n",
    "/workspace/hraijc/HiC_trials/Ash_MinION/Genomes\n",
    "\n",
    "HiC MiSeq Data here:\n",
    "/input/genomic/plant/Actinidia/PopulationsStudies/MiSeq/ExperimentRequestor10984/AG1002_dataset/\n",
    "\n",
    "- Data Sequenced by Auckland Genomics (AG1002)\n",
    "- Experiment requestor number 10984"
   ]
  },
  {
   "cell_type": "code",
   "execution_count": 1,
   "id": "2f6b656d",
   "metadata": {
    "vscode": {
     "languageId": "shellscript"
    }
   },
   "outputs": [],
   "source": [
    "# Set Global Variables\n",
    "WKDIR=/workspace/hraijc/HiC_trials/Ash_MinION\n",
    "TEMP=${WKDIR}/temp\n",
    "LOGDIR=${WKDIR}/log\n",
    "GENOMEDIR=${WKDIR}/Genomes\n",
    "HiCDIR=/input/genomic/plant/Actinidia/PopulationsStudies/MiSeq/ExperimentRequestor10984/AG1002_dataset\n",
    "HiC_CLEAN=${WKDIR}/HiC_Clean"
   ]
  },
  {
   "cell_type": "code",
   "execution_count": 2,
   "id": "15c5b76a-adbd-4fb2-aa63-09681c627dfd",
   "metadata": {
    "vscode": {
     "languageId": "shellscript"
    }
   },
   "outputs": [],
   "source": [
    "cd ${WKDIR}"
   ]
  },
  {
   "cell_type": "code",
   "execution_count": 3,
   "id": "91dfa1ad",
   "metadata": {
    "vscode": {
     "languageId": "shellscript"
    }
   },
   "outputs": [],
   "source": [
    "# Set up workspace\n",
    "mkdir -p $LOGDIR\n",
    "mkdir -p $TEMP\n",
    "mkdir -p $HiC_CLEAN\n"
   ]
  },
  {
   "cell_type": "code",
   "execution_count": 4,
   "id": "9ffbe891-9ead-486b-8b6c-99b0acfa732e",
   "metadata": {},
   "outputs": [
    {
     "name": "stdout",
     "output_type": "stream",
     "text": [
      "AG1002-001_L001_ds.57aba33445fb4bebb603e3c75a661903.json\n",
      "AG1002-002_L001_ds.457b47ab32984ccb98a3f9692f82f60f.json\n",
      "AG1002-003_L001_ds.dcf02d3149ad40bb86e682abe14249ca.json\n",
      "AG1002-004_L001_ds.68af5d965b0945d08f4a1229d1b5bb60.json\n",
      "AG1002-005_L001_ds.596f6b2f812344daa91d4c7ce230b98f.json\n",
      "AG1002-006_L001_ds.2226c11013764a2badf46cf2a1df29ab.json\n",
      "AG1002-007_L001_ds.11f172f5523c4d32ae1cc4b7c9cab79b.json\n",
      "Eucalyptus-Hi-C_S1_L001_R1_001.fastq.gz\n",
      "Eucalyptus-Hi-C_S1_L001_R2_001.fastq.gz\n",
      "Grape-Hi-C_S2_L001_R1_001.fastq.gz\n",
      "Grape-Hi-C_S2_L001_R2_001.fastq.gz\n",
      "Karaka-5-Hi-C_S3_L001_R1_001.fastq.gz\n",
      "Karaka-5-Hi-C_S3_L001_R2_001.fastq.gz\n",
      "TC-T1-SI-Amelanandra_S6_L001_R1_001.fastq.gz\n",
      "TC-T1-SI-Amelanandra_S6_L001_R2_001.fastq.gz\n",
      "TC-T1-SI-Russell_S5_L001_R1_001.fastq.gz\n",
      "TC-T1-SI-Russell_S5_L001_R2_001.fastq.gz\n",
      "TC-T2-Hi-C-Russell_S7_L001_R1_001.fastq.gz\n",
      "TC-T2-Hi-C-Russell_S7_L001_R2_001.fastq.gz\n",
      "Wahlenbergia-Hi-C_S4_L001_R1_001.fastq.gz\n",
      "Wahlenbergia-Hi-C_S4_L001_R2_001.fastq.gz\n"
     ]
    }
   ],
   "source": [
    "ls $HiCDIR"
   ]
  },
  {
   "cell_type": "code",
   "execution_count": 5,
   "id": "55e7bfca-1e25-446e-b939-187a3d96495d",
   "metadata": {
    "vscode": {
     "languageId": "shellscript"
    }
   },
   "outputs": [
    {
     "name": "stdout",
     "output_type": "stream",
     "text": [
      "SBATCH_ARGS: --time 00:10:00 --mem 1G\n",
      "JOB_ARRAY_NAME: /workspace/hraijc/HiC_trials/Ash_MinION/log/AssemblyPrep\n",
      "GROUP_SIZE: 1\n",
      "open: No such file or directory\n",
      "[_razf_open] fail to open /workspace/hraijc/HiC_trials/Ash_MinION/Genomes/Wakefield.fasta\n",
      "[fai_build] fail to open the FASTA file /workspace/hraijc/HiC_trials/Ash_MinION/Genomes/Wakefield.fasta\n",
      "NUM_COMMANDS: 0\n",
      "sbatch: error: Batch job submission failed: Invalid job array specification\n"
     ]
    },
    {
     "ename": "",
     "evalue": "1",
     "output_type": "error",
     "traceback": []
    }
   ],
   "source": [
    "#create reference files for assemblies.\n",
    "\n",
    "module load samtools/0.1.19\n",
    "\n",
    "for ASSEMBLY in ${GENOMEDIR}/*.fasta\n",
    "do\n",
    "    samtools faidx $ASSEMBLY\n",
    "    cut -f1,2 ${ASSEMBLY}.fai > ${ASSEMBLY%.fasta}.genome\n",
    "done | abatch -j ${LOGDIR}/AssemblyPrep --time 00:10:00 --mem 1G | sbatch\n",
    "\n"
   ]
  },
  {
   "cell_type": "markdown",
   "id": "dd8241b6",
   "metadata": {
    "vscode": {
     "languageId": "shellscript"
    }
   },
   "source": [
    "## Wahlenbergia"
   ]
  },
  {
   "cell_type": "code",
   "execution_count": null,
   "id": "07724a33-42ea-49f1-b46f-8e025bec21a6",
   "metadata": {
    "vscode": {
     "languageId": "shellscript"
    }
   },
   "outputs": [],
   "source": [
    "#Set Variables\n",
    "SPDIR=${WKDIR}/Wahlenbergia\n",
    "mkdir -p $SPDIR\n",
    "ASSEMBLY=${GENOMEDIR}/wahlenbergia_ceracea_unphased.fasta\n",
    "APREFIX=Wahlenbergia_hic\n",
    "HiC_RAW=${HiCDIR}/Wahlenbergia-Hi-C_S4_L001_R\n",
    "READ1=${HiC_RAW}1_001.fastq.gz\n",
    "READ2=${HiC_RAW}2_001.fastq.gz\n"
   ]
  },
  {
   "cell_type": "markdown",
   "id": "4d24a412",
   "metadata": {},
   "source": [
    "## Eucalyptus"
   ]
  },
  {
   "cell_type": "code",
   "execution_count": null,
   "id": "8c191a59",
   "metadata": {
    "vscode": {
     "languageId": "shellscript"
    }
   },
   "outputs": [],
   "source": [
    "#Set Variables\n",
    "SPDIR=${WKDIR}/Eucalyptus\n",
    "mkdir -p $SPDIR\n",
    "ASSEMBLY=${GENOMEDIR}/E_regnans_unphased.fasta\n",
    "APREFIX=Eucalyptus_hic\n",
    "HiC_RAW=${HiCDIR}/Eucalyptus-Hi-C_S1_L001_R\n",
    "READ1=${HiC_RAW}1_001.fastq.gz\n",
    "READ2=${HiC_RAW}2_001.fastq.gz\n"
   ]
  },
  {
   "cell_type": "markdown",
   "id": "0227557e",
   "metadata": {},
   "source": [
    "## Grape"
   ]
  },
  {
   "cell_type": "code",
   "execution_count": null,
   "id": "3c7acb36",
   "metadata": {
    "vscode": {
     "languageId": "shellscript"
    }
   },
   "outputs": [],
   "source": [
    "#Set Variables\n",
    "SPDIR=${WKDIR}/Grape\n",
    "mkdir -p $SPDIR\n",
    "ASSEMBLY=${GENOMEDIR}/VITVvi_vZin03_v1.1.primary.fasta\n",
    "APREFIX=Grape_hic\n",
    "HiC_RAW=${HiCDIR}/Grape-Hi-C_S2_L001_R\n",
    "READ1=${HiC_RAW}1_001.fastq.gz\n",
    "READ2=${HiC_RAW}2_001.fastq.gz\n"
   ]
  },
  {
   "cell_type": "markdown",
   "id": "d533954e",
   "metadata": {},
   "source": [
    "## Karaka"
   ]
  },
  {
   "cell_type": "code",
   "execution_count": null,
   "id": "2d29b9b6-a1f3-497d-9a5e-fc38cabc8728",
   "metadata": {
    "vscode": {
     "languageId": "shellscript"
    }
   },
   "outputs": [],
   "source": [
    "#Set Variablessss\n",
    "SPDIR=${WKDIR}/Karaka\n",
    "mkdir -p $SPDIR\n",
    "ASSEMBLY=${GENOMEDIR}/karaka_phasing.hic.hap1.p_ctg.fasta\n",
    "APREFIX=Karaka_hic\n",
    "HiC_RAW=${HiCDIR}/Karaka-5-Hi-C_S3_L001_R\n",
    "READ1=${HiC_RAW}1_001.fastq.gz\n",
    "READ2=${HiC_RAW}2_001.fastq.gz\n"
   ]
  },
  {
   "cell_type": "markdown",
   "id": "7f61ee1f",
   "metadata": {},
   "source": [
    "## Kiwifruit 2N"
   ]
  },
  {
   "cell_type": "code",
   "execution_count": null,
   "id": "9f2c1c1f",
   "metadata": {
    "vscode": {
     "languageId": "shellscript"
    }
   },
   "outputs": [],
   "source": [
    "#Target Capture, Do NOT use\n",
    "#SPDIR=${WKDIR}/Kiwifruit2n\n",
    "#mkdir -p $SPDIR\n",
    "#ASSEMBLY=${GENOMEDIR}/R_Haplotigs.fasta\n",
    "#APREFIX=Kiwifruit2n_hic\n",
    "#HiC_RAW=${HiCDIR}/\n",
    "#READ1=${HiC_RAW}1_001.fastq.gz\n",
    "#READ2=${HiC_RAW}2_001.fastq.gz\n"
   ]
  },
  {
   "cell_type": "code",
   "execution_count": null,
   "id": "5c8f011d-8bf4-4c43-976b-b29ca5c9f149",
   "metadata": {},
   "outputs": [],
   "source": [
    "#QC run for Elena. R\n",
    "#Set Variables\n",
    "SPDIR=${WKDIR}/Kiwifruit2n\n",
    "mkdir -p $SPDIR\n",
    "ASSEMBLY=${GENOMEDIR}/R_Primary.fasta\n",
    "APREFIX=Kiwifruit2n_hic\n",
    "HiC_RAW=/input/genomic/plant/Actinidia/chinensis/Russell/Genome/HiC/ExperimentRequestor10968/AG0936_dataset/Russell5IIM270PBB_S1_L001_R\n",
    "\n",
    "\n",
    "\n",
    "\n",
    "\n",
    "\n",
    "READ1=${HiC_RAW}1_001.fastq.gz\n",
    "READ2=${HiC_RAW}2_001.fastq.gz"
   ]
  },
  {
   "cell_type": "code",
   "execution_count": null,
   "id": "5588817f-6448-450e-96a9-3365c37258f0",
   "metadata": {},
   "outputs": [],
   "source": [
    "#Set Variables\n",
    "SPDIR=${WKDIR}/Kiwifruit_XX\n",
    "mkdir -p $SPDIR\n",
    "ASSEMBLY=/workspace/hraijc/Kiwi/XX/HiC8_Novaseq/RefGenome/CK69_01_v2_contigs_min1kb.fasta\n",
    "APREFIX=Kiwifruit_XX_hic\n",
    "HiC_RAW=/workspace/hraijc/Kiwi/XX/HiC8_MiSeq/220622_M01815_0436/HiC8-lib_S1_L001_R\n",
    "READ1=${HiC_RAW}1_001.fastq.gz\n",
    "READ2=${HiC_RAW}2_001.fastq.gz"
   ]
  },
  {
   "cell_type": "code",
   "execution_count": null,
   "id": "2c11983d-ecbb-4d83-b985-03cfd44601e1",
   "metadata": {},
   "outputs": [],
   "source": []
  },
  {
   "cell_type": "markdown",
   "id": "fea26a32-931c-446e-8b64-6231ea3c76ec",
   "metadata": {},
   "source": [
    "## Raspberry"
   ]
  },
  {
   "cell_type": "code",
   "execution_count": null,
   "id": "b5b7c22a-988c-4fc9-b180-ca9866e86442",
   "metadata": {},
   "outputs": [],
   "source": [
    "#Set Variables\n",
    "SPDIR=${WKDIR}/Wakefield\n",
    "mkdir -p $SPDIR\n",
    "ASSEMBLY=${GENOMEDIR}/Wakefield.fasta\n",
    "APREFIX=Wakefield_hic\n",
    "HiC_RAW=/input/genomic/plant/Rubus/idaeus/Wakefield_genome/HIC/MiseqRun/RI-Hi-C_S2_L001_R\n",
    "READ1=${HiC_RAW}1_001.fastq.gz\n",
    "READ2=${HiC_RAW}2_001.fastq.gz"
   ]
  },
  {
   "cell_type": "code",
   "execution_count": null,
   "id": "4ca56e47-ef3c-46ff-9650-17ef39b3f6d4",
   "metadata": {},
   "outputs": [],
   "source": []
  },
  {
   "cell_type": "code",
   "execution_count": null,
   "id": "e36a9776-611b-4819-b192-f6c49c8a57d4",
   "metadata": {},
   "outputs": [],
   "source": []
  },
  {
   "cell_type": "code",
   "execution_count": null,
   "id": "77c44e13-4479-424a-aea4-66919441fd49",
   "metadata": {},
   "outputs": [],
   "source": []
  },
  {
   "cell_type": "code",
   "execution_count": null,
   "id": "21aafdb3-5ce5-4a62-83c8-59e606c1f135",
   "metadata": {},
   "outputs": [],
   "source": [
    "#Run HiC workflow\n",
    "\n",
    "sbatch << EOF\n",
    "#!/bin/bash\n",
    "#SBATCH -J hic\n",
    "#SBATCH -o ${WKDIR}/log/%J.out\n",
    "#SBATCH -e ${WKDIR}/log/%J.err\n",
    "#SBATCH --cpus-per-task=12\n",
    "#SBATCH --mem=10G\n",
    "#SBATCH --time=5:00:00\n",
    "\n",
    "module load bwa/0.7.17\n",
    "module load samtools/1.16\n",
    "module load conda\n",
    "module load fastp/0.23.2\n",
    "\n",
    "\n",
    "cd ${SPDIR}\n",
    "\n",
    "### Clean HiC Reads with fastp.###\n",
    "fastp \\\n",
    "-i ${READ1} \\\n",
    "-o ${HiC_CLEAN}/${APREFIX}_Clean_R1.fastq.gz \\\n",
    "-I ${READ2} \\\n",
    "-O ${HiC_CLEAN}/${APREFIX}_Clean_R2.fastq.gz \\\n",
    "--trim_front1 15 \\\n",
    "--trim_front2 15 \\\n",
    "--qualified_quality_phred 20 \\\n",
    "--length_required 50 \\\n",
    "--thread 12\n",
    "\n",
    "\n",
    "###Align reads with BWA. Use -5SP for Hi-C reads.###\n",
    "bwa index $ASSEMBLY\n",
    "bwa mem -5SP -t12 ${ASSEMBLY} ${HiC_CLEAN}/${APREFIX}_Clean_R1.fastq.gz ${HiC_CLEAN}/${APREFIX}_Clean_R2.fastq.gz -o ${TEMP}/${APREFIX}.sam\n",
    "\n",
    "\n",
    "\n",
    "###Flag PCR Duplicates with SAMBLASTER###\n",
    "/workspace/hraijc/git_clones/samblaster/samblaster -i ${TEMP}/${APREFIX}.sam -o ${TEMP}/${APREFIX}_marked_byread.sam\n",
    "\n",
    "\n",
    "\n",
    "### Remove unmmaped and non-primary aligned reads. Sort and Index bam files.### \n",
    "samtools view -S -b -h -@ 12 -F 2316 ${TEMP}/${APREFIX}_marked_byread.sam > ${TEMP}/${APREFIX}_presort_marked.bam\n",
    "\n",
    "samtools sort -@ 12 ${TEMP}/${APREFIX}_presort_marked.bam -o ${APREFIX}_marked.bam\n",
    "samtools sort -@ 12 -n ${TEMP}/${APREFIX}_presort_marked.bam -o ${APREFIX}_marked_namesort.bam\n",
    "\n",
    "samtools view -b -h -@ 12 -F 3340 ${APREFIX}_marked.bam > ${TEMP}/${APREFIX}_presort_marked.bam \n",
    "\n",
    "samtools sort -@ 12 ${TEMP}/${APREFIX}_presort_marked.bam -o ${APREFIX}_dedup.bam\n",
    "samtools sort -@ 12 -n ${TEMP}/${APREFIX}_presort_marked.bam -o ${APREFIX}_dedup_namesort.bam\n",
    "\n",
    "samtools index -@ 12 ${APREFIX}_marked.bam \n",
    "\n",
    "samtools index -@ 12 ${APREFIX}_dedup.bam \n",
    "\n",
    "samtools flagstat -@ 12 ${APREFIX}_marked.bam > flagstat.txt\n",
    "samtools flagstat -@ 12 ${APREFIX}_dedup.bam  > flagstat_dedup.txt\n",
    "\n",
    "\n",
    "### HiC QC from Phase genomics ###\n",
    "conda activate hraijc_hic_qc2\n",
    "python /workspace/hraijc/git_clones/hic_qc/hic_qc.py -n -1 -b ${APREFIX}_marked_namesort.bam --outfile_prefix ${APREFIX}_marked\n",
    "python /workspace/hraijc/git_clones/hic_qc/hic_qc.py -n -1 -b ${APREFIX}_dedup_namesort.bam --outfile_prefix ${APREFIX}_dedup\n",
    "\n",
    "conda deactivate\n",
    "\n",
    "\n",
    "## Viz HiC Coverage #####\n",
    "/home/hraijc/.local/bin/plotCoverage -b ${APREFIX}_marked.bam --plotFile example_coverage -n 100000 -o HiC_Coverage_allreads.png --labels ${APREFIX} --plotTitle \"HiC_Coverage all reads\" \n",
    "/home/hraijc/.local/bin/plotCoverage -b ${APREFIX}_dedup.bam --plotFile example_coverage -n 100000 -o HiC_Coverage_unique_reads.png --labels ${APREFIX} --plotTitle \"HiC_Coverage PCR duplicates removed\" \n",
    "\n",
    "\n",
    "### Run YAHS ###\n",
    "#/workspace/hraijc/git_clones/yahs/yahs $ASSEMBLY ${APREFIX}_dedup.bam -o ${APREFIX}_yahs\n",
    "\n",
    "\n",
    "\n",
    "### YAHS without error correction. ###\n",
    "#/workspace/hraijc/git_clones/yahs/yahs --no-contig-ec --no-scaffold-ec $ASSEMBLY ${APREFIX}_dedup.bam -o ${APREFIX}_yahsNoEC\n",
    "\n",
    "\n",
    "\n",
    "\n",
    "EOF\n"
   ]
  },
  {
   "cell_type": "code",
   "execution_count": null,
   "id": "05cd7ffa-d175-4e97-80b0-f5238479b56c",
   "metadata": {},
   "outputs": [],
   "source": []
  }
 ],
 "metadata": {
  "kernelspec": {
   "display_name": "Bash",
   "language": "bash",
   "name": "bash"
  },
  "language_info": {
   "codemirror_mode": "shell",
   "file_extension": ".sh",
   "mimetype": "text/x-sh",
   "name": "bash"
  }
 },
 "nbformat": 4,
 "nbformat_minor": 5
}
