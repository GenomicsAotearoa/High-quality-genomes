{
 "cells": [
  {
   "cell_type": "markdown",
   "id": "453dce81-adb3-4671-8b97-c69155f476cd",
   "metadata": {},
   "source": [
    "# Need to find new coordinates for SNPs in SNP array provided by David C. \n",
    "\n",
    "File name: SNP_array_CGv1_and_v2.xlsx"
   ]
  },
  {
   "cell_type": "code",
   "execution_count": 1,
   "id": "12f9a84e-0047-438a-b85e-c657eb1e0b39",
   "metadata": {},
   "outputs": [],
   "source": [
    "## Set up\n",
    "\n",
    "WKDIR=/workspace/hraijc/Manuka/CrismsonGlory_V2/SNP_Array\n",
    "BLAST_QUERY=${WKDIR}/To_blast.fa\n",
    "CG_V2=/workspace/hraijc/Manuka/CrismsonGlory_V2/Genome_Assembly/manuka_CG_Hybrid_v2e.fasta"
   ]
  },
  {
   "cell_type": "code",
   "execution_count": 2,
   "id": "0a12e57e-d8d5-4d80-a7aa-b967e7eb80bd",
   "metadata": {},
   "outputs": [],
   "source": [
    "#mkdir -p ${WKDIR}/log\n",
    "cd ${WKDIR}"
   ]
  },
  {
   "cell_type": "code",
   "execution_count": 3,
   "id": "ed8e74d2-df67-4e1b-8b9f-66dd814e93e7",
   "metadata": {},
   "outputs": [
    {
     "name": "stdout",
     "output_type": "stream",
     "text": [
      "Submitted batch job 2061431\n"
     ]
    }
   ],
   "source": [
    "# Blast sequence flanking each SNP to the V2 of the Crimson Glory genome. \n",
    "\n",
    "sbatch << EOF\n",
    "#!/bin/bash\n",
    "#SBATCH -J NCBI_BLAST\n",
    "#SBATCH -o ${WKDIR}/log/%J.out\n",
    "#SBATCH -e ${WKDIR}/log/%J.err\n",
    "#SBATCH --cpus-per-task=4\n",
    "#SBATCH --mem=1G\n",
    "#SBATCH --time=01:10:00\n",
    "\n",
    "module load ncbi-blast/2.11.0 \n",
    "\n",
    "\n",
    "makeblastdb -in ${CG_V2} -parse_seqids -dbtype nucl\n",
    "blastn -task dc-megablast -db ${CG_V2} -query ${BLAST_QUERY} -outfmt 6 -num_threads 4 -out SNPs_CGv2_blast_out.txt\n",
    "#-evalue 1e-50\n",
    "EOF"
   ]
  },
  {
   "cell_type": "code",
   "execution_count": 4,
   "id": "e5607de4-0ca1-49f3-80b9-eb929941891b",
   "metadata": {},
   "outputs": [
    {
     "name": "stdout",
     "output_type": "stream",
     "text": [
      "AX-566093349\tLs_scaffold_37\t100.000\t71\t0\t0\t1\t71\t47639\t47569\t1.55e-29\t129\n",
      "AX-566047079\tLs_9\t100.000\t71\t0\t0\t1\t71\t3845304\t3845234\t1.55e-29\t129\n",
      "AX-566030512\tLs_6\t98.592\t71\t1\t0\t1\t71\t5995945\t5995875\t6.60e-28\t124\n",
      "AX-566083478\tLs_10\t100.000\t71\t0\t0\t1\t71\t7597325\t7597255\t1.55e-29\t129\n",
      "AX-566032831\tLs_6\t98.592\t71\t1\t0\t1\t71\t7951279\t7951209\t6.60e-28\t124\n",
      "AX-566095827\tLs_10\t98.592\t71\t1\t0\t1\t71\t15868396\t15868466\t6.60e-28\t124\n",
      "AX-566024048\tLs_6\t100.000\t71\t0\t0\t1\t71\t7510581\t7510651\t1.55e-29\t129\n",
      "AX-566064607\tLs_8\t100.000\t71\t0\t0\t1\t71\t23572505\t23572435\t1.55e-29\t129\n",
      "AX-566031067\tLs_6\t98.592\t71\t1\t0\t1\t71\t1136852\t1136782\t6.60e-28\t124\n",
      "AX-566051961\tLs_1\t100.000\t71\t0\t0\t1\t71\t12741536\t12741466\t1.55e-29\t129\n"
     ]
    }
   ],
   "source": [
    "head SNPs_CGv2_blast_out.txt\n",
    "#qseqid sseqid pident length mismatch gapopen qstart qend sstart send evalue bitscore\n"
   ]
  },
  {
   "cell_type": "code",
   "execution_count": null,
   "id": "7a75de6b-a6f3-431e-a7e8-49dae8df2f99",
   "metadata": {},
   "outputs": [],
   "source": [
    "# Filter for:\n"
   ]
  }
 ],
 "metadata": {
  "kernelspec": {
   "display_name": "Bash",
   "language": "bash",
   "name": "bash"
  },
  "language_info": {
   "codemirror_mode": "shell",
   "file_extension": ".sh",
   "mimetype": "text/x-sh",
   "name": "bash"
  }
 },
 "nbformat": 4,
 "nbformat_minor": 5
}
