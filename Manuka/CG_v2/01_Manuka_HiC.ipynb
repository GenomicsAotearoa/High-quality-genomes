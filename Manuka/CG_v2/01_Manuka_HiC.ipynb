{
 "cells": [
  {
   "cell_type": "markdown",
   "id": "ed696821-0dc1-4160-895c-186038dd2075",
   "metadata": {},
   "source": [
    "# Hi-C Scaffolding Manuka\n"
   ]
  },
  {
   "cell_type": "code",
   "execution_count": 1,
   "id": "80a25328-99a7-463d-8f27-db710d77b1a2",
   "metadata": {},
   "outputs": [],
   "source": [
    "#Set Up\n",
    "WKDIR=/workspace/hraijc/HiC_trials/Manuka\n",
    "\n",
    "mkdir -p $WKDIR/log\n",
    "cd $WKDIR"
   ]
  },
  {
   "cell_type": "code",
   "execution_count": 3,
   "id": "de215408-1e88-4dca-9dca-992e18b985f1",
   "metadata": {},
   "outputs": [
    {
     "name": "stdout",
     "output_type": "stream",
     "text": [
      "Submitted batch job 1522901\n"
     ]
    }
   ],
   "source": [
    "# Input fastq files need to be gzipped for hic-scaffolding-pipeline LOL\n",
    "# From here: /input/genomic/plant/Leptospermum/scoparium/CrimsonGlory/Genome/HiC\n",
    "sbatch << EOF\n",
    "#!/bin/bash\n",
    "#SBATCH -J gzip\n",
    "#SBATCH -o ${WKDIR}/log/%J.out\n",
    "#SBATCH -e ${WKDIR}/log/%J.err\n",
    "#SBATCH --cpus-per-task=1\n",
    "#SBATCH --mem=4G\n",
    "#SBATCH --time=23:00:00\n",
    "\n",
    "cd $WKDIR\n",
    "\n",
    "gzip manuka_S3HiC_AD007_R1.fastq -c > manuka_S3HiC_AD007_R1.fastq.gz\n",
    "gzip manuka_S3HiC_AD007_R2.fastq -c > manuka_S3HiC_AD007_R2.fastq.gz\n",
    "\n",
    "\n",
    "\n",
    "EOF\n"
   ]
  },
  {
   "cell_type": "code",
   "execution_count": 4,
   "id": "567b0d4a-1cdf-44a6-aac0-91cd1fab655b",
   "metadata": {},
   "outputs": [],
   "source": [
    "#IN INTERACTIVE SESSION:\n",
    "#Use Srun not Salloc\n",
    "\"\"\"\n",
    "srun --time 01:00:00 --cpus-per-task 1 --mem-per-cpu 4G --pty bash\n",
    "#WKDIR=/workspace/hraijc/HiC_trials/HiC23/NovaSeq/Urchin\n",
    "cd $WKDIR\n",
    "git clone git@github.com:ignacio3437/hic-scaffolding-pipeline.git\n",
    "cd ${WKDIR}/hic-scaffolding-pipeline/\n",
    "git checkout dev\n",
    "cd ${WKDIR}/hic-scaffolding-pipeline/containers\n",
    "sudo -E singularity build pipeline_container.sif pipeline_container.def\n",
    "\n",
    "\"\"\""
   ]
  },
  {
   "cell_type": "code",
   "execution_count": 2,
   "id": "3414ab62-8e85-4093-993c-c4a50f1794a8",
   "metadata": {},
   "outputs": [
    {
     "name": "stdout",
     "output_type": "stream",
     "text": [
      "includeConfig './conf/base.config'\n",
      "\n",
      "params {\n",
      "\n",
      "    // R1, R2 dataset\n",
      "<<<<<<< HEAD\n",
      "    reads_R1                = \"/workspace/hraijc/HiC_trials/Manuka/manuka_S3HiC_AD007_R1.fastq.gz\"\n",
      "    reads_R2                = \"/workspace/hraijc/HiC_trials/Manuka/manuka_S3HiC_AD007_R1.fastq.gz\"\n",
      "\n",
      "    // Assembly file\n",
      "    assembly_fasta          = \"/workspace/hraijc/HiC_trials/Manuka/primary.genome.scf.fasta\" // SALSA requires fasta to not contain \":\" character\n",
      "\n",
      "    // Prefix for output files\n",
      "    out_prefix              = \"manuka_V1\"\n",
      "=======\n",
      "    reads_R1                = \"/workspace/hraijc/TEMP/Myna_HiC23_R1.fastq.gz\"\n",
      "    reads_R2                = \"/workspace/hraijc/TEMP/Myna_HiC23_R2.fastq.gz\"\n",
      "\n",
      "    // Assembly file\n",
      "    assembly_fasta          = \"/workspace/hraijc/HiC_trials/HiC23/Assemblies/AcTris_vAus2_1.fasta\" // SALSA requires fasta to not contain \":\" character\n",
      "\n",
      "    // Prefix for output files\n",
      "    out_prefix              = \"AcTris_vAus2_1_hic\"\n",
      ">>>>>>> ed7941db422685e0243c4558d4930556b1569a65\n",
      "\n",
      "    //STAG 1 \n",
      "    stop_at_hicqc           = false\n",
      "\n",
      "    //STAG 2: Include one specific scaffolder, report included\n",
      "    only_run_yahs           = false\n",
      "    only_run_salsa2         = false\n",
      "    only_run_allhic         = false\n",
      "    only_run_3D_DNA         = false\n",
      "    \n",
      "\n",
      "    /* https://github.com/c-zhou/yahs\n",
      "    yahs_params{\n",
      "        scaffolding_with_agp_file       = \"\" // for exmple: -a\n",
      "        resolution                      = \"\" // for exmple: -r\n",
      "        enzyme                          = \"\" // for exmple: -e GATC\n",
      "        min_contig_len                  = \"\" // for exmple: -l\n",
      "        skip_assembly_error_correction  = \"\" // for example: --no-contig-ec\n",
      "        skip_scaffolding_error_check    = \"\" // for example: --no-scaffold-ec\n",
      "        diable_runtime_memory_check     = \"\" // for example: --no-mem-check\n",
      "    }\n",
      "    */\n",
      "\n",
      "    /*\n",
      "    salsa2_params{\n",
      "        \n",
      "    }\n",
      "    */\n",
      "\n",
      "\n",
      "<<<<<<< HEAD\n",
      "    yahs_params             = \"-l 1000 -q 20 --no-mem-check\"\n",
      "    salsa2_params           = \"-e GATC -s 300000000 -i 3 -m no\"\n",
      "=======\n",
      "    yahs_params             = \"--no-contig-ec -l 10000 -q 20\"\n",
      "    salsa2_params           = \"-e DNASE -s 1300000000 -i 3 -m no\"\n",
      ">>>>>>> ed7941db422685e0243c4558d4930556b1569a65\n",
      "    allhic_params {\n",
      "        no_of_chrs          = 29\n",
      "    }\n",
      "    \n",
      "    threeddna_params        = \"\"\n",
      "\n",
      "    //STAG 2: No scaffolding at all, fastqc report, hic_qc report and final hic heatmap. \n",
      "    skip_scaffolding_step  = false\n",
      "    \n",
      "    heatmap_resolution      = \"250000\"\n",
      "\n",
      "\n",
      "    //STAG 3: Scaffolders Benchmarking\n",
      "\n",
      "    tidk {        \n",
      "        // http://telomerase.asu.edu/sequences_telomere.html\n",
      "        // Plant: TTTAGGG, Fungus, Vertebrates: TTAGGG, Insect: TTAGG\n",
      "        repeat_seq          = \"TTTAGGG\"\n",
      "    }\n",
      "\n",
      "\n",
      "    should_email            = false\n",
      "    email                   = \"First.Last@plantandfood.co.nz\"\n",
      "\n",
      "    // Without a storage server, the HIC SCAFFOLDING REPORT process cannot\n",
      "    // load hic files for presentation.\n",
      "    // If a storage server is not available, set the below 'storage_server' variable to null.\n",
      "    // This will store all the individual results in the hic_scaffolding_report\n",
      "    // folder but will not curate them into a single HTML report.\n",
      "    storage_server          = \"https://storage.powerplant.pfr.co.nz\"\n",
      "\n",
      "    // Results folder\n",
      "    // All the results are stored under 'results' directory inside the\n",
      "    // directory from which the pipeline is launched.\n",
      "}\n",
      "\n",
      "includeConfig './conf/compiled.config'"
     ]
    }
   ],
   "source": [
    "# Modify Config file\n",
    "\n",
    "cat ${WKDIR}/hic-scaffolding-pipeline/nextflow.config"
   ]
  },
  {
   "cell_type": "code",
   "execution_count": 14,
   "id": "06adca4d-eebc-4070-a398-cc1450c8ee49",
   "metadata": {
    "tags": []
   },
   "outputs": [],
   "source": [
    "# Setup slurm.sh\n",
    "\n",
    "cat << EOF > hic_pipeline_slurm.sh\n",
    "#!/bin/bash -e\n",
    "\n",
    "#SBATCH -J hic_pipeline_${USER}\n",
    "#SBATCH --time=170:00:00\n",
    "#SBATCH --nodes=1\n",
    "#SBATCH --ntasks=1\n",
    "#SBATCH --cpus-per-task=1\n",
    "#SBATCH -o ${WKDIR}/log/%J.out\n",
    "#SBATCH -e ${WKDIR}/log/%J.err\n",
    "#SBATCH --mem=4G\n",
    "\n",
    "ml nextflow/22.10.4\n",
    "ml apptainer/1.1\n",
    "\n",
    "cd ${WKDIR}/hic-scaffolding-pipeline\n",
    "\n",
    "srun nextflow main.nf -resume\n",
    "EOF\n",
    "\n",
    "\n",
    "\n"
   ]
  },
  {
   "cell_type": "code",
   "execution_count": 4,
   "id": "8756ef1f-e787-4749-9bad-7a656e66565f",
   "metadata": {},
   "outputs": [
    {
     "name": "stdout",
     "output_type": "stream",
     "text": [
      "Submitted batch job 1529297\n"
     ]
    }
   ],
   "source": [
    "# Run Pipeline\n",
    "#chmod u+x ./hic_pipeline_slurm.sh\n",
    "sbatch ./hic_pipeline_slurm.sh"
   ]
  },
  {
   "cell_type": "markdown",
   "id": "a862dcdd-bed2-4cc8-9dfb-a0a644c6a2b5",
   "metadata": {},
   "source": [
    "\n",
    "## Just redo YAHS\n",
    "\n"
   ]
  },
  {
   "cell_type": "code",
   "execution_count": 10,
   "id": "300a14db-30d8-4d7b-89e5-3e9367eb5b20",
   "metadata": {},
   "outputs": [],
   "source": [
    "# Set Variables\n",
    "WKDIR=/workspace/hraijc/HiC_trials/Manuka\n",
    "ASSEMBLY=${WKDIR}/primary.genome.scf.fasta\n",
    "BAMFILE=${WKDIR}/manuka_V1_dedup.bam\n",
    "APREFIX=manuka_V1\n",
    "cd ${WKDIR}"
   ]
  },
  {
   "cell_type": "code",
   "execution_count": 2,
   "id": "3ea6e2f0-9cd5-47a8-af37-32246e193e53",
   "metadata": {},
   "outputs": [],
   "source": [
    "mkdir -p ${WKDIR}/log"
   ]
  },
  {
   "cell_type": "code",
   "execution_count": 3,
   "id": "dca91178-e1a7-42fc-92df-836bf7f1cef7",
   "metadata": {},
   "outputs": [
    {
     "name": "stdout",
     "output_type": "stream",
     "text": [
      "ln: failed to create symbolic link ‘/workspace/hraijc/HiC_trials/Manuka/manuka_V1_dedup.bam’: File exists\n"
     ]
    },
    {
     "ename": "",
     "evalue": "1",
     "output_type": "error",
     "traceback": []
    }
   ],
   "source": [
    "# Starting with Bamfile generated with HiC-scaffolding-pipeline that keeps stalling.\n",
    "ln -s ${WKDIR}/hic-scaffolding-pipeline/results/bam/manuka_V1_dedup.bam ${BAMFILE}\n"
   ]
  },
  {
   "cell_type": "code",
   "execution_count": 4,
   "id": "06e27d9f-01af-4d0e-86f7-a473796c9103",
   "metadata": {},
   "outputs": [
    {
     "name": "stdout",
     "output_type": "stream",
     "text": [
      "Submitted batch job 1554381\n"
     ]
    }
   ],
   "source": [
    "#Just run YAHS\n",
    "\n",
    "sbatch << EOF\n",
    "#!/bin/bash\n",
    "#SBATCH -J YAHS\n",
    "#SBATCH -o ${WKDIR}/log/%J.out\n",
    "#SBATCH -e ${WKDIR}/log/%J.err\n",
    "#SBATCH --cpus-per-task=1\n",
    "#SBATCH --mem=48G\n",
    "#SBATCH --time=23:00:00\n",
    "\n",
    "cd ${WKDIR}\n",
    "\n",
    "module load samtools\n",
    "\n",
    "samtools faidx ${ASSEMBLY}\n",
    "\n",
    "\n",
    "### Run YAHS ###\n",
    "#/workspace/hraijc/git_clones/yahs/yahs ${ASSEMBLY} ${BAMFILE} -o ${APREFIX}_yahs #This is actually _yahs_20k because it runs out of RAM silently. \n",
    "/workspace/hraijc/git_clones/yahs/yahs ${ASSEMBLY} ${BAMFILE} --no-mem-check -o ${APREFIX}_yahs_20K -r 20000,50000,100000,200000,500000,1000000,2000000,5000000,10000000,20000000,50000000,100000000,200000000,500000000\n",
    "/workspace/hraijc/git_clones/yahs/yahs ${ASSEMBLY} ${BAMFILE} --no-mem-check -o ${APREFIX}_yahs_10K -r 10000,20000,50000,100000,200000,500000,1000000,2000000,5000000,10000000,20000000,50000000,100000000,200000000,500000000\n",
    "/workspace/hraijc/git_clones/yahs/yahs ${ASSEMBLY} ${BAMFILE} --no-mem-check -o ${APREFIX}_yahs_5K -r 5000,10000,20000,50000,100000,200000,500000,1000000,2000000,5000000,10000000,20000000,50000000,100000000,200000000,500000000\n",
    "/workspace/hraijc/git_clones/yahs/yahs ${ASSEMBLY} ${BAMFILE} --no-mem-check -o ${APREFIX}_yahs_1K -r 1000,5000,10000,20000,50000,100000,200000,500000,1000000,2000000,5000000,10000000,20000000,50000000,100000000,200000000,500000000\n",
    "\n",
    "\n",
    "\n",
    "\n",
    "### YAHS without error correction. ###\n",
    "#/workspace/hraijc/git_clones/yahs/yahs --no-contig-ec --no-scaffold-ec $ASSEMBLY ${BAMFILE} -o ${APREFIX}_yahsNoEC\n",
    "\n",
    "\n",
    "\n",
    "\n",
    "EOF\n"
   ]
  },
  {
   "cell_type": "code",
   "execution_count": 8,
   "id": "ddba9c2a-05f5-4157-b961-32c9fbb0c128",
   "metadata": {},
   "outputs": [
    {
     "name": "stdout",
     "output_type": "stream",
     "text": [
      "Submitted batch job 1555370\n"
     ]
    }
   ],
   "source": [
    "out=${APREFIX}_yahs_20K # prefix of outfiles produced by YAHS.  \n",
    "contigs=${ASSEMBLY} # need to be indexed, i.e., test.fa.gz.fai in same directory\n",
    "wkdir=${WKDIR}\n",
    "\n",
    "\n",
    "sbatch --job-name=hic_mapyahs \\\n",
    "    -o ${WKDIR}/log/%J.out \\\n",
    "    -e ${WKDIR}/log/%J.err \\\n",
    "    --cpus-per-task=8 \\\n",
    "    --mem=24G \\\n",
    "    --time=03:10:00 \\\n",
    "    --export=out=$out,contigs=$contigs,wkdir=$wkdir \\\n",
    "    /workspace/hraijc/Gitrepos/High-quality-genomes/Methods/DNase_HiC/notebooks/yahs_contactmapgen2.sh"
   ]
  },
  {
   "cell_type": "code",
   "execution_count": 12,
   "id": "a6824e5e-d38c-4d44-8cb4-13478bfd2fe0",
   "metadata": {},
   "outputs": [
    {
     "name": "stdout",
     "output_type": "stream",
     "text": [
      "Submitted batch job 1560483\n"
     ]
    }
   ],
   "source": [
    "sbatch << EOF\n",
    "#!/bin/bash\n",
    "#SBATCH -J YAHS\n",
    "#SBATCH -o ${WKDIR}/log/%J.out\n",
    "#SBATCH -e ${WKDIR}/log/%J.err\n",
    "#SBATCH --cpus-per-task=1\n",
    "#SBATCH --mem=4G\n",
    "#SBATCH --time=2:00:00\n",
    "\n",
    "module load samtools\n",
    "\n",
    "\n",
    "cd ${WKDIR}\n",
    "\n",
    "module load samtools\n",
    "\n",
    "/workspace/hraijc/git_clones/yahs/juicer post -o ${APREFIX}_v2 ${APREFIX}_yahs_10K_JBAT.review.assembly ${APREFIX}_yahs_10K_JBAT.liftover.agp ${ASSEMBLY}\n",
    "\n",
    "\n",
    "\n",
    "EOF"
   ]
  },
  {
   "cell_type": "code",
   "execution_count": null,
   "id": "97d5f70a-67eb-45ef-b69c-4db8fc72bc28",
   "metadata": {},
   "outputs": [],
   "source": []
  },
  {
   "cell_type": "markdown",
   "id": "b9301ec5-42d2-4680-b8b5-e77169b71ac7",
   "metadata": {},
   "source": [
    "## QC Assemblies"
   ]
  },
  {
   "cell_type": "code",
   "execution_count": 13,
   "id": "04c9203c-8c5f-406d-9335-aec5a293d35a",
   "metadata": {
    "tags": []
   },
   "outputs": [
    {
     "name": "stdout",
     "output_type": "stream",
     "text": [
      "java -ea -Xmx200m -cp /software/bioinformatics/BBMap-38.33/current/ jgi.AssemblyStatsWrapper format=3 in=/workspace/hraijc/HiC_trials/Manuka/primary.genome.scf.fasta,manuka_V1_yahs_1K_scaffolds_final.fa,manuka_V1_yahs_5K_scaffolds_final.fa,manuka_V1_yahs_10K_scaffolds_final.fa,manuka_V1_yahs_20K_scaffolds_final.fa,manuka_v2.fa format=3\n",
      "n_scaffolds\tn_contigs\tscaf_bp\tcontig_bp\tgap_pct\tscaf_N50\tscaf_L50\tctg_N50\tctg_L50\tscaf_N90\tscaf_L90\tctg_N90\tctg_L90\tscaf_max\tctg_max\tscaf_n_gt50K\tscaf_pct_gt50K\tgc_avg\tgc_std\tfilename\n",
      "14133\t14149\t351338343\t351336743\t0.000\t352\t229082\t358\t227892\t2341\t15286\t2355\t15205\t2483064\t2483064\t1352\t81.891\t0.40979\t0.06297\t/powerplant/workspace/hraijc/HiC_trials/Manuka/primary.genome.scf.fasta\n",
      "12356\t14601\t351784143\t351336743\t0.127\t33\t2920380\t448\t192865\t646\t19924\t2636\t14438\t12101987\t2483064\t369\t87.536\t0.40979\t0.05691\t/powerplant/workspace/hraijc/HiC_trials/Manuka/manuka_V1_yahs_1K_scaffolds_final.fa\n",
      "12681\t14601\t351719143\t351336743\t0.109\t7\t13688648\t448\t192865\t732\t15789\t2636\t14438\t48386517\t2483064\t225\t86.240\t0.40979\t0.05741\t/powerplant/workspace/hraijc/HiC_trials/Manuka/manuka_V1_yahs_5K_scaffolds_final.fa\n",
      "12920\t14601\t351671343\t351336743\t0.095\t7\t19256392\t448\t192865\t955\t14454\t2636\t14438\t36412886\t2483064\t217\t84.894\t0.40979\t0.05826\t/powerplant/workspace/hraijc/HiC_trials/Manuka/manuka_V1_yahs_10K_scaffolds_final.fa\n",
      "13280\t14601\t351599343\t351336743\t0.075\t7\t19961310\t448\t192865\t1315\t14454\t2636\t14438\t43133744\t2483064\t290\t82.355\t0.40979\t0.05976\t/powerplant/workspace/hraijc/HiC_trials/Manuka/manuka_V1_yahs_20K_scaffolds_final.fa\n",
      "12924\t14601\t351670543\t351336743\t0.095\t8\t15777695\t448\t192865\t959\t14454\t2636\t14438\t31070159\t2483064\t221\t84.894\t0.40979\t0.05828\t/powerplant/workspace/hraijc/HiC_trials/Manuka/manuka_v2.fa\n"
     ]
    }
   ],
   "source": [
    "\n",
    "\n",
    "#QC assemblies before Hi-Scaffolding\n",
    "\n",
    "\n",
    "module load BBMap/38.33\n",
    "statswrapper.sh in=$ASSEMBLY,${APREFIX}_yahs_1K_scaffolds_final.fa,${APREFIX}_yahs_5K_scaffolds_final.fa,${APREFIX}_yahs_10K_scaffolds_final.fa,${APREFIX}_yahs_20K_scaffolds_final.fa,manuka_v2.fa format=3\n",
    "module unload BBMap/38.33\n"
   ]
  },
  {
   "cell_type": "markdown",
   "id": "d72258d9-3406-4873-8106-9915fa08f3a1",
   "metadata": {},
   "source": [
    "| n_scaffolds \t| n_contigs \t| scaf_bp \t| contig_bp \t| gap_pct \t| scaf_N50 \t| scaf_L50 \t| ctg_N50 \t| ctg_L50 \t| scaf_N90 \t| scaf_L90 \t| ctg_N90 \t| ctg_L90 \t| scaf_max \t| ctg_max \t| scaf_n_gt50K \t| scaf_pct_gt50K \t| gc_avg \t| gc_std \t| filename \t|\n",
    "|---\t|---\t|---\t|---\t|---\t|---\t|---\t|---\t|---\t|---\t|---\t|---\t|---\t|---\t|---\t|---\t|---\t|---\t|---\t|---\t|\n",
    "| 14133 \t| 14149 \t| 351338343 \t| 351336743 \t| 0.000 \t| 352 \t| 229082 \t| 358 \t| 227892 \t| 2341 \t| 15286 \t| 2355 \t| 15205 \t| 2483064 \t| 2483064 \t| 1352 \t| 81.891 \t| 0.40979 \t| 0.06297 \t| /powerplant/workspace/hraijc/HiC_trials/Manuka/primary.genome.scf.fasta \t|\n",
    "| 12356 \t| 14601 \t| 351784143 \t| 351336743 \t| 0.127 \t| 33 \t| 2920380 \t| 448 \t| 192865 \t| 646 \t| 19924 \t| 2636 \t| 14438 \t| 12101987 \t| 2483064 \t| 369 \t| 87.536 \t| 0.40979 \t| 0.05691 \t| /powerplant/workspace/hraijc/HiC_trials/Manuka/manuka_V1_yahs_1K_scaffolds_final.fa \t|\n",
    "| 12681 \t| 14601 \t| 351719143 \t| 351336743 \t| 0.109 \t| 7 \t| 13688648 \t| 448 \t| 192865 \t| 732 \t| 15789 \t| 2636 \t| 14438 \t| 48386517 \t| 2483064 \t| 225 \t| 86.240 \t| 0.40979 \t| 0.05741 \t| /powerplant/workspace/hraijc/HiC_trials/Manuka/manuka_V1_yahs_5K_scaffolds_final.fa \t|\n",
    "| 12920 \t| 14601 \t| 351671343 \t| 351336743 \t| 0.095 \t| 7 \t| 19256392 \t| 448 \t| 192865 \t| 955 \t| 14454 \t| 2636 \t| 14438 \t| 36412886 \t| 2483064 \t| 217 \t| 84.894 \t| 0.40979 \t| 0.05826 \t| /powerplant/workspace/hraijc/HiC_trials/Manuka/manuka_V1_yahs_10K_scaffolds_final.fa \t|\n",
    "| 13280 \t| 14601 \t| 351599343 \t| 351336743 \t| 0.075 \t| 7 \t| 19961310 \t| 448 \t| 192865 \t| 1315 \t| 14454 \t| 2636 \t| 14438 \t| 43133744 \t| 2483064 \t| 290 \t| 82.355 \t| 0.40979 \t| 0.05976 \t| /powerplant/workspace/hraijc/HiC_trials/Manuka/manuka_V1_yahs_20K_scaffolds_final.fa \t|\n",
    "| 12924 \t| 14601 \t| 351670543 \t| 351336743 \t| 0.095 \t| 8 \t| 15777695 \t| 448 \t| 192865 \t| 959 \t| 14454 \t| 2636 \t| 14438 \t| 31070159 \t| 2483064 \t| 221 \t| 84.894 \t| 0.40979 \t| 0.05828 \t| /powerplant/workspace/hraijc/HiC_trials/Manuka/manuka_v2.fa \t|"
   ]
  },
  {
   "cell_type": "markdown",
   "id": "295a602a-fad3-4830-8674-99e108b75d4c",
   "metadata": {},
   "source": [
    "| n_scaffolds \t| n_contigs \t| scaf_bp \t| contig_bp \t| gap_pct \t| scaf_N50 \t| scaf_L50 \t| ctg_N50 \t| ctg_L50 \t| scaf_N90 \t| scaf_L90 \t| ctg_N90 \t| ctg_L90 \t| scaf_max \t| ctg_max \t| scaf_n_gt50K \t| scaf_pct_gt50K \t| gc_avg \t| gc_std \t| filename \t|\n",
    "|---\t|---\t|---\t|---\t|---\t|---\t|---\t|---\t|---\t|---\t|---\t|---\t|---\t|---\t|---\t|---\t|---\t|---\t|---\t|---\t|\n",
    "| 14133 \t| 14149 \t| 351338343 \t| 351336743 \t| 0.000 \t| 352 \t| 229082 \t| 358 \t| 227892 \t| 2341 \t| 15286 \t| 2355 \t| 15205 \t| 2483064 \t| 2483064 \t| 1352 \t| 81.891 \t| 0.40979 \t| 0.06297 \t| /powerplant/workspace/hraijc/HiC_trials/Manuka/primary.genome.scf.fasta \t|\n",
    "| 12924 \t| 14601 \t| 351670543 \t| 351336743 \t| 0.095 \t| 8 \t| 15777695 \t| 448 \t| 192865 \t| 959 \t| 14454 \t| 2636 \t| 14438 \t| 31070159 \t| 2483064 \t| 221 \t| 84.894 \t| 0.40979 \t| 0.05828 \t| /powerplant/workspace/hraijc/HiC_trials/Manuka/manuka_v2.fa \t|"
   ]
  },
  {
   "cell_type": "code",
   "execution_count": null,
   "id": "c9e9c230-489a-4380-9b59-f8e2b6c51eea",
   "metadata": {},
   "outputs": [],
   "source": []
  },
  {
   "cell_type": "code",
   "execution_count": null,
   "id": "3fbb3916-5ee7-4539-b0da-90510d6991a7",
   "metadata": {},
   "outputs": [],
   "source": []
  },
  {
   "cell_type": "code",
   "execution_count": null,
   "id": "dddb555b-502d-4b0d-a2f1-9cbbc543e21e",
   "metadata": {},
   "outputs": [],
   "source": []
  },
  {
   "cell_type": "code",
   "execution_count": 1,
   "id": "a665ee61-8a0e-4b87-ba09-31b4ea9e6466",
   "metadata": {},
   "outputs": [],
   "source": [
    "WKDIR=/workspace/hraijc/HiC_trials/Manuka\n",
    "cd $WKDIR"
   ]
  },
  {
   "cell_type": "code",
   "execution_count": 2,
   "id": "99ca1f52-9012-424a-b5e2-2c414b3c1acc",
   "metadata": {},
   "outputs": [
    {
     "name": "stdout",
     "output_type": "stream",
     "text": [
      "Submitted batch job 1663385\n"
     ]
    }
   ],
   "source": [
    "sbatch << EOF\n",
    "#!/bin/bash -e\n",
    "\n",
    "\n",
    "#SBATCH --job-name ASM_QC\n",
    "#SBATCH --time=10:00:00\n",
    "#SBATCH --nodes=1\n",
    "#SBATCH --ntasks=1\n",
    "#SBATCH --cpus-per-task=4\n",
    "#SBATCH -o ${WKDIR}/log/%J.out\n",
    "#SBATCH -e ${WKDIR}/log/%J.err\n",
    "#SBATCH --mem=4G\n",
    "\n",
    "cd /workspace/hraijc/HiC_trials/Manuka/assembly_qc\n",
    "\n",
    "ml unload perl\n",
    "ml Python/3.10.4-GCCcore-11.2.0-bare\n",
    "ml apptainer/1.1\n",
    "ml nextflow/22.10.4\n",
    "ml assemblathon_stats/14dfdab\n",
    "\n",
    "export TMPDIR=\"/workspace/$USER/tmp\"\n",
    "\n",
    "srun nextflow main.nf -profile slurm -resume\n",
    "\n",
    "\n",
    "EOF"
   ]
  },
  {
   "cell_type": "markdown",
   "id": "93793ec3-af78-4d35-8ee5-ac3162dc4a7a",
   "metadata": {
    "tags": []
   },
   "source": [
    "## BLOBTOOLS"
   ]
  },
  {
   "cell_type": "code",
   "execution_count": 8,
   "id": "e6bb0f54-c0ff-466f-9ba5-89c2e3cfb1c9",
   "metadata": {},
   "outputs": [],
   "source": [
    "WKDIR=/workspace/hraijc/HiC_trials/Manuka/blobplots\n",
    "\n",
    "ASSEMBLY=/workspace/hraijc/HiC_trials/Manuka/manuka_v2.fa\n",
    "\n",
    "READS=/workspace/hraijc/HiC_trials/Manuka/manuka_S3HiC_AD007_R1.fastq\n",
    "MINIMAPX=sr\n",
    "PREFIX=ManukaV2\n",
    "\n",
    "cd ${WKDIR}"
   ]
  },
  {
   "cell_type": "code",
   "execution_count": 13,
   "id": "5a8802be-f04e-4a6f-8fe7-6feba0588892",
   "metadata": {},
   "outputs": [],
   "source": [
    "mkdir -p ${WKDIR}/log\n",
    "mkdir -p ${WKDIR}/blasthits\n",
    "mkdir -p ${WKDIR}/bamfiles"
   ]
  },
  {
   "cell_type": "code",
   "execution_count": 18,
   "id": "f2225e96-001e-4fed-bf0f-1aa8852ddea3",
   "metadata": {},
   "outputs": [
    {
     "name": "stdout",
     "output_type": "stream",
     "text": [
      "Submitted batch job 1620062\n"
     ]
    }
   ],
   "source": [
    "# Create coverage files.\n",
    "sbatch << EOF\n",
    "#!/bin/bash\n",
    "#SBATCH -J minimap_samtools\n",
    "#SBATCH -o ${WKDIR}/log/%J.out\n",
    "#SBATCH -e ${WKDIR}/log/%J.err\n",
    "#SBATCH --cpus-per-task=32\n",
    "#SBATCH --mem=20G\n",
    "#SBATCH --time=11:00:00\n",
    "\n",
    "module load minimap2/2.22\n",
    "module load samtools/1.16\n",
    "\n",
    "## Map ##\n",
    "minimap2 -t 32 -ax ${MINIMAPX} ${ASSEMBLY} ${READS} > ${WKDIR}/bamfiles/${PREFIX}.sam\n",
    "\n",
    "## Sam -> bam ##\n",
    "samtools view --threads 32 -b ${WKDIR}/bamfiles/${PREFIX}.sam > ${WKDIR}/bamfiles/${PREFIX}.bam\n",
    "\n",
    "## Sort bam ##\n",
    "samtools sort --threads 32 ${WKDIR}/bamfiles/${PREFIX}.bam > ${WKDIR}/bamfiles/${PREFIX}.sorted.bam\n",
    "\n",
    "## index bam ##\n",
    "samtools index ${WKDIR}/bamfiles/${PREFIX}.sorted.bam\n",
    "\n",
    "\n",
    "EOF\n"
   ]
  },
  {
   "cell_type": "code",
   "execution_count": null,
   "id": "b7dd49dd-79d5-44a8-9832-31e2cd5e6e35",
   "metadata": {},
   "outputs": [],
   "source": [
    "cd ${WKDIR}/bamfiles/\n",
    "mkdir sorted\n",
    "mv *.sorted.bam* sorted\n",
    "rm -rf *am\n",
    "mv sorted/* .\n",
    "rm -rf sorted/"
   ]
  },
  {
   "cell_type": "code",
   "execution_count": 15,
   "id": "aea1cc5f-36ab-4795-a665-628513b8fd29",
   "metadata": {},
   "outputs": [
    {
     "name": "stdout",
     "output_type": "stream",
     "text": [
      "Submitted batch job 1620060\n"
     ]
    }
   ],
   "source": [
    "# Create Blast files.\n",
    "\n",
    "\n",
    "sbatch << EOF\n",
    "#!/bin/bash\n",
    "#SBATCH -J megablast\n",
    "#SBATCH -o ${WKDIR}/log/%J.out\n",
    "#SBATCH -e ${WKDIR}/log/%J.err\n",
    "#SBATCH --cpus-per-task=32\n",
    "#SBATCH --mem=10G\n",
    "#SBATCH --time=11:00:00\n",
    "\n",
    "module load ncbi-blast/2.11.0\n",
    "\n",
    "blastn \\\n",
    "-task megablast \\\n",
    "-query ${ASSEMBLY} \\\n",
    "-db /workspace/ComparativeDataSources/NCBI/nt/nt \\\n",
    "-outfmt '6 qseqid staxids bitscore std' \\\n",
    "-max_target_seqs 1 \\\n",
    "-max_hsps 1 \\\n",
    "-num_threads 32 \\\n",
    "-evalue 1e-25 \\\n",
    "-out ${WKDIR}/blasthits/${PREFIX}.vs.nt.mts1.hsp1.1e25.megablast.out\n",
    "\n",
    "\n",
    "\n",
    "\n",
    "EOF\n",
    "\n"
   ]
  },
  {
   "cell_type": "code",
   "execution_count": 20,
   "id": "f545c259-0fae-44b6-80c8-337c01cac3ed",
   "metadata": {},
   "outputs": [
    {
     "name": "stdout",
     "output_type": "stream",
     "text": [
      "Submitted batch job 1620158\n"
     ]
    }
   ],
   "source": [
    "sbatch << EOF\n",
    "#!/bin/bash\n",
    "#SBATCH -J blobtools\n",
    "#SBATCH -o ${WKDIR}/log/%J.out\n",
    "#SBATCH -e ${WKDIR}/log/%J.err\n",
    "#SBATCH --cpus-per-task=2\n",
    "#SBATCH --mem=1G\n",
    "#SBATCH --time=2:00:00\n",
    "\n",
    "module load conda\n",
    "conda activate hraijc_blobtools\n",
    "/workspace/hraijc/git_clones/blobtools/blobtools --version\n",
    "\n",
    "/workspace/hraijc/git_clones/blobtools/blobtools create \\\n",
    " -i ${ASSEMBLY} \\\n",
    " -b ${WKDIR}/bamfiles/${PREFIX}.sorted.bam \\\n",
    " -t ${WKDIR}/blasthits/${PREFIX}.vs.nt.mts1.hsp1.1e25.megablast.out \\\n",
    " -o ${WKDIR}/${PREFIX}.blobplot\n",
    "\n",
    " \n",
    " \n",
    "/workspace/hraijc/git_clones/blobtools/blobtools plot \\\n",
    " -i ${WKDIR}/${PREFIX}.blobplot.blobDB.json \\\n",
    " -o ${WKDIR}/${PREFIX}.blobplot\n",
    " \n",
    " \n",
    " \n",
    "/workspace/hraijc/git_clones/blobtools/blobtools view \\\n",
    " -i ${WKDIR}/${PREFIX}.blobplot.blobDB.json \\\n",
    " -o ${WKDIR}/${PREFIX}.blobplot\n",
    "\n",
    "\n",
    "EOF"
   ]
  },
  {
   "cell_type": "code",
   "execution_count": null,
   "id": "6826e61e-beb3-488b-8e61-f9d2af161a3e",
   "metadata": {},
   "outputs": [],
   "source": []
  },
  {
   "cell_type": "markdown",
   "id": "6a4a693f-3aeb-4864-93cb-85a5ec70ec49",
   "metadata": {},
   "source": [
    "## AFTER BLOBPLOT FILTERING"
   ]
  },
  {
   "cell_type": "code",
   "execution_count": 9,
   "id": "4a521632-058c-4e7d-a2d9-5de0498a8b63",
   "metadata": {},
   "outputs": [],
   "source": [
    "module load seqtk\n",
    "seqtk subseq $ASSEMBLY /workspace/hraijc/HiC_trials/Manuka/blobplots/blobplot_keep.txt > /workspace/hraijc/HiC_trials/Manuka/manuka_v2a.fa"
   ]
  },
  {
   "cell_type": "code",
   "execution_count": null,
   "id": "238736e3-51b0-45bd-9efe-a03ec47cb39a",
   "metadata": {},
   "outputs": [],
   "source": []
  },
  {
   "cell_type": "code",
   "execution_count": null,
   "id": "9cb9ac27-5906-4ded-8567-72d375a13742",
   "metadata": {},
   "outputs": [],
   "source": []
  },
  {
   "cell_type": "code",
   "execution_count": null,
   "id": "99fa2956-a5d8-4f3d-a5e0-08a2d980639a",
   "metadata": {},
   "outputs": [],
   "source": []
  },
  {
   "cell_type": "code",
   "execution_count": 2,
   "id": "2e98ffc2-4131-4322-b9ac-80f3367e6d96",
   "metadata": {},
   "outputs": [],
   "source": [
    "#Set Variables\n",
    "WKDIR=/workspace/hraijc/HiC_trials/Manuka/\n",
    "ASSEMBLY=/workspace/hraijc/HiC_trials/Manuka/manuka_v2a.fa\n",
    "APREFIX=manuka_v2b\n",
    "HiC_RAW=/workspace/hraijc/HiC_trials/Manuka/manuka_S3HiC_AD007_R\n",
    "READ1=${HiC_RAW}1.fastq\n",
    "READ2=${HiC_RAW}2.fastq\n",
    "CPUS=1\n",
    "BAMFILE=${APREFIX}_presort_marked.bam"
   ]
  },
  {
   "cell_type": "code",
   "execution_count": 14,
   "id": "da90f59c-0f44-4061-9e60-525408606a91",
   "metadata": {},
   "outputs": [
    {
     "name": "stdout",
     "output_type": "stream",
     "text": [
      "24K\t/workspace/hraijc/HiC_trials/Manuka/manuka_S3HiC_AD007_R1.fastq\n",
      "24K\t/workspace/hraijc/HiC_trials/Manuka/manuka_S3HiC_AD007_R2.fastq\n",
      "322M\t/workspace/hraijc/HiC_trials/Manuka/manuka_v2a.fa\n"
     ]
    }
   ],
   "source": [
    "du -sh $READ1\n",
    "du -sh $READ2\n",
    "du -sh $ASSEMBLY\n"
   ]
  },
  {
   "cell_type": "code",
   "execution_count": 15,
   "id": "27164817-caeb-49d4-9f31-5e2e006d1093",
   "metadata": {},
   "outputs": [
    {
     "name": "stdout",
     "output_type": "stream",
     "text": [
      "Submitted batch job 1663810\n"
     ]
    }
   ],
   "source": [
    "#Run HiC workflow again after doing blobtools filtering.\n",
    "\n",
    "sbatch << EOF\n",
    "#!/bin/bash\n",
    "#SBATCH -J hic\n",
    "#SBATCH -o ${WKDIR}/log/%J.out\n",
    "#SBATCH -e ${WKDIR}/log/%J.err\n",
    "#SBATCH --cpus-per-task=${CPUS}\n",
    "#SBATCH --mem=25G\n",
    "#SBATCH --time=45:00:00\n",
    "\n",
    "module load bwa/0.7.17\n",
    "module load samtools/1.16\n",
    "\n",
    "cd $WKDIR\n",
    "\n",
    "###Align reads with BWA. Use -5SP for Hi-C reads.###\n",
    "#bwa index ${ASSEMBLY}\n",
    "#bwa mem -5SP -t ${CPUS} ${ASSEMBLY} ${READ1} ${READ2} -o ${APREFIX}.sam\n",
    "\n",
    "\n",
    "\n",
    "###Flag PCR Duplicates with SAMBLASTER###\n",
    "#/workspace/hraijc/git_clones/samblaster/samblaster -i ${APREFIX}.sam -o ${APREFIX}_marked_byread.sam\n",
    "\n",
    "\n",
    "\n",
    "### Remove unmmaped and non-primary aligned reads. Sort and Index bam files.### \n",
    "#samtools view --threads ${CPUS} -S -b -h -F 2316 ${APREFIX}_marked_byread.sam > ${BAMFILE}\n",
    "samtools faidx ${ASSEMBLY}\n",
    "\n",
    "### Run YAHS ###\n",
    "/workspace/hraijc/git_clones/yahs/yahs ${ASSEMBLY} ${BAMFILE} --no-mem-check -o ${APREFIX}_yahs_20K -r 20000,50000,100000,200000,500000,1000000,2000000,5000000,10000000,20000000,50000000,100000000,200000000,500000000\n",
    "/workspace/hraijc/git_clones/yahs/yahs ${ASSEMBLY} ${BAMFILE} --no-mem-check -o ${APREFIX}_yahs_10K -r 10000,20000,50000,100000,200000,500000,1000000,2000000,5000000,10000000,20000000,50000000,100000000,200000000,500000000\n",
    "/workspace/hraijc/git_clones/yahs/yahs ${ASSEMBLY} ${BAMFILE} --no-mem-check -o ${APREFIX}_yahs_5K -r 5000,10000,20000,50000,100000,200000,500000,1000000,2000000,5000000,10000000,20000000,50000000,100000000,200000000,500000000\n",
    "\n",
    "\n",
    "\n",
    "\n",
    "EOF\n"
   ]
  },
  {
   "cell_type": "code",
   "execution_count": 3,
   "id": "f3e5b2f3-ed60-4484-97ea-48c94e281769",
   "metadata": {},
   "outputs": [
    {
     "name": "stdout",
     "output_type": "stream",
     "text": [
      "java -ea -Xmx200m -cp /software/bioinformatics/BBMap-38.33/current/ jgi.AssemblyStatsWrapper format=3 in=manuka_v2.fa,manuka_v2a.fa,manuka_v2b_yahs_5K_scaffolds_final.fa,manuka_v2b_yahs_10K_scaffolds_final.fa,manuka_v2b_yahs_20K_scaffolds_final.fa format=3\n",
      "n_scaffolds\tn_contigs\tscaf_bp\tcontig_bp\tgap_pct\tscaf_N50\tscaf_L50\tctg_N50\tctg_L50\tscaf_N90\tscaf_L90\tctg_N90\tctg_L90\tscaf_max\tctg_max\tscaf_n_gt50K\tscaf_pct_gt50K\tgc_avg\tgc_std\tfilename\n",
      "12924\t14601\t351670543\t351336743\t0.095\t8\t15777695\t448\t192865\t959\t14454\t2636\t14438\t31070159\t2483064\t221\t84.894\t0.40979\t0.05828\t/powerplant/workspace/hraijc/HiC_trials/Manuka/manuka_v2.fa\n",
      "462\t2052\t294318832\t294002332\t0.108\t6\t21727876\t318\t244159\t17\t4623713\t1218\t66000\t31070159\t2483064\t139\t97.540\t0.39648\t0.01118\t/powerplant/workspace/hraijc/HiC_trials/Manuka/manuka_v2a.fa\n",
      "406\t2117\t294343032\t294002332\t0.116\t6\t22218532\t321\t237260\t14\t7933626\t1228\t65584\t38879479\t2483064\t113\t98.088\t0.39648\t0.01758\t/powerplant/workspace/hraijc/HiC_trials/Manuka/manuka_v2b_yahs_5K_scaffolds_final.fa\n",
      "457\t2117\t294332832\t294002332\t0.112\t5\t24358461\t321\t237260\t12\t7933626\t1228\t65584\t39989661\t2483064\t113\t97.745\t0.39648\t0.01721\t/powerplant/workspace/hraijc/HiC_trials/Manuka/manuka_v2b_yahs_10K_scaffolds_final.fa\n",
      "477\t2117\t294328832\t294002332\t0.111\t6\t22204332\t321\t237260\t13\t8558000\t1228\t65584\t33501919\t2483064\t110\t97.522\t0.39648\t0.01708\t/powerplant/workspace/hraijc/HiC_trials/Manuka/manuka_v2b_yahs_20K_scaffolds_final.fa\n"
     ]
    }
   ],
   "source": [
    "# QC ASSEMBLIES\n",
    "\n",
    "cd $WKDIR\n",
    "module load BBMap/38.33\n",
    "statswrapper.sh in=manuka_v2.fa,manuka_v2a.fa,${APREFIX}_yahs_5K_scaffolds_final.fa,${APREFIX}_yahs_10K_scaffolds_final.fa,${APREFIX}_yahs_20K_scaffolds_final.fa format=3\n",
    "module unload BBMap/38.33\n"
   ]
  },
  {
   "cell_type": "markdown",
   "id": "5f612a4f-3c02-4e8d-a85d-65baae6541c2",
   "metadata": {},
   "source": [
    "| n_scaffolds \t| n_contigs \t| scaf_bp \t| contig_bp \t| gap_pct \t| scaf_N50 \t| scaf_L50 \t| ctg_N50 \t| ctg_L50 \t| scaf_N90 \t| scaf_L90 \t| ctg_N90 \t| ctg_L90 \t| scaf_max \t| ctg_max \t| scaf_n_gt50K \t| scaf_pct_gt50K \t| gc_avg \t| gc_std \t| filename \t|\n",
    "|---\t|---\t|---\t|---\t|---\t|---\t|---\t|---\t|---\t|---\t|---\t|---\t|---\t|---\t|---\t|---\t|---\t|---\t|---\t|---\t|\n",
    "| 12924 \t| 14601 \t| 351670543 \t| 351336743 \t| 0.095 \t| 8 \t| 15777695 \t| 448 \t| 192865 \t| 959 \t| 14454 \t| 2636 \t| 14438 \t| 31070159 \t| 2483064 \t| 221 \t| 84.894 \t| 0.40979 \t| 0.05828 \t| /powerplant/workspace/hraijc/HiC_trials/Manuka/manuka_v2.fa \t|\n",
    "| 462 \t| 2052 \t| 294318832 \t| 294002332 \t| 0.108 \t| 6 \t| 21727876 \t| 318 \t| 244159 \t| 17 \t| 4623713 \t| 1218 \t| 66000 \t| 31070159 \t| 2483064 \t| 139 \t| 97.540 \t| 0.39648 \t| 0.01118 \t| /powerplant/workspace/hraijc/HiC_trials/Manuka/manuka_v2a.fa \t|\n",
    "| 406 \t| 2117 \t| 294343032 \t| 294002332 \t| 0.116 \t| 6 \t| 22218532 \t| 321 \t| 237260 \t| 14 \t| 7933626 \t| 1228 \t| 65584 \t| 38879479 \t| 2483064 \t| 113 \t| 98.088 \t| 0.39648 \t| 0.01758 \t| /powerplant/workspace/hraijc/HiC_trials/Manuka/manuka_v2b_yahs_5K_scaffolds_final.fa \t|\n",
    "| 457 \t| 2117 \t| 294332832 \t| 294002332 \t| 0.112 \t| 5 \t| 24358461 \t| 321 \t| 237260 \t| 12 \t| 7933626 \t| 1228 \t| 65584 \t| 39989661 \t| 2483064 \t| 113 \t| 97.745 \t| 0.39648 \t| 0.01721 \t| /powerplant/workspace/hraijc/HiC_trials/Manuka/manuka_v2b_yahs_10K_scaffolds_final.fa \t|\n",
    "| 477 \t| 2117 \t| 294328832 \t| 294002332 \t| 0.111 \t| 6 \t| 22204332 \t| 321 \t| 237260 \t| 13 \t| 8558000 \t| 1228 \t| 65584 \t| 33501919 \t| 2483064 \t| 110 \t| 97.522 \t| 0.39648 \t| 0.01708 \t| /powerplant/workspace/hraijc/HiC_trials/Manuka/manuka_v2b_yahs_20K_scaffolds_final.fa \t|"
   ]
  },
  {
   "cell_type": "code",
   "execution_count": null,
   "id": "aee2a440-6651-40c3-ac5d-c9de23dfa15f",
   "metadata": {},
   "outputs": [],
   "source": []
  },
  {
   "cell_type": "code",
   "execution_count": 4,
   "id": "8419ac72-1e8a-4477-800f-27fd929e49f8",
   "metadata": {},
   "outputs": [
    {
     "name": "stdout",
     "output_type": "stream",
     "text": [
      "Submitted batch job 1685862\n"
     ]
    }
   ],
   "source": [
    "out=${APREFIX}_yahs_10K # prefix of outfiles produced by YAHS.  \n",
    "contigs=${ASSEMBLY} # need to be indexed, i.e., test.fa.gz.fai in same directory\n",
    "wkdir=${WKDIR}\n",
    "\n",
    "\n",
    "sbatch --job-name=hic_mapyahs \\\n",
    "    -o ${WKDIR}/log/%J.out \\\n",
    "    -e ${WKDIR}/log/%J.err \\\n",
    "    --cpus-per-task=8 \\\n",
    "    --mem=24G \\\n",
    "    --time=03:10:00 \\\n",
    "    --export=out=$out,contigs=$contigs,wkdir=$wkdir \\\n",
    "    /workspace/hraijc/Gitrepos/High-quality-genomes/Methods/DNase_HiC/notebooks/yahs_contactmapgen2.sh"
   ]
  },
  {
   "cell_type": "code",
   "execution_count": 5,
   "id": "fa685513-3841-45c5-ba60-5650c136c73d",
   "metadata": {},
   "outputs": [
    {
     "name": "stdout",
     "output_type": "stream",
     "text": [
      "Submitted batch job 1685904\n"
     ]
    }
   ],
   "source": [
    "sbatch << EOF\n",
    "#!/bin/bash\n",
    "#SBATCH -J YAHS\n",
    "#SBATCH -o ${WKDIR}/log/%J.out\n",
    "#SBATCH -e ${WKDIR}/log/%J.err\n",
    "#SBATCH --cpus-per-task=1\n",
    "#SBATCH --mem=4G\n",
    "#SBATCH --time=2:00:00\n",
    "\n",
    "module load samtools\n",
    "\n",
    "\n",
    "cd ${WKDIR}\n",
    "\n",
    "module load samtools\n",
    "\n",
    "/workspace/hraijc/git_clones/yahs/juicer post -o ${APREFIX}_v2c ${APREFIX}_yahs_10K_JBAT.review.assembly ${APREFIX}_yahs_10K_JBAT.liftover.agp ${ASSEMBLY}\n",
    "\n",
    "\n",
    "\n",
    "EOF"
   ]
  },
  {
   "cell_type": "code",
   "execution_count": 7,
   "id": "f5670908-f68e-4f5c-8b46-2309f9d24971",
   "metadata": {},
   "outputs": [],
   "source": [
    "#Remove short contigs.\n",
    "module load seqkit\n",
    "seqkit seq manuka_v2c.fa -m 100000 > manuka_v2c_100kb.fa\n",
    "seqkit seq manuka_v2c.fa -m 10000 > manuka_v2c_10kb.fa\n",
    "module unload seqkit"
   ]
  },
  {
   "cell_type": "code",
   "execution_count": 3,
   "id": "40ff9540-d341-46cf-b43e-e0c9fc18ccd7",
   "metadata": {},
   "outputs": [
    {
     "name": "stdout",
     "output_type": "stream",
     "text": [
      "Submitted batch job 1707648\n"
     ]
    }
   ],
   "source": [
    "sbatch << EOF\n",
    "#!/bin/bash\n",
    "#SBATCH -J BUSCO\n",
    "#SBATCH -o ${WKDIR}/log/%J.out\n",
    "#SBATCH -e ${WKDIR}/log/%J.err\n",
    "#SBATCH --cpus-per-task=12\n",
    "#SBATCH --mem=4G\n",
    "#SBATCH --time=2:00:00\n",
    "\n",
    "module load BUSCO/v5.2.2\n",
    "\n",
    "\n",
    "cd ${WKDIR}\n",
    "\n",
    "busco -i manuka_v2c.fa -l eudicots_odb10 -o manuka_v2c_Busco -m geno -c 12\n",
    "busco -i manuka_v2c_10kb.fa -l eudicots_odb10 -o manuka_v2c10kb_Busco -m geno -c 12\n",
    "busco -i manuka_v2c_100kb.fa -l eudicots_odb10 -o manuka_v2c100kb_Busco -m geno -c 12\n",
    "\n",
    "\n",
    "EOF"
   ]
  },
  {
   "cell_type": "code",
   "execution_count": 8,
   "id": "e3e9451d-7e66-40bd-88ff-3697609bd0ea",
   "metadata": {},
   "outputs": [
    {
     "name": "stdout",
     "output_type": "stream",
     "text": [
      "java -ea -Xmx200m -cp /software/bioinformatics/BBMap-38.33/current/ jgi.AssemblyStatsWrapper format=3 in=manuka_v2.fa,manuka_v2a.fa,manuka_v2c.fa,manuka_v2c_10kb.fa,manuka_v2c_100kb.fa format=3\n",
      "n_scaffolds\tn_contigs\tscaf_bp\tcontig_bp\tgap_pct\tscaf_N50\tscaf_L50\tctg_N50\tctg_L50\tscaf_N90\tscaf_L90\tctg_N90\tctg_L90\tscaf_max\tctg_max\tscaf_n_gt50K\tscaf_pct_gt50K\tgc_avg\tgc_std\tfilename\n",
      "12924\t14601\t351670543\t351336743\t0.095\t8\t15777695\t448\t192865\t959\t14454\t2636\t14438\t31070159\t2483064\t221\t84.894\t0.40979\t0.05828\t/powerplant/workspace/hraijc/HiC_trials/Manuka/manuka_v2.fa\n",
      "462\t2052\t294318832\t294002332\t0.108\t6\t21727876\t318\t244159\t17\t4623713\t1218\t66000\t31070159\t2483064\t139\t97.540\t0.39648\t0.01118\t/powerplant/workspace/hraijc/HiC_trials/Manuka/manuka_v2a.fa\n",
      "513\t2197\t294337632\t294002332\t0.114\t6\t21553676\t329\t233913\t17\t1135615\t1265\t63384\t29967390\t2483064\t129\t97.074\t0.39648\t0.01714\t/powerplant/workspace/hraijc/HiC_trials/Manuka/manuka_v2c.fa\n",
      "478\t2162\t294264632\t293929332\t0.114\t6\t21553676\t329\t233913\t17\t1135615\t1264\t63465\t29967390\t2483064\t129\t97.098\t0.39648\t0.01297\t/powerplant/workspace/hraijc/HiC_trials/Manuka/manuka_v2c_10kb.fa\n",
      "66\t1701\t280882613\t280557013\t0.116\t6\t21553676\t301\t249577\t14\t7403826\t1096\t77283\t29967390\t2483064\t66\t100.000\t0.39631\t0.00965\t/powerplant/workspace/hraijc/HiC_trials/Manuka/manuka_v2c_100kb.fa\n"
     ]
    }
   ],
   "source": [
    "cd $WKDIR\n",
    "module load BBMap/38.33\n",
    "statswrapper.sh in=manuka_v2.fa,manuka_v2a.fa,manuka_v2c.fa,manuka_v2c_10kb.fa,manuka_v2c_100kb.fa format=3\n",
    "module unload BBMap/38.33"
   ]
  },
  {
   "cell_type": "markdown",
   "id": "92bac20d-0ea3-4059-8dc5-bc34b3d1666d",
   "metadata": {},
   "source": [
    "| n_scaffolds \t| n_contigs \t| scaf_bp \t| contig_bp \t| gap_pct \t| scaf_N50 \t| scaf_L50 \t| ctg_N50 \t| ctg_L50 \t| scaf_N90 \t| scaf_L90 \t| ctg_N90 \t| ctg_L90 \t| scaf_max \t| ctg_max \t| scaf_n_gt50K \t| scaf_pct_gt50K \t| gc_avg \t| gc_std \t| filename \t| BUSCO \t|\n",
    "|---\t|---\t|---\t|---\t|---\t|---\t|---\t|---\t|---\t|---\t|---\t|---\t|---\t|---\t|---\t|---\t|---\t|---\t|---\t|---\t|---\t|\n",
    "| 12924 \t| 14601 \t| 351670543 \t| 351336743 \t| 0.095 \t| 8 \t| 15777695 \t| 448 \t| 192865 \t| 959 \t| 14454 \t| 2636 \t| 14438 \t| 31070159 \t| 2483064 \t| 221 \t| 84.894 \t| 0.40979 \t| 0.05828 \t| /powerplant/workspace/hraijc/HiC_trials/Manuka/manuka_v2.fa \t|  \t|\n",
    "| 462 \t| 2052 \t| 294318832 \t| 294002332 \t| 0.108 \t| 6 \t| 21727876 \t| 318 \t| 244159 \t| 17 \t| 4623713 \t| 1218 \t| 66000 \t| 31070159 \t| 2483064 \t| 139 \t| 97.540 \t| 0.39648 \t| 0.01118 \t| /powerplant/workspace/hraijc/HiC_trials/Manuka/manuka_v2a.fa \t| C:97.9%[S:95.2%,D:2.7%],F:1.0%,M:1.1%,n:1614 \t|\n",
    "| 513 \t| 2197 \t| 294337632 \t| 294002332 \t| 0.114 \t| 6 \t| 21553676 \t| 329 \t| 233913 \t| 17 \t| 1135615 \t| 1265 \t| 63384 \t| 29967390 \t| 2483064 \t| 129 \t| 97.074 \t| 0.39648 \t| 0.01714 \t| /powerplant/workspace/hraijc/HiC_trials/Manuka/manuka_v2c.fa \t| C:97.9%[S:95.0%,D:2.9%],F:1.0%,M:1.1%,n:1614 \t|\n",
    "| 478 \t| 2162 \t| 294264632 \t| 293929332 \t| 0.114 \t| 6 \t| 21553676 \t| 329 \t| 233913 \t| 17 \t| 1135615 \t| 1264 \t| 63465 \t| 29967390 \t| 2483064 \t| 129 \t| 97.098 \t| 0.39648 \t| 0.01297 \t| /powerplant/workspace/hraijc/HiC_trials/Manuka/manuka_v2c_10kb.fa \t| C:97.3%[S:94.2%,D:3.1%],F:0.9%,M:1.8%,n:2326 \t|\n",
    "| 66 \t| 1701 \t| 280882613 \t| 280557013 \t| 0.116 \t| 6 \t| 21553676 \t| 301 \t| 249577 \t| 14 \t| 7403826 \t| 1096 \t| 77283 \t| 29967390 \t| 2483064 \t| 66 \t| 100.000 \t| 0.39631 \t| 0.00965 \t| /powerplant/workspace/hraijc/HiC_trials/Manuka/manuka_v2c_100kb.fa \t| C:96.9%[S:94.4%,D:2.5%],F:0.9%,M:2.2%,n:2326 \t|"
   ]
  },
  {
   "cell_type": "code",
   "execution_count": 4,
   "id": "0fca1fa3-bb31-4ac6-9ae1-f475322155e6",
   "metadata": {},
   "outputs": [
    {
     "name": "stdout",
     "output_type": "stream",
     "text": [
      "Submitted batch job 2009244\n"
     ]
    }
   ],
   "source": [
    "##############\n",
    "# Subset HiC reads to keep unique mapped reads only. speed up analysis for future iterations.\n",
    "\n",
    "##############\n",
    "\n",
    "cd ${WKDIR}\n",
    "\n",
    "sbatch << EOF\n",
    "#!/bin/bash\n",
    "#SBATCH -J samtoolsfastq\n",
    "#SBATCH -o ${WKDIR}/log/%J.out\n",
    "#SBATCH -e ${WKDIR}/log/%J.err\n",
    "#SBATCH --cpus-per-task=8\n",
    "#SBATCH --mem=12G\n",
    "#SBATCH --time=12:00:00\n",
    "\n",
    "cd ${WKDIR}\n",
    "\n",
    "module load samtools \n",
    "\n",
    "samtools view -h -b -@ 8 -F 3340 ${BAMFILE} | samtools sort -@ 8 -n | samtools fastq -@ 8 -1 ${OUTPREFIX}_R1.fastq.gz -2 ${OUTPREFIX}_R2.fastq.gz -0 /dev/null -s /dev/null -n\n",
    "\n",
    "\n",
    "\n",
    "EOF"
   ]
  },
  {
   "cell_type": "code",
   "execution_count": 3,
   "id": "28e716b4-b764-402c-9707-0fb393936105",
   "metadata": {},
   "outputs": [],
   "source": []
  }
 ],
 "metadata": {
  "kernelspec": {
   "display_name": "Bash",
   "language": "bash",
   "name": "bash"
  },
  "language_info": {
   "codemirror_mode": "shell",
   "file_extension": ".sh",
   "mimetype": "text/x-sh",
   "name": "bash"
  }
 },
 "nbformat": 4,
 "nbformat_minor": 5
}
