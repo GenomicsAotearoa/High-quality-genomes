{
 "cells": [
  {
   "cell_type": "markdown",
   "id": "9e98e5de-ca35-41ff-b2ab-c00d4b1645e9",
   "metadata": {},
   "source": [
    "## Putting final touches on Crimson Glory genome assembly.\n",
    "\n",
    "#### Need to make sure the scaffolds are named after the chromosomes of *Eucalyptus grandis* and that the scaffolds are all in the correct order/orientation.\n",
    "\n",
    "#### Using most recent genome assembly by Australian National University found here: \n",
    "https://www.ncbi.nlm.nih.gov/datasets/genome/GCF_016545825.1/\n",
    "\n"
   ]
  },
  {
   "cell_type": "code",
   "execution_count": 8,
   "id": "a9c252c2-85f5-46b3-bbea-929a06f42935",
   "metadata": {},
   "outputs": [],
   "source": [
    "## Set up\n",
    "\n",
    "WKDIR=/workspace/hraijc/Manuka/CrismsonGlory_V2/Genome_Assembly\n",
    "EG_ASSEMBLY=/workspace/hraijc/Manuka/CrismsonGlory_V2/Genome_Assembly/assembly_qc/GCF_016545825.1_ASM1654582v1_genomic.fna\n",
    "EG_ASSEMBLY2=/workspace/ComparativeDataSources/Myrtaceae/Eucalyptus/grandis/Genome/v2.0/assembly/Egrandis_297_v2.0.fa\n",
    "\n",
    "V2C_ORIGINAL=/workspace/hrtjbs/Manuka_annotation/genome/manuka_CG_Hybrid_HiC_v2c.fa\n",
    "V2C=${WKDIR}/manuka_CG_Hybrid_HiC_v2c.fa\n",
    "V2D=${WKDIR}/manuka_CG_Hybrid_v2d_100kb.fasta\n",
    "V2E=${WKDIR}/manuka_CG_Hybrid_v2e.fasta\n",
    "#mkdir -p ${WKDIR}/log\n",
    "cd $WKDIR"
   ]
  },
  {
   "cell_type": "code",
   "execution_count": null,
   "id": "7698baad-ffdb-476c-8b53-d6f87508206a",
   "metadata": {},
   "outputs": [],
   "source": []
  },
  {
   "cell_type": "code",
   "execution_count": 10,
   "id": "76f79599-9cb0-4650-b165-e462a1ca08fd",
   "metadata": {},
   "outputs": [],
   "source": [
    "cp $V2C_ORIGINAL ."
   ]
  },
  {
   "cell_type": "code",
   "execution_count": 14,
   "id": "43e2cac2-de74-4fc8-8851-63be4c4fbda0",
   "metadata": {},
   "outputs": [
    {
     "name": "stdout",
     "output_type": "stream",
     "text": [
      "Submitted batch job 2061293\n"
     ]
    }
   ],
   "source": [
    "# V2C to V2D.\n",
    "\n",
    "sbatch << EOF\n",
    "#!/bin/bash\n",
    "#SBATCH -J minimap\n",
    "#SBATCH -o ${WKDIR}/log/%J.out\n",
    "#SBATCH -e ${WKDIR}/log/%J.err\n",
    "#SBATCH --cpus-per-task=4\n",
    "#SBATCH --mem=2G\n",
    "#SBATCH --time=01:10:00\n",
    "\n",
    "module load minimap2\n",
    "\n",
    "minimap2 -t 4 -cx asm10 ${V2C} ${V2D} > ManukaV2c_ManukaV2d100kb_asm10.paf \n",
    "EOF"
   ]
  },
  {
   "cell_type": "code",
   "execution_count": 24,
   "id": "831aad51-40bd-46d3-b797-5710d9647dac",
   "metadata": {},
   "outputs": [
    {
     "name": "stdout",
     "output_type": "stream",
     "text": [
      "Submitted batch job 2061408\n"
     ]
    }
   ],
   "source": [
    "# V2E to E. grandis\n",
    "\n",
    "sbatch << EOF\n",
    "#!/bin/bash\n",
    "#SBATCH -J minimap\n",
    "#SBATCH -o ${WKDIR}/log/%J.out\n",
    "#SBATCH -e ${WKDIR}/log/%J.err\n",
    "#SBATCH --cpus-per-task=4\n",
    "#SBATCH --mem=2G\n",
    "#SBATCH --time=01:10:00\n",
    "\n",
    "module load minimap2\n",
    "\n",
    "minimap2 -t 4 -cx asm10 ${V2E} ${EG_ASSEMBLY} > ManukaV2e_EGash_asm10.paf \n",
    "EOF"
   ]
  },
  {
   "cell_type": "code",
   "execution_count": 11,
   "id": "aee20987-eed7-4972-8068-14d7e73aa835",
   "metadata": {},
   "outputs": [
    {
     "name": "stdout",
     "output_type": "stream",
     "text": [
      "Submitted batch job 2061504\n"
     ]
    }
   ],
   "source": [
    "# V2C to V2E\n",
    "\n",
    "sbatch << EOF\n",
    "#!/bin/bash\n",
    "#SBATCH -J minimap\n",
    "#SBATCH -o ${WKDIR}/log/%J.out\n",
    "#SBATCH -e ${WKDIR}/log/%J.err\n",
    "#SBATCH --cpus-per-task=4\n",
    "#SBATCH --mem=2G\n",
    "#SBATCH --time=01:10:00\n",
    "\n",
    "module load minimap2\n",
    "\n",
    "minimap2 -t 4 -cx asm5 ${V2C_ORIGINAL} ${V2E} > ManukaV2c_ManukaV2e_asm5.paf \n",
    "EOF"
   ]
  },
  {
   "cell_type": "markdown",
   "id": "483da54a-5258-4d11-aa9e-d2f2d7dc974a",
   "metadata": {},
   "source": [
    "### AssemblyQC"
   ]
  },
  {
   "cell_type": "code",
   "execution_count": 2,
   "id": "206b856d-dfdf-408f-8776-9251bc01c5a2",
   "metadata": {},
   "outputs": [],
   "source": [
    "cd ${WKDIR}/assembly_qc/"
   ]
  },
  {
   "cell_type": "code",
   "execution_count": 3,
   "id": "da641d15-46c8-45c7-876a-bbc3ecd9aaaf",
   "metadata": {},
   "outputs": [
    {
     "name": "stdout",
     "output_type": "stream",
     "text": [
      "includeConfig './conf/base.config'\n",
      "\n",
      "params {\n",
      "    \n",
      "    target_assemblies       = [\n",
      "        [\"manuka_CG_Hybrid_v2e\", \"/workspace/hraijc/Manuka/CrismsonGlory_V2/Genome_Assembly/manuka_CG_Hybrid_v2e.fasta\"]\n",
      "    ]\n",
      "\n",
      "    assembly_gff3           = []\n",
      "    \n",
      "    assemblathon_stats {\n",
      "        n_limit             = 100\n",
      "    }\n",
      "\n",
      "    ncbi_fcs_adaptor {\n",
      "\n",
      "\n",
      "    }\n",
      "\n",
      "    ncbi_fcs_gx {\n",
      "        skip                = 1\n",
      "\n",
      "        tax_id              = \"78410\"\n",
      "\n",
      "        db_path             = \"/workspace/ComparativeDataSources/NCBI/FCS/GX/r2023-01-24\"\n",
      "\n",
      "    }\n",
      "    \n",
      "    busco {\n",
      "        skip                = 0\n",
      "\n",
      "        mode                = \"geno\"\n",
      "        \n",
      "        lineage_datasets    = [\"embryophyta_odb10\"]\n",
      "\n",
      "        download_path       = \"/workspace/ComparativeDataSources/BUSCO/assembly_qc\"\n",
      "    }\n",
      "\n",
      "    tidk {\n",
      "        skip                = 0\n",
      "        \n",
      "        repeat_seq          = \"TTTAGGG\"\n",
      "\n",
      "        filter_by_size      = 0\n",
      "\n",
      "        filter_size_bp      = 1000000\n",
      "    }\n",
      "\n",
      "    lai {\n",
      "        skip                = 1\n",
      "\n",
      "        mode                = \"\"\n",
      "\n",
      "        pass_list           = []\n",
      "        out_file            = []\n",
      "\n",
      "        monoploid_seqs      = []\n",
      "        \n",
      "        edta {\n",
      "            is_sensitive    = 0\n",
      "        }\n",
      "    }\n",
      "\n",
      "    kraken2 {\n",
      "        skip                = 1\n",
      "\n",
      "        download_path       = \"/workspace/ComparativeDataSources/kraken2db/k2_pluspfp_20230314\"\n",
      "    }\n",
      "\n",
      "    hic {\n",
      "        skip                = 0\n",
      "        \n",
      "        paired_reads        = \"/workspace/hraijc/HiC_trials/Manuka/manuka_S3HiC_umap_R{1,2}.fastq.gz\"\n",
      "    }\n",
      "\n",
      "    synteny {\n",
      "        skip                = 0\n",
      "\n",
      "\n",
      "        assembly_seq_list   = [[\"manuka_CG_Hybrid_v2e\", \"/workspace/hraijc/Manuka/CrismsonGlory_V2/Genome_Assembly/assembly_qc/CG_Seqlist.txt\"]]\n",
      "        \n",
      "        xref_assemblies     = [\n",
      "            [\"ASM1654582v1\", \"/workspace/hraijc/Manuka/CrismsonGlory_V2/Genome_Assembly/assembly_qc/GCF_016545825.1_ASM1654582v1_genomic.fna\", \"/workspace/hraijc/Manuka/CrismsonGlory_V2/Genome_Assembly/assembly_qc/ASM_Seqlist.txt\"]\n",
      "            ]\n",
      "\n",
      "        many_to_many_align  = 0\n",
      "\n",
      "\n",
      "        plot_1_vs_all       = 1\n",
      "\n",
      "        color_by_contig     = 1\n",
      "    }\n",
      "    \n",
      "    outdir {\n",
      "        main                = \"./report\"\n",
      "    }\n",
      "\n",
      "    \n",
      "    max_cpus                = 12\n",
      "\n",
      "    max_memory              = 512.GB\n",
      "    \n",
      "    max_time                = 7.days\n",
      "}\n",
      "\n",
      "singularity {\n",
      "    cacheDir                = \"/workspace/assembly_qc/singularity\"\n",
      "}\n",
      "\n",
      "includeConfig './conf/module_defaults.config'\n",
      "includeConfig './conf/reporting_defaults.config'\n"
     ]
    }
   ],
   "source": [
    "grep -v \"//\" nextflow.config"
   ]
  },
  {
   "cell_type": "code",
   "execution_count": 4,
   "id": "91782b17-b349-4351-97e2-264c7da8a999",
   "metadata": {},
   "outputs": [
    {
     "name": "stdout",
     "output_type": "stream",
     "text": [
      "Submitted batch job 2061432\n"
     ]
    }
   ],
   "source": [
    "sbatch ./assembly_qc_pfr.sh"
   ]
  },
  {
   "cell_type": "code",
   "execution_count": null,
   "id": "31652cae-63c6-4646-85fb-5f8eea073775",
   "metadata": {},
   "outputs": [],
   "source": []
  },
  {
   "cell_type": "code",
   "execution_count": null,
   "id": "f34630b7-2003-445e-812c-4894cd5eddc0",
   "metadata": {},
   "outputs": [],
   "source": []
  },
  {
   "cell_type": "code",
   "execution_count": null,
   "id": "a9ec0361-229b-471e-bc3e-ecfedd8b626c",
   "metadata": {},
   "outputs": [],
   "source": []
  },
  {
   "cell_type": "code",
   "execution_count": null,
   "id": "7e3868ca-9316-470d-9460-c40cd5ca1516",
   "metadata": {},
   "outputs": [],
   "source": []
  }
 ],
 "metadata": {
  "kernelspec": {
   "display_name": "Bash",
   "language": "bash",
   "name": "bash"
  },
  "language_info": {
   "codemirror_mode": "shell",
   "file_extension": ".sh",
   "mimetype": "text/x-sh",
   "name": "bash"
  }
 },
 "nbformat": 4,
 "nbformat_minor": 5
}
