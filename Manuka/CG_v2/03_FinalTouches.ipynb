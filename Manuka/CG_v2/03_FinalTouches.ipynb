{
 "cells": [
  {
   "cell_type": "markdown",
   "id": "9e98e5de-ca35-41ff-b2ab-c00d4b1645e9",
   "metadata": {},
   "source": [
    "## Putting final touches on Crimson Glory genome assembly.\n",
    "\n",
    "#### Need to make sure the scaffolds are named after the chromosomes of *Eucalyptus grandis* and that the scaffolds are all in the correct order/orientation.\n",
    "\n",
    "#### Using most recent genome assembly by Australian National University found here: \n",
    "https://www.ncbi.nlm.nih.gov/datasets/genome/GCF_016545825.1/\n",
    "\n"
   ]
  },
  {
   "cell_type": "code",
   "execution_count": 14,
   "id": "a9c252c2-85f5-46b3-bbea-929a06f42935",
   "metadata": {},
   "outputs": [],
   "source": [
    "## Set up\n",
    "\n",
    "WKDIR=/workspace/hraijc/Manuka/CrismsonGlory_V2/Genome_Assembly/\n",
    "EG_ASSEMBLY=/workspace/ComparativeDataSources/Myrtaceae/Eucalyptus/grandis/Genome/ASM1654582v1/ncbi_dataset/data/GCF_016545825.1/GCF_016545825.1_ASM1654582v1_genomic.fna\n",
    "DRAFT=/workspace/hraijc/Manuka/CrismsonGlory_V2/Genome_Assembly/manuka_CG_Hybrid_v2d_100kb.fasta"
   ]
  },
  {
   "cell_type": "code",
   "execution_count": 15,
   "id": "7698baad-ffdb-476c-8b53-d6f87508206a",
   "metadata": {},
   "outputs": [],
   "source": [
    "#mkdir -p ${WKDIR}/log\n",
    "cd $WKDIR"
   ]
  },
  {
   "cell_type": "code",
   "execution_count": null,
   "id": "76f79599-9cb0-4650-b165-e462a1ca08fd",
   "metadata": {},
   "outputs": [],
   "source": []
  },
  {
   "cell_type": "code",
   "execution_count": 3,
   "id": "43e2cac2-de74-4fc8-8851-63be4c4fbda0",
   "metadata": {},
   "outputs": [
    {
     "name": "stdout",
     "output_type": "stream",
     "text": [
      "Submitted batch job 2009545\n"
     ]
    }
   ],
   "source": [
    "#map to E. grandis reference.\n",
    "\n",
    "sbatch << EOF\n",
    "#!/bin/bash\n",
    "#SBATCH -J minimap\n",
    "#SBATCH -o ${WKDIR}/log/%J.out\n",
    "#SBATCH -e ${WKDIR}/log/%J.err\n",
    "#SBATCH --cpus-per-task=4\n",
    "#SBATCH --mem=2G\n",
    "#SBATCH --time=01:10:00\n",
    "\n",
    "module load minimap2\n",
    "\n",
    "minimap2 -t 4 -cx asm10 ${DRAFT} ${EG_ASSEMBLY} > ManukaV2d100kb_EgrandisASM1654582v1_asm10.paf \n",
    "EOF"
   ]
  },
  {
   "cell_type": "markdown",
   "id": "483da54a-5258-4d11-aa9e-d2f2d7dc974a",
   "metadata": {},
   "source": [
    "### AssemblyQC"
   ]
  },
  {
   "cell_type": "code",
   "execution_count": 16,
   "id": "206b856d-dfdf-408f-8776-9251bc01c5a2",
   "metadata": {},
   "outputs": [],
   "source": [
    "cd ${WKDIR}/assembly_qc/"
   ]
  },
  {
   "cell_type": "code",
   "execution_count": 17,
   "id": "da641d15-46c8-45c7-876a-bbc3ecd9aaaf",
   "metadata": {},
   "outputs": [
    {
     "name": "stdout",
     "output_type": "stream",
     "text": [
      "includeConfig './conf/base.config'\n",
      "\n",
      "params {\n",
      "    \n",
      "    target_assemblies       = [\n",
      "        [\"manuka_CG_Hybrid_v2d_100kb\", \"/workspace/hraijc/Manuka/CrismsonGlory_V2/Genome_Assembly/manuka_CG_Hybrid_v2d_100kb.fasta\"]\n",
      "    ]\n",
      "\n",
      "    assembly_gff3           = []\n",
      "    \n",
      "    assemblathon_stats {\n",
      "        n_limit             = 100\n",
      "    }\n",
      "\n",
      "    ncbi_fcs_adaptor {\n",
      "\n",
      "\n",
      "    }\n",
      "\n",
      "    ncbi_fcs_gx {\n",
      "        skip                = 1\n",
      "\n",
      "        tax_id              = \"78410\"\n",
      "\n",
      "        db_path             = \"/workspace/ComparativeDataSources/NCBI/FCS/GX/r2023-01-24\"\n",
      "\n",
      "    }\n",
      "    \n",
      "    busco {\n",
      "        skip                = 0\n",
      "\n",
      "        mode                = \"geno\"\n",
      "        \n",
      "        lineage_datasets    = [\"embryophyta_odb10\"]\n",
      "\n",
      "        download_path       = \"/workspace/ComparativeDataSources/BUSCO/assembly_qc\"\n",
      "    }\n",
      "\n",
      "    tidk {\n",
      "        skip                = 0\n",
      "        \n",
      "        repeat_seq          = \"TTTAGGG\"\n",
      "\n",
      "        filter_by_size      = 0\n",
      "\n",
      "        filter_size_bp      = 1000000\n",
      "    }\n",
      "\n",
      "    lai {\n",
      "        skip                = 0\n",
      "\n",
      "        mode                = \"\"\n",
      "\n",
      "        pass_list           = []\n",
      "        out_file            = []\n",
      "\n",
      "        monoploid_seqs      = []\n",
      "        \n",
      "        edta {\n",
      "            is_sensitive    = 0\n",
      "        }\n",
      "    }\n",
      "\n",
      "    kraken2 {\n",
      "        skip                = 1\n",
      "\n",
      "        download_path       = \"/workspace/ComparativeDataSources/kraken2db/k2_pluspfp_20230314\"\n",
      "    }\n",
      "\n",
      "    hic {\n",
      "        skip                = 0\n",
      "        \n",
      "        paired_reads        = \"/workspace/hraijc/HiC_trials/Manuka/manuka_S3HiC_umap_R{1,2}.fastq.gz\"\n",
      "    }\n",
      "\n",
      "    synteny {\n",
      "        skip                = 0\n",
      "\n",
      "\n",
      "        assembly_seq_list   = [[\"manuka_CG_Hybrid_v2d_100kb\", \"/workspace/hraijc/Manuka/CrismsonGlory_V2/Genome_Assembly/assembly_qc/CG_Seqlist.txt\"]]\n",
      "        \n",
      "        xref_assemblies     = [\n",
      "            [\"ASM1654582v1\", \"/workspace/hraijc/Manuka/CrismsonGlory_V2/Genome_Assembly/assembly_qc/GCF_016545825.1_ASM1654582v1_genomic.fna\", \"/workspace/hraijc/Manuka/CrismsonGlory_V2/Genome_Assembly/assembly_qc/ASM_Seqlist.txt\"]\n",
      "            ]\n",
      "\n",
      "        many_to_many_align  = 0\n",
      "\n",
      "\n",
      "        plot_1_vs_all       = 1\n",
      "\n",
      "        color_by_contig     = 1\n",
      "    }\n",
      "    \n",
      "    outdir {\n",
      "        main                = \"./report\"\n",
      "    }\n",
      "\n",
      "    \n",
      "    max_cpus                = 12\n",
      "\n",
      "    max_memory              = 512.GB\n",
      "    \n",
      "    max_time                = 7.days\n",
      "}\n",
      "\n",
      "singularity {\n",
      "    cacheDir                = \"/workspace/assembly_qc/singularity\"\n",
      "}\n",
      "\n",
      "includeConfig './conf/module_defaults.config'\n",
      "includeConfig './conf/reporting_defaults.config'\n"
     ]
    }
   ],
   "source": [
    "grep -v \"//\" nextflow.config"
   ]
  },
  {
   "cell_type": "code",
   "execution_count": 18,
   "id": "91782b17-b349-4351-97e2-264c7da8a999",
   "metadata": {},
   "outputs": [
    {
     "name": "stdout",
     "output_type": "stream",
     "text": [
      "Submitted batch job 2009931\n"
     ]
    }
   ],
   "source": [
    "sbatch ./assembly_qc_pfr.sh"
   ]
  },
  {
   "cell_type": "code",
   "execution_count": null,
   "id": "31652cae-63c6-4646-85fb-5f8eea073775",
   "metadata": {},
   "outputs": [],
   "source": []
  }
 ],
 "metadata": {
  "kernelspec": {
   "display_name": "Bash",
   "language": "bash",
   "name": "bash"
  },
  "language_info": {
   "codemirror_mode": "shell",
   "file_extension": ".sh",
   "mimetype": "text/x-sh",
   "name": "bash"
  }
 },
 "nbformat": 4,
 "nbformat_minor": 5
}
