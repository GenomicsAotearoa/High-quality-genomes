{
 "cells": [
  {
   "cell_type": "markdown",
   "id": "b81324c6-28a6-4fb5-be4e-c72ad14882ea",
   "metadata": {},
   "source": [
    "# Assembling *Vaccinium corymbosum nui* Genome"
   ]
  },
  {
   "cell_type": "markdown",
   "id": "27217deb-5875-48b7-b227-c939c8432e13",
   "metadata": {},
   "source": [
    "## Data sources\n",
    "\n",
    "- HiC Data for Nui is here:\n",
    "    - /input/genomic/plant/Vaccinium/corymbosum/AGRF_CAGRF21434_HJWHFDRXX\n",
    "\n",
    "\n",
    "- 10X data for Nui and M7 here:\n",
    "    - /input/genomic/plant/Vaccinium/corymbosum/AGRF_CAGRF18813_H7JY3DRXX\n",
    "\n",
    "\n",
    "- ONT PromethION Nui (BB2020 and BB2020-2 are the same sample) here:\n",
    "    - /input/genomic/plant/Vaccinium/corymbosum/Blueberry_PromethION_Apr2020\n",
    "\n",
    "\n",
    "- ONT MinION Nui (BB2020) here:\n",
    "    - /input/genomic/plant/Vaccinium/corymbosum/CAGRF21436/20200224_MinION/AGRF_CAGRFF21436_FAL87845_BB2020/\n",
    "\n",
    "\n",
    "- 10X Supernova Assembly for 10X data here:\n",
    "    - /output/genomic/plant/Vaccinium/corymbosum/2021_GenomeAssembly/Nui/01_Supernova\n",
    "\n",
    "### Plan \n",
    "- base-calling for ONT samples using Guppy v5.\n",
    "- Filter out MinION reads <1kb.\n",
    "- Cecilia has done the Supernova assembly for the 10X data.\n",
    "- Use Flye to assemble ONT fastq\n",
    "- Use quickmerge to merge the Supernova contigs + ONT contigs\n",
    "- Use Salsa to improve assembly\n",
    "- Tetraploid Haplotyping and gene annotation etc. \n",
    "\n"
   ]
  },
  {
   "cell_type": "markdown",
   "id": "640c22f4-ae0d-4dcc-9ea2-757a78d7edc3",
   "metadata": {},
   "source": [
    "## PromethION Basecalling\n",
    "This table for the promethION dataset CAGRF21436. This data is Nui. BB2020 and BB2020-2 is the same individual, I had to resend it. \n",
    "\n",
    "Run info here: https://storage.powerplant.pfr.co.nz/input/genomic/plant/Vaccinium/corymbosum/Blueberry_PromethION_Apr2020/AGRF_CAGRF21436-2_PAE71986_BB2020/report_PAE71108_20200325_0131_8043ab86.pdf\n"
   ]
  },
  {
   "cell_type": "code",
   "execution_count": 5,
   "id": "b6bea7bf-5526-430f-b76f-bbfd9b190dda",
   "metadata": {},
   "outputs": [
    {
     "name": "stdout",
     "output_type": "stream",
     "text": [
      "---------- \u001b[1;94m/software/OSutils/modules-4.7.1/share/Modules/modulefiles\u001b[0m -----------\n",
      "\u001b[1mguppy\u001b[22m/3.2.4  \u001b[1mguppy\u001b[22m/3.5.2  \u001b[1mguppy\u001b[22m/4.2.2  \u001b[1mguppy\u001b[22m/5.0.7  \n",
      "\u001b[1mguppy\u001b[22m/3.4.4  \u001b[1mguppy\u001b[22m/3.6.1  \u001b[1mguppy\u001b[22m/4.4.1  \n",
      "\n",
      "Key:\n",
      "\u001b[1;94mmodulepath\u001b[0m  \n",
      "Loading \u001b[1mguppy/5.0.7\u001b[22m\n",
      "  \u001b[94mLoading requirement\u001b[0m: singularity/3\n"
     ]
    }
   ],
   "source": [
    "module avail guppy\n",
    "module load guppy/5.0.7"
   ]
  },
  {
   "cell_type": "code",
   "execution_count": 3,
   "id": "b065804c-18fe-46a3-8bd6-f5186ec3254d",
   "metadata": {},
   "outputs": [
    {
     "name": "stdout",
     "output_type": "stream",
     "text": [
      "BB2020_MinION_1kb    BB2020_PromethION_Fastq  FastQC\t  log\n",
      "BB2020_MinION_Fastq  fast5\t\t      gunzip1.sh\n"
     ]
    }
   ],
   "source": [
    "WKDIR=/workspace/hraijc/BB_Nui_Assembly/Nui_BB2020_ONT\n",
    "INDIR2=/input/genomic/plant/Vaccinium/corymbosum/Blueberry_PromethION_Apr2020/AGRF_CAGRF21436-2_PAE71986_BB2020-2/fast5_pass\n",
    "INDIR1=/input/genomic/plant/Vaccinium/corymbosum/Blueberry_PromethION_Apr2020/AGRF_CAGRF21436-2_PAE71986_BB2020/fast5_pass\n",
    "FAST5DIR=/workspace/hraijc/BB_Nui_Assembly/Nui_BB2020_ONT/fast5\n",
    "ls $WKDIR\n"
   ]
  },
  {
   "cell_type": "code",
   "execution_count": 4,
   "id": "e99210d6-fed1-477c-a4e6-6430448a5203",
   "metadata": {},
   "outputs": [
    {
     "name": "stdout",
     "output_type": "stream",
     "text": [
      "BB2020_Fastq  fast5  FastQC  log\n"
     ]
    }
   ],
   "source": [
    "#mkdir $WKDIR/\n",
    "#mkdir $WKDIR/log\n",
    "mkdir $FAST5DIR\n",
    "#mkdir $WKDIR/BB2020_Fastq\n",
    "ls $WKDIR\n"
   ]
  },
  {
   "cell_type": "code",
   "execution_count": 67,
   "id": "839afefe-8abc-4f16-8158-f4edd8224cdc",
   "metadata": {},
   "outputs": [
    {
     "name": "stdout",
     "output_type": "stream",
     "text": [
      "/input/genomic/plant/Vaccinium/corymbosum/Blueberry_PromethION_Apr2020/AGRF_CAGRF21436-2_PAE71986_BB2020-2/fast5_pass/PAE71986_pass_9ec138bf_0.fast5.gz\n",
      "/workspace/hraijc/Blueberry_Antho_QLT/092021_3MbReassembly/Nui_BB2020_ONT/fast5\n"
     ]
    }
   ],
   "source": [
    "ls $INDIR2/PAE71986_pass_9ec138bf_0* | head -n 10"
   ]
  },
  {
   "cell_type": "markdown",
   "id": "83049ccf-e25f-41e6-a5ed-ac237379de3b",
   "metadata": {},
   "source": [
    "### Fast5 files\n",
    "All of the gzipped raw fast5 files were decompressed into workspace/hraijc\n",
    "Interestingly the uncompressed fast5 files were slightly smaller. ??\n"
   ]
  },
  {
   "cell_type": "code",
   "execution_count": 49,
   "id": "91c4faf3-a874-4673-acbf-9f4e4ce1c242",
   "metadata": {},
   "outputs": [],
   "source": [
    "cd $INDIR2\n",
    "for file in *.gz\n",
    "do \n",
    "    echo gunzip -c $INDIR2/$file '>' $FAST5DIR/${file%.gz}\n",
    "done > $WKDIR/gunzip.sh"
   ]
  },
  {
   "cell_type": "code",
   "execution_count": 50,
   "id": "92f77277-3827-4112-ad52-3a0a5760cfcc",
   "metadata": {},
   "outputs": [
    {
     "name": "stdout",
     "output_type": "stream",
     "text": [
      "Job <285969> is submitted to default queue <lowpriority>.\n"
     ]
    }
   ],
   "source": [
    "cd $WKDIR\n",
    "chmod +x gunzip.sh\n",
    "bsub -J gzip2 -o $WKDIR/log/gzip2.out -e $WKDIR/log/gzip2.err -n 1 \"$WKDIR/gunzip.sh\""
   ]
  },
  {
   "cell_type": "code",
   "execution_count": 73,
   "id": "0822493e-ed85-46d3-8937-d14851e10755",
   "metadata": {},
   "outputs": [],
   "source": [
    "cd $INDIR1\n",
    "for file in *.gz\n",
    "do \n",
    "    echo gunzip -c $INDIR1/$file '>' $FAST5DIR/${file%.gz}\n",
    "done > $WKDIR/gunzip1.sh"
   ]
  },
  {
   "cell_type": "code",
   "execution_count": 74,
   "id": "0c3dc39c-6cba-4fce-bede-957a6fa9219e",
   "metadata": {},
   "outputs": [
    {
     "name": "stdout",
     "output_type": "stream",
     "text": [
      "Job <285975> is submitted to default queue <lowpriority>.\n"
     ]
    }
   ],
   "source": [
    "cd $WKDIR\n",
    "chmod +x gunzip1.sh\n",
    "bsub -J gzip1 -o $WKDIR/log/gzip1.out -e $WKDIR/log/gzip1.err -n 8 \"$WKDIR/gunzip1.sh\""
   ]
  },
  {
   "cell_type": "markdown",
   "id": "02ca1731-e551-497f-bdd2-dcf368d2b746",
   "metadata": {},
   "source": [
    "### Basecalling with Guppy v5\n",
    "Basecalling was previously done by AGRF with Guppy v3. Using the dna_r9.4.1_450bps_hac_prom.cfg config file and 2GPU to basecall."
   ]
  },
  {
   "cell_type": "code",
   "execution_count": 111,
   "id": "106b2d3a-9743-4d0b-94ab-7bd5a33abf3b",
   "metadata": {},
   "outputs": [
    {
     "name": "stdout",
     "output_type": "stream",
     "text": [
      "Job <286027> is submitted to default queue <lowpriority>.\n"
     ]
    }
   ],
   "source": [
    "bsub -J guppyBB20 -o $WKDIR/log/guppyBB20.out -e $WKDIR/log/guppyBB20.err -R 'gpu' \"guppy_basecaller --input_path $FAST5DIR --save_path $WKDIR/BB2020_Fastq -c dna_r9.4.1_450bps_hac_prom.cfg -x 'cuda:0'\""
   ]
  },
  {
   "cell_type": "code",
   "execution_count": 16,
   "id": "395a9619-44da-4568-9c17-cd7132b878fc",
   "metadata": {
    "tags": []
   },
   "outputs": [],
   "source": [
    "#mkdir /workspace/hraijc/Blueberry_Antho_QLT/092021_3MbReassembly/Nui_BB2020_ONT/BB2020_Fastq/guppy5\n",
    "#mv /workspace/hraijc/Blueberry_Antho_QLT/092021_3MbReassembly/Nui_BB2020_ONT/BB2020_Fastq/* /workspace/hraijc/Blueberry_Antho_QLT/092021_3MbReassembly/Nui_BB2020_ONT/BB2020_Fastq/guppy5\n",
    "#cat /workspace/hraijc/Blueberry_Antho_QLT/092021_3MbReassembly/Nui_BB2020_ONT/BB2020_Fastq/pass/*.fastq > workspace/hraijc/Blueberry_Antho_QLT/092021_3MbReassembly/Nui_BB2020_ONT/BB2020_Fastq/Nui_BB2020_guppy5.fastq"
   ]
  },
  {
   "cell_type": "code",
   "execution_count": 1,
   "id": "e5b53c7a-4531-44f7-bc74-73999904c266",
   "metadata": {
    "tags": []
   },
   "outputs": [
    {
     "name": "stdout",
     "output_type": "stream",
     "text": [
      "mkdir: cannot create directory ‘/BB2020_Fastq/guppylogs’: No such file or directory\n",
      "mv: cannot stat ‘/BB2020_Fastq/*.log’: No such file or directory\n",
      "Job <286420> is submitted to default queue <lowpriority>.\n"
     ]
    }
   ],
   "source": [
    "#Cleanup and Concat Guppy Fastq files together\n",
    "\n",
    "bsub -J concat5 -o $WKDIR/log/concat5.out -e $WKDIR/log/concat5.err \"cat /workspace/hraijc/Blueberry_Antho_QLT/092021_3MbReassembly/Nui_BB2020_ONT/BB2020_Fastq/pass/*.fastq > /workspace/hraijc/Blueberry_Antho_QLT/092021_3MbReassembly/Nui_BB2020_ONT/BB2020_Fastq/BB2020_gupppy5.fastq\""
   ]
  },
  {
   "cell_type": "code",
   "execution_count": 3,
   "id": "de51fe4d-6670-46ca-9aaa-255920a4e0b0",
   "metadata": {},
   "outputs": [],
   "source": [
    "mkdir $WKDIR/BB2020_Fastq/guppylogs\n",
    "mv $WKDIR/BB2020_Fastq/*.log $WKDIR/BB2020_Fastq/guppylogs"
   ]
  },
  {
   "cell_type": "markdown",
   "id": "81192d5f-68f8-4ba5-bbe5-3150608d2a1a",
   "metadata": {},
   "source": [
    "### Check PromethION with MinIONQC"
   ]
  },
  {
   "cell_type": "code",
   "execution_count": 5,
   "id": "70088b06-7171-4d78-b511-45aa2c039437",
   "metadata": {},
   "outputs": [
    {
     "name": "stdout",
     "output_type": "stream",
     "text": [
      "BB2020_gupppy5.fastq  guppylogs  sequencing_summary.txt\n",
      "fail\t\t      pass\t sequencing_telemetry.js\n"
     ]
    }
   ],
   "source": [
    "ls "
   ]
  },
  {
   "cell_type": "code",
   "execution_count": 7,
   "id": "a5ec38fc-0633-4f43-9200-246b939c7b4b",
   "metadata": {
    "tags": []
   },
   "outputs": [
    {
     "name": "stdout",
     "output_type": "stream",
     "text": [
      "Loading \u001b[1mR/4.0.0\u001b[22m\n",
      "  \u001b[94mLoading requirement\u001b[0m: unixODBC/2.3.0 JAGS/4.2.0 gdal/2.4.0 proj/5.2.0\n"
     ]
    }
   ],
   "source": [
    "module load R/4.0.0\n",
    "#Rscript /workspace/hraijc/git_clones/MinIONQC.R -h"
   ]
  },
  {
   "cell_type": "code",
   "execution_count": 8,
   "id": "0d1e8931-4dc5-4364-933e-30ad6f08fd48",
   "metadata": {},
   "outputs": [
    {
     "name": "stdout",
     "output_type": "stream",
     "text": [
      "Job <635046> is submitted to default queue <lowpriority>.\n"
     ]
    }
   ],
   "source": [
    "bsub -J minqc  -o $WKDIR/log/minqc.out -e $WKDIR/log/minqc.err -n 1 \\\n",
    "\"Rscript /workspace/hraijc/git_clones/MinIONQC.R -i $WKDIR/BB2020_PromethION_Fastq/sequencing_summary.txt -o $WKDIR/BB2020_PromethION_Fastq/minionqc -c TRUE\""
   ]
  },
  {
   "cell_type": "markdown",
   "id": "08fac685-fe77-44f5-89a9-e5ae23b8cf06",
   "metadata": {},
   "source": [
    "## MinION basecalling and size filtering\n",
    "### Basecalling"
   ]
  },
  {
   "cell_type": "code",
   "execution_count": 9,
   "id": "eb04881f-f8ba-41ec-ba51-b78c2719cd5c",
   "metadata": {},
   "outputs": [],
   "source": [
    "module load guppy/5.0.7"
   ]
  },
  {
   "cell_type": "code",
   "execution_count": 10,
   "id": "57c2bd47-694b-4d8b-9ab9-c2a9503a4a11",
   "metadata": {},
   "outputs": [
    {
     "name": "stdout",
     "output_type": "stream",
     "text": [
      "BB2020_MinION_Fastq\t BB2020_PromethION_Fastq  FastQC      log\n",
      "BB2020_MinION_Fastq_106  fast5\t\t\t  gunzip1.sh\n"
     ]
    }
   ],
   "source": [
    "WKDIR=/workspace/hraijc/BB_Nui_Assembly/Nui_BB2020_ONT\n",
    "INDIR3=/input/genomic/plant/Vaccinium/corymbosum/CAGRF21436/20200224_MinION/AGRF_CAGRFF21436_FAL87845_BB2020/fast5\n",
    "FAST5DIR=/workspace/hraijc/BB_Nui_Assembly/Nui_BB2020_ONT/fast5\n",
    "ls $WKDIR"
   ]
  },
  {
   "cell_type": "code",
   "execution_count": 19,
   "id": "086468a5-e1ec-460e-a893-a1cc9472e88f",
   "metadata": {},
   "outputs": [],
   "source": [
    "cd $INDIR3\n",
    "for file in *.gz\n",
    "do \n",
    "    echo gunzip -c $INDIR3/$file '>' $FAST5DIR/${file%.gz}\n",
    "done > $WKDIR/gunzip1.sh"
   ]
  },
  {
   "cell_type": "code",
   "execution_count": 20,
   "id": "39f9f621-c1a7-4e5f-a045-c827c53280d4",
   "metadata": {},
   "outputs": [
    {
     "name": "stdout",
     "output_type": "stream",
     "text": [
      "Job <471668> is submitted to default queue <lowpriority>.\n"
     ]
    }
   ],
   "source": [
    "cd $WKDIR\n",
    "chmod +x gunzip1.sh\n",
    "bsub -J gunzip1 -o $WKDIR/log/gunzip1.out -e $WKDIR/log/gunzip1.err -n 10 \\\n",
    "\"parallel -a ${WKDIR}/gunzip1.sh\""
   ]
  },
  {
   "cell_type": "code",
   "execution_count": 4,
   "id": "92b2f471-0aac-4057-95cb-dd274863eec9",
   "metadata": {},
   "outputs": [
    {
     "name": "stdout",
     "output_type": "stream",
     "text": [
      "guppy_basecaller: error while loading shared libraries: libcuda.so.1: cannot open shared object file: No such file or directory\n"
     ]
    },
    {
     "ename": "",
     "evalue": "127",
     "output_type": "error",
     "traceback": []
    }
   ],
   "source": [
    "# Printout the Kit and Flowcell codes for Guppy\n",
    "bsub -J gtest -o $WKDIR/log/gtest.out -e $WKDIR/log/gtest.err -R 'gpu' \\\n",
    "\"guppy_basecaller --print_workflows\""
   ]
  },
  {
   "cell_type": "code",
   "execution_count": 6,
   "id": "62d498a2-b7dc-4bef-8fe0-65d8edfc55c4",
   "metadata": {
    "collapsed": true,
    "jupyter": {
     "outputs_hidden": true
    },
    "tags": []
   },
   "outputs": [
    {
     "name": "stdout",
     "output_type": "stream",
     "text": [
      "FLO-MIN111 SQK-LSK109                dna_r10.3_450bps_hac           2021-04-20_dna_r10.3_minion_promethion_384_72309afc\n",
      "FLO-MIN111 SQK-LSK109-XL             dna_r10.3_450bps_hac           2021-04-20_dna_r10.3_minion_promethion_384_72309afc\n",
      "FLO-MIN110 SQK-LSK109                dna_r10_450bps_hac             unknown\n",
      "FLO-MIN110 SQK-LSK109-XL             dna_r10_450bps_hac             unknown\n",
      "FLO-MIN106 SQK-LSK109                dna_r9.4.1_450bps_hac          2021-05-17_dna_r9.4.1_minion_384_d37a2ab9\n",
      "FLO-MIN106 SQK-LSK109-XL             dna_r9.4.1_450bps_hac          2021-05-17_dna_r9.4.1_minion_384_d37a2ab9\n",
      "FLO-MIN107 SQK-LSK109                dna_r9.5_450bps                unknown\n",
      "FLO-MIN111 SQK-LSK109                dna_r10.3_450bps_hac           2021-04-20_dna_r10.3_minion_promethion_384_72309afc\n",
      "FLO-MIN111 SQK-LSK109-XL             dna_r10.3_450bps_hac           2021-04-20_dna_r10.3_minion_promethion_384_72309afc\n",
      "FLO-MIN110 SQK-LSK109                dna_r10_450bps_hac             unknown\n",
      "FLO-MIN110 SQK-LSK109-XL             dna_r10_450bps_hac             unknown\n",
      "FLO-MIN106 SQK-LSK109                dna_r9.4.1_450bps_hac          2021-05-17_dna_r9.4.1_minion_384_d37a2ab9\n",
      "FLO-MIN106 SQK-LSK109-XL             dna_r9.4.1_450bps_hac          2021-05-17_dna_r9.4.1_minion_384_d37a2ab9\n",
      "FLO-MIN107 SQK-LSK109                dna_r9.5_450bps                unknown\n"
     ]
    }
   ],
   "source": [
    "grep LSK109 $WKDIR/log/gtest.out | grep FLO-MIN"
   ]
  },
  {
   "cell_type": "markdown",
   "id": "58e17052-233f-4d6f-b3a3-f15b9ebb721a",
   "metadata": {},
   "source": [
    "Not sure about the flowcell type...\n",
    "AGRF says the flowcell ID was: FAL87845 and the Library prep kit was LSK109. The sequencing was done in 2020.\n",
    "Going to guess its using the r9.4.1 chemistry not the r10 chemistry. Most recent one with R9 chemistry is: dna_r9.4.1_450bps_hac          "
   ]
  },
  {
   "cell_type": "code",
   "execution_count": 10,
   "id": "7e1974d3-86b9-4baa-a160-12c57623c8f9",
   "metadata": {},
   "outputs": [
    {
     "name": "stdout",
     "output_type": "stream",
     "text": [
      "Job <627864> is submitted to default queue <lowpriority>.\n"
     ]
    }
   ],
   "source": [
    "# Basecalling with Guppy V5\n",
    "bsub -J guppyMinIONBB20 -o $WKDIR/log/guppyMinIONBB20.out -e $WKDIR/log/guppyMinIONBB20.err -R 'gpu' \\\n",
    "\"guppy_basecaller --input_path $FAST5DIR --save_path $WKDIR/BB2020_MinION_Fastq -c dna_r9.4.1_450bps_hac.cfg -x 'cuda:0'\""
   ]
  },
  {
   "cell_type": "code",
   "execution_count": 15,
   "id": "dc2e56a7-25a1-4625-b5f4-7859bc923442",
   "metadata": {},
   "outputs": [
    {
     "name": "stdout",
     "output_type": "stream",
     "text": [
      "Job <628152> is submitted to default queue <lowpriority>.\n"
     ]
    }
   ],
   "source": [
    "# Basecalling with Guppy V5\n",
    "#Try again with FLO-MIN110\n",
    "#DEF NOT THIS.\n",
    "#bsub -J guppyMinIONBB20 -o $WKDIR/log/guppyMinIONBB20.out -e $WKDIR/log/guppyMinIONBB20.err -R 'gpu' \\\n",
    "#\"guppy_basecaller --input_path $FAST5DIR --save_path $WKDIR/BB2020_MinION_Fastq -c dna_r10.3_450bps_hac.cfg -x 'cuda:0'\""
   ]
  },
  {
   "cell_type": "code",
   "execution_count": 5,
   "id": "ecba5016-c092-4b19-b49c-6843e4debf87",
   "metadata": {},
   "outputs": [],
   "source": []
  },
  {
   "cell_type": "markdown",
   "id": "658bde1a-3775-4fe4-bec8-20e19b88caa6",
   "metadata": {},
   "source": [
    "### MinION QC"
   ]
  },
  {
   "cell_type": "code",
   "execution_count": 2,
   "id": "23edcbca-d52c-423f-bece-29eb38314adc",
   "metadata": {},
   "outputs": [
    {
     "name": "stdout",
     "output_type": "stream",
     "text": [
      "Loading \u001b[1mR/4.0.0\u001b[22m\n",
      "  \u001b[94mLoading requirement\u001b[0m: unixODBC/2.3.0 JAGS/4.2.0 gdal/2.4.0 proj/5.2.0\n"
     ]
    }
   ],
   "source": [
    "module load R/4.0.0\n",
    "mkdir /workspace/hraijc/BB_Nui_Assembly/Nui_BB2020_ONT/BB2020_MinION_Fastq/minionqc5\n",
    "mkdir /workspace/hraijc/BB_Nui_Assembly/Nui_BB2020_ONT/BB2020_MinION_Fastq/minionqc3"
   ]
  },
  {
   "cell_type": "code",
   "execution_count": 13,
   "id": "2659707e-27c2-4cf2-894e-f6df1a2fc5c5",
   "metadata": {},
   "outputs": [
    {
     "name": "stdout",
     "output_type": "stream",
     "text": [
      "Job <628072> is submitted to default queue <lowpriority>.\n"
     ]
    }
   ],
   "source": [
    "bsub -J minqc3  -o $WKDIR/log/minqc3.out -e $WKDIR/log/minqc3.err -n 1 \\\n",
    "\"Rscript /workspace/hraijc/git_clones/MinIONQC.R -i /input/genomic/plant/Vaccinium/corymbosum/CAGRF21436/20200224_MinION/AGRF_CAGRFF21436_FAL87845_BB2020/sequencing_summary/sequencing_run_sequencing_summary.txt -o /workspace/hraijc/BB_Nui_Assembly/Nui_BB2020_ONT/BB2020_MinION_Fastq/minionqc3 -c TRUE\""
   ]
  },
  {
   "cell_type": "code",
   "execution_count": 3,
   "id": "205d2602-59b0-4256-93bc-9ee7e17d0a91",
   "metadata": {},
   "outputs": [
    {
     "name": "stdout",
     "output_type": "stream",
     "text": [
      "Job <628671> is submitted to default queue <lowpriority>.\n"
     ]
    }
   ],
   "source": [
    "bsub -J minqc5  -o $WKDIR/log/minqc5.out -e $WKDIR/log/minqc5.err -n 1 \\\n",
    "\"Rscript /workspace/hraijc/git_clones/MinIONQC.R -i /workspace/hraijc/BB_Nui_Assembly/Nui_BB2020_ONT/BB2020_MinION_Fastq/sequencing_summary.txt -o /workspace/hraijc/BB_Nui_Assembly/Nui_BB2020_ONT/BB2020_MinION_Fastq/minionqc5 -c TRUE\""
   ]
  },
  {
   "cell_type": "code",
   "execution_count": 9,
   "id": "90ca7126-0dee-4a30-8975-d14bab2f2aa1",
   "metadata": {},
   "outputs": [
    {
     "name": "stdout",
     "output_type": "stream",
     "text": [
      "/workspace/hraijc/BB_Nui_Assembly/Nui_BB2020_ONT\n"
     ]
    }
   ],
   "source": [
    "echo $WKDIR"
   ]
  },
  {
   "cell_type": "markdown",
   "id": "b1fa81dd-865a-4bc7-81e4-57616f7c59f0",
   "metadata": {},
   "source": [
    "## Filter MinION reads <1kb"
   ]
  },
  {
   "cell_type": "code",
   "execution_count": 10,
   "id": "106c1cee-b006-4b05-982c-8cf098e6e8df",
   "metadata": {
    "tags": []
   },
   "outputs": [],
   "source": [
    "mkdir $WKDIR/BB2020_MinION_1kb"
   ]
  },
  {
   "cell_type": "code",
   "execution_count": 27,
   "id": "625f54f0-fbcb-4ce5-a366-2d3fba679165",
   "metadata": {},
   "outputs": [
    {
     "name": "stdout",
     "output_type": "stream",
     "text": [
      "Job <628693> is submitted to default queue <lowpriority>.\n"
     ]
    }
   ],
   "source": [
    "bsub -J cat1  -o $WKDIR/log/cat1.out -e $WKDIR/log/cat1.err -n 2 \\\n",
    "\"cat $WKDIR/BB2020_MinION_Fastq/pass/*.fastq > $WKDIR/BB2020_MinION_1kb/all.fastq\""
   ]
  },
  {
   "cell_type": "code",
   "execution_count": 1,
   "id": "31838015-33fd-4ad3-8750-6a080e198f4a",
   "metadata": {},
   "outputs": [],
   "source": [
    "module load seqkit"
   ]
  },
  {
   "cell_type": "code",
   "execution_count": 29,
   "id": "2cbee0b8-359f-40ae-a811-acb98ac4034f",
   "metadata": {},
   "outputs": [
    {
     "name": "stdout",
     "output_type": "stream",
     "text": [
      "Job <628696> is submitted to default queue <lowpriority>.\n"
     ]
    }
   ],
   "source": [
    "bsub -J seqtkit1  -o $WKDIR/log/seqtkit1.out -e $WKDIR/log/seqtkit1.err -n 2 \\\n",
    "\"seqkit seq -m 1000 $WKDIR/BB2020_MinION_1kb/all.fastq > $WKDIR/BB2020_MinION_1kb/BB2020_MinION_1kb.fastq\""
   ]
  },
  {
   "cell_type": "code",
   "execution_count": 36,
   "id": "9b98c3df-2930-4242-99f6-4b16b43d3383",
   "metadata": {},
   "outputs": [
    {
     "name": "stdout",
     "output_type": "stream",
     "text": [
      "Job <628701> is submitted to default queue <lowpriority>.\n"
     ]
    }
   ],
   "source": [
    "bsub -J seqtkit1  -o $WKDIR/log/seqtkit1.out -e $WKDIR/log/seqtkit1.err -n 2 \\\n",
    "\"seqkit seq -m 5000 $WKDIR/BB2020_MinION_1kb/all.fastq > $WKDIR/BB2020_MinION_1kb/BB2020_MinION_5kb.fastq\""
   ]
  },
  {
   "cell_type": "code",
   "execution_count": 37,
   "id": "89423fd3-d1c9-4b1e-bf91-6f94526edab4",
   "metadata": {},
   "outputs": [
    {
     "name": "stdout",
     "output_type": "stream",
     "text": [
      "Job <628702> is submitted to default queue <lowpriority>.\n"
     ]
    }
   ],
   "source": [
    "bsub -J seqtkit2  -o $WKDIR/log/seqtkit2.out -e $WKDIR/log/seqtkit2.err -n 11 \\\n",
    "\"seqkit stats -j 10 $WKDIR/BB2020_MinION_1kb/*.fastq\""
   ]
  },
  {
   "cell_type": "code",
   "execution_count": 38,
   "id": "49032ad0-3dd8-487f-be4d-7a7134afe957",
   "metadata": {
    "jupyter": {
     "source_hidden": true
    },
    "tags": []
   },
   "outputs": [
    {
     "name": "stdout",
     "output_type": "stream",
     "text": [
      "file                                                                                        format  type  num_seqs        sum_len  min_len   avg_len  max_len\n",
      "/workspace/hraijc/BB_Nui_Assembly/Nui_BB2020_ONT/BB2020_MinION_1kb/all.fastq                FASTQ   DNA    866,892  8,411,741,214       84   9,703.3  153,794\n",
      "/workspace/hraijc/BB_Nui_Assembly/Nui_BB2020_ONT/BB2020_MinION_1kb/BB2020_MinION_1kb.fastq  FASTQ   DNA    801,411  8,368,838,005    1,000  10,442.6  153,794\n",
      "/workspace/hraijc/BB_Nui_Assembly/Nui_BB2020_ONT/BB2020_MinION_1kb/BB2020_MinION_5kb.fastq  FASTQ   DNA    429,039  7,311,167,339    5,000  17,040.8  153,794\n"
     ]
    }
   ],
   "source": [
    "head -n 4 $WKDIR/log/seqtkit2.out"
   ]
  },
  {
   "cell_type": "code",
   "execution_count": null,
   "id": "42b3d4a7-022c-41b2-a1a7-7fddbc8a1e01",
   "metadata": {},
   "outputs": [],
   "source": []
  },
  {
   "cell_type": "code",
   "execution_count": null,
   "id": "753885f6-a751-49a2-a7ed-7b363c922d12",
   "metadata": {},
   "outputs": [],
   "source": []
  },
  {
   "cell_type": "code",
   "execution_count": null,
   "id": "afb7203e-cebb-4208-bc55-c2dbe63486d2",
   "metadata": {},
   "outputs": [],
   "source": []
  }
 ],
 "metadata": {
  "kernelspec": {
   "display_name": "Bash",
   "language": "bash",
   "name": "bash"
  },
  "language_info": {
   "codemirror_mode": "shell",
   "file_extension": ".sh",
   "mimetype": "text/x-sh",
   "name": "bash"
  }
 },
 "nbformat": 4,
 "nbformat_minor": 5
}
