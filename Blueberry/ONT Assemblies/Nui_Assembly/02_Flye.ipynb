{
 "cells": [
  {
   "cell_type": "markdown",
   "id": "b70c37b9-a756-44a9-9eff-1fdb285ac4dc",
   "metadata": {},
   "source": [
    "## Data sources\n",
    "\n",
    "- HiC Data for Nui is here:\n",
    "    - /input/genomic/plant/Vaccinium/corymbosum/AGRF_CAGRF21434_HJWHFDRXX\n",
    "\n",
    "\n",
    "- 10X data for Nui and M7 here:\n",
    "    - /input/genomic/plant/Vaccinium/corymbosum/AGRF_CAGRF18813_H7JY3DRXX\n",
    "\n",
    "\n",
    "- ONT PromethION Nui (BB2020 and BB2020-2 are the same sample) here:\n",
    "    - /input/genomic/plant/Vaccinium/corymbosum/Blueberry_PromethION_Apr2020\n",
    "\n",
    "\n",
    "- ONT MinION Nui (BB2020) here:\n",
    "    - /input/genomic/plant/Vaccinium/corymbosum/CAGRF21436/20200224_MinION/AGRF_CAGRFF21436_FAL87845_BB2020/\n",
    "\n",
    "\n",
    "- 10X Supernova Assembly for 10X data here:\n",
    "    - /output/genomic/plant/Vaccinium/corymbosum/2021_GenomeAssembly/Nui/01_Supernova\n",
    "\n",
    "### Plan \n",
    "- base-calling for ONT samples using Guppy v5.\n",
    "- Filter out MinION reads <1kb. Or higher...\n",
    "- Cecilia has done the Supernova assembly for the 10X data.\n",
    "- Use Flye to assemble ONT fastq\n",
    "- Use quickmerge to merge the Supernova contigs + ONT contigs\n",
    "- Use Salsa to improve assembly\n",
    "- Tetraploid Haplotyping and gene annotation etc. \n",
    "\n",
    "\n",
    "\n",
    "**See 01_basecalling_ONT.ipyn for ONT steps**"
   ]
  },
  {
   "cell_type": "markdown",
   "id": "87502905-5e47-4370-8ab5-4f7f543a981d",
   "metadata": {},
   "source": [
    "## Flye \n",
    "### Prep"
   ]
  },
  {
   "cell_type": "code",
   "execution_count": 1,
   "id": "ae846262-6bc5-4353-87d1-df32fc8e0365",
   "metadata": {},
   "outputs": [],
   "source": [
    "WKDIR=/workspace/hraijc/BB_Nui_Assembly/ONT_Assemly\n",
    "PROMREADS=/workspace/hraijc/BB_Nui_Assembly/Nui_BB2020_ONT/BB2020_PromethION_Fastq/BB2020_gupppy5.fastq\n",
    "MINREADS=/workspace/hraijc/BB_Nui_Assembly/Nui_BB2020_ONT/BB2020_MinION_1kb/BB2020_MinION_1kb.fastq\n",
    "ONTREADS=${WKDIR}/BB2020_ONT.fastq"
   ]
  },
  {
   "cell_type": "code",
   "execution_count": 4,
   "id": "57d9518e-220b-459a-adfb-00e04491833c",
   "metadata": {},
   "outputs": [
    {
     "name": "stdout",
     "output_type": "stream",
     "text": [
      "mkdir: cannot create directory ‘/workspace/hraijc/BB_Nui_Assembly/ONT_Assemly/’: File exists\n",
      "mkdir: cannot create directory ‘/workspace/hraijc/BB_Nui_Assembly/ONT_Assemly//log’: File exists\n"
     ]
    }
   ],
   "source": [
    "mkdir $WKDIR\n",
    "mkdir ${WKDIR}/log\n",
    "mkdir ${WKDIR}/FLYE01"
   ]
  },
  {
   "cell_type": "code",
   "execution_count": 2,
   "id": "9ccec98a-067f-48b5-a7f6-e7142c43e0c7",
   "metadata": {},
   "outputs": [],
   "source": [
    "cd $WKDIR"
   ]
  },
  {
   "cell_type": "code",
   "execution_count": 27,
   "id": "cd56dff2-510f-4b16-bf7b-bc91455bdd31",
   "metadata": {},
   "outputs": [],
   "source": [
    "#Make one file for all ONT reads.\n",
    "cat $PROMREADS $MINREADS > $ONTREADS\n"
   ]
  },
  {
   "cell_type": "code",
   "execution_count": 28,
   "id": "75bb9935-99f4-4bbc-ac3c-ad3aba342b22",
   "metadata": {},
   "outputs": [
    {
     "name": "stdout",
     "output_type": "stream",
     "text": [
      "68G\t/workspace/hraijc/BB_Nui_Assembly/Nui_BB2020_ONT/BB2020_PromethION_Fastq/BB2020_gupppy5.fastq\n",
      "18G\t/workspace/hraijc/BB_Nui_Assembly/Nui_BB2020_ONT/BB2020_MinION_1kb/BB2020_MinION_1kb.fastq\n",
      "86G\t/workspace/hraijc/BB_Nui_Assembly/ONT_Assemly/BB2020_ONT.fastq\n"
     ]
    }
   ],
   "source": [
    "du -sh $PROMREADS\n",
    "du -sh $MINREADS\n",
    "du -sh $ONTREADS"
   ]
  },
  {
   "cell_type": "code",
   "execution_count": 3,
   "id": "ed910be8-3aed-4cc5-89eb-b19c6e7ea4c2",
   "metadata": {},
   "outputs": [],
   "source": [
    "#module load flye/2.8.3"
   ]
  },
  {
   "cell_type": "markdown",
   "id": "a275d925-6bfe-4191-83e3-fa2972856628",
   "metadata": {},
   "source": [
    "### Run"
   ]
  },
  {
   "cell_type": "code",
   "execution_count": 34,
   "id": "ccc8f7b2-eb40-4347-ba00-49d61fbb827b",
   "metadata": {},
   "outputs": [
    {
     "name": "stdout",
     "output_type": "stream",
     "text": [
      "Job <630194> is submitted to default queue <lowpriority>.\n"
     ]
    }
   ],
   "source": [
    "#bsub -J FLYE01  -o $WKDIR/log/FLYE01.out -e $WKDIR/log/FLYE01.err -n 17 -R rusage[mem=450000] \\\n",
    "#\"flye --nano-corr ${ONTREADS} --out-dir ${WKDIR}/FLYE01 --threads 16 --iterations 1\"\n",
    "# Failed with  ERROR: No disjointigs were assembled - please check if the read type and genome size parameters are correct\n",
    "# Trying again setting asm-cov=50 and setting genome size"
   ]
  },
  {
   "cell_type": "code",
   "execution_count": 6,
   "id": "d9fab5d2-f56b-4037-adab-34e1d89cb667",
   "metadata": {},
   "outputs": [
    {
     "name": "stdout",
     "output_type": "stream",
     "text": [
      "Job <632305> is submitted to default queue <lowpriority>.\n"
     ]
    }
   ],
   "source": [
    "#bsub -J FLYE02  -o $WKDIR/log/FLYE02.out -e $WKDIR/log/FLYE02.err -n 17 -R rusage[mem=100000] \\\n",
    "#\"flye --nano-corr ${ONTREADS} --out-dir ${WKDIR}/FLYE02 --asm-coverage 50 --genome-size 600m --threads 16 --iterations 1\"\n",
    "# Failed with same error. I think its because of the --nano-corr flag. This assumes a very very low error rate. \n",
    "# The --nano-raw option seems to be too high though. \n",
    "# Going to try with version 2.9 which has the --nano-hq flag for the guppy v5 reads."
   ]
  },
  {
   "cell_type": "code",
   "execution_count": 4,
   "id": "fa642be4-3887-440f-99b0-74de3daf7c8f",
   "metadata": {},
   "outputs": [
    {
     "name": "stdout",
     "output_type": "stream",
     "text": [
      "(/workspace/appscratch/miniconda/hraijc_flye) "
     ]
    },
    {
     "ename": "",
     "evalue": "1",
     "output_type": "error",
     "traceback": []
    }
   ],
   "source": [
    "module unload conda\n",
    "module unload flye\n",
    "module load conda\n",
    "conda activate hraijc_flye\n"
   ]
  },
  {
   "cell_type": "code",
   "execution_count": 22,
   "id": "334c73fd-8fcf-4c05-944d-4a7893cb0eec",
   "metadata": {},
   "outputs": [
    {
     "name": "stdout",
     "output_type": "stream",
     "text": [
      "2.9-b1774\n",
      "(/workspace/appscratch/miniconda/hraijc_flye) "
     ]
    },
    {
     "ename": "",
     "evalue": "1",
     "output_type": "error",
     "traceback": []
    }
   ],
   "source": [
    "python /workspace/hraijc/git_clones/Flye/bin/flye -v"
   ]
  },
  {
   "cell_type": "code",
   "execution_count": 23,
   "id": "cfca2a1d-7c81-4690-a372-1e5a0eb33bab",
   "metadata": {},
   "outputs": [
    {
     "name": "stdout",
     "output_type": "stream",
     "text": [
      "(/workspace/appscratch/miniconda/hraijc_flye) Job <632359> is submitted to default queue <lowpriority>.\n",
      "(/workspace/appscratch/miniconda/hraijc_flye) "
     ]
    },
    {
     "ename": "",
     "evalue": "1",
     "output_type": "error",
     "traceback": []
    }
   ],
   "source": [
    "##TRYING WITH VERSION 2.9\n",
    "bsub -J FLYE03  -o $WKDIR/log/FLYE03.out -e $WKDIR/log/FLYE03.err -n 17 -R rusage[mem=100000] \\\n",
    "\"python /workspace/hraijc/git_clones/Flye/bin/flye --nano-hq ${ONTREADS} --out-dir ${WKDIR}/FLYE03 --asm-coverage 50 --genome-size 600m --threads 16 --iterations 1\""
   ]
  },
  {
   "cell_type": "code",
   "execution_count": 5,
   "id": "eaf2d83c-48b7-419f-b3c1-8aa5fca98c3d",
   "metadata": {},
   "outputs": [],
   "source": [
    "conda deactivate"
   ]
  },
  {
   "cell_type": "code",
   "execution_count": 6,
   "id": "57841650-bad6-44a7-985f-d245ca49da51",
   "metadata": {},
   "outputs": [],
   "source": [
    "module unload conda"
   ]
  },
  {
   "cell_type": "markdown",
   "id": "dcff1a4f-1b8a-406c-8668-3d9d07ed1483",
   "metadata": {},
   "source": [
    "## Try again with filtering for quality and ONT read length."
   ]
  },
  {
   "cell_type": "code",
   "execution_count": 33,
   "id": "557f7f06-3663-409f-b91a-a4bad3a1c3f2",
   "metadata": {},
   "outputs": [],
   "source": [
    "ONTREADS2=/workspace/hraijc/BB_Nui_Assembly/ONT_Assemly/BB2020_ONT_min5kb.fastq\n",
    "ONTREADS3=/workspace/hraijc/BB_Nui_Assembly/ONT_Assemly/BB2020_ONT_min5kb_10q.fastq"
   ]
  },
  {
   "cell_type": "code",
   "execution_count": 7,
   "id": "83c78d5a-cd80-4c0b-b927-a690ab5cfb04",
   "metadata": {},
   "outputs": [],
   "source": [
    "module load seqkit\n",
    "module load nanopack"
   ]
  },
  {
   "cell_type": "code",
   "execution_count": 29,
   "id": "a20b1f9d-dcb2-4414-8d2d-f0b6305b753c",
   "metadata": {},
   "outputs": [
    {
     "name": "stdout",
     "output_type": "stream",
     "text": [
      "Job <635035> is submitted to default queue <lowpriority>.\n"
     ]
    }
   ],
   "source": [
    "#bsub -J seqtkit2b  -o $WKDIR/log/seqtkit2b.out -e $WKDIR/log/seqtkit2b.err -n 9 \\\n",
    "#\"seqkit seq -j 8 -m 5000 BB2020_ONT.fastq > ${ONTREADS2}\""
   ]
  },
  {
   "cell_type": "code",
   "execution_count": 36,
   "id": "bc68d49b-b678-4eee-bd40-46dfff0f3aaa",
   "metadata": {},
   "outputs": [
    {
     "name": "stdout",
     "output_type": "stream",
     "text": [
      "Job <635140> is submitted to default queue <lowpriority>.\n"
     ]
    }
   ],
   "source": [
    "bsub -J NanoFilt  -o $WKDIR/log/NanoFilt.out -e $WKDIR/log/NanoFilt.err -n 2 \\\n",
    "\"NanoFilt -q 10 -l 5000 BB2020_ONT.fastq > ${ONTREADS3}\""
   ]
  },
  {
   "cell_type": "code",
   "execution_count": 8,
   "id": "0570a0f9-84e5-4c76-addd-393b5be40abe",
   "metadata": {},
   "outputs": [
    {
     "name": "stdout",
     "output_type": "stream",
     "text": [
      "Job <635395> is submitted to default queue <lowpriority>.\n"
     ]
    }
   ],
   "source": [
    "bsub -J seqtkit3  -o $WKDIR/log/seqtkit3.out -e $WKDIR/log/seqtkit3.err -n 9 \\\n",
    "\"seqkit stats -j 8 *.fastq\""
   ]
  },
  {
   "cell_type": "code",
   "execution_count": null,
   "id": "bcf30f2b-c5b3-4767-8f51-6b1fa75a14c5",
   "metadata": {
    "tags": []
   },
   "outputs": [],
   "source": [
    "#file                         format  type   num_seqs         sum_len  min_len   avg_len  max_len\n",
    "#BB2020_ONT.fastq             FASTQ   DNA   3,146,685  39,717,105,373       15  12,621.9  199,090\n",
    "#BB2020_ONT_min5kb_10q.fastq  FASTQ   DNA   1,726,459  32,859,909,657    5,000  19,033.1  199,090"
   ]
  },
  {
   "cell_type": "code",
   "execution_count": 12,
   "id": "61f35305-7031-421b-8c17-13ba243018f0",
   "metadata": {},
   "outputs": [],
   "source": [
    "module unload seqkit\n",
    "module unload nanopack"
   ]
  },
  {
   "cell_type": "markdown",
   "id": "5f420672-94cb-4ae1-a2ba-c58dcee1e007",
   "metadata": {},
   "source": [
    "### Flye on filtered ONT dataset."
   ]
  },
  {
   "cell_type": "code",
   "execution_count": 1,
   "id": "e349b40b-0ac8-48c6-b465-7ab6a10e7f04",
   "metadata": {},
   "outputs": [],
   "source": [
    "WKDIR=/workspace/hraijc/BB_Nui_Assembly/ONT_Assemly\n",
    "ONTREADS3=/workspace/hraijc/BB_Nui_Assembly/ONT_Assemly/BB2020_ONT_min5kb_10q.fastq"
   ]
  },
  {
   "cell_type": "code",
   "execution_count": 14,
   "id": "e211da89-a52f-4938-9dd3-414c3fb6930a",
   "metadata": {},
   "outputs": [
    {
     "name": "stdout",
     "output_type": "stream",
     "text": [
      "(/workspace/appscratch/miniconda/hraijc_flye) "
     ]
    },
    {
     "ename": "",
     "evalue": "1",
     "output_type": "error",
     "traceback": []
    }
   ],
   "source": [
    "module load conda\n",
    "conda activate hraijc_flye"
   ]
  },
  {
   "cell_type": "code",
   "execution_count": 15,
   "id": "d1aeeb8d-a042-4ddf-983d-330ed36ff077",
   "metadata": {},
   "outputs": [
    {
     "name": "stdout",
     "output_type": "stream",
     "text": [
      "Job <635402> is submitted to default queue <lowpriority>.\n",
      "(/workspace/appscratch/miniconda/hraijc_flye) "
     ]
    },
    {
     "ename": "",
     "evalue": "1",
     "output_type": "error",
     "traceback": []
    }
   ],
   "source": [
    "bsub -J FLYE04  -o $WKDIR/log/FLYE04.out -e $WKDIR/log/FLYE04.err -n 17 -R rusage[mem=100000] \\\n",
    "\"python /workspace/hraijc/git_clones/Flye/bin/flye --nano-hq ${ONTREADS3} --out-dir ${WKDIR}/FLYE04 --asm-coverage 50 --genome-size 600m --threads 16 --iterations 2\""
   ]
  },
  {
   "cell_type": "code",
   "execution_count": 4,
   "id": "bae6f747-80e6-4c83-a4db-45b6f03b5ff4",
   "metadata": {},
   "outputs": [],
   "source": [
    "mv ONT_Assemly/FLYE04/assembly.fasta ONT_Assemly/FLYE04/Flye04_assembly.fasta "
   ]
  },
  {
   "cell_type": "code",
   "execution_count": 5,
   "id": "8bb6cf06-0799-4c8d-9f44-ab5f407f75ad",
   "metadata": {},
   "outputs": [
    {
     "name": "stdout",
     "output_type": "stream",
     "text": [
      "ln: failed to create symbolic link ‘/workspace/hraijc/BB_Nui_Assembly/Hybrid_assembly/Assembly_comparison/Flye04_assembly.fasta’: File exists\n"
     ]
    },
    {
     "ename": "",
     "evalue": "1",
     "output_type": "error",
     "traceback": []
    }
   ],
   "source": [
    "ln -s /workspace/hraijc/BB_Nui_Assembly/ONT_Assemly/FLYE04/Flye04_assembly.fasta /workspace/hraijc/BB_Nui_Assembly/Hybrid_assembly/Assembly_comparison/Flye04_assembly.fasta"
   ]
  },
  {
   "cell_type": "code",
   "execution_count": null,
   "id": "c99c36f7-49b7-46c1-90e7-4362c87c684f",
   "metadata": {},
   "outputs": [],
   "source": []
  },
  {
   "cell_type": "code",
   "execution_count": 2,
   "id": "e8cebf5b-d76f-48f8-9f38-6005248d80a0",
   "metadata": {},
   "outputs": [
    {
     "name": "stdout",
     "output_type": "stream",
     "text": [
      "Loading \u001b[1mBUSCO/v5.2.2\u001b[22m\n",
      "  \u001b[94mLoading requirement\u001b[0m: singularity/3\n"
     ]
    }
   ],
   "source": []
  },
  {
   "cell_type": "code",
   "execution_count": null,
   "id": "1d7106c0-449c-4568-b602-670e0cffe679",
   "metadata": {},
   "outputs": [],
   "source": []
  },
  {
   "cell_type": "code",
   "execution_count": 3,
   "id": "c069b134-8594-4900-a3ea-5321d36b16b0",
   "metadata": {},
   "outputs": [
    {
     "name": "stdout",
     "output_type": "stream",
     "text": [
      "Job <709649> is submitted to default queue <lowpriority>.\n"
     ]
    }
   ],
   "source": [
    "module load BUSCO/v5.2.2\n",
    "bsub -J busco4 -o ${WKDIR}/log/busco4.log -e ${WKDIR}/log/busco4.err -n 25 \\\n",
    "\"busco -i /workspace/hraijc/BB_Nui_Assembly/ONT_Assemly/FLYE04/Flye04_assembly.fasta -l eudicots -o Flye04_busco -m geno -c 24 --datasets_version odb10\""
   ]
  },
  {
   "cell_type": "code",
   "execution_count": null,
   "id": "641e7847-4db8-4cf2-84c4-8a72b2b7f19d",
   "metadata": {},
   "outputs": [],
   "source": []
  }
 ],
 "metadata": {
  "kernelspec": {
   "display_name": "Bash",
   "language": "bash",
   "name": "bash"
  },
  "language_info": {
   "codemirror_mode": "shell",
   "file_extension": ".sh",
   "mimetype": "text/x-sh",
   "name": "bash"
  }
 },
 "nbformat": 4,
 "nbformat_minor": 5
}
