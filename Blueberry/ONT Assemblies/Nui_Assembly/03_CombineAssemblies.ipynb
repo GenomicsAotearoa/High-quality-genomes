{
 "cells": [
  {
   "cell_type": "markdown",
   "id": "b70c37b9-a756-44a9-9eff-1fdb285ac4dc",
   "metadata": {},
   "source": [
    "## Data sources\n",
    "\n",
    "- HiC Data for Nui is here:\n",
    "    - /input/genomic/plant/Vaccinium/corymbosum/AGRF_CAGRF21434_HJWHFDRXX\n",
    "\n",
    "\n",
    "- 10X data for Nui and M7 here:\n",
    "    - /input/genomic/plant/Vaccinium/corymbosum/AGRF_CAGRF18813_H7JY3DRXX\n",
    "\n",
    "\n",
    "- ONT PromethION Nui (BB2020 and BB2020-2 are the same sample) here:\n",
    "    - /input/genomic/plant/Vaccinium/corymbosum/Blueberry_PromethION_Apr2020\n",
    "\n",
    "\n",
    "- ONT MinION Nui (BB2020) here:\n",
    "    - /input/genomic/plant/Vaccinium/corymbosum/CAGRF21436/20200224_MinION/AGRF_CAGRFF21436_FAL87845_BB2020/\n",
    "\n",
    "\n",
    "- 10X Supernova Assembly for 10X data here:\n",
    "    - /output/genomic/plant/Vaccinium/corymbosum/2021_GenomeAssembly/Nui/01_Supernova\n",
    "\n",
    "### Plan \n",
    "- base-calling for ONT samples using Guppy v5.\n",
    "- Filter out MinION reads <1kb. Or higher...\n",
    "- Cecilia has done the Supernova assembly for the 10X data.\n",
    "- Use Flye to assemble ONT fastq\n",
    "- Use quickmerge to merge the Supernova contigs + ONT contigs\n",
    "- Use Salsa to improve assembly\n",
    "- Tetraploid Haplotyping and gene annotation etc. \n",
    "\n",
    "\n",
    "\n",
    "**See 01_basecalling_ONT.ipyn for ONT steps**\n",
    "\n",
    "**See 02_flye.ipyn for ONT Assembly**\n"
   ]
  },
  {
   "cell_type": "markdown",
   "id": "1aedf266-d409-4464-9c27-9d8703ff5846",
   "metadata": {},
   "source": [
    "## Check to see how the Flye assembly compares to the 10X"
   ]
  },
  {
   "cell_type": "code",
   "execution_count": 1,
   "id": "ae846262-6bc5-4353-87d1-df32fc8e0365",
   "metadata": {},
   "outputs": [],
   "source": [
    "WKDIR=/workspace/hraijc/BB_Nui_Assembly/Hybrid_assembly\n",
    "cd $WKDIR"
   ]
  },
  {
   "cell_type": "code",
   "execution_count": 3,
   "id": "57d9518e-220b-459a-adfb-00e04491833c",
   "metadata": {},
   "outputs": [
    {
     "name": "stdout",
     "output_type": "stream",
     "text": [
      "mkdir: cannot create directory ‘/workspace/hraijc/BB_Nui_Assembly/Hybrid_assembly’: File exists\n"
     ]
    }
   ],
   "source": [
    "mkdir $WKDIR\n",
    "mkdir ${WKDIR}/log\n"
   ]
  },
  {
   "cell_type": "code",
   "execution_count": 2,
   "id": "9ccec98a-067f-48b5-a7f6-e7142c43e0c7",
   "metadata": {},
   "outputs": [],
   "source": []
  },
  {
   "cell_type": "code",
   "execution_count": 4,
   "id": "674a9c43-bd69-4c33-84b7-46d312cffa9b",
   "metadata": {},
   "outputs": [],
   "source": [
    "#mkdir ${WKDIR}/Assembly_comparison\n",
    "#cp /output/genomic/plant/Vaccinium/corymbosum/2021_GenomeAssembly/Nui/01_Supernova/Nui.1.fasta ${WKDIR}/Assembly_comparison/Supernova_Nui.1.fasta   \n",
    "#cp /workspace/hraijc/BB_Nui_Assembly/ONT_Assemly/FLYE03/assembly.fasta ${WKDIR}/Assembly_comparison/Flye03_assembly.fasta\n",
    "#cp /output/genomic/plant/Vaccinium/corymbosum/2021_GenomeAssembly/Nui/01_Supernova/Nui.1.min2KB.fasta ${WKDIR}/Assembly_comparison/Supernova_Nui.1.min2kb.fasta\n"
   ]
  },
  {
   "cell_type": "markdown",
   "id": "7cf63e80-22a0-4b69-a71e-f54f9c23980d",
   "metadata": {},
   "source": [
    "#### Contiguity stats of assemblies"
   ]
  },
  {
   "cell_type": "code",
   "execution_count": 5,
   "id": "8c924409-2c2f-4f53-bfdf-d4311ea3861d",
   "metadata": {},
   "outputs": [],
   "source": [
    "module load BBMap/38.33"
   ]
  },
  {
   "cell_type": "code",
   "execution_count": 6,
   "id": "fb691533-3641-4911-be2f-0b1ae7c0be35",
   "metadata": {},
   "outputs": [],
   "source": [
    "cd ${WKDIR}/Assembly_comparison"
   ]
  },
  {
   "cell_type": "code",
   "execution_count": 7,
   "id": "007486e4-f977-4a87-b5dc-a0159d46514a",
   "metadata": {},
   "outputs": [
    {
     "name": "stdout",
     "output_type": "stream",
     "text": [
      "Job <636360> is submitted to default queue <lowpriority>.\n"
     ]
    }
   ],
   "source": [
    "bsub -J bstat1 -o ${WKDIR}/log/bstat1.log -e ${WKDIR}/log/bstat1.err \\\n",
    "\"statswrapper.sh in=Supernova_Nui.1.fasta,Flye03_assembly.fasta,Supernova_Nui.1.min2kb.fasta format=3\""
   ]
  },
  {
   "cell_type": "markdown",
   "id": "0668f721-a80c-4973-967e-80f44e69e32d",
   "metadata": {},
   "source": [
    "|n_scaffolds|n_contigs|scaf_bp|contig_bp|gap_pct|scaf_N50(number)|scaf_L50(SeqLength)|ctg_N50|ctg_L50|scaf_N90|scaf_L90|ctg_N90|ctg_L90|scaf_max|ctg_max|scaf_n_gt50K|scaf_pct_gt50K|gc_avg|gc_std|filename|\n",
    "| ----------- | ----------- | ----------- | ----------- | ----------- | ----------- | ----------- | ----------- | ----------- | ----------- | ----------- | ----------- | ----------- | ----------- | ----------- | ----------- | ----------- | ----------- | ----------- | ----------- |\n",
    "|294493|327732|890445603|879628983|1.215|31787|6211|40402|5258|172322|1055|196312|989|487194|127919|843|8.239|0.38910|0.04736|Supernova_Nui.1.fasta|\n",
    "|105550|132451|706271084|695673804|1.500|19187|8705|25361|7191|76634|2942|91036|2603|487194|127919|843|10.387|0.39126|0.03921|Supernova_Nui.1.min2kb.fasta|\n",
    "|22050|22050|1804096927|1804096927|0.000|2301|212778|2301|212778|9403|43723|9403|43723|1907487|1907487|8662|88.079|0.38702|0.03932|Flye03_assembly.fasta|\n"
   ]
  },
  {
   "cell_type": "code",
   "execution_count": null,
   "id": "af285d21-3623-4257-a09b-4266b919d1ae",
   "metadata": {},
   "outputs": [],
   "source": []
  },
  {
   "cell_type": "code",
   "execution_count": 32,
   "id": "899a25fd-346e-407d-8d81-88f7ebbd9483",
   "metadata": {},
   "outputs": [],
   "source": [
    "module load BUSCO/v5.2.2"
   ]
  },
  {
   "cell_type": "code",
   "execution_count": 17,
   "id": "dc4c2c68-b1c0-48df-a2a6-d2115a3eaac5",
   "metadata": {},
   "outputs": [
    {
     "name": "stdout",
     "output_type": "stream",
     "text": [
      "Job <633481> is submitted to default queue <lowpriority>.\n"
     ]
    }
   ],
   "source": [
    "bsub -J busco1 -o ${WKDIR}/log/busco1.log -e ${WKDIR}/log/busco1.err -n 9 \\\n",
    "\"busco -i Flye03_assembly.fasta -l eudicots -o Flye03_busco -m geno -c 8 --datasets_version odb10\""
   ]
  },
  {
   "cell_type": "code",
   "execution_count": 17,
   "id": "27e02f21-01ae-4b46-addc-f04340cabe31",
   "metadata": {},
   "outputs": [
    {
     "name": "stdout",
     "output_type": "stream",
     "text": [
      "Job <633835> is submitted to default queue <lowpriority>.\n"
     ]
    }
   ],
   "source": [
    "bsub -J busco2 -o ${WKDIR}/log/busco2.log -e ${WKDIR}/log/busco2.err -n 17 \\\n",
    "\"busco -i Nui_quickmerge2.fasta -l eudicots -o Nui_quickmerge2_busco -m geno -c 16 --datasets_version odb10\""
   ]
  },
  {
   "cell_type": "code",
   "execution_count": 33,
   "id": "c40fafbd-e3e8-4d73-a656-ccd32b8667e0",
   "metadata": {},
   "outputs": [
    {
     "name": "stdout",
     "output_type": "stream",
     "text": [
      "Job <633989> is submitted to default queue <lowpriority>.\n"
     ]
    }
   ],
   "source": [
    "bsub -J busco3 -o ${WKDIR}/log/busco3.log -e ${WKDIR}/log/busco3.err -n 17 \\\n",
    "\"busco -i Supernova_Nui.1.min2kb.fasta -l eudicots -o Supernova_Nui.1.min2kb_busco -m geno -c 16 --datasets_version odb10\"\n"
   ]
  },
  {
   "cell_type": "code",
   "execution_count": 34,
   "id": "093a4006-9255-4895-8943-3fdd2c76dcb5",
   "metadata": {},
   "outputs": [],
   "source": [
    "module unload BBMap\n",
    "module unload BUSCO"
   ]
  },
  {
   "cell_type": "markdown",
   "id": "3d4a606d-f40d-45f4-afcd-77018b8511cc",
   "metadata": {},
   "source": [
    "## Quickmerge"
   ]
  },
  {
   "cell_type": "code",
   "execution_count": 35,
   "id": "45da6e58-7c1a-4647-8dc4-f02b208b4fdd",
   "metadata": {},
   "outputs": [
    {
     "name": "stdout",
     "output_type": "stream",
     "text": [
      "(/workspace/appscratch/miniconda/hraijc_quickmerge) (/workspace/appscratch/miniconda/hraijc_quickmerge) "
     ]
    },
    {
     "ename": "",
     "evalue": "1",
     "output_type": "error",
     "traceback": []
    }
   ],
   "source": [
    "module load conda\n",
    "conda activate hraijc_quickmerge\n",
    "source /workspace/hraijc/git_clones/quickmerge/.quickmergerc"
   ]
  },
  {
   "cell_type": "code",
   "execution_count": 38,
   "id": "bfa51f31-7ea1-42b4-8ee9-52c8f9a2c88d",
   "metadata": {},
   "outputs": [
    {
     "name": "stdout",
     "output_type": "stream",
     "text": [
      "(/workspace/appscratch/miniconda/hraijc_quickmerge) (/workspace/appscratch/miniconda/hraijc_quickmerge) "
     ]
    },
    {
     "ename": "",
     "evalue": "1",
     "output_type": "error",
     "traceback": []
    }
   ],
   "source": [
    "#remove whitespaces from Supernova Assembly\n",
    "#sed 's/[[:space:]]*//g' ${WKDIR}/Assembly_comparison/Supernova_Nui.1.min2kb.fasta > ${WKDIR}/Assembly_comparison/Supernova_Nui.1.min2kb.fa\n"
   ]
  },
  {
   "cell_type": "code",
   "execution_count": 43,
   "id": "b5f6fec7-9523-4e9d-a0b9-1dd88c27ce01",
   "metadata": {},
   "outputs": [
    {
     "name": "stdout",
     "output_type": "stream",
     "text": [
      "(/workspace/appscratch/miniconda/hraijc_quickmerge) "
     ]
    },
    {
     "ename": "",
     "evalue": "1",
     "output_type": "error",
     "traceback": []
    }
   ],
   "source": [
    "#mkdir ${WKDIR}/quickmerge1"
   ]
  },
  {
   "cell_type": "code",
   "execution_count": 6,
   "id": "76505fc8-efbb-4adf-9c7d-f968e49e22a7",
   "metadata": {},
   "outputs": [
    {
     "name": "stdout",
     "output_type": "stream",
     "text": [
      "(/workspace/appscratch/miniconda/hraijc_quickmerge) "
     ]
    },
    {
     "ename": "",
     "evalue": "1",
     "output_type": "error",
     "traceback": []
    }
   ],
   "source": [
    "cd ${WKDIR}/quickmerge1"
   ]
  },
  {
   "cell_type": "code",
   "execution_count": 7,
   "id": "4c7d743f-733c-4905-a57c-015ec21cc05a",
   "metadata": {},
   "outputs": [
    {
     "name": "stdout",
     "output_type": "stream",
     "text": [
      "Job <633214> is submitted to default queue <lowpriority>.\n",
      "(/workspace/appscratch/miniconda/hraijc_quickmerge) "
     ]
    },
    {
     "ename": "",
     "evalue": "1",
     "output_type": "error",
     "traceback": []
    }
   ],
   "source": [
    "bsub -J quickmerge1 -o ${WKDIR}/log/quickmerge1.log -e ${WKDIR}/log/quickmerge1.err \\\n",
    "\"/workspace/hraijc/git_clones/quickmerge/merge_wrapper.py ${WKDIR}/Assembly_comparison/Flye03_assembly.fasta ${WKDIR}/Assembly_comparison/Supernova_Nui.1.min2kb.fasta -l 8705\""
   ]
  },
  {
   "cell_type": "markdown",
   "id": "d35301be-3f1d-458a-baa2-94e3287722ae",
   "metadata": {},
   "source": [
    "#mkdir ${WKDIR}/quickmerge2"
   ]
  },
  {
   "cell_type": "code",
   "execution_count": 9,
   "id": "9aef96db-05be-44c4-9060-1055b77a5249",
   "metadata": {},
   "outputs": [
    {
     "name": "stdout",
     "output_type": "stream",
     "text": [
      "(/workspace/appscratch/miniconda/hraijc_quickmerge) "
     ]
    },
    {
     "ename": "",
     "evalue": "1",
     "output_type": "error",
     "traceback": []
    }
   ],
   "source": [
    "cd ${WKDIR}/quickmerge2"
   ]
  },
  {
   "cell_type": "code",
   "execution_count": 10,
   "id": "5a0e22b4-00d8-4c28-ac14-73c34e118a24",
   "metadata": {},
   "outputs": [
    {
     "name": "stdout",
     "output_type": "stream",
     "text": [
      "Job <633215> is submitted to default queue <lowpriority>.\n",
      "(/workspace/appscratch/miniconda/hraijc_quickmerge) "
     ]
    },
    {
     "ename": "",
     "evalue": "1",
     "output_type": "error",
     "traceback": []
    }
   ],
   "source": [
    "bsub -J quickmerge2 -o ${WKDIR}/log/quickmerge2.log -e ${WKDIR}/log/quickmerge2.err \\\n",
    "\"/workspace/hraijc/git_clones/quickmerge/merge_wrapper.py ${WKDIR}/Assembly_comparison/Supernova_Nui.1.min2kb.fasta ${WKDIR}/Assembly_comparison/Flye03_assembly.fasta -l 212778\""
   ]
  },
  {
   "cell_type": "code",
   "execution_count": 26,
   "id": "9f97fb49-d0d4-4535-953b-f1c3763bca8f",
   "metadata": {},
   "outputs": [
    {
     "name": "stdout",
     "output_type": "stream",
     "text": [
      "(/workspace/appscratch/miniconda/hraijc_quickmerge) "
     ]
    },
    {
     "ename": "",
     "evalue": "1",
     "output_type": "error",
     "traceback": []
    }
   ],
   "source": [
    "mkdir ${WKDIR}/quickmerge3"
   ]
  },
  {
   "cell_type": "code",
   "execution_count": 41,
   "id": "d9414702-914f-44b0-9e15-89f599596a48",
   "metadata": {},
   "outputs": [
    {
     "name": "stdout",
     "output_type": "stream",
     "text": [
      "(/workspace/appscratch/miniconda/hraijc_quickmerge) "
     ]
    },
    {
     "ename": "",
     "evalue": "1",
     "output_type": "error",
     "traceback": []
    }
   ],
   "source": [
    "cd ${WKDIR}/quickmerge3"
   ]
  },
  {
   "cell_type": "code",
   "execution_count": 42,
   "id": "a3ab1dc7-71f6-4ece-a481-65648802b9fa",
   "metadata": {},
   "outputs": [
    {
     "name": "stdout",
     "output_type": "stream",
     "text": [
      "Job <633993> is submitted to default queue <lowpriority>.\n",
      "(/workspace/appscratch/miniconda/hraijc_quickmerge) "
     ]
    },
    {
     "ename": "",
     "evalue": "1",
     "output_type": "error",
     "traceback": []
    }
   ],
   "source": [
    "bsub -J quickmerge3 -o ${WKDIR}/log/quickmerge3.log -e ${WKDIR}/log/quickmerge3.err \\\n",
    "\"/workspace/hraijc/git_clones/quickmerge/merge_wrapper.py ${WKDIR}/Assembly_comparison/Nui_quickmerge2.fasta ${WKDIR}/Assembly_comparison/Flye03_assembly.fasta -l 317351\""
   ]
  },
  {
   "cell_type": "code",
   "execution_count": null,
   "id": "c4719e4c-bbb6-4843-8044-51c39e883ffa",
   "metadata": {},
   "outputs": [],
   "source": []
  },
  {
   "cell_type": "code",
   "execution_count": 12,
   "id": "39720187-f83b-4f98-966c-3cad51001dd8",
   "metadata": {},
   "outputs": [],
   "source": [
    "#cp /workspace/hraijc/BB_Nui_Assembly/Hybrid_assembly/quickmerge1/merged_out.fasta ${WKDIR}/Assembly_comparison/Nui_quickmerge1.fasta\n",
    "#cp /workspace/hraijc/BB_Nui_Assembly/Hybrid_assembly/quickmerge2/merged_out.fasta ${WKDIR}/Assembly_comparison/Nui_quickmerge2.fasta\n",
    "#cp /workspace/hraijc/BB_Nui_Assembly/Hybrid_assembly/quickmerge3/merged_out.fasta ${WKDIR}/Assembly_comparison/Nui_quickmerge3.fasta\n"
   ]
  },
  {
   "cell_type": "code",
   "execution_count": 46,
   "id": "515cae5d-e0ec-404c-8558-b476cd242660",
   "metadata": {},
   "outputs": [],
   "source": [
    "conda deactivate\n",
    "module unload conda"
   ]
  },
  {
   "cell_type": "markdown",
   "id": "4960b88a-636d-4b4d-b232-49f19f90c444",
   "metadata": {},
   "source": [
    "#### Did they improve?"
   ]
  },
  {
   "cell_type": "code",
   "execution_count": 8,
   "id": "0b1adbf6-ac82-4b6f-b1bc-9fcd60301dda",
   "metadata": {},
   "outputs": [],
   "source": [
    "module load BBMap/38.33"
   ]
  },
  {
   "cell_type": "code",
   "execution_count": 9,
   "id": "687d5230-26be-4a34-8f17-679556969ea3",
   "metadata": {
    "tags": []
   },
   "outputs": [],
   "source": [
    "cd ${WKDIR}/Assembly_comparison"
   ]
  },
  {
   "cell_type": "code",
   "execution_count": 10,
   "id": "cf0d1292-b7da-46b9-91ff-73b0ba5ee634",
   "metadata": {},
   "outputs": [
    {
     "name": "stdout",
     "output_type": "stream",
     "text": [
      "Job <636361> is submitted to default queue <lowpriority>.\n"
     ]
    }
   ],
   "source": [
    "bsub -J bstat2 -o ${WKDIR}/log/bstat2.log -e ${WKDIR}/log/bstat2.err \\\n",
    "\"statswrapper.sh in=Supernova_Nui.1.fasta,Supernova_Nui.1.min2kb.fasta,Flye03_assembly.fasta,Nui_quickmerge1.fasta,Nui_quickmerge2.fasta,Nui_quickmerge3.fasta,Flye04_assembly.fasta format=3\""
   ]
  },
  {
   "cell_type": "code",
   "execution_count": 11,
   "id": "192d3961-21bb-4efa-af9b-e18292fc6d49",
   "metadata": {},
   "outputs": [],
   "source": [
    "module unload BBMap/38.33"
   ]
  },
  {
   "cell_type": "markdown",
   "id": "ce594a53-64b6-4aeb-9425-02dbb4e21024",
   "metadata": {},
   "source": [
    "|n_scaffolds|n_contigs|scaf_bp|contig_bp|gap_pct|scaf_N50|scaf_L50|ctg_N50|ctg_L50|scaf_N90|scaf_L90|ctg_N90|ctg_L90|scaf_max|ctg_max|scaf_n_gt50K|scaf_pct_gt50K|gc_avg|gc_std|filename|\n",
    "|---|---|---|---|---|---|---|---|---|---|---|---|---|---|---|---|---|---|---|---|\n",
    "n_scaffolds|n_contigs|scaf_bp|contig_bp|gap_pct|scaf_N50|scaf_L50|ctg_N50|ctg_L50|scaf_N90|scaf_L90|ctg_N90|ctg_L90|scaf_max|ctg_max|scaf_n_gt50K|scaf_pct_gt50K|gc_avg|gc_std|filename\n",
    "294493|327732|890445603|879628983|1.215|31787|6211|40402|5258|172322|1055|196312|989|487194|127919|843|8.239|0.38910|0.04736|Supernova_Nui.1.fasta\n",
    "105550|132451|706271084|695673804|1.500|19187|8705|25361|7191|76634|2942|91036|2603|487194|127919|843|10.387|0.39126|0.03921|Supernova_Nui.1.min2kb.fasta\n",
    "22050|22050|1804096927|1804096927|0.000|2301|212778|2301|212778|9403|43723|9403|43723|1907487|1907487|8662|88.079|0.38702|0.03932|Flye03_assembly.fasta\n",
    "21859|22159|1802844220|1802206750|0.035|2285|213713|2297|212521|9343|43890|9424|43327|1907487|1907487|8628|88.140|0.38698|0.03928|Nui_quickmerge1.fasta\n",
    "62183|77870|1264110310|1261613670|0.198|1224|317351|1228|316036|23729|5260|27929|4553|1942722|1942722|2508|72.941|0.38879|0.03949|Nui_quickmerge2.fasta\n",
    "62180|77867|1265844424|1263347784|0.197|1223|317509|1228|316117|23694|5266|27891|4558|1942722|1942722|2510|72.979|0.38881|0.03949|Nui_quickmerge3.fasta\n",
    "18923|18923|1804003865|1804003865|0.000|2279|212967|2279|212967|9115|47213|9115|47213|2121296|2121296|8821|89.209|0.38687|0.03763|Flye04_assembly.fasta"
   ]
  },
  {
   "cell_type": "code",
   "execution_count": 22,
   "id": "dea3874e-6104-458f-90c4-ea165a3f2a0e",
   "metadata": {},
   "outputs": [
    {
     "name": "stdout",
     "output_type": "stream",
     "text": [
      "\t***** Results: *****\n",
      "\n",
      "\tC:97.1%[S:13.5%,D:83.6%],F:0.7%,M:2.2%,n:2326\t   \n",
      "\t2259\tComplete BUSCOs (C)\t\t\t   \n",
      "\t315\tComplete and single-copy BUSCOs (S)\t   \n",
      "\t1944\tComplete and duplicated BUSCOs (D)\t   \n",
      "\t16\tFragmented BUSCOs (F)\t\t\t   \n",
      "\t51\tMissing BUSCOs (M)\t\t\t   \n",
      "\t2326\tTotal BUSCO groups searched\t\t   \n",
      "\n",
      "Dependencies and versions:\n",
      "\thmmsearch: 3.1\n",
      "\tmetaeuk: 4.a0f584d\n"
     ]
    }
   ],
   "source": [
    "tail -n 13 ${WKDIR}/Assembly_comparison/Flye03_busco/short*"
   ]
  },
  {
   "cell_type": "markdown",
   "id": "1e8bfd9d-9cfa-4ce1-b7ab-6657fbad9881",
   "metadata": {},
   "source": []
  },
  {
   "cell_type": "markdown",
   "id": "6f9b08ae-2d87-4368-953b-38dd33f05fc6",
   "metadata": {},
   "source": [
    "## New Strategy\n",
    "\n",
    "Trying again with:\n",
    "\n",
    "- Using both pseudohaps of the Supernova assemlby.\n",
    "- 5kb min for the ONT data with min 10 quality.\n",
    "- "
   ]
  },
  {
   "cell_type": "code",
   "execution_count": 23,
   "id": "107625c1-ddb7-4f48-ac7a-0dc7be81ae6d",
   "metadata": {},
   "outputs": [
    {
     "name": "stdout",
     "output_type": "stream",
     "text": [
      "/output/genomic/plant/Vaccinium/corymbosum/2021_GenomeAssembly/Nui/01_Supernova/Nui.1.min2KB.fasta\n",
      "/output/genomic/plant/Vaccinium/corymbosum/2021_GenomeAssembly/Nui/01_Supernova/Nui.2.min2KB.fasta\n"
     ]
    }
   ],
   "source": [
    "ls /output/genomic/plant/Vaccinium/corymbosum/2021_GenomeAssembly/Nui/01_Supernova/*.min2KB.fasta"
   ]
  },
  {
   "cell_type": "code",
   "execution_count": 17,
   "id": "4cbc2a36-c881-4c7c-8ba7-3ba160aef5ae",
   "metadata": {},
   "outputs": [
    {
     "name": "stdout",
     "output_type": "stream",
     "text": [
      "Job <637585> is submitted to default queue <lowpriority>.\n"
     ]
    }
   ],
   "source": [
    "#Combine pseudohaps of the Supernova Assembly.\n",
    "bsub -J cat -o ${WKDIR}/log/cat.log -e ${WKDIR}/log/cat.err \\\n",
    "\"cat /output/genomic/plant/Vaccinium/corymbosum/2021_GenomeAssembly/Nui/01_Supernova/*.min2KB.fasta > /workspace/hraijc/BB_Nui_Assembly/Hybrid_assembly/Supernova_Nui_min2kb.fasta\""
   ]
  },
  {
   "cell_type": "code",
   "execution_count": 12,
   "id": "b4645d3c-b1aa-4810-866d-30f4e14446de",
   "metadata": {},
   "outputs": [],
   "source": [
    "module load seqtk"
   ]
  },
  {
   "cell_type": "code",
   "execution_count": 20,
   "id": "8d1816e9-4486-4262-93fb-1637b0d5cd7a",
   "metadata": {},
   "outputs": [
    {
     "name": "stdout",
     "output_type": "stream",
     "text": [
      "Job <637587> is submitted to default queue <lowpriority>.\n"
     ]
    }
   ],
   "source": [
    "#Rename fasta headers so they are unique\n",
    "bsub -J seqtk -o ${WKDIR}/log/seqtk.log -e ${WKDIR}/log/seqtk.err -n 2 \\\n",
    "\"seqtk rename /workspace/hraijc/BB_Nui_Assembly/Hybrid_assembly/Supernova_Nui_min2kb.fasta > /workspace/hraijc/BB_Nui_Assembly/Hybrid_assembly/Supernova_Nui_min2kb_u.fasta\""
   ]
  },
  {
   "cell_type": "code",
   "execution_count": 13,
   "id": "f60d6c3b-e8f0-44c8-b51b-1ca78514a4ec",
   "metadata": {},
   "outputs": [
    {
     "name": "stdout",
     "output_type": "stream",
     "text": [
      "Job <643192> is submitted to default queue <lowpriority>.\n"
     ]
    }
   ],
   "source": [
    "#Rename fasta headers so they are unique\n",
    "bsub -J seqtk3 -o ${WKDIR}/log/seqtk3.log -e ${WKDIR}/log/seqtk3.err -n 2 \\\n",
    "\"seqtk rename /output/genomic/plant/Vaccinium/corymbosum/2021_GenomeAssembly/Nui/01_Supernova/Nui.1.min2KB.fasta > /workspace/hraijc/BB_Nui_Assembly/Hybrid_assembly/Supernova_Nui.1_min2kb_u.fasta\""
   ]
  },
  {
   "cell_type": "code",
   "execution_count": 14,
   "id": "1e253b53-b3f7-4b3f-af6e-510babd737c7",
   "metadata": {},
   "outputs": [],
   "source": [
    "module unload seqtk"
   ]
  },
  {
   "cell_type": "code",
   "execution_count": 15,
   "id": "49c3672f-6470-453f-94a3-a5940f0065c8",
   "metadata": {},
   "outputs": [],
   "source": [
    "mv /workspace/hraijc/BB_Nui_Assembly/Hybrid_assembly/Supernova_Nui.1_min2kb_u.fasta /workspace/hraijc/BB_Nui_Assembly/Hybrid_assembly/Supernova_Nui.1_min2kb.fasta\n"
   ]
  },
  {
   "cell_type": "markdown",
   "id": "54ad6b0a-ac30-4a1b-b78a-c4b85e3e3370",
   "metadata": {},
   "source": [
    "#### Quickmerge"
   ]
  },
  {
   "cell_type": "code",
   "execution_count": 26,
   "id": "87af0a5f-90f4-4a41-86db-767b46bc1f63",
   "metadata": {},
   "outputs": [
    {
     "name": "stdout",
     "output_type": "stream",
     "text": [
      "(/workspace/appscratch/miniconda/hraijc_quickmerge) (/workspace/appscratch/miniconda/hraijc_quickmerge) "
     ]
    },
    {
     "ename": "",
     "evalue": "1",
     "output_type": "error",
     "traceback": []
    }
   ],
   "source": [
    "module load conda\n",
    "conda activate hraijc_quickmerge\n",
    "source /workspace/hraijc/git_clones/quickmerge/.quickmergerc"
   ]
  },
  {
   "cell_type": "code",
   "execution_count": 27,
   "id": "caad6494-67ba-4bd2-a59c-47cd706eff27",
   "metadata": {},
   "outputs": [
    {
     "name": "stdout",
     "output_type": "stream",
     "text": [
      "(/workspace/appscratch/miniconda/hraijc_quickmerge) (/workspace/appscratch/miniconda/hraijc_quickmerge) "
     ]
    },
    {
     "ename": "",
     "evalue": "1",
     "output_type": "error",
     "traceback": []
    }
   ],
   "source": [
    "WKDIR=/workspace/hraijc/BB_Nui_Assembly/Hybrid_assembly\n",
    "cd $WKDIR"
   ]
  },
  {
   "cell_type": "code",
   "execution_count": 28,
   "id": "fbed746f-f64e-47aa-aaac-1f05866cda01",
   "metadata": {},
   "outputs": [
    {
     "name": "stdout",
     "output_type": "stream",
     "text": [
      "(/workspace/appscratch/miniconda/hraijc_quickmerge) "
     ]
    },
    {
     "ename": "",
     "evalue": "1",
     "output_type": "error",
     "traceback": []
    }
   ],
   "source": [
    "#mkdir ${WKDIR}/quickmerge5"
   ]
  },
  {
   "cell_type": "code",
   "execution_count": 29,
   "id": "538dfe87-8dc4-40aa-a373-a81825a31a47",
   "metadata": {},
   "outputs": [
    {
     "name": "stdout",
     "output_type": "stream",
     "text": [
      "(/workspace/appscratch/miniconda/hraijc_quickmerge) "
     ]
    },
    {
     "ename": "",
     "evalue": "1",
     "output_type": "error",
     "traceback": []
    }
   ],
   "source": [
    "cd ${WKDIR}/quickmerge5"
   ]
  },
  {
   "cell_type": "code",
   "execution_count": 30,
   "id": "bb6c0eea-a55d-407e-b6d0-0edc592790eb",
   "metadata": {},
   "outputs": [
    {
     "name": "stdout",
     "output_type": "stream",
     "text": [
      "Job <637596> is submitted to default queue <lowpriority>.\n",
      "(/workspace/appscratch/miniconda/hraijc_quickmerge) "
     ]
    },
    {
     "ename": "",
     "evalue": "1",
     "output_type": "error",
     "traceback": []
    }
   ],
   "source": [
    "bsub -J quickmerge5 -o ${WKDIR}/log/quickmerge5.log -e ${WKDIR}/log/quickmerge5.err -R rusage[mem=100000] \\\n",
    "\"/workspace/hraijc/git_clones/quickmerge/merge_wrapper.py /workspace/hraijc/BB_Nui_Assembly/ONT_Assemly/FLYE04/Flye04_assembly.fasta /workspace/hraijc/BB_Nui_Assembly/Hybrid_assembly/Supernova_Nui_min2kb.fasta -l 8694\""
   ]
  },
  {
   "cell_type": "code",
   "execution_count": 31,
   "id": "0433fd74-15a5-4afa-a2ca-96d5a1cd279c",
   "metadata": {},
   "outputs": [
    {
     "name": "stdout",
     "output_type": "stream",
     "text": [
      "(/workspace/appscratch/miniconda/hraijc_quickmerge) "
     ]
    },
    {
     "ename": "",
     "evalue": "1",
     "output_type": "error",
     "traceback": []
    }
   ],
   "source": [
    "#mkdir ${WKDIR}/quickmerge6"
   ]
  },
  {
   "cell_type": "code",
   "execution_count": 32,
   "id": "3545449a-ef8a-4ef1-8a4f-bae1dd4d47c7",
   "metadata": {},
   "outputs": [
    {
     "name": "stdout",
     "output_type": "stream",
     "text": [
      "(/workspace/appscratch/miniconda/hraijc_quickmerge) "
     ]
    },
    {
     "ename": "",
     "evalue": "1",
     "output_type": "error",
     "traceback": []
    }
   ],
   "source": [
    "cd ${WKDIR}/quickmerge6"
   ]
  },
  {
   "cell_type": "code",
   "execution_count": 33,
   "id": "0f183d0b-f797-4879-a0a2-63abfe45878c",
   "metadata": {},
   "outputs": [
    {
     "name": "stdout",
     "output_type": "stream",
     "text": [
      "Job <637597> is submitted to default queue <lowpriority>.\n",
      "(/workspace/appscratch/miniconda/hraijc_quickmerge) "
     ]
    },
    {
     "ename": "",
     "evalue": "1",
     "output_type": "error",
     "traceback": []
    }
   ],
   "source": [
    "bsub -J quickmerge6 -o ${WKDIR}/log/quickmerge6.log -e ${WKDIR}/log/quickmerge6.err -R rusage[mem=100000] \\\n",
    "\"/workspace/hraijc/git_clones/quickmerge/merge_wrapper.py /workspace/hraijc/BB_Nui_Assembly/Hybrid_assembly/Supernova_Nui_min2kb.fasta /workspace/hraijc/BB_Nui_Assembly/ONT_Assemly/FLYE04/Flye04_assembly.fasta -l 212967\""
   ]
  },
  {
   "cell_type": "code",
   "execution_count": 2,
   "id": "23c85176-eb1f-468c-aacb-f9a7a8de79eb",
   "metadata": {},
   "outputs": [],
   "source": [
    "mv ${WKDIR}/quickmerge5/merged_out.fasta ${WKDIR}/quickmerge5/Nui_quickmerge5.fasta\n",
    "mv ${WKDIR}/quickmerge6/merged_out.fasta ${WKDIR}/quickmerge6/Nui_quickmerge6.fasta"
   ]
  },
  {
   "cell_type": "code",
   "execution_count": 47,
   "id": "5633bccd-bf85-4a12-88da-87d46a8073e4",
   "metadata": {},
   "outputs": [
    {
     "name": "stdout",
     "output_type": "stream",
     "text": [
      "(/workspace/appscratch/miniconda/hraijc_quickmerge) (/workspace/appscratch/miniconda/hraijc_quickmerge) (/workspace/appscratch/miniconda/hraijc_quickmerge) "
     ]
    },
    {
     "ename": "",
     "evalue": "1",
     "output_type": "error",
     "traceback": []
    }
   ],
   "source": [
    "\n",
    "conda deactivate \n",
    "module unload conda"
   ]
  },
  {
   "cell_type": "code",
   "execution_count": 3,
   "id": "0bb0558c-4d15-422d-b6a4-ebd293deaf28",
   "metadata": {},
   "outputs": [],
   "source": [
    "module load BBMap/38.33"
   ]
  },
  {
   "cell_type": "code",
   "execution_count": 4,
   "id": "4fb60123-ced1-433e-a218-d0a53500bc64",
   "metadata": {},
   "outputs": [
    {
     "name": "stdout",
     "output_type": "stream",
     "text": [
      "Job <643170> is submitted to default queue <lowpriority>.\n"
     ]
    }
   ],
   "source": [
    "bsub -J bstat5 -o ${WKDIR}/log/bstat5.log -e ${WKDIR}/log/bstat5.err \\\n",
    "\"statswrapper.sh in=${WKDIR}/quickmerge5/Nui_quickmerge5.fasta,${WKDIR}/quickmerge6/Nui_quickmerge6.fasta format=3\""
   ]
  },
  {
   "cell_type": "code",
   "execution_count": null,
   "id": "a4738dc9-76b9-4301-b92a-1fcaf5b90d0b",
   "metadata": {},
   "outputs": [],
   "source": []
  },
  {
   "cell_type": "markdown",
   "id": "20a0819b-0979-4ddd-8e16-19058999dbaa",
   "metadata": {},
   "source": [
    "### Round3\n",
    "\n",
    "Merging the two supernova pseudohaps was a bad idea. Using longer ONT reads did improve the Flye assembly.\n",
    "\n",
    "Lets merge the Nui1 pseudohap with the new Flye assembly and stop there."
   ]
  },
  {
   "cell_type": "code",
   "execution_count": 17,
   "id": "a94b8450-3a55-4c51-96f0-2128d4ab1c05",
   "metadata": {},
   "outputs": [
    {
     "name": "stdout",
     "output_type": "stream",
     "text": [
      "(/workspace/appscratch/miniconda/hraijc_quickmerge) (/workspace/appscratch/miniconda/hraijc_quickmerge) "
     ]
    },
    {
     "ename": "",
     "evalue": "1",
     "output_type": "error",
     "traceback": []
    }
   ],
   "source": [
    "module load conda\n",
    "conda activate hraijc_quickmerge\n",
    "source /workspace/hraijc/git_clones/quickmerge/.quickmergerc"
   ]
  },
  {
   "cell_type": "code",
   "execution_count": 18,
   "id": "e4a8e781-f572-496b-9b5d-324abf6daaac",
   "metadata": {},
   "outputs": [
    {
     "name": "stdout",
     "output_type": "stream",
     "text": [
      "(/workspace/appscratch/miniconda/hraijc_quickmerge) (/workspace/appscratch/miniconda/hraijc_quickmerge) "
     ]
    },
    {
     "ename": "",
     "evalue": "1",
     "output_type": "error",
     "traceback": []
    }
   ],
   "source": [
    "mkdir ${WKDIR}/quickmerge7\n",
    "cd ${WKDIR}/quickmerge7"
   ]
  },
  {
   "cell_type": "code",
   "execution_count": 19,
   "id": "20582145-e161-4741-a600-07762d10640b",
   "metadata": {},
   "outputs": [
    {
     "name": "stdout",
     "output_type": "stream",
     "text": [
      "Job <643194> is submitted to default queue <lowpriority>.\n",
      "(/workspace/appscratch/miniconda/hraijc_quickmerge) "
     ]
    },
    {
     "ename": "",
     "evalue": "1",
     "output_type": "error",
     "traceback": []
    }
   ],
   "source": [
    "bsub -J quickmerge7 -o ${WKDIR}/log/quickmerge7.log -e ${WKDIR}/log/quickmerge7.err \\\n",
    "\"/workspace/hraijc/git_clones/quickmerge/merge_wrapper.py ${WKDIR}/Supernova_Nui.1_min2kb.fasta /workspace/hraijc/BB_Nui_Assembly/ONT_Assemly/FLYE04/Flye04_assembly.fasta -l 212967\""
   ]
  },
  {
   "cell_type": "code",
   "execution_count": 20,
   "id": "194c9d48-6f39-4959-92fe-5de6a53d0555",
   "metadata": {},
   "outputs": [
    {
     "name": "stdout",
     "output_type": "stream",
     "text": [
      "(/workspace/appscratch/miniconda/hraijc_quickmerge) (/workspace/appscratch/miniconda/hraijc_quickmerge) "
     ]
    },
    {
     "ename": "",
     "evalue": "1",
     "output_type": "error",
     "traceback": []
    }
   ],
   "source": [
    "mkdir ${WKDIR}/quickmerge8\n",
    "cd ${WKDIR}/quickmerge8"
   ]
  },
  {
   "cell_type": "code",
   "execution_count": 21,
   "id": "e45f3c4a-427a-4f99-b87d-1fd576923165",
   "metadata": {},
   "outputs": [
    {
     "name": "stdout",
     "output_type": "stream",
     "text": [
      "Job <643195> is submitted to default queue <lowpriority>.\n",
      "(/workspace/appscratch/miniconda/hraijc_quickmerge) "
     ]
    },
    {
     "ename": "",
     "evalue": "1",
     "output_type": "error",
     "traceback": []
    }
   ],
   "source": [
    "bsub -J quickmerge8 -o ${WKDIR}/log/quickmerge8.log -e ${WKDIR}/log/quickmerge8.err \\\n",
    "\"/workspace/hraijc/git_clones/quickmerge/merge_wrapper.py /workspace/hraijc/BB_Nui_Assembly/ONT_Assemly/FLYE04/Flye04_assembly.fasta ${WKDIR}/Supernova_Nui.1_min2kb.fasta -l 8705\""
   ]
  },
  {
   "cell_type": "code",
   "execution_count": 22,
   "id": "33886534-b757-4e74-9571-99e647b5b6c9",
   "metadata": {},
   "outputs": [],
   "source": [
    "conda deactivate \n",
    "module unload conda"
   ]
  },
  {
   "cell_type": "code",
   "execution_count": 2,
   "id": "7512e042-0a72-439d-9bc9-7c86732b95fb",
   "metadata": {},
   "outputs": [],
   "source": [
    "mv ${WKDIR}/quickmerge7/merged_out.fasta ${WKDIR}/quickmerge7/Nui_quickmerge7.fasta\n",
    "mv ${WKDIR}/quickmerge8/merged_out.fasta ${WKDIR}/quickmerge8/Nui_quickmerge8.fasta"
   ]
  },
  {
   "cell_type": "code",
   "execution_count": null,
   "id": "8ffa7877-b774-4850-8e00-62cfc45626a8",
   "metadata": {},
   "outputs": [],
   "source": []
  },
  {
   "cell_type": "code",
   "execution_count": 5,
   "id": "ead0ef7a-3cc2-4532-b41e-be793cc176be",
   "metadata": {},
   "outputs": [],
   "source": [
    "module load BBMap/38.33"
   ]
  },
  {
   "cell_type": "code",
   "execution_count": 6,
   "id": "1cffa035-87e5-4b1d-befb-3a12833e3f08",
   "metadata": {},
   "outputs": [
    {
     "name": "stdout",
     "output_type": "stream",
     "text": [
      "Job <644354> is submitted to default queue <lowpriority>.\n"
     ]
    }
   ],
   "source": [
    "bsub -J bstat7 -o ${WKDIR}/log/bstat7.log -e ${WKDIR}/log/bstat7.err \\\n",
    "\"statswrapper.sh in=${WKDIR}/quickmerge7/Nui_quickmerge7.fasta,${WKDIR}/quickmerge8/Nui_quickmerge8.fasta format=3\""
   ]
  },
  {
   "cell_type": "code",
   "execution_count": 2,
   "id": "6413f900-830b-4279-988b-344a2f33a978",
   "metadata": {},
   "outputs": [],
   "source": [
    "module unload BBMap"
   ]
  },
  {
   "cell_type": "code",
   "execution_count": null,
   "id": "48f4c77d-df1c-4b1c-abed-3a0c7cf7d430",
   "metadata": {},
   "outputs": [],
   "source": []
  },
  {
   "cell_type": "code",
   "execution_count": 5,
   "id": "c03ecdcc-4a99-470e-acfa-a8909897cc5b",
   "metadata": {},
   "outputs": [
    {
     "name": "stdout",
     "output_type": "stream",
     "text": [
      "/workspace/hraijc/BB_Nui_Assembly/Hybrid_assembly\n"
     ]
    }
   ],
   "source": [
    "pwd"
   ]
  },
  {
   "cell_type": "code",
   "execution_count": 7,
   "id": "7e521b46-22c7-4417-883d-6ba81d505080",
   "metadata": {},
   "outputs": [],
   "source": [
    "module load BUSCO/v5.2.2"
   ]
  },
  {
   "cell_type": "code",
   "execution_count": 8,
   "id": "12b6b3e7-0726-445c-ac5f-617a8ff48918",
   "metadata": {},
   "outputs": [
    {
     "name": "stdout",
     "output_type": "stream",
     "text": [
      "Job <645674> is submitted to default queue <lowpriority>.\n"
     ]
    }
   ],
   "source": [
    "cd ${WKDIR}/quickmerge7\n",
    "bsub -J busco4 -o ${WKDIR}/log/busco4.log -e ${WKDIR}/log/busco4.err -n 17 \\\n",
    "\"busco -i Nui_quickmerge7.fasta -l eudicots -o Nui_quickmerge7_busco -m geno -c 16 --datasets_version odb10\"\n",
    "cd ${WKDIR}"
   ]
  },
  {
   "cell_type": "code",
   "execution_count": 9,
   "id": "250ad665-d0b8-4cd5-abe5-3a84bfabaf70",
   "metadata": {},
   "outputs": [
    {
     "name": "stdout",
     "output_type": "stream",
     "text": [
      "Job <645675> is submitted to default queue <lowpriority>.\n"
     ]
    }
   ],
   "source": [
    "cd ${WKDIR}/quickmerge8\n",
    "bsub -J busco5 -o ${WKDIR}/log/busco5.log -e ${WKDIR}/log/busco5.err -n 17 \\\n",
    "\"busco -i Nui_quickmerge8.fasta -l eudicots -o Nui_quickmerge8_busco -m geno -c 16 --datasets_version odb10\"\n",
    "cd ${WKDIR}"
   ]
  },
  {
   "cell_type": "code",
   "execution_count": 10,
   "id": "efc4defb-9225-4b4f-82cc-e575606144da",
   "metadata": {},
   "outputs": [],
   "source": [
    "module unload BUSCO"
   ]
  },
  {
   "cell_type": "code",
   "execution_count": null,
   "id": "bc99b61d-b047-4093-a784-96e8d8ddffc2",
   "metadata": {},
   "outputs": [],
   "source": []
  }
 ],
 "metadata": {
  "kernelspec": {
   "display_name": "Bash",
   "language": "bash",
   "name": "bash"
  },
  "language_info": {
   "codemirror_mode": "shell",
   "file_extension": ".sh",
   "mimetype": "text/x-sh",
   "name": "bash"
  }
 },
 "nbformat": 4,
 "nbformat_minor": 5
}
