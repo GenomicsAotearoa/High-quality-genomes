{
 "cells": [
  {
   "cell_type": "markdown",
   "id": "b70c37b9-a756-44a9-9eff-1fdb285ac4dc",
   "metadata": {},
   "source": [
    "## Data sources\n",
    "\n",
    "- HiC Data for Nui is here:\n",
    "    - /input/genomic/plant/Vaccinium/corymbosum/AGRF_CAGRF21434_HJWHFDRXX\n",
    "\n",
    "\n",
    "- 10X data for Nui and M7 here:\n",
    "    - /input/genomic/plant/Vaccinium/corymbosum/AGRF_CAGRF18813_H7JY3DRXX\n",
    "\n",
    "\n",
    "- ONT PromethION Nui (BB2020 and BB2020-2 are the same sample) here:\n",
    "    - /input/genomic/plant/Vaccinium/corymbosum/Blueberry_PromethION_Apr2020\n",
    "\n",
    "\n",
    "- ONT MinION Nui (BB2020) here:\n",
    "    - /input/genomic/plant/Vaccinium/corymbosum/CAGRF21436/20200224_MinION/AGRF_CAGRFF21436_FAL87845_BB2020/\n",
    "\n",
    "\n",
    "- 10X Supernova Assembly for 10X data here:\n",
    "    - /output/genomic/plant/Vaccinium/corymbosum/2021_GenomeAssembly/Nui/01_Supernova\n",
    "\n",
    "### Plan \n",
    "- base-calling for ONT samples using Guppy v5.\n",
    "- Filter out MinION reads <1kb. Or higher...\n",
    "- Cecilia has done the Supernova assembly for the 10X data.\n",
    "- Use Flye to assemble ONT fastq\n",
    "- Use quickmerge to merge the Supernova contigs + ONT contigs\n",
    "- Use Salsa to improve assembly\n",
    "- Tetraploid Haplotyping and gene annotation etc. \n",
    "\n",
    "\n",
    "\n",
    "**See 01_basecalling_ONT.ipyn for ONT steps**\n",
    "\n",
    "**See 02_flye.ipyn for ONT Assembly**\n",
    "\n",
    "**See 03_CombineAssemblies.ipyn for quickmerge steps**\n"
   ]
  },
  {
   "cell_type": "markdown",
   "id": "21361887-8aa5-43d0-86d4-f1f7acfa0c1d",
   "metadata": {},
   "source": [
    "## SALSA\n",
    "\n",
    "### Mapping HiC Reads to the hybrid Assembly."
   ]
  },
  {
   "cell_type": "code",
   "execution_count": 5,
   "id": "4a9fcf5e-a49e-4779-86b6-529d48901711",
   "metadata": {},
   "outputs": [],
   "source": [
    "ASSEMBLY=/workspace/hraijc/BB_Nui_Assembly/ONT_Assemly/FLYE04/Flye04_assembly.fasta\n",
    "WKDIR=/workspace/hraijc/BB_Nui_Assembly/Salsa\n",
    "SALSA_OUTDIR=/workspace/hraijc/BB_Nui_Assembly/Salsa/Nui_SALSA_02\n",
    "HiC_bam=/workspace/hraijc/BB_Nui_Assembly/Hi-C_mapping_flye4/flye4_HiC_dedup.bam\n",
    "HiC_bed=${WKDIR}/flye4_HiC_dedup.bed\n",
    "TEMPDIR=${WKDIR}/temp"
   ]
  },
  {
   "cell_type": "code",
   "execution_count": 18,
   "id": "59b61e69-be58-4431-8f4d-1ee1755d1a09",
   "metadata": {},
   "outputs": [
    {
     "name": "stdout",
     "output_type": "stream",
     "text": [
      "mkdir: cannot create directory ‘/workspace/hraijc/BB_Nui_Assembly/Salsa/Nui_SALSA_02’: File exists\n",
      "mkdir: cannot create directory ‘log’: File exists\n"
     ]
    },
    {
     "ename": "",
     "evalue": "1",
     "output_type": "error",
     "traceback": []
    }
   ],
   "source": [
    "mkdir ${SALSA_OUTDIR}\n",
    "mkdir log"
   ]
  },
  {
   "cell_type": "code",
   "execution_count": 19,
   "id": "20a860e3-b158-444e-b1f1-098b3db141aa",
   "metadata": {},
   "outputs": [],
   "source": [
    "ml load bedtools/2.30.0"
   ]
  },
  {
   "cell_type": "code",
   "execution_count": 20,
   "id": "a53de451-ccf6-4d76-aebe-e5e46e6522a0",
   "metadata": {},
   "outputs": [
    {
     "name": "stdout",
     "output_type": "stream",
     "text": [
      "Job <709739> is submitted to default queue <lowpriority>.\n"
     ]
    }
   ],
   "source": [
    "#Convert to bed for SALSA.\n",
    "cd ${WKDIR}\n",
    "bsub -J bamToBed2 -o ${WKDIR}/log/bamToBed2.log -e ${WKDIR}/log/bamToBed2.err -n 2 \\\n",
    "\"bamToBed -i ${HiC_bam} > ${HiC_bed}\"\n"
   ]
  },
  {
   "cell_type": "code",
   "execution_count": 22,
   "id": "fc425770-b41b-4f77-af41-0aa029763d34",
   "metadata": {},
   "outputs": [],
   "source": [
    "ml unload bedtools"
   ]
  },
  {
   "cell_type": "code",
   "execution_count": 23,
   "id": "cada3c5c-3a5b-47ba-9cd2-47eaa9668579",
   "metadata": {},
   "outputs": [],
   "source": [
    "#Loading salsa/v2.3\n",
    "ml load pfr-python2\n"
   ]
  },
  {
   "cell_type": "code",
   "execution_count": null,
   "id": "4c879907-080a-4cad-bf33-8239e7ee2bd7",
   "metadata": {},
   "outputs": [],
   "source": []
  },
  {
   "cell_type": "code",
   "execution_count": 24,
   "id": "96dc422f-be82-44cc-9758-d0346964b808",
   "metadata": {},
   "outputs": [
    {
     "name": "stdout",
     "output_type": "stream",
     "text": [
      "Job <709740> is submitted to default queue <lowpriority>.\n"
     ]
    }
   ],
   "source": [
    "bsub -J salsa01 -o ${WKDIR}/log/salsa01.log -e ${WKDIR}/log/salsa01.err -n 2 -R rusage[mem=32000] \\\n",
    "\"python2 /workspace/hraijc/git_clones/SALSA/run_pipeline.py -b ${HiC_bed} -a ${ASSEMBLY} -l ${ASSEMBLY}.fai -o ${SALSA_OUTDIR} -e DNASE -m yes -g contigs_graph.gfa -i 3\"\n"
   ]
  },
  {
   "cell_type": "code",
   "execution_count": 2,
   "id": "2eff3076-e276-40ed-bcea-8d1b42f450ce",
   "metadata": {},
   "outputs": [
    {
     "name": "stdout",
     "output_type": "stream",
     "text": [
      "Job <709893> is submitted to default queue <lowpriority>.\n",
      "<<Waiting for dispatch ...>>\n",
      "<<Starting on aklppg34>>\n"
     ]
    }
   ],
   "source": [
    "#rename and moveoutput file\n",
    "bsub -I \"cp /workspace/hraijc/BB_Nui_Assembly/Salsa/Nui_SALSA_02/scaffolds_FINAL.fasta /workspace/hraijc/BB_Nui_Assembly/Salsa/Nui_Salsa02.fasta\""
   ]
  },
  {
   "cell_type": "code",
   "execution_count": 2,
   "id": "c67f5aa3-29a2-491b-b4a0-349f7d954da2",
   "metadata": {},
   "outputs": [],
   "source": [
    "module load BBMap/38.33"
   ]
  },
  {
   "cell_type": "code",
   "execution_count": 7,
   "id": "ec92c5c8-26f4-4f6c-80dc-3af002cfc960",
   "metadata": {},
   "outputs": [
    {
     "name": "stdout",
     "output_type": "stream",
     "text": [
      "Job <710490> is submitted to default queue <lowpriority>.\n"
     ]
    }
   ],
   "source": [
    "bsub -J bstat1 -o ${WKDIR}/log/bstat1.log -e ${WKDIR}/log/bstat1.err \\\n",
    "\"statswrapper.sh in=/workspace/hraijc/BB_Nui_Assembly/Salsa/Nui_Salsa02_min100kb.fasta format=6\""
   ]
  },
  {
   "cell_type": "code",
   "execution_count": null,
   "id": "f4b64380-0f98-44a6-8aee-68be9c587411",
   "metadata": {},
   "outputs": [],
   "source": [
    "##n_scaffolds\tn_contigs\tscaf_bp\tcontig_bp\tgap_pct\tscaf_N50\tscaf_L50\tctg_N50\tctg_L50\tscaf_N90\tscaf_L90\tctg_N90\tctg_L90\tscaf_max\tctg_max\tscaf_n_gt50K\tscaf_pct_gt50K\tgc_avg\tgc_std\tfilename\n",
    "##13992\t18982\t1804569893\t1801758083\t0.156\t1820\t302070\t2303\t212633\t6336\t72535\t9142\t47021\t2121296\t2121296\t7362\t93.446\t0.38685\t0.04052\tNui_Salsa01\n",
    "##14416\t18956\t1806273865\t1804003865\t0.126\t1908\t287852\t2304\t212633\t6633\t69878\t9146\t47182\t2121296\t2121296\t7615\t93.226\t0.38687\t0.03994\tNui_Salsa02"
   ]
  },
  {
   "cell_type": "code",
   "execution_count": 9,
   "id": "57c79686-398d-47bb-b40a-fb67e5f77ae6",
   "metadata": {},
   "outputs": [
    {
     "name": "stdout",
     "output_type": "stream",
     "text": [
      "Job <710492> is submitted to default queue <lowpriority>.\n"
     ]
    }
   ],
   "source": [
    "module load BUSCO/v5.2.2\n",
    "bsub -J buscosalsa2_min100kb -o ${WKDIR}/log/buscosalsa2_min100kb.log -e ${WKDIR}/log/buscosalsa2_min100kb.err -n 25 \\\n",
    "\"busco -i /workspace/hraijc/BB_Nui_Assembly/Salsa/Nui_Salsa02_min100kb.fasta -l eudicots -o buscosalsa2_min100kb_busco -m geno -c 24 --datasets_version odb10\""
   ]
  },
  {
   "cell_type": "code",
   "execution_count": null,
   "id": "390e94de-0406-4bac-8a97-9a9d631e58bb",
   "metadata": {},
   "outputs": [],
   "source": []
  },
  {
   "cell_type": "code",
   "execution_count": 4,
   "id": "119b78bb-314e-4929-bdd4-d1c004df329b",
   "metadata": {},
   "outputs": [],
   "source": [
    "### NEED TO CHANGE BELOW THIS LINE!!!!\n",
    "###\n",
    "###\n",
    "###\n",
    "###\n",
    "###\n",
    "###\n",
    "###\n",
    "###\n",
    "###\n",
    "###\n",
    "###\n",
    "###"
   ]
  },
  {
   "cell_type": "markdown",
   "id": "11f0af12-5374-4b21-965b-76550b13d308",
   "metadata": {},
   "source": [
    "## Make Hic assembly and contact file to viz with JuiceBox\n",
    "### Assembly file generation"
   ]
  },
  {
   "cell_type": "code",
   "execution_count": 5,
   "id": "8fd9483d-daf3-47aa-9a5f-d236cb5b6385",
   "metadata": {},
   "outputs": [],
   "source": [
    "ml load pfr-python2/2.7.13"
   ]
  },
  {
   "cell_type": "code",
   "execution_count": 6,
   "id": "eff46eab-6d98-48a6-a825-4d0ac7936adb",
   "metadata": {},
   "outputs": [],
   "source": [
    "cd /workspace/hraijc/Raspberry/202110_OmniC/rasp_SALSA_04"
   ]
  },
  {
   "cell_type": "code",
   "execution_count": 43,
   "id": "c0e5b43d-3477-484c-8ecb-3926d9ae7f88",
   "metadata": {},
   "outputs": [
    {
     "name": "stdout",
     "output_type": "stream",
     "text": [
      "Job <627790> is submitted to default queue <lowpriority>.\n"
     ]
    }
   ],
   "source": [
    "bsub -J juiceboxt1a -o ${WKDIR}/log/juiceboxt1a.log -e ${WKDIR}/log/juiceboxt1a.err -n 2 \\\n",
    "\"python2 /powerplant/workspace/hraijc/git_clones/juicebox_scripts/juicebox_scripts/makeAgpFromFasta.py scaffolds_FINAL.fasta scaffolds_FINAL.agp\"\n"
   ]
  },
  {
   "cell_type": "code",
   "execution_count": 44,
   "id": "373357dd-5c78-41b0-8cb4-d1f4eabef8b2",
   "metadata": {
    "tags": []
   },
   "outputs": [
    {
     "name": "stdout",
     "output_type": "stream",
     "text": [
      "Job <627828> is submitted to default queue <lowpriority>.\n"
     ]
    }
   ],
   "source": [
    "bsub -J juiceboxt1b -o ${WKDIR}/log/juiceboxt1b.log -e ${WKDIR}/log/juiceboxt1b.err -n 2 \\\n",
    "\"python2 /powerplant/workspace/hraijc/git_clones/juicebox_scripts/juicebox_scripts/agp2assembly.py scaffolds_FINAL.agp scaffolds_FINAL.assembly\""
   ]
  },
  {
   "cell_type": "markdown",
   "id": "474261bd-e730-47b4-b09a-384170caa557",
   "metadata": {},
   "source": [
    "### Contact map generation\n",
    "#### Map hic reads to new assembly."
   ]
  },
  {
   "cell_type": "code",
   "execution_count": 2,
   "id": "e6e1e651-004a-4edb-b562-f3e7a5f51725",
   "metadata": {},
   "outputs": [],
   "source": [
    "NEWASSEMBLY=/workspace/hraijc/Raspberry/202110_OmniC/rasp_SALSA_04/scaffolds_FINAL.fasta\n",
    "HiC_RAW=/input/genomic/plant/Rubus/idaeus/Wakefield_genome/HIC\n"
   ]
  },
  {
   "cell_type": "code",
   "execution_count": 3,
   "id": "477d5555-2020-48e2-863c-69c3071c7b40",
   "metadata": {},
   "outputs": [
    {
     "name": "stdout",
     "output_type": "stream",
     "text": [
      "mkdir: cannot create directory ‘/workspace/hraijc/Raspberry/202110_OmniC/rasp_SALSA_05_mapping’: File exists\n"
     ]
    }
   ],
   "source": [
    "mkdir /workspace/hraijc/Raspberry/202110_OmniC/rasp_SALSA_05_mapping\n",
    "cd /workspace/hraijc/Raspberry/202110_OmniC/rasp_SALSA_05_mapping"
   ]
  },
  {
   "cell_type": "code",
   "execution_count": 6,
   "id": "8a04444f-6259-4ac2-bd97-360b350e9afc",
   "metadata": {},
   "outputs": [],
   "source": [
    "module load bwa/0.7.17\n"
   ]
  },
  {
   "cell_type": "code",
   "execution_count": 41,
   "id": "75244a37-1598-4ae1-9e67-e5044a5865ef",
   "metadata": {},
   "outputs": [
    {
     "name": "stdout",
     "output_type": "stream",
     "text": [
      "Job <475683> is submitted to default queue <lowpriority>.\n"
     ]
    }
   ],
   "source": [
    "#Index Salsa assembly\n",
    "bsub -J bwain -o ${WKDIR}/log/bwain.log -e ${WKDIR}/log/bwain.err -n 1 \\\n",
    "\"bwa index ${NEWASSEMBLY}\""
   ]
  },
  {
   "cell_type": "code",
   "execution_count": 7,
   "id": "8b20207c-e585-4c32-b0ee-502ce71f0220",
   "metadata": {},
   "outputs": [
    {
     "name": "stdout",
     "output_type": "stream",
     "text": [
      "Job <627138> is submitted to default queue <lowpriority>.\n"
     ]
    }
   ],
   "source": [
    "#Map reads to salsa assembly\n",
    "bsub -J rasbwamem2 -o ${WKDIR}/log/rasbwamem5.log -e ${WKDIR}/log/rasbwamem5.err -n 25 \\\n",
    "\"bwa mem -5SP -t24 ${NEWASSEMBLY} ${HiC_RAW}/RI_Hi-C_S2_R1_001.fastq.gz ${HiC_RAW}/RI_Hi-C_S2_R2_001.fastq.gz -o r4_alignedHiC.sam\" \n"
   ]
  },
  {
   "cell_type": "code",
   "execution_count": 10,
   "id": "98e37cd9-d776-4f9d-8a13-81d32ac0d9a2",
   "metadata": {},
   "outputs": [],
   "source": [
    "module unload bwa\n",
    "module load samtools/0.1.19"
   ]
  },
  {
   "cell_type": "code",
   "execution_count": 11,
   "id": "105f32ef-d1d0-4a6a-b176-6f7ab1d53b2e",
   "metadata": {},
   "outputs": [
    {
     "name": "stdout",
     "output_type": "stream",
     "text": [
      "Job <628106> is submitted to default queue <lowpriority>.\n"
     ]
    }
   ],
   "source": [
    "# flag PCR duplicate reads.\n",
    "bsub -J samblaster5 -o ${WKDIR}/log/samblaster5.log -e ${WKDIR}/log/samblaster5.err -n 2 \\\n",
    "\"/workspace/hraijc/git_clones/samblaster/samblaster -i r4_alignedHiC.sam -o predupe.sam\""
   ]
  },
  {
   "cell_type": "code",
   "execution_count": 12,
   "id": "1fc1e83b-d35c-4c3e-b784-ee630f78bb4b",
   "metadata": {},
   "outputs": [
    {
     "name": "stdout",
     "output_type": "stream",
     "text": [
      "Job <628147> is submitted to default queue <lowpriority>.\n"
     ]
    }
   ],
   "source": [
    "# Remove PCR duplicate Reads.\n",
    "bsub -J pcrfilt5 -o ${WKDIR}/log/pcrfilt5.log -e ${WKDIR}/log/pcrfilt5.err -n 9 \\\n",
    "\"samtools view -@ 8 -S -h -b -F 2316 -o r5_clean_HiC.bam predupe.sam\""
   ]
  },
  {
   "cell_type": "markdown",
   "id": "1914a7bf-30eb-4942-af46-105878af473b",
   "metadata": {},
   "source": [
    "#### Copy assembly files"
   ]
  },
  {
   "cell_type": "code",
   "execution_count": 4,
   "id": "f5f95e54-226b-4670-a2ec-a5fbf9dc5c1f",
   "metadata": {},
   "outputs": [],
   "source": [
    "cp /workspace/hraijc/Raspberry/202110_OmniC/rasp_SALSA_04/scaffolds_FINAL* ."
   ]
  },
  {
   "cell_type": "markdown",
   "id": "517c88ab-455d-4834-8ec1-bc99a5aac7f6",
   "metadata": {},
   "source": [
    "#### Make contact map"
   ]
  },
  {
   "cell_type": "code",
   "execution_count": 5,
   "id": "49588fa0-62a5-4183-9f48-924fc3d399dd",
   "metadata": {},
   "outputs": [
    {
     "name": "stdout",
     "output_type": "stream",
     "text": [
      "Job <628591> is submitted to default queue <lowpriority>.\n"
     ]
    }
   ],
   "source": [
    "#Make links file\n",
    "bsub -J matlock5 -o ${WKDIR}/log/matlock5.log -e ${WKDIR}/log/matlock5.err -n 2 \\\n",
    "\"/powerplant/workspace/hraijc/git_clones/matlock/bin/matlock bam2 juicer r5_clean_HiC.bam r5_clean_HiC.links.txt\""
   ]
  },
  {
   "cell_type": "code",
   "execution_count": 10,
   "id": "a23037c2-8ce7-4043-b92e-efee6b608ad9",
   "metadata": {},
   "outputs": [
    {
     "name": "stdout",
     "output_type": "stream",
     "text": [
      "(/workspace/appscratch/miniconda/hraijc_hic_qc2) Job <628686> is submitted to default queue <lowpriority>.\n",
      "(/workspace/appscratch/miniconda/hraijc_hic_qc2) "
     ]
    },
    {
     "ename": "",
     "evalue": "1",
     "output_type": "error",
     "traceback": []
    }
   ],
   "source": [
    "#Sort links file\n",
    "bsub -J linksort5 -o ${WKDIR}/log/linksort5.log -e ${WKDIR}/log/linksort5.err -n 2 \\\n",
    "\"sort -k2,2 -k6,6 r5_clean_HiC.links.txt > r5_clean_HiC.sorted.links.txt\""
   ]
  },
  {
   "cell_type": "code",
   "execution_count": 18,
   "id": "da5358da-4dd1-47df-a097-eec62301d150",
   "metadata": {},
   "outputs": [
    {
     "name": "stdout",
     "output_type": "stream",
     "text": [
      "Job <628709> is submitted to default queue <lowpriority>.\n"
     ]
    }
   ],
   "source": [
    "#Make Juicer file\n",
    "bsub -J 3ddna5 -o ${WKDIR}/log/3ddna5.log -e ${WKDIR}/log/3ddna5.err -n 2 \\\n",
    "\"/powerplant/workspace/hraijc/git_clones/matlock/3d-dna/visualize/run-assembly-visualizer.sh -p false scaffolds_FINAL.assembly r5_clean_HiC.sorted.links.txt\""
   ]
  },
  {
   "cell_type": "code",
   "execution_count": null,
   "id": "2ff995a6-0f1b-417d-b58e-57a5bac6255e",
   "metadata": {},
   "outputs": [],
   "source": []
  },
  {
   "cell_type": "code",
   "execution_count": null,
   "id": "0e376ad8-c83e-41cf-ae70-dd2495ff85eb",
   "metadata": {},
   "outputs": [],
   "source": []
  },
  {
   "cell_type": "code",
   "execution_count": null,
   "id": "60def651-f0c4-42ab-a4dd-ac4465f1e6e4",
   "metadata": {},
   "outputs": [],
   "source": []
  },
  {
   "cell_type": "code",
   "execution_count": null,
   "id": "86e15805-3d74-4e68-bd47-6f2e2a15b336",
   "metadata": {},
   "outputs": [],
   "source": []
  },
  {
   "cell_type": "markdown",
   "id": "88904e74-aaf7-4c5c-ae73-f2bf7688567d",
   "metadata": {},
   "source": [
    "### hic_qc of salsa assembly"
   ]
  },
  {
   "cell_type": "code",
   "execution_count": 16,
   "id": "0a18b255-1b66-4cca-aa8d-843da867584a",
   "metadata": {
    "tags": []
   },
   "outputs": [],
   "source": [
    "module load conda"
   ]
  },
  {
   "cell_type": "code",
   "execution_count": 17,
   "id": "bb893072-fecd-4384-86be-fc1c3db5b446",
   "metadata": {},
   "outputs": [
    {
     "name": "stdout",
     "output_type": "stream",
     "text": [
      "(/workspace/appscratch/miniconda/hraijc_hic_qc2) "
     ]
    },
    {
     "ename": "",
     "evalue": "1",
     "output_type": "error",
     "traceback": []
    }
   ],
   "source": [
    "conda activate hraijc_hic_qc2"
   ]
  },
  {
   "cell_type": "code",
   "execution_count": 8,
   "id": "aa063675-4952-40e5-bd73-18b349f689eb",
   "metadata": {},
   "outputs": [
    {
     "name": "stdout",
     "output_type": "stream",
     "text": [
      "(/workspace/appscratch/miniconda/hraijc_hic_qc2) "
     ]
    },
    {
     "ename": "",
     "evalue": "1",
     "output_type": "error",
     "traceback": []
    }
   ],
   "source": [
    "mkdir hicqc_1M_rasp_salsa_05"
   ]
  },
  {
   "cell_type": "code",
   "execution_count": 9,
   "id": "4f606c0a-dbfb-42e7-874e-3c7e083ed0f5",
   "metadata": {},
   "outputs": [
    {
     "name": "stdout",
     "output_type": "stream",
     "text": [
      "Job <628592> is submitted to default queue <lowpriority>.\n",
      "(/workspace/appscratch/miniconda/hraijc_hic_qc2) "
     ]
    },
    {
     "ename": "",
     "evalue": "1",
     "output_type": "error",
     "traceback": []
    }
   ],
   "source": [
    "bsub -J hic_qc2M5 -o ${WKDIR}/log/hic_qc2M5.log -e ${WKDIR}/log/hic_qc2M5.err -n 1 \\\n",
    "\"python /workspace/hraijc/git_clones/hic_qc/hic_qc.py -n 10000000 -b r5_clean_HiC.bam -o hicqc_1M_rasp_salsa_05\""
   ]
  },
  {
   "cell_type": "code",
   "execution_count": 11,
   "id": "a157dae0-badf-4eee-8635-86400581e2b4",
   "metadata": {},
   "outputs": [],
   "source": [
    "conda deactivate\n",
    "module unload conda"
   ]
  },
  {
   "cell_type": "markdown",
   "id": "0566fcc0-2d0b-4be7-9a0f-6de5e7760513",
   "metadata": {},
   "source": []
  },
  {
   "cell_type": "code",
   "execution_count": 20,
   "id": "a9f370e8-7b59-4b66-91a9-1aff29595dca",
   "metadata": {},
   "outputs": [],
   "source": [
    "module load samtools"
   ]
  },
  {
   "cell_type": "code",
   "execution_count": 22,
   "id": "3299895f-659d-46a4-96a7-8a8317539788",
   "metadata": {},
   "outputs": [],
   "source": [
    "cd /workspace/hraijc/Raspberry/202110_OmniC/rasp_SALSA_05_mapping/"
   ]
  },
  {
   "cell_type": "code",
   "execution_count": 24,
   "id": "7bd6a541-e842-426f-9e43-aa230d7bc1c3",
   "metadata": {},
   "outputs": [
    {
     "name": "stdout",
     "output_type": "stream",
     "text": [
      "Job <630306> is submitted to default queue <lowpriority>.\n"
     ]
    }
   ],
   "source": [
    "bsub -J flag1 -o ${WKDIR}/log/flag1.log -e ${WKDIR}/log/flag1.err -n 11 \\\n",
    "\"samtools flagstat -@ 10 r4_alignedHiC.sam\""
   ]
  },
  {
   "cell_type": "code",
   "execution_count": 25,
   "id": "5861d2eb-c2d9-46de-9142-1b01efe47121",
   "metadata": {},
   "outputs": [
    {
     "name": "stdout",
     "output_type": "stream",
     "text": [
      "Job <630307> is submitted to default queue <lowpriority>.\n"
     ]
    }
   ],
   "source": [
    "bsub -J flag2 -o ${WKDIR}/log/flag2.log -e ${WKDIR}/log/flag2.err -n 11 \\\n",
    "\"samtools flagstat -@ 10 r5_clean_HiC.bam\""
   ]
  },
  {
   "cell_type": "code",
   "execution_count": 33,
   "id": "4af60617-5224-44c3-8b74-cbab24dadf83",
   "metadata": {},
   "outputs": [
    {
     "name": "stdout",
     "output_type": "stream",
     "text": [
      "Job <630309> is submitted to default queue <lowpriority>.\n"
     ]
    }
   ],
   "source": [
    "bsub -J flag3 -o ${WKDIR}/log/flag3.log -e ${WKDIR}/log/flag3.err -n 11 \\\n",
    "\"samtools flagstat -@ 10 predupe.sam\""
   ]
  },
  {
   "cell_type": "code",
   "execution_count": 31,
   "id": "cb4af0fe-052d-457d-a59b-56a0083d9928",
   "metadata": {},
   "outputs": [
    {
     "name": "stdout",
     "output_type": "stream",
     "text": [
      "r4_alignedHiC.sam\n",
      "1093604787 + 0 in total (QC-passed reads + QC-failed reads)\n",
      "0 + 0 secondary\n",
      "78185565 + 0 supplementary\n",
      "0 + 0 duplicates\n",
      "1057055859 + 0 mapped (96.66% : N/A)\n",
      "1015419222 + 0 paired in sequencing\n",
      "507709611 + 0 read1\n",
      "507709611 + 0 read2\n",
      "0 + 0 properly paired (0.00% : N/A)\n",
      "970621286 + 0 with itself and mate mapped\n",
      "8249008 + 0 singletons (0.81% : N/A)\n",
      "371470024 + 0 with mate mapped to a different chr\n",
      "88812858 + 0 with mate mapped to a different chr (mapQ>=5)\n",
      "\n",
      "------------------------------------------------------------\n"
     ]
    }
   ],
   "source": [
    "echo r4_alignedHiC.sam\n",
    "head -n 15 ${WKDIR}/log/flag1.log\n"
   ]
  },
  {
   "cell_type": "code",
   "execution_count": 32,
   "id": "e16fffa2-0321-42df-951f-ef543183f4d4",
   "metadata": {},
   "outputs": [
    {
     "name": "stdout",
     "output_type": "stream",
     "text": [
      "r5_clean_HiC.bam\n",
      "970621286 + 0 in total (QC-passed reads + QC-failed reads)\n",
      "0 + 0 secondary\n",
      "0 + 0 supplementary\n",
      "860232586 + 0 duplicates\n",
      "970621286 + 0 mapped (100.00% : N/A)\n",
      "970621286 + 0 paired in sequencing\n",
      "485310643 + 0 read1\n",
      "485310643 + 0 read2\n",
      "0 + 0 properly paired (0.00% : N/A)\n",
      "970621286 + 0 with itself and mate mapped\n",
      "0 + 0 singletons (0.00% : N/A)\n",
      "371470024 + 0 with mate mapped to a different chr\n",
      "88812858 + 0 with mate mapped to a different chr (mapQ>=5)\n",
      "\n",
      "------------------------------------------------------------\n"
     ]
    }
   ],
   "source": [
    "echo r5_clean_HiC.bam\n",
    "head -n 15 ${WKDIR}/log/flag2.log\n"
   ]
  },
  {
   "cell_type": "code",
   "execution_count": 37,
   "id": "dadab9df-cbcd-419f-954f-2fcc9c86faff",
   "metadata": {},
   "outputs": [
    {
     "name": "stdout",
     "output_type": "stream",
     "text": [
      "predupe.sam\n",
      "1093604787 + 0 in total (QC-passed reads + QC-failed reads)\n",
      "0 + 0 secondary\n",
      "78185565 + 0 supplementary\n",
      "939833707 + 0 duplicates\n",
      "1057055859 + 0 mapped (96.66% : N/A)\n",
      "1015419222 + 0 paired in sequencing\n",
      "507709611 + 0 read1\n",
      "507709611 + 0 read2\n",
      "0 + 0 properly paired (0.00% : N/A)\n",
      "970621286 + 0 with itself and mate mapped\n",
      "8249008 + 0 singletons (0.81% : N/A)\n",
      "371470024 + 0 with mate mapped to a different chr\n",
      "88812858 + 0 with mate mapped to a different chr (mapQ>=5)\n",
      "\n",
      "------------------------------------------------------------\n"
     ]
    }
   ],
   "source": [
    "echo predupe.sam\n",
    "head -n 15 ${WKDIR}/log/flag3.log"
   ]
  },
  {
   "cell_type": "code",
   "execution_count": null,
   "id": "7590f914-817e-49b6-8c40-dd6e09f90719",
   "metadata": {},
   "outputs": [],
   "source": []
  },
  {
   "cell_type": "code",
   "execution_count": null,
   "id": "6a55e9c8-c3e2-4ff0-9be5-a18bd71dfd6a",
   "metadata": {},
   "outputs": [],
   "source": []
  },
  {
   "cell_type": "code",
   "execution_count": null,
   "id": "f42d5be9-007c-4297-b3ab-83bffcedb169",
   "metadata": {},
   "outputs": [],
   "source": []
  },
  {
   "cell_type": "code",
   "execution_count": null,
   "id": "365aa2be-239c-437d-a96a-bc77a4ad7ee9",
   "metadata": {},
   "outputs": [],
   "source": []
  },
  {
   "cell_type": "markdown",
   "id": "1aedf266-d409-4464-9c27-9d8703ff5846",
   "metadata": {},
   "source": [
    "## Check to see how the Flye assembly compares to the 10X"
   ]
  },
  {
   "cell_type": "code",
   "execution_count": 1,
   "id": "ae846262-6bc5-4353-87d1-df32fc8e0365",
   "metadata": {},
   "outputs": [],
   "source": [
    "WKDIR=/workspace/hraijc/BB_Nui_Assembly/Hybrid_assembly\n"
   ]
  },
  {
   "cell_type": "code",
   "execution_count": 3,
   "id": "57d9518e-220b-459a-adfb-00e04491833c",
   "metadata": {
    "tags": []
   },
   "outputs": [
    {
     "name": "stdout",
     "output_type": "stream",
     "text": [
      "mkdir: cannot create directory ‘/workspace/hraijc/BB_Nui_Assembly/Hybrid_assembly’: File exists\n"
     ]
    }
   ],
   "source": [
    "mkdir $WKDIR\n",
    "mkdir ${WKDIR}/log\n"
   ]
  },
  {
   "cell_type": "code",
   "execution_count": 2,
   "id": "9ccec98a-067f-48b5-a7f6-e7142c43e0c7",
   "metadata": {},
   "outputs": [],
   "source": [
    "cd $WKDIR"
   ]
  },
  {
   "cell_type": "markdown",
   "id": "4960b88a-636d-4b4d-b232-49f19f90c444",
   "metadata": {},
   "source": [
    "#### Did they improve?"
   ]
  },
  {
   "cell_type": "code",
   "execution_count": 5,
   "id": "0b1adbf6-ac82-4b6f-b1bc-9fcd60301dda",
   "metadata": {},
   "outputs": [],
   "source": [
    "module load BBMap/38.33"
   ]
  },
  {
   "cell_type": "code",
   "execution_count": 6,
   "id": "687d5230-26be-4a34-8f17-679556969ea3",
   "metadata": {},
   "outputs": [],
   "source": [
    "cd ${WKDIR}/Assembly_comparison"
   ]
  },
  {
   "cell_type": "code",
   "execution_count": 7,
   "id": "da04ff97-a1db-41f0-9f38-b7279e10ca50",
   "metadata": {},
   "outputs": [
    {
     "name": "stdout",
     "output_type": "stream",
     "text": [
      "Job <633822> is submitted to default queue <lowpriority>.\n"
     ]
    }
   ],
   "source": [
    "bsub -J bstat2 -o ${WKDIR}/log/bstat2.log -e ${WKDIR}/log/bstat2.err \\\n",
    "\"statswrapper.sh in=Supernova_Nui.1.fasta,Supernova_Nui.1.min2kb.fasta,Flye03_assembly.fasta,Nui_quickmerge1.fasta,Nui_quickmerge2.fasta format=3\""
   ]
  },
  {
   "cell_type": "code",
   "execution_count": 8,
   "id": "192d3961-21bb-4efa-af9b-e18292fc6d49",
   "metadata": {},
   "outputs": [],
   "source": [
    "module unload BBMap/38.33"
   ]
  },
  {
   "cell_type": "markdown",
   "id": "ce594a53-64b6-4aeb-9425-02dbb4e21024",
   "metadata": {},
   "source": [
    "|n_scaffolds|n_contigs|scaf_bp|contig_bp|gap_pct|scaf_N50|scaf_L50|ctg_N50|ctg_L50|scaf_N90|scaf_L90|ctg_N90|ctg_L90|scaf_max|ctg_max|scaf_n_gt50K|scaf_pct_gt50K|gc_avg|gc_std|filename|\n",
    "| ----------- | ----------- | ----------- | ----------- | ----------- | ----------- | ----------- | ----------- | ----------- | ----------- | ----------- | ----------- | ----------- | ----------- | ----------- | ----------- | ----------- | ----------- | ----------- | ----------- |\n",
    "294493|327732|890445603|879628983|1.215|31787|6211|40402|5258|172322|1055|196312|989|487194|127919|843|8.239|0.38910|0.04736|/powerplant/workspace/hraijc/BB_Nui_Assembly/Hybrid_assembly/Assembly_comparison/Supernova_Nui.1.fasta\n",
    "105550|132451|706271084|695673804|1.500|19187|8705|25361|7191|76634|2942|91036|2603|487194|127919|843|10.387|0.39126|0.03921|/powerplant/workspace/hraijc/BB_Nui_Assembly/Hybrid_assembly/Assembly_comparison/Supernova_Nui.1.min2kb.fasta\n",
    "22050|22050|1804096927|1804096927|0.000|2301|212778|2301|212778|9403|43723|9403|43723|1907487|1907487|8662|88.079|0.38702|0.03932|/powerplant/workspace/hraijc/BB_Nui_Assembly/Hybrid_assembly/Assembly_comparison/Flye03_assembly.fasta\n",
    "21859|22159|1802844220|1802206750|0.035|2285|213713|2297|212521|9343|43890|9424|43327|1907487|1907487|8628|88.140|0.38698|0.03928|/powerplant/workspace/hraijc/BB_Nui_Assembly/Hybrid_assembly/Assembly_comparison/Nui_quickmerge1.fasta\n",
    "62183|77870|1264110310|1261613670|0.198|1224|317351|1228|316036|23729|5260|27929|4553|1942722|1942722|2508|72.941|0.38879|0.03949|/powerplant/workspace/hraijc/BB_Nui_Assembly/Hybrid_assembly/Assembly_comparison/Nui_quickmerge2.fasta\n"
   ]
  },
  {
   "cell_type": "code",
   "execution_count": null,
   "id": "e16cbcb8-ed7b-45ed-8204-e500b08ee8ee",
   "metadata": {},
   "outputs": [],
   "source": []
  },
  {
   "cell_type": "code",
   "execution_count": null,
   "id": "42b912a0-4410-44bb-a898-24a58a971de5",
   "metadata": {},
   "outputs": [],
   "source": []
  }
 ],
 "metadata": {
  "kernelspec": {
   "display_name": "Bash",
   "language": "bash",
   "name": "bash"
  },
  "language_info": {
   "codemirror_mode": "shell",
   "file_extension": ".sh",
   "mimetype": "text/x-sh",
   "name": "bash"
  }
 },
 "nbformat": 4,
 "nbformat_minor": 5
}
