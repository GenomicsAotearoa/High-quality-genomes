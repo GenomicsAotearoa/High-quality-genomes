{
 "cells": [
  {
   "cell_type": "markdown",
   "id": "b31bed98-7dfd-49cf-8742-47ca7b6c95a8",
   "metadata": {},
   "source": [
    "## Data sources\n",
    "\n",
    "- HiC Data for Nui is here:\n",
    "    - /input/genomic/plant/Vaccinium/corymbosum/AGRF_CAGRF21434_HJWHFDRXX\n",
    "\n",
    "\n",
    "- 10X data for Nui and M7 here:\n",
    "    - /input/genomic/plant/Vaccinium/corymbosum/AGRF_CAGRF18813_H7JY3DRXX\n",
    "\n",
    "\n",
    "- ONT PromethION Nui (BB2020 and BB2020-2 are the same sample) here:\n",
    "    - /input/genomic/plant/Vaccinium/corymbosum/Blueberry_PromethION_Apr2020\n",
    "\n",
    "\n",
    "- ONT MinION Nui (BB2020) here:\n",
    "    - /input/genomic/plant/Vaccinium/corymbosum/CAGRF21436/20200224_MinION/AGRF_CAGRFF21436_FAL87845_BB2020/\n",
    "\n",
    "\n",
    "- 10X Supernova Assembly for 10X data here:\n",
    "    - /output/genomic/plant/Vaccinium/corymbosum/2021_GenomeAssembly/Nui/01_Supernova\n",
    "\n",
    "### Plan \n",
    "- base-calling for ONT samples using Guppy v5.\n",
    "- Filter out MinION reads <1kb. Or higher...\n",
    "- Cecilia has done the Supernova assembly for the 10X data.\n",
    "- Use Flye to assemble ONT fastq\n",
    "- Use quickmerge to merge the Supernova contigs + ONT contigs\n",
    "- Use Salsa to improve assembly\n",
    "- Tetraploid Haplotyping and gene annotation etc. \n",
    "\n",
    "\n",
    "\n",
    "**See 01_basecalling_ONT.ipyn for ONT steps**\n",
    "\n",
    "**See 02_flye.ipyn for ONT Assembly**\n",
    "\n",
    "**See 03_CombineAssemblies.ipyn for quickmerge steps**\n"
   ]
  },
  {
   "cell_type": "markdown",
   "id": "cc10b90b-dbd2-4b0c-aee8-896cb21c4eba",
   "metadata": {},
   "source": [
    "## Before you begin:\n",
    "\n",
    "### Using the quickmerge8 Assembly for HiC scaffolding."
   ]
  },
  {
   "cell_type": "code",
   "execution_count": 18,
   "id": "109df88e-6bbc-42f0-a38a-2ae2fbd52a73",
   "metadata": {},
   "outputs": [],
   "source": [
    "#Set Variables.\n"
   ]
  },
  {
   "cell_type": "code",
   "execution_count": 25,
   "id": "234eebcd-7610-4095-a8bc-b4c85946a718",
   "metadata": {},
   "outputs": [],
   "source": [
    "ASSEMBLY=/workspace/hraijc/BB_Nui_Assembly/Hybrid_assembly/quickmerge8/Nui_quickmerge8.fasta\n",
    "APREFIX=qm8_HiC\n",
    "HiC_RAW=/input/genomic/plant/Vaccinium/corymbosum/AGRF_CAGRF21434_HJWHFDRXX\n",
    "WKDIR=/workspace/hraijc/BB_Nui_Assembly/Hi-C_mapping_qm8\n",
    "TEMPDIR=${WKDIR}/temp"
   ]
  },
  {
   "cell_type": "code",
   "execution_count": 26,
   "id": "f4408142-0f1b-45bd-b7de-8c3424aa00d0",
   "metadata": {},
   "outputs": [],
   "source": [
    "cd ${WKDIR}"
   ]
  },
  {
   "cell_type": "code",
   "execution_count": 21,
   "id": "c36b5c47-953a-4f9f-b063-a723793c3911",
   "metadata": {},
   "outputs": [],
   "source": [
    "#See /workspace/hraijc/Raspberry/TestingOmniC/Dependencies.ipynb for building and installing dependencies.\n",
    "module load bedtools/2.30.0\n",
    "module load bwa/0.7.17\n",
    "module load samtools/0.1.19\n"
   ]
  },
  {
   "cell_type": "code",
   "execution_count": 10,
   "id": "04563621-1150-4538-b4f9-2441e28fe6b9",
   "metadata": {},
   "outputs": [],
   "source": [
    "#Make directories\n",
    "#mkdir ${TEMPDIR}\n",
    "#mkdir ${WKDIR}/log"
   ]
  },
  {
   "cell_type": "markdown",
   "id": "e1ce958e-e2cb-4b97-ada2-dde8cf4e4ef3",
   "metadata": {},
   "source": [
    "## Pre-Alignment"
   ]
  },
  {
   "cell_type": "code",
   "execution_count": 11,
   "id": "19b139ad-d387-44e9-a4c5-2aa9b4dc88c1",
   "metadata": {},
   "outputs": [],
   "source": [
    "#create reference of the genome assembly.\n",
    "samtools faidx $ASSEMBLY"
   ]
  },
  {
   "cell_type": "code",
   "execution_count": 12,
   "id": "52f15019-8efe-4f03-a7ef-24b9e875e442",
   "metadata": {},
   "outputs": [],
   "source": [
    "#Create genome file from genome index.\n",
    "cut -f1,2 ${ASSEMBLY}.fai > ${ASSEMBLY%.fasta}.genome"
   ]
  },
  {
   "cell_type": "code",
   "execution_count": 13,
   "id": "f68dab1a-df8a-41af-a0ee-079cad1a695b",
   "metadata": {},
   "outputs": [
    {
     "name": "stdout",
     "output_type": "stream",
     "text": [
      "contig_1\t231433\n",
      "contig_10000\t28597\n"
     ]
    }
   ],
   "source": [
    "head -n 2 ${ASSEMBLY%.fasta}.genome"
   ]
  },
  {
   "cell_type": "code",
   "execution_count": 14,
   "id": "8e8cfc0f-80b5-4c08-8938-1c1764428b1b",
   "metadata": {},
   "outputs": [
    {
     "name": "stdout",
     "output_type": "stream",
     "text": [
      "Job <649792> is submitted to default queue <lowpriority>.\n"
     ]
    }
   ],
   "source": [
    "#Create bwa index.\n",
    "bsub -J indbwa -o ${WKDIR}/log/indbwa.log -e ${WKDIR}/log/indbwa.err -n 1 \\\n",
    "\"bwa index ${ASSEMBLY}\""
   ]
  },
  {
   "cell_type": "code",
   "execution_count": 15,
   "id": "4e7f4b63-1a90-4f19-a0ed-e8185988a9ec",
   "metadata": {},
   "outputs": [
    {
     "name": "stdout",
     "output_type": "stream",
     "text": [
      "8.2G\t/input/genomic/plant/Vaccinium/corymbosum/AGRF_CAGRF21434_HJWHFDRXX/BlueberryNui_HiC_HJWHFDRXX_GTACGA_L002_R1.fastq.gz\n",
      "12G\t/input/genomic/plant/Vaccinium/corymbosum/AGRF_CAGRF21434_HJWHFDRXX/BlueberryNui_HiC_HJWHFDRXX_GTACGA_L002_R2.fastq.gz\n",
      "26K\t/input/genomic/plant/Vaccinium/corymbosum/AGRF_CAGRF21434_HJWHFDRXX/checksums.exf\n",
      "26K\t/input/genomic/plant/Vaccinium/corymbosum/AGRF_CAGRF21434_HJWHFDRXX/checksums.md5\n",
      "264K\t/input/genomic/plant/Vaccinium/corymbosum/AGRF_CAGRF21434_HJWHFDRXX/DataValidation.pdf\n",
      "9.9G\t/input/genomic/plant/Vaccinium/corymbosum/AGRF_CAGRF21434_HJWHFDRXX/Pepino_HiC_HJWHFDRXX_CAGATC_L002_R1.fastq.gz\n",
      "11G\t/input/genomic/plant/Vaccinium/corymbosum/AGRF_CAGRF21434_HJWHFDRXX/Pepino_HiC_HJWHFDRXX_CAGATC_L002_R2.fastq.gz\n",
      "48K\t/input/genomic/plant/Vaccinium/corymbosum/AGRF_CAGRF21434_HJWHFDRXX/README.md\n",
      "22G\t/input/genomic/plant/Vaccinium/corymbosum/AGRF_CAGRF21434_HJWHFDRXX/Rewarewa_HiC_HJWHFDRXX_TCAAGA_L002_R1.fastq.gz\n",
      "23G\t/input/genomic/plant/Vaccinium/corymbosum/AGRF_CAGRF21434_HJWHFDRXX/Rewarewa_HiC_HJWHFDRXX_TCAAGA_L002_R2.fastq.gz\n",
      "648K\t/input/genomic/plant/Vaccinium/corymbosum/AGRF_CAGRF21434_HJWHFDRXX/TestFiles.exe\n"
     ]
    }
   ],
   "source": [
    "du -sh ${HiC_RAW}/*"
   ]
  },
  {
   "cell_type": "markdown",
   "id": "faad612e-a0d7-46b1-b70a-0ab7fba72622",
   "metadata": {},
   "source": [
    "## Alignment"
   ]
  },
  {
   "cell_type": "code",
   "execution_count": 16,
   "id": "da8e0a58-2756-457c-b132-f349ee8b283c",
   "metadata": {},
   "outputs": [],
   "source": [
    "cd ${WKDIR}\n",
    "cp ${ASSEMBLY}* ."
   ]
  },
  {
   "cell_type": "code",
   "execution_count": 16,
   "id": "8f862281-efd3-42e8-8d6d-495bfd813ce7",
   "metadata": {},
   "outputs": [
    {
     "name": "stdout",
     "output_type": "stream",
     "text": [
      "Job <709733> is submitted to default queue <lowpriority>.\n"
     ]
    }
   ],
   "source": [
    "#Align reads with BWA. Use -5SP for Hi-C reads.\n",
    "bsub -J bwamem -o ${WKDIR}/log/bwamem.log -e ${WKDIR}/log/bwamem.err -n 25 \\\n",
    "\"bwa mem -5SP -T0 -t24 ${ASSEMBLY} ${HiC_RAW}/BlueberryNui_HiC_HJWHFDRXX_GTACGA_L002_R1.fastq.gz ${HiC_RAW}/BlueberryNui_HiC_HJWHFDRXX_GTACGA_L002_R2.fastq.gz -o ${APREFIX}.sam\" \n"
   ]
  },
  {
   "cell_type": "code",
   "execution_count": 17,
   "id": "f1b85072-b227-4915-95b1-d9a93bf6e2be",
   "metadata": {},
   "outputs": [
    {
     "name": "stdout",
     "output_type": "stream",
     "text": [
      "Successfully completed.\n",
      "du: cannot access ‘/workspace/hraijc/BB_Nui_Assembly/Hi-C_mapping_qm8/qm8_HiC.sam’: No such file or directory\n"
     ]
    },
    {
     "ename": "",
     "evalue": "1",
     "output_type": "error",
     "traceback": []
    }
   ],
   "source": [
    "grep \"Success\" ${WKDIR}/log/bwamem.log\n",
    "du -sh ${WKDIR}/${APREFIX}.sam"
   ]
  },
  {
   "cell_type": "markdown",
   "id": "4b7c6b46-248b-46df-b2dc-34e144b0dd53",
   "metadata": {},
   "source": [
    "### Flag PCR Duplicates\n",
    "samblaster is a fast and flexible program for marking duplicates in read-id grouped1 paired-end SAM files. It can also optionally output discordant read pairs and/or split read mappings to separate SAM files, and/or unmapped/clipped reads to a separate FASTQ file. When marking duplicates, samblaster will require approximately 20MB of memory per 1M read pairs."
   ]
  },
  {
   "cell_type": "code",
   "execution_count": 23,
   "id": "9d13c795-2b75-40f6-84b4-f6a5124027f5",
   "metadata": {},
   "outputs": [],
   "source": [
    "module load samtools/0.1.19"
   ]
  },
  {
   "cell_type": "code",
   "execution_count": 24,
   "id": "49474347-4bab-43aa-80f4-177823f490af",
   "metadata": {},
   "outputs": [
    {
     "name": "stdout",
     "output_type": "stream",
     "text": [
      "Job <650240> is submitted to default queue <lowpriority>.\n"
     ]
    }
   ],
   "source": [
    "#First mark as duplicate with samblaster then\n",
    "bsub -J samblaster -o ${WKDIR}/log/samblaster.log -e ${WKDIR}/log/samblaster.err \\\n",
    "\"/workspace/hraijc/git_clones/samblaster/samblaster -i ${WKDIR}/${APREFIX}.sam -o ${APREFIX}_marked_byread.sam\""
   ]
  },
  {
   "cell_type": "markdown",
   "id": "df0a1af8-a886-4473-b897-b07ee0449bcc",
   "metadata": {},
   "source": [
    "Samtools Flag 2316:\n",
    "+ read unmapped (0x4)\n",
    "+ mate unmapped (0x8)*\n",
    "+ not primary alignment (0x100)\n",
    "+ supplementary alignment (0x800"
   ]
  },
  {
   "cell_type": "code",
   "execution_count": 25,
   "id": "0f92152c-28e0-4229-929a-68411c222245",
   "metadata": {},
   "outputs": [
    {
     "name": "stdout",
     "output_type": "stream",
     "text": [
      "Job <650302> is submitted to default queue <lowpriority>.\n"
     ]
    }
   ],
   "source": [
    "#Then remove flagged reads.\n",
    "bsub -J samview9 -o ${WKDIR}/log/samview9.log -e ${WKDIR}/log/samview9.err -n 17 \\\n",
    "\"samtools view -S -b -@ 16 -F 2316 ${APREFIX}_marked_byread.sam > ${APREFIX}_dedup.bam\""
   ]
  },
  {
   "cell_type": "code",
   "execution_count": 26,
   "id": "aa52a18e-aadf-4445-b9f3-eb2ecc3b9f1b",
   "metadata": {},
   "outputs": [
    {
     "name": "stdout",
     "output_type": "stream",
     "text": [
      "32G\tqm8_HiC_dedup.bam\n",
      "161G\tqm8_HiC_marked_byread.sam\n",
      "160G\tqm8_HiC.sam\n"
     ]
    }
   ],
   "source": [
    "du -sh ${APREFIX}*am"
   ]
  },
  {
   "cell_type": "code",
   "execution_count": 28,
   "id": "f67ccd18-d219-4db0-945a-3f7c346fb7f9",
   "metadata": {},
   "outputs": [],
   "source": [
    "rm -rf *.sam"
   ]
  },
  {
   "cell_type": "code",
   "execution_count": 27,
   "id": "9ed7030c-5a3f-4d49-a4cd-7a2acd5a5de9",
   "metadata": {},
   "outputs": [],
   "source": [
    "module unload samtools"
   ]
  },
  {
   "cell_type": "markdown",
   "id": "1f8a1fc5-9ff2-4cc0-975d-d06b4140a283",
   "metadata": {},
   "source": [
    "## QC HiC data with hic_qc"
   ]
  },
  {
   "cell_type": "code",
   "execution_count": 29,
   "id": "c75fd9f9-f8d3-4cb5-8d32-3d034b317b74",
   "metadata": {
    "tags": []
   },
   "outputs": [],
   "source": [
    "module load conda"
   ]
  },
  {
   "cell_type": "code",
   "execution_count": 30,
   "id": "9b487cbb-51f7-48e1-9873-3aaf5a4a6955",
   "metadata": {},
   "outputs": [
    {
     "name": "stdout",
     "output_type": "stream",
     "text": [
      "(/workspace/appscratch/miniconda/hraijc_hic_qc2) "
     ]
    },
    {
     "ename": "",
     "evalue": "1",
     "output_type": "error",
     "traceback": []
    }
   ],
   "source": [
    "conda activate hraijc_hic_qc2"
   ]
  },
  {
   "cell_type": "code",
   "execution_count": 31,
   "id": "f5ec7f53-a421-4b52-9e84-0db8a140293b",
   "metadata": {},
   "outputs": [
    {
     "name": "stdout",
     "output_type": "stream",
     "text": [
      "Job <650314> is submitted to default queue <lowpriority>.\n",
      "(/workspace/appscratch/miniconda/hraijc_hic_qc2) "
     ]
    },
    {
     "ename": "",
     "evalue": "1",
     "output_type": "error",
     "traceback": []
    }
   ],
   "source": [
    "bsub -J hic_qc1M -o ${WKDIR}/log/hic_qc1M.log -e ${WKDIR}/log/hic_qc1M.err -n 1 \\\n",
    "\"python /workspace/hraijc/git_clones/hic_qc/hic_qc.py -n 10000000 -b ${APREFIX}_dedup.bam -o hicqc_10M\""
   ]
  },
  {
   "cell_type": "code",
   "execution_count": 32,
   "id": "ee909371-fdb3-4e1e-ba3f-70f46c02a9d3",
   "metadata": {},
   "outputs": [],
   "source": [
    "conda deactivate\n",
    "module unload conda"
   ]
  },
  {
   "cell_type": "markdown",
   "id": "021ca74f-51ce-4dc9-9ce2-f804e789a65d",
   "metadata": {},
   "source": [
    "## Make HiC contact map before SALSA run to compare results to"
   ]
  },
  {
   "cell_type": "code",
   "execution_count": 4,
   "id": "5433d069-e6db-4883-8634-7e7128be103e",
   "metadata": {},
   "outputs": [],
   "source": [
    "module load pfr-python2"
   ]
  },
  {
   "cell_type": "code",
   "execution_count": 34,
   "id": "39608622-d314-4b3e-b9a4-baa035e071a9",
   "metadata": {},
   "outputs": [],
   "source": [
    "cp ${ASSEMBLY} ."
   ]
  },
  {
   "cell_type": "code",
   "execution_count": 35,
   "id": "b85973e5-5baf-463a-a1b7-b7f8800b33de",
   "metadata": {},
   "outputs": [
    {
     "name": "stdout",
     "output_type": "stream",
     "text": [
      "Job <650315> is submitted to default queue <lowpriority>.\n"
     ]
    }
   ],
   "source": [
    "bsub -J agpgen1 -o ${WKDIR}/log/agpgen1.log -e ${WKDIR}/log/agpgen1.err -n 2 \\\n",
    "\"python2 /powerplant/workspace/hraijc/git_clones/juicebox_scripts/juicebox_scripts/makeAgpFromFasta.py ${ASSEMBLY} ${ASSEMBLY%.fasta}.agb\""
   ]
  },
  {
   "cell_type": "code",
   "execution_count": 36,
   "id": "1336e1f9-6e2d-472a-90d5-3d2967f61731",
   "metadata": {},
   "outputs": [
    {
     "name": "stdout",
     "output_type": "stream",
     "text": [
      "Job <650316> is submitted to default queue <lowpriority>.\n"
     ]
    }
   ],
   "source": [
    "bsub -J juiceboxt1 -o ${WKDIR}/log/juiceboxt1.log -e ${WKDIR}/log/juiceboxt1.err -n 2 \\\n",
    "\"python2 /powerplant/workspace/hraijc/git_clones/juicebox_scripts/juicebox_scripts/agp2assembly.py ${ASSEMBLY%.fasta}.agb ${ASSEMBLY%.fasta}.assembly\""
   ]
  },
  {
   "cell_type": "code",
   "execution_count": 37,
   "id": "0eea4721-4688-4bd2-80f2-5d37be6dbb86",
   "metadata": {},
   "outputs": [
    {
     "name": "stdout",
     "output_type": "stream",
     "text": [
      "cp: omitting directory ‘/workspace/hraijc/BB_Nui_Assembly/Hybrid_assembly/quickmerge8/Nui_quickmerge8_busco’\n"
     ]
    },
    {
     "ename": "",
     "evalue": "1",
     "output_type": "error",
     "traceback": []
    }
   ],
   "source": [
    "cp ${ASSEMBLY%.fasta}* ."
   ]
  },
  {
   "cell_type": "code",
   "execution_count": null,
   "id": "c48718ce-6ce5-492f-8307-f01701b85a16",
   "metadata": {},
   "outputs": [],
   "source": []
  },
  {
   "cell_type": "code",
   "execution_count": null,
   "id": "75e4903a-2e2e-45f0-8301-fe69136024b2",
   "metadata": {},
   "outputs": [],
   "source": []
  },
  {
   "cell_type": "code",
   "execution_count": 38,
   "id": "a89b6959-735f-4283-8ba5-7cb412a690d1",
   "metadata": {},
   "outputs": [
    {
     "name": "stdout",
     "output_type": "stream",
     "text": [
      "Job <650318> is submitted to default queue <lowpriority>.\n"
     ]
    }
   ],
   "source": [
    "bsub -J matlock1 -o ${WKDIR}/log/matlock1.log -e ${WKDIR}/log/matlock1.err -n 2 \\\n",
    "\"/powerplant/workspace/hraijc/git_clones/matlock/bin/matlock bam2 juicer ${APREFIX}_dedup.bam ${APREFIX}_dedup.links.txt\"\n"
   ]
  },
  {
   "cell_type": "code",
   "execution_count": 39,
   "id": "b8cafa90-7a23-4bf2-a37e-6e5b1f501d1e",
   "metadata": {},
   "outputs": [
    {
     "name": "stdout",
     "output_type": "stream",
     "text": [
      "Job <650349> is submitted to default queue <lowpriority>.\n"
     ]
    }
   ],
   "source": [
    "bsub -J cmap1 -o ${WKDIR}/log/cmap1.log -e ${WKDIR}/log/cmap1.err -n 2 \\\n",
    "\"sort -k2,2 -k6,6 ${APREFIX}_dedup.links.txt > ${APREFIX}_dedup.sorted.links.txt\""
   ]
  },
  {
   "cell_type": "code",
   "execution_count": 8,
   "id": "a181dcdc-efaf-4035-a28b-5e32e7dc2ba0",
   "metadata": {},
   "outputs": [
    {
     "name": "stdout",
     "output_type": "stream",
     "text": [
      "Job <650654> is submitted to default queue <lowpriority>.\n"
     ]
    }
   ],
   "source": [
    "bsub -J 3ddna1 -o ${WKDIR}/log/3ddna1.log -e ${WKDIR}/log/3ddna1.err -n 2 \\\n",
    "\"/powerplant/workspace/hraijc/git_clones/matlock/3d-dna/visualize/run-assembly-visualizer.sh -p false ${ASSEMBLY%.fasta}.assembly ${APREFIX}_dedup.sorted.links.txt\""
   ]
  },
  {
   "cell_type": "code",
   "execution_count": 6,
   "id": "91199956-05f7-47ea-a06f-8af39ed573de",
   "metadata": {},
   "outputs": [
    {
     "name": "stdout",
     "output_type": "stream",
     "text": [
      "/powerplant/workspace/hraijc/BB_Nui_Assembly\n"
     ]
    }
   ],
   "source": []
  },
  {
   "cell_type": "code",
   "execution_count": null,
   "id": "d222eb68-abed-44e3-96a8-88e844fe77c9",
   "metadata": {},
   "outputs": [],
   "source": []
  },
  {
   "cell_type": "markdown",
   "id": "7debcd13-bf66-429b-b2ec-b596e8dc902a",
   "metadata": {},
   "source": [
    "\n",
    "\n",
    "\n",
    "# Running again on the Flye04 Assembly for HiC scaffolding."
   ]
  },
  {
   "cell_type": "code",
   "execution_count": 5,
   "id": "c0433b07-035c-468e-a8de-a8e925c9fae7",
   "metadata": {},
   "outputs": [],
   "source": [
    "#Set Variables.\n"
   ]
  },
  {
   "cell_type": "code",
   "execution_count": 6,
   "id": "1a8ed75a-fe84-4674-8ad1-5d097412da91",
   "metadata": {},
   "outputs": [],
   "source": [
    "ASSEMBLY=/workspace/hraijc/BB_Nui_Assembly/ONT_Assemly/FLYE04/Flye04_assembly.fasta\n",
    "APREFIX=flye4_HiC\n",
    "HiC_RAW=/input/genomic/plant/Vaccinium/corymbosum/AGRF_CAGRF21434_HJWHFDRXX\n",
    "WKDIR=/workspace/hraijc/BB_Nui_Assembly/Hi-C_mapping_flye4\n",
    "TEMPDIR=${WKDIR}/temp\n",
    "cd $WKDIR"
   ]
  },
  {
   "cell_type": "code",
   "execution_count": 19,
   "id": "c46955c7-b81b-4619-879c-365bd3801f07",
   "metadata": {},
   "outputs": [],
   "source": [
    "#See /workspace/hraijc/Raspberry/TestingOmniC/Dependencies.ipynb for building and installing dependencies.\n",
    "module load bedtools/2.30.0\n",
    "module load bwa/0.7.17\n",
    "module load samtools/0.1.19\n"
   ]
  },
  {
   "cell_type": "code",
   "execution_count": 20,
   "id": "129461a5-16ca-49d6-84e2-babb764998dd",
   "metadata": {},
   "outputs": [
    {
     "name": "stdout",
     "output_type": "stream",
     "text": [
      "mkdir: cannot create directory ‘/workspace/hraijc/BB_Nui_Assembly/Hi-C_mapping_flye4’: File exists\n",
      "mkdir: cannot create directory ‘/workspace/hraijc/BB_Nui_Assembly/Hi-C_mapping_flye4/temp’: File exists\n",
      "mkdir: cannot create directory ‘/workspace/hraijc/BB_Nui_Assembly/Hi-C_mapping_flye4/log’: File exists\n"
     ]
    },
    {
     "ename": "",
     "evalue": "1",
     "output_type": "error",
     "traceback": []
    }
   ],
   "source": [
    "#Make directories\n",
    "mkdir ${WKDIR}\n",
    "mkdir ${TEMPDIR}\n",
    "mkdir ${WKDIR}/log\n"
   ]
  },
  {
   "cell_type": "markdown",
   "id": "768ded99-b136-4cfc-80b3-6ac7445a8c7e",
   "metadata": {},
   "source": [
    "## Pre-Alignment"
   ]
  },
  {
   "cell_type": "code",
   "execution_count": 4,
   "id": "3e4364d2-f1c1-4ffe-b300-b85da6680193",
   "metadata": {},
   "outputs": [
    {
     "name": "stdout",
     "output_type": "stream",
     "text": [
      "Job <709652> is submitted to default queue <lowpriority>.\n",
      "<<Waiting for dispatch ...>>\n",
      "<<Starting on aklppg31>>\n"
     ]
    }
   ],
   "source": [
    "#create reference of the genome assembly.\n",
    "bsub -I \"samtools faidx $ASSEMBLY\""
   ]
  },
  {
   "cell_type": "code",
   "execution_count": 5,
   "id": "6062dd53-cab6-4dc9-be7b-0e7d9f3347eb",
   "metadata": {},
   "outputs": [
    {
     "name": "stdout",
     "output_type": "stream",
     "text": [
      "Job <709653> is submitted to default queue <lowpriority>.\n",
      "<<Waiting for dispatch ...>>\n",
      "<<Starting on aklppb43>>\n"
     ]
    }
   ],
   "source": [
    "#Create genome file from genome index.\n",
    "bsub -I \"cut -f1,2 ${ASSEMBLY}.fai > ${ASSEMBLY%.fasta}.genome\""
   ]
  },
  {
   "cell_type": "code",
   "execution_count": 6,
   "id": "a11398c2-049b-4371-be61-9bdd24486dca",
   "metadata": {},
   "outputs": [
    {
     "name": "stdout",
     "output_type": "stream",
     "text": [
      "contig_1\t231433\n",
      "contig_10000\t28597\n"
     ]
    }
   ],
   "source": [
    "head -n 2 ${ASSEMBLY%.fasta}.genome"
   ]
  },
  {
   "cell_type": "code",
   "execution_count": 7,
   "id": "57fb5199-b35e-47d1-bec8-4f5b55c4faae",
   "metadata": {},
   "outputs": [
    {
     "name": "stdout",
     "output_type": "stream",
     "text": [
      "Job <709654> is submitted to default queue <lowpriority>.\n"
     ]
    }
   ],
   "source": [
    "#Create bwa index.\n",
    "bsub -J indbwa2 -o ${WKDIR}/log/indbwa2.log -e ${WKDIR}/log/indbwa2.err -n 1 \\\n",
    "\"bwa index ${ASSEMBLY}\""
   ]
  },
  {
   "cell_type": "markdown",
   "id": "29cf8860-54b4-4604-8ede-630b032f826d",
   "metadata": {},
   "source": [
    "## Alignment"
   ]
  },
  {
   "cell_type": "code",
   "execution_count": 13,
   "id": "83a1dcbf-1eec-4514-b28c-38cdffc049d8",
   "metadata": {},
   "outputs": [],
   "source": [
    "cd ${WKDIR}\n",
    "cp ${ASSEMBLY}* ."
   ]
  },
  {
   "cell_type": "code",
   "execution_count": 21,
   "id": "bcb7f07d-3eed-4421-8bfb-741f212ad6ca",
   "metadata": {},
   "outputs": [
    {
     "name": "stdout",
     "output_type": "stream",
     "text": [
      "Job <709734> is submitted to default queue <lowpriority>.\n"
     ]
    }
   ],
   "source": [
    "#Align reads with BWA. Use -5SP for Hi-C reads.\n",
    "bsub -J bwamem -o ${WKDIR}/log/bwamem.log -e ${WKDIR}/log/bwamem.err -n 25 \\\n",
    "\"bwa mem -5SP -T0 -t24 ${ASSEMBLY} ${HiC_RAW}/BlueberryNui_HiC_HJWHFDRXX_GTACGA_L002_R1.fastq.gz ${HiC_RAW}/BlueberryNui_HiC_HJWHFDRXX_GTACGA_L002_R2.fastq.gz -o ${APREFIX}.sam\" \n"
   ]
  },
  {
   "cell_type": "code",
   "execution_count": 33,
   "id": "31057dca-b8cc-4eab-a4bb-5141c7b26962",
   "metadata": {},
   "outputs": [
    {
     "name": "stdout",
     "output_type": "stream",
     "text": [
      "Successfully completed.\n",
      "Successfully completed.\n",
      "158G\t/workspace/hraijc/BB_Nui_Assembly/Hi-C_mapping_flye4/flye4_HiC.sam\n"
     ]
    }
   ],
   "source": [
    "grep \"Success\" ${WKDIR}/log/bwamem.log\n",
    "du -sh ${WKDIR}/${APREFIX}.sam"
   ]
  },
  {
   "cell_type": "markdown",
   "id": "2424ffbc-5350-40a2-8d25-923717fc172d",
   "metadata": {},
   "source": [
    "### Flag PCR Duplicates\n",
    "samblaster is a fast and flexible program for marking duplicates in read-id grouped1 paired-end SAM files. It can also optionally output discordant read pairs and/or split read mappings to separate SAM files, and/or unmapped/clipped reads to a separate FASTQ file. When marking duplicates, samblaster will require approximately 20MB of memory per 1M read pairs."
   ]
  },
  {
   "cell_type": "code",
   "execution_count": 34,
   "id": "41f6591d-934c-4149-840a-13b9cd7ff5fc",
   "metadata": {},
   "outputs": [],
   "source": [
    "module load samtools/0.1.19"
   ]
  },
  {
   "cell_type": "code",
   "execution_count": 35,
   "id": "99525150-2682-46a8-b503-13cc984fed4e",
   "metadata": {},
   "outputs": [
    {
     "name": "stdout",
     "output_type": "stream",
     "text": [
      "Job <709736> is submitted to default queue <lowpriority>.\n"
     ]
    }
   ],
   "source": [
    "#First mark as duplicate with samblaster then\n",
    "bsub -J samblaster -o ${WKDIR}/log/samblaster.log -e ${WKDIR}/log/samblaster.err \\\n",
    "\"/workspace/hraijc/git_clones/samblaster/samblaster -i ${WKDIR}/${APREFIX}.sam -o ${APREFIX}_marked_byread.sam\""
   ]
  },
  {
   "cell_type": "markdown",
   "id": "9ceab856-ad28-487e-bbe2-8c746372f158",
   "metadata": {},
   "source": [
    "Samtools Flag 2316:\n",
    "+ read unmapped (0x4)\n",
    "+ mate unmapped (0x8)*\n",
    "+ not primary alignment (0x100)\n",
    "+ supplementary alignment (0x800"
   ]
  },
  {
   "cell_type": "code",
   "execution_count": 40,
   "id": "006ca044-4514-4767-ac94-53dd0af48a4b",
   "metadata": {},
   "outputs": [
    {
     "name": "stdout",
     "output_type": "stream",
     "text": [
      "Job <709738> is submitted to default queue <lowpriority>.\n"
     ]
    }
   ],
   "source": [
    "#Then remove flagged reads.\n",
    "bsub -J samview9 -o ${WKDIR}/log/samview9.log -e ${WKDIR}/log/samview9.err -n 17 \\\n",
    "\"samtools view -S -b -@ 16 -F 2316 ${APREFIX}_marked_byread.sam > ${APREFIX}_dedup.bam\""
   ]
  },
  {
   "cell_type": "code",
   "execution_count": 47,
   "id": "01cf8297-f5f1-4ea1-97e9-0cb5e3d2c43a",
   "metadata": {},
   "outputs": [
    {
     "name": "stdout",
     "output_type": "stream",
     "text": [
      "32G\tflye4_HiC_dedup.bam\n",
      "158G\tflye4_HiC_marked_byread.sam\n",
      "158G\tflye4_HiC.sam\n"
     ]
    }
   ],
   "source": [
    "du -sh ${APREFIX}*am"
   ]
  },
  {
   "cell_type": "code",
   "execution_count": 48,
   "id": "b5b63842-be00-4f93-a7b4-dcec2ff65238",
   "metadata": {},
   "outputs": [],
   "source": [
    "rm -rf *.sam"
   ]
  },
  {
   "cell_type": "code",
   "execution_count": 49,
   "id": "c320fcd9-a57a-4538-9803-3a7bf0c60101",
   "metadata": {},
   "outputs": [],
   "source": [
    "module unload samtools"
   ]
  },
  {
   "cell_type": "code",
   "execution_count": 50,
   "id": "cbc75462-de40-45b3-bf44-1df300fc621d",
   "metadata": {},
   "outputs": [
    {
     "name": "stdout",
     "output_type": "stream",
     "text": [
      "/workspace/hraijc/BB_Nui_Assembly/Hi-C_mapping_flye4\n"
     ]
    }
   ],
   "source": [
    "pwd"
   ]
  },
  {
   "cell_type": "code",
   "execution_count": null,
   "id": "76580416-956d-47e4-8893-75c8931a4ede",
   "metadata": {},
   "outputs": [],
   "source": [
    "/workspace/hraijc/BB_Nui_Assembly/Hi-C_mapping_flye4/flye4_HiC_dedup.bam"
   ]
  },
  {
   "cell_type": "code",
   "execution_count": null,
   "id": "3e268256-478a-4957-8ce8-194eb290308c",
   "metadata": {},
   "outputs": [],
   "source": []
  },
  {
   "cell_type": "code",
   "execution_count": null,
   "id": "fd005199-1c46-497c-827e-b5cd884191fd",
   "metadata": {},
   "outputs": [],
   "source": []
  },
  {
   "cell_type": "markdown",
   "id": "270f1a14-72de-486c-9198-102327ff4215",
   "metadata": {},
   "source": [
    "## Make Hic assembly and contact file to viz with JuiceBox\n",
    "### Assembly file generation"
   ]
  },
  {
   "cell_type": "code",
   "execution_count": 10,
   "id": "f8442b8c-69bf-469a-82f1-55ca66cafd39",
   "metadata": {},
   "outputs": [],
   "source": [
    "ASSEMBLY=/workspace/hraijc/BB_Nui_Assembly/Hi-C_mapping_flye4/Flye04_assembly.fasta"
   ]
  },
  {
   "cell_type": "code",
   "execution_count": 11,
   "id": "f816d4db-a4f5-4b7c-a028-ec242cb84706",
   "metadata": {},
   "outputs": [],
   "source": [
    "ml load pfr-python2/2.7.13"
   ]
  },
  {
   "cell_type": "code",
   "execution_count": 12,
   "id": "c33a01f7-cc70-462a-874c-92c9ad453c41",
   "metadata": {},
   "outputs": [],
   "source": [
    "cd $WKDIR"
   ]
  },
  {
   "cell_type": "code",
   "execution_count": 13,
   "id": "25d44392-0e11-4448-8fcf-13d291979ab4",
   "metadata": {},
   "outputs": [
    {
     "name": "stdout",
     "output_type": "stream",
     "text": [
      "Job <713171> is submitted to default queue <lowpriority>.\n"
     ]
    }
   ],
   "source": [
    "bsub -J juiceboxt1a -o ${WKDIR}/log/juiceboxt1a.log -e ${WKDIR}/log/juiceboxt1a.err -n 2 \\\n",
    "\"python2 /powerplant/workspace/hraijc/git_clones/juicebox_scripts/juicebox_scripts/makeAgpFromFasta.py ${ASSEMBLY} ${ASSEMBLY%.fasta}.agp\"\n"
   ]
  },
  {
   "cell_type": "code",
   "execution_count": 14,
   "id": "405dc0d4-b642-4496-b699-de1d1334e8a1",
   "metadata": {
    "tags": []
   },
   "outputs": [
    {
     "name": "stdout",
     "output_type": "stream",
     "text": [
      "Job <713174> is submitted to default queue <lowpriority>.\n"
     ]
    }
   ],
   "source": [
    "bsub -J juiceboxt1b -o ${WKDIR}/log/juiceboxt1b.log -e ${WKDIR}/log/juiceboxt1b.err -n 2 \\\n",
    "\"python2 /powerplant/workspace/hraijc/git_clones/juicebox_scripts/juicebox_scripts/agp2assembly.py ${ASSEMBLY%.fasta}.agp ${ASSEMBLY%.fasta}.assembly\""
   ]
  },
  {
   "cell_type": "markdown",
   "id": "f1fe9b90-de9b-4b39-a024-f9084e1f9678",
   "metadata": {},
   "source": [
    "#### Make contact map"
   ]
  },
  {
   "cell_type": "code",
   "execution_count": 15,
   "id": "29181216-7dd1-4b4e-9d7d-d4ab247ef2a6",
   "metadata": {},
   "outputs": [
    {
     "name": "stdout",
     "output_type": "stream",
     "text": [
      "Job <713175> is submitted to default queue <lowpriority>.\n"
     ]
    }
   ],
   "source": [
    "#Make links file\n",
    "bsub -J matlock5 -o ${WKDIR}/log/matlock5.log -e ${WKDIR}/log/matlock5.err -n 2 \\\n",
    "\"/powerplant/workspace/hraijc/git_clones/matlock/bin/matlock bam2 juicer  ${APREFIX}_dedup.bam  ${APREFIX}.links.txt\""
   ]
  },
  {
   "cell_type": "code",
   "execution_count": 16,
   "id": "c45bd3a6-53f8-4f7e-b161-83d3a2da2850",
   "metadata": {},
   "outputs": [
    {
     "name": "stdout",
     "output_type": "stream",
     "text": [
      "Job <713180> is submitted to default queue <lowpriority>.\n"
     ]
    }
   ],
   "source": [
    "#Sort links file\n",
    "bsub -J linksort5 -o ${WKDIR}/log/linksort5.log -e ${WKDIR}/log/linksort5.err -n 2 \\\n",
    "\"sort -k2,2 -k6,6 ${APREFIX}.links.txt > ${APREFIX}.sorted.links.txt\""
   ]
  },
  {
   "cell_type": "code",
   "execution_count": 24,
   "id": "07b37a74-acd0-44ad-8817-516da0cc361b",
   "metadata": {},
   "outputs": [
    {
     "name": "stdout",
     "output_type": "stream",
     "text": [
      "Job <713185> is submitted to default queue <lowpriority>.\n"
     ]
    }
   ],
   "source": [
    "#Make Juicer file\n",
    "bsub -J 3ddna5 -o ${WKDIR}/log/3ddna5.log -e ${WKDIR}/log/3ddna5.err -n 2 \\\n",
    "\"/powerplant/workspace/hraijc/git_clones/matlock/3d-dna/visualize/run-assembly-visualizer.sh -p false ${ASSEMBLY%.fasta}.assembly ${APREFIX}.sorted.links.txt\""
   ]
  },
  {
   "cell_type": "code",
   "execution_count": null,
   "id": "64442094-171c-4c95-9612-956f2ed8ffcb",
   "metadata": {},
   "outputs": [],
   "source": []
  },
  {
   "cell_type": "code",
   "execution_count": null,
   "id": "b06b132e-b68e-45ea-aab3-f82b47646885",
   "metadata": {},
   "outputs": [],
   "source": []
  },
  {
   "cell_type": "code",
   "execution_count": null,
   "id": "f07787ed-ee80-421b-8b1c-5dd4669439d9",
   "metadata": {},
   "outputs": [],
   "source": []
  },
  {
   "cell_type": "code",
   "execution_count": null,
   "id": "a1fa4bf7-f1b3-41cc-be78-f14d7ce51912",
   "metadata": {},
   "outputs": [],
   "source": []
  },
  {
   "cell_type": "markdown",
   "id": "dd7ea6be-b38e-48f4-bccc-33e29cdb65bc",
   "metadata": {},
   "source": [
    "### hic_qc of salsa assembly"
   ]
  },
  {
   "cell_type": "code",
   "execution_count": 19,
   "id": "b8e98e68-433d-4d49-998a-26011652afda",
   "metadata": {
    "tags": []
   },
   "outputs": [],
   "source": [
    "module load conda"
   ]
  },
  {
   "cell_type": "code",
   "execution_count": 20,
   "id": "145e6ec9-7a20-415f-b5c3-31f8e27ec8fe",
   "metadata": {},
   "outputs": [
    {
     "name": "stdout",
     "output_type": "stream",
     "text": [
      "(/workspace/appscratch/miniconda/hraijc_hic_qc2) "
     ]
    },
    {
     "ename": "",
     "evalue": "1",
     "output_type": "error",
     "traceback": []
    }
   ],
   "source": [
    "conda activate hraijc_hic_qc2"
   ]
  },
  {
   "cell_type": "code",
   "execution_count": 21,
   "id": "19a0165a-fdfe-48eb-af8c-6e58bf0bcebe",
   "metadata": {},
   "outputs": [
    {
     "name": "stdout",
     "output_type": "stream",
     "text": [
      "(/workspace/appscratch/miniconda/hraijc_hic_qc2) "
     ]
    },
    {
     "ename": "",
     "evalue": "1",
     "output_type": "error",
     "traceback": []
    }
   ],
   "source": [
    "mkdir hicqc_Nui_flye4"
   ]
  },
  {
   "cell_type": "code",
   "execution_count": 22,
   "id": "7175a748-c14f-4cca-b69e-22d393fae2b8",
   "metadata": {},
   "outputs": [
    {
     "name": "stdout",
     "output_type": "stream",
     "text": [
      "Job <713183> is submitted to default queue <lowpriority>.\n",
      "(/workspace/appscratch/miniconda/hraijc_hic_qc2) "
     ]
    },
    {
     "ename": "",
     "evalue": "1",
     "output_type": "error",
     "traceback": []
    }
   ],
   "source": [
    "bsub -J hic_qc2M5 -o ${WKDIR}/log/hic_qc2M5.log -e ${WKDIR}/log/hic_qc2M5.err -n 1 \\\n",
    "\"python /workspace/hraijc/git_clones/hic_qc/hic_qc.py -n 10000000 -b flye4_HiC_dedup.bam -o hicqc_Nui_flye4\""
   ]
  },
  {
   "cell_type": "code",
   "execution_count": 23,
   "id": "b0c643a6-c987-4282-ac66-ee14f2263017",
   "metadata": {},
   "outputs": [],
   "source": [
    "conda deactivate\n",
    "module unload conda"
   ]
  },
  {
   "cell_type": "code",
   "execution_count": null,
   "id": "e4c0ce6a-ef34-4cd9-8ccb-e9a9b6032fe5",
   "metadata": {},
   "outputs": [],
   "source": []
  }
 ],
 "metadata": {
  "kernelspec": {
   "display_name": "Bash",
   "language": "bash",
   "name": "bash"
  },
  "language_info": {
   "codemirror_mode": "shell",
   "file_extension": ".sh",
   "mimetype": "text/x-sh",
   "name": "bash"
  }
 },
 "nbformat": 4,
 "nbformat_minor": 5
}
