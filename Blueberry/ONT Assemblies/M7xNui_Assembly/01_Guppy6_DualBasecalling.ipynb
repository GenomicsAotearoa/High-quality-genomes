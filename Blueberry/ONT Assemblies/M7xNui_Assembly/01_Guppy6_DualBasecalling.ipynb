{
 "cells": [
  {
   "cell_type": "markdown",
   "id": "79e16f5a-7274-4b47-a73c-86355d00cd31",
   "metadata": {},
   "source": [
    "# ONT PromethION RUN at ANU using Q20 Kits\n",
    "# M7xNui\n",
    "\n",
    "### Run info:\n",
    "Run Parameters\n",
    "Flow Cell Type FLO-PRO112\n",
    "Kit SQK-Q20EA\n",
    "\n",
    "\n",
    "### ANU DATA HERE:\n",
    "https://storage.powerplant.pfr.co.nz/input/genomic/plant/Vaccinium/corymbosum/20220208_M7xNui/20220208_1226_2A_PAI81355_0aef349b/\n",
    "ANU did the basecalling with GuppyV5 sup accuracy. Run report here: https://storage.powerplant.pfr.co.nz/input/genomic/plant/Vaccinium/corymbosum/20220208_M7xNui/20220208_1226_2A_PAI81355_0aef349b/report_PAI81355_20220208_1232_0aef349b.pdf\n",
    "\n",
    "## Guppy v6 Duplex basecalling\n"
   ]
  },
  {
   "cell_type": "code",
   "execution_count": 12,
   "id": "f5bf41a4-fb0a-4b71-a3cc-e5b54709ecac",
   "metadata": {},
   "outputs": [],
   "source": [
    "WKDIR=/workspace/hraijc/BB_M7xNui_Assembly\n",
    "BASECALLDIR=/workspace/hraijc/BB_M7xNui_Assembly/GuppyV6_basecalling\n",
    "QCDIR=/workspace/hraijc/BB_M7xNui_Assembly/ONT_QC/"
   ]
  },
  {
   "cell_type": "code",
   "execution_count": 13,
   "id": "062c9c18-755b-448f-8274-186dbfd58795",
   "metadata": {},
   "outputs": [],
   "source": [
    "cd $WKDIR"
   ]
  },
  {
   "cell_type": "code",
   "execution_count": 3,
   "id": "8dccfb5d-8fe1-4a6c-b5cb-2fe44372b0df",
   "metadata": {},
   "outputs": [],
   "source": [
    "mkdir log"
   ]
  },
  {
   "cell_type": "code",
   "execution_count": 14,
   "id": "a9ff9893-33d0-47b9-a4b4-bb6a1b177dfb",
   "metadata": {},
   "outputs": [],
   "source": [
    "module load pfr-python3"
   ]
  },
  {
   "cell_type": "code",
   "execution_count": 5,
   "id": "6e858b30-5c90-4155-b059-f524213cffad",
   "metadata": {},
   "outputs": [],
   "source": [
    "#Need to add the guppy basecaller to the path, not sure how to get around this.\n",
    "export PATH=\"/home/hraijc/.local/bin:/workspace/hraijc/packages/guppyV6/ont-guppy/bin:$PATH\""
   ]
  },
  {
   "cell_type": "code",
   "execution_count": 8,
   "id": "13065782-a6f0-452f-b570-dee82b01c6df",
   "metadata": {},
   "outputs": [],
   "source": [
    "mkdir ${WKDIR}/fast5"
   ]
  },
  {
   "cell_type": "code",
   "execution_count": 9,
   "id": "785ebadc-039a-4bb5-b72d-653ade39cb63",
   "metadata": {},
   "outputs": [
    {
     "name": "stdout",
     "output_type": "stream",
     "text": [
      "Job <730841> is submitted to default queue <lowpriority>.\n"
     ]
    }
   ],
   "source": [
    "#Many Fast5 directories. Need to combine into one.\n",
    "bsub -J cpfast5_1  -o $WKDIR/log/cpfast5_1.out -e $WKDIR/log/cpfast5_1.err -n 1 \\\n",
    "\"cp /input/genomic/plant/Vaccinium/corymbosum/20220208_M7xNui/20220208_1226_2A_PAI81355_0aef349b/fast5_skip/* ${WKDIR}/fast5\""
   ]
  },
  {
   "cell_type": "code",
   "execution_count": 10,
   "id": "00c57edf-10d1-49b7-bada-b016f3bb15a9",
   "metadata": {},
   "outputs": [
    {
     "name": "stdout",
     "output_type": "stream",
     "text": [
      "Job <730842> is submitted to default queue <lowpriority>.\n"
     ]
    }
   ],
   "source": [
    "bsub -J cpfast5_2  -o $WKDIR/log/cpfast5_2.out -e $WKDIR/log/cpfast5_2.err -n 1 \\\n",
    "\"cp /input/genomic/plant/Vaccinium/corymbosum/20220208_M7xNui/20220208_1226_2A_PAI81355_0aef349b/fast5_pass/* ${WKDIR}/fast5\""
   ]
  },
  {
   "cell_type": "code",
   "execution_count": 11,
   "id": "5244653f-d411-473b-a959-c41aa30de113",
   "metadata": {},
   "outputs": [
    {
     "name": "stdout",
     "output_type": "stream",
     "text": [
      "Job <730843> is submitted to default queue <lowpriority>.\n"
     ]
    }
   ],
   "source": [
    "bsub -J cpfast5_3  -o $WKDIR/log/cpfast5_3.out -e $WKDIR/log/cpfast5_3.err -n 1 \\\n",
    "\"cp /input/genomic/plant/Vaccinium/corymbosum/20220208_M7xNui/20220208_1226_2A_PAI81355_0aef349b/fast5_fail/* ${WKDIR}/fast5\""
   ]
  },
  {
   "cell_type": "code",
   "execution_count": 12,
   "id": "234e2aaf-3d8a-43b6-8215-b429ed531911",
   "metadata": {},
   "outputs": [
    {
     "name": "stdout",
     "output_type": "stream",
     "text": [
      "707G\t/workspace/hraijc/BB_M7xNui_Assembly/fast5\n"
     ]
    }
   ],
   "source": [
    "#Make sure to delete when done.\n",
    "du -sh ${WKDIR}/fast5"
   ]
  },
  {
   "cell_type": "code",
   "execution_count": 6,
   "id": "7da6e4a3-026f-449f-a579-ab726d1b25a1",
   "metadata": {},
   "outputs": [
    {
     "name": "stdout",
     "output_type": "stream",
     "text": [
      "usage: guppy_duplex [-h] [--basecaller_exe BASECALLER_EXE]\n",
      "                    [--duplex_basecaller_exe DUPLEX_BASECALLER_EXE]\n",
      "                    --input_path INPUT_PATH --save_path SAVE_PATH\n",
      "                    [--disable_logging] [--skip_simplex] [--skip_duplex]\n",
      "                    [--call_non_duplex_reads] [--device DEVICE]\n",
      "                    [--do_read_splitting]\n",
      "                    [--duplex_chunks_per_runner DUPLEX_CHUNKS_PER_RUNNER]\n",
      "                    [--recursive]\n",
      "\n",
      "All-in-one processing of r10.4 duplex reads using guppy\n",
      "\n",
      "optional arguments:\n",
      "  -h, --help            show this help message and exit\n",
      "  --basecaller_exe BASECALLER_EXE\n",
      "                        Path to the guppy_basecaller executable. If\n",
      "                        unspecified it is assumed that the basecaller exe is\n",
      "                        in the path.\n",
      "  --duplex_basecaller_exe DUPLEX_BASECALLER_EXE\n",
      "                        Path to the guppy_basecaller_duplex executable. If\n",
      "                        unspecified it is assumed that the duplex basecaller\n",
      "                        exe is in the path.\n",
      "  --input_path INPUT_PATH, -i INPUT_PATH\n",
      "                        Directory to read fast5 input files from.\n",
      "  --save_path SAVE_PATH, -s SAVE_PATH\n",
      "                        Directory to write resulting sequence files to.\n",
      "  --disable_logging     Turn off logging.\n",
      "  --skip_simplex        Skip simplex basecall step (the pipeline will assume\n",
      "                        the sequencing_summary.txt file exists ).\n",
      "  --skip_duplex         Skip duplex basecall step.\n",
      "  --call_non_duplex_reads\n",
      "                        Perform high accuracy basecall of all reads which do\n",
      "                        not participate in a duplex pair.\n",
      "  --device DEVICE, -d DEVICE\n",
      "                        CUDA device string to pass to basecallers.\n",
      "  --do_read_splitting   Perform read-splitting during the simplex basecall\n",
      "                        step.\n",
      "  --duplex_chunks_per_runner DUPLEX_CHUNKS_PER_RUNNER\n",
      "                        --chunks_per_runner value to pass to guppy when\n",
      "                        performing duplex basecalling. Decrease this if guppy\n",
      "                        gives an out-of-memory error.\n",
      "  --recursive, -r       Search for input files recursively.\n"
     ]
    }
   ],
   "source": [
    "/home/hraijc/.local/bin/guppy_duplex -h"
   ]
  },
  {
   "cell_type": "code",
   "execution_count": 13,
   "id": "7b85a17f-8d01-4db6-b02d-324be8d23987",
   "metadata": {},
   "outputs": [
    {
     "name": "stdout",
     "output_type": "stream",
     "text": [
      "Job <730849> is submitted to default queue <lowpriority>.\n"
     ]
    }
   ],
   "source": [
    "#Calling all fast5 files. Simplex and duplex. non_duplex_reads with GuppyV6 'sup' accuracy\n",
    "bsub -n 9 -J guppyM7Nui_basecalling1 -o $WKDIR/log/guppyM7Nui_basecalling1.out -e $WKDIR/log/guppyM7Nui_basecalling1.err -R 'select[defined(gpu)] rusage[mem=40000]' \\\n",
    "\"guppy_duplex \\\n",
    "--input_path ${WKDIR}/fast5 \\\n",
    "--save_path ${WKDIR}/GuppyV6_basecalling \\\n",
    "--device 'cuda:0' \\\n",
    "--do_read_splitting \\\n",
    "--duplex_chunks_per_runner 1200 \\\n",
    "--call_non_duplex_reads\"\n"
   ]
  },
  {
   "cell_type": "code",
   "execution_count": null,
   "id": "261cbe9a-9af1-4ef0-8074-e328ac47eaae",
   "metadata": {},
   "outputs": [],
   "source": []
  },
  {
   "cell_type": "code",
   "execution_count": null,
   "id": "c2e11019-bb9a-4b9a-949e-a31145e5434b",
   "metadata": {},
   "outputs": [],
   "source": []
  },
  {
   "cell_type": "markdown",
   "id": "aa3c2870-12f9-467d-9814-4ce0a4b68289",
   "metadata": {},
   "source": [
    "## Comparing quality of reads with Guppyv5 and Guppyv6 Duplex"
   ]
  },
  {
   "cell_type": "markdown",
   "id": "cccfbe03-fc1e-4495-8536-21c57c543d0d",
   "metadata": {},
   "source": [
    "### Using MinIONQC"
   ]
  },
  {
   "cell_type": "code",
   "execution_count": 15,
   "id": "f4a8fef0-f643-4464-b003-eee888bb633e",
   "metadata": {},
   "outputs": [
    {
     "name": "stdout",
     "output_type": "stream",
     "text": [
      "Loading \u001b[1mR/4.0.0\u001b[22m\n",
      "  \u001b[94mLoading requirement\u001b[0m: unixODBC/2.3.0 JAGS/4.2.0 gdal/2.4.0 proj/5.2.0\n"
     ]
    }
   ],
   "source": [
    "#ONT QC\n",
    "module load R/4.0.0\n",
    "#Rscript /workspace/hraijc/git_clones/MinIONQC.R -h\n"
   ]
  },
  {
   "cell_type": "code",
   "execution_count": 1,
   "id": "7a0ad20c-3027-4318-8396-1d7ac6f92523",
   "metadata": {},
   "outputs": [],
   "source": [
    "mkdir -p /workspace/hraijc/BB_M7xNui_Assembly/ONT_QC/ONT_QC_GuppyV6_duplex\n",
    "mkdir -p /workspace/hraijc/BB_M7xNui_Assembly/ONT_QC/ONT_QC_GuppyV6_simplex\n",
    "mkdir -p /workspace/hraijc/BB_M7xNui_Assembly/ONT_QC/ONT_QC_GuppyV6_simplexduplex\n",
    "\n"
   ]
  },
  {
   "cell_type": "code",
   "execution_count": 16,
   "id": "bedec09e-b435-4373-984d-e128ed3603ab",
   "metadata": {},
   "outputs": [
    {
     "name": "stdout",
     "output_type": "stream",
     "text": [
      "Job <732612> is submitted to default queue <lowpriority>.\n"
     ]
    }
   ],
   "source": [
    "#QC Guppy_duplex\n",
    "bsub -J minqct  -o $WKDIR/log/minqct.out -e $WKDIR/log/minqct.err -n 1 \\\n",
    "\"Rscript /workspace/hraijc/git_clones/MinIONQC.R -i ${BASECALLDIR}/final/duplex/sequencing_summary.txt -o ${QCDIR}/ONT_QC_GuppyV6_duplex -c TRUE\"\n"
   ]
  },
  {
   "cell_type": "code",
   "execution_count": 17,
   "id": "c51c912b-e38a-43e7-9d76-3ec5eef08b93",
   "metadata": {},
   "outputs": [
    {
     "name": "stdout",
     "output_type": "stream",
     "text": [
      "Job <732613> is submitted to default queue <lowpriority>.\n"
     ]
    }
   ],
   "source": [
    "#QC Guppy_simplex\n",
    "bsub -J minqct2 -o $WKDIR/log/minqct2.out -e $WKDIR/log/minqct2.err -n 1 \\\n",
    "\"Rscript /workspace/hraijc/git_clones/MinIONQC.R -i ${BASECALLDIR}/final/simplex/sequencing_summary.txt -o ${QCDIR}/ONT_QC_GuppyV6_simplex -c TRUE\"\n",
    "\n"
   ]
  },
  {
   "cell_type": "code",
   "execution_count": 6,
   "id": "145717c6-e213-4d7d-8884-7fcf56ea8474",
   "metadata": {},
   "outputs": [
    {
     "name": "stdout",
     "output_type": "stream",
     "text": [
      "Job <732607> is submitted to default queue <lowpriority>.\n",
      "<<Waiting for dispatch ...>>\n",
      "<<Starting on aklppg34>>\n"
     ]
    }
   ],
   "source": [
    "bsub -I \"cat ${BASECALLDIR}/final/simplex/sequencing_summary.txt >> ${BASECALLDIR}/sim_dup_seq_sum.txt\""
   ]
  },
  {
   "cell_type": "code",
   "execution_count": 5,
   "id": "84a74ef9-aeb2-4a22-8758-0e63a7c18521",
   "metadata": {},
   "outputs": [],
   "source": []
  },
  {
   "cell_type": "code",
   "execution_count": 3,
   "id": "07360ed9-5673-419f-b519-733a78328c03",
   "metadata": {},
   "outputs": [
    {
     "name": "stdout",
     "output_type": "stream",
     "text": [
      "80721 /workspace/hraijc/BB_M7xNui_Assembly/GuppyV6_basecalling/final/duplex/sequencing_summary.txt\n"
     ]
    }
   ],
   "source": [
    "wc -l ${BASECALLDIR}/final/duplex/sequencing_summary.txt"
   ]
  },
  {
   "cell_type": "code",
   "execution_count": 7,
   "id": "1bede118-d349-4ebc-9116-398df948f08c",
   "metadata": {},
   "outputs": [
    {
     "name": "stdout",
     "output_type": "stream",
     "text": [
      "Job <732608> is submitted to default queue <lowpriority>.\n",
      "<<Waiting for dispatch ...>>\n",
      "<<Starting on aklppg34>>\n"
     ]
    }
   ],
   "source": [
    "bsub -I \"tail -n 80720 ${BASECALLDIR}/final/duplex/sequencing_summary.txt >> ${BASECALLDIR}/sim_dup_seq_sum.txt\""
   ]
  },
  {
   "cell_type": "code",
   "execution_count": 10,
   "id": "6eb7e6bb-3f8b-46b8-8781-1cfb035e6784",
   "metadata": {},
   "outputs": [
    {
     "name": "stdout",
     "output_type": "stream",
     "text": [
      "Job <732611> is submitted to default queue <lowpriority>.\n",
      "<<Waiting for dispatch ...>>\n",
      "<<Starting on wkoppb43>>\n",
      "filename\tread_id\trun_id\tbatch_id\tchannel\tmux\tstart_time\tduration\tnum_events\tpasses_filtering\ttemplate_start\tnum_events_template\ttemplate_duration\tsequence_length_template\tmean_qscore_template\tstrand_score_template\tmedian_template\tmad_template\tscaling_median_template\tscaling_mad_template\n"
     ]
    }
   ],
   "source": [
    "bsub -I \"grep 'filename' ${BASECALLDIR}/sim_dup_seq_sum.txt\""
   ]
  },
  {
   "cell_type": "code",
   "execution_count": 18,
   "id": "59035031-5c19-4ec5-bd2b-dbef7a4004c9",
   "metadata": {},
   "outputs": [
    {
     "name": "stdout",
     "output_type": "stream",
     "text": [
      "Job <732614> is submitted to default queue <lowpriority>.\n"
     ]
    }
   ],
   "source": [
    "#QC Guppy_duplex+Guppy_Simplex\n",
    "bsub -J minqct3 -o $WKDIR/log/minqct3.out -e $WKDIR/log/minqct3.err -n 1 \\\n",
    "\"Rscript /workspace/hraijc/git_clones/MinIONQC.R -i ${BASECALLDIR}/sim_dup_seq_sum.txt -o ${QCDIR}/ONT_QC_GuppyV6_simplexduplex -c TRUE\"\n"
   ]
  },
  {
   "cell_type": "code",
   "execution_count": 24,
   "id": "45a28d48-41bb-4e5f-8d55-f45bcda9b3ef",
   "metadata": {},
   "outputs": [],
   "source": [
    "module unload R/4.0.0\n",
    "module unload pfr-python3"
   ]
  },
  {
   "cell_type": "markdown",
   "id": "1b41e930-ca68-4134-a08e-be4125c7b059",
   "metadata": {},
   "source": [
    "### Using PycoQC"
   ]
  },
  {
   "cell_type": "code",
   "execution_count": 31,
   "id": "f2059829-cef9-4cff-8639-3857569b4df5",
   "metadata": {},
   "outputs": [],
   "source": [
    "ml load pycoqc"
   ]
  },
  {
   "cell_type": "code",
   "execution_count": 32,
   "id": "73ceb800-c899-4c58-82af-c728cd77db4f",
   "metadata": {},
   "outputs": [
    {
     "name": "stdout",
     "output_type": "stream",
     "text": [
      "Job <732681> is submitted to default queue <lowpriority>.\n"
     ]
    }
   ],
   "source": [
    "bsub -J pycoQC -o $WKDIR/log/pycoQC.out -e $WKDIR/log/pycoQC.err -n 1 \\\n",
    "\"pycoQC -f ${BASECALLDIR}/final/simplex/sequencing_summary.txt ${BASECALLDIR}/final/duplex/sequencing_summary.txt \\\n",
    "    -o ${QCDIR}/BB_M7xNui_ONTreport_GuppyV6Duplex.html \\\n",
    "    --report_title 'BB_M7xNui_GuppyV6Duplex' \\\n",
    "    --min_pass_qual 10\" \n"
   ]
  },
  {
   "cell_type": "code",
   "execution_count": 27,
   "id": "d82457be-cf12-4095-9254-add6b1c181e1",
   "metadata": {},
   "outputs": [
    {
     "name": "stdout",
     "output_type": "stream",
     "text": [
      "Job <732616> is submitted to default queue <lowpriority>.\n"
     ]
    }
   ],
   "source": [
    "bsub -J pycoQC2 -o $WKDIR/log/pycoQC2.out -e $WKDIR/log/pycoQC2.err -n 1 \\\n",
    "\"pycoQC -f ${BASECALLDIR}/final/duplex/sequencing_summary.txt -o ${QCDIR}/BB_M7xNui_ONTreport_GuppyV6_DuplexONLY.html --report_title 'BB_M7xNui_GuppyV6_DuplexONLY' --min_pass_qual 10\" \n"
   ]
  },
  {
   "cell_type": "code",
   "execution_count": null,
   "id": "845cfec0-d6eb-474e-9830-49b56781590c",
   "metadata": {},
   "outputs": [],
   "source": []
  },
  {
   "cell_type": "code",
   "execution_count": null,
   "id": "ee185ab7-932f-4dcf-87af-4d0a7d233bea",
   "metadata": {},
   "outputs": [],
   "source": []
  },
  {
   "cell_type": "code",
   "execution_count": null,
   "id": "b94b61d1-c267-4ec6-83a0-44702ce6789a",
   "metadata": {},
   "outputs": [],
   "source": []
  }
 ],
 "metadata": {
  "kernelspec": {
   "display_name": "Bash",
   "language": "bash",
   "name": "bash"
  },
  "language_info": {
   "codemirror_mode": "shell",
   "file_extension": ".sh",
   "mimetype": "text/x-sh",
   "name": "bash"
  }
 },
 "nbformat": 4,
 "nbformat_minor": 5
}
