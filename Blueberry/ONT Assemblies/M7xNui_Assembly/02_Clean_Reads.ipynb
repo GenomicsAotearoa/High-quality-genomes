{
 "cells": [
  {
   "cell_type": "markdown",
   "id": "f7f2dd14-6d1b-412c-88fb-70d15b347e5d",
   "metadata": {},
   "source": [
    "## Remove low quality and short reads"
   ]
  },
  {
   "cell_type": "code",
   "execution_count": 5,
   "id": "0292bcdf-64dc-46c2-b833-77c11db9d5b1",
   "metadata": {},
   "outputs": [],
   "source": [
    "WKDIR=/workspace/hraijc/BB_M7xNui_Assembly/02_cleanReads\n",
    "DUPLEXIN=/workspace/hraijc/BB_M7xNui_Assembly/GuppyV6_basecalling/final/duplex/pass/duplex.fastq\n",
    "SIMPLEXIN=/workspace/hraijc/BB_M7xNui_Assembly/GuppyV6_basecalling/final/simplex/pass/simplex.fastq\n",
    "DUPLEXOUT=${WKDIR}/M7xNui_duplex_clean.fastq\n",
    "SIMPLEXOUT=${WKDIR}/M7xNui_simplex_clean.fastq\n",
    "LENCUTOFF=2000\n",
    "LENCUTOFF5k=5000\n",
    "QUALCUTOFF=10\n",
    "ALL=${WKDIR}/M7xNui_all_clean.fastq\n",
    "ALL5k=${WKDIR}/M7xNui_min5k_clean.fastq"
   ]
  },
  {
   "cell_type": "code",
   "execution_count": 3,
   "id": "691b856b-dc9d-4a23-8311-93cab9352cac",
   "metadata": {
    "tags": []
   },
   "outputs": [],
   "source": [
    "mkdir -p $WKDIR/log"
   ]
  },
  {
   "cell_type": "code",
   "execution_count": 6,
   "id": "49c0a43c-7dac-49d0-b4fa-e5a480b06f20",
   "metadata": {},
   "outputs": [],
   "source": [
    "cd $WKDIR"
   ]
  },
  {
   "cell_type": "code",
   "execution_count": 4,
   "id": "b0308589-3fdd-44a2-81f7-79fc57ad278c",
   "metadata": {},
   "outputs": [],
   "source": [
    "module load seqkit\n",
    "module load nanopack"
   ]
  },
  {
   "cell_type": "code",
   "execution_count": 4,
   "id": "8e9d991b-98e8-4dd5-a61f-8cff3c4b4125",
   "metadata": {},
   "outputs": [
    {
     "name": "stdout",
     "output_type": "stream",
     "text": [
      "Job <741866> is submitted to default queue <lowpriority>.\n"
     ]
    }
   ],
   "source": [
    "bsub -J cat1  -o $WKDIR/log/cat1.out -e $WKDIR/log/cat1.err -n 2 \\\n",
    "\"cat /workspace/hraijc/BB_M7xNui_Assembly/GuppyV6_basecalling/final/duplex/pass/*.fastq > ${DUPLEXIN}\""
   ]
  },
  {
   "cell_type": "code",
   "execution_count": 5,
   "id": "d0616450-e8ce-43f2-babf-ab1079d8f038",
   "metadata": {},
   "outputs": [
    {
     "name": "stdout",
     "output_type": "stream",
     "text": [
      "Job <741867> is submitted to default queue <lowpriority>.\n"
     ]
    }
   ],
   "source": [
    "bsub -J cat2  -o $WKDIR/log/cat2.out -e $WKDIR/log/cat2.err -n 2 \\\n",
    "\"cat /workspace/hraijc/BB_M7xNui_Assembly/GuppyV6_basecalling/final/simplex/pass/*.fastq > ${SIMPLEXIN}\""
   ]
  },
  {
   "cell_type": "code",
   "execution_count": null,
   "id": "4642c157-2815-45ac-bbb1-5db036337de6",
   "metadata": {},
   "outputs": [],
   "source": []
  },
  {
   "cell_type": "code",
   "execution_count": 4,
   "id": "396cc85a-2c7a-40b4-8396-3d7d921bf5fd",
   "metadata": {},
   "outputs": [
    {
     "name": "stdout",
     "output_type": "stream",
     "text": [
      "Job <748065> is submitted to default queue <lowpriority>.\n"
     ]
    }
   ],
   "source": [
    "bsub -J nanopack1  -o $WKDIR/log/nanopack1.out -e $WKDIR/log/nanopack1.err -n 2 \\\n",
    "\"NanoFilt -q ${QUALCUTOFF} -l ${LENCUTOFF} ${SIMPLEXIN} > ${SIMPLEXOUT}\""
   ]
  },
  {
   "cell_type": "code",
   "execution_count": 5,
   "id": "302024a0-06be-4ff4-b044-7f6dd20fce03",
   "metadata": {},
   "outputs": [
    {
     "name": "stdout",
     "output_type": "stream",
     "text": [
      "Job <748066> is submitted to default queue <lowpriority>.\n"
     ]
    }
   ],
   "source": [
    "bsub -J nanopack2  -o $WKDIR/log/nanopack2.out -e $WKDIR/log/nanopack2.err -n 2 \\\n",
    "\"NanoFilt -q ${QUALCUTOFF} -l ${LENCUTOFF} ${DUPLEXIN} > ${DUPLEXOUT}\""
   ]
  },
  {
   "cell_type": "code",
   "execution_count": 6,
   "id": "c8d102ba-d194-4737-963f-5897ce6dcb86",
   "metadata": {},
   "outputs": [
    {
     "name": "stdout",
     "output_type": "stream",
     "text": [
      "Job <749010> is submitted to default queue <lowpriority>.\n",
      "<<Waiting for dispatch ...>>\n",
      "<<Starting on wkoppb44>>\n"
     ]
    }
   ],
   "source": [
    "#combine reads into all.fastq file\n",
    "bsub -I \"cat ${DUPLEXOUT} ${SIMPLEXOUT} > ${ALL}\""
   ]
  },
  {
   "cell_type": "code",
   "execution_count": 7,
   "id": "49cf072a-e815-4bda-949d-599f75f9debc",
   "metadata": {},
   "outputs": [
    {
     "name": "stdout",
     "output_type": "stream",
     "text": [
      "Job <750251> is submitted to default queue <lowpriority>.\n"
     ]
    }
   ],
   "source": [
    "bsub -J nanopack3  -o $WKDIR/log/nanopack3.out -e $WKDIR/log/nanopack3.err -n 2 \\\n",
    "\"NanoFilt -l ${LENCUTOFF5k} ${ALL} > ${ALL5k}\""
   ]
  },
  {
   "cell_type": "code",
   "execution_count": null,
   "id": "d69bb5b1-88d4-4e3c-b9ef-aa8e21a5bbb1",
   "metadata": {},
   "outputs": [],
   "source": [
    "#QC"
   ]
  },
  {
   "cell_type": "code",
   "execution_count": 7,
   "id": "a07d20c7-b61f-4157-9f26-25d04c5b187b",
   "metadata": {},
   "outputs": [
    {
     "name": "stdout",
     "output_type": "stream",
     "text": [
      "Job <749012> is submitted to default queue <lowpriority>.\n"
     ]
    }
   ],
   "source": [
    "bsub -J SIMPLEXIN  -o $WKDIR/log/SIMPLEXIN.out -e $WKDIR/log/SIMPLEXIN.err -n 1 \\\n",
    "\"seqkit stats -j 1 ${SIMPLEXIN}\""
   ]
  },
  {
   "cell_type": "code",
   "execution_count": 8,
   "id": "2de0520a-0fc2-4cd6-88da-da9a6c455d94",
   "metadata": {},
   "outputs": [
    {
     "name": "stdout",
     "output_type": "stream",
     "text": [
      "Job <749013> is submitted to default queue <lowpriority>.\n"
     ]
    }
   ],
   "source": [
    "bsub -J SIMPLEXOUT  -o $WKDIR/log/SIMPLEXOUT.out -e $WKDIR/log/SIMPLEXOUT.err -n 1 \\\n",
    "\"seqkit stats -j 1 ${SIMPLEXOUT}\""
   ]
  },
  {
   "cell_type": "code",
   "execution_count": 9,
   "id": "39191cc5-85f1-400a-b1f4-88aec48102e1",
   "metadata": {},
   "outputs": [
    {
     "name": "stdout",
     "output_type": "stream",
     "text": [
      "Job <749014> is submitted to default queue <lowpriority>.\n"
     ]
    }
   ],
   "source": [
    "bsub -J DUPLEXIN  -o $WKDIR/log/DUPLEXIN.out -e $WKDIR/log/DUPLEXIN.err -n 1 \\\n",
    "\"seqkit stats -j 1 ${DUPLEXIN}\""
   ]
  },
  {
   "cell_type": "code",
   "execution_count": 10,
   "id": "d2230820-9f6b-4b5e-a3dc-2eaabf0a2691",
   "metadata": {},
   "outputs": [
    {
     "name": "stdout",
     "output_type": "stream",
     "text": [
      "Job <749015> is submitted to default queue <lowpriority>.\n"
     ]
    }
   ],
   "source": [
    "bsub -J DUPLEXOUT  -o $WKDIR/log/DUPLEXOUT.out -e $WKDIR/log/DUPLEXOUT.err -n 1 \\\n",
    "\"seqkit stats -j 1 ${DUPLEXOUT}\""
   ]
  },
  {
   "cell_type": "code",
   "execution_count": 11,
   "id": "9d5c3997-30d3-4258-affa-2de1f677e5fc",
   "metadata": {},
   "outputs": [
    {
     "name": "stdout",
     "output_type": "stream",
     "text": [
      "Job <749016> is submitted to default queue <lowpriority>.\n"
     ]
    }
   ],
   "source": [
    "bsub -J ALL  -o $WKDIR/log/ALL.out -e $WKDIR/log/ALL.err -n 1 \\\n",
    "\"seqkit stats -j 1 ${ALL}\""
   ]
  },
  {
   "cell_type": "code",
   "execution_count": 8,
   "id": "61808ec6-f3b8-4ed7-b1c9-98cb44bfda08",
   "metadata": {},
   "outputs": [
    {
     "name": "stdout",
     "output_type": "stream",
     "text": [
      "Job <751452> is submitted to default queue <lowpriority>.\n"
     ]
    }
   ],
   "source": [
    "bsub -J 5k  -o $WKDIR/log/5k.out -e $WKDIR/log/5k.err -n 1 \\\n",
    "\"seqkit stats -j 1 ${ALL5k}\""
   ]
  },
  {
   "cell_type": "code",
   "execution_count": null,
   "id": "562c89da-14d0-4a00-83f5-89615134b68c",
   "metadata": {},
   "outputs": [],
   "source": [
    "#######"
   ]
  }
 ],
 "metadata": {
  "kernelspec": {
   "display_name": "Bash",
   "language": "bash",
   "name": "bash"
  },
  "language_info": {
   "codemirror_mode": "shell",
   "file_extension": ".sh",
   "mimetype": "text/x-sh",
   "name": "bash"
  }
 },
 "nbformat": 4,
 "nbformat_minor": 5
}
