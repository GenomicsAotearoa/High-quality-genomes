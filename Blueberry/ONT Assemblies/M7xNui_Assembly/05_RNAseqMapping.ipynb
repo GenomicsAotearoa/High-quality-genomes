{
 "cells": [
  {
   "cell_type": "code",
   "execution_count": null,
   "id": "cc0456b9-625e-4cf8-b131-8fa7e04544be",
   "metadata": {},
   "outputs": [],
   "source": []
  },
  {
   "cell_type": "code",
   "execution_count": null,
   "id": "b446e241-a227-4dd1-81f7-bce3dd7849b4",
   "metadata": {},
   "outputs": [],
   "source": [
    "WKDIR=/workspace/hraijc/Blueberry/Blueberry_trio/QTL_Minning\n",
    "LOGDIR=/workspace/hraijc/Blueberry/Blueberry_trio/log\n",
    "\n",
    "\n",
    "VCAE_TARGETS=${WKDIR}/AnthoQTL_Vcae.fasta\n",
    "VCAE_REGION=${WKDIR}/VcaeV1.3.p0.region8-9mb.fa\n",
    "HAPLOTYPE_DIR=/workspace/hraijc/Blueberry/Blueberry_trio/phased_QC\n",
    "\n",
    "cd $WKDIR"
   ]
  },
  {
   "cell_type": "code",
   "execution_count": null,
   "id": "e1f5ec3a-cafa-40a0-a45a-abcba27fc273",
   "metadata": {},
   "outputs": [],
   "source": [
    "cd $WKDIR\n",
    "# Symlink Chen's assemblies into my workspace.\n",
    "for FILE in /workspace/hraczw/github/bioinf_blueberry_trio/*.fa\n",
    "    do\n",
    "    ln -s $FILE\n",
    "done"
   ]
  },
  {
   "cell_type": "code",
   "execution_count": null,
   "id": "78de9639-1f1b-4410-ba78-f6cad507925e",
   "metadata": {},
   "outputs": [],
   "source": []
  }
 ],
 "metadata": {
  "kernelspec": {
   "display_name": "Bash",
   "language": "bash",
   "name": "bash"
  },
  "language_info": {
   "codemirror_mode": "shell",
   "file_extension": ".sh",
   "mimetype": "text/x-sh",
   "name": "bash"
  }
 },
 "nbformat": 4,
 "nbformat_minor": 5
}
