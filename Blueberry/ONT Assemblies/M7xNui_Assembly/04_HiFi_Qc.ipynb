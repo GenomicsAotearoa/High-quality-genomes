{
 "cells": [
  {
   "cell_type": "markdown",
   "id": "4b3175a0-1515-447d-8612-fd7416c2db3f",
   "metadata": {},
   "source": [
    "## Run Info\n",
    "HiFi run was done at Washington University through Neogen.\n",
    "\n",
    "Two SMRTcells were run. \n",
    "\n"
   ]
  },
  {
   "cell_type": "code",
   "execution_count": 10,
   "id": "b27f0585-8ba0-4642-9fcb-cc8234af7868",
   "metadata": {},
   "outputs": [],
   "source": [
    "WKDIR=/workspace/hraijc/Blueberry/BB_M7xNui_Assembly/04_HiFi_qc\n",
    "IN1=/input/genomic/plant/Vaccinium/corymbosum/ExperimentRequestor10969_NuixM7_TrioBin/Blueberry_M7xNui/SMRTcell1/CCS_Data/m64136_221113_041854.hifi_reads.fastq.gz\n",
    "IN2=/input/genomic/plant/Vaccinium/corymbosum/ExperimentRequestor10969_NuixM7_TrioBin/Blueberry_M7xNui/SMRTcell2/CCS_Data/m64136_221114_133241.hifi_reads.fastq.gz\n",
    "SUB1=${WKDIR}/Cell1_100k_reads.fq\n",
    "SUB2=${WKDIR}/Cell2_100k_reads.fq"
   ]
  },
  {
   "cell_type": "code",
   "execution_count": 11,
   "id": "093ade92-0f48-42d1-8ea4-19ddad2c09a8",
   "metadata": {},
   "outputs": [],
   "source": [
    "mkdir -p $WKDIR/log"
   ]
  },
  {
   "cell_type": "code",
   "execution_count": 12,
   "id": "68142ba7-8f68-4d25-b8ae-37267bd2d5d6",
   "metadata": {},
   "outputs": [],
   "source": [
    "cd $WKDIR"
   ]
  },
  {
   "cell_type": "code",
   "execution_count": 14,
   "id": "23d32c88-9cb3-4f24-931f-fc0e44dcd89d",
   "metadata": {},
   "outputs": [
    {
     "name": "stdout",
     "output_type": "stream",
     "text": [
      "Submitted batch job 818733\n"
     ]
    }
   ],
   "source": [
    "#Subsample 100k reads from each flowcell and run fastqc.\n",
    "\n",
    "sbatch << EOF\n",
    "#!/bin/bash\n",
    "#SBATCH -J SubsampleReads\n",
    "#SBATCH -o ${WKDIR}/log/%J.out\n",
    "#SBATCH -e ${WKDIR}/log/%J.err\n",
    "#SBATCH --cpus-per-task=1\n",
    "#SBATCH --mem=4G\n",
    "#SBATCH --time=3:00:00\n",
    "\n",
    "module load seqtk\n",
    "module load FastQC/0.11.7\n",
    "\n",
    "seqtk sample -s100 $IN1 100000 > $SUB1\n",
    "seqtk sample -s100 $IN2 100000 > $SUB2\n",
    "\n",
    "fastqc --java \"/usr/bin/java -Xmx4G\" $SUB1\n",
    "fastqc --java \"/usr/bin/java -Xmx4G\" $SUB2\n",
    "\n",
    "EOF\n"
   ]
  },
  {
   "cell_type": "code",
   "execution_count": null,
   "id": "9ef23a19-0aba-4cf1-83d8-f767ddcbc7cf",
   "metadata": {},
   "outputs": [],
   "source": []
  },
  {
   "cell_type": "code",
   "execution_count": null,
   "id": "8266bba6-b5ba-42e2-a0db-0852d0dbbf35",
   "metadata": {},
   "outputs": [],
   "source": []
  },
  {
   "cell_type": "code",
   "execution_count": null,
   "id": "d30ead9f-130c-4997-90c1-c8623f8f9dbc",
   "metadata": {},
   "outputs": [],
   "source": []
  },
  {
   "cell_type": "code",
   "execution_count": null,
   "id": "504170b6-89e9-4848-b36f-7e5d0713522a",
   "metadata": {},
   "outputs": [],
   "source": []
  },
  {
   "cell_type": "code",
   "execution_count": null,
   "id": "976b8594-7bf6-4b7c-9ad0-49c49f4fab85",
   "metadata": {},
   "outputs": [],
   "source": []
  }
 ],
 "metadata": {
  "kernelspec": {
   "display_name": "Bash",
   "language": "bash",
   "name": "bash"
  },
  "language_info": {
   "codemirror_mode": "shell",
   "file_extension": ".sh",
   "mimetype": "text/x-sh",
   "name": "bash"
  }
 },
 "nbformat": 4,
 "nbformat_minor": 5
}
