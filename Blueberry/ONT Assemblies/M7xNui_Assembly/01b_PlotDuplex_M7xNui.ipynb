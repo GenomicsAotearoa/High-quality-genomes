{
 "cells": [
  {
   "cell_type": "code",
   "execution_count": null,
   "id": "9d6b9094-3005-4188-b142-9f275caf2061",
   "metadata": {},
   "outputs": [],
   "source": []
  },
  {
   "cell_type": "code",
   "execution_count": 1,
   "id": "dbed6112-293c-4f44-b6c4-ad3ca418fd33",
   "metadata": {},
   "outputs": [],
   "source": [
    "library(ggplot2)"
   ]
  },
  {
   "cell_type": "code",
   "execution_count": 2,
   "id": "7df46324-33a0-4785-855c-e28c571bd6e3",
   "metadata": {},
   "outputs": [],
   "source": [
    "sim<-read.csv(file = \"/workspace/hraijc/BB_M7xNui_Assembly/GuppyV6_basecalling/final/simplex/sequencing_summary.txt\", sep= \"\\t\")"
   ]
  },
  {
   "cell_type": "code",
   "execution_count": 3,
   "id": "61281eca-237f-4d5b-9771-951e7255e25d",
   "metadata": {},
   "outputs": [],
   "source": [
    "dup<-read.csv(file = \"/workspace/hraijc/BB_M7xNui_Assembly/GuppyV6_basecalling/final/duplex/sequencing_summary.txt\", sep= \"\\t\")"
   ]
  },
  {
   "cell_type": "code",
   "execution_count": 4,
   "id": "bbef8b58-f754-495e-aae3-1a4733b428fa",
   "metadata": {},
   "outputs": [
    {
     "data": {
      "text/html": [
       "<style>\n",
       ".list-inline {list-style: none; margin:0; padding: 0}\n",
       ".list-inline>li {display: inline-block}\n",
       ".list-inline>li:not(:last-child)::after {content: \"\\00b7\"; padding: 0 .5ex}\n",
       "</style>\n",
       "<ol class=list-inline><li>5.43577</li><li>7.444854</li><li>7.908915</li><li>7.156173</li><li>6.075637</li><li>6.871615</li></ol>\n"
      ],
      "text/latex": [
       "\\begin{enumerate*}\n",
       "\\item 5.43577\n",
       "\\item 7.444854\n",
       "\\item 7.908915\n",
       "\\item 7.156173\n",
       "\\item 6.075637\n",
       "\\item 6.871615\n",
       "\\end{enumerate*}\n"
      ],
      "text/markdown": [
       "1. 5.43577\n",
       "2. 7.444854\n",
       "3. 7.908915\n",
       "4. 7.156173\n",
       "5. 6.075637\n",
       "6. 6.871615\n",
       "\n",
       "\n"
      ],
      "text/plain": [
       "[1] 5.435770 7.444854 7.908915 7.156173 6.075637 6.871615"
      ]
     },
     "metadata": {},
     "output_type": "display_data"
    }
   ],
   "source": [
    "head(sim$mean_qscore_template)"
   ]
  },
  {
   "cell_type": "code",
   "execution_count": 5,
   "id": "b226af42-b256-4710-a16b-ff26238d3720",
   "metadata": {},
   "outputs": [],
   "source": [
    "sim$ReadType <- \"Simplex\"\n"
   ]
  },
  {
   "cell_type": "code",
   "execution_count": 6,
   "id": "04cd0863-8782-4402-82ac-52bc432192cf",
   "metadata": {},
   "outputs": [],
   "source": [
    "dup$ReadType <- \"Duplex\""
   ]
  },
  {
   "cell_type": "code",
   "execution_count": 7,
   "id": "1c84092b-fa78-4543-9637-ee059bde00e1",
   "metadata": {},
   "outputs": [],
   "source": [
    "dup2 <- cbind(dup$read_id, dup$mean_qscore_template, dup$ReadType)"
   ]
  },
  {
   "cell_type": "code",
   "execution_count": 8,
   "id": "a5c3a595-866b-4514-b7e9-03febb2e9131",
   "metadata": {},
   "outputs": [],
   "source": [
    "sim2 <- cbind(sim$read_id, sim$mean_qscore_template, sim$ReadType)"
   ]
  },
  {
   "cell_type": "code",
   "execution_count": 9,
   "id": "400341e0-6d0b-411c-9545-d5bb5f90cebb",
   "metadata": {},
   "outputs": [],
   "source": [
    "m <- rbind(sim2, dup2)"
   ]
  },
  {
   "cell_type": "code",
   "execution_count": 10,
   "id": "d3e47ce6-02ec-45ff-9b65-df8d1bfc8532",
   "metadata": {},
   "outputs": [],
   "source": [
    "colnames(m) <- c(\"read_id\", \"mean_qscore\", \"read_type\")"
   ]
  },
  {
   "cell_type": "code",
   "execution_count": 11,
   "id": "d17ca6a6-fb2b-48cc-b763-b11cb4963ace",
   "metadata": {},
   "outputs": [],
   "source": [
    "GuppyV6 <-as.data.frame(m)"
   ]
  },
  {
   "cell_type": "code",
   "execution_count": 12,
   "id": "3e117c73-f5f0-4fe9-a545-ddf8960d6a89",
   "metadata": {},
   "outputs": [],
   "source": [
    "GuppyV6$mean_qscore <- as.integer(GuppyV6$mean_qscore)"
   ]
  },
  {
   "cell_type": "code",
   "execution_count": 13,
   "id": "f937cf23-1861-4cba-a24c-b6e1e88af562",
   "metadata": {},
   "outputs": [
    {
     "data": {
      "text/html": [
       "<table>\n",
       "<caption>A data.frame: 6 × 3</caption>\n",
       "<thead>\n",
       "\t<tr><th></th><th scope=col>read_id</th><th scope=col>mean_qscore</th><th scope=col>read_type</th></tr>\n",
       "\t<tr><th></th><th scope=col>&lt;chr&gt;</th><th scope=col>&lt;int&gt;</th><th scope=col>&lt;chr&gt;</th></tr>\n",
       "</thead>\n",
       "<tbody>\n",
       "\t<tr><th scope=row>1</th><td>c5b0a4fd-e299-4951-a35f-361383c9a364</td><td>5</td><td>Simplex</td></tr>\n",
       "\t<tr><th scope=row>2</th><td>ec5ae63f-3929-4aeb-aed3-cdcb9b71bbf3</td><td>7</td><td>Simplex</td></tr>\n",
       "\t<tr><th scope=row>3</th><td>0b742db7-d6c1-4edb-8de6-f0a6e9187a58</td><td>7</td><td>Simplex</td></tr>\n",
       "\t<tr><th scope=row>4</th><td>d0f31cb3-b4f2-4cf7-a69a-a5651b2f7817</td><td>7</td><td>Simplex</td></tr>\n",
       "\t<tr><th scope=row>5</th><td>3111f322-b9fa-4626-96b2-529ace99b659</td><td>6</td><td>Simplex</td></tr>\n",
       "\t<tr><th scope=row>6</th><td>6951510a-5548-446f-8cb3-80d5f0c3c299</td><td>6</td><td>Simplex</td></tr>\n",
       "</tbody>\n",
       "</table>\n"
      ],
      "text/latex": [
       "A data.frame: 6 × 3\n",
       "\\begin{tabular}{r|lll}\n",
       "  & read\\_id & mean\\_qscore & read\\_type\\\\\n",
       "  & <chr> & <int> & <chr>\\\\\n",
       "\\hline\n",
       "\t1 & c5b0a4fd-e299-4951-a35f-361383c9a364 & 5 & Simplex\\\\\n",
       "\t2 & ec5ae63f-3929-4aeb-aed3-cdcb9b71bbf3 & 7 & Simplex\\\\\n",
       "\t3 & 0b742db7-d6c1-4edb-8de6-f0a6e9187a58 & 7 & Simplex\\\\\n",
       "\t4 & d0f31cb3-b4f2-4cf7-a69a-a5651b2f7817 & 7 & Simplex\\\\\n",
       "\t5 & 3111f322-b9fa-4626-96b2-529ace99b659 & 6 & Simplex\\\\\n",
       "\t6 & 6951510a-5548-446f-8cb3-80d5f0c3c299 & 6 & Simplex\\\\\n",
       "\\end{tabular}\n"
      ],
      "text/markdown": [
       "\n",
       "A data.frame: 6 × 3\n",
       "\n",
       "| <!--/--> | read_id &lt;chr&gt; | mean_qscore &lt;int&gt; | read_type &lt;chr&gt; |\n",
       "|---|---|---|---|\n",
       "| 1 | c5b0a4fd-e299-4951-a35f-361383c9a364 | 5 | Simplex |\n",
       "| 2 | ec5ae63f-3929-4aeb-aed3-cdcb9b71bbf3 | 7 | Simplex |\n",
       "| 3 | 0b742db7-d6c1-4edb-8de6-f0a6e9187a58 | 7 | Simplex |\n",
       "| 4 | d0f31cb3-b4f2-4cf7-a69a-a5651b2f7817 | 7 | Simplex |\n",
       "| 5 | 3111f322-b9fa-4626-96b2-529ace99b659 | 6 | Simplex |\n",
       "| 6 | 6951510a-5548-446f-8cb3-80d5f0c3c299 | 6 | Simplex |\n",
       "\n"
      ],
      "text/plain": [
       "  read_id                              mean_qscore read_type\n",
       "1 c5b0a4fd-e299-4951-a35f-361383c9a364 5           Simplex  \n",
       "2 ec5ae63f-3929-4aeb-aed3-cdcb9b71bbf3 7           Simplex  \n",
       "3 0b742db7-d6c1-4edb-8de6-f0a6e9187a58 7           Simplex  \n",
       "4 d0f31cb3-b4f2-4cf7-a69a-a5651b2f7817 7           Simplex  \n",
       "5 3111f322-b9fa-4626-96b2-529ace99b659 6           Simplex  \n",
       "6 6951510a-5548-446f-8cb3-80d5f0c3c299 6           Simplex  "
      ]
     },
     "metadata": {},
     "output_type": "display_data"
    }
   ],
   "source": [
    "head(GuppyV6)"
   ]
  },
  {
   "cell_type": "code",
   "execution_count": null,
   "id": "75aceeef-b6ce-4cf5-80a1-b4e04b5a14bd",
   "metadata": {},
   "outputs": [],
   "source": []
  },
  {
   "cell_type": "code",
   "execution_count": 14,
   "id": "95864773-4a03-4e40-9d05-50b8cadf4329",
   "metadata": {},
   "outputs": [],
   "source": [
    "density_plot1 <- ggplot(GuppyV6, aes(x=mean_qscore, color=read_type)) +\n",
    "  geom_density(adjust = 2.5) +\n",
    "  theme(legend.position=\"top\") +\n",
    "  xlim(8,40)"
   ]
  },
  {
   "cell_type": "code",
   "execution_count": 15,
   "id": "fbd00d3f-3d84-4f30-a8eb-ddf0b7ae3b9f",
   "metadata": {},
   "outputs": [],
   "source": [
    "score_plot <- ggplot(GuppyV6, aes(x=mean_qscore, color=read_type)) +\n",
    "  geom_freqpoly(bins=35) +\n",
    "  theme(legend.position=\"top\") +\n",
    "  xlim(8,40) +\n",
    "  scale_color_brewer(palette = \"Accent\")"
   ]
  },
  {
   "cell_type": "code",
   "execution_count": 16,
   "id": "cc5849e1-22cb-4a7e-8045-b3ab87f30671",
   "metadata": {},
   "outputs": [
    {
     "name": "stderr",
     "output_type": "stream",
     "text": [
      "Saving 6.67 x 6.67 in image\n",
      "\n",
      "Warning message:\n",
      "\"Removed 620248 rows containing non-finite values (stat_density).\"\n"
     ]
    }
   ],
   "source": [
    "ggsave(plot = density_plot1, filename=\"/workspace/hraijc/BB_M7xNui_Assembly/density_plot.pdf\",)"
   ]
  },
  {
   "cell_type": "code",
   "execution_count": 17,
   "id": "60152c5b-cc0c-4441-9d2a-22edf440704e",
   "metadata": {},
   "outputs": [
    {
     "name": "stderr",
     "output_type": "stream",
     "text": [
      "Saving 6.67 x 6.67 in image\n",
      "\n",
      "Warning message:\n",
      "\"Removed 620248 rows containing non-finite values (stat_bin).\"\n",
      "Warning message:\n",
      "\"Removed 4 row(s) containing missing values (geom_path).\"\n"
     ]
    }
   ],
   "source": [
    "ggsave(plot = score_plot, filename=\"/workspace/hraijc/BB_M7xNui_Assembly/Qscore_M7.png\")"
   ]
  },
  {
   "cell_type": "code",
   "execution_count": null,
   "id": "e76d481e-b023-48be-9002-68e0dcd2206e",
   "metadata": {},
   "outputs": [],
   "source": []
  }
 ],
 "metadata": {
  "kernelspec": {
   "display_name": "R-4.0.0",
   "language": "R",
   "name": "ir4.0.0"
  },
  "language_info": {
   "codemirror_mode": "r",
   "file_extension": ".r",
   "mimetype": "text/x-r-source",
   "name": "R",
   "pygments_lexer": "r",
   "version": "4.0.0"
  }
 },
 "nbformat": 4,
 "nbformat_minor": 5
}
