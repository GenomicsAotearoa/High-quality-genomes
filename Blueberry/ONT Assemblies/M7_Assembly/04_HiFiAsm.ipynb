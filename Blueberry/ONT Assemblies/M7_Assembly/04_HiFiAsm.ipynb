{
 "cells": [
  {
   "cell_type": "markdown",
   "id": "4bffa152-e899-4f7e-befd-ec9a7db90d03",
   "metadata": {},
   "source": [
    "# Hifiasm trial using M7 High quality ONT data"
   ]
  },
  {
   "cell_type": "code",
   "execution_count": 6,
   "id": "c6bd0d2e-2d25-4a88-87ff-678752dfa024",
   "metadata": {},
   "outputs": [],
   "source": [
    "#Define Variables\n",
    "WKDIR=/workspace/hraijc/BB_M7_Assembly/04_Hifiasm\n",
    "READDIR=/workspace/hraijc/BB_M7_Assembly/02_M7_cleanReads\n",
    "DUPLEXREADS=${READDIR}/M7_duplex_clean.fastq\n",
    "ALLQ20READS=${READDIR}/M7_all_clean_Q20.fastq\n",
    "ALLQ15READS=${READDIR}/M7_all_clean_Q15.fastq\n",
    "\n",
    "HIFIASM_20_DIR=${WKDIR}/Hifiasm20\n",
    "HIFIASM_15_DIR=${WKDIR}/Hifiasm15"
   ]
  },
  {
   "cell_type": "code",
   "execution_count": 7,
   "id": "1cd14928-53ce-486c-bea8-9a4bf4959f84",
   "metadata": {},
   "outputs": [],
   "source": [
    "mkdir -p ${WKDIR}/log\n",
    "mkdir ${HIFIASM_20_DIR}\n",
    "mkdir ${HIFIASM_15_DIR}\n"
   ]
  },
  {
   "cell_type": "code",
   "execution_count": 4,
   "id": "afec5d47-2b0e-418f-9b09-6e26774f3341",
   "metadata": {},
   "outputs": [
    {
     "name": "stdout",
     "output_type": "stream",
     "text": [
      "0.16.1-r375\n"
     ]
    }
   ],
   "source": [
    "/workspace/hraijc/git_clones/hifiasm/hifiasm -v"
   ]
  },
  {
   "cell_type": "code",
   "execution_count": 10,
   "id": "f5a76208-5e13-404b-a17d-48490ad89531",
   "metadata": {},
   "outputs": [
    {
     "name": "stdout",
     "output_type": "stream",
     "text": [
      "Job <737711> is submitted to default queue <lowpriority>.\n"
     ]
    }
   ],
   "source": [
    "# Run Hifiasm on all reads with Q >= 15\n",
    "cd $HIFIASM_15_DIR\n",
    "bsub -J Hifiasm15 -o $WKDIR/log/Hifiasm15.out -e $WKDIR/log/Hifiasm15.err -n 25 \\\n",
    "\"/workspace/hraijc/git_clones/hifiasm/hifiasm -o M7_Hifiasm15.asm -t25 --hg-size 600m ${ALLQ15READS} 2> Hifiasm15.log\""
   ]
  },
  {
   "cell_type": "code",
   "execution_count": 8,
   "id": "2ddc5240-cd5b-43ea-ba67-0818cd6a5496",
   "metadata": {},
   "outputs": [
    {
     "name": "stdout",
     "output_type": "stream",
     "text": [
      "Job <737699> is submitted to default queue <lowpriority>.\n"
     ]
    }
   ],
   "source": [
    "# Run Hifiasm on all reads with Q >= 20\n",
    "cd $HIFIASM_20_DIR\n",
    "bsub -J Hifiasm20 -o $WKDIR/log/Hifiasm20.out -e $WKDIR/log/Hifiasm20.err -n 25 \\\n",
    "\"/workspace/hraijc/git_clones/hifiasm/hifiasm -o M7_Hifiasm20.asm -t25 --hg-size 600m ${ALLQ20READS} 2> Hifiasm20.log\""
   ]
  },
  {
   "cell_type": "markdown",
   "id": "e287faa9-2697-451e-ba0f-ab2c5e52bca0",
   "metadata": {},
   "source": [
    "## QC ASSEMBLIES"
   ]
  },
  {
   "cell_type": "code",
   "execution_count": null,
   "id": "3a62fc26-6d8d-4091-bfec-7c0e29f0704b",
   "metadata": {},
   "outputs": [],
   "source": [
    "awk '/^S/{print \">\"$2;print $3}' test.p_ctg.gfa > test.p_ctg.fa\n"
   ]
  },
  {
   "cell_type": "code",
   "execution_count": 8,
   "id": "ab639d8b-dfc7-43b1-968b-ed05c2c0a2ef",
   "metadata": {},
   "outputs": [],
   "source": [
    "awk '/^S/{print \">\"$2;print $3}' /workspace/hraijc/BB_M7_Assembly/04_Hifiasm/Hifiasm15/M7_Hifiasm15.asm.bp.p_ctg.gfa > /workspace/hraijc/BB_M7_Assembly/04_Hifiasm/Hifiasm15/M7_Hifiasm15.asm.bp.p_ctg.fa"
   ]
  },
  {
   "cell_type": "code",
   "execution_count": 5,
   "id": "ee66ff3f-95f8-4c68-bc22-05a3dc77a2f1",
   "metadata": {},
   "outputs": [],
   "source": [
    "awk '/^S/{print \">\"$2;print $3}' /workspace/hraijc/BB_M7_Assembly/04_Hifiasm/Hifiasm20/M7_Hifiasm20.asm.bp.p_ctg.gfa > /workspace/hraijc/BB_M7_Assembly/04_Hifiasm/Hifiasm20/M7_Hifiasm20.asm.bp.p_ctg.fa"
   ]
  },
  {
   "cell_type": "code",
   "execution_count": null,
   "id": "15fd9d61-ab71-4ae9-872b-1126fd320eef",
   "metadata": {},
   "outputs": [],
   "source": []
  },
  {
   "cell_type": "code",
   "execution_count": 9,
   "id": "f48d90b9-d043-4e5f-8f1e-6560eb948d06",
   "metadata": {},
   "outputs": [
    {
     "name": "stdout",
     "output_type": "stream",
     "text": [
      "Job <738216> is submitted to default queue <lowpriority>.\n"
     ]
    }
   ],
   "source": [
    "module load BBMap/38.33\n",
    "bsub -J Hifiasm_QC -o ${WKDIR}/log/Hifiasm_QC.log -e ${WKDIR}/log/Hifiasm_QC.err \\\n",
    "\"statswrapper.sh in=/workspace/hraijc/BB_M7_Assembly/04_Hifiasm/Hifiasm15/M7_Hifiasm15.asm.bp.p_ctg.fa,/workspace/hraijc/BB_M7_Assembly/04_Hifiasm/Hifiasm20/M7_Hifiasm20.asm.bp.p_ctg.fa format=3\"\n",
    "module unload BBMap/38.33"
   ]
  },
  {
   "cell_type": "code",
   "execution_count": null,
   "id": "fcc9c94d-cf26-473e-99dc-729fca7af56f",
   "metadata": {},
   "outputs": [],
   "source": []
  }
 ],
 "metadata": {
  "kernelspec": {
   "display_name": "Bash",
   "language": "bash",
   "name": "bash"
  },
  "language_info": {
   "codemirror_mode": "shell",
   "file_extension": ".sh",
   "mimetype": "text/x-sh",
   "name": "bash"
  }
 },
 "nbformat": 4,
 "nbformat_minor": 5
}
