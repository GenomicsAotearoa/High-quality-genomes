{
 "cells": [
  {
   "attachments": {},
   "cell_type": "markdown",
   "id": "b49d5f21-4fd7-480d-9f08-51b2bff721d6",
   "metadata": {},
   "source": [
    "## Remove low quality and short reads\n",
    "\n",
    "* Using Nanopack Nanofilt tool"
   ]
  },
  {
   "cell_type": "code",
   "execution_count": 1,
   "id": "308bde19-df45-4b72-bf4e-25f4b29f433a",
   "metadata": {},
   "outputs": [],
   "source": [
    "WKDIR=/workspace/hraijc/BB_M7_Assembly/02_cleanReads\n",
    "DUPLEXIN=/workspace/hraijc/BB_M7_Assembly/GuppyV6_duplex_3/final/duplex/pass/duplex.fastq\n",
    "SIMPLEXIN=/workspace/hraijc/BB_M7_Assembly/GuppyV6_duplex_3/final/simplex/pass/simplex.fastq\n",
    "DUPLEXOUT=${WKDIR}/M7_duplex_clean.fastq\n",
    "SIMPLEXOUT=${WKDIR}/M7_simplex_clean.fastq\n",
    "LENCUTOFF=2000\n",
    "QUALCUTOFF=10\n",
    "ALL=${WKDIR}/M7_all_clean.fastq"
   ]
  },
  {
   "cell_type": "code",
   "execution_count": 2,
   "id": "6c7d6586-98fa-4f9a-bf94-91ccc0df80f7",
   "metadata": {
    "tags": []
   },
   "outputs": [],
   "source": [
    "mkdir $WKDIR/log"
   ]
  },
  {
   "cell_type": "code",
   "execution_count": 3,
   "id": "0f4b3f76-5cde-432c-9394-23317d7a7b77",
   "metadata": {},
   "outputs": [
    {
     "name": "stdout",
     "output_type": "stream",
     "text": [
      "Job <729009> is submitted to default queue <lowpriority>.\n"
     ]
    }
   ],
   "source": [
    "bsub -J cat1  -o $WKDIR/log/cat1.out -e $WKDIR/log/cat1.err -n 2 \\\n",
    "\"cat /workspace/hraijc/BB_M7_Assembly/GuppyV6_duplex_3/final/duplex/pass/*.fastq > ${DUPLEXIN}\""
   ]
  },
  {
   "cell_type": "code",
   "execution_count": 4,
   "id": "3b9077b3-8b04-4ee6-88f3-73ebb1090cce",
   "metadata": {},
   "outputs": [
    {
     "name": "stdout",
     "output_type": "stream",
     "text": [
      "Job <729010> is submitted to default queue <lowpriority>.\n"
     ]
    }
   ],
   "source": [
    "bsub -J cat2  -o $WKDIR/log/cat2.out -e $WKDIR/log/cat2.err -n 2 \\\n",
    "\"cat /workspace/hraijc/BB_M7_Assembly/GuppyV6_duplex_3/final/simplex/pass/*.fastq > ${SIMPLEXIN}\""
   ]
  },
  {
   "cell_type": "code",
   "execution_count": null,
   "id": "9c8ee245-d2be-461e-b1b8-42fcfda1fbf5",
   "metadata": {},
   "outputs": [],
   "source": []
  },
  {
   "cell_type": "code",
   "execution_count": 2,
   "id": "fe377cfc-850f-4160-9795-e9d12e515813",
   "metadata": {},
   "outputs": [],
   "source": [
    "module load seqkit\n",
    "module load nanopack"
   ]
  },
  {
   "cell_type": "code",
   "execution_count": 16,
   "id": "ab509b6f-fea1-4ba3-9db1-e3a63bedeb0d",
   "metadata": {},
   "outputs": [
    {
     "name": "stdout",
     "output_type": "stream",
     "text": [
      "Job <729018> is submitted to default queue <lowpriority>.\n"
     ]
    }
   ],
   "source": [
    "bsub -J nanopack1  -o $WKDIR/log/nanopack1.out -e $WKDIR/log/nanopack1.err -n 2 \\\n",
    "\"NanoFilt -q ${QUALCUTOFF} -l ${LENCUTOFF} ${SIMPLEXIN} > ${SIMPLEXOUT}\""
   ]
  },
  {
   "cell_type": "code",
   "execution_count": 17,
   "id": "97241d2b-ee0e-4ac9-9dad-54474718c3c2",
   "metadata": {},
   "outputs": [
    {
     "name": "stdout",
     "output_type": "stream",
     "text": [
      "Job <729019> is submitted to default queue <lowpriority>.\n"
     ]
    }
   ],
   "source": [
    "bsub -J nanopack2  -o $WKDIR/log/nanopack2.out -e $WKDIR/log/nanopack2.err -n 2 \\\n",
    "\"NanoFilt -q ${QUALCUTOFF} -l ${LENCUTOFF} ${DUPLEXIN} > ${DUPLEXOUT}\""
   ]
  },
  {
   "cell_type": "code",
   "execution_count": null,
   "id": "0c6db725-ad63-4b22-9791-81ca69451e5b",
   "metadata": {},
   "outputs": [],
   "source": [
    "##"
   ]
  },
  {
   "cell_type": "code",
   "execution_count": null,
   "id": "dd01ad0c-0d4d-4227-a1c2-9b0a7e6cd391",
   "metadata": {},
   "outputs": [],
   "source": []
  },
  {
   "cell_type": "code",
   "execution_count": null,
   "id": "7fffbf53-8367-4b64-b3b3-793eef5abb5d",
   "metadata": {},
   "outputs": [],
   "source": []
  },
  {
   "cell_type": "code",
   "execution_count": 3,
   "id": "5f865efb-34b8-4886-8be0-deff647d1290",
   "metadata": {},
   "outputs": [
    {
     "name": "stdout",
     "output_type": "stream",
     "text": [
      "Job <729064> is submitted to default queue <lowpriority>.\n",
      "<<Waiting for dispatch ...>>\n",
      "<<Starting on aklppg33>>\n"
     ]
    }
   ],
   "source": [
    "#combine reads into all.fastq file\n",
    "bsub -I \"cat ${DUPLEXOUT} ${SIMPLEXOUT} > ${ALL}\""
   ]
  },
  {
   "cell_type": "code",
   "execution_count": 4,
   "id": "7592e298-048d-4f69-b25f-8844318e25b8",
   "metadata": {},
   "outputs": [
    {
     "name": "stdout",
     "output_type": "stream",
     "text": [
      "Job <729065> is submitted to default queue <lowpriority>.\n"
     ]
    }
   ],
   "source": [
    "bsub -J SIMPLEXIN  -o $WKDIR/log/SIMPLEXIN.out -e $WKDIR/log/SIMPLEXIN.err -n 1 \\\n",
    "\"seqkit stats -j 1 ${SIMPLEXIN}\""
   ]
  },
  {
   "cell_type": "code",
   "execution_count": 5,
   "id": "8732b585-04e5-45ad-8873-29232e20d155",
   "metadata": {},
   "outputs": [
    {
     "name": "stdout",
     "output_type": "stream",
     "text": [
      "Job <729066> is submitted to default queue <lowpriority>.\n"
     ]
    }
   ],
   "source": [
    "bsub -J SIMPLEXOUT  -o $WKDIR/log/SIMPLEXOUT.out -e $WKDIR/log/SIMPLEXOUT.err -n 1 \\\n",
    "\"seqkit stats -j 1 ${SIMPLEXOUT}\""
   ]
  },
  {
   "cell_type": "code",
   "execution_count": 6,
   "id": "8fbaefd2-5f67-4fb1-be7e-c1b9138ba030",
   "metadata": {},
   "outputs": [
    {
     "name": "stdout",
     "output_type": "stream",
     "text": [
      "Job <729067> is submitted to default queue <lowpriority>.\n"
     ]
    }
   ],
   "source": [
    "bsub -J DUPLEXIN  -o $WKDIR/log/DUPLEXIN.out -e $WKDIR/log/DUPLEXIN.err -n 1 \\\n",
    "\"seqkit stats -j 1 ${DUPLEXIN}\""
   ]
  },
  {
   "cell_type": "code",
   "execution_count": 7,
   "id": "e107da9f-4acf-4c40-8405-35953ebaedd2",
   "metadata": {},
   "outputs": [
    {
     "name": "stdout",
     "output_type": "stream",
     "text": [
      "Job <729068> is submitted to default queue <lowpriority>.\n"
     ]
    }
   ],
   "source": [
    "bsub -J DUPLEXOUT  -o $WKDIR/log/DUPLEXOUT.out -e $WKDIR/log/DUPLEXOUT.err -n 1 \\\n",
    "\"seqkit stats -j 1 ${DUPLEXOUT}\""
   ]
  },
  {
   "cell_type": "code",
   "execution_count": 8,
   "id": "54226e48-6757-4c48-80d2-00a7b2f22524",
   "metadata": {},
   "outputs": [
    {
     "name": "stdout",
     "output_type": "stream",
     "text": [
      "Job <729069> is submitted to default queue <lowpriority>.\n"
     ]
    }
   ],
   "source": [
    "bsub -J ALL  -o $WKDIR/log/ALL.out -e $WKDIR/log/ALL.err -n 1 \\\n",
    "\"seqkit stats -j 1 ${ALL}\""
   ]
  },
  {
   "cell_type": "code",
   "execution_count": null,
   "id": "4769f293-f16d-49e2-a1c8-9e09459d2769",
   "metadata": {},
   "outputs": [],
   "source": [
    "#######"
   ]
  },
  {
   "cell_type": "code",
   "execution_count": 8,
   "id": "43698c1a-0f8f-4881-90eb-b7e2799e68ec",
   "metadata": {},
   "outputs": [],
   "source": [
    "WKDIR=/workspace/hraijc/BB_M7_Assembly/02_M7_cleanReads\n",
    "LENCUTOFF=2000\n",
    "QUALCUTOFF=20\n",
    "ALL=${WKDIR}/M7_all_clean.fastq\n",
    "ALL_Q20=${WKDIR}/M7_all_clean_Q20.fastq\n",
    "ALL_Q15=${WKDIR}/M7_all_clean_Q15.fastq"
   ]
  },
  {
   "cell_type": "code",
   "execution_count": 9,
   "id": "9f1208a5-5fb9-40b8-8e4b-e33bb9d29e7d",
   "metadata": {},
   "outputs": [],
   "source": [
    "module load seqkit\n",
    "module load nanopack"
   ]
  },
  {
   "cell_type": "code",
   "execution_count": 3,
   "id": "c7552885-be3f-415f-912c-8c6b284f3000",
   "metadata": {},
   "outputs": [
    {
     "name": "stdout",
     "output_type": "stream",
     "text": [
      "Job <730410> is submitted to default queue <lowpriority>.\n"
     ]
    }
   ],
   "source": [
    "bsub -J nanopack3  -o $WKDIR/log/nanopack3.out -e $WKDIR/log/nanopack3.err -n 2 \\\n",
    "\"NanoFilt -q ${QUALCUTOFF} -l ${LENCUTOFF} ${ALL} > ${ALL_Q20}\""
   ]
  },
  {
   "cell_type": "code",
   "execution_count": 7,
   "id": "88377a9a-512a-4506-9fcf-e1da5dcb6276",
   "metadata": {},
   "outputs": [
    {
     "name": "stdout",
     "output_type": "stream",
     "text": [
      "Job <730414> is submitted to default queue <lowpriority>.\n"
     ]
    }
   ],
   "source": [
    "bsub -J nanopack4  -o $WKDIR/log/nanopack4.out -e $WKDIR/log/nanopack4.err -n 2 \\\n",
    "\"NanoFilt -q 15 -l ${LENCUTOFF} ${ALL} > ${ALL_Q15}\""
   ]
  },
  {
   "cell_type": "code",
   "execution_count": 10,
   "id": "4c10be74-e55e-4af8-b360-72f0863fb47c",
   "metadata": {},
   "outputs": [
    {
     "name": "stdout",
     "output_type": "stream",
     "text": [
      "Job <730531> is submitted to default queue <lowpriority>.\n"
     ]
    }
   ],
   "source": [
    "bsub -J ALL_q20  -o $WKDIR/log/ALL_q20.out -e $WKDIR/log/ALL_q20.err -n 1 \\\n",
    "\"seqkit stats -j 1 ${ALL_Q20}\""
   ]
  },
  {
   "cell_type": "code",
   "execution_count": 11,
   "id": "7e56a584-e5c2-45b6-a65d-96f1e15e840f",
   "metadata": {},
   "outputs": [
    {
     "name": "stdout",
     "output_type": "stream",
     "text": [
      "Job <730532> is submitted to default queue <lowpriority>.\n"
     ]
    }
   ],
   "source": [
    "bsub -J ALL_q15  -o $WKDIR/log/ALL_q15.out -e $WKDIR/log/ALL_q15.err -n 1 \\\n",
    "\"seqkit stats -j 1 ${ALL_Q15}\""
   ]
  },
  {
   "cell_type": "code",
   "execution_count": null,
   "id": "3cd903a9-f811-48a6-8cfb-8889147aa78a",
   "metadata": {},
   "outputs": [],
   "source": []
  }
 ],
 "metadata": {
  "kernelspec": {
   "display_name": "Bash",
   "language": "bash",
   "name": "bash"
  },
  "language_info": {
   "codemirror_mode": "shell",
   "file_extension": ".sh",
   "mimetype": "text/x-sh",
   "name": "bash"
  }
 },
 "nbformat": 4,
 "nbformat_minor": 5
}
