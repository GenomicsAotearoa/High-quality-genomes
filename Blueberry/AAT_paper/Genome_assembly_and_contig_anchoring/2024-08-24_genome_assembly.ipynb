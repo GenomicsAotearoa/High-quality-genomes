{
 "cells": [
  {
   "cell_type": "markdown",
   "id": "66d28805-f5a2-4487-a228-3f046fc6bc7d",
   "metadata": {},
   "source": [
    "# Ran GenomAsm4pg\n",
    "- GenomAsm4pg was mainly developed by Ludovic Duvaux and Sukanya Denni from INRAE institute from France.\n",
    "- Please cite the original gitlab repo from here if you want to publish any results generated from this pipeline: https://forgemia.inra.fr/asm4pg/GenomAsm4pg\n",
    "- PFR contributors for polishing, debugging and testing: Ken Smith, Sarah Bailey & Chen Wu\n",
    "- Other PFR contributors: Usman Rashid, Cecilia Deng, David Chagné & Susan Thomson"
   ]
  },
  {
   "cell_type": "markdown",
   "id": "1cb0043b-51a4-45f1-a1e1-99c8e6590e7d",
   "metadata": {},
   "source": [
    "## GenomAsm4pg config\n",
    "\n",
    "```\n",
    "# absolute/relative path to your desired output path\n",
    "root: /Repo/genome-assembly-pipeline/2023-10-17_blueberry_hybrid\n",
    "\n",
    "####################### optional prejob - data preparation #######################\n",
    "# path to tar data\n",
    "data: test_data\n",
    "# list of tar names\n",
    "get_all_tar_filename: True\n",
    "tarIDS: []\n",
    "\n",
    "####################### job - workflow #######################\n",
    "### CONFIG\n",
    "get_all_filenames: False\n",
    "IDS: [\"classified_Nui_plus_unclassified\", \"classified_M7_plus_unclassified\"]\n",
    "\n",
    "classified_Nui_plus_unclassified:\n",
    "  run: run001\n",
    "  ploidy: 2\n",
    "  busco_lineage: eudicots_odb10\n",
    "  mode: default\n",
    "\n",
    "classified_M7_plus_unclassified:\n",
    "  run: run002\n",
    "  ploidy: 2\n",
    "  busco_lineage: eudicots_odb10\n",
    "  mode: default\n",
    "\n",
    "####################### workflow output directories #######################\n",
    "# results directory\n",
    "resdir: workflow_results\n",
    "\n",
    "### PREJOB\n",
    "# extracted raw data\n",
    "rawdir: 00_raw_data\n",
    "bamdir: 00_raw_data/bam_files\n",
    "fastxdir: 00_raw_data/fastx_files\n",
    "\n",
    "### JOB\n",
    "# QC\n",
    "qcdir: 01_raw_data_QC\n",
    "fqc: 01_fastQC\n",
    "lqc: 02_longQC\n",
    "gentools: 03_genometools\n",
    "kmer: 04_kmer\n",
    "\n",
    "# assembly\n",
    "assembdir: 02_genome_assembly\n",
    "asm_raw: 01_raw_assembly\n",
    "asm_purged: 02_after_purge_dups_assembly\n",
    "asm_conta: 03_uncontaminated_assembly\n",
    "asm: 00_assembly\n",
    "asm_qc: 01_assembly_QC\n",
    "```"
   ]
  },
  {
   "cell_type": "markdown",
   "id": "43d9da8e-bed6-4c6f-ba23-79b6b4f965fc",
   "metadata": {},
   "source": [
    "# Contig construction\n",
    "- ran hifiasm for the reads after classification using trio-binning"
   ]
  },
  {
   "cell_type": "code",
   "execution_count": null,
   "id": "7ce29ef5-fbbc-4c94-be7f-146fe5247d29",
   "metadata": {},
   "outputs": [],
   "source": [
    "# quay.io/biocontainers/hifiasm:0.19.5--h43eeafb_2\n",
    "\n",
    "hifiasm -l3 -o classified_M7_plus_unclassified -t 20 classified_M7_plus_unclassified.fasta.gz\n",
    "hifiasm -l3 -o classified_Nui_plus_unclassified -t 20 classified_Nui_plus_unclassified.fasta.gz"
   ]
  },
  {
   "cell_type": "markdown",
   "id": "07064bb4-215c-4615-a6ef-ea4a67805ffb",
   "metadata": {},
   "source": [
    "# Purging haplotigs\n",
    "- ran for classified_M7_plus_unclassified_hap1.fasta.gz, classified_M7_plus_unclassified_hap2.fasta.gz, classified_Nui_plus_unclassified_hap1.fasta.gz, classified_Nui_plus_unclassified_hap2.fasta.gz\n",
    "- classified_M7_plus_unclassified_hap1.fasta.gz is shown here as an example"
   ]
  },
  {
   "cell_type": "code",
   "execution_count": null,
   "id": "312e07d2-7cde-415c-a201-626b8cc1b07d",
   "metadata": {},
   "outputs": [],
   "source": [
    "### to purge haplotigs in hifiasm assembly\n",
    "# docker://registry.forgemia.inra.fr/asm4pg/genomasm4pg/purge_dups1.2.5\n",
    "indir=classified_M7_plus_unclassified/02_genome_assembly/01_raw_assembly\n",
    "outdir=classified_M7_plus_unclassified/02_genome_assembly/02_after_purge_dups_assembly/00_assembly/classified_M7_plus_unclassified_hap1\n",
    "\n",
    "# coverage assessment\n",
    "minimap2 -xasm20 -t 12 ${indir}/classified_M7_plus_unclassified_hap1.fa.gz classified_M7_plus_unclassified.fasta.gz | gzip -c - > ${outdir}/classified_M7_plus_unclassified_hap1.paf.gz \n",
    "pbcstat $outdir}/classified_M7_plus_unclassified_hap1.paf.gz -O ${outdir} \n",
    "calcuts ${outdir}/PB.stat > ${outdir}/cutoffs 2>${outdir}/calcuts.log\n",
    "\n",
    "# split assembly & self-self alignment\n",
    "split_fa ${indir}/classified_M7_plus_unclassified_hap1.fa.gz > ${outdir}/classified_M7_plus_unclassified_hap1.split\n",
    "minimap2 -xasm5 -t 12 -DP ${outdir}/classified_M7_plus_unclassified_hap1.split ${outdir}/classified_M7_plus_unclassified_hap1.split | gzip -c - > ${outdir}/classified_M7_plus_unclassified_hap1.split.self.paf.gz\n",
    "# purge haplotigs & overlaps\n",
    "purge_dups -2 -T ${outdir}/cutoffs -c ${outdir}/PB.base.cov ${outdir}/classified_M7_plus_unclassified_hap1.split.self.paf.gz > ${outdir}/dups.bed 2> ${outdir}/purge_dups.log\n",
    "# get purged primary and haplotig sequences from draft assembly\n",
    "get_seqs -e ${outdir}/dups.bed ${indir}/classified_M7_plus_unclassified_hap1.fa.gz -p ${outdir}/classified_M7_plus_unclassified_hap1"
   ]
  }
 ],
 "metadata": {
  "kernelspec": {
   "display_name": "Bash",
   "language": "bash",
   "name": "bash"
  },
  "language_info": {
   "codemirror_mode": "shell",
   "file_extension": ".sh",
   "mimetype": "text/x-sh",
   "name": "bash"
  }
 },
 "nbformat": 4,
 "nbformat_minor": 5
}
