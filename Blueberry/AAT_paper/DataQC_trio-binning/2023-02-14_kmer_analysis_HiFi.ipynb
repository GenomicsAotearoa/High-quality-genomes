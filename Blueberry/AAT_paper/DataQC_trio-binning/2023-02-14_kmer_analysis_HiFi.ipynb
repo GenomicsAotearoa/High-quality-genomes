{
 "cells": [
  {
   "cell_type": "markdown",
   "id": "41715b13-8586-42c0-9991-cc416504a697",
   "metadata": {},
   "source": [
    "# Blueberry trio dataQC\n",
    "\n",
    "## HiFi\n",
    "```\n",
    "/input/genomic/plant/Vaccinium/corymbosum/ExperimentRequestor10969_NuixM7_TrioBin/Blueberry_M7xNui/SMRTcell1/CCS_Data\n",
    "/input/genomic/plant/Vaccinium/corymbosum/ExperimentRequestor10969_NuixM7_TrioBin/Blueberry_M7xNui/SMRTcell2/CCS_Data\n",
    "```\n",
    "\n",
    "* kmer analysis (Jellyfish)"
   ]
  },
  {
   "cell_type": "markdown",
   "id": "a1e53f03-9a0d-439f-8c98-f43e9b4cbdf9",
   "metadata": {},
   "source": [
    "# Read set 1+2 : m64136_221113_041854 and m64136_221114_133241"
   ]
  },
  {
   "cell_type": "code",
   "execution_count": null,
   "id": "8f704448",
   "metadata": {
    "vscode": {
     "languageId": "plaintext"
    }
   },
   "outputs": [],
   "source": [
    "# Combining datasets\n",
    "\n",
    "cd /workspace/hraijc/Blueberry/Blueberry_trio/input/hifi\n",
    "ln -s /powerplant/input/genomic/plant/Vaccinium/corymbosum/ExperimentRequestor10969_NuixM7_TrioBin/Blueberry_M7xNui/SMRTcell1/CCS_Data/m64136_221113_041854.hifi_reads.fastq.gz m64136_221113_041854.hifi_reads.fastq.gz\n",
    "ln -s /powerplant/input/genomic/plant/Vaccinium/corymbosum/ExperimentRequestor10969_NuixM7_TrioBin/Blueberry_M7xNui/SMRTcell2/CCS_Data/m64136_221114_133241.hifi_reads.fastq.gz m64136_221114_133241.hifi_reads.fastq.gz\n"
   ]
  },
  {
   "cell_type": "code",
   "execution_count": null,
   "id": "5d059909",
   "metadata": {
    "vscode": {
     "languageId": "plaintext"
    }
   },
   "outputs": [],
   "source": [
    "IN1=/workspace/hraijc/Blueberry/Blueberry_trio/input/hifi/m64136_221113_041854.hifi_reads.fastq.gz\n",
    "IN2=/workspace/hraijc/Blueberry/Blueberry_trio/input/hifi/m64136_221114_133241.hifi_reads.fastq.gz\n",
    "WKDIR=/workspace/hraijc/Blueberry/Blueberry_trio/\n",
    "LOG=${WKDIR}/log\n",
    "\n",
    "\n",
    "\n",
    "# create and submit bash script\n",
    "sbatch << EOF\n",
    "#!/bin/bash -e\n",
    "\n",
    "#SBATCH -J Unzipcat\n",
    "#SBATCH --output=${LOG}/%j.out\n",
    "#SBATCH --error=${LOG}/%j.err\n",
    "#SBATCH --mail-user=ignacio.carvajal@plantandfood.co.nz\n",
    "#SBATCH --mail-type=ALL\n",
    "#SBATCH --time=01:00:00 # Walltime\n",
    "#SBATCH --mem=3G\n",
    "#SBATCH --cpus-per-task=1\n",
    "\n",
    "cd /workspace/hraijc/Blueberry/Blueberry_trio/input/hifi/\n",
    "\n",
    "echo $IN1\n",
    "echo $IN2\n",
    "\n",
    "gunzip -c $IN1 > m64136_221113_041854.hifi_reads.fastq\n",
    "gunzip -c $IN2 > m64136_221114_133241.hifi_reads.fastq\n",
    "\n",
    "cat m64136_221113_041854.hifi_reads.fastq m64136_221114_133241.hifi_reads.fastq > progeny_combinedHiFi.fastq\n",
    "\n",
    "\n",
    "EOF"
   ]
  },
  {
   "cell_type": "markdown",
   "id": "2bc4e203-e41c-4b8e-9325-bbdbef1d2059",
   "metadata": {},
   "source": [
    "### k-mer analysis\n",
    "#### hash size calculation"
   ]
  },
  {
   "cell_type": "code",
   "execution_count": 1,
   "id": "e71d210d-5e41-4797-99a3-e38e551f6586",
   "metadata": {},
   "outputs": [
    {
     "name": "stdout",
     "output_type": "stream",
     "text": [
      "69.10763245000000000000\n",
      "1470756168.87000000000000000000\n"
     ]
    }
   ],
   "source": [
    "read_len=18870 # from nanostat\n",
    "no_seq=2197381 # from nanostat\n",
    "genome_size=600000000\t # from https://github.com/GenomicsAotearoa/High-quality-genomes/tree/main/Blueberry/M7xNui_Assembly\n",
    "error_rate=0.001\n",
    "\n",
    "# estimated coverage\n",
    "cov=$(bc -l <<< \" ( $no_seq * $read_len ) / $genome_size \" )\n",
    "\n",
    "# hash=$genome_size+($genome_size*$cov*$error_rate*21)\n",
    "# Hash size (s) = G + Gcek\n",
    "s=$(bc -l <<< \"$genome_size + ( $genome_size * $cov * $error_rate * 21 )\" )\n",
    "\n",
    "echo $cov \n",
    "echo $s"
   ]
  },
  {
   "cell_type": "markdown",
   "id": "0914196f-35d5-4f83-88df-b7b76a7f3d74",
   "metadata": {},
   "source": [
    "#### Bloom counter"
   ]
  },
  {
   "cell_type": "code",
   "execution_count": 4,
   "id": "d387ce30-2d9c-47c6-bd72-fec965d6dfba",
   "metadata": {},
   "outputs": [
    {
     "name": "stdout",
     "output_type": "stream",
     "text": [
      "Submitted batch job 1039929\n"
     ]
    }
   ],
   "source": [
    "module load jellyfish/2.2.10\n",
    "\n",
    "# set variables for directories\n",
    "WKDIR=/powerplant/workspace/hraijc/Blueberry/Blueberry_trio/kmer_hifi\n",
    "LOG=/powerplant/workspace/hraijc/Blueberry/Blueberry_trio/log\n",
    "\n",
    "\n",
    "# set input file\n",
    "INFILE=/workspace/hraijc/Blueberry/Blueberry_trio/input/hifi/progeny_combinedHiFi.fastq\n",
    "HASH=1500000000\n",
    "BASE=$(basename ${INFILE} .fastq)\n",
    "\n",
    "cd $WKDIR\n",
    "\n",
    "# create and submit bash script\n",
    "sbatch << EOF\n",
    "#!/bin/bash -e\n",
    "\n",
    "#SBATCH -J Jellyfish\n",
    "#SBATCH --output=${LOG}/%j.out\n",
    "#SBATCH --error=${LOG}/%j.err\n",
    "#SBATCH --mail-user=ignacio.carvajal@plantandfood.co.nz\n",
    "#SBATCH --mail-type=ALL\n",
    "#SBATCH --time=06:00:00 # Walltime\n",
    "#SBATCH --mem=12G\n",
    "#SBATCH --cpus-per-task=12\n",
    "\n",
    "pwd\n",
    "\n",
    "echo $INFILE\n",
    "\n",
    "echo ${BASE}.bc\n",
    "\n",
    "# Bloom counter to filter\n",
    "#jellyfish bc -m 21 -s ${HASH} -t 12 -o ${BASE}.bc -C $INFILE \n",
    "\n",
    "# Frequency count\n",
    "jellyfish count -m 21 -s ${HASH} -t 12 --bc ${BASE}.bc -o ${BASE}_21mer_counts.jf -C $INFILE\n",
    "\n",
    "\n",
    "\n",
    "# Generate Histogram\n",
    "jellyfish histo ${BASE}_21mer_counts.jf > ${BASE}_Histogram.out \n",
    "\n",
    "\n",
    "\n",
    "EOF\n",
    "module unload jellyfish"
   ]
  },
  {
   "cell_type": "markdown",
   "id": "9f5e526e-f8b8-4023-81cf-b5166661115d",
   "metadata": {},
   "source": [
    "#### Resource use"
   ]
  },
  {
   "cell_type": "code",
   "execution_count": 5,
   "id": "35ea6788-fd85-4804-8a33-5a0db83c627f",
   "metadata": {},
   "outputs": [
    {
     "name": "stdout",
     "output_type": "stream",
     "text": [
      "Job ID: 1039929\n",
      "Cluster: powerplant\n",
      "User/Group: hraijc/hraijc\n",
      "State: COMPLETED (exit code 0)\n",
      "Nodes: 1\n",
      "Cores per node: 12\n",
      "CPU Utilized: 07:14:40\n",
      "CPU Efficiency: 92.64% of 07:49:12 core-walltime\n",
      "Job Wall-clock time: 00:39:06\n",
      "Memory Utilized: 10.59 GB\n",
      "Memory Efficiency: 88.25% of 12.00 GB\n"
     ]
    }
   ],
   "source": [
    "seff 1039929\n"
   ]
  },
  {
   "cell_type": "code",
   "execution_count": null,
   "id": "632273be-230d-437f-9d2c-06d8937861f1",
   "metadata": {},
   "outputs": [],

  }
 ],
 "metadata": {
  "kernelspec": {
   "display_name": "Bash",
   "language": "bash",
   "name": "bash"
  },
  "language_info": {
   "codemirror_mode": "shell",
   "file_extension": ".sh",
   "mimetype": "text/x-sh",
   "name": "bash"
  }
 },
 "nbformat": 4,
 "nbformat_minor": 5
}
