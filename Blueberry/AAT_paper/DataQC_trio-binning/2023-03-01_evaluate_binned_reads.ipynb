{
 "cells": [
  {
   "cell_type": "markdown",
   "id": "81c8d925-afce-4aec-a480-b7b0006b5d24",
   "metadata": {},
   "source": [
    "# Classified reads list"
   ]
  },
  {
   "cell_type": "code",
   "execution_count": 1,
   "id": "3d63738d-dc55-4fd7-8be3-c64b0fa0c067",
   "metadata": {},
   "outputs": [],
   "source": [
    "mkdir /powerplant/workspace/hrasrb/Blueberry_trio/trio-binning/03.evaluate_binning\n",
    "\n",
    "cd /powerplant/workspace/hrasrb/Blueberry_trio/trio-binning/03.evaluate_binning\n",
    "\n",
    "cat <<'EOF' >> binned_reads.fofn\n",
    "/powerplant/workspace/hrasrb/Blueberry_trio/trio-binning/02.classifyHiFi/classified_progeny1_hapA_Nui.fq\n",
    "/powerplant/workspace/hrasrb/Blueberry_trio/trio-binning/02.classifyHiFi/classified_progeny1_hapB_M7.fq\n",
    "/powerplant/workspace/hrasrb/Blueberry_trio/trio-binning/02.classifyHiFi/classified_progeny2_hapA_Nui.fq\n",
    "/powerplant/workspace/hrasrb/Blueberry_trio/trio-binning/02.classifyHiFi/classified_progeny2_hapB_M7.fq\n",
    "/powerplant/workspace/hrasrb/Blueberry_trio/trio-binning/02.classifyHiFi/unclassified_progeny1.fq\n",
    "/powerplant/workspace/hrasrb/Blueberry_trio/trio-binning/02.classifyHiFi/unclassified_progeny2.fq\n",
    "EOF"
   ]
  },
  {
   "cell_type": "code",
   "execution_count": 2,
   "id": "12bc18b9-e228-40af-ac68-ae43fefcc5e4",
   "metadata": {},
   "outputs": [
    {
     "name": "stdout",
     "output_type": "stream",
     "text": [
      "/powerplant/workspace/hrasrb/Blueberry_trio/trio-binning/03.evaluate_binning\n"
     ]
    }
   ],
   "source": [
    "pwd"
   ]
  },
  {
   "cell_type": "markdown",
   "id": "c24ce5a7-4ddd-40de-9e10-173a1366dbde",
   "metadata": {},
   "source": [
    "# NanoStat array"
   ]
  },
  {
   "cell_type": "code",
   "execution_count": 3,
   "id": "c610f998-e71c-4032-bb1f-b91a5d41ec21",
   "metadata": {},
   "outputs": [
    {
     "name": "stdout",
     "output_type": "stream",
     "text": [
      "\u001b[91mERROR\u001b[0m: Unable to locate a modulefile for 'load'\n",
      "SBATCH_ARGS: --time 00:45:00 --mem 400M --cpus-per-task=2 --mail-user=Sarah.Bailey@plantandfood.co.nz --mail-type=ALL\n",
      "JOB_ARRAY_NAME: NanoStat_array\n",
      "GROUP_SIZE: 1\n",
      "NUM_COMMANDS: 6\n",
      "Submitted batch job 1040141\n"
     ]
    }
   ],
   "source": [
    "# load packages\n",
    "module load load nanopack\n",
    "\n",
    "FILE=./binned_reads.fofn\n",
    "cat $FILE | while read line\n",
    "do\n",
    "    PREFIX=$(basename ${line} .fq)\n",
    "    echo NanoStat --fastq ${line} -t 2 -o . -n ${PREFIX}_NanoStat.out\n",
    "done | abatch -j NanoStat_array --time 00:45:00 --mem 400M --cpus-per-task=2 --mail-user=Sarah.Bailey@plantandfood.co.nz --mail-type=ALL | sbatch\n",
    "\n",
    "module unload nanopack"
   ]
  },
  {
   "cell_type": "code",
   "execution_count": 4,
   "id": "613c4b34-06d4-4640-84b1-0832112e8871",
   "metadata": {},
   "outputs": [
    {
     "name": "stdout",
     "output_type": "stream",
     "text": [
      "             JOBID PARTITION     NAME     USER ST       TIME  NODES NODELIST(REASON)\n",
      "         1040141_1      fast NanoStat   hrasrb  R       0:55      1 aklppb40\n",
      "         1040141_2      fast NanoStat   hrasrb  R       0:55      1 aklppb40\n",
      "         1040141_3      fast NanoStat   hrasrb  R       0:55      1 aklppb30\n",
      "         1040141_4      fast NanoStat   hrasrb  R       0:55      1 aklppb30\n",
      "           1039999      long s4_tombo   hrasrb  R    3:29:54      1 aklppb30\n",
      "           1039953     short s4_tombo   hrasrb  R    4:08:01      1 aklppb30\n"
     ]
    }
   ],
   "source": [
    "squeue -u hrasrb"
   ]
  },
  {
   "cell_type": "code",
   "execution_count": null,
   "id": "be6e857c-a4aa-47ac-8fa2-6e5efd7047bb",
   "metadata": {},
   "outputs": [],
   "source": []
  }
 ],
 "metadata": {
  "kernelspec": {
   "display_name": "Bash",
   "language": "bash",
   "name": "bash"
  },
  "language_info": {
   "codemirror_mode": "shell",
   "file_extension": ".sh",
   "mimetype": "text/x-sh",
   "name": "bash"
  }
 },
 "nbformat": 4,
 "nbformat_minor": 5
}
