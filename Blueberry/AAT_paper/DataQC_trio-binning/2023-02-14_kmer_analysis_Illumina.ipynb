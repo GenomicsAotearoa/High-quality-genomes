{
 "cells": [
  {
   "cell_type": "markdown",
   "id": "3044e185-c52b-49b7-a13f-213ec832630f",
   "metadata": {},
   "source": [
    "# Kmer analysis Illumina data"
   ]
  },
  {
   "cell_type": "markdown",
   "id": "9f4957aa-0f04-4be4-abef-b5376357540f",
   "metadata": {},
   "source": [
    "# M7"
   ]
  },
  {
   "cell_type": "code",
   "execution_count": 1,
   "id": "3c0d0b88-9cb2-4e56-a3e4-02bc317bb8c8",
   "metadata": {},
   "outputs": [],
   "source": [
    "# set variables for directories\n",
    "BASE=/powerplant/workspace/hrasrb/Blueberry_trio\n",
    "WKDIR=${BASE}/data_qc/illumina/M7\n",
    "\n",
    "# create directories\n",
    "mkdir -pv $WKDIR\n",
    "\n",
    "# move to working directories\n",
    "cd $WKDIR"
   ]
  },
  {
   "cell_type": "code",
   "execution_count": 3,
   "id": "35217ed5-bb80-41d0-8b80-4a1e36ce669c",
   "metadata": {},
   "outputs": [
    {
     "name": "stdout",
     "output_type": "stream",
     "text": [
      "/powerplant/input/genomic/plant/Vaccinium/corymbosum/ExperimentRequestor10969_NuixM7_TrioBin/816043/M7_L001_ds.588732e90e434df093aa5fbfe0ad68c2/M7_S1_L001_R1_001.fastq.gz\n",
      "/powerplant/input/genomic/plant/Vaccinium/corymbosum/ExperimentRequestor10969_NuixM7_TrioBin/816043/M7_L001_ds.588732e90e434df093aa5fbfe0ad68c2/M7_S1_L001_R2_001.fastq.gz\n",
      "/powerplant/input/genomic/plant/Vaccinium/corymbosum/ExperimentRequestor10969_NuixM7_TrioBin/816043/M7_L004_ds.3bb185df2b8c4f09a01f7279b8236997/M7_S1_L004_R1_001.fastq.gz\n",
      "/powerplant/input/genomic/plant/Vaccinium/corymbosum/ExperimentRequestor10969_NuixM7_TrioBin/816043/M7_L004_ds.3bb185df2b8c4f09a01f7279b8236997/M7_S1_L004_R2_001.fastq.gz\n"
     ]
    }
   ],
   "source": [
    "cat *fofn"
   ]
  },
  {
   "cell_type": "markdown",
   "id": "0696543a-866b-4a7d-b19a-3a9c14761cba",
   "metadata": {},
   "source": [
    "## Script 1"
   ]
  },
  {
   "cell_type": "markdown",
   "id": "5dbe5c79-14a5-4e09-9973-869a5b03f80e",
   "metadata": {},
   "source": [
    "## Hash size calculations\n",
    "https://genome.umd.edu/docs/JellyfishUserGuide.pdf"
   ]
  },
  {
   "cell_type": "code",
   "execution_count": 1,
   "id": "270dc892-a255-46c7-ad76-ef45b92f0969",
   "metadata": {},
   "outputs": [],
   "source": [
    "read_len=150 # from fastqc report\n",
    "no_seq=50.5 # from fastqc report\n",
    "genome_size=600000000 # from https://github.com/GenomicsAotearoa/High-quality-genomes/tree/main/Blueberry/M7_Assembly\n",
    "error_rate=0.001 # reported illumina error rate\n",
    "\n",
    "# cov=($read_len*($no_seq*1000000))/$genome_size\n",
    "# estimated coverage\n",
    "cov=$(bc -l <<< \" ( ($no_seq*1000000) * $read_len ) / $genome_size \" )\n",
    "\n",
    "# hash=$genome_size+($genome_size*$cov*$error_rate*21)\n",
    "# Hash size (s) = G + Gcek\n",
    "s=$(bc -l <<< \"$genome_size + ( $genome_size * $cov * $error_rate * 21 )\" )"
   ]
  },
  {
   "cell_type": "code",
   "execution_count": 2,
   "id": "519648c4-2068-41b1-bf32-55b61d828263",
   "metadata": {},
   "outputs": [
    {
     "name": "stdout",
     "output_type": "stream",
     "text": [
      "12.62500000000000000000\n",
      "759075000.00000000000000000000\n"
     ]
    }
   ],
   "source": [
    "echo $cov\n",
    "echo $s"
   ]
  },
  {
   "cell_type": "code",
   "execution_count": 18,
   "id": "45537132-359f-4374-acd5-a25ccc2a0c5f",
   "metadata": {},
   "outputs": [
    {
     "name": "stdout",
     "output_type": "stream",
     "text": [
      "Submitted batch job 994745\n"
     ]
    }
   ],
   "source": [
    "# set variables for directories\n",
    "BASE=/powerplant/workspace/hrasrb/Blueberry_trio\n",
    "LOG=${BASE}/log\n",
    "WKDIR=${BASE}/data_qc/illumina/M7\n",
    "OUTPUT=${WKDIR}/02.kmer_analysis\n",
    "\n",
    "# create directories\n",
    "mkdir -pv $OUTPUT\n",
    "\n",
    "# move into working directory\n",
    "cd $WKDIR\n",
    "\n",
    "INFILE1=/powerplant/input/genomic/plant/Vaccinium/corymbosum/ExperimentRequestor10969_NuixM7_TrioBin/816043/M7_L001_ds.588732e90e434df093aa5fbfe0ad68c2/M7_S1_L001_R1_001.fastq.gz\n",
    "INFILE2=/powerplant/input/genomic/plant/Vaccinium/corymbosum/ExperimentRequestor10969_NuixM7_TrioBin/816043/M7_L001_ds.588732e90e434df093aa5fbfe0ad68c2/M7_S1_L001_R2_001.fastq.gz\n",
    "\n",
    "HASH=900M\n",
    "\n",
    "PREFIX=$(basename ${INFILE1} _R1.fastq.gz)\n",
    "\n",
    "\n",
    "module load jellyfish/2.2.10\n",
    "\n",
    "# create and submit bash script\n",
    "sbatch << EOF\n",
    "#!/bin/bash -e\n",
    "\n",
    "#SBATCH -J M7_1_kmers\n",
    "#SBATCH --output=${LOG}/hrasrb_%j.out\n",
    "#SBATCH --error=${LOG}/hrasrb_%j.err\n",
    "#SBATCH --mail-user=Sarah.Bailey@plantandfood.co.nz\n",
    "#SBATCH --mail-type=ALL\n",
    "#SBATCH --time=02:00:00 # Walltime\n",
    "#SBATCH --mem=16G\n",
    "#SBATCH --cpus-per-task=10\n",
    "\n",
    "pwd\n",
    "\n",
    "echo ${BASE}_21mer_counts.jf\n",
    "\n",
    "echo \"bloom counter\"\n",
    "jellyfish bc -m 21 -s ${HASH} -t 10 -C -o ${PREFIX}.bc <(zcat $INFILE1) <(zcat $INFILE2)\n",
    "echo \"completed\"\n",
    "echo \"count\"\n",
    "jellyfish count -m 21 -s ${HASH} -t 10 -C --bc ${PREFIX}.bc -o ${PREFIX}_21mer_counts.jf <(zcat $INFILE1) <(zcat $INFILE2)\n",
    "echo \"completed\"\n",
    "EOF\n",
    "module unload jellyfish"
   ]
  },
  {
   "cell_type": "code",
   "execution_count": 17,
   "id": "59a69314-9f57-4dd8-af4e-0bc6afeca89b",
   "metadata": {},
   "outputs": [],
   "source": [
    "scancel 994744\n",
    "# job 994745"
   ]
  },
  {
   "cell_type": "markdown",
   "id": "1b6b1c81-e701-4d07-8bff-e5a4832c068a",
   "metadata": {},
   "source": [
    "## Script 2"
   ]
  },
  {
   "cell_type": "markdown",
   "id": "dae3ef1e-75e7-4782-9fdc-5299737139ea",
   "metadata": {},
   "source": [
    "## Hash size calculations"
   ]
  },
  {
   "cell_type": "code",
   "execution_count": 3,
   "id": "8815c506-d782-4980-90d8-1df758ed878f",
   "metadata": {},
   "outputs": [],
   "source": [
    "read_len=150 # from fastqc report\n",
    "no_seq=138.4 # from fastqc report\n",
    "genome_size=600000000 # from https://github.com/GenomicsAotearoa/High-quality-genomes/tree/main/Blueberry/M7_Assembly\n",
    "error_rate=0.001 # reported illumina error rate\n",
    "\n",
    "# cov=($read_len*($no_seq*1000000))/$genome_size\n",
    "# estimated coverage\n",
    "cov=$(bc -l <<< \" ( ($no_seq*1000000) * $read_len ) / $genome_size \" )\n",
    "\n",
    "# hash=$genome_size+($genome_size*$cov*$error_rate*21)\n",
    "# Hash size (s) = G + Gcek\n",
    "s=$(bc -l <<< \"$genome_size + ( $genome_size * $cov * $error_rate * 21 )\" )"
   ]
  },
  {
   "cell_type": "code",
   "execution_count": 4,
   "id": "c6389bf2-98f5-49d6-a88d-f8e69b9d0f7e",
   "metadata": {},
   "outputs": [
    {
     "name": "stdout",
     "output_type": "stream",
     "text": [
      "34.60000000000000000000\n",
      "1035960000.00000000000000000000\n"
     ]
    }
   ],
   "source": [
    "echo $cov\n",
    "echo $s"
   ]
  },
  {
   "cell_type": "code",
   "execution_count": 19,
   "id": "17d72ff1-f1b9-4618-b609-d9982577a2d1",
   "metadata": {},
   "outputs": [
    {
     "name": "stdout",
     "output_type": "stream",
     "text": [
      "Submitted batch job 994746\n"
     ]
    }
   ],
   "source": [
    "# set variables for directories\n",
    "BASE=/powerplant/workspace/hrasrb/Blueberry_trio\n",
    "LOG=${BASE}/log\n",
    "WKDIR=${BASE}/data_qc/illumina/M7\n",
    "OUTPUT=${WKDIR}/02.kmer_analysis\n",
    "\n",
    "# move into working directory\n",
    "cd $WKDIR\n",
    "\n",
    "INFILE1=/powerplant/input/genomic/plant/Vaccinium/corymbosum/ExperimentRequestor10969_NuixM7_TrioBin/816043/M7_L004_ds.3bb185df2b8c4f09a01f7279b8236997/M7_S1_L004_R1_001.fastq.gz\n",
    "INFILE2=/powerplant/input/genomic/plant/Vaccinium/corymbosum/ExperimentRequestor10969_NuixM7_TrioBin/816043/M7_L004_ds.3bb185df2b8c4f09a01f7279b8236997/M7_S1_L004_R2_001.fastq.gz\n",
    "\n",
    "HASH=1G\n",
    "\n",
    "PREFIX=$(basename ${INFILE1} _R1.fastq.gz)\n",
    "\n",
    "\n",
    "module load jellyfish/2.2.10\n",
    "\n",
    "# create and submit bash script\n",
    "sbatch << EOF\n",
    "#!/bin/bash -e\n",
    "\n",
    "#SBATCH -J M7_2_kmers\n",
    "#SBATCH --output=${LOG}/hrasrb_%j.out\n",
    "#SBATCH --error=${LOG}/hrasrb_%j.err\n",
    "#SBATCH --mail-user=Sarah.Bailey@plantandfood.co.nz\n",
    "#SBATCH --mail-type=ALL\n",
    "#SBATCH --time=02:00:00 # Walltime\n",
    "#SBATCH --mem=16G\n",
    "#SBATCH --cpus-per-task=10\n",
    "\n",
    "pwd\n",
    "\n",
    "echo ${BASE}_21mer_counts.jf\n",
    "echo \"bloom counter\"\n",
    "jellyfish bc -m 21 -s ${HASH} -t 10 -C -o ${PREFIX}.bc <(zcat $INFILE1) <(zcat $INFILE2)\n",
    "echo \"completed\"\n",
    "echo \"count\"\n",
    "jellyfish count -m 21 -s ${HASH} -t 10 -C --bc ${PREFIX}.bc -o ${PREFIX}_21mer_counts.jf <(zcat $INFILE1) <(zcat $INFILE2)\n",
    "echo \"completed\"\n",
    "EOF\n",
    "module unload jellyfish"
   ]
  },
  {
   "cell_type": "code",
   "execution_count": null,
   "id": "4b9d94bc-75f5-4649-960a-38e6831aa1e6",
   "metadata": {},
   "outputs": [],
   "source": [
    "# job 994746"
   ]
  },
  {
   "cell_type": "markdown",
   "id": "acc58dc6-9994-41d8-908b-2f164c77f8a6",
   "metadata": {},
   "source": [
    "## Combined"
   ]
  },
  {
   "cell_type": "markdown",
   "id": "304ee5d4-5dad-46f2-8d6b-cf9edbf17269",
   "metadata": {},
   "source": [
    "## Hash size calculations"
   ]
  },
  {
   "cell_type": "code",
   "execution_count": 5,
   "id": "35fb579c-ae73-4bfa-87bd-305e744a1905",
   "metadata": {},
   "outputs": [],
   "source": [
    "read_len=150 # from fastqc report\n",
    "no_seq=$(bc -l <<< \" 50.5 + 138.4 \" ) # from fastqc report\n",
    "genome_size=600000000 # from https://github.com/GenomicsAotearoa/High-quality-genomes/tree/main/Blueberry/M7_Assembly\n",
    "error_rate=0.001 # reported illumina error rate\n",
    "\n",
    "# cov=($read_len*($no_seq*1000000))/$genome_size\n",
    "# estimated coverage\n",
    "cov=$(bc -l <<< \" ( ($no_seq*1000000) * $read_len ) / $genome_size \" )\n",
    "\n",
    "# hash=$genome_size+($genome_size*$cov*$error_rate*21)\n",
    "# Hash size (s) = G + Gcek\n",
    "s=$(bc -l <<< \"$genome_size + ( $genome_size * $cov * $error_rate * 21 )\" )"
   ]
  },
  {
   "cell_type": "code",
   "execution_count": 6,
   "id": "6bc96ea6-6a0e-4ff1-8279-8efbd363428f",
   "metadata": {},
   "outputs": [
    {
     "name": "stdout",
     "output_type": "stream",
     "text": [
      "188.9\n",
      "47.22500000000000000000\n",
      "1195035000.00000000000000000000\n"
     ]
    }
   ],
   "source": [
    "echo $no_seq\n",
    "echo $cov\n",
    "echo $s"
   ]
  },
  {
   "cell_type": "code",
   "execution_count": 20,
   "id": "a5aacc4c-6c3e-4edc-9412-3a590d71715d",
   "metadata": {},
   "outputs": [
    {
     "name": "stdout",
     "output_type": "stream",
     "text": [
      "Submitted batch job 994747\n"
     ]
    }
   ],
   "source": [
    "# set variables for directories\n",
    "BASE=/powerplant/workspace/hrasrb/Blueberry_trio\n",
    "LOG=${BASE}/log\n",
    "WKDIR=${BASE}/data_qc/illumina/M7\n",
    "OUTPUT=${WKDIR}/02.kmer_analysis\n",
    "\n",
    "# move into working directory\n",
    "cd $WKDIR\n",
    "\n",
    "INFILE1=/powerplant/input/genomic/plant/Vaccinium/corymbosum/ExperimentRequestor10969_NuixM7_TrioBin/816043/M7_L001_ds.588732e90e434df093aa5fbfe0ad68c2/M7_S1_L001_R1_001.fastq.gz\n",
    "INFILE2=/powerplant/input/genomic/plant/Vaccinium/corymbosum/ExperimentRequestor10969_NuixM7_TrioBin/816043/M7_L001_ds.588732e90e434df093aa5fbfe0ad68c2/M7_S1_L001_R2_001.fastq.gz\n",
    "INFILE3=/powerplant/input/genomic/plant/Vaccinium/corymbosum/ExperimentRequestor10969_NuixM7_TrioBin/816043/M7_L004_ds.3bb185df2b8c4f09a01f7279b8236997/M7_S1_L004_R1_001.fastq.gz\n",
    "INFILE4=/powerplant/input/genomic/plant/Vaccinium/corymbosum/ExperimentRequestor10969_NuixM7_TrioBin/816043/M7_L004_ds.3bb185df2b8c4f09a01f7279b8236997/M7_S1_L004_R2_001.fastq.gz\n",
    "\n",
    "HASH=1G\n",
    "\n",
    "module load jellyfish/2.2.10\n",
    "\n",
    "# create and submit bash script\n",
    "sbatch << EOF\n",
    "#!/bin/bash -e\n",
    "\n",
    "#SBATCH -J M7_kmers\n",
    "#SBATCH --output=${LOG}/hrasrb_%j.out\n",
    "#SBATCH --error=${LOG}/hrasrb_%j.err\n",
    "#SBATCH --mail-user=Sarah.Bailey@plantandfood.co.nz\n",
    "#SBATCH --mail-type=ALL\n",
    "#SBATCH --time=04:00:00 # Walltime\n",
    "#SBATCH --mem=24G\n",
    "#SBATCH --cpus-per-task=10\n",
    "\n",
    "pwd\n",
    "\n",
    "echo \"bloom counter\"\n",
    "jellyfish bc -m 21 -s ${HASH} -t 10 -C -o combined.bc <(zcat $INFILE1) <(zcat $INFILE2) <(zcat $INFILE3) <(zcat $INFILE4)\n",
    "echo \"completed\"\n",
    "echo \"count\"\n",
    "jellyfish count -m 21 -s ${HASH} -t 10 -C --bc combined.bc -o combined_21mer_counts.jf <(zcat $INFILE1) <(zcat $INFILE2) <(zcat $INFILE3) <(zcat $INFILE4)\n",
    "echo \"completed\"\n",
    "EOF\n",
    "module unload jellyfish"
   ]
  },
  {
   "cell_type": "code",
   "execution_count": 34,
   "id": "5c2e8035-4df8-45a0-b8c2-2195f4333d11",
   "metadata": {},
   "outputs": [
    {
     "name": "stdout",
     "output_type": "stream",
     "text": [
      "Job ID: 484277\n",
      "Cluster: powerplant\n",
      "User/Group: hrasrb/hrasrb\n",
      "State: FAILED (exit code 1)\n",
      "Nodes: 1\n",
      "Cores per node: 10\n",
      "CPU Utilized: 00:00:02\n",
      "CPU Efficiency: 20.00% of 00:00:10 core-walltime\n",
      "Job Wall-clock time: 00:00:01\n",
      "Memory Utilized: 44.00 KB\n",
      "Memory Efficiency: 0.00% of 20.00 GB\n"
     ]
    }
   ],
   "source": [
    "#  job 994747"
   ]
  },
  {
   "cell_type": "markdown",
   "id": "9d971034-1ca5-4a4f-8ffe-ed58fa21d305",
   "metadata": {},
   "source": [
    "# Nui"
   ]
  },
  {
   "cell_type": "code",
   "execution_count": 4,
   "id": "b9fe3842-4866-4940-9873-2b471c249074",
   "metadata": {},
   "outputs": [
    {
     "name": "stdout",
     "output_type": "stream",
     "text": [
      "Nui_S2_L001_R1_001.fastq.gz  Nui_S2_L001_R2_001.fastq.gz\n"
     ]
    }
   ],
   "source": [
    "cd /powerplant/input/genomic/plant/Vaccinium/corymbosum/ExperimentRequestor10969_NuixM7_TrioBin/816043/Nui_L001_ds.8485a4d14def4ea9ad3784b85fadd7a2\n",
    "ls Nui_S2_L001_R*"
   ]
  },
  {
   "cell_type": "markdown",
   "id": "66a229ed-688f-4c75-a00f-cf73d4d3db19",
   "metadata": {},
   "source": [
    "## Hash size calculations"
   ]
  },
  {
   "cell_type": "code",
   "execution_count": 7,
   "id": "5ecbe389-78ee-4345-8a1f-40a1e2959a67",
   "metadata": {},
   "outputs": [],
   "source": [
    "read_len=150 # from fastqc report\n",
    "no_seq=100.3 # from fastqc report\n",
    "genome_size=600000000 # from https://github.com/GenomicsAotearoa/High-quality-genomes/tree/main/Blueberry/Nui_Assembly\n",
    "error_rate=0.001 # reported illumina error rate\n",
    "\n",
    "# cov=($read_len*($no_seq*1000000))/$genome_size\n",
    "# estimated coverage\n",
    "cov=$(bc -l <<< \" ( ($no_seq*1000000) * $read_len ) / $genome_size \" )\n",
    "\n",
    "# hash=$genome_size+($genome_size*$cov*$error_rate*21)\n",
    "# Hash size (s) = G + Gcek\n",
    "s=$(bc -l <<< \"$genome_size + ( $genome_size * $cov * $error_rate * 21 )\" )"
   ]
  },
  {
   "cell_type": "code",
   "execution_count": 9,
   "id": "18ef760e-fe56-4e55-a1e8-a46c0df17624",
   "metadata": {},
   "outputs": [
    {
     "name": "stdout",
     "output_type": "stream",
     "text": [
      "25.07500000000000000000\n",
      "915945000.00000000000000000000\n"
     ]
    }
   ],
   "source": [
    "echo $cov\n",
    "echo $s"
   ]
  },
  {
   "cell_type": "code",
   "execution_count": 5,
   "id": "017ecfd6-393e-4219-8d6c-2cff45c31fce",
   "metadata": {},
   "outputs": [
    {
     "name": "stdout",
     "output_type": "stream",
     "text": [
      "Submitted batch job 994829\n"
     ]
    }
   ],
   "source": [
    "# set variables for directories\n",
    "BASE=/powerplant/workspace/hrasrb/Blueberry_trio\n",
    "LOG=${BASE}/log\n",
    "WKDIR=${BASE}/data_qc/illumina/Nui/02.kmer_analysis\n",
    "\n",
    "# create directories\n",
    "# mkdir -pv $OUTPUT\n",
    "\n",
    "# set variables\n",
    "INFILE1=/powerplant/input/genomic/plant/Vaccinium/corymbosum/ExperimentRequestor10969_NuixM7_TrioBin/816043/Nui_L001_ds.8485a4d14def4ea9ad3784b85fadd7a2/Nui_S2_L001_R1_001.fastq.gz\n",
    "INFILE2=/powerplant/input/genomic/plant/Vaccinium/corymbosum/ExperimentRequestor10969_NuixM7_TrioBin/816043/Nui_L001_ds.8485a4d14def4ea9ad3784b85fadd7a2/Nui_S2_L001_R2_001.fastq.gz\n",
    "HASH=1G\n",
    "PREFIX=$(basename ${INFILE1} _R1.fastq.gz)\n",
    "\n",
    "# move into working directory\n",
    "cd $WKDIR\n",
    "\n",
    "module load jellyfish/2.2.10\n",
    "\n",
    "# create and submit bash script\n",
    "sbatch << EOF\n",
    "#!/bin/bash -e\n",
    "\n",
    "#SBATCH -J Nui_kmer\n",
    "#SBATCH --output=${LOG}/hrasrb_%j.out\n",
    "#SBATCH --error=${LOG}/hrasrb_%j.err\n",
    "#SBATCH --mail-user=Sarah.Bailey@plantandfood.co.nz\n",
    "#SBATCH --mail-type=ALL\n",
    "#SBATCH --time=02:00:00 # Walltime\n",
    "#SBATCH --mem=16G\n",
    "#SBATCH --cpus-per-task=10\n",
    "\n",
    "pwd\n",
    "\n",
    "echo ${BASE}_21mer_counts.jf\n",
    "# echo \"bloom counter\"\n",
    "# jellyfish bc -m 21 -s ${HASH} -t 10 -C -o ${PREFIX}.bc <(zcat $INFILE1) <(zcat $INFILE2)\n",
    "# echo \"completed\"\n",
    "echo \"count\"\n",
    "jellyfish count -m 21 -s ${HASH} -t 10 -C --bc ${PREFIX}.bc -o ${PREFIX}_21mer_counts.jf <(zcat $INFILE1) <(zcat $INFILE2)\n",
    "echo \"completed\"\n",
    "EOF\n",
    "module unload jellyfish"
   ]
  },
  {
   "cell_type": "code",
   "execution_count": 4,
   "id": "fd3b4ab9-398d-4762-9d0d-9c8bd2ef7f67",
   "metadata": {},
   "outputs": [],
   "source": [
    "# job 994748\n",
    "# scancel  994828\n",
    "# job 994829\n"
   ]
  },
  {
   "cell_type": "code",
   "execution_count": 1,
   "id": "123ae067-b097-4254-98ba-84dd0f229490",
   "metadata": {},
   "outputs": [
    {
     "name": "stdout",
     "output_type": "stream",
     "text": [
      "Failed to parse bloom filter file './bloom_counter/Nui_S2_L001_R1_001.fastq.gz.bc'\n",
      "/powerplant/workspace/hrasrb/Blueberry_trio/data_qc/illumina/M7\n",
      "Nui_S2_L001_R1_001.fastq.gz_21mer_counts.jf\n",
      "bloom counter\n",
      "completed\n",
      "count\n"
     ]
    }
   ],
   "source": [
    "# set variables for directories\n",
    "BASE=/powerplant/workspace/hrasrb/Blueberry_trio\n",
    "LOG=${BASE}/log\n",
    "cd $LOG\n",
    "cat *994748*"
   ]
  },
  {
   "cell_type": "markdown",
   "id": "2fa74a12-e0d8-44c9-ae41-18e0321eb448",
   "metadata": {},
   "source": [
    "# Histogram"
   ]
  },
  {
   "cell_type": "code",
   "execution_count": 1,
   "id": "d25d6b01-2d54-4f26-9c6f-f21bc2e5502b",
   "metadata": {},
   "outputs": [
    {
     "name": "stdout",
     "output_type": "stream",
     "text": [
      "Submitted batch job 995179\n"
     ]
    }
   ],
   "source": [
    "# set variables for directories\n",
    "BASE=/powerplant/workspace/hrasrb/Blueberry_trio\n",
    "LOG=${BASE}/log\n",
    "M7=${BASE}/data_qc/illumina/M7/02.kmer_analysis\n",
    "NUI=${BASE}/data_qc/illumina/Nui/02.kmer_analysis\n",
    "\n",
    "cd $WKDIR\n",
    "\n",
    "BASE=$(basename ${INFILE} counts.jf)\n",
    "\n",
    "module load jellyfish/2.2.10\n",
    "\n",
    "# create and submit bash script\n",
    "sbatch << EOF\n",
    "#!/bin/bash -e\n",
    "\n",
    "#SBATCH -J histo\n",
    "#SBATCH --output=${LOG}/hrasrb_%j.out\n",
    "#SBATCH --error=${LOG}/hrasrb_%j.err\n",
    "#SBATCH --mail-user=Sarah.Bailey@plantandfood.co.nz\n",
    "#SBATCH --mail-type=ALL\n",
    "#SBATCH --time=00:10:00 # Walltime\n",
    "#SBATCH --mem=1M\n",
    "\n",
    "echo \"M7 combined histo\"\n",
    "jellyfish histo -t 1 ${M7}/combined_21mer_counts.jf > combined_21mer_histogram.out\n",
    "echo \"completed\"\n",
    "echo \"M7 L001 histo\"\n",
    "jellyfish histo -t 1 ${M7}/M7_S1_L001_R1_001.fastq.gz_21mer_counts.jf > M7_S1_L001_R1_001.fastq.gz_21mer_histogram.out\n",
    "echo \"completed\"\n",
    "echo \"M7 L004 histo\"\n",
    "jellyfish histo -t 1 ${M7}/M7_S1_L004_R1_001.fastq.gz_21mer_counts.jf > M7_S1_L004_R1_001.fastq.gz_21mer_histogram.out\n",
    "echo \"completed\"\n",
    "echo \"Nui histo\"\n",
    "jellyfish histo -t 1 ${NUI}/Nui_S2_L001_R1_001.fastq.gz_21mer_counts.jf > Nui_S2_L001_R1_001.fastq.gz_21mer_histogram.out\n",
    "echo \"completed\"\n",
    "EOF\n",
    "module unload jellyfish"
   ]
  },
  {
   "cell_type": "code",
   "execution_count": null,
   "id": "d258ded4-b20d-40da-a1f8-bbff30eafba4",
   "metadata": {},
   "outputs": [],
   "source": [
    "# job 995179"
   ]
  },
  {
   "cell_type": "code",
   "execution_count": 3,
   "id": "f8be29e0-88fb-4056-9b23-163d0a4b85da",
   "metadata": {},
   "outputs": [
    {
     "name": "stdout",
     "output_type": "stream",
     "text": [
      "/home/hrasrb\n"
     ]
    }
   ],
   "source": [
    "pwd"
   ]
  }
 ],
 "metadata": {
  "kernelspec": {
   "display_name": "Bash",
   "language": "bash",
   "name": "bash"
  },
  "language_info": {
   "codemirror_mode": "shell",
   "file_extension": ".sh",
   "mimetype": "text/x-sh",
   "name": "bash"
  }
 },
 "nbformat": 4,
 "nbformat_minor": 5
}
