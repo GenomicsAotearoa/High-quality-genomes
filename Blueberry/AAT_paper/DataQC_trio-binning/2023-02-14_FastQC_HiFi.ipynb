{
 "cells": [
  {
   "cell_type": "markdown",
   "id": "a1cc931a-ad25-4fe5-8532-8ec0c74a46c3",
   "metadata": {},
   "source": [
    "# Blueberry trio dataQC\n",
    "\n",
    "## HiFi\n",
    "```\n",
    "/input/genomic/plant/Vaccinium/corymbosum/ExperimentRequestor10969_NuixM7_TrioBin/Blueberry_M7xNui/SMRTcell1/CCS_Data\n",
    "/input/genomic/plant/Vaccinium/corymbosum/ExperimentRequestor10969_NuixM7_TrioBin/Blueberry_M7xNui/SMRTcell2/CCS_Data\n",
    "```\n",
    "* CG bias (fastQC and multiQC)"
   ]
  },
  {
   "cell_type": "markdown",
   "id": "61a8f152-2196-45ba-92a7-eceeef7e956a",
   "metadata": {},
   "source": [
    "## Progeny 1 : m64136_221113_041854\n",
    "### FastQC"
   ]
  },
  {
   "cell_type": "code",
   "execution_count": 3,
   "id": "c0b95077-8413-45f4-99d7-2d67a012f97e",
   "metadata": {},
   "outputs": [
    {
     "name": "stdout",
     "output_type": "stream",
     "text": [
      "Submitted batch job 993579\n"
     ]
    }
   ],
   "source": [
    "# set variables for directories\n",
    "BASE=/powerplant/workspace/hrasrb/Blueberry_trio\n",
    "LOG=${BASE}/log\n",
    "WKDIR=${BASE}/data_qc/hifi/m64136_221113_041854\n",
    "OUTPUT=${WKDIR}/01.fastqc\n",
    "\n",
    "# set input file\n",
    "FILE=/powerplant/input/genomic/plant/Vaccinium/corymbosum/ExperimentRequestor10969_NuixM7_TrioBin/Blueberry_M7xNui/SMRTcell1/CCS_Data/*hifi_reads.fastq.gz\n",
    "## 15G\n",
    "\n",
    "# create directories\n",
    "mkdir -pv $WKDIR $LOG $OUTPUT\n",
    "\n",
    "# move to working directories\n",
    "cd $WKDIR\n",
    "\n",
    "module load FastQC/0.11.7\n",
    "\n",
    "# create and submit bash script\n",
    "sbatch << EOF\n",
    "#!/bin/bash -e\n",
    "\n",
    "#SBATCH -J progeny1_fastqc\n",
    "#SBATCH --output=${LOG}/hrasrb_%j.out\n",
    "#SBATCH --error=${LOG}/hrasrb_%j.err\n",
    "#SBATCH --mail-user=Sarah.Bailey@plantandfood.co.nz\n",
    "#SBATCH --mail-type=ALL\n",
    "#SBATCH --time=02:00:00 # Walltime\n",
    "#SBATCH --mem=400M\n",
    "\n",
    "echo \"[`date`] FastQC - Progeny 1\"\n",
    "echo '-----------------------------------------------'\n",
    "\n",
    "fastqc -f fastq -o $OUTPUT $FILE\n",
    "\n",
    "echo \"[`date`] FastQC complete\"\n",
    "echo '-----------------------------------------------'\n",
    "\n",
    "EOF\n",
    "\n",
    "module unload FastQC"
   ]
  },
  {
   "cell_type": "markdown",
   "id": "48de6001-063a-450d-a1f5-0221f0873861",
   "metadata": {},
   "source": [
    "### Resource use"
   ]
  },
  {
   "cell_type": "code",
   "execution_count": null,
   "id": "b3984e01-2133-49fb-bb80-483cd7339b19",
   "metadata": {},
   "outputs": [],
   "source": [
    "# job 993579"
   ]
  },
  {
   "cell_type": "code",
   "execution_count": 1,
   "id": "f50b0830-259b-4bb0-b11c-96db0aefbbc0",
   "metadata": {},
   "outputs": [
    {
     "name": "stdout",
     "output_type": "stream",
     "text": [
      "Job ID: 331880\n",
      "Cluster: powerplant\n",
      "User/Group: hrasrb/hrasrb\n",
      "State: COMPLETED (exit code 0)\n",
      "Cores: 1\n",
      "CPU Utilized: 01:01:15\n",
      "CPU Efficiency: 99.67% of 01:01:27 core-walltime\n",
      "Job Wall-clock time: 01:01:27\n",
      "Memory Utilized: 278.94 MB\n",
      "Memory Efficiency: 69.73% of 400.00 MB\n"
     ]
    }
   ],
   "source": [
    "seff 993579"
   ]
  },
  {
   "cell_type": "markdown",
   "id": "7a2dcf0d-c558-41d5-8280-f35555027b9c",
   "metadata": {},
   "source": [
    "## Progeny 2 : m64136_221114_133241\n",
    "### FastQC"
   ]
  },
  {
   "cell_type": "code",
   "execution_count": 4,
   "id": "86e633e3-2d0b-45ff-8f9b-0fe391152aa5",
   "metadata": {},
   "outputs": [
    {
     "name": "stdout",
     "output_type": "stream",
     "text": [
      "mkdir: created directory ‘/powerplant/workspace/hrasrb/Blueberry_trio/data_qc/hifi/m64136_221114_133241’\n",
      "mkdir: created directory ‘/powerplant/workspace/hrasrb/Blueberry_trio/data_qc/hifi/m64136_221114_133241/01.fastqc’\n",
      "Submitted batch job 993580\n"
     ]
    }
   ],
   "source": [
    "# set variables for directories\n",
    "BASE=/powerplant/workspace/hrasrb/Blueberry_trio\n",
    "LOG=${BASE}/log\n",
    "WKDIR=${BASE}/data_qc/hifi/m64136_221114_133241\n",
    "OUTPUT=${WKDIR}/01.fastqc\n",
    "\n",
    "# set input file\n",
    "FILE=/powerplant/input/genomic/plant/Vaccinium/corymbosum/ExperimentRequestor10969_NuixM7_TrioBin/Blueberry_M7xNui/SMRTcell2/CCS_Data/*hifi_reads.fastq.gz\n",
    "## 19G\n",
    "\n",
    "# create directories\n",
    "mkdir -pv $WKDIR $LOG $OUTPUT\n",
    "\n",
    "# move to working directories\n",
    "cd $WKDIR\n",
    "\n",
    "module load FastQC/0.11.7\n",
    "\n",
    "# create and submit bash script\n",
    "sbatch << EOF\n",
    "#!/bin/bash -e\n",
    "\n",
    "#SBATCH -J progeny2_fastqc\n",
    "#SBATCH --output=${LOG}/hrasrb_%j.out\n",
    "#SBATCH --error=${LOG}/hrasrb_%j.err\n",
    "#SBATCH --mail-user=Sarah.Bailey@plantandfood.co.nz\n",
    "#SBATCH --mail-type=ALL\n",
    "#SBATCH --time=02:00:00 # Walltime\n",
    "#SBATCH --mem=400M\n",
    "\n",
    "echo \"[`date`] FastQC - Progeny 2\"\n",
    "echo '-----------------------------------------------'\n",
    "\n",
    "fastqc -f fastq -o $OUTPUT $FILE\n",
    "\n",
    "echo \"[`date`] FastQC complete\"\n",
    "echo '-----------------------------------------------'\n",
    "\n",
    "EOF\n",
    "\n",
    "module unload FastQC"
   ]
  },
  {
   "cell_type": "markdown",
   "id": "8c87a67d-3383-4b4d-bac5-9d016071b79e",
   "metadata": {},
   "source": [
    "### Resource use"
   ]
  },
  {
   "cell_type": "code",
   "execution_count": null,
   "id": "5808bd09-eb32-4a60-9f09-d05abf27841d",
   "metadata": {},
   "outputs": [],
   "source": [
    "# job 993580"
   ]
  },
  {
   "cell_type": "code",
   "execution_count": 1,
   "id": "2bd82f1a-3eab-4b86-8d64-5829323f7072",
   "metadata": {},
   "outputs": [
    {
     "name": "stdout",
     "output_type": "stream",
     "text": [
      "Job ID: 993580\n",
      "Cluster: powerplant\n",
      "User/Group: hrasrb/hrasrb\n",
      "State: COMPLETED (exit code 0)\n",
      "Cores: 1\n",
      "CPU Utilized: 00:55:15\n",
      "CPU Efficiency: 99.88% of 00:55:19 core-walltime\n",
      "Job Wall-clock time: 00:55:19\n",
      "Memory Utilized: 286.59 MB\n",
      "Memory Efficiency: 71.65% of 400.00 MB\n"
     ]
    }
   ],
   "source": [
    "seff 993580"
   ]
  },
  {
   "cell_type": "markdown",
   "id": "1077c8f3-5501-4c3b-8129-efde8b954ac8",
   "metadata": {},
   "source": [
    "## Check queue"
   ]
  },
  {
   "cell_type": "code",
   "execution_count": 5,
   "id": "d675138b-897f-456c-9d82-0efa398c4b55",
   "metadata": {},
   "outputs": [
    {
     "name": "stdout",
     "output_type": "stream",
     "text": [
      "             JOBID PARTITION     NAME     USER ST       TIME  NODES NODELIST(REASON)\n",
      "            993580      fast progeny2   hrasrb PD       0:00      1 (Priority)\n",
      "            993579      fast progeny1   hrasrb  R       2:41      1 aklppg31\n",
      "            993528     short resume_s   hrasrb  R    1:12:37      1 wkoppg34\n",
      "            993544     short s4_tombo   hrasrb  R      48:02      1 aklppg33\n",
      "            993543     short s4_tombo   hrasrb  R      48:32      1 aklppg33\n",
      "            993542     short s4_tombo   hrasrb  R      49:19      1 aklppg33\n"
     ]
    }
   ],
   "source": [
    "squeue -u hrasrb"
   ]
  }
 ],
 "metadata": {
  "kernelspec": {
   "display_name": "Bash",
   "language": "bash",
   "name": "bash"
  },
  "language_info": {
   "codemirror_mode": "shell",
   "file_extension": ".sh",
   "mimetype": "text/x-sh",
   "name": "bash"
  }
 },
 "nbformat": 4,
 "nbformat_minor": 5
}
