{
 "cells": [
  {
   "cell_type": "markdown",
   "id": "ea4aa7ec-53f7-43e4-8962-429c515c58b5",
   "metadata": {},
   "source": [
    "# Blueberry trio data\n",
    "\n",
    "# Illumina\n",
    "## M7:\n",
    "```\n",
    "/input/genomic/plant/Vaccinium/corymbosum/ExperimentRequestor10969_NuixM7_TrioBin/816043/M7_L001_ds.588732e90e434df093aa5fbfe0ad68c2\n",
    "/input/genomic/plant/Vaccinium/corymbosum/ExperimentRequestor10969_NuixM7_TrioBin/816043/M7_L004_ds.3bb185df2b8c4f09a01f7279b8236997\n",
    "```\n",
    "## Nui\n",
    "```\n",
    "/input/genomic/plant/Vaccinium/corymbosum/ExperimentRequestor10969_NuixM7_TrioBin/816043/Nui_L001_ds.8485a4d14def4ea9ad3784b85fadd7a2\n",
    "```\n",
    "* fastQC and multiQC"
   ]
  },
  {
   "cell_type": "markdown",
   "id": "809b8d6d-3ef8-44a7-b759-75e71e16826e",
   "metadata": {},
   "source": [
    "# M7\n",
    "## Create a file of file names (.fofn)"
   ]
  },
  {
   "cell_type": "code",
   "execution_count": 5,
   "id": "21c48479-c993-455b-b524-2a04da5b7be3",
   "metadata": {},
   "outputs": [
    {
     "name": "stdout",
     "output_type": "stream",
     "text": [
      "mkdir: created directory ‘/powerplant/workspace/hrasrb/Blueberry_trio/data_qc/illumina’\n",
      "mkdir: created directory ‘/powerplant/workspace/hrasrb/Blueberry_trio/data_qc/illumina/M7’\n",
      "mkdir: created directory ‘/powerplant/workspace/hrasrb/Blueberry_trio/data_qc/illumina/M7/01.fastqc’\n"
     ]
    }
   ],
   "source": [
    "# set variables for directories\n",
    "BASE=/powerplant/workspace/hrasrb/Blueberry_trio\n",
    "WKDIR=${BASE}/data_qc/illumina/M7\n",
    "\n",
    "# create directories\n",
    "mkdir -pv $WKDIR\n",
    "\n",
    "# move to working directories\n",
    "cd $WKDIR"
   ]
  },
  {
   "cell_type": "code",
   "execution_count": 4,
   "id": "43869a4a-b981-4339-8859-400b6ccfd19b",
   "metadata": {},
   "outputs": [
    {
     "name": "stdout",
     "output_type": "stream",
     "text": [
      "/input/genomic/plant/Vaccinium/corymbosum/ExperimentRequestor10969_NuixM7_TrioBin/816043/M7_L001_ds.588732e90e434df093aa5fbfe0ad68c2:\n",
      "M7_S1_L001_R1_001.fastq.gz  M7_S1_L001_R2_001.fastq.gz\n",
      "\n",
      "/input/genomic/plant/Vaccinium/corymbosum/ExperimentRequestor10969_NuixM7_TrioBin/816043/M7_L004_ds.3bb185df2b8c4f09a01f7279b8236997:\n",
      "M7_S1_L004_R1_001.fastq.gz  M7_S1_L004_R2_001.fastq.gz\n"
     ]
    }
   ],
   "source": [
    "ls /input/genomic/plant/Vaccinium/corymbosum/ExperimentRequestor10969_NuixM7_TrioBin/816043/M7_L00*"
   ]
  },
  {
   "cell_type": "code",
   "execution_count": 6,
   "id": "90d7d288-60ca-4841-b614-a4fdc2c63d20",
   "metadata": {},
   "outputs": [],
   "source": [
    "cat <<'EOF' >> m7_reads.fofn\n",
    "/powerplant/input/genomic/plant/Vaccinium/corymbosum/ExperimentRequestor10969_NuixM7_TrioBin/816043/M7_L001_ds.588732e90e434df093aa5fbfe0ad68c2/M7_S1_L001_R1_001.fastq.gz\n",
    "/powerplant/input/genomic/plant/Vaccinium/corymbosum/ExperimentRequestor10969_NuixM7_TrioBin/816043/M7_L001_ds.588732e90e434df093aa5fbfe0ad68c2/M7_S1_L001_R2_001.fastq.gz\n",
    "/powerplant/input/genomic/plant/Vaccinium/corymbosum/ExperimentRequestor10969_NuixM7_TrioBin/816043/M7_L004_ds.3bb185df2b8c4f09a01f7279b8236997/M7_S1_L004_R1_001.fastq.gz\n",
    "/powerplant/input/genomic/plant/Vaccinium/corymbosum/ExperimentRequestor10969_NuixM7_TrioBin/816043/M7_L004_ds.3bb185df2b8c4f09a01f7279b8236997/M7_S1_L004_R2_001.fastq.gz\n",
    "EOF"
   ]
  },
  {
   "cell_type": "markdown",
   "id": "84a1287e-b40d-48ab-bd1a-cc94ee80d611",
   "metadata": {},
   "source": [
    "## M7 FastQC array"
   ]
  },
  {
   "cell_type": "code",
   "execution_count": 7,
   "id": "114461e0-22b5-4e42-9c31-6b674ba0815f",
   "metadata": {},
   "outputs": [
    {
     "name": "stdout",
     "output_type": "stream",
     "text": [
      "SBATCH_ARGS: --time 00:45:00 --mem 400M --mail-user=Sarah.Bailey@plantandfood.co.nz --mail-type=ALL\n",
      "JOB_ARRAY_NAME: m7_fastqc_array\n",
      "GROUP_SIZE: 1\n",
      "NUM_COMMANDS: 4\n",
      "Submitted batch job 993581\n",
      "\u001b[91mERROR\u001b[0m: Unexpected number of args for 'unload' command\n",
      "  Try 'module --help' for more information.\n"
     ]
    },
    {
     "ename": "",
     "evalue": "1",
     "output_type": "error",
     "traceback": []
    }
   ],
   "source": [
    "# set variables for directories\n",
    "BASE=/powerplant/workspace/hrasrb/Blueberry_trio\n",
    "WKDIR=${BASE}/data_qc/illumina/M7\n",
    "OUTPUT=${WKDIR}/01.fastqc\n",
    "\n",
    "# create directories\n",
    "mkdir -pv $OUTPUT\n",
    "\n",
    "# move into working directory\n",
    "cd $WKDIR\n",
    "\n",
    "\n",
    "# load packages\n",
    "module load FastQC/0.11.7\n",
    "\n",
    "FILE=./m7_reads.fofn\n",
    "cat $FILE | while read line\n",
    "do\n",
    "    echo fastqc -f fastq -o ${OUTPUT} ${line}\n",
    "done | abatch -j m7_fastqc_array --time 00:45:00 --mem 400M --mail-user=Sarah.Bailey@plantandfood.co.nz --mail-type=ALL | sbatch\n",
    "\n",
    "module unload FastQC"
   ]
  },
  {
   "cell_type": "markdown",
   "id": "4827b84f-730a-46e8-9895-8d47d6ad063b",
   "metadata": {},
   "source": [
    "## Resource use"
   ]
  },
  {
   "cell_type": "code",
   "execution_count": 1,
   "id": "24255cbe-7e9c-46a1-a02c-b89e3a185db7",
   "metadata": {},
   "outputs": [
    {
     "name": "stdout",
     "output_type": "stream",
     "text": [
      "Job ID: 993581\n",
      "Array Job ID: 993581_4\n",
      "Cluster: powerplant\n",
      "User/Group: hrasrb/hrasrb\n",
      "State: COMPLETED (exit code 0)\n",
      "Cores: 1\n",
      "CPU Utilized: 00:27:18\n",
      "CPU Efficiency: 99.76% of 00:27:22 core-walltime\n",
      "Job Wall-clock time: 00:27:22\n",
      "Memory Utilized: 304.49 MB\n",
      "Memory Efficiency: 76.12% of 400.00 MB\n"
     ]
    }
   ],
   "source": [
    "# job 993581\n",
    "seff 993581"
   ]
  },
  {
   "cell_type": "markdown",
   "id": "87d6bf35-5854-4f60-af0f-2a808df38a26",
   "metadata": {},
   "source": [
    "# Nui\n",
    "\n",
    "## FastQC array"
   ]
  },
  {
   "cell_type": "code",
   "execution_count": 11,
   "id": "8669446e-42bd-438a-a232-1a79d191160b",
   "metadata": {},
   "outputs": [
    {
     "name": "stdout",
     "output_type": "stream",
     "text": [
      "SBATCH_ARGS: --time 00:45:00 --mem 400M --mail-user=Sarah.Bailey@plantandfood.co.nz --mail-type=ALL\n",
      "JOB_ARRAY_NAME: nui_fastqc_array\n",
      "GROUP_SIZE: 1\n",
      "NUM_COMMANDS: 2\n",
      "Submitted batch job 993589\n"
     ]
    }
   ],
   "source": [
    "# set variables for directories\n",
    "BASE=/powerplant/workspace/hrasrb/Blueberry_trio\n",
    "WKDIR=${BASE}/data_qc/illumina/Nui\n",
    "OUTPUT=${WKDIR}/01.fastqc\n",
    "\n",
    "# create directories\n",
    "mkdir -pv $WKDIR $OUTPUT\n",
    "\n",
    "# set variables\n",
    "INPUT=/powerplant/input/genomic/plant/Vaccinium/corymbosum/ExperimentRequestor10969_NuixM7_TrioBin/816043/Nui_L001_ds.8485a4d14def4ea9ad3784b85fadd7a2/Nui_S2_L001_R*\n",
    "\n",
    "# load packages\n",
    "module load FastQC/0.11.7\n",
    "\n",
    "# create array script\n",
    "for FILE in $INPUT\n",
    "do\n",
    "    echo fastqc -f fastq -o $OUTPUT $FILE\n",
    "done | abatch -j nui_fastqc_array --time 00:45:00 --mem 400M --mail-user=Sarah.Bailey@plantandfood.co.nz --mail-type=ALL | sbatch\n",
    "\n",
    "module unload FastQC"
   ]
  },
  {
   "cell_type": "markdown",
   "id": "50a960dc-7270-4d68-af5b-9fb7f78de7b2",
   "metadata": {},
   "source": [
    "## Resource use"
   ]
  },
  {
   "cell_type": "code",
   "execution_count": 2,
   "id": "d06dc53c-4a36-410b-9f13-eaa1989c2d61",
   "metadata": {},
   "outputs": [
    {
     "name": "stdout",
     "output_type": "stream",
     "text": [
      "Job ID: 993589\n",
      "Array Job ID: 993589_2\n",
      "Cluster: powerplant\n",
      "User/Group: hrasrb/hrasrb\n",
      "State: COMPLETED (exit code 0)\n",
      "Cores: 1\n",
      "CPU Utilized: 00:19:54\n",
      "CPU Efficiency: 99.67% of 00:19:58 core-walltime\n",
      "Job Wall-clock time: 00:19:58\n",
      "Memory Utilized: 282.03 MB\n",
      "Memory Efficiency: 70.51% of 400.00 MB\n"
     ]
    }
   ],
   "source": [
    "# job 993589\n",
    "seff 993589"
   ]
  },
  {
   "cell_type": "code",
   "execution_count": 12,
   "id": "ee0be11a-adb3-4890-b1f4-cbfc6dc49227",
   "metadata": {},
   "outputs": [
    {
     "name": "stdout",
     "output_type": "stream",
     "text": [
      "             JOBID PARTITION     NAME     USER ST       TIME  NODES NODELIST(REASON)\n",
      "          993589_1      fast nui_fast   hrasrb  R       1:52      1 aklppb30\n",
      "          993589_2      fast nui_fast   hrasrb  R       1:52      1 aklppb30\n",
      "          993581_1      fast m7_fastq   hrasrb  R       7:52      1 aklppb30\n",
      "          993581_2      fast m7_fastq   hrasrb  R       7:52      1 aklppb30\n",
      "          993581_3      fast m7_fastq   hrasrb  R       7:52      1 aklppb30\n",
      "          993581_4      fast m7_fastq   hrasrb  R       7:52      1 aklppb30\n",
      "            993580      fast progeny2   hrasrb  R      27:52      1 aklppb30\n",
      "            993579      fast progeny1   hrasrb  R      30:52      1 aklppg31\n",
      "            993528     short resume_s   hrasrb  R    1:40:48      1 wkoppg34\n",
      "            993544     short s4_tombo   hrasrb  R    1:16:13      1 aklppg33\n",
      "            993543     short s4_tombo   hrasrb  R    1:16:43      1 aklppg33\n",
      "            993542     short s4_tombo   hrasrb  R    1:17:30      1 aklppg33\n"
     ]
    }
   ],
   "source": [
    "squeue -u hrasrb"
   ]
  },
  {
   "cell_type": "markdown",
   "id": "ee5e5b69-4d56-4a40-bd9f-030355e9034b",
   "metadata": {},
   "source": [
    "# MultiQC"
   ]
  },
  {
   "cell_type": "code",
   "execution_count": 1,
   "id": "94f7dbdf-a29a-4d63-932f-6ab14a4616af",
   "metadata": {},
   "outputs": [
    {
     "name": "stdout",
     "output_type": "stream",
     "text": [
      "------------------- \u001b[1;94m/software/powerPlant/modulefiles/custom\u001b[0m --------------------\n",
      "\u001b[1mmultiqc\u001b[22m/1.0  \u001b[1mmultiqc\u001b[22m/1.3  \u001b[1mmultiqc\u001b[22m/1.6  \u001b[1mmultiqc\u001b[22m/1.8  \u001b[1mmultiqc\u001b[22m/1.11  \n",
      "\u001b[1mmultiqc\u001b[22m/1.2  \u001b[1mmultiqc\u001b[22m/1.5  \u001b[1mmultiqc\u001b[22m/1.7  \u001b[1mmultiqc\u001b[22m/1.9  \n",
      "\n",
      "Key:\n",
      "\u001b[1;94mmodulepath\u001b[0m  \n"
     ]
    }
   ],
   "source": [
    "module avail multiqc"
   ]
  },
  {
   "cell_type": "code",
   "execution_count": 5,
   "id": "45e17978-9b91-4c68-ad36-d994e0f60761",
   "metadata": {},
   "outputs": [
    {
     "name": "stdout",
     "output_type": "stream",
     "text": [
      "Submitted batch job 994617\n"
     ]
    }
   ],
   "source": [
    "# set variables for directories\n",
    "BASE=/powerplant/workspace/hrasrb/Blueberry_trio\n",
    "LOG=${BASE}/log\n",
    "# M7=${BASE}/data_qc/illumina/M7\n",
    "NUI=${BASE}/data_qc/illumina/Nui\n",
    "\n",
    "cd $BASE\n",
    "\n",
    "module load multiqc/1.11\n",
    "\n",
    "# create and submit bash script\n",
    "sbatch << EOF\n",
    "#!/bin/bash -e\n",
    "\n",
    "#SBATCH -J MultiQC\n",
    "#SBATCH --output=${LOG}/hrasrb_%j.out\n",
    "#SBATCH --error=${LOG}/hrasrb_%j.err\n",
    "#SBATCH --mail-user=Sarah.Bailey@plantandfood.co.nz\n",
    "#SBATCH --mail-type=ALL\n",
    "#SBATCH --time=00:05:00 # Walltime\n",
    "#SBATCH --mem=1K\n",
    "\n",
    "# echo \"MultiQC - M7\"\n",
    "# echo '-----------------------------------------------'\n",
    "# cd ${M7}\n",
    "# multiqc ./01.fastqc \n",
    "# echo\n",
    "# echo \"M7 completed.\"\n",
    "# echo\n",
    "echo \"MultiQC - Nui\"\n",
    "echo '-----------------------------------------------'\n",
    "cd ${NUI}\n",
    "multiqc ./01.fastqc \n",
    "echo\n",
    "echo \"Nui completed.\"\n",
    "\n",
    "EOF\n",
    "\n",
    "module unload multiqc"
   ]
  },
  {
   "cell_type": "markdown",
   "id": "ee462a60-a688-40c8-a41c-09dc5190f77b",
   "metadata": {},
   "source": [
    "## MultiQC"
   ]
  },
  {
   "cell_type": "code",
   "execution_count": null,
   "id": "b60cb666-27fe-4a6b-9306-f1fb619c4f68",
   "metadata": {},
   "outputs": [],
   "source": [
    "# job 994615 M7\n",
    "# job 994617 Nui"
   ]
  },
  {
   "cell_type": "markdown",
   "id": "9afa2eea-7dce-42bc-ad0f-ca632e3e0bc3",
   "metadata": {},
   "source": [
    "### Troubleshooting"
   ]
  },
  {
   "cell_type": "code",
   "execution_count": 3,
   "id": "9de171bc-59a8-45fa-b5d5-3978fdaa2505",
   "metadata": {},
   "outputs": [],
   "source": [
    "cd $LOG"
   ]
  },
  {
   "cell_type": "code",
   "execution_count": 4,
   "id": "5df59328-1287-4aa1-8a8d-a72d454ee7df",
   "metadata": {},
   "outputs": [
    {
     "name": "stdout",
     "output_type": "stream",
     "text": [
      "\n",
      "  /// MultiQC 🔍 | v1.11\n",
      "\n",
      "|           multiqc | MultiQC Version v1.14 now available!\n",
      "|           multiqc | Search path : /powerplant/workspace/hrasrb/Blueberry_trio/data_qc/illumina/M7/01.fastqc\n",
      "|            fastqc | Found 4 reports\n",
      "|           multiqc | Compressing plot data\n",
      "|           multiqc | Report      : multiqc_report.html\n",
      "|           multiqc | Data        : multiqc_data\n",
      "|           multiqc | MultiQC complete\n",
      "Usage: multiqc [OPTIONS] <analysis directory>\n",
      "\n",
      "Error: Invalid value for '<analysis directory>': Path './01.fastqc' does not exist.\n",
      "\n",
      "This is MultiQC v1.11\n",
      "\n",
      "For more help, run 'multiqc --help' or visit http://multiqc.info\n",
      "\n",
      "MultiQC - M7\n",
      "-----------------------------------------------\n",
      "|         searching | ━━━━━━━━━━━━━━━━━━━━━━━━━━━━━━━━━━━━━━━━ 100% 8/8  \n",
      "M7 completed.\n",
      "\n",
      "MultiQC - Nui\n",
      "-----------------------------------------------\n"
     ]
    }
   ],
   "source": [
    "cat *994615*"
   ]
  }
 ],
 "metadata": {
  "kernelspec": {
   "display_name": "Bash",
   "language": "bash",
   "name": "bash"
  },
  "language_info": {
   "codemirror_mode": "shell",
   "file_extension": ".sh",
   "mimetype": "text/x-sh",
   "name": "bash"
  }
 },
 "nbformat": 4,
 "nbformat_minor": 5
}
