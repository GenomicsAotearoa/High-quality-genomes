{
 "cells": [
  {
   "cell_type": "markdown",
   "id": "7bcba7c0-6f72-479a-afa8-67ee9b12bc78",
   "metadata": {},
   "source": [
    "# Get quick summary stats for phased assemblies produced by Chen for David C."
   ]
  },
  {
   "cell_type": "code",
   "execution_count": 17,
   "id": "b5d61856-d0ec-41f0-9ddd-ee0084f98fef",
   "metadata": {},
   "outputs": [],
   "source": [
    "WKDIR=/workspace/hraijc/Blueberry/Blueberry_trio/phased_QC\n",
    "LOGDIR=/workspace/hraijc/Blueberry/Blueberry_trio/log\n"
   ]
  },
  {
   "cell_type": "code",
   "execution_count": 4,
   "id": "4e1a44e5-2f40-4947-bc8b-8e21984bd784",
   "metadata": {},
   "outputs": [],
   "source": [
    "mkdir -p $WKDIR"
   ]
  },
  {
   "cell_type": "code",
   "execution_count": null,
   "id": "c007026c-7cfa-4ca3-a2d5-8e4ace58e084",
   "metadata": {},
   "outputs": [],
   "source": []
  },
  {
   "cell_type": "code",
   "execution_count": 5,
   "id": "942dc093-e238-4fdb-ae9f-87604a2688a4",
   "metadata": {},
   "outputs": [],
   "source": [
    "cd $WKDIR\n",
    "# Symlink Chen's assemblies into my workspace.\n",
    "for FILE in /workspace/hraczw/github/bioinf_blueberry_trio/*.fa\n",
    "    do\n",
    "    ln -s $FILE\n",
    "done"
   ]
  },
  {
   "cell_type": "code",
   "execution_count": 18,
   "id": "cb89ba06-39a0-4ae7-bda7-a70334b95433",
   "metadata": {},
   "outputs": [
    {
     "name": "stdout",
     "output_type": "stream",
     "text": [
      "lrwxrwxrwx. 1 hraijc powerplant 66 Mar  1 14:53 M7.bp.hap1.p_ctg.fa -> /workspace/hraczw/github/bioinf_blueberry_trio/M7.bp.hap1.p_ctg.fa\n",
      "lrwxrwxrwx. 1 hraijc powerplant 66 Mar  1 14:53 M7.bp.hap2.p_ctg.fa -> /workspace/hraczw/github/bioinf_blueberry_trio/M7.bp.hap2.p_ctg.fa\n",
      "lrwxrwxrwx. 1 hraijc powerplant 67 Mar  1 14:53 Nui.bp.hap1.p_ctg.fa -> /workspace/hraczw/github/bioinf_blueberry_trio/Nui.bp.hap1.p_ctg.fa\n",
      "lrwxrwxrwx. 1 hraijc powerplant 67 Mar  1 14:53 Nui.bp.hap2.p_ctg.fa -> /workspace/hraczw/github/bioinf_blueberry_trio/Nui.bp.hap2.p_ctg.fa\n"
     ]
    }
   ],
   "source": [
    "ls -l *.fa"
   ]
  },
  {
   "cell_type": "code",
   "execution_count": 15,
   "id": "7290f68b-7419-4a6c-ba29-d55befcbb01f",
   "metadata": {},
   "outputs": [
    {
     "name": "stdout",
     "output_type": "stream",
     "text": [
      "Submitted batch job 1040140\n"
     ]
    }
   ],
   "source": [
    "# Get assembly stats. \n",
    "cd $WKDIR\n",
    "sbatch << EOF\n",
    "#!/bin/bash\n",
    "#SBATCH -J hic_compqc\n",
    "#SBATCH -o ${LOGDIR}/%J.out\n",
    "#SBATCH -e ${LOGDIR}/%J.err\n",
    "#SBATCH --cpus-per-task=1\n",
    "#SBATCH --mem=1G\n",
    "#SBATCH --time=00:10:00\n",
    "\n",
    "module load BBMap/38.33\n",
    "\n",
    "statswrapper.sh in=M7.bp.hap1.p_ctg.fa,M7.bp.hap2.p_ctg.fa,Nui.bp.hap1.p_ctg.fa,Nui.bp.hap2.p_ctg.fa format=3 > Phased_Assemblies_Stats.txt\n",
    "statswrapper.sh in=M7.bp.hap1.p_ctg.fa,M7.bp.hap2.p_ctg.fa,Nui.bp.hap1.p_ctg.fa,Nui.bp.hap2.p_ctg.fa format=5 > Phased_Assemblies_contigStats.txt\n",
    "\n",
    "EOF"
   ]
  },
  {
   "cell_type": "code",
   "execution_count": 20,
   "id": "68e0dbce-b937-47da-890f-61ea82921024",
   "metadata": {},
   "outputs": [
    {
     "name": "stdout",
     "output_type": "stream",
     "text": [
      "Submitted batch job 1040156\n"
     ]
    }
   ],
   "source": [
    "sbatch << EOF\n",
    "#!/bin/bash\n",
    "#SBATCH -J Busco\n",
    "#SBATCH -o ${LOGDIR}/%J.out\n",
    "#SBATCH -e ${LOGDIR}/%J.err\n",
    "#SBATCH --cpus-per-task=32\n",
    "#SBATCH --mem=8G\n",
    "#SBATCH --time=4:10:00\n",
    "\n",
    "module load BUSCO/v5.2.2\n",
    "\n",
    "#busco -i M7.bp.hap1.p_ctg.fa -l eudicots -o M7.bp.hap1.p_ctg_busco -m geno -c 32 --datasets_version odb10\n",
    "busco -i M7.bp.hap2.p_ctg.fa -l eudicots -o M7.bp.hap2.p_ctg_busco -m geno -c 32 --datasets_version odb10\n",
    "busco -i Nui.bp.hap1.p_ctg.fa -l eudicots -o Nui.bp.hap1.p_ctg_busco -m geno -c 32 --datasets_version odb10\n",
    "#busco -i Nui.bp.hap2.p_ctg.fa -l eudicots -o Nui.bp.hap2.p_ctg_busco -m geno -c 32 --datasets_version odb10\n",
    "\n",
    "EOF"
   ]
  },
  {
   "cell_type": "code",
   "execution_count": null,
   "id": "24b634f2-9d48-4ecd-8ec0-966523252602",
   "metadata": {},
   "outputs": [],
   "source": []
  }
 ],
 "metadata": {
  "kernelspec": {
   "display_name": "Bash",
   "language": "bash",
   "name": "bash"
  },
  "language_info": {
   "codemirror_mode": "shell",
   "file_extension": ".sh",
   "mimetype": "text/x-sh",
   "name": "bash"
  }
 },
 "nbformat": 4,
 "nbformat_minor": 5
}
