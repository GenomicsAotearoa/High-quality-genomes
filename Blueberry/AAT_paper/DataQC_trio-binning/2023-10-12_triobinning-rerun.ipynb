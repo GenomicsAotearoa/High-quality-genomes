{
 "cells": [
  {
   "cell_type": "markdown",
   "id": "d9101b5e-347d-495a-8214-62beeabffd34",
   "metadata": {},
   "source": [
    "# Reads\n",
    "* Nui (Mother)\n",
    "* M7 (Hortblue Petite) (Father)\n",
    "\n",
    "Trio-binning scripts downloaded from: https://github.com/esrice/trio_binning"
   ]
  },
  {
   "cell_type": "code",
   "execution_count": 16,
   "id": "5fb2e1d6-80da-4789-8383-51baac8b3773",
   "metadata": {},
   "outputs": [],
   "source": [
    "## Nui\n",
    "NUI_R1=/powerplant/input/genomic/plant/Vaccinium/corymbosum/ExperimentRequestor10969_NuixM7_TrioBin/816043/Nui_L001_ds.8485a4d14def4ea9ad3784b85fadd7a2/Nui_S2_L001_R1_001.fastq.gz\t\n",
    "NUI_R2=/powerplant/input/genomic/plant/Vaccinium/corymbosum/ExperimentRequestor10969_NuixM7_TrioBin/816043/Nui_L001_ds.8485a4d14def4ea9ad3784b85fadd7a2/Nui_S2_L001_R2_001.fastq.gz\t\n",
    "\n",
    "## M7\n",
    "M7_L001_R1=/powerplant/input/genomic/plant/Vaccinium/corymbosum/ExperimentRequestor10969_NuixM7_TrioBin/816043/M7_L001_ds.588732e90e434df093aa5fbfe0ad68c2/M7_S1_L001_R1_001.fastq.gz\n",
    "M7_L001_R2=/powerplant/input/genomic/plant/Vaccinium/corymbosum/ExperimentRequestor10969_NuixM7_TrioBin/816043/M7_L001_ds.588732e90e434df093aa5fbfe0ad68c2/M7_S1_L001_R2_001.fastq.gz\n",
    "M7_L004_R1=/powerplant/input/genomic/plant/Vaccinium/corymbosum/ExperimentRequestor10969_NuixM7_TrioBin/816043/M7_L004_ds.3bb185df2b8c4f09a01f7279b8236997/M7_S1_L004_R1_001.fastq.gz\n",
    "M7_L004_R2=/powerplant/input/genomic/plant/Vaccinium/corymbosum/ExperimentRequestor10969_NuixM7_TrioBin/816043/M7_L004_ds.3bb185df2b8c4f09a01f7279b8236997/M7_S1_L004_R2_001.fastq.gz\n",
    "\n",
    "## progeny\n",
    "progeny_set1=/powerplant/input/genomic/plant/Vaccinium/corymbosum/ExperimentRequestor10969_NuixM7_TrioBin/Blueberry_M7xNui/SMRTcell1/CCS_Data/m64136_221113_041854.hifi_reads.fastq.gz\n",
    "## 15G\n",
    "progeny_set2=/powerplant/input/genomic/plant/Vaccinium/corymbosum/ExperimentRequestor10969_NuixM7_TrioBin/Blueberry_M7xNui/SMRTcell2/CCS_Data/m64136_221114_133241.hifi_reads.fastq.gz\n",
    "## 19G"
   ]
  },
  {
   "cell_type": "markdown",
   "id": "fb27e985-af48-4e4a-bd55-ca1743f3340c",
   "metadata": {},
   "source": [
    "# Module"
   ]
  },
  {
   "cell_type": "code",
   "execution_count": 2,
   "id": "e38ed301-6eda-4dd3-b661-2ec83d759e89",
   "metadata": {},
   "outputs": [],
   "source": [
    "TRIO_BIN=/powerplant/workspace/hrasrb/my_modules/trio_binning"
   ]
  },
  {
   "cell_type": "markdown",
   "id": "d2d43499-fef4-46ee-b50e-7d81b1ba8eb3",
   "metadata": {},
   "source": [
    "# Find Unique Kmers"
   ]
  },
  {
   "cell_type": "code",
   "execution_count": 3,
   "id": "0d753f17-35b4-4222-b60c-ffa8a5035491",
   "metadata": {},
   "outputs": [
    {
     "name": "stdout",
     "output_type": "stream",
     "text": [
      "Submitted batch job 2093028\n"
     ]
    }
   ],
   "source": [
    "# set variables for directories\n",
    "BASE=/powerplant/workspace/hrasrb/Blueberry_trio/rerun\n",
    "WKDIR=${BASE}/trio-binning\n",
    "LOG=${BASE}/log\n",
    "mkdir -p $LOG\n",
    "# define a subdir for this step's output\n",
    "OUTPUT=${WKDIR}/01.find-unique-kmers\n",
    "mkdir -p $OUTPUT\n",
    "INTERMEDIATE_DIR=${WKDIR}/intermediate_result_dir\n",
    "mkdir -p $INTERMEDIATE_DIR\n",
    "\n",
    "\n",
    "module load pfr-python3\n",
    "module load KMC/3.0.0\n",
    "\n",
    "# Submit the job with the here-doc script.\n",
    "\n",
    "# Note the shell $VARIABLES are evaluated in the here-doc.\n",
    "# Note the lines beggining with #SBATCH are equivalent to the usual sbatch CLI arguments\n",
    "\n",
    "sbatch << EOF\n",
    "#!/bin/bash\n",
    "#SBATCH -J findUniqKmers\n",
    "#SBATCH --output=${LOG}/hrasrb_%j.out\n",
    "#SBATCH --error=${LOG}/hrasrb_%j.err\n",
    "#SBATCH --mail-user=Sarah.Bailey@plantandfood.co.nz\n",
    "#SBATCH --mail-type=ALL\n",
    "#SBATCH --cpus-per-task=8\n",
    "#SBATCH --mem=12G\n",
    "#SBATCH --time=00:20:00\n",
    "\n",
    "# load the module inside the job\n",
    "\n",
    "$TRIO_BIN/find-unique-kmers \\\n",
    "  -k 21 \\\n",
    "  -p 8 \\\n",
    "  -o $OUTPUT \\\n",
    "  -s $INTERMEDIATE_DIR \\\n",
    "  $NUI_R1,$NUI_R2 \\\n",
    "  $M7_L001_R1,$M7_L001_R2,$M7_L004_R1,$M7_L004_2_R2\n",
    "\n",
    "EOF\n",
    "module unload pfr-python3\n",
    "module unload KMC/3.0.0"
   ]
  },
  {
   "cell_type": "code",
   "execution_count": null,
   "id": "a30b333e-a6f7-488c-8ad8-33f8fbb617b3",
   "metadata": {},
   "outputs": [],
   "source": [
    "# job 2093028"
   ]
  },
  {
   "cell_type": "markdown",
   "id": "f12329b4-9961-4619-8d8d-08d47a48d606",
   "metadata": {},
   "source": [
    "* Nui unique kmers in hapA_only_kmers.txt\n",
    "* M7 unique kmers in hapB_only_kmers.txt"
   ]
  },
  {
   "cell_type": "code",
   "execution_count": 9,
   "id": "f766c9a2-04c8-4db0-b845-6675cede1f12",
   "metadata": {},
   "outputs": [
    {
     "name": "stdout",
     "output_type": "stream",
     "text": [
      "Job ID: 2093028\n",
      "Cluster: powerplant\n",
      "User/Group: hrasrb/hrasrb\n",
      "State: COMPLETED (exit code 0)\n",
      "Nodes: 1\n",
      "Cores per node: 8\n",
      "CPU Utilized: 01:17:34\n",
      "CPU Efficiency: 63.17% of 02:02:48 core-walltime\n",
      "Job Wall-clock time: 00:15:21\n",
      "Memory Utilized: 11.23 GB\n",
      "Memory Efficiency: 93.62% of 12.00 GB\n"
     ]
    }
   ],
   "source": [
    "seff 2093028"
   ]
  },
  {
   "cell_type": "code",
   "execution_count": 10,
   "id": "5b25e05c-3d14-4eea-b1f6-3d3c41ef6cf7",
   "metadata": {},
   "outputs": [],
   "source": [
    "cd $LOG"
   ]
  },
  {
   "cell_type": "code",
   "execution_count": 11,
   "id": "8a63596c-e7e2-491c-b1f6-92b34f9563b6",
   "metadata": {},
   "outputs": [
    {
     "name": "stdout",
     "output_type": "stream",
     "text": [
      "*********************************\n",
      "Stage 1: 100%\n",
      "Stage 2: 100%\n",
      "1st stage: 175.127s\n",
      "2nd stage: 134.842s\n",
      "Total    : 309.969s\n",
      "Tmp size : 32358MB\n",
      "\n",
      "Stats:\n",
      "   No. of k-mers below min. threshold :   2236090181\n",
      "   No. of k-mers above max. threshold :            0\n",
      "   No. of unique k-mers               :   3150877949\n",
      "   No. of unique counted k-mers       :    914787768\n",
      "   Total no. of k-mers                :  25842863752\n",
      "   Total no. of reads                 :    200532170\n",
      "   Total no. of super-k-mers          :   3969618426\n",
      "in1: 100% \n",
      "***************************************\n",
      "Stage 1: 100%\n",
      "Stage 2: 100%\n",
      "1st stage: 222.486s\n",
      "2nd stage: 150.355s\n",
      "Total    : 372.841s\n",
      "Tmp size : 38534MB\n",
      "\n",
      "Stats:\n",
      "   No. of k-mers below min. threshold :   2026580058\n",
      "   No. of k-mers above max. threshold :            0\n",
      "   No. of unique k-mers               :   2947122095\n",
      "   No. of unique counted k-mers       :    920542037\n",
      "   Total no. of k-mers                :  30786079495\n",
      "   Total no. of reads                 :    239303325\n",
      "   Total no. of super-k-mers          :   4726815278\n",
      "in1: 100% \n",
      "in1: 100% in2: 100% \n",
      "in1: 100% in2: 100% \n"
     ]
    }
   ],
   "source": [
    "cat *2093028.out"
   ]
  },
  {
   "cell_type": "code",
   "execution_count": 12,
   "id": "7b2e9adb-33cc-4a01-872f-5dead5fc52ae",
   "metadata": {},
   "outputs": [
    {
     "name": "stdout",
     "output_type": "stream",
     "text": [
      "\u001b[92mCounting k-mers in haplotype A...\u001b[0m\n",
      "\u001b[92mComputing and analyzing histogram...\u001b[0m\n",
      "\u001b[92mUsing counts in range [4,13].\u001b[0m\n",
      "\u001b[92mCounting k-mers in haplotype B...\u001b[0m\n",
      "\u001b[92mComputing and analyzing histogram...\u001b[0m\n",
      "\u001b[92mUsing counts in range [5,20].\u001b[0m\n",
      "\u001b[92mFinding k-mers unique to haplotype A...\u001b[0m\n",
      "\u001b[92mDumping k-mers unique to haplotype A...\u001b[0m\n",
      "\u001b[92mFinding k-mers unique to haplotype B...\u001b[0m\n",
      "\u001b[92mDumping k-mers unique to haplotype A...\u001b[0m\n",
      "\n",
      "\n",
      "\u001b[94m# of unique k-mers in haplotype A: 354811037\u001b[0m\n",
      "\u001b[94m# of unique k-mers in haplotype B: 360565306\u001b[0m\n"
     ]
    }
   ],
   "source": [
    "cat *2093028.err"
   ]
  },
  {
   "cell_type": "markdown",
   "id": "d957bd5a-9e65-4e7e-85b8-52d09b0ee898",
   "metadata": {},
   "source": [
    "# Classify HiFi - Set 1"
   ]
  },
  {
   "cell_type": "code",
   "execution_count": 17,
   "id": "6d2cfd78-6578-451e-829b-36019c6ee0d1",
   "metadata": {},
   "outputs": [
    {
     "name": "stdout",
     "output_type": "stream",
     "text": [
      "Submitted batch job 2095242\n"
     ]
    }
   ],
   "source": [
    "# set variables for directories\n",
    "BASE=/powerplant/workspace/hrasrb/Blueberry_trio/rerun\n",
    "WKDIR=${BASE}/trio-binning\n",
    "LOG=${BASE}/log\n",
    "\n",
    "INPUT=${WKDIR}/01.find-unique-kmers\n",
    "\n",
    "# define a subdir for this step's output\n",
    "OUTPUT=${WKDIR}/02.classifyHiFi_progeny_set1\n",
    "mkdir -p $OUTPUT\n",
    "\n",
    "# Submit the job with the here-doc script.\n",
    "\n",
    "# Note the shell $VARIABLES are evaluated in the here-doc.\n",
    "# Note the lines beggining with #SBATCH are equivalent to the usual sbatch CLI arguments\n",
    "\n",
    "sbatch --nice << EOF\n",
    "#!/bin/bash\n",
    "#SBATCH -J classifyHiFi_set1\n",
    "#SBATCH --output=${LOG}/hrasrb_%j.out\n",
    "#SBATCH --error=${LOG}/hrasrb_%j.err\n",
    "#SBATCH --mail-user=Sarah.Bailey@plantandfood.co.nz\n",
    "#SBATCH --mail-type=ALL\n",
    "#SBATCH --cpus-per-task=8\n",
    "#SBATCH --mem=40G\n",
    "#SBATCH --time=10:00:00\n",
    "\n",
    "# load the module inside the job\n",
    "\n",
    "$TRIO_BIN/classify_by_kmers \\\n",
    "    -a $INPUT/hapA_only_kmers.txt \\\n",
    "    -A $OUTPUT/classified_progeny1_hapA_Nui \\\n",
    "    -b $INPUT/hapB_only_kmers.txt \\\n",
    "    -B $OUTPUT/classified_progeny1_hapB_M7 \\\n",
    "    -U $OUTPUT/unclassified_progeny1 \\\n",
    "    -i ${progeny_set1} \\\n",
    "    --threads 8\n",
    "\n",
    "EOF\n",
    "#squeue"
   ]
  },
  {
   "cell_type": "code",
   "execution_count": 13,
   "id": "a765e3c7-e76d-4ac5-b61e-906d73999e7b",
   "metadata": {},
   "outputs": [
    {
     "name": "stdout",
     "output_type": "stream",
     "text": [
      "Job ID: 2093032\n",
      "Cluster: powerplant\n",
      "User/Group: hrasrb/hrasrb\n",
      "State: FAILED (exit code 1)\n",
      "Nodes: 1\n",
      "Cores per node: 8\n",
      "CPU Utilized: 00:00:00\n",
      "CPU Efficiency: 0.00% of 00:00:00 core-walltime\n",
      "Job Wall-clock time: 00:00:00\n",
      "Memory Utilized: 0.00 MB (estimated maximum)\n",
      "Memory Efficiency: 0.00% of 40.00 GB (40.00 GB/node)\n"
     ]
    }
   ],
   "source": [
    "seff 2095242"
   ]
  },
  {
   "cell_type": "code",
   "execution_count": 14,
   "id": "c75ddb0f-4888-4be6-9cd4-ec9227e8c9d1",
   "metadata": {},
   "outputs": [],
   "source": [
    "# set variables for directories\n",
    "BASE=/powerplant/workspace/hrasrb/Blueberry_trio/rerun\n",
    "LOG=${BASE}/log\n",
    "cd $LOG"
   ]
  },
  {
   "cell_type": "code",
   "execution_count": 15,
   "id": "6736a003-7476-4aaf-8973-01afbdcf91e0",
   "metadata": {},
   "outputs": [
    {
     "name": "stdout",
     "output_type": "stream",
     "text": [
      "error: The argument '--input-reads <input-reads>' requires a value but none was supplied\n",
      "\n",
      "USAGE:\n",
      "    classify_by_kmers --hapA-kmers <hapA-kmers> --hapA-out-prefix <hapA-out-prefix> --hapB-kmers <hapB-kmers> --hapB-out-prefix <hapB-out-prefix> --hapU-out-prefix <hapU-out-prefix> --input-reads <input-reads> --threads <threads>\n",
      "\n",
      "For more information try --help\n"
     ]
    }
   ],
   "source": [
    "cat *2095242.err"
   ]
  },
  {
   "cell_type": "code",
   "execution_count": 3,
   "id": "0d8e2277-3f1b-4383-ad32-8cfd0f5b8e0b",
   "metadata": {},
   "outputs": [
    {
     "name": "stdout",
     "output_type": "stream",
     "text": [
      "m64136_221113_041854/69797155/ccs\tA\t20.094368\t9\n",
      "m64136_221113_041854/69797162/ccs\tA\t1089.733\t12\n",
      "m64136_221113_041854/69797166/ccs\tB\t10.820044\t57\n",
      "m64136_221113_041854/69797168/ccs\tB\t0\t301\n",
      "m64136_221113_041854/69797169/ccs\tA\t74.19459\t9\n",
      "m64136_221113_041854/69797171/ccs\tB\t1.5457206\t383\n",
      "m64136_221113_041854/69797176/ccs\tA\t370.97293\t40\n",
      "m64136_221113_041854/69797179/ccs\tB\t1.5457206\t433\n",
      "m64136_221113_041854/69797186/ccs\tA\t54.10022\t15\n",
      "m64136_221113_041854/69797193/ccs\tA\t683.2085\t4\n"
     ]
    }
   ],
   "source": [
    "tail *2095242.out"
   ]
  },
  {
   "cell_type": "markdown",
   "id": "526c55ef-7838-48da-8a68-17e958d5b881",
   "metadata": {},
   "source": [
    "# Classify HiFi - Set 2"
   ]
  },
  {
   "cell_type": "code",
   "execution_count": 18,
   "id": "f8f5367b-9a9f-4cc6-a282-063f8d0e21f9",
   "metadata": {},
   "outputs": [
    {
     "name": "stdout",
     "output_type": "stream",
     "text": [
      "Submitted batch job 2095243\n"
     ]
    }
   ],
   "source": [
    "# set variables for directories\n",
    "BASE=/powerplant/workspace/hrasrb/Blueberry_trio/rerun\n",
    "WKDIR=${BASE}/trio-binning\n",
    "LOG=${BASE}/log\n",
    "\n",
    "INPUT=${WKDIR}/01.find-unique-kmers\n",
    "\n",
    "# define a subdir for this step's output\n",
    "OUTPUT=${WKDIR}/02.classifyHiFi_progeny_set2\n",
    "mkdir -p $OUTPUT\n",
    "\n",
    "# Submit the job with the here-doc script.\n",
    "\n",
    "# Note the shell $VARIABLES are evaluated in the here-doc.\n",
    "# Note the lines beggining with #SBATCH are equivalent to the usual sbatch CLI arguments\n",
    "\n",
    "sbatch --nice << EOF\n",
    "#!/bin/bash\n",
    "#SBATCH -J classifyHiFi_set2\n",
    "#SBATCH --output=${LOG}/hrasrb_%j.out\n",
    "#SBATCH --error=${LOG}/hrasrb_%j.err\n",
    "#SBATCH --mail-user=Sarah.Bailey@plantandfood.co.nz\n",
    "#SBATCH --mail-type=ALL\n",
    "#SBATCH --cpus-per-task=8\n",
    "#SBATCH --mem=40G\n",
    "#SBATCH --time=10:00:00\n",
    "\n",
    "# load the module inside the job\n",
    "\n",
    "$TRIO_BIN/classify_by_kmers \\\n",
    "    -a $INPUT/hapA_only_kmers.txt \\\n",
    "    -A $OUTPUT/classified_progeny2_hapA_Nui \\\n",
    "    -b $INPUT/hapB_only_kmers.txt \\\n",
    "    -B $OUTPUT/classified_progeny2_hapB_M7 \\\n",
    "    -U $OUTPUT/unclassified_progeny2 \\\n",
    "    -i ${progeny_set2} \\\n",
    "    --threads 8\n",
    "\n",
    "EOF\n",
    "#squeue"
   ]
  },
  {
   "cell_type": "code",
   "execution_count": 6,
   "id": "b906bf40-23a2-4648-9086-6059865a3d43",
   "metadata": {},
   "outputs": [
    {
     "name": "stdout",
     "output_type": "stream",
     "text": [
      "Job ID: 1039707\n",
      "Cluster: powerplant\n",
      "User/Group: hrasrb/hrasrb\n",
      "State: COMPLETED (exit code 0)\n",
      "Nodes: 1\n",
      "Cores per node: 12\n",
      "CPU Utilized: 07:37:43\n",
      "CPU Efficiency: 8.66% of 3-16:05:12 core-walltime\n",
      "Job Wall-clock time: 07:20:26\n",
      "Memory Utilized: 32.00 GB\n",
      "Memory Efficiency: 32.00% of 100.00 GB\n"
     ]
    }
   ],
   "source": [
    "seff 2095243"
   ]
  },
  {
   "cell_type": "code",
   "execution_count": 5,
   "id": "894867a3-1f25-4d18-9fb3-fedd70d79b99",
   "metadata": {},
   "outputs": [
    {
     "name": "stdout",
     "output_type": "stream",
     "text": [
      "\u001b[1;34mReading k-mers into sets...\u001b[0m\n",
      "\u001b[1;34mClassifying reads...\u001b[0m\n"
     ]
    }
   ],
   "source": [
    "cat *2095243.err"
   ]
  },
  {
   "cell_type": "code",
   "execution_count": 4,
   "id": "c1ead434-a2d7-47d1-9cff-4c41d5929b2d",
   "metadata": {},
   "outputs": [
    {
     "name": "stdout",
     "output_type": "stream",
     "text": [
      "m64136_221114_133241/25231828/ccs\tA\t75.74031\t18\n",
      "m64136_221114_133241/25231835/ccs\tB\t0\t311\n",
      "m64136_221114_133241/25231838/ccs\tB\t6.1828823\t589\n",
      "m64136_221114_133241/25231848/ccs\tB\t9.274323\t285\n",
      "m64136_221114_133241/25231854/ccs\tA\t168.48354\t5\n",
      "m64136_221114_133241/25231858/ccs\tB\t4.6371617\t275\n",
      "m64136_221114_133241/25231867/ccs\tB\t9.274323\t572\n",
      "m64136_221114_133241/25231878/ccs\tA\t46.371616\t4\n",
      "m64136_221114_133241/25231883/ccs\tA\t1425.1544\t24\n",
      "m64136_221114_133241/25231891/ccs\tB\t1.5457206\t323\n"
     ]
    }
   ],
   "source": [
    "tail *2095243.out"
   ]
  },
  {
   "cell_type": "code",
   "execution_count": 19,
   "id": "20994343-a8ba-4b6b-a176-6e13ca16480f",
   "metadata": {},
   "outputs": [
    {
     "name": "stdout",
     "output_type": "stream",
     "text": [
      "             JOBID PARTITION     NAME     USER ST       TIME  NODES NODELIST(REASON)\n",
      "           2095141      fast nf-NFCOR   hrasrb  R       3:29      1 aklppb30\n",
      "           2091685      long [RStudio   hrasrb  R    1:35:37      1 wkoppb42\n",
      "           2091249    medium nf-NFCOR   hrasrb  R   17:47:51      1 wkoppg34\n",
      "           2091296    medium nf-ASSEM   hrasrb  R   16:43:37      1 aklppg33\n",
      "           2091298    medium nf-ASSEM   hrasrb  R   16:43:37      1 aklppg33\n",
      "           2091299    medium nf-ASSEM   hrasrb  R   16:43:37      1 aklppg33\n",
      "           2091294    medium nf-ASSEM   hrasrb  R   16:43:40      1 aklppg34\n",
      "           2093646    medium nf-NFCOR   hrasrb  R      20:06      1 aklppb30\n",
      "           2093337    medium nf-NFCOR   hrasrb  R      25:40      1 wkoppb30\n",
      "           2090869    medium methylse   hrasrb  R   20:09:50      1 wkoppg34\n",
      "           2090868    medium methylse   hrasrb  R   20:10:01      1 wkoppg34\n",
      "           2090849    medium methylse   hrasrb  R   20:13:48      1 wkoppg34\n",
      "           2091128    medium test_R00   hrasrb  R   18:57:37      1 aklppg34\n",
      "           2091106    medium Blue_ASM   hrasrb  R   18:59:37      1 wkoppg32\n",
      "           2091365    medium R0062_do   hrasrb  R    2:58:22      1 aklppg33\n",
      "           2091697     short nf-NFCOR   hrasrb  R    1:28:53      1 aklppb30\n",
      "           2093027     short nf-NFCOR   hrasrb  R      39:05      1 aklppb30\n",
      "           2093024     short nf-NFCOR   hrasrb  R      42:42      1 aklppb30\n",
      "           2092720     short nf-NFCOR   hrasrb  R      49:06      1 aklppb30\n",
      "           2094350     short nf-NFCOR   hrasrb  R       8:18      1 aklppb30\n",
      "           2093749     short nf-NFCOR   hrasrb  R      19:47      1 aklppg31\n",
      "           2093748     short nf-NFCOR   hrasrb  R      19:53      1 aklppg34\n",
      "           2093747     short nf-NFCOR   hrasrb  R      19:56      1 aklppb40\n",
      "           2093645     short nf-NFCOR   hrasrb  R      20:06      1 aklppb42\n",
      "           2093640     short nf-NFCOR   hrasrb  R      22:00      1 aklppb30\n",
      "           2093539     short nf-NFCOR   hrasrb  R      22:37      1 aklppb41\n",
      "           2094351     short nf-NFCOR   hrasrb  R       8:18      1 wkoppb30\n",
      "           2095243     short classify   hrasrb  R       0:12      1 aklppb43\n",
      "           2095242     short classify   hrasrb  R       1:07      1 aklppb30\n"
     ]
    }
   ],
   "source": [
    "squeue -u hrasrb"
   ]
  },
  {
   "cell_type": "code",
   "execution_count": 1,
   "id": "ae4c9aee-3c55-4726-847d-7e9a4a76c489",
   "metadata": {},
   "outputs": [],
   "source": [
    "BASE=/powerplant/workspace/hrasrb/Blueberry_trio/rerun\n",
    "WKDIR=${BASE}/trio-binning"
   ]
  },
  {
   "cell_type": "code",
   "execution_count": 5,
   "id": "3ffafdbb-204b-4fd1-9734-062432297a2c",
   "metadata": {},
   "outputs": [
    {
     "name": "stdout",
     "output_type": "stream",
     "text": [
      "classified_progeny1_hapA_Nui.fq  unclassified_progeny1.fq\n",
      "classified_progeny1_hapB_M7.fq\n"
     ]
    }
   ],
   "source": [
    "cd $WKDIR/02.classifyHiFi_progeny_set1\n",
    "ls"
   ]
  },
  {
   "cell_type": "code",
   "execution_count": 6,
   "id": "19d3fa18-c96b-497b-9a7b-f27b282386bf",
   "metadata": {},
   "outputs": [],
   "source": [
    "mkdir /powerplant/workspace/hrasrb/Blueberry_trio/rerun/trio-binning/03.evaluate_binning\n",
    "\n",
    "cd /powerplant/workspace/hrasrb/Blueberry_trio/rerun/trio-binning/03.evaluate_binning\n",
    "\n",
    "cat <<'EOF' >> binned_reads.fofn\n",
    "/powerplant/workspace/hrasrb/Blueberry_trio/rerun/trio-binning/02.classifyHiFi_progeny_set1/classified_progeny1_hapA_Nui.fq\n",
    "/powerplant/workspace/hrasrb/Blueberry_trio/rerun/trio-binning/02.classifyHiFi_progeny_set1/classified_progeny1_hapB_M7.fq\n",
    "/powerplant/workspace/hrasrb/Blueberry_trio/rerun/trio-binning/02.classifyHiFi_progeny_set2/classified_progeny2_hapA_Nui.fq\n",
    "/powerplant/workspace/hrasrb/Blueberry_trio/rerun/trio-binning/02.classifyHiFi_progeny_set2/classified_progeny2_hapB_M7.fq\n",
    "/powerplant/workspace/hrasrb/Blueberry_trio/rerun/trio-binning/02.classifyHiFi_progeny_set1/unclassified_progeny1.fq\n",
    "/powerplant/workspace/hrasrb/Blueberry_trio/rerun/trio-binning/02.classifyHiFi_progeny_set2/unclassified_progeny2.fq\n",
    "EOF"
   ]
  },
  {
   "cell_type": "code",
   "execution_count": 13,
   "id": "5ef940c0-1918-439e-bfd8-09f7b4d6a913",
   "metadata": {},
   "outputs": [
    {
     "name": "stdout",
     "output_type": "stream",
     "text": [
      "SBATCH_ARGS: --time 00:20:00 --mem 300M --cpus-per-task=1 --mail-user=Sarah.Bailey@plantandfood.co.nz --mail-type=ALL\n",
      "JOB_ARRAY_NAME: NanoStat_array\n",
      "GROUP_SIZE: 1\n",
      "NUM_COMMANDS: 6\n",
      "Submitted batch job 2101130\n"
     ]
    }
   ],
   "source": [
    "# load packages\n",
    "ml nanopack\n",
    "\n",
    "FILE=./binned_reads.fofn\n",
    "cat $FILE | while read line\n",
    "do\n",
    "    PREFIX=$(basename ${line} .fq)\n",
    "    echo NanoStat --fastq ${line} -t 1 -o . -n ${PREFIX}_NanoStat.out\n",
    "done | abatch -j NanoStat_array --time 00:20:00 --mem 300M --cpus-per-task=1 --mail-user=Sarah.Bailey@plantandfood.co.nz --mail-type=ALL | sbatch\n",
    "\n",
    "module unload nanopack"
   ]
  },
  {
   "cell_type": "code",
   "execution_count": 12,
   "id": "cbc6a08e-91ab-4fb1-9ff9-78f1e68f7346",
   "metadata": {},
   "outputs": [
    {
     "name": "stdout",
     "output_type": "stream",
     "text": [
      "Job ID: 1040146\n",
      "Array Job ID: 1040141_5\n",
      "Cluster: powerplant\n",
      "User/Group: hrasrb/hrasrb\n",
      "State: COMPLETED (exit code 0)\n",
      "Nodes: 1\n",
      "Cores per node: 2\n",
      "CPU Utilized: 00:00:04\n",
      "CPU Efficiency: 9.09% of 00:00:44 core-walltime\n",
      "Job Wall-clock time: 00:00:22\n",
      "Memory Utilized: 0.00 MB (estimated maximum)\n",
      "Memory Efficiency: 0.00% of 400.00 MB (400.00 MB/node)\n"
     ]
    }
   ],
   "source": [
    "seff 1040141_5"
   ]
  },
  {
   "cell_type": "code",
   "execution_count": null,
   "id": "c22989ae-02b3-4fc0-b818-df2438eaf382",
   "metadata": {},
   "outputs": [],
   "source": []
  },
  {
   "cell_type": "code",
   "execution_count": 4,
   "id": "c746653d-b554-46fe-9002-32a50b27c0bf",
   "metadata": {},
   "outputs": [
    {
     "name": "stdout",
     "output_type": "stream",
     "text": [
      "Submitted batch job 2124386\n"
     ]
    }
   ],
   "source": [
    "# Nui_progeny_set1=/powerplant/workspace/hrasrb/Blueberry_trio/rerun/trio-binning/02.classifyHiFi_progeny_set1/classified_progeny1_hapA_Nui.fq\n",
    "# M7_progeny_set1=/powerplant/workspace/hrasrb/Blueberry_trio/rerun/trio-binning/02.classifyHiFi_progeny_set1/classified_progeny1_hapB_M7.fq\n",
    "# Nui_progeny_set2=/powerplant/workspace/hrasrb/Blueberry_trio/rerun/trio-binning/02.classifyHiFi_progeny_set2/classified_progeny2_hapA_Nui.fq\n",
    "# M7_progeny_set2=/powerplant/workspace/hrasrb/Blueberry_trio/rerun/trio-binning/02.classifyHiFi_progeny_set2/classified_progeny2_hapB_M7.fq\n",
    "un_progeny_set1=/powerplant/workspace/hrasrb/Blueberry_trio/rerun/trio-binning/02.classifyHiFi_progeny_set1/unclassified_progeny1.fq\n",
    "un_progeny_set2=/powerplant/workspace/hrasrb/Blueberry_trio/rerun/trio-binning/02.classifyHiFi_progeny_set2/unclassified_progeny2.fq\n",
    "\n",
    "mkdir -p /powerplant/workspace/hrasrb/Blueberry_trio/rerun/trio-binning/02.classifyHiFi/\n",
    "\n",
    "cd  /powerplant/workspace/hrasrb/Blueberry_trio/rerun/trio-binning/\n",
    "\n",
    "sbatch << EOF\n",
    "#!/bin/bash\n",
    "#SBATCH -J catReads\n",
    "#SBATCH --output=hrasrb_%j.out\n",
    "#SBATCH --error=hrasrb_%j.err\n",
    "#SBATCH --mail-user=Sarah.Bailey@plantandfood.co.nz\n",
    "#SBATCH --mail-type=ALL\n",
    "#SBATCH --mem=1G\n",
    "#SBATCH --time=10:00:00\n",
    "\n",
    "# cat ${Nui_progeny_set1} ${Nui_progeny_set2} | gzip -9 > /powerplant/workspace/hrasrb/Blueberry_trio/rerun/trio-binning/02.classifyHiFi/classified_Nui.fastq.gz\n",
    "# cat ${M7_progeny_set1} ${M7_progeny_set2} | gzip -9  > /powerplant/workspace/hrasrb/Blueberry_trio/rerun/trio-binning/02.classifyHiFi/classified_M7.fastq.gz\n",
    "cat ${un_progeny_set1} ${un_progeny_set2} | gzip -9  > /powerplant/workspace/hrasrb/Blueberry_trio/rerun/trio-binning/02.classifyHiFi/unclassified.fastq.gz\n",
    "\n",
    "EOF"
   ]
  },
  {
   "cell_type": "code",
   "execution_count": 5,
   "id": "51da2556-166a-4664-a319-308e3ddb7ca8",
   "metadata": {},
   "outputs": [
    {
     "name": "stdout",
     "output_type": "stream",
     "text": [
      "             JOBID PARTITION     NAME     USER ST       TIME  NODES NODELIST(REASON)\n",
      "           2124386     short catReads   hrasrb  R       0:17      1 wkoppb43\n",
      "           2124385     short catReads   hrasrb  R       0:35      1 aklppb30\n"
     ]
    }
   ],
   "source": [
    "squeue -u hrasrb"
   ]
  },
  {
   "cell_type": "code",
   "execution_count": 1,
   "id": "096b6f12-4a05-4b22-bd34-f5a630368be1",
   "metadata": {},
   "outputs": [
    {
     "name": "stdout",
     "output_type": "stream",
     "text": [
      "slurmstepd: error: *** JOB 2103664 ON wkoppg34 CANCELLED AT 2023-10-14T00:17:14 DUE TO TIME LIMIT ***\n"
     ]
    }
   ],
   "source": [
    "cd  /powerplant/workspace/hrasrb/Blueberry_trio/rerun/trio-binning/\n",
    "cat *2103664*"
   ]
  },
  {
   "cell_type": "code",
   "execution_count": 2,
   "id": "3bf5431a-9df3-4508-8bbd-46e7dc80a702",
   "metadata": {},
   "outputs": [
    {
     "name": "stdout",
     "output_type": "stream",
     "text": [
      "Job ID: 2103664\n",
      "Cluster: powerplant\n",
      "User/Group: hrasrb/hrasrb\n",
      "State: TIMEOUT (exit code 0)\n",
      "Cores: 1\n",
      "CPU Utilized: 09:59:35\n",
      "CPU Efficiency: 99.89% of 10:00:15 core-walltime\n",
      "Job Wall-clock time: 10:00:15\n",
      "Memory Utilized: 1.42 MB\n",
      "Memory Efficiency: 0.14% of 1.00 GB\n"
     ]
    }
   ],
   "source": [
    "seff 2103664"
   ]
  },
  {
   "cell_type": "code",
   "execution_count": 1,
   "id": "e508d2a3-f051-475b-a889-6e7e2dfb13d2",
   "metadata": {},
   "outputs": [
    {
     "name": "stdout",
     "output_type": "stream",
     "text": [
      "Submitted batch job 2127456\n"
     ]
    }
   ],
   "source": [
    "WKDIR=/powerplant/workspace/hrasrb/Blueberry_trio/rerun/trio-binning\n",
    "mkdir -p ${WKDIR}/02.classifyHiFi\n",
    "\n",
    "cd ${WKDIR}\n",
    "\n",
    "sbatch << EOF\n",
    "#!/bin/bash\n",
    "#SBATCH -J catReads\n",
    "#SBATCH --output=hrasrb_%j.out\n",
    "#SBATCH --error=hrasrb_%j.err\n",
    "#SBATCH --mail-user=Sarah.Bailey@plantandfood.co.nz\n",
    "#SBATCH --mail-type=ALL\n",
    "#SBATCH --mem=1G\n",
    "#SBATCH --time=10:00:00\n",
    "\n",
    "cat ${WKDIR}/02.classifyHiFi/unclassified.fastq.gz ${WKDIR}/02.classifyHiFi/classified_Nui.fastq.gz > ${WKDIR}/02.classifyHiFi/classified_Nui_plus_unclassified.fastq.gz\n",
    "cat ${WKDIR}/02.classifyHiFi/unclassified.fastq.gz ${WKDIR}/02.classifyHiFi/classified_M7.fastq.gz > ${WKDIR}/02.classifyHiFi/classified_M7_plus_unclassified.fastq.gz\n",
    "\n",
    "EOF"
   ]
  },
  {
   "cell_type": "code",
   "execution_count": 4,
   "id": "7b563d75-d9d1-4f4d-b67e-4fb536b264aa",
   "metadata": {},
   "outputs": [
    {
     "name": "stdout",
     "output_type": "stream",
     "text": [
      "Submitted batch job 2127458\n"
     ]
    }
   ],
   "source": [
    "WKDIR=/powerplant/workspace/hrasrb/Blueberry_trio/rerun/trio-binning/02.classifyHiFi\n",
    "OUT=${WKDIR}/Extract_M7\n",
    "\n",
    "mkdir -p ${OUT}\n",
    "\n",
    "cd ${WKDIR}\n",
    "\n",
    "sbatch --dependency=afterok:2127456 << EOF\n",
    "#!/bin/bash\n",
    "#SBATCH -J fastaM7\n",
    "#SBATCH --output=hrasrb_%j.out\n",
    "#SBATCH --error=hrasrb_%j.err\n",
    "#SBATCH --mail-user=Sarah.Bailey@plantandfood.co.nz\n",
    "#SBATCH --mail-type=ALL\n",
    "#SBATCH --mem=10M\n",
    "#SBATCH --time=00:30:00\n",
    "#SBATCH --cpus-per-task=8\n",
    "\n",
    "module load seqtk/1.2\n",
    "module load htslib/1.16\n",
    "\n",
    "seqtk seq -a ${WKDIR}/classified_M7_plus_unclassified.fastq.gz | bgzip --threads 8 > ${OUT}/classified_M7_plus_unclassified.fasta.gz\n",
    "\n",
    "EOF\n"
   ]
  },
  {
   "cell_type": "code",
   "execution_count": 2,
   "id": "4f6e9d0c-c223-4180-ad38-f9d5d7fdcef0",
   "metadata": {},
   "outputs": [
    {
     "name": "stdout",
     "output_type": "stream",
     "text": [
      "Job ID: 2125912\n",
      "Cluster: powerplant\n",
      "User/Group: hrasrb/hrasrb\n",
      "State: COMPLETED (exit code 0)\n",
      "Nodes: 1\n",
      "Cores per node: 8\n",
      "CPU Utilized: 01:55:31\n",
      "CPU Efficiency: 97.56% of 01:58:24 core-walltime\n",
      "Job Wall-clock time: 00:14:48\n",
      "Memory Utilized: 6.91 MB\n",
      "Memory Efficiency: 0.67% of 1.00 GB\n"
     ]
    }
   ],
   "source": [
    "# job 2125911\n",
    "seff 2125912"
   ]
  },
  {
   "cell_type": "code",
   "execution_count": 3,
   "id": "e604e3e6-342a-4ea2-a6fd-90f790c07e7d",
   "metadata": {},
   "outputs": [],
   "source": [
    "cat *2125911*"
   ]
  }
 ],
 "metadata": {
  "kernelspec": {
   "display_name": "Bash",
   "language": "bash",
   "name": "bash"
  },
  "language_info": {
   "codemirror_mode": "shell",
   "file_extension": ".sh",
   "mimetype": "text/x-sh",
   "name": "bash"
  }
 },
 "nbformat": 4,
 "nbformat_minor": 5
}
