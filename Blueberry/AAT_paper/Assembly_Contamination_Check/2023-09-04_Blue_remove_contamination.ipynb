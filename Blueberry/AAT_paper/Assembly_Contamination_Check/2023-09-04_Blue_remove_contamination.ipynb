{
 "cells": [
  {
   "cell_type": "markdown",
   "id": "05c49c88-3f55-486a-b37e-14fa1da7c626",
   "metadata": {},
   "source": [
    "# Remove contaminants from 5 draft haplotypes\n",
    "\n",
    "| Assembly Tag | File path |\n",
    "|--------------|-----------|\n",
    "| progeny_M7_hap1 | /powerplant/workspace/hraczw/github/bioinf_blueberry_trio/M7.bp.hap1.p_ctg.fa |\n",
    "| progeny_M7_hap2 | /powerplant/workspace/hraczw/github/bioinf_blueberry_trio/M7.bp.hap2.p_ctg.fa |\n",
    "| progeny_Nui_hap1 | /powerplant/workspace/hraczw/github/bioinf_blueberry_trio/Nui.bp.hap1.p_ctg.fa |\n",
    "| progeny_Nui_hap2 | /powerplant/workspace/hraczw/github/bioinf_blueberry_trio/Nui.bp.hap2.p_ctg.fa |\n",
    "| M7xNui_min2k_Flye | /powerplant/workspace/hraijc/Blueberry/BB_M7xNui_Assembly/03_FLYE/M7xNui_min2k_Flye.fasta |\n",
    "\n",
    "## Assembly-QC (v1) report\n",
    "\n",
    "https://storage.powerplant.pfr.co.nz/workspace/hrasrb/Blueberry_trio/Contamination_check/report.html\n"
   ]
  },
  {
   "cell_type": "markdown",
   "id": "cff7807d-dff8-4548-817f-8745b49dd8d1",
   "metadata": {},
   "source": [
    "# 00. Get bed file of each contig ID, start & end"
   ]
  },
  {
   "cell_type": "code",
   "execution_count": 2,
   "id": "66828fae-3e56-4605-8884-61592d6763e0",
   "metadata": {},
   "outputs": [],
   "source": [
    "mkdir /powerplant/workspace/hrasrb/Blueberry_trio/2023-09-01_remove_contamination\n",
    "cd /powerplant/workspace/hrasrb/Blueberry_trio/2023-09-01_remove_contamination\n",
    "\n",
    "cat <<EOF > Blueberry_haplotypes.txt\n",
    "progeny_M7_hap1\n",
    "progeny_M7_hap2\n",
    "progeny_Nui_hap1\n",
    "progeny_Nui_hap2\n",
    "M7xNui_min2k_Flye\n",
    "EOF"
   ]
  },
  {
   "cell_type": "markdown",
   "id": "58793081-cdc8-4efb-9db0-2d4b80ea9a34",
   "metadata": {},
   "source": [
    "## create soft links"
   ]
  },
  {
   "cell_type": "code",
   "execution_count": 3,
   "id": "f7961a1f-ac80-4b4f-958f-f1eb2612a286",
   "metadata": {},
   "outputs": [
    {
     "name": "stdout",
     "output_type": "stream",
     "text": [
      "/powerplant/workspace/hrasrb/Blueberry_trio/2023-09-01_remove_contamination\n"
     ]
    }
   ],
   "source": [
    "pwd"
   ]
  },
  {
   "cell_type": "code",
   "execution_count": 4,
   "id": "e2730c3d-8d87-4a88-a92e-4fcc01859de4",
   "metadata": {},
   "outputs": [],
   "source": [
    "ln -s /powerplant/workspace/hraczw/github/bioinf_blueberry_trio/M7.bp.hap1.p_ctg.fa progeny_M7_hap1.fa\n",
    "ln -s /powerplant/workspace/hraczw/github/bioinf_blueberry_trio/M7.bp.hap2.p_ctg.fa progeny_M7_hap2.fa\n",
    "ln -s /powerplant/workspace/hraczw/github/bioinf_blueberry_trio/Nui.bp.hap1.p_ctg.fa progeny_Nui_hap1.fa\n",
    "ln -s /powerplant/workspace/hraczw/github/bioinf_blueberry_trio/Nui.bp.hap2.p_ctg.fa progeny_Nui_hap2.fa\n",
    "ln -s /powerplant/workspace/hraijc/Blueberry/BB_M7xNui_Assembly/03_FLYE/M7xNui_min2k_Flye.fasta M7xNui_min2k_Flye.fa"
   ]
  },
  {
   "cell_type": "markdown",
   "id": "0d43c48c-ea1c-4ca3-966f-82f1ddcab14b",
   "metadata": {},
   "source": [
    "## index FASTA"
   ]
  },
  {
   "cell_type": "code",
   "execution_count": null,
   "id": "312303e1-bc44-447d-925a-d87456ed5ccc",
   "metadata": {},
   "outputs": [],
   "source": [
    "#!/bin/bash -e\n",
    "\n",
    "#SBATCH -J RemoveContamination # change\n",
    "#SBATCH --output=/powerplant/workspace/hrasrb/Blueberry_trio/2023-09-01_remove_contamination/log/hrasrb_%j.out\n",
    "#SBATCH --error=/powerplant/workspace/hrasrb/Blueberry_trio/2023-09-01_remove_contamination/log/hrasrb_%j.err\n",
    "#SBATCH --mail-user=Sarah.Bailey@plantandfood.co.nz\n",
    "#SBATCH --mail-type=ALL\n",
    "#SBATCH --time=00:15:00\n",
    "#SBATCH --mem=500M\n",
    "\n",
    "base=/powerplant/workspace/hrasrb/Blueberry_trio/2023-09-01_remove_contamination\n",
    "\n",
    "file=Blueberry_haplotypes.txt\n",
    "\n",
    "cd \"${base}\"\n",
    "\n",
    "ml samtools/1.16\n",
    "\n",
    "cat \"${file}\" | while read tag\n",
    "do\n",
    "\n",
    "    samtools faidx \"${tag}.fa\"\n",
    "    cut -f 1,2 \"${tag}.fa.fai\" | awk '{print $1\"\\t1\\t\"$2}' > \"./${tag}.fai.bed\"\n",
    "\n",
    "done\n",
    "\n",
    "\n",
    "module unload samtools"
   ]
  },
  {
   "cell_type": "markdown",
   "id": "d5fc33cd-fc6d-4e69-803d-18fff28dd045",
   "metadata": {},
   "source": [
    "# 01. Get contaminated contig & exclude contaminated contig from assembly\n",
    "* .withAdaptor.fa\n",
    "* .noAdaptor.fa\n",
    "\n",
    "| tag | accession | length | action | range |\n",
    "|--------------|--------------|-----------|--------------|-----------|\n",
    "| M7xNui_min2k_Flye | contig_12707 | 7205 | ACTION_TRIM | 7174..7205 |\n",
    "| progeny_Nui_hap1 | h1tg000466l | 31900 | ACTION_TRIM | 329..373 |"
   ]
  },
  {
   "cell_type": "code",
   "execution_count": 7,
   "id": "8020b484-702d-470a-8141-599dc2f0165e",
   "metadata": {},
   "outputs": [],
   "source": [
    "cd /workspace/hrasrb/Blueberry_trio/2023-09-01_remove_contamination\n",
    "\n",
    "# get contaminated contigs\n",
    "grep contig_12707 M7xNui_min2k_Flye.fai.bed | cut -f 1 - > M7xNui_min2k_Flye_withAdaptor.fai.bed\n",
    "grep h1tg000466l progeny_Nui_hap1.fai.bed | cut -f 1 - > progeny_Nui_hap1_withAdaptor.fai.bed"
   ]
  },
  {
   "cell_type": "code",
   "execution_count": 8,
   "id": "5a0cf068-edd9-4f1e-96c6-e9636356986d",
   "metadata": {},
   "outputs": [
    {
     "name": "stdout",
     "output_type": "stream",
     "text": [
      "contig_12707\n"
     ]
    }
   ],
   "source": [
    "cat M7xNui_min2k_Flye_withAdaptor.fai.bed"
   ]
  },
  {
   "cell_type": "code",
   "execution_count": 9,
   "id": "8933598f-aef1-4bae-b60e-92ece2cc2b31",
   "metadata": {},
   "outputs": [
    {
     "name": "stdout",
     "output_type": "stream",
     "text": [
      "Submitted batch job 2011006\n"
     ]
    }
   ],
   "source": [
    "base=/powerplant/workspace/hrasrb/Blueberry_trio/2023-09-01_remove_contamination\n",
    "log=${base}/log\n",
    "\n",
    "cd ${base}\n",
    "\n",
    "M7xNui_min2k_Flye=M7xNui_min2k_Flye.fa\n",
    "id_M7xNui=$(basename ${M7xNui_min2k_Flye} .fa)\n",
    "\n",
    "progeny_Nui_hap1=progeny_Nui_hap1.fa\n",
    "id_progeny_Nui_hap1=$(basename ${progeny_Nui_hap1} .fa)\n",
    "\n",
    "ml seqkit\n",
    "\n",
    "# create and submit bash script\n",
    "sbatch << EOF\n",
    "#!/bin/bash -e\n",
    "\n",
    "#SBATCH -J seqkit # change this\n",
    "#SBATCH --output=${log}/hrasrb_%j.out\n",
    "#SBATCH --error=${log}/hrasrb_%j.err\n",
    "#SBATCH --mail-user=Sarah.Bailey@plantandfood.co.nz\n",
    "#SBATCH --mail-type=ALL\n",
    "#SBATCH --time=00:01:00 # Walltime # change this\n",
    "#SBATCH --mem=1G # change this\n",
    "\n",
    "# could you blast that contig containing adapter against NCBI for double checking? \n",
    "seqkit grep --pattern-file M7xNui_min2k_Flye_withAdaptor.fai.bed ${M7xNui_min2k_Flye} > \"${id_M7xNui}.contig_12707.fa\"\n",
    "seqkit grep --pattern-file progeny_Nui_hap1_withAdaptor.fai.bed ${progeny_Nui_hap1} > \"${id_progeny_Nui_hap1}.h1tg000466l.fa\"\n",
    "\n",
    "# remove contig with adaptor from the assemblies\n",
    "seqkit grep --pattern-file M7xNui_min2k_Flye_withAdaptor.fai.bed --invert-match ${M7xNui_min2k_Flye} > \"${id_M7xNui}.noAdaptor.fa\"\n",
    "seqkit grep --pattern-file progeny_Nui_hap1_withAdaptor.fai.bed --invert-match ${progeny_Nui_hap1} > \"${id_progeny_Nui_hap1}.noAdaptor.fa\"\n",
    "\n",
    "EOF\n",
    "\n",
    "module unload seqkit"
   ]
  },
  {
   "cell_type": "code",
   "execution_count": 12,
   "id": "f1d2e3fd-6ad2-4a00-acab-d793bc3d17ec",
   "metadata": {},
   "outputs": [
    {
     "name": "stdout",
     "output_type": "stream",
     "text": [
      "-rw-rw-r--. 1 hrasrb powerplant 7340 Sep 15 10:08 M7xNui_min2k_Flye.contig_12707.fa\n",
      "-rw-rw-r--. 1 hrasrb powerplant 32445 Sep 15 10:08 progeny_Nui_hap1.h1tg000466l.fa\n",
      "-rw-rw-r--. 1 hrasrb powerplant 1775149697 Sep 15 10:08 M7xNui_min2k_Flye.noAdaptor.fa\n",
      "-rw-rw-r--. 1 hrasrb powerplant 541017886 Sep 15 10:08 progeny_Nui_hap1.noAdaptor.fa\n"
     ]
    }
   ],
   "source": [
    "base=/powerplant/workspace/hrasrb/Blueberry_trio/2023-09-01_remove_contamination\n",
    "\n",
    "cd ${base}\n",
    "\n",
    "ll \"${id_M7xNui}.contig_12707.fa\"\n",
    "ll \"${id_progeny_Nui_hap1}.h1tg000466l.fa\"\n",
    "ll \"${id_M7xNui}.noAdaptor.fa\"\n",
    "ll \"${id_progeny_Nui_hap1}.noAdaptor.fa\""
   ]
  },
  {
   "cell_type": "code",
   "execution_count": 13,
   "id": "b12bca05-0bce-4b34-845a-2b9493f252ff",
   "metadata": {},
   "outputs": [],
   "source": [
    "grep contig_12707 M7xNui_min2k_Flye.fai.bed | cut -f 1,2 - | awk '{print $1\"\\t\"$2\"\\t7173\"}' > M7xNui_min2k_Flye_edited.withAdaptor.fai.bed"
   ]
  },
  {
   "cell_type": "code",
   "execution_count": 16,
   "id": "138f9fd2-26eb-4d40-be04-e8e6a6de10fb",
   "metadata": {},
   "outputs": [],
   "source": [
    "grep h1tg000466l progeny_Nui_hap1.fai.bed | cut -f 1,3 - | awk '{print $1\"\\t374\\t\"$2}' > progeny_Nui_hap1_edited.withAdaptor.fai.bed"
   ]
  },
  {
   "cell_type": "code",
   "execution_count": 17,
   "id": "f7a37714-c83e-4558-8cd5-54776db12bea",
   "metadata": {},
   "outputs": [
    {
     "name": "stdout",
     "output_type": "stream",
     "text": [
      "h1tg000466l\t374\t31900\n"
     ]
    }
   ],
   "source": [
    "cat progeny_Nui_hap1_edited.withAdaptor.fai.bed"
   ]
  },
  {
   "cell_type": "code",
   "execution_count": 18,
   "id": "bc9b85e3-f635-4eed-ac6a-1d6a7e6a2d9b",
   "metadata": {},
   "outputs": [
    {
     "name": "stdout",
     "output_type": "stream",
     "text": [
      "Submitted batch job 2011008\n"
     ]
    }
   ],
   "source": [
    "base=/powerplant/workspace/hrasrb/Blueberry_trio/2023-09-01_remove_contamination\n",
    "log=${base}/log\n",
    "\n",
    "cd ${base}\n",
    "\n",
    "ml seqkit\n",
    "\n",
    "# create and submit bash script\n",
    "sbatch << EOF\n",
    "#!/bin/bash -e\n",
    "\n",
    "#SBATCH -J seqkit # change this\n",
    "#SBATCH --output=${log}/hrasrb_%j.out\n",
    "#SBATCH --error=${log}/hrasrb_%j.err\n",
    "#SBATCH --mail-user=Sarah.Bailey@plantandfood.co.nz\n",
    "#SBATCH --mail-type=ALL\n",
    "#SBATCH --time=00:01:00 # Walltime # change this\n",
    "#SBATCH --mem=1G # change this\n",
    "\n",
    "# remove adaptor\n",
    "seqkit subseq --bed M7xNui_min2k_Flye_edited.withAdaptor.fai.bed M7xNui_min2k_Flye.contig_12707.fa >  M7xNui_min2k_Flye.contig_12707.removeAdaptor.subseq.fa\n",
    "seqkit subseq --bed progeny_Nui_hap1_edited.withAdaptor.fai.bed progeny_Nui_hap1.h1tg000466l.fa > progeny_Nui_hap1.h1tg000466l.removeAdaptor.subseq.fa\n",
    "\n",
    "EOF\n",
    "\n",
    "module unload seqkit"
   ]
  },
  {
   "cell_type": "code",
   "execution_count": 19,
   "id": "a85f87ae-cfe7-4c63-93e1-d2b589b7a685",
   "metadata": {},
   "outputs": [
    {
     "name": "stdout",
     "output_type": "stream",
     "text": [
      "-rw-rw-r--. 1 hrasrb powerplant  7316 Sep 15 10:14 M7xNui_min2k_Flye.contig_12707.removeAdaptor.subseq.fa\n",
      "-rw-rw-r--. 1 hrasrb powerplant 32078 Sep 15 10:14 progeny_Nui_hap1.h1tg000466l.removeAdaptor.subseq.fa\n"
     ]
    }
   ],
   "source": [
    "ll *.removeAdaptor.subseq.fa"
   ]
  },
  {
   "cell_type": "markdown",
   "id": "9266e456-460d-48bf-89bd-d368a0b5dd1c",
   "metadata": {},
   "source": [
    "## Blast that contig containing adapter against NCBI for double checking"
   ]
  },
  {
   "cell_type": "code",
   "execution_count": 14,
   "id": "cbeb518b-ec21-4d8f-9f10-1b4705111a4a",
   "metadata": {},
   "outputs": [],
   "source": [
    "ml ncbi-blast"
   ]
  },
  {
   "cell_type": "code",
   "execution_count": 19,
   "id": "c910c0a8-141a-4a1e-b7fc-cfe149b51127",
   "metadata": {},
   "outputs": [
    {
     "name": "stdout",
     "output_type": "stream",
     "text": [
      "Currently Loaded Modulefiles:\n",
      " 1) \u001b[46mpowerPlant/core\u001b[0m    4) git/2.21.0        7) perl/5.36.0         \n",
      " 2) texlive/20151117   5) \u001b[46mSlurm/21.08.8-2\u001b[0m   8) slurm-utils/latest  \n",
      " 3) pandoc/1.19.2      6) perlbrew/0.76     9) ncbi-blast/2.11.0   \n",
      "\n",
      "Key:\n",
      "\u001b[46msticky\u001b[0m  \n"
     ]
    }
   ],
   "source": [
    "module list"
   ]
  },
  {
   "cell_type": "code",
   "execution_count": 25,
   "id": "f18eabc3-5d0a-4c0b-845c-330e4bdc0679",
   "metadata": {},
   "outputs": [],
   "source": [
    "# gnl|uv|NGB00293.1 Multimer of EcoRI adaptor used in I.M.A.G.E. library Barstead MPL-RB15 and other libraries\n",
    "# gnl|uv|NGB00972.1 Pacific Biosciences Blunt Adapter\n",
    "echo \">gnl|uv|NGB00972.1:1-45 Pacific Biosciences Blunt Adapter\n",
    "ATCTCTCTCTTTTCCTCCTCCTCCGTTGTTGTTGTTGAGAGAGAT\" > Pacific_Biosciences_Blunt_Adapter.fa"
   ]
  },
  {
   "cell_type": "code",
   "execution_count": 21,
   "id": "9393d868-3fbc-48a6-8c62-04205d2cacb4",
   "metadata": {},
   "outputs": [
    {
     "name": "stdout",
     "output_type": "stream",
     "text": [
      "/powerplant/workspace/hrasrb/Blueberry_trio/2023-09-01_remove_contamination\n"
     ]
    }
   ],
   "source": [
    "pwd"
   ]
  },
  {
   "cell_type": "code",
   "execution_count": 26,
   "id": "4571f338-1bd3-47dd-bfcc-4fa5b61e04d5",
   "metadata": {},
   "outputs": [
    {
     "name": "stdout",
     "output_type": "stream",
     "text": [
      ">gnl|uv|NGB00972.1:1-45 Pacific Biosciences Blunt Adapter\n",
      "ATCTCTCTCTTTTCCTCCTCCTCCGTTGTTGTTGTTGAGAGAGAT\n"
     ]
    }
   ],
   "source": [
    "cat Pacific_Biosciences_Blunt_Adapter.fa"
   ]
  },
  {
   "cell_type": "code",
   "execution_count": 25,
   "id": "52fa2c22-4cc1-4089-ba5c-ae5f3256f515",
   "metadata": {},
   "outputs": [
    {
     "name": "stdout",
     "output_type": "stream",
     "text": [
      "Submitted batch job 2011261\n",
      "             JOBID PARTITION     NAME     USER ST       TIME  NODES NODELIST(REASON)\n",
      "           2011261      fast    BLAST   hrasrb PD       0:00      1 (None)\n"
     ]
    }
   ],
   "source": [
    "ml ncbi-blast/2.11.0\n",
    "\n",
    "base=/powerplant/workspace/hrasrb/Blueberry_trio/2023-09-01_remove_contamination\n",
    "LOG=${base}/log\n",
    "\n",
    "M7xNui_min2k_Flye=${base}/M7xNui_min2k_Flye.contig_12707.fa\n",
    "\n",
    "progeny_Nui_hap1=${base}/progeny_Nui_hap1.h1tg000466l.fa\n",
    "\n",
    "WKDIR=${base}/2023-09-06_PB_adaptor_blast\n",
    "\n",
    "# mkdir $WKDIR\n",
    "\n",
    "cd $WKDIR\n",
    "\n",
    "# create and submit bash script\n",
    "sbatch << EOF\n",
    "#!/bin/bash -e\n",
    "\n",
    "#SBATCH -J BLAST # change this\n",
    "#SBATCH --output=${LOG}/hrasrb_%j.out\n",
    "#SBATCH --error=${LOG}/hrasrb_%j.err\n",
    "#SBATCH --mail-user=Sarah.Bailey@plantandfood.co.nz\n",
    "#SBATCH --mail-type=ALL\n",
    "#SBATCH --time=00:01:00 # Walltime # change this\n",
    "#SBATCH --mem=1M # change this\n",
    "\n",
    "# makeblastdb -dbtype nucl -parse_seqids -in ${base}/Pacific_Biosciences_Blunt_Adapter.fa\n",
    "\n",
    "blastn  -query ${M7xNui_min2k_Flye} -db ${base}/Pacific_Biosciences_Blunt_Adapter.fa -out M7xNui_min2k_Flye.contig_12707.html -html\n",
    "blastn  -query ${progeny_Nui_hap1} -db ${base}/Pacific_Biosciences_Blunt_Adapter.fa -out progeny_Nui_hap1.h1tg000466l.html -html\n",
    "\n",
    "EOF\n",
    "\n",
    "module unload ncbi-blast\n",
    "squeue -u hrasrb"
   ]
  },
  {
   "cell_type": "code",
   "execution_count": 1,
   "id": "268cffa5-5eef-43cb-9a0c-62c1d222e6da",
   "metadata": {},
   "outputs": [
    {
     "name": "stdout",
     "output_type": "stream",
     "text": [
      "progeny_Nui_hap1.h1tg000466l.html:Sequences producing significant alignments:                          (Bits)  Value\n",
      "progeny_Nui_hap1.h1tg000466l.html-\n",
      "progeny_Nui_hap1.h1tg000466l.html-uv:NGB00972.1:1-45 Pacific Biosciences Blunt Adapter                  <a href=#uv:NGB00972.1:1-45>84.2</a>    5e-20\n",
      "progeny_Nui_hap1.h1tg000466l.html-\n",
      "progeny_Nui_hap1.h1tg000466l.html-\n",
      "progeny_Nui_hap1.h1tg000466l.html->uv:NGB00972.1:1-45<a name=uv:NGB00972.1:1-45></a> Pacific Biosciences Blunt Adapter\n",
      "progeny_Nui_hap1.h1tg000466l.html-Length=45\n",
      "progeny_Nui_hap1.h1tg000466l.html-\n",
      "progeny_Nui_hap1.h1tg000466l.html- Score = 84.2 bits (45),  Expect = 5e-20\n",
      "progeny_Nui_hap1.h1tg000466l.html- Identities = 45/45 (100%), Gaps = 0/45 (0%)\n",
      "progeny_Nui_hap1.h1tg000466l.html- Strand=Plus/Minus\n",
      "progeny_Nui_hap1.h1tg000466l.html-\n",
      "progeny_Nui_hap1.h1tg000466l.html-Query  329  ATCTCTCTCAACAACAACAACGGAGGAGGAGGAAAAGAGAGAGAT  373\n",
      "progeny_Nui_hap1.h1tg000466l.html-            |||||||||||||||||||||||||||||||||||||||||||||\n",
      "progeny_Nui_hap1.h1tg000466l.html-Sbjct  45   ATCTCTCTCAACAACAACAACGGAGGAGGAGGAAAAGAGAGAGAT  1\n",
      "progeny_Nui_hap1.h1tg000466l.html-\n"
     ]
    }
   ],
   "source": [
    "base=/powerplant/workspace/hrasrb/Blueberry_trio/2023-09-01_remove_contamination\n",
    "\n",
    "WKDIR=${base}/2023-09-06_PB_adaptor_blast\n",
    "cd $WKDIR\n",
    "grep \"Sequences producing significant alignments:\" -A 15 *html"
   ]
  },
  {
   "cell_type": "markdown",
   "id": "e988f3f5-1756-4f28-8913-42b92e081ced",
   "metadata": {},
   "source": [
    "## Rename contigs & merge back into reference"
   ]
  },
  {
   "cell_type": "code",
   "execution_count": 14,
   "id": "51a0fc54-7559-4247-9103-422981e77efa",
   "metadata": {},
   "outputs": [
    {
     "name": "stdout",
     "output_type": "stream",
     "text": [
      "contig_12707 contig_12707_trimmed_1_7173\n"
     ]
    }
   ],
   "source": [
    "wkdir=/powerplant//workspace/hrasrb/Blueberry_trio/2023-09-01_remove_contamination/no_adaptor_contamination\n",
    "cd ${wkdir}\n",
    "\n",
    "file=\"Blueberry_haplotypes.txt\"\n",
    "if [ -f \"$file\" ] ; then\n",
    "    rm \"$file\"\n",
    "fi\n",
    "\n",
    "# contig_12707_2-7173:. contig_12707\n",
    "cat <<EOF > Blueberry_haplotypes.txt\n",
    "contig_12707 contig_12707_trimmed_1_7173\n",
    "EOF\n",
    "\n",
    "cat Blueberry_haplotypes.txt"
   ]
  },
  {
   "cell_type": "code",
   "execution_count": 15,
   "id": "c181bc7d-918b-4a56-a024-a096a2c24b8f",
   "metadata": {},
   "outputs": [],
   "source": [
    "wkdir=/powerplant/workspace/hrasrb/Blueberry_trio/2023-09-01_remove_contamination/no_adaptor_contamination\n",
    "cd ${wkdir}\n",
    "\n",
    "input_file=\"M7xNui_min2k_Flye.contig_12707.removeAdaptor.subseq.rename.fa\"\n",
    "output_file=\"M7xNui_min2k_Flye.contig_12707.removeAdaptor.subseq.rename.2.fa\"\n",
    "mapping_file=\"Blueberry_haplotypes.txt\"\n",
    "\n",
    "awk 'NR==FNR{id_map[$1]=$2; next} /^>/{print \">\" id_map[substr($1,2)]; next} {print}' \"$mapping_file\" \"$input_file\" > \"$output_file\""
   ]
  },
  {
   "cell_type": "code",
   "execution_count": 17,
   "id": "879bba72-f66b-43cb-b30f-9bf341d58add",
   "metadata": {},
   "outputs": [
    {
     "name": "stdout",
     "output_type": "stream",
     "text": [
      ">contig_12707_trimmed_1_7173\n",
      "ATCAAAATGATCTTCATTGTTAAATCTTCCGAGTGAGAGCAAAAGGCTTTGTCTCTCACT\n",
      "CGAGTTATAGTTGAGAGCCATTGAATATCCTTAGTCATGGGTGGTATGAACCTCTAGATC\n",
      "TTGCCGCCTTTAATTTATAGTTTAAAACTTCATTTTCAATCGCATTAGAGGTAGAGAGAG\n",
      "AATTCCACAAACAAACCAAACCAAAAGGTTGGTCGTCCTAACGCCGAAACCCCTACTGTA\n",
      "AAGTAAACCTTTCACTAGCTCCGACCCTTCCCTGTGGATTCGACCTCGGACTTCCAAGTT\n",
      "ATTATGCTACAACCGACCTAGTCCTACGCTTGGGGCGACGCTACTACGATACAAAGCTAG\n",
      "GTCGCAAGCATTTTTGGCGCCATTGCCAGGGAAGGCAACAAATGGTGAGTTAGAAAGGAG\n",
      "TTTGCTTTACTCCATTGCAAGTATATCCATCTTTTCATTTTTGTTTTGTTTGTTGTTTTC\n",
      "AGCTTTTGTTTATTTTCAGGTCCTTTTAAAGAAAATCCTATTAAAAAAAATGGCTTGTTT\n"
     ]
    }
   ],
   "source": [
    "head M7xNui_min2k_Flye.contig_12707.removeAdaptor.subseq.rename.2.fa\n",
    "# head progeny_Nui_hap1.h1tg000466l.removeAdaptor.subseq.rename.2.fa"
   ]
  },
  {
   "cell_type": "code",
   "execution_count": 19,
   "id": "cece7ee3-f6ae-4e4d-8b8e-e43e42634138",
   "metadata": {},
   "outputs": [],
   "source": [
    "wkdir=/powerplant/workspace/hrasrb/Blueberry_trio/2023-09-01_remove_contamination\n",
    "cd ${wkdir}\n",
    "gzip ./no_adaptor_contamination/progeny_Nui_hap1.h1tg000466l.removeAdaptor.subseq.rename.2.fa.gz\n",
    "gzip ./no_adaptor_contamination/M7xNui_min2k_Flye.contig_12707.removeAdaptor.subseq.rename.2.fa.gz"
   ]
  },
  {
   "cell_type": "markdown",
   "id": "6a22b821-3c01-46f7-8b94-a16a3b78a818",
   "metadata": {},
   "source": [
    "# 02. Exclude contaminated contigs\n",
    "\n",
    "## make sure to use noAdaptor.fa for M7xNui_min2k_Flye & progeny_Nui_hap1"
   ]
  },
  {
   "cell_type": "code",
   "execution_count": 3,
   "id": "c67bac5a-6c47-4403-b693-97bbf423e8d2",
   "metadata": {},
   "outputs": [],
   "source": [
    "cd /powerplant/workspace/hrasrb/Blueberry_trio/2023-09-01_remove_contamination\n",
    "\n",
    "cat <<EOF > Blueberry_haplotypes.txt\n",
    "progeny_M7_hap1\n",
    "progeny_M7_hap2\n",
    "progeny_Nui_hap1\n",
    "progeny_Nui_hap2\n",
    "M7xNui_min2k_Flye\n",
    "EOF"
   ]
  },
  {
   "cell_type": "code",
   "execution_count": null,
   "id": "ed3b9425-bd28-4522-a146-e8bf810b4892",
   "metadata": {},
   "outputs": [],
   "source": [
    "#!/bin/bash -e\n",
    "\n",
    "#SBATCH -J ContaminationActions # change\n",
    "#SBATCH --output=log/hrasrb_%j.out\n",
    "#SBATCH --error=log/hrasrb_%j.err\n",
    "#SBATCH --mail-user=Sarah.Bailey@plantandfood.co.nz\n",
    "#SBATCH --mail-type=ALL\n",
    "#SBATCH --time=00:05:00\n",
    "#SBATCH --mem=1M\n",
    "\n",
    "base=/powerplant/workspace/hrasrb/Blueberry_trio/2023-09-01_remove_contamination\n",
    "\n",
    "file=${base}/Blueberry_haplotypes.txt\n",
    "\n",
    "cd /powerplant/workspace/hrasrb/Blueberry_trio/Contamination_check/ncbi_fcs_gx/\n",
    "\n",
    "cat \"${file}\" | while read tag\n",
    "do\n",
    "    grep -v \"^#\" \"${tag}.fcs_gx_report.txt\" | grep EXCLUDE | cut -f 1 > \"${tag}.fcs_gx_report.EXCLUDE.txt\"\n",
    "    grep -v \"^#\" \"${tag}.fcs_gx_report.txt\" | grep REVIEW | cut -f 1,2,3 - | awk '{print $1\"\\t\"$2\"\\t\"$3}' > \"${tag}.fcs_gx_report.REVIEW.txt\"\n",
    "    grep -v \"^#\" \"${tag}.fcs_gx_report.txt\" | grep TRIM | cut -f 1,2,3 - | awk '{print $1\"\\t\"$2\"\\t\"$3}' > \"${tag}.fcs_gx_report.TRIM.txt\"\n",
    "    grep -v \"^#\" \"${tag}.fcs_gx_report.txt\" | grep FIX | cut -f 1,2,3 - | awk '{print $1\"\\t\"$2\"\\t\"$3}' > \"${tag}.fcs_gx_report.FIX.txt\"\n",
    "    grep -v \"^#\" \"${tag}.fcs_gx_report.txt\" | grep REVIEW_RARE | cut -f 1,2,3 - | awk '{print $1\"\\t\"$2\"\\t\"$3}' > \"${tag}.fcs_gx_report.REVIEW_RARE.txt\"\n",
    "done"
   ]
  },
  {
   "cell_type": "code",
   "execution_count": 4,
   "id": "dd19d40f-5259-4310-9071-b5ca8cff4a70",
   "metadata": {},
   "outputs": [],
   "source": [
    "cd /powerplant/workspace/hrasrb/Blueberry_trio/2023-09-01_remove_contamination\n",
    "\n",
    "cat <<EOF > Blueberry_haplotypes.fofn\n",
    "/powerplant/workspace/hrasrb/Blueberry_trio/2023-09-01_remove_contamination/M7xNui_min2k_Flye.noAdaptor.fa\n",
    "/powerplant/workspace/hrasrb/Blueberry_trio/2023-09-01_remove_contamination/progeny_Nui_hap1.noAdaptor.fa\n",
    "EOF"
   ]
  },
  {
   "cell_type": "code",
   "execution_count": null,
   "id": "e0f9d131-d6be-491d-a021-1d2b544dd7ff",
   "metadata": {},
   "outputs": [],
   "source": [
    "#!/bin/bash -e\n",
    "\n",
    "#SBATCH -J ContaminationActions # change\n",
    "#SBATCH --output=log/hrasrb_%j.out\n",
    "#SBATCH --error=log/hrasrb_%j.err\n",
    "#SBATCH --mail-user=Sarah.Bailey@plantandfood.co.nz\n",
    "#SBATCH --mail-type=ALL\n",
    "#SBATCH --time=00:24:00\n",
    "#SBATCH --mem=1M\n",
    "\n",
    "ml seqkit\n",
    "\n",
    "base=/powerplant/workspace/hrasrb/Blueberry_trio/2023-09-01_remove_contamination\n",
    "\n",
    "file=./Blueberry_haplotypes.fofn\n",
    "\n",
    "cd \"$base\"\n",
    "\n",
    "cat \"${file}\" | while read line\n",
    "do\n",
    "    tag=$(basename \"${line}\" .fa)\n",
    "    seqkit grep --pattern-file \"${tag}.fcs_gx_report.EXCLUDE.txt\" --invert-match \"${line}\" -o \"${tag}.noContamination.fa\"\n",
    "    gzip \"${tag}.noContamination.fa\"\n",
    "done"
   ]
  },
  {
   "cell_type": "code",
   "execution_count": 18,
   "id": "ec7604f4-97ab-4d0f-a9bc-578ca5707c22",
   "metadata": {},
   "outputs": [
    {
     "ename": "",
     "evalue": "1",
     "output_type": "error",
     "traceback": []
    }
   ],
   "source": [
    "base=/powerplant/workspace/hrasrb/Blueberry_trio/2023-09-01_remove_contamination\n",
    "cd $base\n",
    "grep contig_12707 *EXCLUDE.txt\n",
    "grep h1tg000466l *EXCLUDE.txt"
   ]
  },
  {
   "cell_type": "markdown",
   "id": "d08e3c43-ec20-416e-8a8c-e067af1b8fd3",
   "metadata": {},
   "source": [
    "# Combine no adaptor and no contamination"
   ]
  },
  {
   "cell_type": "code",
   "execution_count": null,
   "id": "9fa533eb-5289-471c-8281-e7c6220745ac",
   "metadata": {},
   "outputs": [],
   "source": [
    "wkdir=/powerplant/workspace/hrasrb/Blueberry_trio/2023-09-01_remove_contamination\n",
    "cd ${wkdir}\n",
    "cat ./no_contamination/progeny_Nui_hap1.noContamination.fa.gz ./no_adaptor_contamination/progeny_Nui_hap1.h1tg000466l.removeAdaptor.subseq.rename.2.fa.gz > ./no_contamination/progeny_Nui_hap1.noAdaptor.noContamination.fa.gz"
   ]
  },
  {
   "cell_type": "code",
   "execution_count": null,
   "id": "f0f9e712-a9c1-4edf-b053-a457ae0c6030",
   "metadata": {},
   "outputs": [],
   "source": [
    "cat ./no_contamination/M7xNui_min2k_Flye.noContamination.fa.gz ./no_adaptor_contamination/M7xNui_min2k_Flye.contig_12707.removeAdaptor.subseq.rename.2.fa.gz > ./no_contamination/M7xNui_min2k_Flye.noAdaptor.noContamination.fa.gz"
   ]
  },
  {
   "cell_type": "markdown",
   "id": "596c47a4-ebfc-4f91-b5e2-20331facc64e",
   "metadata": {},
   "source": [
    "# Move to blobtools to confirm contamination"
   ]
  },
  {
   "cell_type": "code",
   "execution_count": null,
   "id": "ad6215ab-5cee-4930-ba67-9c42f109fa13",
   "metadata": {},
   "outputs": [],
   "source": []
  }
 ],
 "metadata": {
  "kernelspec": {
   "display_name": "Bash",
   "language": "bash",
   "name": "bash"
  },
  "language_info": {
   "codemirror_mode": "shell",
   "file_extension": ".sh",
   "mimetype": "text/x-sh",
   "name": "bash"
  }
 },
 "nbformat": 4,
 "nbformat_minor": 5
}
