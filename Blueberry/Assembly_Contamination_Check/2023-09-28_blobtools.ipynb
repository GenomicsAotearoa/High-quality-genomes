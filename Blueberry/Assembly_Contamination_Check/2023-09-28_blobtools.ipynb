{
 "cells": [
  {
   "cell_type": "markdown",
   "id": "84c68081-e4fc-45dc-be32-a21509dad29a",
   "metadata": {},
   "source": [
    "# Assess assembly contamination\n",
    "\n",
    "The hifiasm assemblies produced by Iggy and Chen are required for contamination assessment. "
   ]
  },
  {
   "cell_type": "code",
   "execution_count": 1,
   "id": "f6eba7f4-1eac-4fd3-a772-7260c1573e84",
   "metadata": {},
   "outputs": [],
   "source": [
    "base=/powerplant/workspace/hrasrb/Blueberry_trio/2023-09-01_remove_contamination\n",
    "cd $base"
   ]
  },
  {
   "cell_type": "code",
   "execution_count": 3,
   "id": "eef0959a-f50c-4c28-9a41-2f1ad2694b2e",
   "metadata": {},
   "outputs": [
    {
     "name": "stdout",
     "output_type": "stream",
     "text": [
      "lrwxrwxrwx. 1 hrasrb powerplant  89 Sep  4 10:41 M7xNui_min2k_Flye.fa -> /powerplant/workspace/hraijc/Blueberry/BB_M7xNui_Assembly/03_FLYE/M7xNui_min2k_Flye.fasta\n",
      "-rw-rw-r--. 1 hrasrb powerplant 104 Sep  6 15:46 Pacific_Biosciences_Blunt_Adapter.fa\n",
      "lrwxrwxrwx. 1 hrasrb powerplant  77 Sep  4 10:41 progeny_M7_hap1.fa -> /powerplant/workspace/hraczw/github/bioinf_blueberry_trio/M7.bp.hap1.p_ctg.fa\n",
      "lrwxrwxrwx. 1 hrasrb powerplant  77 Sep  4 10:41 progeny_M7_hap2.fa -> /powerplant/workspace/hraczw/github/bioinf_blueberry_trio/M7.bp.hap2.p_ctg.fa\n",
      "lrwxrwxrwx. 1 hrasrb powerplant  78 Sep  4 10:41 progeny_Nui_hap1.fa -> /powerplant/workspace/hraczw/github/bioinf_blueberry_trio/Nui.bp.hap1.p_ctg.fa\n",
      "lrwxrwxrwx. 1 hrasrb powerplant  78 Sep  4 10:41 progeny_Nui_hap2.fa -> /powerplant/workspace/hraczw/github/bioinf_blueberry_trio/Nui.bp.hap2.p_ctg.fa\n"
     ]
    }
   ],
   "source": [
    "ll *fa"
   ]
  },
  {
   "cell_type": "markdown",
   "id": "726040c5-aad1-4e64-b193-b4a6ef8d7d63",
   "metadata": {},
   "source": [
    "# Map the reads back to the collapsed reference"
   ]
  },
  {
   "cell_type": "code",
   "execution_count": 19,
   "id": "758c0790-c7e0-4e79-8e5c-969fd646d8b2",
   "metadata": {},
   "outputs": [
    {
     "name": "stdout",
     "output_type": "stream",
     "text": [
      "Submitted batch job 2070365\n"
     ]
    }
   ],
   "source": [
    "WKDIR=/powerplant/workspace/hrasrb/Blueberry_trio/2023-09-01_remove_contamination\n",
    "LOG=${WKDIR}/log\n",
    "\n",
    "NuixM7_SMRTcell1=/powerplant/input/genomic/plant/Vaccinium/corymbosum/ExperimentRequestor10969_NuixM7_TrioBin/Blueberry_M7xNui/SMRTcell1/CCS_Data/m64136_221113_041854.hifi_reads.fastq.gz\t\n",
    "NuixM7_SMRTcell2=/powerplant/input/genomic/plant/Vaccinium/corymbosum/ExperimentRequestor10969_NuixM7_TrioBin/Blueberry_M7xNui/SMRTcell2/CCS_Data/m64136_221114_133241.hifi_reads.fastq.gz\t\n",
    "\n",
    "ASM=${WKDIR}/M7xNui_min2k_Flye.fa\n",
    "\n",
    "tag=$(basename \"${ASM}\" .fa)\n",
    "\n",
    "cd \"${WKDIR}\"\n",
    "\n",
    "# mkdir bamfiles\n",
    "\n",
    "module load minimap2/2.22\n",
    "module load samtools/1.16\n",
    "\n",
    "# Create coverage files.\n",
    "sbatch << EOF\n",
    "#!/bin/bash\n",
    "#SBATCH -J \"${tag}_minimap_samtools\"\n",
    "#SBATCH -o ${LOG}/hrasrb_%J.out\n",
    "#SBATCH -e ${LOG}/hrasrb_%J.err\n",
    "#SBATCH --cpus-per-task=8\n",
    "#SBATCH --mem=16G\n",
    "#SBATCH --time=03:00:00\n",
    "#SBATCH --mail-user=Sarah.Bailey@plantandfood.co.nz\n",
    "#SBATCH --mail-type=ALL\n",
    "\n",
    "echo \"$tag\"\n",
    "echo\n",
    "echo \"Map\"\n",
    "\n",
    "minimap2 -t 8 -ax map-hifi \"${ASM}\" \"${NuixM7_SMRTcell1}\" \"${NuixM7_SMRTcell2}\" > \"${WKDIR}/bamfiles/${tag}_to_hifi.sam\"\n",
    "\n",
    "echo \"Done\"\n",
    "echo\n",
    "echo \"Sam -> bam\"\n",
    "\n",
    "samtools view --threads 8 -b \"${WKDIR}/bamfiles/${tag}_to_binned_hifi.sam\" > \"${WKDIR}/bamfiles/${tag}_to_hifi.bam\"\n",
    "\n",
    "echo \"Done\"\n",
    "echo\n",
    "echo \"Sort bam\"\n",
    "\n",
    "samtools sort --threads 8 \"${WKDIR}/bamfiles/${tag}_to_binned_hifi.bam\" > \"${WKDIR}/bamfiles/${tag}_to_hifi.sorted.bam\"\n",
    "\n",
    "echo \"Done\"\n",
    "echo\n",
    "echo \"index bam\"\n",
    "\n",
    "samtools index \"${WKDIR}/bamfiles/${tag}_to_hifi.sorted.bam\"\n",
    "\n",
    "echo \"Done\"\n",
    "echo\n",
    "\n",
    "EOF\n",
    "\n",
    "module unload samtools/1.16\n",
    "module unload minimap2/2.22"
   ]
  },
  {
   "cell_type": "code",
   "execution_count": 1,
   "id": "56180c3b-1176-464d-80ae-0b3bf1fc0afb",
   "metadata": {},
   "outputs": [
    {
     "name": "stdout",
     "output_type": "stream",
     "text": [
      "Job ID: 2070365\n",
      "Cluster: powerplant\n",
      "User/Group: hrasrb/hrasrb\n",
      "State: COMPLETED (exit code 0)\n",
      "Nodes: 1\n",
      "Cores per node: 8\n",
      "CPU Utilized: 18:49:49\n",
      "CPU Efficiency: 98.47% of 19:07:20 core-walltime\n",
      "Job Wall-clock time: 02:23:25\n",
      "Memory Utilized: 15.95 GB\n",
      "Memory Efficiency: 99.69% of 16.00 GB\n"
     ]
    }
   ],
   "source": [
    "seff 2070365"
   ]
  },
  {
   "cell_type": "markdown",
   "id": "e881d795-c6c9-489a-bb5a-eea9205d0476",
   "metadata": {},
   "source": [
    "# 4 haplotype assemblies map the binned reads"
   ]
  },
  {
   "cell_type": "code",
   "execution_count": 6,
   "id": "ac1112a1-05c1-49ff-aa61-09fd519791c8",
   "metadata": {},
   "outputs": [
    {
     "name": "stdout",
     "output_type": "stream",
     "text": [
      "total 36571176\n",
      "-rw-rw-r--. 1 hrasrb powerplant 16996071646 Sep 28 16:28 classified_M7_hifi.fastq.gz\n",
      "-rw-rw-r--. 1 hrasrb powerplant 15639726003 Sep 28 16:28 classified_Nui_hifi.fastq.gz\n",
      "-rw-rw-r--. 1 hrasrb powerplant    52807511 Sep 28 16:16 unclassified_M7xNui_hifi.fastq.gz\n"
     ]
    }
   ],
   "source": [
    "cd /workspace/hrasrb/Blueberry_trio/trio-binning/02.classifyHiFi\n",
    "ll"
   ]
  },
  {
   "cell_type": "code",
   "execution_count": 5,
   "id": "ad801fff-4c86-4c98-9991-f55161f5de7f",
   "metadata": {},
   "outputs": [],
   "source": [
    "rm *fq"
   ]
  },
  {
   "cell_type": "code",
   "execution_count": 6,
   "id": "6a9ab8e5-2849-4119-984b-cdc503926e8d",
   "metadata": {},
   "outputs": [
    {
     "name": "stdout",
     "output_type": "stream",
     "text": [
      "Submitted batch job 2064545\n"
     ]
    }
   ],
   "source": [
    "BASE=/workspace/hrasrb/Blueberry_trio\n",
    "\n",
    "WKDIR=${BASE}/trio-binning/02.classifyHiFi\n",
    "\n",
    "cd $WKDIR\n",
    "\n",
    "LOG=${BASE}/log\n",
    "\n",
    "ml htslib\n",
    "\n",
    "sbatch << EOF\n",
    "#!/bin/bash -e\n",
    "\n",
    "#SBATCH -J Nui_hifi_compress # change this\n",
    "#SBATCH --output=${LOG}/hrasrb_%j.out\n",
    "#SBATCH --error=${LOG}/hrasrb_%j.err\n",
    "#SBATCH --mail-user=Sarah.Bailey@plantandfood.co.nz\n",
    "#SBATCH --mail-type=ALL\n",
    "#SBATCH --time=24:00:00 # Walltime # change this\n",
    "#SBATCH --mem=500M # change this\n",
    "#SBATCH --cpus-per-task=12\n",
    "\n",
    "# echo \"combine reads\"\n",
    "\n",
    "# cat *_Nui.fq > ./classified_Nui_hifi.fastq\n",
    "# cat *_M7.fq > ./classified_M7_hifi.fastq\n",
    "# cat unclassified*.fq > ./unclassified_M7xNui_hifi.fastq\n",
    "\n",
    "# echo \"Done\"\n",
    "# echo\n",
    "echo \"compress reads\"\n",
    "\n",
    "bgzip -@ 12 classified_Nui_hifi.fastq\n",
    "\n",
    "echo \"Done\"\n",
    "echo\n",
    "\n",
    "EOF\n",
    "\n",
    "module unload htslib\n"
   ]
  },
  {
   "cell_type": "code",
   "execution_count": 1,
   "id": "0136d566-3693-4f11-ac55-b9bc5b9df05e",
   "metadata": {},
   "outputs": [
    {
     "name": "stdout",
     "output_type": "stream",
     "text": [
      "Job ID: 2064545\n",
      "Cluster: powerplant\n",
      "User/Group: hrasrb/hrasrb\n",
      "State: COMPLETED (exit code 0)\n",
      "Nodes: 1\n",
      "Cores per node: 12\n",
      "CPU Utilized: 02:12:26\n",
      "CPU Efficiency: 92.48% of 02:23:12 core-walltime\n",
      "Job Wall-clock time: 00:11:56\n",
      "Memory Utilized: 10.14 MB\n",
      "Memory Efficiency: 2.03% of 500.00 MB\n"
     ]
    }
   ],
   "source": [
    "seff 2064545"
   ]
  },
  {
   "cell_type": "code",
   "execution_count": 7,
   "id": "b2a722ea-ce5e-4b3c-a7e2-b5276f684186",
   "metadata": {},
   "outputs": [
    {
     "name": "stdout",
     "output_type": "stream",
     "text": [
      "             JOBID PARTITION     NAME     USER ST       TIME  NODES NODELIST(REASON)\n",
      "           2064545     short Nui_hifi   hrasrb PD       0:00      1 (Priority)\n",
      "         2064410_1     short MegaBlas   hrasrb  R    1:17:03      1 wkoppb30\n",
      "         2064410_2     short MegaBlas   hrasrb  R    1:17:03      1 aklppg33\n",
      "         2064410_3     short MegaBlas   hrasrb  R    1:17:03      1 aklppg33\n",
      "         2064410_4     short MegaBlas   hrasrb  R    1:17:03      1 aklppg33\n",
      "         2064410_5     short MegaBlas   hrasrb  R    1:17:03      1 aklppg33\n",
      "         2063723_3     short Reciproc   hrasrb  R    2:25:06      1 wkoppb30\n",
      "           2064542     short M7_hifi_   hrasrb  R       0:55      1 aklppg32\n"
     ]
    }
   ],
   "source": [
    "squeue -u hrasrb"
   ]
  },
  {
   "cell_type": "code",
   "execution_count": 8,
   "id": "79507584-ca82-45b3-bcef-c22e4a0d14e2",
   "metadata": {},
   "outputs": [
    {
     "name": "stdout",
     "output_type": "stream",
     "text": [
      "total 185692216\n",
      "-rw-rw-r--. 1 hrasrb powerplant 43009452297 Sep 28 14:44 classified_M7_hifi.fastq\n",
      "-rw-rw-r--. 1 hrasrb powerplant  1311978474 Sep 28 16:17 classified_M7_hifi.fastq.gz\n",
      "-rw-rw-r--. 1 hrasrb powerplant 39840258147 Sep 28 14:32 classified_Nui_hifi.fastq\n",
      "-rw-rw-r--. 1 hrasrb powerplant 18469240330 Feb 28  2023 classified_progeny1_hapA_Nui.fq\n",
      "-rw-rw-r--. 1 hrasrb powerplant 19952357985 Feb 28  2023 classified_progeny1_hapB_M7.fq\n",
      "-rw-rw-r--. 1 hrasrb powerplant 21371017817 Feb 28  2023 classified_progeny2_hapA_Nui.fq\n",
      "-rw-rw-r--. 1 hrasrb powerplant 23057094312 Feb 28  2023 classified_progeny2_hapB_M7.fq\n",
      "-rw-rw-r--. 1 hrasrb powerplant    52807511 Sep 28 16:16 unclassified_M7xNui_hifi.fastq.gz\n",
      "-rw-rw-r--. 1 hrasrb powerplant    71112586 Feb 28  2023 unclassified_progeny1.fq\n",
      "-rw-rw-r--. 1 hrasrb powerplant   105189601 Feb 28  2023 unclassified_progeny2.fq\n"
     ]
    }
   ],
   "source": [
    "WKDIR=${BASE}/trio-binning/02.classifyHiFi\n",
    "\n",
    "cd $WKDIR\n",
    "ll"
   ]
  },
  {
   "cell_type": "code",
   "execution_count": 3,
   "id": "a1c57709-b1e3-4c63-9c0e-7ee28f4c2b6d",
   "metadata": {},
   "outputs": [],
   "source": [
    "rm classified_M7_hifi.fastq.gz"
   ]
  },
  {
   "cell_type": "code",
   "execution_count": 1,
   "id": "2c1e135c-4007-4ba1-a795-d261a40e0415",
   "metadata": {},
   "outputs": [
    {
     "name": "stdout",
     "output_type": "stream",
     "text": [
      "blasthits\t    hrasrb_2064386.err\thrasrb_2064417.out\n",
      "hrasrb_2063983.err  hrasrb_2064386.out\thrasrb_2064450.err\n",
      "hrasrb_2063983.out  hrasrb_2064417.err\thrasrb_2064450.out\n",
      "slurmstepd: error: *** JOB 2064450 ON wkoppb40 CANCELLED AT 2023-09-28T16:06:02 DUE TO TIME LIMIT ***\n",
      "compress reads\n"
     ]
    }
   ],
   "source": [
    "BASE=/workspace/hrasrb/Blueberry_trio\n",
    "\n",
    "LOG=${BASE}/log\n",
    "cd $LOG\n",
    "\n",
    "ls\n",
    "\n",
    "cat *2064450*"
   ]
  },
  {
   "cell_type": "markdown",
   "id": "381782e5-1882-4f51-bc43-22f43a6e7126",
   "metadata": {},
   "source": [
    "## Map to M7 haps"
   ]
  },
  {
   "cell_type": "code",
   "execution_count": 2,
   "id": "21daeb88-3979-4a38-a0b2-6caca119ae70",
   "metadata": {},
   "outputs": [
    {
     "name": "stdout",
     "output_type": "stream",
     "text": [
      "Submitted batch job 2069543\n"
     ]
    }
   ],
   "source": [
    "WKDIR=/powerplant/workspace/hrasrb/Blueberry_trio/2023-09-01_remove_contamination\n",
    "LOG=${WKDIR}/log\n",
    "\n",
    "M7_hifi=/workspace/hrasrb/Blueberry_trio/trio-binning/02.classifyHiFi/classified_M7_hifi.fastq.gz\n",
    "\n",
    "# ASM=${WKDIR}/progeny_M7_hap1.fa\n",
    "ASM=${WKDIR}/progeny_M7_hap2.fa\n",
    "\n",
    "tag=$(basename \"${ASM}\" .fa)\n",
    "\n",
    "cd \"${WKDIR}\"\n",
    "\n",
    "# mkdir bamfiles\n",
    "\n",
    "module load minimap2/2.22\n",
    "module load samtools/1.16\n",
    "\n",
    "# Create coverage files.\n",
    "sbatch << EOF\n",
    "#!/bin/bash\n",
    "#SBATCH -J \"${tag}_minimap_samtools\"\n",
    "#SBATCH -o ${LOG}/hrasrb_%J.out\n",
    "#SBATCH -e ${LOG}/hrasrb_%J.err\n",
    "#SBATCH --cpus-per-task=8\n",
    "#SBATCH --mem=24G\n",
    "#SBATCH --time=03:00:00\n",
    "\n",
    "echo \"$tag\"\n",
    "echo\n",
    "echo \"Map\"\n",
    "\n",
    "minimap2 -t 8 -ax map-hifi \"${ASM}\" \"${M7_hifi}\" > \"${WKDIR}/bamfiles/${tag}_to_binned_hifi.sam\"\n",
    "\n",
    "echo \"Done\"\n",
    "echo\n",
    "echo \"Sam -> bam\"\n",
    "\n",
    "samtools view --threads 8 -b \"${WKDIR}/bamfiles/${tag}_to_binned_hifi.sam\" > \"${WKDIR}/bamfiles/${tag}_to_binned_hifi.bam\"\n",
    "\n",
    "echo \"Done\"\n",
    "echo\n",
    "echo \"Sort bam\"\n",
    "\n",
    "samtools sort --threads 8 \"${WKDIR}/bamfiles/${tag}_to_binned_hifi.bam\" > \"${WKDIR}/bamfiles/${tag}_to_binned_hifi.sorted.bam\"\n",
    "\n",
    "echo \"Done\"\n",
    "echo\n",
    "echo \"index bam\"\n",
    "\n",
    "samtools index \"${WKDIR}/bamfiles/${tag}_to_binned_hifi.sorted.bam\"\n",
    "\n",
    "echo \"Done\"\n",
    "echo\n",
    "\n",
    "EOF\n",
    "\n",
    "module unload samtools/1.16\n",
    "module unload minimap2/2.22\n"
   ]
  },
  {
   "cell_type": "code",
   "execution_count": null,
   "id": "ff5a2275-1961-4e8b-8641-6de60aabcf11",
   "metadata": {},
   "outputs": [],
   "source": [
    "2064956 M7 hap1\n",
    "2069543 M7 hap2"
   ]
  },
  {
   "cell_type": "code",
   "execution_count": 14,
   "id": "f5599546-a617-4ab9-aa47-47f2b5c06b09",
   "metadata": {},
   "outputs": [
    {
     "name": "stdout",
     "output_type": "stream",
     "text": [
      "Job ID: 2069543\n",
      "Cluster: powerplant\n",
      "User/Group: hrasrb/hrasrb\n",
      "State: COMPLETED (exit code 0)\n",
      "Nodes: 1\n",
      "Cores per node: 8\n",
      "CPU Utilized: 12:45:53\n",
      "CPU Efficiency: 89.00% of 14:20:32 core-walltime\n",
      "Job Wall-clock time: 01:47:34\n",
      "Memory Utilized: 11.09 GB\n",
      "Memory Efficiency: 46.21% of 24.00 GB\n"
     ]
    }
   ],
   "source": [
    "seff 2069543"
   ]
  },
  {
   "cell_type": "markdown",
   "id": "be8ab1b1-45f6-4f84-a771-533a0fc8adbc",
   "metadata": {},
   "source": [
    "## Map to Nui haps"
   ]
  },
  {
   "cell_type": "code",
   "execution_count": 4,
   "id": "8a943eb6-a589-401d-b5d0-d52603a1c6d6",
   "metadata": {},
   "outputs": [
    {
     "name": "stdout",
     "output_type": "stream",
     "text": [
      "Submitted batch job 2069545\n"
     ]
    }
   ],
   "source": [
    "WKDIR=/powerplant/workspace/hrasrb/Blueberry_trio/2023-09-01_remove_contamination\n",
    "LOG=${WKDIR}/log\n",
    "\n",
    "Nui_hifi=/workspace/hrasrb/Blueberry_trio/trio-binning/02.classifyHiFi/classified_Nui_hifi.fastq.gz\n",
    "\n",
    "# ASM=${WKDIR}/progeny_Nui_hap1.fa\n",
    "ASM=${WKDIR}/progeny_Nui_hap2.fa\n",
    "\n",
    "tag=$(basename \"${ASM}\" .fa)\n",
    "\n",
    "cd \"${WKDIR}\"\n",
    "\n",
    "# mkdir bamfiles\n",
    "\n",
    "module load minimap2/2.22\n",
    "module load samtools/1.16\n",
    "\n",
    "# Create coverage files.\n",
    "sbatch << EOF\n",
    "#!/bin/bash\n",
    "#SBATCH -J \"${tag}_minimap_samtools\"\n",
    "#SBATCH -o ${LOG}/hrasrb_%J.out\n",
    "#SBATCH -e ${LOG}/hrasrb_%J.err\n",
    "#SBATCH --cpus-per-task=8\n",
    "#SBATCH --mem=24G\n",
    "#SBATCH --time=03:00:00\n",
    "\n",
    "echo \"$tag\"\n",
    "echo\n",
    "echo \"Map\"\n",
    "\n",
    "minimap2 -t 8 -ax map-hifi \"${ASM}\" \"${M7_hifi}\" > \"${WKDIR}/bamfiles/${tag}_to_binned_hifi.sam\"\n",
    "\n",
    "echo \"Done\"\n",
    "echo\n",
    "echo \"Sam -> bam\"\n",
    "\n",
    "samtools view --threads 8 -b \"${WKDIR}/bamfiles/${tag}_to_binned_hifi.sam\" > \"${WKDIR}/bamfiles/${tag}_to_binned_hifi.bam\"\n",
    "\n",
    "echo \"Done\"\n",
    "echo\n",
    "echo \"Sort bam\"\n",
    "\n",
    "samtools sort --threads 8 \"${WKDIR}/bamfiles/${tag}_to_binned_hifi.bam\" > \"${WKDIR}/bamfiles/${tag}_to_binned_hifi.sorted.bam\"\n",
    "\n",
    "echo \"Done\"\n",
    "echo\n",
    "echo \"index bam\"\n",
    "\n",
    "samtools index \"${WKDIR}/bamfiles/${tag}_to_binned_hifi.sorted.bam\"\n",
    "\n",
    "echo \"Done\"\n",
    "echo\n",
    "\n",
    "EOF\n",
    "\n",
    "module unload samtools/1.16\n",
    "module unload minimap2/2.22\n"
   ]
  },
  {
   "cell_type": "code",
   "execution_count": null,
   "id": "bef38ea1-d4db-4fa4-8e8f-d356aca0160b",
   "metadata": {},
   "outputs": [],
   "source": [
    "2069544 Nui Hap1\n",
    "2069545 Nui Hap2"
   ]
  },
  {
   "cell_type": "markdown",
   "id": "44c0c4a5-8592-4014-bad4-37c514426c4b",
   "metadata": {},
   "source": [
    "## generate blast result"
   ]
  },
  {
   "cell_type": "code",
   "execution_count": 4,
   "id": "2bfb02c9-9ac7-4264-ad78-91bfd4a420be",
   "metadata": {},
   "outputs": [
    {
     "name": "stdout",
     "output_type": "stream",
     "text": [
      "Currently Loaded Modulefiles:\n",
      " 1) \u001b[46mpowerPlant/core\u001b[0m    4) git/2.21.0      7) asub/2.2           \n",
      " 2) texlive/20151117   5) perlbrew/0.76   8) ncbi-blast/2.11.0  \n",
      " 3) pandoc/1.19.2      6) perl/5.28.0    \n",
      "\n",
      "Key:\n",
      "\u001b[46msticky\u001b[0m  \n"
     ]
    }
   ],
   "source": [
    "module load ncbi-blast\n",
    "module list"
   ]
  },
  {
   "cell_type": "code",
   "execution_count": 6,
   "id": "95f45075-eb33-478a-8f75-cfbeed96a8b1",
   "metadata": {},
   "outputs": [],
   "source": [
    "base=/powerplant/workspace/hrasrb/Blueberry_trio/2023-09-01_remove_contamination\n",
    "\n",
    "cd \"${base}\"\n",
    "\n",
    "file=\"Blueberry_haplotypes.fofn\"\n",
    "if [ -f \"$file\" ] ; then\n",
    "    rm \"$file\"\n",
    "fi\n",
    "\n",
    "cat <<EOF > Blueberry_haplotypes.fofn\n",
    "/powerplant/workspace/hrasrb/Blueberry_trio/2023-09-01_remove_contamination/progeny_Nui_hap2.fa\n",
    "/powerplant/workspace/hrasrb/Blueberry_trio/2023-09-01_remove_contamination/progeny_Nui_hap1.fa\n",
    "/powerplant/workspace/hrasrb/Blueberry_trio/2023-09-01_remove_contamination/progeny_M7_hap2.fa\n",
    "/powerplant/workspace/hrasrb/Blueberry_trio/2023-09-01_remove_contamination/progeny_M7_hap1.fa\n",
    "EOF"
   ]
  },
  {
   "cell_type": "code",
   "execution_count": 16,
   "id": "5baae557-8a0b-4f0d-8bf9-e5fc017660ec",
   "metadata": {},
   "outputs": [
    {
     "name": "stdout",
     "output_type": "stream",
     "text": [
      "SBATCH_ARGS: --time 24:00:00 --mem 1G --cpus-per-task=12 --mail-user=Sarah.Bailey@plantandfood.co.nz --mail-type=ALL\n",
      "JOB_ARRAY_NAME: MegaBlast\n",
      "GROUP_SIZE: 1\n",
      "NUM_COMMANDS: 5\n",
      "Submitted batch job 2064410\n"
     ]
    }
   ],
   "source": [
    "module load ncbi-blast\n",
    "\n",
    "base=/powerplant/workspace/hrasrb/Blueberry_trio/2023-09-01_remove_contamination\n",
    "\n",
    "cd \"${base}\"\n",
    "\n",
    "mkdir blasthits\n",
    "\n",
    "file=./Blueberry_haplotypes.fofn\n",
    "\n",
    "cat \"${file}\" | while read line\n",
    "do\n",
    "    tag=$(basename \"${line}\" .fa)\n",
    "    echo \"blastn \\\n",
    "    -task megablast \\\n",
    "    -query \"${line}\" \\\n",
    "    -db /workspace/ComparativeDataSources/NCBI/nt/nt \\\n",
    "    -outfmt '6 qseqid staxids bitscore std' \\\n",
    "    -max_target_seqs 1 \\\n",
    "    -max_hsps 1 \\\n",
    "    -evalue 1e-10 \\\n",
    "    -num_threads 12 \\\n",
    "    -out \"${base}/blasthits/${tag}.vs.nt.mts1.hsp1.1e10.megablast.out\"\"\n",
    "done | abatch -j MegaBlast --time 24:00:00 --mem 1G --cpus-per-task=12 --mail-user=Sarah.Bailey@plantandfood.co.nz --mail-type=ALL | sbatch\n",
    "\n",
    "module unload ncbi-blast"
   ]
  },
  {
   "cell_type": "markdown",
   "id": "94bf0c8c-423d-4c72-9c86-b06d9eb6147b",
   "metadata": {},
   "source": [
    "## Sorting by query, then by bitscore, then by evalue"
   ]
  },
  {
   "cell_type": "code",
   "execution_count": 6,
   "id": "4bcbdbe2-1f5c-4cdc-bda5-ba57d590e503",
   "metadata": {},
   "outputs": [
    {
     "name": "stdout",
     "output_type": "stream",
     "text": [
      "mkdir: cannot create directory ‘blasthits’: File exists\n",
      "SBATCH_ARGS: --time 24:00:00 --mem 1G --cpus-per-task=12 --mail-user=Sarah.Bailey@plantandfood.co.nz --mail-type=ALL\n",
      "JOB_ARRAY_NAME: MegaBlast_best_single\n",
      "GROUP_SIZE: 1\n",
      "NUM_COMMANDS: 4\n",
      "Submitted batch job 2072110\n"
     ]
    }
   ],
   "source": [
    "module load ncbi-blast\n",
    "\n",
    "base=/powerplant/workspace/hrasrb/Blueberry_trio/2023-09-01_remove_contamination\n",
    "\n",
    "cd \"${base}\"\n",
    "\n",
    "mkdir blasthits\n",
    "\n",
    "file=./Blueberry_haplotypes.fofn\n",
    "\n",
    "# blastn -query your.fa -db your_db.fa -outfmt 6 | sort -k1,1 -k12,12nr -k11,11n | sort -u -k1,1 --merge > best_single_hits.blastn\n",
    "\n",
    "# -k3,3nr\n",
    "# -k14,14n\n",
    "\n",
    "# c(\"qseqid\", \"staxids\", \"bitscore\", \"std\", \"sseqid\", \"pident\", \"length\", \"mismatch\", \"gapopen\", \"qstart\", \"qend\", \"sstart\", \"send\", \"evalue\")\n",
    "cat \"${file}\" | while read line\n",
    "do\n",
    "    tag=$(basename \"${line}\" .fa)\n",
    "    echo \"blastn \\\n",
    "    -task megablast \\\n",
    "    -query \"${line}\" \\\n",
    "    -db /workspace/ComparativeDataSources/NCBI/nt/nt \\\n",
    "    -outfmt '6 qseqid staxids bitscore std' \\\n",
    "    -evalue 1e-10 \\\n",
    "    -num_threads 12 | sort -k1,1 -k3,3nr -k14,14n | sort -u -k1,1 --merge > \"${base}/blasthits/${tag}.vs.nt.best_single.1e10.megablast.out\"\"\n",
    "done | abatch -j MegaBlast_best_single --time 24:00:00 --mem 1G --cpus-per-task=12 --mail-user=Sarah.Bailey@plantandfood.co.nz --mail-type=ALL | sbatch\n",
    "\n",
    "module unload ncbi-blast"
   ]
  },
  {
   "cell_type": "code",
   "execution_count": 5,
   "id": "69a077c3-1419-4fb1-b6bd-902c9a92e41d",
   "metadata": {},
   "outputs": [
    {
     "name": "stdout",
     "output_type": "stream",
     "text": [
      "Job ID: 2064410\n",
      "Array Job ID: 2064410_5\n",
      "Cluster: powerplant\n",
      "User/Group: hrasrb/hrasrb\n",
      "State: COMPLETED (exit code 0)\n",
      "Nodes: 1\n",
      "Cores per node: 12\n",
      "CPU Utilized: 2-23:27:41\n",
      "CPU Efficiency: 96.08% of 3-02:22:24 core-walltime\n",
      "Job Wall-clock time: 06:11:52\n",
      "Memory Utilized: 669.66 MB\n",
      "Memory Efficiency: 65.40% of 1.00 GB\n"
     ]
    }
   ],
   "source": [
    "seff 2064410"
   ]
  },
  {
   "cell_type": "code",
   "execution_count": 15,
   "id": "e068a584-67d4-469f-a8b2-8862a639d3b8",
   "metadata": {},
   "outputs": [
    {
     "name": "stdout",
     "output_type": "stream",
     "text": [
      "Command line argument error: Argument \"out\". File is not accessible:  `/powerplant/workspace/hrasrb/Blueberry_trio/2023-09-01_remove_contamination/blasthits/progeny_M7_hap1.vs.nt.mts1.hsp1.1e10.megablast.out'\n",
      "Command line argument error: Argument \"out\". File is not accessible:  `/powerplant/workspace/hrasrb/Blueberry_trio/2023-09-01_remove_contamination/blasthits/progeny_Nui_hap2.vs.nt.mts1.hsp1.1e10.megablast.out'\n",
      "Command line argument error: Argument \"out\". File is not accessible:  `/powerplant/workspace/hrasrb/Blueberry_trio/2023-09-01_remove_contamination/blasthits/progeny_Nui_hap1.vs.nt.mts1.hsp1.1e10.megablast.out'\n",
      "Command line argument error: Argument \"out\". File is not accessible:  `/powerplant/workspace/hrasrb/Blueberry_trio/2023-09-01_remove_contamination/blasthits/progeny_M7_hap2.vs.nt.mts1.hsp1.1e10.megablast.out'\n",
      "Command line argument error: Argument \"out\". File is not accessible:  `/powerplant/workspace/hrasrb/Blueberry_trio/2023-09-01_remove_contamination/blasthits/M7xNui_min2k_Flye.vs.nt.mts1.hsp1.1e10.megablast.out'\n"
     ]
    }
   ],
   "source": [
    "cat ${base}/MegaBlast/MegaBlast.err/*err"
   ]
  },
  {
   "cell_type": "markdown",
   "id": "dfa411e0-d0af-4680-9564-9028d763123e",
   "metadata": {},
   "source": [
    "## generate blobplot"
   ]
  },
  {
   "cell_type": "code",
   "execution_count": 7,
   "id": "6cbdaac0-aaf8-4615-b93d-1aa452f32712",
   "metadata": {},
   "outputs": [
    {
     "name": "stdout",
     "output_type": "stream",
     "text": [
      "Loading \u001b[1mblobtools/1.0\u001b[22m\n",
      "  \u001b[94mLoading requirement\u001b[0m: pfr-python2/2.7.13\n",
      "Currently Loaded Modulefiles:\n",
      " 1) \u001b[46mpowerPlant/core\u001b[0m    4) git/2.21.0      7) asub/2.2            \n",
      " 2) texlive/20151117   5) perlbrew/0.76   8) \u001b[100mpfr-python2/2.7.13\u001b[0m  \n",
      " 3) pandoc/1.19.2      6) perl/5.28.0     9) blobtools/1.0       \n",
      "\n",
      "Key:\n",
      "\u001b[100mauto-loaded\u001b[0m  \u001b[46msticky\u001b[0m  \n"
     ]
    }
   ],
   "source": [
    "module list"
   ]
  },
  {
   "cell_type": "code",
   "execution_count": 6,
   "id": "5f69fb4c-37af-43d2-84b3-b0d3e2eb4f96",
   "metadata": {},
   "outputs": [
    {
     "name": "stdout",
     "output_type": "stream",
     "text": [
      "(/workspace/appscratch/miniconda/hraijc_blobtools) 1.1.1\n",
      "(/workspace/appscratch/miniconda/hraijc_blobtools) "
     ]
    },
    {
     "ename": "",
     "evalue": "1",
     "output_type": "error",
     "traceback": []
    }
   ],
   "source": [
    "module load conda\n",
    "conda activate hraijc_blobtools\n",
    "/workspace/hraijc/git_clones/blobtools/blobtools --version"
   ]
  },
  {
   "cell_type": "code",
   "execution_count": 9,
   "id": "fc377b74-9db9-4053-91da-a63655e7becd",
   "metadata": {},
   "outputs": [],
   "source": [
    "conda deactivate\n",
    "module unload conda"
   ]
  },
  {
   "cell_type": "code",
   "execution_count": 5,
   "id": "88d83fb3-aebc-46ca-8863-611f2ff77acd",
   "metadata": {},
   "outputs": [
    {
     "name": "stdout",
     "output_type": "stream",
     "text": [
      "SBATCH_ARGS: --time 00:30:00 --mem 1G --mail-user=Sarah.Bailey@plantandfood.co.nz --mail-type=ALL\n",
      "JOB_ARRAY_NAME: BlobPlot\n",
      "GROUP_SIZE: 5\n",
      "NUM_COMMANDS: 10\n",
      "ARRAY_SIZE: 2\n",
      "Submitted batch job 2075571\n"
     ]
    }
   ],
   "source": [
    "WKDIR=/powerplant/workspace/hrasrb/Blueberry_trio/2023-09-01_remove_contamination\n",
    "\n",
    "module load blobtools\n",
    "\n",
    "cd \"${WKDIR}\"\n",
    "\n",
    "mkdir -p BlobPlot_out\n",
    "\n",
    "file=./Blueberry_haplotypes.fofn\n",
    "\n",
    "cat \"${file}\" | while read line\n",
    "do\n",
    "    tag=$(basename \"${line}\" .fa)\n",
    "    echo \"blobtools create \\\n",
    "         -i \"${line}\" \\\n",
    "         -b \"${WKDIR}/bamfiles/${tag}_to_binned_hifi.sorted.bam\" \\\n",
    "         -t \"${WKDIR}/blasthits/${tag}.vs.nt.best_single.1e10.megablast.out\" \\\n",
    "         -o \"${WKDIR}/BlobPlot_out/${tag}.best_single.blobplot\"\"\n",
    "    echo \"blobtools plot \\\n",
    "         -i \"${WKDIR}/BlobPlot_out/${tag}.best_single.blobplot.blobDB.json\" \\\n",
    "         -o \"${WKDIR}/BlobPlot_out/${tag}.best_single.blobplot\"\"\n",
    "    echo \"blobtools view \\\n",
    "        -i \"${WKDIR}/BlobPlot_out/${tag}.best_single.blobplot.blobDB.json\" \\\n",
    "        -o \"${WKDIR}/BlobPlot_out/${tag}.best_single.blobplot\"\"\n",
    "    echo \"blobtools view \\\n",
    "         -i \"${WKDIR}/BlobPlot_out/${tag}.best_single.blobplot.blobDB.json\" \\\n",
    "         -o \"${WKDIR}/BlobPlot_out/${tag}.best_single.rank_species.blobplot\" \\\n",
    "         -r 'species'\"\n",
    "    echo \"blobtools view \\\n",
    "         -i \"${WKDIR}/BlobPlot_out/${tag}.best_single.blobplot.blobDB.json\" \\\n",
    "         -o \"${WKDIR}/BlobPlot_out/${tag}.best_single.rank_order.blobplot\" \\\n",
    "         -r 'order'\"\n",
    "done | abatch -j BlobPlot -g 5 --time 00:30:00 --mem 1G --mail-user=Sarah.Bailey@plantandfood.co.nz --mail-type=ALL | sbatch\n",
    "\n",
    "module unload blobtools"
   ]
  },
  {
   "cell_type": "code",
   "execution_count": 1,
   "id": "642f8697-063b-4146-a925-52b4d8f4b21d",
   "metadata": {},
   "outputs": [
    {
     "name": "stdout",
     "output_type": "stream",
     "text": [
      "Job ID: 2070357\n",
      "Array Job ID: 2070357_4\n",
      "Cluster: powerplant\n",
      "User/Group: hrasrb/hrasrb\n",
      "State: COMPLETED (exit code 0)\n",
      "Nodes: 1\n",
      "Cores per node: 2\n",
      "CPU Utilized: 00:15:18\n",
      "CPU Efficiency: 56.88% of 00:26:54 core-walltime\n",
      "Job Wall-clock time: 00:13:27\n",
      "Memory Utilized: 983.29 MB\n",
      "Memory Efficiency: 96.02% of 1.00 GB\n"
     ]
    }
   ],
   "source": [
    "seff 2070357"
   ]
  },
  {
   "cell_type": "markdown",
   "id": "59de74f5-45d6-49cc-9005-27f5782c80ea",
   "metadata": {},
   "source": [
    "### Refine the blobplot\n",
    "\n",
    "```\n",
    "blobtools plot -i <.blobDB.json> -r 'species' -o <out_file_name> # with species\n",
    "blobtools plot -i <.blobDB.json> -r 'order' -o <out_file_name> # with order\n",
    "```\n"
   ]
  },
  {
   "cell_type": "code",
   "execution_count": 7,
   "id": "732e932c-f84f-4863-ac96-3c66c387a5e2",
   "metadata": {},
   "outputs": [
    {
     "name": "stdout",
     "output_type": "stream",
     "text": [
      "SBATCH_ARGS: --time 00:10:00 --mem 1G --mail-user=Sarah.Bailey@plantandfood.co.nz --mail-type=ALL\n",
      "JOB_ARRAY_NAME: BlobPlot\n",
      "GROUP_SIZE: 2\n",
      "NUM_COMMANDS: 8\n",
      "ARRAY_SIZE: 4\n",
      "Submitted batch job 2075792\n"
     ]
    }
   ],
   "source": [
    "WKDIR=/powerplant/workspace/hrasrb/Blueberry_trio/2023-09-01_remove_contamination\n",
    "\n",
    "module load blobtools\n",
    "\n",
    "cd \"${WKDIR}\"\n",
    "\n",
    "file=./Blueberry_haplotypes.fofn\n",
    "\n",
    "cat \"${file}\" | while read line\n",
    "do\n",
    "    tag=$(basename \"${line}\" .fa)\n",
    "    echo \"blobtools plot \\\n",
    "         -i \"${WKDIR}/BlobPlot_out/best_single_hit/${tag}.best_single.blobplot.blobDB.json\" \\\n",
    "         -o \"${WKDIR}/BlobPlot_out/best_single_hit/${tag}.best_single.rank_species.blobplot\" \\\n",
    "         -r 'species'\"\n",
    "    echo \"blobtools plot \\\n",
    "         -i \"${WKDIR}/BlobPlot_out/best_single_hit/${tag}.best_single.blobplot.blobDB.json\" \\\n",
    "         -o \"${WKDIR}/BlobPlot_out/best_single_hit/${tag}.best_single.rank_order.blobplot\" \\\n",
    "         -r 'order'\"\n",
    "done | abatch -j BlobPlot -g 2 --time 00:10:00 --mem 1G --mail-user=Sarah.Bailey@plantandfood.co.nz --mail-type=ALL | sbatch\n",
    "module unload blobtools"
   ]
  },
  {
   "cell_type": "code",
   "execution_count": 28,
   "id": "bca63376-c0f0-4147-ba7d-07d544585fbd",
   "metadata": {},
   "outputs": [],
   "source": [
    "scancel 2070631"
   ]
  },
  {
   "cell_type": "code",
   "execution_count": 5,
   "id": "2fff7925-f18c-43b9-9ee3-dc27643bb8b6",
   "metadata": {},
   "outputs": [
    {
     "name": "stdout",
     "output_type": "stream",
     "text": [
      "Submitted batch job 2071228\n"
     ]
    }
   ],
   "source": [
    "WKDIR=/powerplant/workspace/hrasrb/Blueberry_trio/2023-09-01_remove_contamination\n",
    "\n",
    "module load blobtools\n",
    "\n",
    "ASSEMBLY=${WKDIR}/M7xNui_min2k_Flye.fa\n",
    "PREFIX=$(basename \"${ASSEMBLY}\" .fa)\n",
    "\n",
    "cd \"${WKDIR}\"\n",
    "\n",
    "sbatch << EOF\n",
    "#!/bin/bash\n",
    "#SBATCH -J blobtools\n",
    "#SBATCH -o ${WKDIR}/log/hrasrb_%J.out\n",
    "#SBATCH -e ${WKDIR}/log/hrasrb_%J.err\n",
    "#SBATCH --cpus-per-task=2\n",
    "#SBATCH --mem=1G\n",
    "#SBATCH --time=2:00:00\n",
    "\n",
    "blobtools create \\\n",
    " -i ${ASSEMBLY} \\\n",
    " -b ${WKDIR}/bamfiles/${PREFIX}_to_hifi.sorted.bam \\\n",
    " -t ${WKDIR}/blasthits/${PREFIX}.vs.nt.mts1.hsp1.1e10.megablast.out \\\n",
    " -o ${WKDIR}/BlobPlot_out/${PREFIX}.blobplot\n",
    "\n",
    "blobtools plot \\\n",
    " -i ${WKDIR}/BlobPlot_out/${PREFIX}.blobplot.blobDB.json \\\n",
    " -o ${WKDIR}/BlobPlot_out/${PREFIX}.rank_clade.blobplot\n",
    " \n",
    "blobtools view \\\n",
    " -i ${WKDIR}/BlobPlot_out/${PREFIX}.blobplot.blobDB.json \\\n",
    " -o ${WKDIR}/BlobPlot_out/${PREFIX}.blobplot\n",
    "\n",
    "blobtools plot \\\n",
    " -i ${WKDIR}/BlobPlot_out/${tag}.blobplot.blobDB.json \\\n",
    " -o ${WKDIR}/BlobPlot_out/${tag}.rank_species.blobplot \\\n",
    " -r 'species'\n",
    " \n",
    "blobtools view \\\n",
    " -i ${WKDIR}/BlobPlot_out/${tag}.blobplot.blobDB.json \\\n",
    " -o ${WKDIR}/BlobPlot_out/${tag}.rank_species.blobplot \\\n",
    " -r 'species'\n",
    " \n",
    "blobtools plot \\\n",
    " -i ${WKDIR}/BlobPlot_out/${tag}.blobplot.blobDB.json \\\n",
    " -o ${WKDIR}/BlobPlot_out/${tag}.rank_order.blobplot \\\n",
    " -r 'order'\n",
    " \n",
    "blobtools view \\\n",
    " -i ${WKDIR}/BlobPlot_out/${tag}.blobplot.blobDB.json \\\n",
    " -o ${WKDIR}/BlobPlot_out/${tag}.rank_order.blobplot \\\n",
    " -r 'order'\n",
    "\n",
    "EOF"
   ]
  },
  {
   "cell_type": "code",
   "execution_count": 4,
   "id": "6e2c0601-6026-4593-acea-12a547417048",
   "metadata": {},
   "outputs": [
    {
     "name": "stdout",
     "output_type": "stream",
     "text": [
      "Job ID: 2071225\n",
      "Cluster: powerplant\n",
      "User/Group: hrasrb/hrasrb\n",
      "State: FAILED (exit code 1)\n",
      "Nodes: 1\n",
      "Cores per node: 2\n",
      "CPU Utilized: 00:00:23\n",
      "CPU Efficiency: 18.85% of 00:02:02 core-walltime\n",
      "Job Wall-clock time: 00:01:01\n",
      "Memory Utilized: 13.51 MB\n",
      "Memory Efficiency: 1.32% of 1.00 GB\n"
     ]
    }
   ],
   "source": [
    "seff 2071225"
   ]
  },
  {
   "cell_type": "markdown",
   "id": "e6db3936-ab12-4bc0-bad5-d9f83d08e726",
   "metadata": {},
   "source": [
    "# Use Rstudio to explore blob toolkit results"
   ]
  },
  {
   "cell_type": "code",
   "execution_count": 1,
   "id": "a767f054-d834-4b05-b3a0-df2ac66b6b88",
   "metadata": {},
   "outputs": [],
   "source": [
    "cp /workspace/hrasrb/kiwifruit_pangenome/Phasing/assemblies/ncbi_fcs_vs_bloptools.html /workspace/hrasrb/Repo/High-quality-genomes/Blueberry/Assembly_Contamination_Check"
   ]
  },
  {
   "cell_type": "code",
   "execution_count": null,
   "id": "bcd269ef-1d3a-409d-be89-e1c0cc620d7b",
   "metadata": {},
   "outputs": [],
   "source": []
  }
 ],
 "metadata": {
  "kernelspec": {
   "display_name": "Bash",
   "language": "bash",
   "name": "bash"
  },
  "language_info": {
   "codemirror_mode": "shell",
   "file_extension": ".sh",
   "mimetype": "text/x-sh",
   "name": "bash"
  }
 },
 "nbformat": 4,
 "nbformat_minor": 5
}
