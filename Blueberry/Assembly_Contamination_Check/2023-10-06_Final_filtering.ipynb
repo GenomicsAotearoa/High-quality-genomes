{
 "cells": [
  {
   "cell_type": "code",
   "execution_count": 17,
   "id": "419c3a51-b195-413b-9458-276ef3a3475b",
   "metadata": {},
   "outputs": [
    {
     "name": "stdout",
     "output_type": "stream",
     "text": [
      "/powerplant/workspace/hrasrb/Blueberry_trio/2023-09-01_remove_contamination/progeny_Nui_hap2.fa\n",
      "/powerplant/workspace/hrasrb/Blueberry_trio/2023-09-01_remove_contamination/progeny_Nui_hap1.fa\n",
      "/powerplant/workspace/hrasrb/Blueberry_trio/2023-09-01_remove_contamination/progeny_M7_hap2.fa\n",
      "/powerplant/workspace/hrasrb/Blueberry_trio/2023-09-01_remove_contamination/progeny_M7_hap1.fa\n"
     ]
    }
   ],
   "source": [
    "base=/powerplant/workspace/hrasrb/Blueberry_trio/2023-09-01_remove_contamination\n",
    "cd $base\n",
    "cat Blueberry_haplotypes.fofn"
   ]
  },
  {
   "cell_type": "code",
   "execution_count": 12,
   "id": "48c293ef-99ed-4158-be77-fb48f3fb40a0",
   "metadata": {},
   "outputs": [
    {
     "name": "stdout",
     "output_type": "stream",
     "text": [
      "progeny_M7_hap1\th1tg000001l\t5403566\t0.3822\t0\t35.92\tVitales\t2697\t0\n",
      "progeny_M7_hap1\th1tg000002l\t1000764\t0.3881\t0\t45.694\tVitales\t1149\t0\n",
      "progeny_M7_hap1\th1tg000003l\t9032928\t0.3838\t0\t34.476\tLamiales\t3598\t0\n",
      "progeny_M7_hap1\th1tg000004l\t12217820\t0.392\t0\t28.55\tEricales\t2525\t0\n",
      "progeny_M7_hap1\th1tg000005l\t7270037\t0.3825\t0\t36.994\tEricales\t2577\t0\n",
      "progeny_M7_hap1\th1tg000006l\t64277\t0.3806\t0\t41.166\tEricales\t222\t0\n",
      "progeny_M7_hap1\th1tg000007l\t23490387\t0.3928\t0\t29.752\tEricales\t3864\t0\n",
      "progeny_M7_hap1\th1tg000008l\t9597299\t0.3622\t0\t34.673\tVitales\t3064\t0\n",
      "progeny_M7_hap1\th1tg000009l\t12149941\t0.3891\t0\t34.123\tVitales\t2335\t0\n",
      "progeny_M7_hap1\th1tg000010l\t2825335\t0.382\t0\t34.588\tVitales\t1746\t0\n"
     ]
    }
   ],
   "source": [
    "head /workspace/hrasrb/kiwifruit_pangenome/Phasing/assemblies/Blueberry_clean_contigs.tsv"
   ]
  },
  {
   "cell_type": "code",
   "execution_count": 15,
   "id": "760f2600-0d8e-4c11-8ed8-14bdf328602e",
   "metadata": {},
   "outputs": [
    {
     "name": "stdout",
     "output_type": "stream",
     "text": [
      "h1tg000001l\n",
      "h1tg000002l\n",
      "h1tg000003l\n",
      "h1tg000004l\n",
      "h1tg000005l\n",
      "h1tg000006l\n",
      "h1tg000007l\n",
      "h1tg000008l\n",
      "h1tg000009l\n",
      "h1tg000010l\n",
      "cut: write error: Broken pipe\n"
     ]
    }
   ],
   "source": [
    "grep progeny_M7_hap1  /workspace/hrasrb/kiwifruit_pangenome/Phasing/assemblies/Blueberry_clean_contigs.tsv | cut -f2 | head"
   ]
  },
  {
   "cell_type": "code",
   "execution_count": 22,
   "id": "dafe898e-0442-4aed-bc35-4f9bffbc3d56",
   "metadata": {},
   "outputs": [],
   "source": [
    "grep progeny_M7_hap1  /workspace/hrasrb/kiwifruit_pangenome/Phasing/assemblies/Blueberry_clean_contigs.tsv | cut -f2 > ./progeny_M7_hap1_clean_contigs.tsv\n",
    "grep progeny_M7_hap2  /workspace/hrasrb/kiwifruit_pangenome/Phasing/assemblies/Blueberry_clean_contigs.tsv | cut -f2 > ./progeny_M7_hap2_clean_contigs.tsv\n",
    "grep progeny_Nui_hap1  /workspace/hrasrb/kiwifruit_pangenome/Phasing/assemblies/Blueberry_clean_contigs.tsv | cut -f2 > ./progeny_Nui_hap1_clean_contigs.blobplot.tsv\n",
    "grep progeny_Nui_hap2  /workspace/hrasrb/kiwifruit_pangenome/Phasing/assemblies/Blueberry_clean_contigs.tsv | cut -f2 > ./progeny_Nui_hap2_clean_contigs.tsv"
   ]
  },
  {
   "cell_type": "markdown",
   "id": "f9a8385f-f147-41ad-b312-a88ed03f0802",
   "metadata": {},
   "source": [
    "## Remove chloroplast contig identified earlier"
   ]
  },
  {
   "cell_type": "code",
   "execution_count": 24,
   "id": "9da5f50c-c212-4940-9aa5-bdbbbb297e07",
   "metadata": {},
   "outputs": [],
   "source": [
    "grep -v h1tg000466l ./progeny_Nui_hap1_clean_contigs.blobplot.tsv > progeny_Nui_hap1_clean_contigs.tsv"
   ]
  },
  {
   "cell_type": "code",
   "execution_count": 23,
   "id": "cc9cdc6b-dc93-4590-a497-c3516fe23665",
   "metadata": {},
   "outputs": [],
   "source": [
    "rm progeny_Nui_hap1_clean_contigs.tsv"
   ]
  },
  {
   "cell_type": "markdown",
   "id": "72dd238e-bb90-47f4-b6c7-2ad1bac606ba",
   "metadata": {},
   "source": [
    "# Filter assemblies"
   ]
  },
  {
   "cell_type": "code",
   "execution_count": null,
   "id": "707fa0b1-d75f-4251-a05a-730b54afce13",
   "metadata": {},
   "outputs": [],
   "source": [
    "#!/bin/bash -e\n",
    "\n",
    "#SBATCH -J getCleanContigs # change\n",
    "#SBATCH --output=hrasrb_%j.out\n",
    "#SBATCH --error=hrasrb_%j.err\n",
    "#SBATCH --mail-user=Sarah.Bailey@plantandfood.co.nz\n",
    "#SBATCH --mail-type=ALL\n",
    "#SBATCH --time=00:24:00\n",
    "#SBATCH --mem=1M\n",
    "\n",
    "ml seqkit\n",
    "\n",
    "base=/powerplant/workspace/hrasrb/Blueberry_trio/2023-09-01_remove_contamination\n",
    "\n",
    "file=./Blueberry_haplotypes.fofn\n",
    "\n",
    "cd \"$base\"\n",
    "\n",
    "cat \"${file}\" | while read line\n",
    "do\n",
    "    tag=$(basename \"${line}\" .fa)\n",
    "    seqkit grep --pattern-file \"${tag}_clean_contigs.tsv\" -o \"no_contamination/${tag}.blobtools.noContamination.fa.gz\" \"${line}\" \n",
    "done"
   ]
  }
 ],
 "metadata": {
  "kernelspec": {
   "display_name": "Bash",
   "language": "bash",
   "name": "bash"
  },
  "language_info": {
   "codemirror_mode": "shell",
   "file_extension": ".sh",
   "mimetype": "text/x-sh",
   "name": "bash"
  }
 },
 "nbformat": 4,
 "nbformat_minor": 5
}
