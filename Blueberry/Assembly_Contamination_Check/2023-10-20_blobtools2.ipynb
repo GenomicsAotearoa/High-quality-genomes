{
 "cells": [
  {
   "cell_type": "markdown",
   "id": "84c68081-e4fc-45dc-be32-a21509dad29a",
   "metadata": {},
   "source": [
    "# Blobplot contamination detection and removal\n",
    "\n",
    "Hifiams assemblies from triobinned reads (including unbinned reads (~2%)). We chose the purge_duped assemblies. "
   ]
  },
  {
   "cell_type": "code",
   "execution_count": 12,
   "id": "f6eba7f4-1eac-4fd3-a772-7260c1573e84",
   "metadata": {},
   "outputs": [],
   "source": [
    "WKDIR=/workspace/hraijc/Blueberry/Blueberry_trio/Assembly\n",
    "ASSEMBLYDIR=/output/genomic/plant/Vaccinium/corymbosum/2023-10-18_M7xNui_TrioBinned_HiFi_Assemblies/Classified_Reads_Plus_Unclassified_Reads_Assemblies\n",
    "READDIR=${WKDIR}/HiFiReads\n",
    "LOG=${WKDIR}/log\n",
    "\n",
    "cd ${WKDIR}"
   ]
  },
  {
   "cell_type": "code",
   "execution_count": null,
   "id": "3e6b85db-609d-4633-b71a-06bbb179cd78",
   "metadata": {},
   "outputs": [],
   "source": []
  },
  {
   "cell_type": "code",
   "execution_count": 2,
   "id": "eef0959a-f50c-4c28-9a41-2f1ad2694b2e",
   "metadata": {},
   "outputs": [],
   "source": [
    "mkdir -p ${LOG}\n",
    "mkdir -p ${WKDIR}/precontam\n",
    "mkdir -p ${READDIR}\n",
    "mkdir -p ${WKDIR}/bamfiles\n",
    "mkdir -p ${WKDIR}/blasthits\n",
    "mkdir -p ${WKDIR}/BlobPlot_out\n"
   ]
  },
  {
   "cell_type": "code",
   "execution_count": 32,
   "id": "c82028e0-61e7-4795-8c7a-05e50d18af8e",
   "metadata": {},
   "outputs": [
    {
     "name": "stdout",
     "output_type": "stream",
     "text": [
      "ln: failed to create symbolic link ‘/workspace/hraijc/Blueberry/Blueberry_trio/Assembly/precontam/classified_Nui_plus_unclassified_hap2.purged.fa’: File exists\n",
      "ln: failed to create symbolic link ‘/workspace/hraijc/Blueberry/Blueberry_trio/Assembly/precontam/classified_Nui_plus_unclassified_hap1.purged.fa’: File exists\n",
      "ln: failed to create symbolic link ‘/workspace/hraijc/Blueberry/Blueberry_trio/Assembly/precontam/classified_M7_plus_unclassified_hap1.purged.fa’: File exists\n",
      "ln: failed to create symbolic link ‘/workspace/hraijc/Blueberry/Blueberry_trio/Assembly/precontam/classified_M7_plus_unclassified_hap2.purged.fa’: File exists\n"
     ]
    },
    {
     "ename": "",
     "evalue": "1",
     "output_type": "error",
     "traceback": []
    }
   ],
   "source": [
    "# Symlink Hifiams assemblies from triobinned reads (including unbinned reads (~2%)). We chose the purge_duped assemblies. \n",
    "ln -s ${ASSEMBLYDIR}/Nui_Haplotypes/Purged_Assemblies/classified_Nui_plus_unclassified_hap2.purged.fa ${WKDIR}/precontam/\n",
    "ln -s ${ASSEMBLYDIR}/Nui_Haplotypes/Purged_Assemblies/classified_Nui_plus_unclassified_hap1.purged.fa ${WKDIR}/precontam/\n",
    "ln -s ${ASSEMBLYDIR}/M7_Haplotypes/Purged_Assemblies/classified_M7_plus_unclassified_hap1.purged.fa ${WKDIR}/precontam/\n",
    "ln -s ${ASSEMBLYDIR}/M7_Haplotypes/Purged_Assemblies/classified_M7_plus_unclassified_hap2.purged.fa ${WKDIR}/precontam/"
   ]
  },
  {
   "cell_type": "code",
   "execution_count": null,
   "id": "a42cd5e2-eaf1-4f46-a702-de0eed2522a7",
   "metadata": {},
   "outputs": [],
   "source": []
  },
  {
   "cell_type": "code",
   "execution_count": 8,
   "id": "a0ea3fe0-7569-44ba-a2e9-33612edcf7dd",
   "metadata": {},
   "outputs": [],
   "source": []
  },
  {
   "cell_type": "markdown",
   "id": "726040c5-aad1-4e64-b193-b4a6ef8d7d63",
   "metadata": {},
   "source": [
    "# Map the reads back to Assembly for Blobtools coverage"
   ]
  },
  {
   "cell_type": "code",
   "execution_count": null,
   "id": "59625037-b015-4c55-bfe7-d439c1a8afdc",
   "metadata": {},
   "outputs": [],
   "source": [
    "# Decompress HiFi reads into a directory in my workspace.\n",
    "for readfile in /workspace/hrasrb/Blueberry_trio/rerun/trio-binning/02.classifyHiFi/*unclassified.fasta.gz\n",
    "do\n",
    "    readfilename=$(basename \"$readfile\")\n",
    "    echo gzip -dc ${readfile} > ${READDIR}/${readfilename%.gz}\n",
    "done | abatch -j ${LOG} --time 0:30:00 --cpus-per-task=1 --mem 1G | sbatch"
   ]
  },
  {
   "cell_type": "code",
   "execution_count": 8,
   "id": "e465a9ce-c5a1-4049-91da-c54b49361fad",
   "metadata": {},
   "outputs": [
    {
     "name": "stdout",
     "output_type": "stream",
     "text": [
      "echo \"#minimap2 -t 8 -ax map-hifi ${assemb} ${reads} > ${WKDIR}/bamfiles/${assembfilename}_to_hifi.sam\"\n",
      "echo \"samtools view --threads 8 -b ${WKDIR}/bamfiles/${assembfilename}_to_hifi.sam > ${WKDIR}/bamfiles/${assembfilename}_to_hifi.bam\"\n",
      "echo \"samtools sort --threads 8 ${WKDIR}/bamfiles/${assembfilename}_to_hifi.bam > ${WKDIR}/bamfiles/${assembfilename}_to_hifi.sorted.bam \"\n",
      "echo \"samtools index ${WKDIR}/bamfiles/${assembfilename}_to_hifi.sorted.bam\""
     ]
    }
   ],
   "source": [
    "# Script to map and create sorted bamfile for each parent. \n",
    "cat  ${WKDIR}/log/map.sh"
   ]
  },
  {
   "cell_type": "code",
   "execution_count": 9,
   "id": "0332f236-6c07-4eb4-a431-0a2f14947251",
   "metadata": {},
   "outputs": [],
   "source": [
    "for assemb in ${WKDIR}/precontam/*.fa\n",
    "do\n",
    "    if [[ $assemb == *\"M7\"* ]]; then\n",
    "        PARENT=M7\n",
    "    else\n",
    "        PARENT=Nui\n",
    "    fi\n",
    "    export WKDIR=${WKDIR}\n",
    "    export assemb=${assemb}\n",
    "    export reads=${READDIR}/classified_${PARENT}_plus_unclassified.fasta\n",
    "    export assembfilename=$(basename \"$assemb\" .purged.fa)\n",
    "    sh ${WKDIR}/log/map.sh > ${WKDIR}/log/${assembfilename}_map.sh\n",
    "    \n",
    "done"
   ]
  },
  {
   "cell_type": "code",
   "execution_count": 10,
   "id": "764e073e-c828-4f7f-8f03-042b8a444a97",
   "metadata": {},
   "outputs": [
    {
     "name": "stdout",
     "output_type": "stream",
     "text": [
      "#minimap2 -t 8 -ax map-hifi /workspace/hraijc/Blueberry/Blueberry_trio/Assembly/precontam/classified_M7_plus_unclassified_hap2.purged.fa /workspace/hraijc/Blueberry/Blueberry_trio/Assembly/HiFiReads/classified_M7_plus_unclassified.fasta > /workspace/hraijc/Blueberry/Blueberry_trio/Assembly/bamfiles/classified_M7_plus_unclassified_hap2_to_hifi.sam\n",
      "samtools view --threads 8 -b /workspace/hraijc/Blueberry/Blueberry_trio/Assembly/bamfiles/classified_M7_plus_unclassified_hap2_to_hifi.sam > /workspace/hraijc/Blueberry/Blueberry_trio/Assembly/bamfiles/classified_M7_plus_unclassified_hap2_to_hifi.bam\n",
      "samtools sort --threads 8 /workspace/hraijc/Blueberry/Blueberry_trio/Assembly/bamfiles/classified_M7_plus_unclassified_hap2_to_hifi.bam > /workspace/hraijc/Blueberry/Blueberry_trio/Assembly/bamfiles/classified_M7_plus_unclassified_hap2_to_hifi.sorted.bam \n",
      "samtools index /workspace/hraijc/Blueberry/Blueberry_trio/Assembly/bamfiles/classified_M7_plus_unclassified_hap2_to_hifi.sorted.bam\n"
     ]
    }
   ],
   "source": [
    "cat ${WKDIR}/log/classified_M7_plus_unclassified_hap2_map.sh"
   ]
  },
  {
   "cell_type": "code",
   "execution_count": 13,
   "id": "83ddc59f-099e-4640-80be-968562826e7c",
   "metadata": {},
   "outputs": [],
   "source": [
    "for shellfile in ${WKDIR}/log/*_map.sh\n",
    "do\n",
    "    echo \"sh $shellfile\"\n",
    "done > $WKDIR/log/map2.sh \n",
    "\n"
   ]
  },
  {
   "cell_type": "code",
   "execution_count": 14,
   "id": "9884bc27-88e6-4413-9553-20c93f82a72f",
   "metadata": {},
   "outputs": [
    {
     "name": "stdout",
     "output_type": "stream",
     "text": [
      "sh /workspace/hraijc/Blueberry/Blueberry_trio/Assembly/log/classified_M7_plus_unclassified_hap1_map.sh\n",
      "sh /workspace/hraijc/Blueberry/Blueberry_trio/Assembly/log/classified_M7_plus_unclassified_hap2_map.sh\n",
      "sh /workspace/hraijc/Blueberry/Blueberry_trio/Assembly/log/classified_Nui_plus_unclassified_hap1_map.sh\n",
      "sh /workspace/hraijc/Blueberry/Blueberry_trio/Assembly/log/classified_Nui_plus_unclassified_hap2_map.sh\n"
     ]
    }
   ],
   "source": [
    "cat $WKDIR/log/map2.sh "
   ]
  },
  {
   "cell_type": "code",
   "execution_count": 15,
   "id": "5d757b4c-f94e-4dc0-8742-622d7d2c5057",
   "metadata": {},
   "outputs": [
    {
     "name": "stdout",
     "output_type": "stream",
     "text": [
      "SBATCH_ARGS: --time 10:00:00 --mem 12G --cpus-per-task=8\n",
      "JOB_ARRAY_NAME: minimap\n",
      "GROUP_SIZE: 1\n",
      "NUM_COMMANDS: 4\n",
      "Submitted batch job 2140586\n"
     ]
    }
   ],
   "source": [
    "module load minimap2\n",
    "module load samtools\n",
    "\n",
    "cat $WKDIR/log/map2.sh | abatch -j minimap --time 10:00:00 --mem 12G --cpus-per-task=8 | sbatch\n",
    "\n",
    "module unload samtools\n",
    "module unload minimap2"
   ]
  },
  {
   "cell_type": "code",
   "execution_count": 16,
   "id": "56180c3b-1176-464d-80ae-0b3bf1fc0afb",
   "metadata": {},
   "outputs": [
    {
     "name": "stdout",
     "output_type": "stream",
     "text": [
      "Job ID: 2140586\n",
      "Array Job ID: 2140586_4\n",
      "Cluster: powerplant\n",
      "User/Group: hraijc/hraijc\n",
      "State: RUNNING\n",
      "Nodes: 1\n",
      "Cores per node: 8\n",
      "CPU Utilized: 00:00:00\n",
      "CPU Efficiency: 0.00% of 00:07:28 core-walltime\n",
      "Job Wall-clock time: 00:00:56\n",
      "Memory Utilized: 0.00 MB (estimated maximum)\n",
      "Memory Efficiency: 0.00% of 12.00 GB (12.00 GB/node)\n",
      "WARNING: Efficiency statistics may be misleading for RUNNING jobs.\n"
     ]
    }
   ],
   "source": [
    "seff 2140586"
   ]
  },
  {
   "cell_type": "markdown",
   "id": "44c0c4a5-8592-4014-bad4-37c514426c4b",
   "metadata": {},
   "source": [
    "## generate blast result"
   ]
  },
  {
   "cell_type": "code",
   "execution_count": 66,
   "id": "2bfb02c9-9ac7-4264-ad78-91bfd4a420be",
   "metadata": {},
   "outputs": [
    {
     "name": "stdout",
     "output_type": "stream",
     "text": [
      "SBATCH_ARGS: --time 20:00:00 --mem 2G --cpus-per-task=12\n",
      "JOB_ARRAY_NAME: MegaBlast\n",
      "GROUP_SIZE: 1\n",
      "NUM_COMMANDS: 4\n",
      "Submitted batch job 2140270\n"
     ]
    }
   ],
   "source": [
    "module load ncbi-blast\n",
    "\n",
    "for file in ${WKDIR}/precontam/*.fa\n",
    "do\n",
    "    filename=$(basename \"$file\" .purged.fa)\n",
    "    echo \"blastn \\\n",
    "    -task megablast \\\n",
    "    -query \"${file}\" \\\n",
    "    -db /workspace/ComparativeDataSources/NCBI/nt/nt \\\n",
    "    -outfmt '6 qseqid staxids bitscore std' \\\n",
    "    -evalue 1e-10 \\\n",
    "    -num_threads 12 | sort -k1,1 -k3,3nr -k14,14n | sort -u -k1,1 --merge > \"${WKDIR}/blasthits/${filename}.vs.nt.best_single.1e10.megablast.out\"\"\n",
    "done | abatch -j MegaBlast --time 20:00:00 --mem 2G --cpus-per-task=12 | sbatch\n",
    "\n",
    "module unload ncbi-blast\n"
   ]
  },
  {
   "cell_type": "code",
   "execution_count": 17,
   "id": "b7495ce9-3c06-4d40-b05b-71381b879250",
   "metadata": {},
   "outputs": [
    {
     "name": "stdout",
     "output_type": "stream",
     "text": [
      "Job ID: 2140270\n",
      "Array Job ID: 2140270_4\n",
      "Cluster: powerplant\n",
      "User/Group: hraijc/hraijc\n",
      "State: COMPLETED (exit code 0)\n",
      "Nodes: 1\n",
      "Cores per node: 12\n",
      "CPU Utilized: 22:36:15\n",
      "CPU Efficiency: 90.00% of 1-01:07:00 core-walltime\n",
      "Job Wall-clock time: 02:05:35\n",
      "Memory Utilized: 1.04 GB\n",
      "Memory Efficiency: 52.11% of 2.00 GB\n"
     ]
    }
   ],
   "source": [
    "seff 2140270\n"
   ]
  },
  {
   "cell_type": "markdown",
   "id": "dfa411e0-d0af-4680-9564-9028d763123e",
   "metadata": {},
   "source": [
    "## generate blobplot"
   ]
  },
  {
   "cell_type": "code",
   "execution_count": 3,
   "id": "d5c9e8ec-dd54-479f-8f85-2ef20235fe55",
   "metadata": {},
   "outputs": [
    {
     "name": "stdout",
     "output_type": "stream",
     "text": [
      "blobtools create -i /workspace/hraijc/Blueberry/Blueberry_trio/Assembly/precontam/classified_M7_plus_unclassified_hap1.purged.fa -b /workspace/hraijc/Blueberry/Blueberry_trio/Assembly/bamfiles/classified_M7_plus_unclassified_hap1_to_hifi.sorted.bam -t /workspace/hraijc/Blueberry/Blueberry_trio/Assembly/blasthits/classified_M7_plus_unclassified_hap1.vs.nt.best_single.1e10.megablast.out -o /workspace/hraijc/Blueberry/Blueberry_trio/Assembly/BlobPlot_out/classified_M7_plus_unclassified_hap1.best_single.blobplot\n",
      "blobtools plot -i /workspace/hraijc/Blueberry/Blueberry_trio/Assembly/BlobPlot_out/classified_M7_plus_unclassified_hap1.best_single.blobplot.blobDB.json -o /workspace/hraijc/Blueberry/Blueberry_trio/Assembly/BlobPlot_out/classified_M7_plus_unclassified_hap1.best_single.blobplot\n",
      "blobtools view -i /workspace/hraijc/Blueberry/Blueberry_trio/Assembly/BlobPlot_out/classified_M7_plus_unclassified_hap1.best_single.blobplot.blobDB.json -o /workspace/hraijc/Blueberry/Blueberry_trio/Assembly/BlobPlot_out/classified_M7_plus_unclassified_hap1.best_single.blobplot\n",
      "blobtools create -i /workspace/hraijc/Blueberry/Blueberry_trio/Assembly/precontam/classified_M7_plus_unclassified_hap2.purged.fa -b /workspace/hraijc/Blueberry/Blueberry_trio/Assembly/bamfiles/classified_M7_plus_unclassified_hap2_to_hifi.sorted.bam -t /workspace/hraijc/Blueberry/Blueberry_trio/Assembly/blasthits/classified_M7_plus_unclassified_hap2.vs.nt.best_single.1e10.megablast.out -o /workspace/hraijc/Blueberry/Blueberry_trio/Assembly/BlobPlot_out/classified_M7_plus_unclassified_hap2.best_single.blobplot\n",
      "blobtools plot -i /workspace/hraijc/Blueberry/Blueberry_trio/Assembly/BlobPlot_out/classified_M7_plus_unclassified_hap2.best_single.blobplot.blobDB.json -o /workspace/hraijc/Blueberry/Blueberry_trio/Assembly/BlobPlot_out/classified_M7_plus_unclassified_hap2.best_single.blobplot\n",
      "blobtools view -i /workspace/hraijc/Blueberry/Blueberry_trio/Assembly/BlobPlot_out/classified_M7_plus_unclassified_hap2.best_single.blobplot.blobDB.json -o /workspace/hraijc/Blueberry/Blueberry_trio/Assembly/BlobPlot_out/classified_M7_plus_unclassified_hap2.best_single.blobplot\n",
      "blobtools create -i /workspace/hraijc/Blueberry/Blueberry_trio/Assembly/precontam/classified_Nui_plus_unclassified_hap1.purged.fa -b /workspace/hraijc/Blueberry/Blueberry_trio/Assembly/bamfiles/classified_Nui_plus_unclassified_hap1_to_hifi.sorted.bam -t /workspace/hraijc/Blueberry/Blueberry_trio/Assembly/blasthits/classified_Nui_plus_unclassified_hap1.vs.nt.best_single.1e10.megablast.out -o /workspace/hraijc/Blueberry/Blueberry_trio/Assembly/BlobPlot_out/classified_Nui_plus_unclassified_hap1.best_single.blobplot\n",
      "blobtools plot -i /workspace/hraijc/Blueberry/Blueberry_trio/Assembly/BlobPlot_out/classified_Nui_plus_unclassified_hap1.best_single.blobplot.blobDB.json -o /workspace/hraijc/Blueberry/Blueberry_trio/Assembly/BlobPlot_out/classified_Nui_plus_unclassified_hap1.best_single.blobplot\n",
      "blobtools view -i /workspace/hraijc/Blueberry/Blueberry_trio/Assembly/BlobPlot_out/classified_Nui_plus_unclassified_hap1.best_single.blobplot.blobDB.json -o /workspace/hraijc/Blueberry/Blueberry_trio/Assembly/BlobPlot_out/classified_Nui_plus_unclassified_hap1.best_single.blobplot\n",
      "blobtools create -i /workspace/hraijc/Blueberry/Blueberry_trio/Assembly/precontam/classified_Nui_plus_unclassified_hap2.purged.fa -b /workspace/hraijc/Blueberry/Blueberry_trio/Assembly/bamfiles/classified_Nui_plus_unclassified_hap2_to_hifi.sorted.bam -t /workspace/hraijc/Blueberry/Blueberry_trio/Assembly/blasthits/classified_Nui_plus_unclassified_hap2.vs.nt.best_single.1e10.megablast.out -o /workspace/hraijc/Blueberry/Blueberry_trio/Assembly/BlobPlot_out/classified_Nui_plus_unclassified_hap2.best_single.blobplot\n",
      "blobtools plot -i /workspace/hraijc/Blueberry/Blueberry_trio/Assembly/BlobPlot_out/classified_Nui_plus_unclassified_hap2.best_single.blobplot.blobDB.json -o /workspace/hraijc/Blueberry/Blueberry_trio/Assembly/BlobPlot_out/classified_Nui_plus_unclassified_hap2.best_single.blobplot\n",
      "blobtools view -i /workspace/hraijc/Blueberry/Blueberry_trio/Assembly/BlobPlot_out/classified_Nui_plus_unclassified_hap2.best_single.blobplot.blobDB.json -o /workspace/hraijc/Blueberry/Blueberry_trio/Assembly/BlobPlot_out/classified_Nui_plus_unclassified_hap2.best_single.blobplot\n"
     ]
    }
   ],
   "source": [
    "for file in \"${WKDIR}/precontam\"/*.fa\n",
    "do\n",
    "    filename=$(basename \"$file\" .purged.fa)\n",
    "    echo \"blobtools create -i $file -b ${WKDIR}/bamfiles/${filename}_to_hifi.sorted.bam -t ${WKDIR}/blasthits/${filename}.vs.nt.best_single.1e10.megablast.out -o ${WKDIR}/BlobPlot_out/${filename}.best_single.blobplot\"\n",
    "    echo \"blobtools plot -i ${WKDIR}/BlobPlot_out/${filename}.best_single.blobplot.blobDB.json -o ${WKDIR}/BlobPlot_out/${filename}.best_single.blobplot\"\n",
    "    echo \"blobtools view -i ${WKDIR}/BlobPlot_out/${filename}.best_single.blobplot.blobDB.json -o ${WKDIR}/BlobPlot_out/${filename}.best_single.blobplot\"\n",
    "\n",
    "done "
   ]
  },
  {
   "cell_type": "code",
   "execution_count": 6,
   "id": "fc377b74-9db9-4053-91da-a63655e7becd",
   "metadata": {},
   "outputs": [
    {
     "name": "stdout",
     "output_type": "stream",
     "text": [
      "Submitted batch job 2140870\n"
     ]
    }
   ],
   "source": [
    "# Run Blobtools. Copying output from previous cell. \n",
    "sbatch << EOF\n",
    "#!/bin/bash\n",
    "#SBATCH -J blobtools\n",
    "#SBATCH -o ${LOG}/%J.out\n",
    "#SBATCH -e ${LOG}/%J.err\n",
    "#SBATCH --cpus-per-task=1\n",
    "#SBATCH --mem=1G\n",
    "#SBATCH --time=2:00:00\n",
    "\n",
    "module load conda\n",
    "conda deactivate\n",
    "module load blobtools\n",
    "\n",
    "blobtools create -i /workspace/hraijc/Blueberry/Blueberry_trio/Assembly/precontam/classified_M7_plus_unclassified_hap1.purged.fa -b /workspace/hraijc/Blueberry/Blueberry_trio/Assembly/bamfiles/classified_M7_plus_unclassified_hap1_to_hifi.sorted.bam -t /workspace/hraijc/Blueberry/Blueberry_trio/Assembly/blasthits/classified_M7_plus_unclassified_hap1.vs.nt.best_single.1e10.megablast.out -o /workspace/hraijc/Blueberry/Blueberry_trio/Assembly/BlobPlot_out/classified_M7_plus_unclassified_hap1.best_single.blobplot\n",
    "blobtools plot -i /workspace/hraijc/Blueberry/Blueberry_trio/Assembly/BlobPlot_out/classified_M7_plus_unclassified_hap1.best_single.blobplot.blobDB.json -o /workspace/hraijc/Blueberry/Blueberry_trio/Assembly/BlobPlot_out/classified_M7_plus_unclassified_hap1.best_single.blobplot\n",
    "blobtools view -i /workspace/hraijc/Blueberry/Blueberry_trio/Assembly/BlobPlot_out/classified_M7_plus_unclassified_hap1.best_single.blobplot.blobDB.json -o /workspace/hraijc/Blueberry/Blueberry_trio/Assembly/BlobPlot_out/classified_M7_plus_unclassified_hap1.best_single.blobplot\n",
    "blobtools create -i /workspace/hraijc/Blueberry/Blueberry_trio/Assembly/precontam/classified_M7_plus_unclassified_hap2.purged.fa -b /workspace/hraijc/Blueberry/Blueberry_trio/Assembly/bamfiles/classified_M7_plus_unclassified_hap2_to_hifi.sorted.bam -t /workspace/hraijc/Blueberry/Blueberry_trio/Assembly/blasthits/classified_M7_plus_unclassified_hap2.vs.nt.best_single.1e10.megablast.out -o /workspace/hraijc/Blueberry/Blueberry_trio/Assembly/BlobPlot_out/classified_M7_plus_unclassified_hap2.best_single.blobplot\n",
    "blobtools plot -i /workspace/hraijc/Blueberry/Blueberry_trio/Assembly/BlobPlot_out/classified_M7_plus_unclassified_hap2.best_single.blobplot.blobDB.json -o /workspace/hraijc/Blueberry/Blueberry_trio/Assembly/BlobPlot_out/classified_M7_plus_unclassified_hap2.best_single.blobplot\n",
    "blobtools view -i /workspace/hraijc/Blueberry/Blueberry_trio/Assembly/BlobPlot_out/classified_M7_plus_unclassified_hap2.best_single.blobplot.blobDB.json -o /workspace/hraijc/Blueberry/Blueberry_trio/Assembly/BlobPlot_out/classified_M7_plus_unclassified_hap2.best_single.blobplot\n",
    "blobtools create -i /workspace/hraijc/Blueberry/Blueberry_trio/Assembly/precontam/classified_Nui_plus_unclassified_hap1.purged.fa -b /workspace/hraijc/Blueberry/Blueberry_trio/Assembly/bamfiles/classified_Nui_plus_unclassified_hap1_to_hifi.sorted.bam -t /workspace/hraijc/Blueberry/Blueberry_trio/Assembly/blasthits/classified_Nui_plus_unclassified_hap1.vs.nt.best_single.1e10.megablast.out -o /workspace/hraijc/Blueberry/Blueberry_trio/Assembly/BlobPlot_out/classified_Nui_plus_unclassified_hap1.best_single.blobplot\n",
    "blobtools plot -i /workspace/hraijc/Blueberry/Blueberry_trio/Assembly/BlobPlot_out/classified_Nui_plus_unclassified_hap1.best_single.blobplot.blobDB.json -o /workspace/hraijc/Blueberry/Blueberry_trio/Assembly/BlobPlot_out/classified_Nui_plus_unclassified_hap1.best_single.blobplot\n",
    "blobtools view -i /workspace/hraijc/Blueberry/Blueberry_trio/Assembly/BlobPlot_out/classified_Nui_plus_unclassified_hap1.best_single.blobplot.blobDB.json -o /workspace/hraijc/Blueberry/Blueberry_trio/Assembly/BlobPlot_out/classified_Nui_plus_unclassified_hap1.best_single.blobplot\n",
    "blobtools create -i /workspace/hraijc/Blueberry/Blueberry_trio/Assembly/precontam/classified_Nui_plus_unclassified_hap2.purged.fa -b /workspace/hraijc/Blueberry/Blueberry_trio/Assembly/bamfiles/classified_Nui_plus_unclassified_hap2_to_hifi.sorted.bam -t /workspace/hraijc/Blueberry/Blueberry_trio/Assembly/blasthits/classified_Nui_plus_unclassified_hap2.vs.nt.best_single.1e10.megablast.out -o /workspace/hraijc/Blueberry/Blueberry_trio/Assembly/BlobPlot_out/classified_Nui_plus_unclassified_hap2.best_single.blobplot\n",
    "blobtools plot -i /workspace/hraijc/Blueberry/Blueberry_trio/Assembly/BlobPlot_out/classified_Nui_plus_unclassified_hap2.best_single.blobplot.blobDB.json -o /workspace/hraijc/Blueberry/Blueberry_trio/Assembly/BlobPlot_out/classified_Nui_plus_unclassified_hap2.best_single.blobplot\n",
    "blobtools view -i /workspace/hraijc/Blueberry/Blueberry_trio/Assembly/BlobPlot_out/classified_Nui_plus_unclassified_hap2.best_single.blobplot.blobDB.json -o /workspace/hraijc/Blueberry/Blueberry_trio/Assembly/BlobPlot_out/classified_Nui_plus_unclassified_hap2.best_single.blobplot\n",
    "\n",
    "EOF"
   ]
  },
  {
   "cell_type": "markdown",
   "id": "e6db3936-ab12-4bc0-bad5-d9f83d08e726",
   "metadata": {},
   "source": [
    "# Use Rstudio to explore blob toolkit results"
   ]
  },
  {
   "cell_type": "code",
   "execution_count": 1,
   "id": "a767f054-d834-4b05-b3a0-df2ac66b6b88",
   "metadata": {},
   "outputs": [],
   "source": [
    "cp /workspace/hrasrb/kiwifruit_pangenome/Phasing/assemblies/ncbi_fcs_vs_bloptools.html /workspace/hrasrb/Repo/High-quality-genomes/Blueberry/Assembly_Contamination_Check"
   ]
  },
  {
   "cell_type": "markdown",
   "id": "548ba51b-c8cb-47dd-99cc-c64040a52865",
   "metadata": {},
   "source": [
    "## Filter based on Blobtools filtering outputs"
   ]
  },
  {
   "cell_type": "code",
   "execution_count": 5,
   "id": "d6cb0217-103f-439f-bbaa-b54f96d6e33b",
   "metadata": {},
   "outputs": [],
   "source": [
    "mkdir -p ${WKDIR}/postcontamremoval"
   ]
  },
  {
   "cell_type": "code",
   "execution_count": 9,
   "id": "768fbd0e-1d1e-4894-9389-1cc33e3a93a6",
   "metadata": {},
   "outputs": [
    {
     "name": "stdout",
     "output_type": "stream",
     "text": [
      "Submitted batch job 2141649\n"
     ]
    }
   ],
   "source": [
    "cd $WKDIR\n",
    "\n",
    "sbatch << EOF\n",
    "#!/bin/bash\n",
    "#SBATCH -J seqkit\n",
    "#SBATCH -o ${LOG}/%J.out\n",
    "#SBATCH -e ${LOG}/%J.err\n",
    "#SBATCH --cpus-per-task=1\n",
    "#SBATCH --mem=1G\n",
    "#SBATCH --time=0:30:00\n",
    "\n",
    "ml seqkit\n",
    "\n",
    "cd ${WKDIR}/precontam\n",
    "\n",
    "for assemb in *.fa\n",
    "\n",
    "do\n",
    "    tag=$(basename ${assemb} .purged.fa)\n",
    "    seqkit grep --pattern-file ${WKDIR}/BlobPlot_out/${tag}_clean_contigs.txt -o ${WKDIR}/postcontamremoval/${tag}.clean.fa ${assemb}\n",
    "done\n",
    "\n",
    "EOF"
   ]
  },
  {
   "cell_type": "code",
   "execution_count": 10,
   "id": "520b5c53-6175-4a8f-ae9d-97ed1cc27a94",
   "metadata": {},
   "outputs": [],
   "source": [
    "scancel 2141649\n"
   ]
  },
  {
   "cell_type": "code",
   "execution_count": 9,
   "id": "a79a5c4a-bf2a-455c-8a87-c86dbda52931",
   "metadata": {},
   "outputs": [],
   "source": [
    "cd /workspace/hraijc/Blueberry/Blueberry_trio/Assembly/postcontamremoval"
   ]
  },
  {
   "cell_type": "code",
   "execution_count": 6,
   "id": "47f5fee4-03de-4243-a569-28521a03ad85",
   "metadata": {},
   "outputs": [
    {
     "name": "stdout",
     "output_type": "stream",
     "text": [
      "classified_M7_plus_unclassified_hap1.clean.fa\n",
      "classified_M7_plus_unclassified_hap2.clean.fa\n",
      "classified_Nui_plus_unclassified_hap1.clean.fa\n",
      "classified_Nui_plus_unclassified_hap2.clean.fa\n",
      "merged\n"
     ]
    }
   ],
   "source": [
    "ls "
   ]
  },
  {
   "cell_type": "code",
   "execution_count": 11,
   "id": "9d32b487-a5aa-4ca3-aa79-7757d4542ef2",
   "metadata": {},
   "outputs": [
    {
     "name": "stdout",
     "output_type": "stream",
     "text": [
      "java -ea -Xmx200m -cp /software/bioinformatics/BBMap-38.33/current/ jgi.AssemblyStatsWrapper format=3 in=classified_M7_plus_unclassified_hap1.clean.fa,classified_M7_plus_unclassified_hap2.clean.fa,classified_Nui_plus_unclassified_hap1.clean.fa,classified_Nui_plus_unclassified_hap2.clean.fa format=3\n",
      "n_scaffolds\tn_contigs\tscaf_bp\tcontig_bp\tgap_pct\tscaf_N50\tscaf_L50\tctg_N50\tctg_L50\tscaf_N90\tscaf_L90\tctg_N90\tctg_L90\tscaf_max\tctg_max\tscaf_n_gt50K\tscaf_pct_gt50K\tgc_avg\tgc_std\tfilename\n",
      "412\t412\t531169080\t531169080\t0.000\t34\t5202741\t34\t5202741\t129\t857712\t129\t857712\t14681403\t14681403\t302\t99.341\t0.38543\t0.03824\t/powerplant/workspace/hraijc/Blueberry/Blueberry_trio/Assembly/postcontamremoval/classified_M7_plus_unclassified_hap1.clean.fa\n",
      "378\t378\t522235882\t522235882\t0.000\t31\t5120845\t31\t5120845\t125\t799466\t125\t799466\t17018523\t17018523\t306\t99.535\t0.38573\t0.03227\t/powerplant/workspace/hraijc/Blueberry/Blueberry_trio/Assembly/postcontamremoval/classified_M7_plus_unclassified_hap2.clean.fa\n",
      "774\t774\t522862822\t522862822\t0.000\t34\t4551404\t34\t4551404\t172\t387370\t172\t387370\t19924815\t19924815\t466\t98.036\t0.38431\t0.02406\t/powerplant/workspace/hraijc/Blueberry/Blueberry_trio/Assembly/postcontamremoval/classified_Nui_plus_unclassified_hap1.clean.fa\n",
      "483\t483\t532617838\t532617838\t0.000\t38\t3832205\t38\t3832205\t151\t684231\t151\t684231\t13744249\t13744249\t384\t99.369\t0.38458\t0.03650\t/powerplant/workspace/hraijc/Blueberry/Blueberry_trio/Assembly/postcontamremoval/classified_Nui_plus_unclassified_hap2.clean.fa\n"
     ]
    }
   ],
   "source": [
    "module load BBMap/38.33\n",
    "statswrapper.sh in=classified_M7_plus_unclassified_hap1.clean.fa,classified_M7_plus_unclassified_hap2.clean.fa,classified_Nui_plus_unclassified_hap1.clean.fa,classified_Nui_plus_unclassified_hap2.clean.fa format=3\n",
    "#statswrapper.sh in=*.clean.fa format=3\n",
    "\n",
    "module unload BBMap/38.33"
   ]
  },
  {
   "cell_type": "markdown",
   "id": "b97cb84e-e69b-4aa1-be4d-bbc984b4e91f",
   "metadata": {},
   "source": [
    "| n_scaffolds \t| n_contigs \t| scaf_bp \t| contig_bp \t| gap_pct \t| scaf_N50 \t| scaf_L50 \t| ctg_N50 \t| ctg_L50 \t| scaf_N90 \t| scaf_L90 \t| ctg_N90 \t| ctg_L90 \t| scaf_max \t| ctg_max \t| scaf_n_gt50K \t| scaf_pct_gt50K \t| gc_avg \t| gc_std \t| filename \t|\n",
    "|---\t|---\t|---\t|---\t|---\t|---\t|---\t|---\t|---\t|---\t|---\t|---\t|---\t|---\t|---\t|---\t|---\t|---\t|---\t|---\t|\n",
    "| 412 \t| 412 \t| 531169080 \t| 531169080 \t| 0.000 \t| 34 \t| 5202741 \t| 34 \t| 5202741 \t| 129 \t| 857712 \t| 129 \t| 857712 \t| 14681403 \t| 14681403 \t| 302 \t| 99.341 \t| 0.38543 \t| 0.03824 \t| /powerplant/workspace/hraijc/Blueberry/Blueberry_trio/Assembly/postcontamremoval/classified_M7_plus_unclassified_hap1.clean.fa \t|\n",
    "| 378 \t| 378 \t| 522235882 \t| 522235882 \t| 0.000 \t| 31 \t| 5120845 \t| 31 \t| 5120845 \t| 125 \t| 799466 \t| 125 \t| 799466 \t| 17018523 \t| 17018523 \t| 306 \t| 99.535 \t| 0.38573 \t| 0.03227 \t| /powerplant/workspace/hraijc/Blueberry/Blueberry_trio/Assembly/postcontamremoval/classified_M7_plus_unclassified_hap2.clean.fa \t|\n",
    "| 774 \t| 774 \t| 522862822 \t| 522862822 \t| 0.000 \t| 34 \t| 4551404 \t| 34 \t| 4551404 \t| 172 \t| 387370 \t| 172 \t| 387370 \t| 19924815 \t| 19924815 \t| 466 \t| 98.036 \t| 0.38431 \t| 0.02406 \t| /powerplant/workspace/hraijc/Blueberry/Blueberry_trio/Assembly/postcontamremoval/classified_Nui_plus_unclassified_hap1.clean.fa \t|\n",
    "| 483 \t| 483 \t| 532617838 \t| 532617838 \t| 0.000 \t| 38 \t| 3832205 \t| 38 \t| 3832205 \t| 151 \t| 684231 \t| 151 \t| 684231 \t| 13744249 \t| 13744249 \t| 384 \t| 99.369 \t| 0.38458 \t| 0.03650 \t| /powerplant/workspace/hraijc/Blueberry/Blueberry_trio/Assembly/postcontamremoval/classified_Nui_plus_unclassified_hap2.clean.fa \t|\n"
   ]
  },
  {
   "cell_type": "code",
   "execution_count": 13,
   "id": "9a151b05-a9c8-4c53-ba10-dc896fcd1319",
   "metadata": {},
   "outputs": [
    {
     "name": "stdout",
     "output_type": "stream",
     "text": [
      "Submitted batch job 2706273\n"
     ]
    }
   ],
   "source": [
    "sbatch << EOF\n",
    "#!/bin/bash\n",
    "#SBATCH -J BUSCO\n",
    "#SBATCH -o ${WKDIR}/log/%J.out\n",
    "#SBATCH -e ${WKDIR}/log/%J.err\n",
    "#SBATCH --cpus-per-task=12\n",
    "#SBATCH --mem=10G\n",
    "#SBATCH --time=21:00:00\n",
    "\n",
    "module load BUSCO/v5.2.2 \n",
    "\n",
    "cd /workspace/hraijc/Blueberry/Blueberry_trio/Assembly/postcontamremoval\n",
    "\n",
    "busco -m geno -c 12 -i classified_M7_plus_unclassified_hap1.clean.fa -l eudicots_odb10 -o classified_M7_plus_unclassified_hap1_busco\n",
    "busco -m geno -c 12 -i classified_M7_plus_unclassified_hap2.clean.fa -l eudicots_odb10 -o classified_M7_plus_unclassified_hap2_busco\n",
    "busco -m geno -c 12 -i classified_Nui_plus_unclassified_hap1.clean.fa -l eudicots_odb10 -o classified_Nui_plus_unclassified_hap1_busco\n",
    "busco -m geno -c 12 -i classified_Nui_plus_unclassified_hap2.clean.fa -l eudicots_odb10 -o classified_Nui_plus_unclassified_hap2_busco\n",
    "\n",
    "EOF"
   ]
  },
  {
   "cell_type": "code",
   "execution_count": null,
   "id": "6969fdf8-3dbd-44bf-b2d6-f17da8e442a1",
   "metadata": {},
   "outputs": [],
   "source": []
  }
 ],
 "metadata": {
  "kernelspec": {
   "display_name": "Bash",
   "language": "bash",
   "name": "bash"
  },
  "language_info": {
   "codemirror_mode": "shell",
   "file_extension": ".sh",
   "mimetype": "text/x-sh",
   "name": "bash"
  }
 },
 "nbformat": 4,
 "nbformat_minor": 5
}
