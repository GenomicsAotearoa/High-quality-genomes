{
 "cells": [
  {
   "cell_type": "markdown",
   "id": "5e8a254d-cc65-4ce4-a1a6-f9644d2ad3c9",
   "metadata": {},
   "source": [
    "## Reciprocal BLAST"
   ]
  },
  {
   "cell_type": "markdown",
   "id": "38c5e820-2127-4c4b-98dd-005d37e722e6",
   "metadata": {},
   "source": [
    "# 03. Check for chloro- & mito- genomes"
   ]
  },
  {
   "cell_type": "markdown",
   "id": "f7ad9cf6-dfcf-4e4f-8d9b-3538b11e4a13",
   "metadata": {},
   "source": [
    "## progeny_Nui_hap1.h1tg000466l.removeAdaptor.subseq.fa is a chloroplast sequence"
   ]
  },
  {
   "cell_type": "code",
   "execution_count": 11,
   "id": "7fa4875e-3913-4289-87cf-282d604e2f98",
   "metadata": {},
   "outputs": [
    {
     "name": "stdout",
     "output_type": "stream",
     "text": [
      "mv: cannot stat ‘/powerplant/workspace/hrasrb/Blueberry_trio/2023-09-01_remove_contamination/2023-09-06_blast’: No such file or directory\n",
      "Submitted batch job 2003607\n",
      "             JOBID PARTITION     NAME     USER ST       TIME  NODES NODELIST(REASON)\n",
      "           2003607      fast    BLAST   hrasrb PD       0:00      1 (None)\n"
     ]
    }
   ],
   "source": [
    "ml ncbi-blast/2.11.0\n",
    "\n",
    "base=/powerplant/workspace/hrasrb/Blueberry_trio/2023-09-01_remove_contamination/Vaccinium_corymbosum_chloroplast_complete_sequence_ID_NC_068711.1.fasta\n",
    "LOG=${base}/log\n",
    "\n",
    "M7xNui_min2k_Flye=${base}/M7xNui_min2k_Flye.noAdaptor.fa\n",
    "\n",
    "progeny_M7_hap1=${base}/progeny_M7_hap1.fa\n",
    "\n",
    "progeny_M7_hap2=${base}/progeny_M7_hap2.fa\n",
    "\n",
    "progeny_Nui_hap1=${base}/progeny_Nui_hap1.noAdaptor.fa\n",
    "\n",
    "progeny_Nui_hap2=${base}/progeny_Nui_hap2.fa\n",
    "\n",
    "WKDIR=${base}/2023-09-07_chloro_blast\n",
    "\n",
    "# mkdir $WKDIR\n",
    "\n",
    "cd $WKDIR\n",
    "\n",
    "# create and submit bash script\n",
    "sbatch << EOF\n",
    "#!/bin/bash -e\n",
    "\n",
    "#SBATCH -J BLAST # change this\n",
    "#SBATCH --output=${LOG}/hrasrb_%j.out\n",
    "#SBATCH --error=${LOG}/hrasrb_%j.err\n",
    "#SBATCH --mail-user=Sarah.Bailey@plantandfood.co.nz\n",
    "#SBATCH --mail-type=ALL\n",
    "#SBATCH --time=00:30:00 # Walltime # change this\n",
    "#SBATCH --mem=1G # change this\n",
    "\n",
    "makeblastdb -dbtype nucl -parse_seqids -in ${base}/Vaccinium_corymbosum_chloroplast_complete_sequence_ID_NC_068711.1.fasta\n",
    "\n",
    "blastn  -query ${M7xNui_min2k_Flye} -db ${base}/Vaccinium_corymbosum_chloroplast_complete_sequence_ID_NC_068711.1.fasta \\\n",
    "    -out M7xNui_min2k_Flye.chloro.tsv -outfmt \"6 qseqid sseqid pident length mismatch gapopen qstart qend sstart send evalue bitscore qlen\"\n",
    "\n",
    "blastn  -query ${progeny_M7_hap1} -db ${base}/Vaccinium_corymbosum_chloroplast_complete_sequence_ID_NC_068711.1.fasta \\\n",
    "    -out progeny_M7_hap1.chloro.tsv -outfmt \"6 qseqid sseqid pident length mismatch gapopen qstart qend sstart send evalue bitscore qlen\"\n",
    "\n",
    "blastn  -query ${progeny_M7_hap2} -db ${base}/Vaccinium_corymbosum_chloroplast_complete_sequence_ID_NC_068711.1.fasta \\\n",
    "    -out progeny_M7_hap2.chloro.tsv -outfmt \"6 qseqid sseqid pident length mismatch gapopen qstart qend sstart send evalue bitscore qlen\"\n",
    "\n",
    "blastn  -query ${progeny_Nui_hap1} -db ${base}/Vaccinium_corymbosum_chloroplast_complete_sequence_ID_NC_068711.1.fasta \\\n",
    "    -out progeny_Nui_hap1.chloro.tsv -outfmt \"6 qseqid sseqid pident length mismatch gapopen qstart qend sstart send evalue bitscore qlen\"\n",
    "\n",
    "blastn  -query ${progeny_Nui_hap2} -db ${base}/Vaccinium_corymbosum_chloroplast_complete_sequence_ID_NC_068711.1.fasta \\\n",
    "    -out progeny_Nui_hap2.chloro.tsv -outfmt \"6 qseqid sseqid pident length mismatch gapopen qstart qend sstart send evalue bitscore qlen\"\n",
    "\n",
    "EOF\n",
    "\n",
    "module unload ncbi-blast\n",
    "squeue -u hrasrb"
   ]
  },
  {
   "cell_type": "code",
   "execution_count": null,
   "id": "c86ed1b2-f0ee-4bc9-935e-f7834cba1c52",
   "metadata": {},
   "outputs": [],
   "source": [
    "ml ncbi-blast/2.11.0\n",
    "\n",
    "base=/powerplant/workspace/hrasrb/Blueberry_trio/2023-09-01_remove_contamination\n",
    "LOG=${base}/log\n",
    "\n",
    "M7xNui_min2k_Flye=${base}/M7xNui_min2k_Flye.noAdaptor.fa\n",
    "\n",
    "progeny_M7_hap1=${base}/progeny_M7_hap1.fa\n",
    "\n",
    "progeny_M7_hap2=${base}/progeny_M7_hap2.fa\n",
    "\n",
    "progeny_Nui_hap1=${base}/progeny_Nui_hap1.noAdaptor.fa\n",
    "\n",
    "progeny_Nui_hap2=${base}/progeny_Nui_hap2.fa\n",
    "\n",
    "WKDIR=${base}/2023-09-07_mito_blast\n",
    "\n",
    "mkdir $WKDIR\n",
    "\n",
    "cd $WKDIR\n",
    "\n",
    "# create and submit bash script\n",
    "sbatch << EOF\n",
    "#!/bin/bash -e\n",
    "\n",
    "#SBATCH -J BLAST # change this\n",
    "#SBATCH --output=${LOG}/hrasrb_%j.out\n",
    "#SBATCH --error=${LOG}/hrasrb_%j.err\n",
    "#SBATCH --mail-user=Sarah.Bailey@plantandfood.co.nz\n",
    "#SBATCH --mail-type=ALL\n",
    "#SBATCH --time=00:30:00 # Walltime # change this\n",
    "#SBATCH --mem=1G # change this\n",
    "\n",
    "makeblastdb -dbtype nucl -parse_seqids -in ${base}/Vaccinium_macrocarpon_mitochondrion_complete_genome_NC_023338.1.fasta\n",
    "\n",
    "blastn  -query ${M7xNui_min2k_Flye} -db ${base}/Vaccinium_macrocarpon_mitochondrion_complete_genome_NC_023338.1.fasta \\\n",
    "    -out M7xNui_min2k_Flye.mito.tsv -outfmt \"6 qseqid sseqid pident length mismatch gapopen qstart qend sstart send evalue bitscore qlen\"\n",
    "\n",
    "blastn  -query ${progeny_M7_hap1} -db ${base}/Vaccinium_macrocarpon_mitochondrion_complete_genome_NC_023338.1.fasta \\\n",
    "    -out progeny_M7_hap1.mito.tsv -outfmt \"6 qseqid sseqid pident length mismatch gapopen qstart qend sstart send evalue bitscore qlen\"\n",
    "\n",
    "blastn  -query ${progeny_M7_hap2} -db ${base}/Vaccinium_macrocarpon_mitochondrion_complete_genome_NC_023338.1.fasta \\\n",
    "    -out progeny_M7_hap2.mito.tsv -outfmt \"6 qseqid sseqid pident length mismatch gapopen qstart qend sstart send evalue bitscore qlen\"\n",
    "\n",
    "blastn  -query ${progeny_Nui_hap1} -db ${base}/Vaccinium_macrocarpon_mitochondrion_complete_genome_NC_023338.1.fasta \\\n",
    "    -out progeny_Nui_hap1.mito.tsv -outfmt \"6 qseqid sseqid pident length mismatch gapopen qstart qend sstart send evalue bitscore qlen\"\n",
    "\n",
    "blastn  -query ${progeny_Nui_hap2} -db ${base}/Vaccinium_macrocarpon_mitochondrion_complete_genome_NC_023338.1.fasta \\\n",
    "    -out progeny_Nui_hap2.mito.tsv -outfmt \"6 qseqid sseqid pident length mismatch gapopen qstart qend sstart send evalue bitscore qlen\"\n",
    "\n",
    "EOF\n",
    "\n",
    "module unload ncbi-blast\n",
    "squeue -u hrasrb"
   ]
  },
  {
   "cell_type": "markdown",
   "id": "4c5ae441-dc13-4762-9eaf-05c0cda58153",
   "metadata": {},
   "source": [
    "# Filtering and extracting chloroplast contigs\n",
    "\n",
    "* evalue == 0\n",
    "* pident >= 90,\n",
    "* length >= 100\n",
    "* proportion of contig with hits > 50%"
   ]
  },
  {
   "cell_type": "code",
   "execution_count": 1,
   "id": "86ec08be-4c10-4d43-bb57-cb5503fb0ed6",
   "metadata": {},
   "outputs": [
    {
     "name": "stdout",
     "output_type": "stream",
     "text": [
      "library(tidyverse)\n",
      "library(gridExtra)\n",
      "library(purrr)\n",
      "\n",
      "options(warn = 1)\n",
      "\n",
      "wkdir <- \"/powerplant/workspace/hrasrb/Blueberry_trio/2023-09-01_remove_contamination/2023-09-07_chloro_blast\"\n",
      "\n",
      "setwd(wkdir)\n",
      "\n",
      "myFiles <- list.files(pattern=\"*.chloro_hits_nt_blast.txt\")\n",
      "\n",
      "blast_cols <- c(\"qseqid\", \"sseqid\", \"pident\", \"length\", \"mismatch\", \"gapopen\", \"qstart\", \"qend\", \"sstart\", \"send\", \"evalue\", \"bitscore\", \"qlen\")\n",
      "\n",
      "##################################################################################################################################\n",
      "####################### PLOTTING #################################################################################################\n",
      "##################################################################################################################################\n",
      "\n",
      "plot.list = lapply(myFiles, function(file) {\n",
      "  BLAST.df = read_delim(file, delim = \"\\t\", col_names = blast_cols, show_col_types = FALSE)\n",
      "  BLAST.df <- BLAST.df %>% filter(evalue == 0)\n",
      "  BLAST.df <- BLAST.df %>% filter(pident >= 90)\n",
      "  BLAST.df <- BLAST.df %>% filter(length >= 100)\n",
      "  \n",
      "  correctNoRows <- nrow(BLAST.df %>%  group_by(qseqid) %>% summarise(total_length = sum(length)))\n",
      "  \n",
      "  BLAST.df <- BLAST.df %>% \n",
      "    reframe(total_length = sum(length),\n",
      "            prop = total_length/qlen,\n",
      "            .by = qseqid)\n",
      "  \n",
      "  BLAST.df <- BLAST.df[!duplicated(BLAST.df$qseqid), ]\n",
      "  \n",
      "  noRows <- nrow(BLAST.df)\n",
      "  \n",
      "  print(identical(correctNoRows, noRows))\n",
      "  \n",
      "  ggplot(BLAST.df, aes(x = prop)) +\n",
      "    theme_bw() +\n",
      "    geom_histogram() +\n",
      "    scale_x_continuous(limits = c(0.0, 1.0), oob = scales::oob_keep) +\n",
      "    ggtitle(file) +\n",
      "    theme(plot.title = element_text(size = 10))\n",
      "})\n",
      "\n",
      "# Lay out all the plots together\n",
      "do.call(grid.arrange, plot.list) \n",
      "\n",
      "\n",
      "##################################################################################################################################\n",
      "####################### GET CONTIGS ##############################################################################################\n",
      "##################################################################################################################################\n",
      "\n",
      "\n",
      "paths <- list.files(wkdir, pattern = \"[.]chloro_hits_nt_blast.tsv$\", full.names = TRUE)\n",
      "\n",
      "\n",
      "process_file <- function(path) {\n",
      "  df <- read_delim(path, delim = \"\\t\", col_names = blast_cols, show_col_types = FALSE)\n",
      "  \n",
      "  df |> \n",
      "    filter(evalue == 0,\n",
      "           pident >= 90,\n",
      "           length >= 100) \n",
      "}\n",
      "\n",
      "Res.df <- paths |> purrr::set_names(basename) |>\n",
      "  map(process_file) |>\n",
      "  list_rbind(names_to = \"haplotype\") \n",
      "\n",
      "tail(Res.df)\n",
      "\n",
      "Res.df <- Res.df %>% \n",
      "  group_by(haplotype, qseqid, qlen) %>% \n",
      "  reframe(total_length = sum(length),\n",
      "          prop = total_length/qlen)\n",
      "\n",
      "Res.df <- Res.df %>% filter(prop >= 0.5)\n",
      "Res.df <- distinct(Res.df)\n",
      "write.csv(Res.df, file = \"Blueberry_chloro_hits_nt_blast.csv\", row.names = FALSE)\n",
      "\n"
     ]
    }
   ],
   "source": [
    "cat /workspace/hrasrb/kiwifruit_pangenome/Phasing/assemblies/Filter_blast.R"
   ]
  },
  {
   "cell_type": "code",
   "execution_count": 7,
   "id": "08f0f8e3-389f-4ec8-8dcf-f8714d66f987",
   "metadata": {},
   "outputs": [],
   "source": [
    "cp /workspace/hrasrb/kiwifruit_pangenome/Phasing/assemblies/Filter_blast.R ."
   ]
  },
  {
   "cell_type": "code",
   "execution_count": 2,
   "id": "b5dba8c4-3a9a-4ef4-8ee1-7d78cb25587b",
   "metadata": {},
   "outputs": [
    {
     "name": "stdout",
     "output_type": "stream",
     "text": [
      "library(ggplot2)\n",
      "library(magrittr)\n",
      "\n",
      "wkdir <- \"/powerplant/workspace/hrasrb/Blueberry_trio/2023-09-01_remove_contamination/2023-09-07_chloro_blast\"\n",
      "setwd(wkdir)\n",
      "\n",
      "file=\"Blueberry_chloro.csv\"\n",
      "BLAST.df = read_csv(file, col_names = TRUE, show_col_types = FALSE)\n",
      "\n",
      "ggplot(BLAST.df, aes(x = qlen)) +\n",
      "  theme_bw() +\n",
      "  geom_histogram() +\n",
      "  facet_grid(haplotype~.) +\n",
      "  theme(text = element_text(size = 10))\n",
      "\n",
      "BLAST.df %>% group_by(haplotype) %>% summarise(sumLen = sum(qlen))\n"
     ]
    }
   ],
   "source": [
    "cat /workspace/hrasrb/kiwifruit_pangenome/Phasing/assemblies/plotBLAST.R"
   ]
  },
  {
   "cell_type": "code",
   "execution_count": 6,
   "id": "50f10297-704f-48c7-8856-63c60a59ea37",
   "metadata": {},
   "outputs": [],
   "source": [
    "cp /workspace/hrasrb/kiwifruit_pangenome/Phasing/assemblies/plotBLAST.R ."
   ]
  },
  {
   "cell_type": "markdown",
   "id": "d9f10300-a0b7-483f-a8e2-65bb162285f6",
   "metadata": {},
   "source": [
    "# 04. Reciprocal BLAST"
   ]
  },
  {
   "cell_type": "markdown",
   "id": "79f92ea2-e4a9-4d93-a9fd-bb9c40d0d86f",
   "metadata": {},
   "source": [
    "## Extract contigs with hits"
   ]
  },
  {
   "cell_type": "code",
   "execution_count": null,
   "id": "7163f224-01b8-4da5-a705-b89e506db03d",
   "metadata": {},
   "outputs": [],
   "source": [
    "#!/bin/bash -e\n",
    "\n",
    "#SBATCH -J getChloro # change\n",
    "#SBATCH --output=log/hrasrb_%j.out\n",
    "#SBATCH --error=log/hrasrb_%j.err\n",
    "#SBATCH --mail-user=Sarah.Bailey@plantandfood.co.nz\n",
    "#SBATCH --mail-type=ALL\n",
    "#SBATCH --time=24:00:00\n",
    "#SBATCH --mem=1M\n",
    "\n",
    "ml seqkit\n",
    "ml htslib\n",
    "\n",
    "base=/powerplant/workspace/hrasrb/Blueberry_trio/2023-09-01_remove_contamination\n",
    "\n",
    "cd \"${base}\"\n",
    "\n",
    "file=./Blueberry_haplotypes.fofn\n",
    "\n",
    "cd \"$base\"\n",
    "\n",
    "cat \"${file}\" | while read line\n",
    "do\n",
    "    tag=$(basename \"${line}\" .fa)\n",
    "    seqkit grep --pattern-file \"./2023-09-07_chloro_blast/${tag}.chloro.IDs.txt\" \"${line}\" -o \"./2023-09-07_chloro_blast/${tag}.chloro_hits.fa\"\n",
    "    bgzip \"./2023-09-07_chloro_blast/${tag}.chloro_hits.fa\"\n",
    "done"
   ]
  },
  {
   "cell_type": "markdown",
   "id": "032b0d50-7f33-4b15-bc94-0204ea1ac9ff",
   "metadata": {},
   "source": [
    "## create fofn for hits fasta"
   ]
  },
  {
   "cell_type": "code",
   "execution_count": 1,
   "id": "a9fe5978-cc37-4a41-b750-693af554fc75",
   "metadata": {},
   "outputs": [
    {
     "name": "stdout",
     "output_type": "stream",
     "text": [
      "/powerplant/workspace/hrasrb/Blueberry_trio/2023-09-01_remove_contamination/no_contamination/progeny_M7_hap1.noContamination.fa\n",
      "/powerplant/workspace/hrasrb/Blueberry_trio/2023-09-01_remove_contamination/no_contamination/progeny_Nui_hap2.noContamination.fa\n",
      "/powerplant/workspace/hrasrb/Blueberry_trio/2023-09-01_remove_contamination/no_contamination/progeny_Nui_hap1.noAdaptor.noContamination.fa\n",
      "/powerplant/workspace/hrasrb/Blueberry_trio/2023-09-01_remove_contamination/no_contamination/progeny_M7_hap2.noContamination.fa\n",
      "/powerplant/workspace/hrasrb/Blueberry_trio/2023-09-01_remove_contamination/no_contamination/M7xNui_min2k_Flye.noAdaptor.noContamination.fa\n"
     ]
    }
   ],
   "source": [
    "cd /powerplant/workspace/hrasrb/Blueberry_trio/2023-09-01_remove_contamination\n",
    "cat ./Blueberry_haplotypes.fofn"
   ]
  },
  {
   "cell_type": "code",
   "execution_count": 3,
   "id": "14e04075-d5fd-4089-84c1-113b43859168",
   "metadata": {},
   "outputs": [],
   "source": [
    "\n",
    "file=\"Blueberry_chloro_hits.fofn\"\n",
    "if [ -f \"$file\" ] ; then\n",
    "    rm \"$file\"\n",
    "fi\n",
    "\n",
    "cat <<EOF > Blueberry_chloro_hits.fofn\n",
    "/powerplant/workspace/hrasrb/Blueberry_trio/2023-09-01_remove_contamination/2023-09-07_chloro_blast/progeny_M7_hap1.noContamination.chloro_hits.fa.gz\n",
    "/powerplant/workspace/hrasrb/Blueberry_trio/2023-09-01_remove_contamination/2023-09-07_chloro_blast/progeny_M7_hap2.noContamination.chloro_hits.fa.gz\n",
    "/powerplant/workspace/hrasrb/Blueberry_trio/2023-09-01_remove_contamination/2023-09-07_chloro_blast/progeny_Nui_hap1.noAdaptor.noContamination.chloro_hits.fa.gz\n",
    "/powerplant/workspace/hrasrb/Blueberry_trio/2023-09-01_remove_contamination/2023-09-07_chloro_blast/progeny_Nui_hap2.noContamination.chloro_hits.fa.gz\n",
    "/powerplant/workspace/hrasrb/Blueberry_trio/2023-09-01_remove_contamination/2023-09-07_chloro_blast/M7xNui_min2k_Flye.noAdaptor.noContamination.chloro_hits.fa.gz\n",
    "EOF"
   ]
  },
  {
   "cell_type": "markdown",
   "id": "a631e609-70f1-4dc1-b168-4f40ac6cde4e",
   "metadata": {},
   "source": [
    "## Use abatch to submit blast"
   ]
  },
  {
   "cell_type": "code",
   "execution_count": 5,
   "id": "1e883cb9-c61b-425c-9e0c-b30102954aee",
   "metadata": {},
   "outputs": [
    {
     "name": "stdout",
     "output_type": "stream",
     "text": [
      "SBATCH_ARGS: --time 01:00:00 --mem 100M --cpus-per-task=4 --mail-user=Sarah.Bailey@plantandfood.co.nz --mail-type=ALL\n",
      "JOB_ARRAY_NAME: ReciprocalBlast\n",
      "GROUP_SIZE: 3\n",
      "NUM_COMMANDS: 15\n",
      "ARRAY_SIZE: 5\n",
      "Submitted batch job 2064957\n"
     ]
    }
   ],
   "source": [
    "module load ncbi-blast\n",
    "module load htslib\n",
    "\n",
    "base=/powerplant/workspace/hrasrb/Blueberry_trio/2023-09-01_remove_contamination\n",
    "\n",
    "cd \"${base}\"\n",
    "\n",
    "file=./Blueberry_chloro_hits.fofn\n",
    "\n",
    "cat \"${file}\" | while read line\n",
    "do\n",
    "    tag=$(basename \"${line}\" .fa.gz)\n",
    "    echo \"bgzip -d \"${line}\"\"\n",
    "    echo \"makeblastdb -dbtype nucl -parse_seqids -in \"./2023-09-07_chloro_blast/${tag}.fa\"\"\n",
    "    echo \"blastn \\\n",
    "    -query \"./2023-09-07_chloro_blast/${tag}.fa\" \\\n",
    "    -db \"${base}/Vaccinium_corymbosum_chloroplast_complete_sequence_ID_NC_068711.1.fasta\" \\\n",
    "    -outfmt '6 qseqid staxids bitscore std' \\\n",
    "    -max_target_seqs 1 \\\n",
    "    -max_hsps 1 \\\n",
    "    -evalue 1e-10 \\\n",
    "    -num_threads 4 \\\n",
    "    -out \"./2023-09-07_chloro_blast/${tag}_reciprocal_blast.txt\"\"\n",
    "done | abatch -j ReciprocalBlast -g 3 --time 01:00:00 --mem 100M --cpus-per-task=4 --mail-user=Sarah.Bailey@plantandfood.co.nz --mail-type=ALL | sbatch\n",
    "\n",
    "module unload htslib\n",
    "module unload ncbi-blast\n"
   ]
  },
  {
   "cell_type": "markdown",
   "id": "e512823a-d7f9-43f1-a7e7-0819831c7b96",
   "metadata": {},
   "source": [
    "# Filtering and extracting chloroplast contigs\n",
    "* max_target_seqs \n",
    "* max_hsps 1 \n",
    "* evalue >= 1e-10 \n",
    "* proportion of contig with hits >= 50%"
   ]
  },
  {
   "cell_type": "code",
   "execution_count": 3,
   "id": "a152b409-ac3b-48cd-91f7-2629f027198d",
   "metadata": {},
   "outputs": [
    {
     "name": "stdout",
     "output_type": "stream",
     "text": [
      "library(tidyverse)\n",
      "library(gridExtra)\n",
      "library(purrr)\n",
      "\n",
      "options(warn = 1)\n",
      "\n",
      "wkdir <- \"/powerplant/workspace/hrasrb/Blueberry_trio/2023-09-01_remove_contamination/2023-09-07_chloro_blast\"\n",
      "\n",
      "setwd(wkdir)\n",
      "\n",
      "myFiles <- list.files(pattern=\"*_reciprocal_blast.txt\")\n",
      "\n",
      "blast_cols <- c(\"qseqid\", \"staxids\", \"bitscore\", \"std\", \"sseqid\", \"pident\", \"length\", \"mismatch\", \"gapopen\", \"qstart\", \"qend\", \"sstart\", \"send\", \"evalue\")\n",
      "\n",
      "BLAST.df <- read_delim(myFiles, id = \"filename\", delim = '\\t', comment = \"#\", col_names = blast_cols)\n",
      "BLAST.df <- BLAST.df %>% mutate(filename=basename(filename))\n",
      "\n",
      "# Edit the filename to just have the first part\n",
      "BLAST.df <- separate(BLAST.df,\n",
      "                        filename,\n",
      "                        sep = \".noContamination.\",\n",
      "                        c(\"Tag\", NA))\n",
      "BLAST.df <- BLAST.df %>% unite(\"Tag_qseqid\", Tag:qseqid, remove = FALSE)\n",
      "\n",
      "files <- dir_ls(wkdir, glob = \"*.chloro_hits.fa.fai\")\n",
      "coords.df <- read_delim(files, id = \"filename\", delim = '\\t', comment = \"#\", col_names = c(\"contig_ID\", \"qlen\", \"x1\", \"x2\", \"x3\"))\n",
      "coords.df <- coords.df %>% mutate(filename=basename(filename))\n",
      "\n",
      "# Edit the filename to just have the first part\n",
      "coords.df <- separate(coords.df,\n",
      "                      filename,\n",
      "                     sep = \".noContamination.\",\n",
      "                     c(\"assembly\", NA))\n",
      "\n",
      "head(coords.df)\n",
      "coords.df <- coords.df[,c(1:3)]\n",
      "coords.df <- coords.df %>% unite(\"Tag_qseqid\", assembly:contig_ID, remove = TRUE)\n",
      "head(coords.df)\n",
      "\n",
      "BLAST.df <- left_join(BLAST.df, coords.df, by = \"Tag_qseqid\")\n",
      "rm(coords.df)\n",
      "\n",
      "BLAST_props.df <- BLAST.df %>% \n",
      "  mutate(prop = length/qlen,\n",
      "          .by = qseqid)\n",
      "\n",
      "ggplot(BLAST_props.df, aes(x = prop)) +\n",
      "  theme_bw() +\n",
      "  geom_histogram() +\n",
      "  scale_x_continuous(limits = c(0.0, 1.1), oob = scales::oob_keep) +\n",
      "  theme(plot.title = element_text(size = 10))\n",
      "summary(BLAST_props.df$prop)\n",
      "\n",
      "BLAST_props_remove.df <- filter(BLAST_props.df, prop < .5)\n",
      "BLAST_props.df <- filter(BLAST_props.df, prop >= .5)\n",
      "# write.csv(BLAST_props.df, file = \"Blueberry_chloro_hits_reciprocal_blast.csv\", row.names = FALSE)\n",
      "BLAST_props.df %>% group_by(Tag) %>% summarise(total_len = sum(length))\n"
     ]
    }
   ],
   "source": [
    "cat /workspace/hrasrb/kiwifruit_pangenome/Phasing/assemblies/Explore_MegaBlast.R"
   ]
  },
  {
   "cell_type": "code",
   "execution_count": 4,
   "id": "6f878438-f77a-4fdc-8914-bd88c039c7ea",
   "metadata": {},
   "outputs": [],
   "source": [
    "cp /workspace/hrasrb/kiwifruit_pangenome/Phasing/assemblies/Explore_MegaBlast.R ."
   ]
  },
  {
   "cell_type": "code",
   "execution_count": null,
   "id": "87f1ec76-2995-4306-85e3-9bd687d286f9",
   "metadata": {},
   "outputs": [],
   "source": []
  }
 ],
 "metadata": {
  "kernelspec": {
   "display_name": "Bash",
   "language": "bash",
   "name": "bash"
  },
  "language_info": {
   "codemirror_mode": "shell",
   "file_extension": ".sh",
   "mimetype": "text/x-sh",
   "name": "bash"
  }
 },
 "nbformat": 4,
 "nbformat_minor": 5
}
