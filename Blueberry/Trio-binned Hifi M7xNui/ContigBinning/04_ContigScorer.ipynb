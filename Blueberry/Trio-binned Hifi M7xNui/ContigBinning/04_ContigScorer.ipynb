{
 "cells": [
  {
   "cell_type": "code",
   "execution_count": 1,
   "id": "94346c5a-a3cf-4f17-9f7f-5676eea2929f",
   "metadata": {},
   "outputs": [
    {
     "name": "stderr",
     "output_type": "stream",
     "text": [
      "\n",
      "Attaching package: 'dplyr'\n",
      "\n",
      "\n",
      "The following objects are masked from 'package:stats':\n",
      "\n",
      "    filter, lag\n",
      "\n",
      "\n",
      "The following objects are masked from 'package:base':\n",
      "\n",
      "    intersect, setdiff, setequal, union\n",
      "\n",
      "\n"
     ]
    }
   ],
   "source": [
    "library(\"dplyr\")\n",
    "library(\"ggplot2\")\n",
    "library(\"tidyr\")"
   ]
  },
  {
   "cell_type": "code",
   "execution_count": 11,
   "id": "ff8640c7-31e1-4f58-9acf-043129ba67a5",
   "metadata": {},
   "outputs": [],
   "source": [
    "setwd(\"/workspace/hraijc/Blueberry/Blueberry_trio/contigbin/\")"
   ]
  },
  {
   "cell_type": "code",
   "execution_count": 12,
   "id": "d9d1e0fb-078b-4132-8d62-0b5d0fc561fb",
   "metadata": {},
   "outputs": [],
   "source": [
    "M7_ids <- read.csv(file = \"./LinkageMap/M7_contig_ids.csv\", header=T)\n",
    "Nui_ids <- read.csv(file = \"./LinkageMap/Nui_contig_ids.csv\")"
   ]
  },
  {
   "cell_type": "code",
   "execution_count": 13,
   "id": "68c415ba-a037-4c9e-8a48-ebd29bcf970e",
   "metadata": {},
   "outputs": [
    {
     "data": {
      "text/html": [
       "<table>\n",
       "<caption>A data.frame: 6 × 5</caption>\n",
       "<thead>\n",
       "\t<tr><th></th><th scope=col>contig_result</th><th scope=col>reference_position</th><th scope=col>reference_contig</th><th scope=col>contig_allele</th><th scope=col>hx</th></tr>\n",
       "\t<tr><th></th><th scope=col>&lt;chr&gt;</th><th scope=col>&lt;int&gt;</th><th scope=col>&lt;chr&gt;</th><th scope=col>&lt;chr&gt;</th><th scope=col>&lt;chr&gt;</th></tr>\n",
       "</thead>\n",
       "<tbody>\n",
       "\t<tr><th scope=row>1</th><td>h2tg000457l_1</td><td>1068804</td><td>seq-0-001</td><td>T</td><td>h4 </td></tr>\n",
       "\t<tr><th scope=row>2</th><td>h1tg000606l_1</td><td>1068804</td><td>seq-0-001</td><td>C</td><td>ref</td></tr>\n",
       "\t<tr><th scope=row>3</th><td>h1tg000606l_1</td><td>1215280</td><td>seq-0-001</td><td>C</td><td>ref</td></tr>\n",
       "\t<tr><th scope=row>4</th><td>h2tg000457l_1</td><td>2717632</td><td>seq-0-001</td><td>C</td><td>ref</td></tr>\n",
       "\t<tr><th scope=row>5</th><td>h1tg000423l_1</td><td>2717632</td><td>seq-0-001</td><td>C</td><td>ref</td></tr>\n",
       "\t<tr><th scope=row>6</th><td>h1tg000423l_1</td><td>2176934</td><td>seq-0-001</td><td>T</td><td>ref</td></tr>\n",
       "</tbody>\n",
       "</table>\n"
      ],
      "text/latex": [
       "A data.frame: 6 × 5\n",
       "\\begin{tabular}{r|lllll}\n",
       "  & contig\\_result & reference\\_position & reference\\_contig & contig\\_allele & hx\\\\\n",
       "  & <chr> & <int> & <chr> & <chr> & <chr>\\\\\n",
       "\\hline\n",
       "\t1 & h2tg000457l\\_1 & 1068804 & seq-0-001 & T & h4 \\\\\n",
       "\t2 & h1tg000606l\\_1 & 1068804 & seq-0-001 & C & ref\\\\\n",
       "\t3 & h1tg000606l\\_1 & 1215280 & seq-0-001 & C & ref\\\\\n",
       "\t4 & h2tg000457l\\_1 & 2717632 & seq-0-001 & C & ref\\\\\n",
       "\t5 & h1tg000423l\\_1 & 2717632 & seq-0-001 & C & ref\\\\\n",
       "\t6 & h1tg000423l\\_1 & 2176934 & seq-0-001 & T & ref\\\\\n",
       "\\end{tabular}\n"
      ],
      "text/markdown": [
       "\n",
       "A data.frame: 6 × 5\n",
       "\n",
       "| <!--/--> | contig_result &lt;chr&gt; | reference_position &lt;int&gt; | reference_contig &lt;chr&gt; | contig_allele &lt;chr&gt; | hx &lt;chr&gt; |\n",
       "|---|---|---|---|---|---|\n",
       "| 1 | h2tg000457l_1 | 1068804 | seq-0-001 | T | h4  |\n",
       "| 2 | h1tg000606l_1 | 1068804 | seq-0-001 | C | ref |\n",
       "| 3 | h1tg000606l_1 | 1215280 | seq-0-001 | C | ref |\n",
       "| 4 | h2tg000457l_1 | 2717632 | seq-0-001 | C | ref |\n",
       "| 5 | h1tg000423l_1 | 2717632 | seq-0-001 | C | ref |\n",
       "| 6 | h1tg000423l_1 | 2176934 | seq-0-001 | T | ref |\n",
       "\n"
      ],
      "text/plain": [
       "  contig_result reference_position reference_contig contig_allele hx \n",
       "1 h2tg000457l_1 1068804            seq-0-001        T             h4 \n",
       "2 h1tg000606l_1 1068804            seq-0-001        C             ref\n",
       "3 h1tg000606l_1 1215280            seq-0-001        C             ref\n",
       "4 h2tg000457l_1 2717632            seq-0-001        C             ref\n",
       "5 h1tg000423l_1 2717632            seq-0-001        C             ref\n",
       "6 h1tg000423l_1 2176934            seq-0-001        T             ref"
      ]
     },
     "metadata": {},
     "output_type": "display_data"
    }
   ],
   "source": [
    "head(M7_ids)"
   ]
  },
  {
   "cell_type": "code",
   "execution_count": 15,
   "id": "616e8d73-3d85-4105-b26d-5f947c9d0655",
   "metadata": {},
   "outputs": [],
   "source": [
    "# Group by contig id and count the alleles adding a 0 if no data. \n",
    "M7_scores <- M7_ids %>% group_by(contig_result) %>% count(hx) %>% spread(key = hx, value = n,fill = 0 )"
   ]
  },
  {
   "cell_type": "code",
   "execution_count": 16,
   "id": "ae90cb03-99e6-466d-958d-33a0050742cc",
   "metadata": {},
   "outputs": [
    {
     "name": "stderr",
     "output_type": "stream",
     "text": [
      "\u001b[1m\u001b[22mNew names:\n",
      "\u001b[36m•\u001b[39m `` -> `...10`\n"
     ]
    }
   ],
   "source": [
    "# subset removing ref column\n",
    "M7_Sub <- select(M7_scores,-ref)\n",
    "\n",
    "#Add row row_max printing rowwith max. \n",
    "M7_Sub <- M7_Sub %>% rowwise() %>% mutate(row_max = names(.)[which.max(c_across())+1])\n",
    "\n",
    "# Add this row to original dataframe. \n",
    "M7_scores <- bind_cols(M7_scores, M7_Sub$row_max)\n",
    "\n",
    "#Rename row\n",
    "M7_scores$...10 -> M7_scores$hap"
   ]
  },
  {
   "cell_type": "code",
   "execution_count": 17,
   "id": "2665823b-0b35-4a03-9974-d842f09948f1",
   "metadata": {},
   "outputs": [],
   "source": [
    "#Then add a column summing the number of SNPs for that contig. \n",
    "M7_scores <- M7_scores %>% mutate(SNPS_called=h1+h2+h3+h4+ref)"
   ]
  },
  {
   "cell_type": "code",
   "execution_count": 24,
   "id": "5d76bac0-54f6-4fb3-97c4-ef6cfcedfefc",
   "metadata": {},
   "outputs": [],
   "source": [
    "# Add column of the number of snps from the max hap.\n",
    "M7_scores <- M7_scores %>%\n",
    "  rowwise() %>%\n",
    "  mutate(ALT = get(hap))"
   ]
  },
  {
   "cell_type": "code",
   "execution_count": 26,
   "id": "654ec682-3fe0-4bf8-b6dc-c1c5c261ccbb",
   "metadata": {},
   "outputs": [],
   "source": [
    "#Add column for the SNP_score\n",
    "M7_scores <- M7_scores %>% mutate(SNP_score = ALT/SNPS_called)"
   ]
  },
  {
   "cell_type": "code",
   "execution_count": 31,
   "id": "948de6d2-e199-405a-a5ed-a51339f7d029",
   "metadata": {},
   "outputs": [],
   "source": [
    "# Set cutoff and make a new column only showing contig calls that are above that score:\n",
    "CUTOFF <- 0.2\n",
    "M7_scores <- M7_scores %>%\n",
    "  rowwise() %>%\n",
    "  mutate(hqcall = ifelse(SNP_score > CUTOFF, hap, \"0\"))"
   ]
  },
  {
   "cell_type": "code",
   "execution_count": 32,
   "id": "d2ac3f23-88d0-4d2f-b222-ff3ac25bc98e",
   "metadata": {},
   "outputs": [
    {
     "data": {
      "text/html": [
       "<table>\n",
       "<caption>A rowwise_df: 6 × 15</caption>\n",
       "<thead>\n",
       "\t<tr><th scope=col>contig_result</th><th scope=col>ERROR</th><th scope=col>h1</th><th scope=col>h2</th><th scope=col>h3</th><th scope=col>h4</th><th scope=col>insertion</th><th scope=col>nomap</th><th scope=col>ref</th><th scope=col>...10</th><th scope=col>hap</th><th scope=col>SNPS_called</th><th scope=col>ALT</th><th scope=col>SNP_score</th><th scope=col>hqcall</th></tr>\n",
       "\t<tr><th scope=col>&lt;chr&gt;</th><th scope=col>&lt;dbl&gt;</th><th scope=col>&lt;dbl&gt;</th><th scope=col>&lt;dbl&gt;</th><th scope=col>&lt;dbl&gt;</th><th scope=col>&lt;dbl&gt;</th><th scope=col>&lt;dbl&gt;</th><th scope=col>&lt;dbl&gt;</th><th scope=col>&lt;dbl&gt;</th><th scope=col>&lt;chr&gt;</th><th scope=col>&lt;chr&gt;</th><th scope=col>&lt;dbl&gt;</th><th scope=col>&lt;dbl&gt;</th><th scope=col>&lt;dbl&gt;</th><th scope=col>&lt;chr&gt;</th></tr>\n",
       "</thead>\n",
       "<tbody>\n",
       "\t<tr><td>h1tg000002l_1</td><td>0</td><td>0</td><td>0</td><td>0</td><td>1</td><td>0</td><td>0</td><td> 4</td><td>h4   </td><td>h4   </td><td> 5</td><td>1</td><td>0.2000000</td><td>0 </td></tr>\n",
       "\t<tr><td>h1tg000004l_1</td><td>0</td><td>0</td><td>7</td><td>0</td><td>0</td><td>0</td><td>0</td><td>36</td><td>h2   </td><td>h2   </td><td>43</td><td>7</td><td>0.1627907</td><td>0 </td></tr>\n",
       "\t<tr><td>h1tg000005l_1</td><td>0</td><td>0</td><td>0</td><td>0</td><td>0</td><td>0</td><td>0</td><td> 2</td><td>ERROR</td><td>ERROR</td><td> 2</td><td>0</td><td>0.0000000</td><td>0 </td></tr>\n",
       "\t<tr><td>h1tg000006l_1</td><td>0</td><td>0</td><td>0</td><td>0</td><td>0</td><td>0</td><td>0</td><td> 4</td><td>ERROR</td><td>ERROR</td><td> 4</td><td>0</td><td>0.0000000</td><td>0 </td></tr>\n",
       "\t<tr><td>h1tg000007l_1</td><td>0</td><td>6</td><td>6</td><td>0</td><td>2</td><td>0</td><td>2</td><td>45</td><td>h1   </td><td>h1   </td><td>59</td><td>6</td><td>0.1016949</td><td>0 </td></tr>\n",
       "\t<tr><td>h1tg000008l_1</td><td>0</td><td>2</td><td>0</td><td>0</td><td>0</td><td>0</td><td>0</td><td> 0</td><td>h1   </td><td>h1   </td><td> 2</td><td>2</td><td>1.0000000</td><td>h1</td></tr>\n",
       "</tbody>\n",
       "</table>\n"
      ],
      "text/latex": [
       "A rowwise\\_df: 6 × 15\n",
       "\\begin{tabular}{lllllllllllllll}\n",
       " contig\\_result & ERROR & h1 & h2 & h3 & h4 & insertion & nomap & ref & ...10 & hap & SNPS\\_called & ALT & SNP\\_score & hqcall\\\\\n",
       " <chr> & <dbl> & <dbl> & <dbl> & <dbl> & <dbl> & <dbl> & <dbl> & <dbl> & <chr> & <chr> & <dbl> & <dbl> & <dbl> & <chr>\\\\\n",
       "\\hline\n",
       "\t h1tg000002l\\_1 & 0 & 0 & 0 & 0 & 1 & 0 & 0 &  4 & h4    & h4    &  5 & 1 & 0.2000000 & 0 \\\\\n",
       "\t h1tg000004l\\_1 & 0 & 0 & 7 & 0 & 0 & 0 & 0 & 36 & h2    & h2    & 43 & 7 & 0.1627907 & 0 \\\\\n",
       "\t h1tg000005l\\_1 & 0 & 0 & 0 & 0 & 0 & 0 & 0 &  2 & ERROR & ERROR &  2 & 0 & 0.0000000 & 0 \\\\\n",
       "\t h1tg000006l\\_1 & 0 & 0 & 0 & 0 & 0 & 0 & 0 &  4 & ERROR & ERROR &  4 & 0 & 0.0000000 & 0 \\\\\n",
       "\t h1tg000007l\\_1 & 0 & 6 & 6 & 0 & 2 & 0 & 2 & 45 & h1    & h1    & 59 & 6 & 0.1016949 & 0 \\\\\n",
       "\t h1tg000008l\\_1 & 0 & 2 & 0 & 0 & 0 & 0 & 0 &  0 & h1    & h1    &  2 & 2 & 1.0000000 & h1\\\\\n",
       "\\end{tabular}\n"
      ],
      "text/markdown": [
       "\n",
       "A rowwise_df: 6 × 15\n",
       "\n",
       "| contig_result &lt;chr&gt; | ERROR &lt;dbl&gt; | h1 &lt;dbl&gt; | h2 &lt;dbl&gt; | h3 &lt;dbl&gt; | h4 &lt;dbl&gt; | insertion &lt;dbl&gt; | nomap &lt;dbl&gt; | ref &lt;dbl&gt; | ...10 &lt;chr&gt; | hap &lt;chr&gt; | SNPS_called &lt;dbl&gt; | ALT &lt;dbl&gt; | SNP_score &lt;dbl&gt; | hqcall &lt;chr&gt; |\n",
       "|---|---|---|---|---|---|---|---|---|---|---|---|---|---|---|\n",
       "| h1tg000002l_1 | 0 | 0 | 0 | 0 | 1 | 0 | 0 |  4 | h4    | h4    |  5 | 1 | 0.2000000 | 0  |\n",
       "| h1tg000004l_1 | 0 | 0 | 7 | 0 | 0 | 0 | 0 | 36 | h2    | h2    | 43 | 7 | 0.1627907 | 0  |\n",
       "| h1tg000005l_1 | 0 | 0 | 0 | 0 | 0 | 0 | 0 |  2 | ERROR | ERROR |  2 | 0 | 0.0000000 | 0  |\n",
       "| h1tg000006l_1 | 0 | 0 | 0 | 0 | 0 | 0 | 0 |  4 | ERROR | ERROR |  4 | 0 | 0.0000000 | 0  |\n",
       "| h1tg000007l_1 | 0 | 6 | 6 | 0 | 2 | 0 | 2 | 45 | h1    | h1    | 59 | 6 | 0.1016949 | 0  |\n",
       "| h1tg000008l_1 | 0 | 2 | 0 | 0 | 0 | 0 | 0 |  0 | h1    | h1    |  2 | 2 | 1.0000000 | h1 |\n",
       "\n"
      ],
      "text/plain": [
       "  contig_result ERROR h1 h2 h3 h4 insertion nomap ref ...10 hap   SNPS_called\n",
       "1 h1tg000002l_1 0     0  0  0  1  0         0      4  h4    h4     5         \n",
       "2 h1tg000004l_1 0     0  7  0  0  0         0     36  h2    h2    43         \n",
       "3 h1tg000005l_1 0     0  0  0  0  0         0      2  ERROR ERROR  2         \n",
       "4 h1tg000006l_1 0     0  0  0  0  0         0      4  ERROR ERROR  4         \n",
       "5 h1tg000007l_1 0     6  6  0  2  0         2     45  h1    h1    59         \n",
       "6 h1tg000008l_1 0     2  0  0  0  0         0      0  h1    h1     2         \n",
       "  ALT SNP_score hqcall\n",
       "1 1   0.2000000 0     \n",
       "2 7   0.1627907 0     \n",
       "3 0   0.0000000 0     \n",
       "4 0   0.0000000 0     \n",
       "5 6   0.1016949 0     \n",
       "6 2   1.0000000 h1    "
      ]
     },
     "metadata": {},
     "output_type": "display_data"
    }
   ],
   "source": [
    "head(M7_scores)"
   ]
  },
  {
   "cell_type": "code",
   "execution_count": null,
   "id": "b98680ae-2714-4a5b-b884-5d05dc72701b",
   "metadata": {},
   "outputs": [],
   "source": []
  },
  {
   "cell_type": "code",
   "execution_count": 33,
   "id": "0e1f836e-d314-4429-8801-6cadfe217621",
   "metadata": {},
   "outputs": [
    {
     "data": {
      "text/html": [
       "<table>\n",
       "<caption>A rowwise_df: 20 × 15</caption>\n",
       "<thead>\n",
       "\t<tr><th scope=col>contig_result</th><th scope=col>ERROR</th><th scope=col>h1</th><th scope=col>h2</th><th scope=col>h3</th><th scope=col>h4</th><th scope=col>insertion</th><th scope=col>nomap</th><th scope=col>ref</th><th scope=col>...10</th><th scope=col>hap</th><th scope=col>SNPS_called</th><th scope=col>ALT</th><th scope=col>SNP_score</th><th scope=col>hqcall</th></tr>\n",
       "\t<tr><th scope=col>&lt;chr&gt;</th><th scope=col>&lt;dbl&gt;</th><th scope=col>&lt;dbl&gt;</th><th scope=col>&lt;dbl&gt;</th><th scope=col>&lt;dbl&gt;</th><th scope=col>&lt;dbl&gt;</th><th scope=col>&lt;dbl&gt;</th><th scope=col>&lt;dbl&gt;</th><th scope=col>&lt;dbl&gt;</th><th scope=col>&lt;chr&gt;</th><th scope=col>&lt;chr&gt;</th><th scope=col>&lt;dbl&gt;</th><th scope=col>&lt;dbl&gt;</th><th scope=col>&lt;dbl&gt;</th><th scope=col>&lt;chr&gt;</th></tr>\n",
       "</thead>\n",
       "<tbody>\n",
       "\t<tr><td>h1tg000002l_1</td><td>0</td><td> 0</td><td> 0</td><td>0</td><td> 1</td><td>0</td><td>0</td><td> 4</td><td>h4   </td><td>h4   </td><td> 5</td><td> 1</td><td>0.2000000</td><td>0 </td></tr>\n",
       "\t<tr><td>h1tg000004l_1</td><td>0</td><td> 0</td><td> 7</td><td>0</td><td> 0</td><td>0</td><td>0</td><td>36</td><td>h2   </td><td>h2   </td><td>43</td><td> 7</td><td>0.1627907</td><td>0 </td></tr>\n",
       "\t<tr><td>h1tg000005l_1</td><td>0</td><td> 0</td><td> 0</td><td>0</td><td> 0</td><td>0</td><td>0</td><td> 2</td><td>ERROR</td><td>ERROR</td><td> 2</td><td> 0</td><td>0.0000000</td><td>0 </td></tr>\n",
       "\t<tr><td>h1tg000006l_1</td><td>0</td><td> 0</td><td> 0</td><td>0</td><td> 0</td><td>0</td><td>0</td><td> 4</td><td>ERROR</td><td>ERROR</td><td> 4</td><td> 0</td><td>0.0000000</td><td>0 </td></tr>\n",
       "\t<tr><td>h1tg000007l_1</td><td>0</td><td> 6</td><td> 6</td><td>0</td><td> 2</td><td>0</td><td>2</td><td>45</td><td>h1   </td><td>h1   </td><td>59</td><td> 6</td><td>0.1016949</td><td>0 </td></tr>\n",
       "\t<tr><td>h1tg000008l_1</td><td>0</td><td> 2</td><td> 0</td><td>0</td><td> 0</td><td>0</td><td>0</td><td> 0</td><td>h1   </td><td>h1   </td><td> 2</td><td> 2</td><td>1.0000000</td><td>h1</td></tr>\n",
       "\t<tr><td>h1tg000010l_1</td><td>0</td><td> 0</td><td> 0</td><td>0</td><td> 0</td><td>0</td><td>0</td><td> 2</td><td>ERROR</td><td>ERROR</td><td> 2</td><td> 0</td><td>0.0000000</td><td>0 </td></tr>\n",
       "\t<tr><td>h1tg000011l_1</td><td>0</td><td> 0</td><td> 0</td><td>0</td><td> 0</td><td>0</td><td>0</td><td> 3</td><td>ERROR</td><td>ERROR</td><td> 3</td><td> 0</td><td>0.0000000</td><td>0 </td></tr>\n",
       "\t<tr><td>h1tg000013l_1</td><td>0</td><td> 1</td><td> 0</td><td>0</td><td> 0</td><td>0</td><td>0</td><td> 3</td><td>h1   </td><td>h1   </td><td> 4</td><td> 1</td><td>0.2500000</td><td>h1</td></tr>\n",
       "\t<tr><td>h1tg000015l_1</td><td>0</td><td> 0</td><td> 0</td><td>0</td><td> 0</td><td>0</td><td>0</td><td> 4</td><td>ERROR</td><td>ERROR</td><td> 4</td><td> 0</td><td>0.0000000</td><td>0 </td></tr>\n",
       "\t<tr><td>h1tg000017l_1</td><td>0</td><td> 0</td><td> 1</td><td>0</td><td> 0</td><td>0</td><td>0</td><td> 9</td><td>h2   </td><td>h2   </td><td>10</td><td> 1</td><td>0.1000000</td><td>0 </td></tr>\n",
       "\t<tr><td>h1tg000019l_1</td><td>0</td><td> 0</td><td> 0</td><td>0</td><td> 0</td><td>0</td><td>0</td><td>11</td><td>ERROR</td><td>ERROR</td><td>11</td><td> 0</td><td>0.0000000</td><td>0 </td></tr>\n",
       "\t<tr><td>h1tg000020l_1</td><td>0</td><td> 0</td><td> 0</td><td>0</td><td> 0</td><td>0</td><td>0</td><td>14</td><td>ERROR</td><td>ERROR</td><td>14</td><td> 0</td><td>0.0000000</td><td>0 </td></tr>\n",
       "\t<tr><td>h1tg000022l_1</td><td>0</td><td>12</td><td> 0</td><td>0</td><td> 1</td><td>0</td><td>0</td><td>12</td><td>h1   </td><td>h1   </td><td>25</td><td>12</td><td>0.4800000</td><td>h1</td></tr>\n",
       "\t<tr><td>h1tg000024l_1</td><td>0</td><td> 5</td><td> 0</td><td>0</td><td> 0</td><td>0</td><td>0</td><td>12</td><td>h1   </td><td>h1   </td><td>17</td><td> 5</td><td>0.2941176</td><td>h1</td></tr>\n",
       "\t<tr><td>h1tg000025l_1</td><td>0</td><td> 3</td><td> 3</td><td>0</td><td>17</td><td>0</td><td>1</td><td>58</td><td>h4   </td><td>h4   </td><td>81</td><td>17</td><td>0.2098765</td><td>h4</td></tr>\n",
       "\t<tr><td>h1tg000026l_1</td><td>0</td><td> 0</td><td> 0</td><td>0</td><td> 1</td><td>0</td><td>0</td><td> 2</td><td>h4   </td><td>h4   </td><td> 3</td><td> 1</td><td>0.3333333</td><td>h4</td></tr>\n",
       "\t<tr><td>h1tg000027l_1</td><td>0</td><td> 0</td><td>14</td><td>0</td><td> 1</td><td>0</td><td>0</td><td>38</td><td>h2   </td><td>h2   </td><td>53</td><td>14</td><td>0.2641509</td><td>h2</td></tr>\n",
       "\t<tr><td>h1tg000028l_1</td><td>0</td><td> 1</td><td> 0</td><td>0</td><td> 4</td><td>0</td><td>0</td><td>16</td><td>h4   </td><td>h4   </td><td>21</td><td> 4</td><td>0.1904762</td><td>0 </td></tr>\n",
       "\t<tr><td>h1tg000029l_1</td><td>0</td><td> 0</td><td> 0</td><td>0</td><td> 0</td><td>0</td><td>0</td><td> 2</td><td>ERROR</td><td>ERROR</td><td> 2</td><td> 0</td><td>0.0000000</td><td>0 </td></tr>\n",
       "</tbody>\n",
       "</table>\n"
      ],
      "text/latex": [
       "A rowwise\\_df: 20 × 15\n",
       "\\begin{tabular}{lllllllllllllll}\n",
       " contig\\_result & ERROR & h1 & h2 & h3 & h4 & insertion & nomap & ref & ...10 & hap & SNPS\\_called & ALT & SNP\\_score & hqcall\\\\\n",
       " <chr> & <dbl> & <dbl> & <dbl> & <dbl> & <dbl> & <dbl> & <dbl> & <dbl> & <chr> & <chr> & <dbl> & <dbl> & <dbl> & <chr>\\\\\n",
       "\\hline\n",
       "\t h1tg000002l\\_1 & 0 &  0 &  0 & 0 &  1 & 0 & 0 &  4 & h4    & h4    &  5 &  1 & 0.2000000 & 0 \\\\\n",
       "\t h1tg000004l\\_1 & 0 &  0 &  7 & 0 &  0 & 0 & 0 & 36 & h2    & h2    & 43 &  7 & 0.1627907 & 0 \\\\\n",
       "\t h1tg000005l\\_1 & 0 &  0 &  0 & 0 &  0 & 0 & 0 &  2 & ERROR & ERROR &  2 &  0 & 0.0000000 & 0 \\\\\n",
       "\t h1tg000006l\\_1 & 0 &  0 &  0 & 0 &  0 & 0 & 0 &  4 & ERROR & ERROR &  4 &  0 & 0.0000000 & 0 \\\\\n",
       "\t h1tg000007l\\_1 & 0 &  6 &  6 & 0 &  2 & 0 & 2 & 45 & h1    & h1    & 59 &  6 & 0.1016949 & 0 \\\\\n",
       "\t h1tg000008l\\_1 & 0 &  2 &  0 & 0 &  0 & 0 & 0 &  0 & h1    & h1    &  2 &  2 & 1.0000000 & h1\\\\\n",
       "\t h1tg000010l\\_1 & 0 &  0 &  0 & 0 &  0 & 0 & 0 &  2 & ERROR & ERROR &  2 &  0 & 0.0000000 & 0 \\\\\n",
       "\t h1tg000011l\\_1 & 0 &  0 &  0 & 0 &  0 & 0 & 0 &  3 & ERROR & ERROR &  3 &  0 & 0.0000000 & 0 \\\\\n",
       "\t h1tg000013l\\_1 & 0 &  1 &  0 & 0 &  0 & 0 & 0 &  3 & h1    & h1    &  4 &  1 & 0.2500000 & h1\\\\\n",
       "\t h1tg000015l\\_1 & 0 &  0 &  0 & 0 &  0 & 0 & 0 &  4 & ERROR & ERROR &  4 &  0 & 0.0000000 & 0 \\\\\n",
       "\t h1tg000017l\\_1 & 0 &  0 &  1 & 0 &  0 & 0 & 0 &  9 & h2    & h2    & 10 &  1 & 0.1000000 & 0 \\\\\n",
       "\t h1tg000019l\\_1 & 0 &  0 &  0 & 0 &  0 & 0 & 0 & 11 & ERROR & ERROR & 11 &  0 & 0.0000000 & 0 \\\\\n",
       "\t h1tg000020l\\_1 & 0 &  0 &  0 & 0 &  0 & 0 & 0 & 14 & ERROR & ERROR & 14 &  0 & 0.0000000 & 0 \\\\\n",
       "\t h1tg000022l\\_1 & 0 & 12 &  0 & 0 &  1 & 0 & 0 & 12 & h1    & h1    & 25 & 12 & 0.4800000 & h1\\\\\n",
       "\t h1tg000024l\\_1 & 0 &  5 &  0 & 0 &  0 & 0 & 0 & 12 & h1    & h1    & 17 &  5 & 0.2941176 & h1\\\\\n",
       "\t h1tg000025l\\_1 & 0 &  3 &  3 & 0 & 17 & 0 & 1 & 58 & h4    & h4    & 81 & 17 & 0.2098765 & h4\\\\\n",
       "\t h1tg000026l\\_1 & 0 &  0 &  0 & 0 &  1 & 0 & 0 &  2 & h4    & h4    &  3 &  1 & 0.3333333 & h4\\\\\n",
       "\t h1tg000027l\\_1 & 0 &  0 & 14 & 0 &  1 & 0 & 0 & 38 & h2    & h2    & 53 & 14 & 0.2641509 & h2\\\\\n",
       "\t h1tg000028l\\_1 & 0 &  1 &  0 & 0 &  4 & 0 & 0 & 16 & h4    & h4    & 21 &  4 & 0.1904762 & 0 \\\\\n",
       "\t h1tg000029l\\_1 & 0 &  0 &  0 & 0 &  0 & 0 & 0 &  2 & ERROR & ERROR &  2 &  0 & 0.0000000 & 0 \\\\\n",
       "\\end{tabular}\n"
      ],
      "text/markdown": [
       "\n",
       "A rowwise_df: 20 × 15\n",
       "\n",
       "| contig_result &lt;chr&gt; | ERROR &lt;dbl&gt; | h1 &lt;dbl&gt; | h2 &lt;dbl&gt; | h3 &lt;dbl&gt; | h4 &lt;dbl&gt; | insertion &lt;dbl&gt; | nomap &lt;dbl&gt; | ref &lt;dbl&gt; | ...10 &lt;chr&gt; | hap &lt;chr&gt; | SNPS_called &lt;dbl&gt; | ALT &lt;dbl&gt; | SNP_score &lt;dbl&gt; | hqcall &lt;chr&gt; |\n",
       "|---|---|---|---|---|---|---|---|---|---|---|---|---|---|---|\n",
       "| h1tg000002l_1 | 0 |  0 |  0 | 0 |  1 | 0 | 0 |  4 | h4    | h4    |  5 |  1 | 0.2000000 | 0  |\n",
       "| h1tg000004l_1 | 0 |  0 |  7 | 0 |  0 | 0 | 0 | 36 | h2    | h2    | 43 |  7 | 0.1627907 | 0  |\n",
       "| h1tg000005l_1 | 0 |  0 |  0 | 0 |  0 | 0 | 0 |  2 | ERROR | ERROR |  2 |  0 | 0.0000000 | 0  |\n",
       "| h1tg000006l_1 | 0 |  0 |  0 | 0 |  0 | 0 | 0 |  4 | ERROR | ERROR |  4 |  0 | 0.0000000 | 0  |\n",
       "| h1tg000007l_1 | 0 |  6 |  6 | 0 |  2 | 0 | 2 | 45 | h1    | h1    | 59 |  6 | 0.1016949 | 0  |\n",
       "| h1tg000008l_1 | 0 |  2 |  0 | 0 |  0 | 0 | 0 |  0 | h1    | h1    |  2 |  2 | 1.0000000 | h1 |\n",
       "| h1tg000010l_1 | 0 |  0 |  0 | 0 |  0 | 0 | 0 |  2 | ERROR | ERROR |  2 |  0 | 0.0000000 | 0  |\n",
       "| h1tg000011l_1 | 0 |  0 |  0 | 0 |  0 | 0 | 0 |  3 | ERROR | ERROR |  3 |  0 | 0.0000000 | 0  |\n",
       "| h1tg000013l_1 | 0 |  1 |  0 | 0 |  0 | 0 | 0 |  3 | h1    | h1    |  4 |  1 | 0.2500000 | h1 |\n",
       "| h1tg000015l_1 | 0 |  0 |  0 | 0 |  0 | 0 | 0 |  4 | ERROR | ERROR |  4 |  0 | 0.0000000 | 0  |\n",
       "| h1tg000017l_1 | 0 |  0 |  1 | 0 |  0 | 0 | 0 |  9 | h2    | h2    | 10 |  1 | 0.1000000 | 0  |\n",
       "| h1tg000019l_1 | 0 |  0 |  0 | 0 |  0 | 0 | 0 | 11 | ERROR | ERROR | 11 |  0 | 0.0000000 | 0  |\n",
       "| h1tg000020l_1 | 0 |  0 |  0 | 0 |  0 | 0 | 0 | 14 | ERROR | ERROR | 14 |  0 | 0.0000000 | 0  |\n",
       "| h1tg000022l_1 | 0 | 12 |  0 | 0 |  1 | 0 | 0 | 12 | h1    | h1    | 25 | 12 | 0.4800000 | h1 |\n",
       "| h1tg000024l_1 | 0 |  5 |  0 | 0 |  0 | 0 | 0 | 12 | h1    | h1    | 17 |  5 | 0.2941176 | h1 |\n",
       "| h1tg000025l_1 | 0 |  3 |  3 | 0 | 17 | 0 | 1 | 58 | h4    | h4    | 81 | 17 | 0.2098765 | h4 |\n",
       "| h1tg000026l_1 | 0 |  0 |  0 | 0 |  1 | 0 | 0 |  2 | h4    | h4    |  3 |  1 | 0.3333333 | h4 |\n",
       "| h1tg000027l_1 | 0 |  0 | 14 | 0 |  1 | 0 | 0 | 38 | h2    | h2    | 53 | 14 | 0.2641509 | h2 |\n",
       "| h1tg000028l_1 | 0 |  1 |  0 | 0 |  4 | 0 | 0 | 16 | h4    | h4    | 21 |  4 | 0.1904762 | 0  |\n",
       "| h1tg000029l_1 | 0 |  0 |  0 | 0 |  0 | 0 | 0 |  2 | ERROR | ERROR |  2 |  0 | 0.0000000 | 0  |\n",
       "\n"
      ],
      "text/plain": [
       "   contig_result ERROR h1 h2 h3 h4 insertion nomap ref ...10 hap   SNPS_called\n",
       "1  h1tg000002l_1 0      0  0 0   1 0         0      4  h4    h4     5         \n",
       "2  h1tg000004l_1 0      0  7 0   0 0         0     36  h2    h2    43         \n",
       "3  h1tg000005l_1 0      0  0 0   0 0         0      2  ERROR ERROR  2         \n",
       "4  h1tg000006l_1 0      0  0 0   0 0         0      4  ERROR ERROR  4         \n",
       "5  h1tg000007l_1 0      6  6 0   2 0         2     45  h1    h1    59         \n",
       "6  h1tg000008l_1 0      2  0 0   0 0         0      0  h1    h1     2         \n",
       "7  h1tg000010l_1 0      0  0 0   0 0         0      2  ERROR ERROR  2         \n",
       "8  h1tg000011l_1 0      0  0 0   0 0         0      3  ERROR ERROR  3         \n",
       "9  h1tg000013l_1 0      1  0 0   0 0         0      3  h1    h1     4         \n",
       "10 h1tg000015l_1 0      0  0 0   0 0         0      4  ERROR ERROR  4         \n",
       "11 h1tg000017l_1 0      0  1 0   0 0         0      9  h2    h2    10         \n",
       "12 h1tg000019l_1 0      0  0 0   0 0         0     11  ERROR ERROR 11         \n",
       "13 h1tg000020l_1 0      0  0 0   0 0         0     14  ERROR ERROR 14         \n",
       "14 h1tg000022l_1 0     12  0 0   1 0         0     12  h1    h1    25         \n",
       "15 h1tg000024l_1 0      5  0 0   0 0         0     12  h1    h1    17         \n",
       "16 h1tg000025l_1 0      3  3 0  17 0         1     58  h4    h4    81         \n",
       "17 h1tg000026l_1 0      0  0 0   1 0         0      2  h4    h4     3         \n",
       "18 h1tg000027l_1 0      0 14 0   1 0         0     38  h2    h2    53         \n",
       "19 h1tg000028l_1 0      1  0 0   4 0         0     16  h4    h4    21         \n",
       "20 h1tg000029l_1 0      0  0 0   0 0         0      2  ERROR ERROR  2         \n",
       "   ALT SNP_score hqcall\n",
       "1   1  0.2000000 0     \n",
       "2   7  0.1627907 0     \n",
       "3   0  0.0000000 0     \n",
       "4   0  0.0000000 0     \n",
       "5   6  0.1016949 0     \n",
       "6   2  1.0000000 h1    \n",
       "7   0  0.0000000 0     \n",
       "8   0  0.0000000 0     \n",
       "9   1  0.2500000 h1    \n",
       "10  0  0.0000000 0     \n",
       "11  1  0.1000000 0     \n",
       "12  0  0.0000000 0     \n",
       "13  0  0.0000000 0     \n",
       "14 12  0.4800000 h1    \n",
       "15  5  0.2941176 h1    \n",
       "16 17  0.2098765 h4    \n",
       "17  1  0.3333333 h4    \n",
       "18 14  0.2641509 h2    \n",
       "19  4  0.1904762 0     \n",
       "20  0  0.0000000 0     "
      ]
     },
     "metadata": {},
     "output_type": "display_data"
    }
   ],
   "source": [
    "head(M7_scores,n = 20)"
   ]
  },
  {
   "cell_type": "code",
   "execution_count": 35,
   "id": "89d66c3f-ff91-4190-9c4c-335d35763e7a",
   "metadata": {},
   "outputs": [
    {
     "data": {
      "text/html": [
       "<table>\n",
       "<caption>A rowwise_df: 6 × 2</caption>\n",
       "<thead>\n",
       "\t<tr><th scope=col>hqcall</th><th scope=col>n</th></tr>\n",
       "\t<tr><th scope=col>&lt;chr&gt;</th><th scope=col>&lt;int&gt;</th></tr>\n",
       "</thead>\n",
       "<tbody>\n",
       "\t<tr><td>0    </td><td>278</td></tr>\n",
       "\t<tr><td>h1   </td><td> 66</td></tr>\n",
       "\t<tr><td>h2   </td><td> 49</td></tr>\n",
       "\t<tr><td>h3   </td><td> 62</td></tr>\n",
       "\t<tr><td>h4   </td><td> 37</td></tr>\n",
       "\t<tr><td>nomap</td><td>  3</td></tr>\n",
       "</tbody>\n",
       "</table>\n"
      ],
      "text/latex": [
       "A rowwise\\_df: 6 × 2\n",
       "\\begin{tabular}{ll}\n",
       " hqcall & n\\\\\n",
       " <chr> & <int>\\\\\n",
       "\\hline\n",
       "\t 0     & 278\\\\\n",
       "\t h1    &  66\\\\\n",
       "\t h2    &  49\\\\\n",
       "\t h3    &  62\\\\\n",
       "\t h4    &  37\\\\\n",
       "\t nomap &   3\\\\\n",
       "\\end{tabular}\n"
      ],
      "text/markdown": [
       "\n",
       "A rowwise_df: 6 × 2\n",
       "\n",
       "| hqcall &lt;chr&gt; | n &lt;int&gt; |\n",
       "|---|---|\n",
       "| 0     | 278 |\n",
       "| h1    |  66 |\n",
       "| h2    |  49 |\n",
       "| h3    |  62 |\n",
       "| h4    |  37 |\n",
       "| nomap |   3 |\n",
       "\n"
      ],
      "text/plain": [
       "  hqcall n  \n",
       "1 0      278\n",
       "2 h1      66\n",
       "3 h2      49\n",
       "4 h3      62\n",
       "5 h4      37\n",
       "6 nomap    3"
      ]
     },
     "metadata": {},
     "output_type": "display_data"
    }
   ],
   "source": [
    "count(M7_scores,hqcall)"
   ]
  },
  {
   "cell_type": "code",
   "execution_count": null,
   "id": "80a9060e-b9a3-4b27-846b-46afd7b19a4a",
   "metadata": {},
   "outputs": [],
   "source": []
  },
  {
   "cell_type": "code",
   "execution_count": null,
   "id": "4c80c0ec-26e7-4ecb-89fe-885e994881fa",
   "metadata": {},
   "outputs": [],
   "source": []
  }
 ],
 "metadata": {
  "kernelspec": {
   "display_name": "R-4.0.0",
   "language": "R",
   "name": "ir4.0.0"
  },
  "language_info": {
   "codemirror_mode": "r",
   "file_extension": ".r",
   "mimetype": "text/x-r-source",
   "name": "R",
   "pygments_lexer": "r",
   "version": "4.0.0"
  }
 },
 "nbformat": 4,
 "nbformat_minor": 5
}
