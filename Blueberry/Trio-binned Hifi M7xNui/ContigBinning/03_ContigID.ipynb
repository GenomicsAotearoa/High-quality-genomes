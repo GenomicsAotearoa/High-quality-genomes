{
 "cells": [
  {
   "cell_type": "code",
   "execution_count": 9,
   "id": "10b7f239-3ffc-4186-b21e-fbbf071d3d1b",
   "metadata": {},
   "outputs": [],
   "source": [
    "WKDIR=/workspace/hraijc/Blueberry/Blueberry_trio/contigbin\n",
    "VCAE=/output/genomic/fairGenomes/Plant/Vaccinium/corymbosum/var_na/sex_na/2x/assembly_w85_20/v1.3/VcaeV1.3.p0.fa\n",
    "MERGEDIR=/workspace/hraijc/Blueberry/Blueberry_trio/Assembly/postcontamremoval/merged\n",
    "LOG=${WKDIR}/log\n",
    "NUIBAM=${WKDIR}/Nuih1h2_cleanMerge_to_Vcae13_filtered.bam\n",
    "M7BAM=${WKDIR}/M7h1h2_cleanMerge_to_Vcae13_filtered.bam\n",
    "NUILM=${WKDIR}/LinkageMap/simplex_Nui.csv\n",
    "#NUILM=${WKDIR}/LinkageMap/Nui_test.csv\n",
    "M7LM=${WKDIR}/LinkageMap/simplex_M7.csv\n",
    "\n",
    "mkdir -p $LOG\n",
    "cd $WKDIR"
   ]
  },
  {
   "cell_type": "code",
   "execution_count": 10,
   "id": "ef48930f-11f8-41fc-b8e7-740bb583d88b",
   "metadata": {},
   "outputs": [
    {
     "name": "stdout",
     "output_type": "stream",
     "text": [
      ">seq-0-001\n",
      ">seq-0-002\n",
      ">seq-0-003\n",
      ">seq-0-004\n",
      ">seq-0-005\n",
      ">seq-0-006\n",
      ">seq-0-007\n",
      ">seq-0-008\n",
      ">seq-0-009\n",
      ">seq-0-010\n"
     ]
    }
   ],
   "source": [
    "grep \">\" $VCAE | head"
   ]
  },
  {
   "cell_type": "code",
   "execution_count": 11,
   "id": "c41852fc-9bb7-4d8a-af68-139a80792576",
   "metadata": {},
   "outputs": [],
   "source": [
    "module load samtools\n"
   ]
  },
  {
   "cell_type": "code",
   "execution_count": 78,
   "id": "3ce6ef94-7ac6-4f76-bc60-ed3917d45019",
   "metadata": {},
   "outputs": [],
   "source": [
    "CHROM=seq-0-001\n",
    "POS=21582035\n",
    "\n",
    "\n",
    "\n",
    "\n"
   ]
  },
  {
   "cell_type": "code",
   "execution_count": 79,
   "id": "91e468e8-c6e9-489e-96fe-ca0e94271241",
   "metadata": {},
   "outputs": [
    {
     "name": "stdout",
     "output_type": "stream",
     "text": [
      "h2tg000547l_1\n",
      "h1tg000687l_1\n"
     ]
    }
   ],
   "source": [
    "# Two contigs map to this postion in the reference\n",
    "samtools view $NUIBAM ${CHROM}:${POS}-${POS} | awk '{print $1}'"
   ]
  },
  {
   "cell_type": "code",
   "execution_count": 80,
   "id": "3292b1ac-6ddf-4647-8e04-2456cb991505",
   "metadata": {},
   "outputs": [
    {
     "name": "stdout",
     "output_type": "stream",
     "text": [
      "seq-0-001\t21582035\tN\t2\tAt\t~~\n"
     ]
    }
   ],
   "source": [
    "# The genotype of the two contigs is indicated in the 5th column. the reference contig is in the 1st column and the reference position is in the 2nd column.\n",
    "# The order of the genotypes is the same as the order spit out by samtools view (thankfully).\n",
    "samtools mpileup -r \"${CHROM}:${POS}-${POS}\" $NUIBAM 2>/dev/null # | awk '{print $1,$5}'"
   ]
  },
  {
   "cell_type": "code",
   "execution_count": 81,
   "id": "75ee0c18-aebf-46c2-849b-416d379e4867",
   "metadata": {},
   "outputs": [],
   "source": [
    "# Confirm in Geneious. \n",
    "samtools view $NUIBAM ${CHROM}:${POS}-${POS} > test.sam"
   ]
  },
  {
   "cell_type": "code",
   "execution_count": null,
   "id": "610f8d11-685d-4dab-8ad6-5356b251721b",
   "metadata": {},
   "outputs": [],
   "source": []
  },
  {
   "cell_type": "code",
   "execution_count": null,
   "id": "5dadbf86-c034-441b-98a8-c1d5ca641cdd",
   "metadata": {},
   "outputs": [],
   "source": []
  },
  {
   "cell_type": "markdown",
   "id": "4ba0be1a-d425-446d-a0cd-233cdb904501",
   "metadata": {},
   "source": [
    "## Use PrintAtPositon.py to parse bam files to score contigs as reference or alternative alleles. "
   ]
  },
  {
   "cell_type": "code",
   "execution_count": 11,
   "id": "af5cbea5-86b8-42d1-90cb-6596ad5fa035",
   "metadata": {},
   "outputs": [
    {
     "name": "stdout",
     "output_type": "stream",
     "text": [
      "usage: PrintAtPostion.py [-h] input_csv output_csv bam_file\n",
      "\n",
      "Execute samtools commands using data from a CSV file.\n",
      "\n",
      "positional arguments:\n",
      "  input_csv   Input CSV file containing chromosomes and postions of interest.\n",
      "  output_csv  Output CSV file to save the results.\n",
      "  bam_file    Sorted and indexed BAM file.\n",
      "\n",
      "optional arguments:\n",
      "  -h, --help  show this help message and exit\n"
     ]
    }
   ],
   "source": [
    "ml conda\n",
    "conda deactivate\n",
    "module unload conda\n",
    "module load pfr-python3\n",
    "module load samtools\n",
    "\n",
    "\n",
    "python3 /workspace/hraijc/Gitrepos/High-quality-genomes/Blueberry/Trio-binned\\ Hifi\\ M7xNui/ContigBinning/PrintAtPostion.py --help"
   ]
  },
  {
   "cell_type": "code",
   "execution_count": 12,
   "id": "5f0ae4ee-12da-4158-ac32-5b4bed1cd667",
   "metadata": {},
   "outputs": [
    {
     "name": "stdout",
     "output_type": "stream",
     "text": [
      "Submitted batch job 2565971\n"
     ]
    }
   ],
   "source": [
    "sbatch << EOF\n",
    "#!/bin/bash\n",
    "#SBATCH -J samtools_python\n",
    "#SBATCH -o ${LOG}/%J.out\n",
    "#SBATCH -e ${LOG}/%J.err\n",
    "#SBATCH --cpus-per-task=1\n",
    "#SBATCH --mem=1G\n",
    "#SBATCH --time=2:00:00\n",
    "\n",
    "ml conda\n",
    "conda deactivate\n",
    "module unload conda\n",
    "module load pfr-python3\n",
    "module load samtools\n",
    "\n",
    "python3 /workspace/hraijc/Gitrepos/High-quality-genomes/Blueberry/Trio-binned\\ Hifi\\ M7xNui/ContigBinning/PrintAtPostion.py $NUILM ${WKDIR}/LinkageMap/Nui_contig_ids.csv $NUIBAM\n",
    "python3 /workspace/hraijc/Gitrepos/High-quality-genomes/Blueberry/Trio-binned\\ Hifi\\ M7xNui/ContigBinning/PrintAtPostion.py $M7LM ${WKDIR}/LinkageMap/M7_contig_ids.csv $M7BAM\n",
    "\n",
    "EOF"
   ]
  },
  {
   "cell_type": "code",
   "execution_count": null,
   "id": "6789252d-923e-4586-8d87-e57562206623",
   "metadata": {},
   "outputs": [],
   "source": []
  },
  {
   "cell_type": "code",
   "execution_count": null,
   "id": "34f38c5f-feb6-4a54-b805-912bfccf0d27",
   "metadata": {},
   "outputs": [],
   "source": []
  }
 ],
 "metadata": {
  "kernelspec": {
   "display_name": "Bash",
   "language": "bash",
   "name": "bash"
  },
  "language_info": {
   "codemirror_mode": "shell",
   "file_extension": ".sh",
   "mimetype": "text/x-sh",
   "name": "bash"
  }
 },
 "nbformat": 4,
 "nbformat_minor": 5
}
