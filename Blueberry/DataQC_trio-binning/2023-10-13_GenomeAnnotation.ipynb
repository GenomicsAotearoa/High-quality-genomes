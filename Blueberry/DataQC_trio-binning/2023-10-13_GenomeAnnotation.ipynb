{
 "cells": [
  {
   "cell_type": "markdown",
   "id": "7d4e795d-dbf5-4384-b192-523a50ce337c",
   "metadata": {},
   "source": [
    "# Genome annotation using pan-gene pipeline\n",
    "https://github.com/ignacio3437/pan-gene/dev"
   ]
  },
  {
   "cell_type": "markdown",
   "id": "fbbc05d1-fb54-4aaa-873a-7fd138e22ac1",
   "metadata": {},
   "source": [
    "- Using mRNA seq data, and Univec. Should use Braker3. \n",
    "- Not using Trinity data\n",
    "- Setting max_intron_length: 10,000\n"
   ]
  },
  {
   "cell_type": "code",
   "execution_count": null,
   "id": "041d3e26-f2f1-45ce-bdc2-7a830fb284cd",
   "metadata": {},
   "outputs": [],
   "source": [
    "WKDIR=/workspace/hraijc/Blueberry/Blueberry_trio/Annotation_pipeline/M7_Hap1_pipeline/\n",
    "ASSEMBLIES=/workspace/hraijc/Blueberry/Blueberry_trio/Annotation_pipeline/Assemblies/clean"
   ]
  },
  {
   "cell_type": "code",
   "execution_count": null,
   "id": "95119e03-2373-47c0-9b3b-efb78f072ee2",
   "metadata": {},
   "outputs": [],
   "source": [
    "mkdir -p $ASSEMBLIES\n",
    "mkdir -p $WKDIR/log"
   ]
  },
  {
   "cell_type": "code",
   "execution_count": null,
   "id": "6bf29f8e-c67c-4065-b7e5-a6ff491752ef",
   "metadata": {},
   "outputs": [],
   "source": [
    "# Move Sarah's cleaned assemblies to the Assembly Folder and unzip\n",
    "#cp /workspace/hrasrb/Blueberry_trio/2023-09-01_remove_contamination/no_contamination/*.blobtools.noContamination.fa $ASSEMBLIES "
   ]
  },
  {
   "cell_type": "code",
   "execution_count": null,
   "id": "4be36ead-9460-4138-ae9c-f61717df4d8a",
   "metadata": {},
   "outputs": [],
   "source": [
    "cd $WKDIR"
   ]
  },
  {
   "cell_type": "code",
   "execution_count": null,
   "id": "b7fc63b2-e8e1-458d-ba7e-5e6a4f5a9590",
   "metadata": {},
   "outputs": [],
   "source": [
    "cat $WKDIR/nextflow.config"
   ]
  },
  {
   "cell_type": "code",
   "execution_count": null,
   "id": "f79bb139-d6e7-4615-96e4-206a725aa520",
   "metadata": {},
   "outputs": [],
   "source": [
    "###### M7 Hap1 ######\n",
    "WKDIR=/workspace/hraijc/Blueberry/Blueberry_trio/Annotation_pipeline/M7_Hap1_pipeline/\n",
    "#mkdir -p ${WKDIR}/log\n",
    "cd ${WKDIR}\n",
    "\n",
    "cat << EOF > genome_annotation_pipeline_slurm.sh\n",
    "#!/bin/bash -e\n",
    "\n",
    "#SBATCH --job-name M7H1_${USER}\n",
    "#SBATCH --time=14-00:00:00\n",
    "#SBATCH --nodes=1\n",
    "#SBATCH --ntasks=1\n",
    "#SBATCH --cpus-per-task=2\n",
    "#SBATCH -o ${WKDIR}/log/%J.out\n",
    "#SBATCH -e ${WKDIR}/log/%J.err\n",
    "#SBATCH --mem=4G\n",
    "\n",
    "export TMPDIR=\"/workspace/$USER/tmp\"\n",
    "\n",
    "module load conda\n",
    "conda deactivate\n",
    "ml apptainer/1.1\n",
    "ml nextflow/22.10.4\n",
    "module load pfr-python3/3.9.13\n",
    "#pip install --user -r ./requirements.txt\n",
    "\n",
    "srun nextflow main.nf -resume\n",
    "EOF\n",
    "\n",
    "chmod u+x ./genome_annotation_pipeline_slurm.sh\n",
    "sbatch ./genome_annotation_pipeline_slurm.sh"
   ]
  }
 ],
 "metadata": {
  "kernelspec": {
   "display_name": "Bash",
   "language": "bash",
   "name": "bash"
  },
  "language_info": {
   "codemirror_mode": "shell",
   "file_extension": ".sh",
   "mimetype": "text/x-sh",
   "name": "bash"
  }
 },
 "nbformat": 4,
 "nbformat_minor": 5
}
