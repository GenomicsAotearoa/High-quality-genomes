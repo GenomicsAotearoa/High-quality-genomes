{
 "cells": [
  {
   "cell_type": "markdown",
   "id": "6d33bc5f-b2ab-492b-908d-9b77cbe81c07",
   "metadata": {},
   "source": [
    "# Annotation of M7xNui genome\n",
    "\n",
    "#### Triobinning has given us diploid assemblies of each Haplotype. Going to annotate the genome on each of these seperately.\n",
    "\n",
    "#### Using Stage 8 Berry RNA seq data to do the annotation."
   ]
  },
  {
   "cell_type": "code",
   "execution_count": 2,
   "id": "72ad2f8d-579f-4667-b9ab-fce5fd80b1b2",
   "metadata": {},
   "outputs": [],
   "source": [
    "WKDIR=/workspace/hraijc/Blueberry/Blueberry_trio/annotation\n"
   ]
  },
  {
   "cell_type": "code",
   "execution_count": 8,
   "id": "10deba8e-5c3a-41ca-b5bc-58c8191a5142",
   "metadata": {},
   "outputs": [],
   "source": [
    "mkdir -p ${WKDIR}/log"
   ]
  },
  {
   "cell_type": "markdown",
   "id": "284ebfa8-a11a-4d0c-af80-c2113dce457f",
   "metadata": {},
   "source": [
    "### M7 RNA Data"
   ]
  },
  {
   "cell_type": "code",
   "execution_count": 9,
   "id": "310ca6a5-72cd-4adb-a08b-3fa591a34db3",
   "metadata": {},
   "outputs": [
    {
     "name": "stdout",
     "output_type": "stream",
     "text": [
      "checksums.md5\n",
      "M7_HLW3KDSX7_TACGTGAAGG-CTAATAACCG_L001_R1.fastq.gz\n",
      "M7_HLW3KDSX7_TACGTGAAGG-CTAATAACCG_L001_R2.fastq.gz\n",
      "M7_HLW3KDSX7_TACGTGAAGG-CTAATAACCG_L002_R1.fastq.gz\n",
      "M7_HLW3KDSX7_TACGTGAAGG-CTAATAACCG_L002_R2.fastq.gz\n"
     ]
    }
   ],
   "source": [
    "# M7 RNA Data:\n",
    "# Both files are from the same Stage 8 berry mRNA seq.\n",
    "ls /input/genomic/plant/Vaccinium/corymbosum/ExperimentRequestor11039_M7_BerrymRNA/AGRF_CAGRF230715384_HLW3KDSX7/\n",
    "# Cat files together here:\n",
    "ls /workspace/hraijc/Blueberry/Blueberry_trio/annotation/RNASeq/M7"
   ]
  },
  {
   "cell_type": "code",
   "execution_count": 10,
   "id": "41410ad2-be23-422a-b9fe-334333073208",
   "metadata": {},
   "outputs": [
    {
     "name": "stdout",
     "output_type": "stream",
     "text": [
      "Submitted batch job 2006141\n"
     ]
    }
   ],
   "source": [
    "\n",
    "sbatch << EOF\n",
    "#!/bin/bash\n",
    "#SBATCH -J cat_input\n",
    "#SBATCH -o ${WKDIR}/log/%J.out\n",
    "#SBATCH -e ${WKDIR}/log/%J.err\n",
    "#SBATCH --cpus-per-task=1\n",
    "#SBATCH --mem=1G\n",
    "#SBATCH --time=01:10:00\n",
    "\n",
    "cat /input/genomic/plant/Vaccinium/corymbosum/ExperimentRequestor11039_M7_BerrymRNA/AGRF_CAGRF230715384_HLW3KDSX7/M7_HLW3KDSX7_TACGTGAAGG-CTAATAACCG_L001_R1.fastq.gz /input/genomic/plant/Vaccinium/corymbosum/ExperimentRequestor11039_M7_BerrymRNA/AGRF_CAGRF230715384_HLW3KDSX7/M7_HLW3KDSX7_TACGTGAAGG-CTAATAACCG_L002_R1.fastq.gz > /workspace/hraijc/Blueberry/Blueberry_trio/annotation/RNASeq/M7/M7_RNA_R1.fastq.gz\n",
    "cat /input/genomic/plant/Vaccinium/corymbosum/ExperimentRequestor11039_M7_BerrymRNA/AGRF_CAGRF230715384_HLW3KDSX7/M7_HLW3KDSX7_TACGTGAAGG-CTAATAACCG_L001_R2.fastq.gz /input/genomic/plant/Vaccinium/corymbosum/ExperimentRequestor11039_M7_BerrymRNA/AGRF_CAGRF230715384_HLW3KDSX7/M7_HLW3KDSX7_TACGTGAAGG-CTAATAACCG_L002_R2.fastq.gz > /workspace/hraijc/Blueberry/Blueberry_trio/annotation/RNASeq/M7/M7_RNA_R2.fastq.gz\n",
    "\n",
    "\n",
    "\n",
    "\n",
    "EOF"
   ]
  },
  {
   "cell_type": "markdown",
   "id": "3e6fc6e8-38ee-4c32-a759-44208ab9ca0b",
   "metadata": {},
   "source": [
    "### Nui RNA Data: \n",
    "\n",
    "[Experiment Requestor 10656](https://iplant.plantandfood.co.nz/NGS/Lists/ExperimentRequestor/DispForm.aspx?ID=656&Source=https%3A%2F%2Fiplant%2Eplantandfood%2Eco%2Enz%2FNGS%2FLists%2FExperimentRequestor%2FAllItems%2Easpx%23InplviewHash7367ec83%2Dfcb4%2D4f55%2Dbd03%2D475d748d75fa%3D&ContentTypeId=0x010095592B7C60F0B04287ABD2B8B0AB5D610067010449D20B1B429CD224EC13915293)\n",
    "\n",
    "Whole berry: 31_NW4D, 34_NW5D, 37_NW6D, 40_NW7D, 43_NW8D [(Metadata from here)](https://github.com/PlantandFoodResearch/bioinf_Blueberry/blob/master/03_transcriptome_assembly/01_Nui_assembly.ipynb)\n",
    "\n",
    "\n",
    "[RNA data on /input](https://storage.powerplant.pfr.co.nz/input/genomic/plant/Vaccinium/corymbosum/AGRF_CAGRF17626_H5YV2DSXX/)"
   ]
  },
  {
   "cell_type": "code",
   "execution_count": 15,
   "id": "61274310-ad36-49d2-a7fd-ec04db1eb471",
   "metadata": {},
   "outputs": [
    {
     "name": "stdout",
     "output_type": "stream",
     "text": [
      "/input/genomic/plant/Vaccinium/corymbosum/AGRF_CAGRF17626_H5YV2DSXX/31_NW4D_H5YV2DSXX_AACAGGTT-ATACCAAG_L002_R1.fastq.gz\n",
      "/input/genomic/plant/Vaccinium/corymbosum/AGRF_CAGRF17626_H5YV2DSXX/31_NW4D_H5YV2DSXX_AACAGGTT-ATACCAAG_L002_R2.fastq.gz\n",
      "/input/genomic/plant/Vaccinium/corymbosum/AGRF_CAGRF17626_H5YV2DSXX/34_NW5D_H5YV2DSXX_AGTACTCC-AACCTGTT_L002_R1.fastq.gz\n",
      "/input/genomic/plant/Vaccinium/corymbosum/AGRF_CAGRF17626_H5YV2DSXX/34_NW5D_H5YV2DSXX_AGTACTCC-AACCTGTT_L002_R2.fastq.gz\n",
      "/input/genomic/plant/Vaccinium/corymbosum/AGRF_CAGRF17626_H5YV2DSXX/37_NW6D_H5YV2DSXX_AAGTCCAA-TATGAGTA_L002_R1.fastq.gz\n",
      "/input/genomic/plant/Vaccinium/corymbosum/AGRF_CAGRF17626_H5YV2DSXX/37_NW6D_H5YV2DSXX_AAGTCCAA-TATGAGTA_L002_R2.fastq.gz\n"
     ]
    }
   ],
   "source": [
    "#Merging three biological replicates to match the ammount of data from the M7 berry.\n",
    "ls /input/genomic/plant/Vaccinium/corymbosum/AGRF_CAGRF17626_H5YV2DSXX/*31_NW4D*\n",
    "ls /input/genomic/plant/Vaccinium/corymbosum/AGRF_CAGRF17626_H5YV2DSXX/*34_NW5D*\n",
    "ls /input/genomic/plant/Vaccinium/corymbosum/AGRF_CAGRF17626_H5YV2DSXX/*37_NW6D*\n"
   ]
  },
  {
   "cell_type": "code",
   "execution_count": 17,
   "id": "222b2769-efc9-4e72-97a9-ab37c9b081d8",
   "metadata": {},
   "outputs": [
    {
     "name": "stdout",
     "output_type": "stream",
     "text": [
      "Submitted batch job 2006175\n"
     ]
    }
   ],
   "source": [
    "\n",
    "sbatch << EOF\n",
    "#!/bin/bash\n",
    "#SBATCH -J cat_input\n",
    "#SBATCH -o ${WKDIR}/log/%J.out\n",
    "#SBATCH -e ${WKDIR}/log/%J.err\n",
    "#SBATCH --cpus-per-task=1\n",
    "#SBATCH --mem=1G\n",
    "#SBATCH --time=01:10:00\n",
    "\n",
    "cd /input/genomic/plant/Vaccinium/corymbosum/AGRF_CAGRF17626_H5YV2DSXX/\n",
    "\n",
    "cat 31_NW4D_H5YV2DSXX_AACAGGTT-ATACCAAG_L002_R1.fastq.gz 34_NW5D_H5YV2DSXX_AGTACTCC-AACCTGTT_L002_R1.fastq.gz 37_NW6D_H5YV2DSXX_AAGTCCAA-TATGAGTA_L002_R1.fastq.gz > /workspace/hraijc/Blueberry/Blueberry_trio/annotation/RNASeq/Nui/Nui_RNA_R1.fastq.gz\n",
    "cat 31_NW4D_H5YV2DSXX_AACAGGTT-ATACCAAG_L002_R2.fastq.gz 34_NW5D_H5YV2DSXX_AGTACTCC-AACCTGTT_L002_R2.fastq.gz 37_NW6D_H5YV2DSXX_AAGTCCAA-TATGAGTA_L002_R2.fastq.gz > /workspace/hraijc/Blueberry/Blueberry_trio/annotation/RNASeq/Nui/Nui_RNA_R2.fastq.gz\n",
    "\n",
    "\n",
    "EOF\n"
   ]
  },
  {
   "cell_type": "markdown",
   "id": "e2671060-bcf7-40cb-ab0e-b1450a657626",
   "metadata": {},
   "source": [
    "## Prep Reference assemblies"
   ]
  },
  {
   "cell_type": "code",
   "execution_count": 21,
   "id": "f7a8c712-77db-4a98-90d8-45f917d86d95",
   "metadata": {},
   "outputs": [],
   "source": [
    "#Nui Hap1 has the Causative variant \n",
    "mkdir -p ${WKDIR}/Assemblies\n",
    "cd ${WKDIR}/Assemblies\n",
    "\n",
    "# Symlink Chen's assemblies into my workspace.\n",
    "for FILE in /workspace/hraczw/github/bioinf_blueberry_trio/*.fa\n",
    "    do\n",
    "    ln -s $FILE\n",
    "done"
   ]
  },
  {
   "cell_type": "code",
   "execution_count": 23,
   "id": "e74fcc6b-d75e-4313-b0ab-4b2f8d24ba0e",
   "metadata": {},
   "outputs": [
    {
     "name": "stdout",
     "output_type": "stream",
     "text": [
      "M7.bp.hap1.p_ctg.fa  Nui.bp.hap1.p_ctg.fa\n",
      "M7.bp.hap2.p_ctg.fa  Nui.bp.hap2.p_ctg.fa\n"
     ]
    }
   ],
   "source": [
    "ls ${WKDIR}/Assemblies"
   ]
  },
  {
   "cell_type": "code",
   "execution_count": null,
   "id": "a1d44502-e7df-402a-a6e4-eca92f4a3ea2",
   "metadata": {},
   "outputs": [],
   "source": []
  },
  {
   "cell_type": "markdown",
   "id": "e6e3a0fb-4644-465c-9ba6-3c62625c3d58",
   "metadata": {},
   "source": [
    "# Annotation Pipeline\n",
    "\n",
    "## Nui"
   ]
  },
  {
   "cell_type": "code",
   "execution_count": 3,
   "id": "fcc5c215-c9e3-4b1f-be95-32d37efd9c19",
   "metadata": {},
   "outputs": [],
   "source": [
    "cd /workspace/hraijc/Blueberry/Blueberry_trio/annotation/bioinf_genome_annotation_nui"
   ]
  },
  {
   "cell_type": "code",
   "execution_count": 4,
   "id": "07abfea2-7039-44eb-9e58-a5c8e6e6373d",
   "metadata": {},
   "outputs": [
    {
     "name": "stdout",
     "output_type": "stream",
     "text": [
      "includeConfig './conf/base.config'\n",
      "\n",
      "params {\n",
      "\n",
      "    // Input options\n",
      "\n",
      "    experiment_name         = \"Progeny_Nuihap1_annotation\"\n",
      "    rnaseq_files_path       = \"/workspace/hraijc/Blueberry/Blueberry_trio/annotation/RNASeq/Nui\"\n",
      "    \n",
      "    genome_file             = \"/workspace/hraijc/Blueberry/Blueberry_trio/annotation/Assemblies/Nui.bp.hap1.p_ctg.fa\"\n",
      "    masked_genome_file      = \"\"\n",
      "\n",
      "    protein_file            = \"\"\n",
      "\n",
      "    out_prefix              = \"Nui_Hap1\"\n"
     ]
    }
   ],
   "source": [
    "head -n 15 nextflow.config"
   ]
  },
  {
   "cell_type": "code",
   "execution_count": 5,
   "id": "afeba468-3b2a-49c1-ba3f-5ce21889ea45",
   "metadata": {},
   "outputs": [
    {
     "name": "stdout",
     "output_type": "stream",
     "text": [
      "sbatch: It is not safe to run jobs over 7 days of walltime without checkpointing.\n",
      "sbatch: The time limit for this job is 14 days.\n",
      "Submitted batch job 2007595\n"
     ]
    }
   ],
   "source": [
    "sbatch << EOF\n",
    "#!/bin/bash\n",
    "#SBATCH --job-name annotation_pipeline_${USER}\n",
    "#SBATCH --time=14-00:00:00\n",
    "#SBATCH --nodes=1\n",
    "#SBATCH --ntasks=1\n",
    "#SBATCH --cpus-per-task=8\n",
    "#SBATCH -o ${WKDIR}/log/%J.out\n",
    "#SBATCH -e ${WKDIR}/log/%J.err\n",
    "#SBATCH --mem=32G\n",
    "\n",
    "ml apptainer/1.1\n",
    "ml nextflow/22.10.4\n",
    "\n",
    "module load pfr-python3/3.9.13\n",
    "pip install --user -r ./requirements.txt\n",
    "\n",
    "srun nextflow main.nf -resume\n",
    "\n",
    "EOF\n",
    "\n",
    "\n",
    "\n"
   ]
  },
  {
   "cell_type": "markdown",
   "id": "d5da0208-0ee1-4450-b592-e6b47b520c2b",
   "metadata": {},
   "source": [
    "# Annotation Pipeline\n",
    "\n",
    "## M7"
   ]
  },
  {
   "cell_type": "code",
   "execution_count": 12,
   "id": "3059920b-fe07-4dce-bb2c-00b09daf7bda",
   "metadata": {},
   "outputs": [],
   "source": [
    "cd /workspace/hraijc/Blueberry/Blueberry_trio/annotation/bioinf_genome_annotation_m7"
   ]
  },
  {
   "cell_type": "code",
   "execution_count": 13,
   "id": "0a001697-d2b2-4b33-b3eb-b0622397a9a1",
   "metadata": {},
   "outputs": [
    {
     "name": "stdout",
     "output_type": "stream",
     "text": [
      "includeConfig './conf/base.config'\n",
      "\n",
      "params {\n",
      "\n",
      "    // Input options\n",
      "\n",
      "    experiment_name         = \"Progeny_M7hap1_annotation\"\n",
      "    rnaseq_files_path       = \"/workspace/hraijc/Blueberry/Blueberry_trio/annotation/RNASeq/M7\"\n",
      "    \n",
      "    genome_file             = \"/workspace/hraijc/Blueberry/Blueberry_trio/annotation/Assemblies/M7.bp.hap1.p_ctg.fa\"\n",
      "    masked_genome_file      = \"\"\n",
      "\n",
      "    protein_file            = \"\"\n",
      "\n",
      "    out_prefix              = \"M7_Hap1\"\n"
     ]
    }
   ],
   "source": [
    "head -n 15 nextflow.config"
   ]
  },
  {
   "cell_type": "code",
   "execution_count": 14,
   "id": "caf2ab26-7d0d-46d4-9318-0cc77f675a6d",
   "metadata": {},
   "outputs": [
    {
     "name": "stdout",
     "output_type": "stream",
     "text": [
      "sbatch: It is not safe to run jobs over 7 days of walltime without checkpointing.\n",
      "sbatch: The time limit for this job is 14 days.\n",
      "Submitted batch job 2007628\n"
     ]
    }
   ],
   "source": [
    "sbatch << EOF\n",
    "#!/bin/bash\n",
    "#SBATCH --job-name annotation_pipeline_${USER}\n",
    "#SBATCH --time=14-00:00:00\n",
    "#SBATCH --nodes=1\n",
    "#SBATCH --ntasks=1\n",
    "#SBATCH --cpus-per-task=8\n",
    "#SBATCH -o ${WKDIR}/log/%J.out\n",
    "#SBATCH -e ${WKDIR}/log/%J.err\n",
    "#SBATCH --mem=32G\n",
    "\n",
    "ml apptainer/1.1\n",
    "ml nextflow/22.10.4\n",
    "\n",
    "module load pfr-python3/3.9.13\n",
    "pip install --user -r ./requirements.txt\n",
    "\n",
    "srun nextflow main.nf -resume\n",
    "EOF\n",
    "\n"
   ]
  },
  {
   "cell_type": "code",
   "execution_count": 19,
   "id": "3189186e-6c7e-4b8d-a02d-99101b20db2c",
   "metadata": {},
   "outputs": [
    {
     "name": "stdout",
     "output_type": "stream",
     "text": [
      "JobID           JobName  Partition    Account  AllocCPUS      State ExitCode \n",
      "------------ ---------- ---------- ---------- ---------- ---------- -------- \n",
      "2007595      annotatio+       long powerplant          8    RUNNING      0:0 \n",
      "2007595.bat+      batch            powerplant          8    RUNNING      0:0 \n",
      "2007595.ext+     extern            powerplant          8    RUNNING      0:0 \n",
      "2007595.0      nextflow            powerplant          8    RUNNING      0:0 \n",
      "2007598      nf-FASTP_+       fast powerplant          1    RUNNING      0:0 \n",
      "2007598.bat+      batch            powerplant          1    RUNNING      0:0 \n",
      "2007598.ext+     extern            powerplant          1    RUNNING      0:0 \n",
      "2007613      nf-EDTA_(+       fast powerplant          4    RUNNING      0:0 \n",
      "2007613.bat+      batch            powerplant          4    RUNNING      0:0 \n",
      "2007613.ext+     extern            powerplant          4    RUNNING      0:0 \n",
      "2007628      annotatio+       long powerplant          8    RUNNING      0:0 \n",
      "2007628.bat+      batch            powerplant          8    RUNNING      0:0 \n",
      "2007628.ext+     extern            powerplant          8    RUNNING      0:0 \n",
      "2007628.0      nextflow            powerplant          8    RUNNING      0:0 \n",
      "2007629      nf-EDTA_(+       fast powerplant          4    RUNNING      0:0 \n",
      "2007629.bat+      batch            powerplant          4    RUNNING      0:0 \n",
      "2007629.ext+     extern            powerplant          4    RUNNING      0:0 \n",
      "2007630      nf-FASTP_+       fast powerplant          1    RUNNING      0:0 \n",
      "2007630.bat+      batch            powerplant          1    RUNNING      0:0 \n",
      "2007630.ext+     extern            powerplant          1    RUNNING      0:0 \n"
     ]
    }
   ],
   "source": [
    "sacct -s R -s PD"
   ]
  },
  {
   "cell_type": "code",
   "execution_count": null,
   "id": "94f84453-babd-4b51-bfc6-24c8a3e0115c",
   "metadata": {},
   "outputs": [],
   "source": []
  }
 ],
 "metadata": {
  "kernelspec": {
   "display_name": "Bash",
   "language": "bash",
   "name": "bash"
  },
  "language_info": {
   "codemirror_mode": "shell",
   "file_extension": ".sh",
   "mimetype": "text/x-sh",
   "name": "bash"
  }
 },
 "nbformat": 4,
 "nbformat_minor": 5
}
