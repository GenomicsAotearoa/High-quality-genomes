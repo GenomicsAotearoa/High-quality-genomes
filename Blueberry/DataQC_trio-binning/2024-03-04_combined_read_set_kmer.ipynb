{
 "cells": [
  {
   "cell_type": "markdown",
   "id": "b225ac6c-db16-4e5f-9b13-5c8409127898",
   "metadata": {},
   "source": [
    "# kmer analysis HiFi"
   ]
  },
  {
   "cell_type": "markdown",
   "id": "f382194d-8131-48d5-ae9b-b685d97cf743",
   "metadata": {},
   "source": [
    "# Blueberry trio dataQC\n",
    "\n",
    "## HiFi\n",
    "```\n",
    "/input/genomic/plant/Vaccinium/corymbosum/ExperimentRequestor10969_NuixM7_TrioBin/Blueberry_M7xNui/SMRTcell1/CCS_Data\n",
    "/input/genomic/plant/Vaccinium/corymbosum/ExperimentRequestor10969_NuixM7_TrioBin/Blueberry_M7xNui/SMRTcell2/CCS_Data\n",
    "```\n",
    "\n",
    "* kmer analysis (Jellyfish)\n"
   ]
  },
  {
   "cell_type": "markdown",
   "id": "1ffd813d-426c-4468-9342-e0000ce97fa6",
   "metadata": {},
   "source": [
    "# Read set 1+2 : m64136_221113_041854 and m64136_221114_133241"
   ]
  },
  {
   "cell_type": "code",
   "execution_count": 1,
   "id": "c3a09f1b-7d05-4b2b-af5f-b78dc4341ec5",
   "metadata": {},
   "outputs": [
    {
     "name": "stdout",
     "output_type": "stream",
     "text": [
      "Submitted batch job 4481132\n"
     ]
    }
   ],
   "source": [
    "# set input file\n",
    "FILE=/powerplant/input/genomic/plant/Vaccinium/corymbosum/ExperimentRequestor10969_NuixM7_TrioBin/Blueberry_M7xNui\n",
    "\n",
    "PREFIX=NuixM7_HiFi_combined\n",
    "WKDIR=/workspace/hrasrb/Blueberry_trio/data_qc/hifi/kmer_analysis\n",
    "LOG=/workspace/hrasrb/log\n",
    "\n",
    "cd $WKDIR\n",
    "\n",
    "# create and submit bash script\n",
    "sbatch << EOF\n",
    "#!/bin/bash -e\n",
    "\n",
    "#SBATCH -J Unzipcat\n",
    "#SBATCH --output=${LOG}/hrasrb_%j.out\n",
    "#SBATCH --error=${LOG}/hrasrb_%j.err\n",
    "#SBATCH --mail-user=sarah.bailey@plantandfood.co.nz\n",
    "#SBATCH --mail-type=ALL\n",
    "#SBATCH --time=00:30:00 # Walltime\n",
    "#SBATCH --mem=1G\n",
    "#SBATCH --cpus-per-task=1\n",
    "\n",
    "zcat \"${FILE}/SMRTcell2/CCS_Data/m64136_221114_133241.hifi_reads.fastq.gz\" \"${FILE}/SMRTcell1/CCS_Data/m64136_221113_041854.hifi_reads.fastq.gz\" > progeny_combinedHiFi.fastq\n",
    "\n",
    "EOF"
   ]
  },
  {
   "cell_type": "markdown",
   "id": "2a7000f4-e1ab-47e3-ad79-49752d3cdd8b",
   "metadata": {},
   "source": [
    "### k-mer analysis\n",
    "#### hash size calculation"
   ]
  },
  {
   "cell_type": "code",
   "execution_count": 5,
   "id": "c9ef0a57-abc3-4d0f-b37f-da6be372084b",
   "metadata": {},
   "outputs": [
    {
     "name": "stdout",
     "output_type": "stream",
     "text": [
      "69.11495705333333333333\n",
      "1470848458.87199999999995800000\n"
     ]
    }
   ],
   "source": [
    "\n",
    "read_len=18872 # from nanostat\n",
    "no_seq=2197381 # from nanostat\n",
    "genome_size=600000000 # from https://github.com/GenomicsAotearoa/High-quality-genomes/tree/main/Blueberry/M7xNui_Assembly\n",
    "error_rate=0.001\n",
    "\n",
    "# cov=($read_len*($no_seq*1000000))/$genome_size\n",
    "# estimated coverage\n",
    "cov=$(bc -l <<< \" ( $no_seq * $read_len ) / $genome_size \" )\n",
    "\n",
    "# hash=$genome_size+($genome_size*$cov*$error_rate*21)\n",
    "# Hash size (s) = G + Gcek\n",
    "s=$(bc -l <<< \"$genome_size + ( $genome_size * $cov * $error_rate * 21 )\" )\n",
    "\n",
    "echo $cov \n",
    "echo $s\n"
   ]
  },
  {
   "cell_type": "markdown",
   "id": "8ed8fc16-41cb-4625-a8b6-29f7e3b213e0",
   "metadata": {},
   "source": [
    "#### Bloom counter"
   ]
  },
  {
   "cell_type": "code",
   "execution_count": 8,
   "id": "2c756360-3b37-40e5-aa8e-fac0b88ff075",
   "metadata": {},
   "outputs": [
    {
     "name": "stdout",
     "output_type": "stream",
     "text": [
      "Submitted batch job 4481484\n"
     ]
    }
   ],
   "source": [
    "module load jellyfish/2.2.10\n",
    "\n",
    "# set variables for directories\n",
    "WKDIR=/powerplant/workspace/hrasrb/Blueberry_trio/data_qc/hifi/kmer_analysis\n",
    "LOG=/powerplant/workspace/hrasrb/log\n",
    "\n",
    "\n",
    "# set input file\n",
    "INFILE=/powerplant/workspace/hrasrb/Blueberry_trio/data_qc/hifi/kmer_analysis/progeny_combinedHiFi.fastq\n",
    "HASH=1500000000\n",
    "BASE=$(basename ${INFILE} .fastq)\n",
    "\n",
    "cd $WKDIR\n",
    "\n",
    "# create and submit bash script\n",
    "sbatch --dependency=afterok:4481132 << EOF\n",
    "#!/bin/bash -e\n",
    "\n",
    "#SBATCH -J Jellyfish\n",
    "#SBATCH --output=${LOG}/%j.out\n",
    "#SBATCH --error=${LOG}/%j.err\n",
    "#SBATCH --mail-user=sarah.bailey@plantandfood.co.nz\n",
    "#SBATCH --mail-type=ALL\n",
    "#SBATCH --time=06:00:00 # Walltime\n",
    "#SBATCH --mem=12G\n",
    "#SBATCH --cpus-per-task=12\n",
    "\n",
    "pwd\n",
    "\n",
    "echo $INFILE\n",
    "\n",
    "echo ${BASE}.bc\n",
    "\n",
    "# Bloom counter to filter\n",
    "jellyfish bc -m 21 -s ${HASH} -t 12 -o ${BASE}.bc -C ${INFILE}\n",
    "\n",
    "# Frequency count\n",
    "jellyfish count -m 21 -s ${HASH} -t 12 --bc ${BASE}.bc -o ${BASE}_21mer_counts.jf -C ${INFILE}\n",
    "\n",
    "# Generate Histogram\n",
    "jellyfish histo ${BASE}_21mer_counts.jf > ${BASE}_Histogram.out\n",
    "\n",
    "EOF\n",
    "\n",
    "module unload jellyfish"
   ]
  },
  {
   "cell_type": "code",
   "execution_count": 10,
   "id": "ea7d6fa7-0c32-478c-b301-42913bfd58fa",
   "metadata": {},
   "outputs": [
    {
     "name": "stdout",
     "output_type": "stream",
     "text": [
      "Job ID: 4481484\n",
      "Cluster: powerplant\n",
      "User/Group: hrasrb/hrasrb\n",
      "State: COMPLETED (exit code 0)\n",
      "Nodes: 1\n",
      "Cores per node: 12\n",
      "CPU Utilized: 11:57:46\n",
      "CPU Efficiency: 96.14% of 12:26:36 core-walltime\n",
      "Job Wall-clock time: 01:02:13\n",
      "Memory Utilized: 10.59 GB\n",
      "Memory Efficiency: 88.25% of 12.00 GB\n"
     ]
    }
   ],
   "source": [
    "seff 4481484"
   ]
  },
  {
   "cell_type": "code",
   "execution_count": 12,
   "id": "537619be-b705-44f6-8c62-dfb6ddabf06e",
   "metadata": {},
   "outputs": [
    {
     "name": "stdout",
     "output_type": "stream",
     "text": [
      "Submitted batch job 4482682\n"
     ]
    }
   ],
   "source": [
    "ml apptainer\n",
    "\n",
    "# set variables for directories\n",
    "WKDIR=/powerplant/workspace/hrasrb/Blueberry_trio/data_qc/hifi/kmer_analysis\n",
    "LOG=/powerplant/workspace/hrasrb/log\n",
    "\n",
    "# set input file\n",
    "INFILE=/powerplant/workspace/hrasrb/Blueberry_trio/data_qc/hifi/kmer_analysis/progeny_combinedHiFi.fastq\n",
    "\n",
    "BASE=$(basename ${INFILE} .fastq)\n",
    "\n",
    "cd $WKDIR\n",
    "\n",
    "# create and submit bash script\n",
    "sbatch << EOF\n",
    "#!/bin/bash -e\n",
    "\n",
    "#SBATCH -J genomescope\n",
    "#SBATCH --output=${LOG}/hrasrb_%j.out\n",
    "#SBATCH --error=${LOG}/hrasrb_%j.err\n",
    "#SBATCH --mail-user=sarah.bailey@plantandfood.co.nz\n",
    "#SBATCH --mail-type=ALL\n",
    "#SBATCH --time=00:02:00 # Walltime\n",
    "#SBATCH --mem=200M\n",
    "#SBATCH --cpus-per-task=1\n",
    "\n",
    "/powerplant/workspace/hrasrb/Repo/genome-assembly-pipeline/pipeline/.snakemake/singularity/b217dacebe6c5100a0c2e2566108bdb3.simg genomescope.R -k 21 -i ${BASE}_Histogram.out -o ${BASE}_genomescope_p4 -p 4\n",
    "\n",
    "EOF\n",
    "\n",
    "module unload apptainer"
   ]
  },
  {
   "cell_type": "code",
   "execution_count": null,
   "id": "56a65b5a-d023-4304-a5a6-d0fa292dc434",
   "metadata": {},
   "outputs": [],
   "source": [
    "/output/genomic/plant/Vaccinium/corymbosum/2023-10-18_M7xNui_TrioBinned_HiFi_Assemblies "
   ]
  }
 ],
 "metadata": {
  "kernelspec": {
   "display_name": "Bash",
   "language": "bash",
   "name": "bash"
  },
  "language_info": {
   "codemirror_mode": "shell",
   "file_extension": ".sh",
   "mimetype": "text/x-sh",
   "name": "bash"
  }
 },
 "nbformat": 4,
 "nbformat_minor": 5
}
