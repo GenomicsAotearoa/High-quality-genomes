{
 "cells": [
  {
   "cell_type": "markdown",
   "id": "c3487c2d-60c2-4969-8a10-cd30c32ea88c",
   "metadata": {},
   "source": [
    "# Map parental illumina to progeny"
   ]
  },
  {
   "cell_type": "code",
   "execution_count": 1,
   "id": "6d513a0d-b918-40e2-8fbf-893b31d12624",
   "metadata": {},
   "outputs": [],
   "source": [
    "wkdir=/powerplant/workspace/hrasrb/Blueberry_trio/2024-03-12_mapping_rates\n",
    "cd ${wkdir}\n",
    "\n",
    "## If file already exists delete it, otherwise text gets appended to existing file\n",
    "file=\"cleaned_assemblies.fofn\"\n",
    "if [ -f \"$file\" ] ; then\n",
    "    rm \"$file\"\n",
    "fi\n",
    "\n",
    "cat <<'EOF' >> cleaned_assemblies.fofn\n",
    "/powerplant/workspace/hraijc/Blueberry/Blueberry_trio/Assembly/postcontamremoval/classified_M7_plus_unclassified_hap1.clean.fa\n",
    "/powerplant/workspace/hraijc/Blueberry/Blueberry_trio/Assembly/postcontamremoval/classified_M7_plus_unclassified_hap2.clean.fa\n",
    "/powerplant/workspace/hraijc/Blueberry/Blueberry_trio/Assembly/postcontamremoval/classified_Nui_plus_unclassified_hap1.clean.fa\n",
    "/powerplant/workspace/hraijc/Blueberry/Blueberry_trio/Assembly/postcontamremoval/classified_Nui_plus_unclassified_hap2.clean.fa\n",
    "EOF"
   ]
  },
  {
   "cell_type": "markdown",
   "id": "22f3bca0-de1e-4712-a4e0-59ea3aa894e2",
   "metadata": {},
   "source": [
    "# Index references"
   ]
  },
  {
   "cell_type": "code",
   "execution_count": null,
   "id": "29c0e0c8-3bf1-457d-87df-ca86361cdfa4",
   "metadata": {},
   "outputs": [],
   "source": [
    "# set working directory\n",
    "WKDIR=/powerplant/workspace/hrasrb/kiwifruit_pangenome/SV_calling/07-11-2022_T08.33-13-15a_Trial/10.other_align\n",
    "cd $WKDIR\n",
    "\n",
    "# create variables\n",
    "LOG=/powerplant/workspace/hrasrb/kiwifruit_pangenome/SV_calling/07-11-2022_T08.33-13-15a_Trial/log\n",
    "\n",
    "genome_file=/powerplant/output/genomic/plant/Actinidia/chinensis/CK51F3_01/Genome/Assembly/v2.0/Fasta/Red5_V2.chromosomes.only.fsa # Red5v2\n",
    "\n",
    "# load modules\n",
    "ml bwa/0.7.17\n",
    "# create and submit bash script\n",
    "sbatch << EOF\n",
    "#!/bin/bash -e\n",
    "\n",
    "#SBATCH -J index_BWA\n",
    "#SBATCH --output=${LOG}/hrasrb_%j.out\n",
    "#SBATCH --error=${LOG}/hrasrb_%j.err\n",
    "#SBATCH --mail-user=Sarah.Bailey@plantandfood.co.nz\n",
    "#SBATCH --mail-type=ALL\n",
    "#SBATCH --time=00:30:00 # Walltime # change this\n",
    "#SBATCH --mem=4G # change this\n",
    "\n",
    "echo \"Index genome.\"\n",
    "bwa index -a bwtsw ${genome_file} -p genome.index\n",
    "echo \"Done.\"\n",
    "\n",
    "EOF"
   ]
  },
  {
   "cell_type": "code",
   "execution_count": 3,
   "id": "c6b2b683-fd27-4588-ac8f-90e2a760ebac",
   "metadata": {},
   "outputs": [
    {
     "name": "stdout",
     "output_type": "stream",
     "text": [
      "SBATCH_ARGS: --time 00:20:00 --mem 2G --cpus-per-task=1 --mail-user=Sarah.Bailey@plantandfood.co.nz --mail-type=ALL\n",
      "JOB_ARRAY_NAME: index_array\n",
      "GROUP_SIZE: 1\n",
      "NUM_COMMANDS: 4\n",
      "Submitted batch job 4691571\n"
     ]
    }
   ],
   "source": [
    "base=/powerplant/workspace/hrasrb/Blueberry_trio/2024-03-12_mapping_rates\n",
    "LOG=/powerplant/workspace/hrasrb/log\n",
    "\n",
    "mkdir -p -v ${base}\n",
    "cd ${base}\n",
    "\n",
    "# load modules\n",
    "ml bwa/0.7.17\n",
    "\n",
    "FILE=${base}/cleaned_assemblies.fofn\n",
    "cat $FILE | while read line\n",
    "do\n",
    "    PREFIX=$(basename ${line} .fa)\n",
    "    echo \"bwa index -a bwtsw ${line} -p \"${PREFIX}.index\"\"\n",
    "done | abatch -j index_array --time 00:20:00 --mem 2G --cpus-per-task=1 --mail-user=Sarah.Bailey@plantandfood.co.nz --mail-type=ALL | sbatch\n",
    "\n",
    "module unload bwa/0.7.17\n"
   ]
  },
  {
   "cell_type": "code",
   "execution_count": 6,
   "id": "0f5264f6-9c7b-4197-9d01-3e78850742b8",
   "metadata": {},
   "outputs": [
    {
     "name": "stdout",
     "output_type": "stream",
     "text": [
      "\n",
      "Usage: bwa mem [options] <idxbase> <in1.fq> [in2.fq]\n",
      "\n",
      "Algorithm options:\n",
      "\n",
      "       -t INT        number of threads [1]\n",
      "       -k INT        minimum seed length [19]\n",
      "       -w INT        band width for banded alignment [100]\n",
      "       -d INT        off-diagonal X-dropoff [100]\n",
      "       -r FLOAT      look for internal seeds inside a seed longer than {-k} * FLOAT [1.5]\n",
      "       -y INT        seed occurrence for the 3rd round seeding [20]\n",
      "       -c INT        skip seeds with more than INT occurrences [500]\n",
      "       -D FLOAT      drop chains shorter than FLOAT fraction of the longest overlapping chain [0.50]\n",
      "       -W INT        discard a chain if seeded bases shorter than INT [0]\n",
      "       -m INT        perform at most INT rounds of mate rescues for each read [50]\n",
      "       -S            skip mate rescue\n",
      "       -P            skip pairing; mate rescue performed unless -S also in use\n",
      "\n",
      "Scoring options:\n",
      "\n",
      "       -A INT        score for a sequence match, which scales options -TdBOELU unless overridden [1]\n",
      "       -B INT        penalty for a mismatch [4]\n",
      "       -O INT[,INT]  gap open penalties for deletions and insertions [6,6]\n",
      "       -E INT[,INT]  gap extension penalty; a gap of size k cost '{-O} + {-E}*k' [1,1]\n",
      "       -L INT[,INT]  penalty for 5'- and 3'-end clipping [5,5]\n",
      "       -U INT        penalty for an unpaired read pair [17]\n",
      "\n",
      "       -x STR        read type. Setting -x changes multiple parameters unless overridden [null]\n",
      "                     pacbio: -k17 -W40 -r10 -A1 -B1 -O1 -E1 -L0  (PacBio reads to ref)\n",
      "                     ont2d: -k14 -W20 -r10 -A1 -B1 -O1 -E1 -L0  (Oxford Nanopore 2D-reads to ref)\n",
      "                     intractg: -B9 -O16 -L5  (intra-species contigs to ref)\n",
      "\n",
      "Input/output options:\n",
      "\n",
      "       -p            smart pairing (ignoring in2.fq)\n",
      "       -R STR        read group header line such as '@RG\\tID:foo\\tSM:bar' [null]\n",
      "       -H STR/FILE   insert STR to header if it starts with @; or insert lines in FILE [null]\n",
      "       -o FILE       sam file to output results to [stdout]\n",
      "       -j            treat ALT contigs as part of the primary assembly (i.e. ignore <idxbase>.alt file)\n",
      "       -5            for split alignment, take the alignment with the smallest coordinate as primary\n",
      "       -q            don't modify mapQ of supplementary alignments\n",
      "       -K INT        process INT input bases in each batch regardless of nThreads (for reproducibility) []\n",
      "\n",
      "       -v INT        verbosity level: 1=error, 2=warning, 3=message, 4+=debugging [3]\n",
      "       -T INT        minimum score to output [30]\n",
      "       -h INT[,INT]  if there are <INT hits with score >80% of the max score, output all in XA [5,200]\n",
      "       -a            output all alignments for SE or unpaired PE\n",
      "       -C            append FASTA/FASTQ comment to SAM output\n",
      "       -V            output the reference FASTA header in the XR tag\n",
      "       -Y            use soft clipping for supplementary alignments\n",
      "       -M            mark shorter split hits as secondary\n",
      "\n",
      "       -I FLOAT[,FLOAT[,INT[,INT]]]\n",
      "                     specify the mean, standard deviation (10% of the mean if absent), max\n",
      "                     (4 sigma from the mean if absent) and min of the insert size distribution.\n",
      "                     FR orientation only. [inferred]\n",
      "\n",
      "Note: Please read the man page for detailed description of the command line and options.\n",
      "\n"
     ]
    },
    {
     "ename": "",
     "evalue": "1",
     "output_type": "error",
     "traceback": []
    }
   ],
   "source": [
    "# ml bwa\n",
    "bwa mem"
   ]
  },
  {
   "cell_type": "code",
   "execution_count": 7,
   "id": "704307b0-4662-4095-bb10-647ed2881d49",
   "metadata": {},
   "outputs": [
    {
     "name": "stdout",
     "output_type": "stream",
     "text": [
      "mkdir: created directory ‘/powerplant/workspace/hrasrb/Blueberry_trio/2024-03-12_mapping_rates/00.M7_combined’\n",
      "Submitted batch job 4691968\n"
     ]
    }
   ],
   "source": [
    "M71=/powerplant/input/genomic/plant/Vaccinium/corymbosum/ExperimentRequestor10969_NuixM7_TrioBin/816043/M7_L001_ds.588732e90e434df093aa5fbfe0ad68c2/M7_S1_L001_R1_001.fastq.gz\n",
    "M72=/powerplant/input/genomic/plant/Vaccinium/corymbosum/ExperimentRequestor10969_NuixM7_TrioBin/816043/M7_L001_ds.588732e90e434df093aa5fbfe0ad68c2/M7_S1_L001_R2_001.fastq.gz\n",
    "M73=/powerplant/input/genomic/plant/Vaccinium/corymbosum/ExperimentRequestor10969_NuixM7_TrioBin/816043/M7_L004_ds.3bb185df2b8c4f09a01f7279b8236997/M7_S1_L004_R1_001.fastq.gz\n",
    "M74=/powerplant/input/genomic/plant/Vaccinium/corymbosum/ExperimentRequestor10969_NuixM7_TrioBin/816043/M7_L004_ds.3bb185df2b8c4f09a01f7279b8236997/M7_S1_L004_R2_001.fastq.gz\n",
    "\n",
    "BASE=/powerplant/workspace/hrasrb/Blueberry_trio/2024-03-12_mapping_rates\n",
    "LOG=/powerplant/workspace/hrasrb/log\n",
    "\n",
    "OUTDIR=${BASE}/00.M7_combined\n",
    "\n",
    "mkdir -p -v ${OUTDIR}\n",
    "cd ${OUTDIR}\n",
    "\n",
    "# create and submit bash script\n",
    "sbatch --nice << EOF\n",
    "#!/bin/bash -e\n",
    "\n",
    "#SBATCH -J Combine_M7_reads\n",
    "#SBATCH --output=${LOG}/hrasrb_%j.out\n",
    "#SBATCH --error=${LOG}/hrasrb_%j.err\n",
    "#SBATCH --mail-user=Sarah.Bailey@plantandfood.co.nz\n",
    "#SBATCH --mail-type=ALL\n",
    "#SBATCH --time=24:00:00 # Walltime # change this\n",
    "#SBATCH --mem=4G # change this\n",
    "#SBATCH --cpus-per-task 1 # change this\n",
    "\n",
    "echo\n",
    "echo\n",
    "echo \"Combine Read 1 lane 1 & 4\"\n",
    "cat ${M71} ${M73} > ./M7_S1_L00X_R1_001.fastq.gz\n",
    "echo \"Done.\"\n",
    "echo\n",
    "echo\n",
    "echo \"Combine Read 2 lane 1 & 4\"\n",
    "cat ${M72} ${M74} > ./M7_S1_L00X_R2_001.fastq.gz\n",
    "echo \"Done.\"\n",
    "\n",
    "EOF\n"
   ]
  },
  {
   "cell_type": "code",
   "execution_count": 3,
   "id": "25d81242-7ffc-4267-a686-50b6355d540b",
   "metadata": {},
   "outputs": [
    {
     "name": "stdout",
     "output_type": "stream",
     "text": [
      "mkdir: created directory ‘/powerplant/workspace/hrasrb/Blueberry_trio/2024-03-12_mapping_rates/03.align_Nui_reads_stringent’\n",
      "SBATCH_ARGS: --time 24:00:00 --mem 8G --cpus-per-task=6 --mail-user=Sarah.Bailey@plantandfood.co.nz --mail-type=ALL\n",
      "JOB_ARRAY_NAME: alignment_array_Nui\n",
      "GROUP_SIZE: 3\n",
      "NUM_COMMANDS: 12\n",
      "ARRAY_SIZE: 4\n",
      "Submitted batch job 5177513\n"
     ]
    }
   ],
   "source": [
    "# M71=/powerplant/workspace/hrasrb/Blueberry_trio/2024-03-12_mapping_rates/00.M7_combined/M7_S1_L00X_R1_001.fastq.gz\n",
    "# M72=/powerplant/workspace/hrasrb/Blueberry_trio/2024-03-12_mapping_rates/00.M7_combined/M7_S1_L00X_R2_001.fastq.gz\n",
    "\n",
    "Nui1=/powerplant/input/genomic/plant/Vaccinium/corymbosum/ExperimentRequestor10969_NuixM7_TrioBin/816043/Nui_L001_ds.8485a4d14def4ea9ad3784b85fadd7a2/Nui_S2_L001_R1_001.fastq.gz\n",
    "Nui2=/powerplant/input/genomic/plant/Vaccinium/corymbosum/ExperimentRequestor10969_NuixM7_TrioBin/816043/Nui_L001_ds.8485a4d14def4ea9ad3784b85fadd7a2/Nui_S2_L001_R2_001.fastq.gz\n",
    "\n",
    "BASE=/powerplant/workspace/hrasrb/Blueberry_trio/2024-03-12_mapping_rates\n",
    "LOG=/powerplant/workspace/hrasrb/log\n",
    "\n",
    "# OUTDIR=${BASE}/01.align_M7_reads\n",
    "# OUTDIR=${BASE}/01.align_Nui_reads\n",
    "\n",
    "# OUTDIR=${BASE}/02.align_M7_reads_B40\n",
    "# OUTDIR=${BASE}/02.align_Nui_reads_B40\n",
    "\n",
    "# OUTDIR=${BASE}/03.align_M7_reads_stringent\n",
    "OUTDIR=${BASE}/03.align_Nui_reads_stringent\n",
    "\n",
    "mkdir -p -v ${OUTDIR}\n",
    "cd ${OUTDIR}\n",
    "\n",
    "# More stringent alignment: rm *vhttps://www.biostars.org/p/132681/\n",
    "# -L penalty for 5' & 3' clipping\n",
    "# -B penalty for mismatch\n",
    "# -O penalty for gaps open\n",
    "# -E penalty for extension\n",
    "\n",
    "# load packages\n",
    "ml bwa/0.7.17\n",
    "ml samtools/1.16\n",
    "\n",
    "FILE=${BASE}/cleaned_assemblies.fofn\n",
    "cat $FILE | while read line\n",
    "do\n",
    "    PREFIX=$(basename ${line} .fa)\n",
    "    echo \"bwa mem -B 40 -O 60 -E 10 -L100 -t 8 \"${BASE}/${PREFIX}.index\" ${Nui1} ${Nui2} > \"${PREFIX}.sam\"\"\n",
    "    echo \"samtools sort --threads 8 \"${PREFIX}.sam\" -l 1 -o \"${PREFIX}.sorted.bam\" -O bam\"\n",
    "    echo \"rm \"${PREFIX}.sam\"\"\n",
    "done | abatch -j alignment_array_Nui -g 3 --time 24:00:00 --mem 8G --cpus-per-task=6 --mail-user=Sarah.Bailey@plantandfood.co.nz --mail-type=ALL | sbatch --nice --dependency=afterany:5177509\n",
    "\n",
    "module unload samtools/1.16\n",
    "module unload bwa/0.7.17\n",
    "\n",
    "cd ${BASE}"
   ]
  },
  {
   "cell_type": "code",
   "execution_count": 7,
   "id": "df40cbe7-3b71-46b6-9adb-b0c5019b1edf",
   "metadata": {},
   "outputs": [
    {
     "name": "stdout",
     "output_type": "stream",
     "text": [
      "SBATCH_ARGS: --time 01:00:00 --mem 50M --cpus-per-task=1 --mail-user=Sarah.Bailey@plantandfood.co.nz --mail-type=ALL\n",
      "JOB_ARRAY_NAME: samtools_array_Nui\n",
      "GROUP_SIZE: 1\n",
      "NUM_COMMANDS: 4\n",
      "Submitted batch job 5177517\n"
     ]
    }
   ],
   "source": [
    "BASE=/powerplant/workspace/hrasrb/Blueberry_trio/2024-03-12_mapping_rates\n",
    "LOG=/powerplant/workspace/hrasrb/log\n",
    "\n",
    "# OUTDIR=${BASE}/01.align_M7_reads\n",
    "# OUTDIR=${BASE}/01.align_Nui_reads\n",
    "# OUTDIR=${BASE}/02.align_M7_reads_B40\n",
    "# OUTDIR=${BASE}/02.align_Nui_reads_B40\n",
    "# OUTDIR=${BASE}/03.align_M7_reads_stringent\n",
    "OUTDIR=${BASE}/03.align_Nui_reads_stringent\n",
    "\n",
    "mkdir -p -v ${OUTDIR}\n",
    "cd ${OUTDIR}\n",
    "\n",
    "# load packages\n",
    "ml samtools/1.16\n",
    "\n",
    "FILE=${BASE}/cleaned_assemblies.fofn\n",
    "cat $FILE | while read line\n",
    "do\n",
    "    PREFIX=$(basename ${line} .fa)\n",
    "    echo \"samtools flagstat \"${PREFIX}.sorted.bam\" > \"${PREFIX}.flagstat.stringent.txt\"\"\n",
    "done | abatch -j samtools_array_Nui --time 01:00:00 --mem 50M --cpus-per-task=1 --mail-user=Sarah.Bailey@plantandfood.co.nz --mail-type=ALL | sbatch --nice --dependency=afterok:5177513\n",
    "\n",
    "module unload samtools/1.16\n",
    "\n",
    "cd ${BASE}\n",
    "#     echo \"samtools sort -n \"${PREFIX}.sorted.bam\" -@ 8 -o \"${BASE}.nsorted.bam\"\"\n",
    "#     echo \"samtools fixmate \"${PREFIX}.nsorted.bam\" -@ 8 \"${BASE}.sorted.fixmate.bam\"\"\n",
    "#     echo \"samtools index -@ 4 \"${PREFIX}.sorted.bam\"\"\n",
    "#     echo \"samtools view -q 20 \"${PREFIX}.sorted.bam\" -o \"${PREFIX}.sorted.filtered.bam\"\""
   ]
  },
  {
   "cell_type": "code",
   "execution_count": 4,
   "id": "d79597d7-a5be-474f-83d5-af4942dd185f",
   "metadata": {},
   "outputs": [
    {
     "name": "stdout",
     "output_type": "stream",
     "text": [
      "             JOBID PARTITION     NAME     USER ST       TIME  NODES NODELIST(REASON)\n",
      "     4709736_[1-4]      fast samtools   hrasrb PD       0:00      1 (BeginTime)\n",
      "     4709735_[1-4]      fast samtools   hrasrb PD       0:00      1 (BeginTime)\n",
      "           4693027    medium    BMARK   hrasrb  R 1-23:06:45      1 aklppb41\n",
      "           4709732     short genomeco   hrasrb PD       0:00      1 (Priority)\n",
      "           4707569     short nf-SV_BE   hrasrb  R   19:05:59      1 wkoppb30\n"
     ]
    }
   ],
   "source": [
    "squeue -u hrasrb"
   ]
  }
 ],
 "metadata": {
  "kernelspec": {
   "display_name": "Bash",
   "language": "bash",
   "name": "bash"
  },
  "language_info": {
   "codemirror_mode": "shell",
   "file_extension": ".sh",
   "mimetype": "text/x-sh",
   "name": "bash"
  }
 },
 "nbformat": 4,
 "nbformat_minor": 5
}
