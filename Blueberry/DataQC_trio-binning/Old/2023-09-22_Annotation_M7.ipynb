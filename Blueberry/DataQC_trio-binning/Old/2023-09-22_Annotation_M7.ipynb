{
 "cells": [
  {
   "cell_type": "markdown",
   "id": "6d33bc5f-b2ab-492b-908d-9b77cbe81c07",
   "metadata": {},
   "source": [
    "# Annotation of M7xNui genome\n",
    "\n",
    "#### Triobinning has given us diploid assemblies of each Haplotype. Going to annotate the genome on each of these seperately.\n",
    "\n",
    "#### M7"
   ]
  },
  {
   "cell_type": "code",
   "execution_count": 5,
   "id": "72ad2f8d-579f-4667-b9ab-fce5fd80b1b2",
   "metadata": {},
   "outputs": [],
   "source": [
    "WKDIR=/workspace/hraijc/Blueberry/Blueberry_trio/annotation\n",
    "# SET UP\n",
    "hdir=\"/workspace/hraijc/Blueberry/Blueberry_trio/annotation/Annotation_Pipeline_2023_M7\"\n",
    "gdir=\"${hdir}/genome\"\n",
    "rnaseqdir=\"/workspace/hraijc/Blueberry/Blueberry_trio/annotation/RNASeq/M7\"\n",
    "#oref=\"/workspace/cflthc/scratch/2022_Actinidia_TE/08.02_RepeatMasker/CK/CK6901M.chromosomes.only.fa.masked\"\n",
    "#tinyref=\"${hdir}/genome/CK6901M.chr6.masked.fa\"\n",
    "reads=\"${hdir}/rnaseq\"\n",
    "trim_reads=\"${hdir}/rnaseq/trim\"\n",
    "trinitydir=\"${hdir}/transcriptAssembly\"\n",
    "pasa_dir=\"${hdir}/pasa\"\n",
    "braker_dir=\"${hdir}/braker\"\n",
    "mapping_dir=\"${hdir}/mapping\"\n",
    "#oredref=\"/workspace/cflthc/scratch/2022_Actinidia_TE/08.02_RepeatMasker/RE/Red5.chromosomes.only.fa.masked\"\n",
    "#redref=\"${hdir}/genome/Red5.chromosomes.only.masked.fa\""
   ]
  },
  {
   "cell_type": "code",
   "execution_count": null,
   "id": "5f9eecb2-1800-4be3-8e1c-7f89ee5c91ba",
   "metadata": {},
   "outputs": [],
   "source": []
  },
  {
   "cell_type": "code",
   "execution_count": 2,
   "id": "10deba8e-5c3a-41ca-b5bc-58c8191a5142",
   "metadata": {},
   "outputs": [],
   "source": [
    "mkdir -p ${WKDIR}/log"
   ]
  },
  {
   "cell_type": "markdown",
   "id": "284ebfa8-a11a-4d0c-af80-c2113dce457f",
   "metadata": {},
   "source": [
    "### M7 RNA Data"
   ]
  },
  {
   "cell_type": "code",
   "execution_count": 9,
   "id": "310ca6a5-72cd-4adb-a08b-3fa591a34db3",
   "metadata": {},
   "outputs": [
    {
     "name": "stdout",
     "output_type": "stream",
     "text": [
      "checksums.md5\n",
      "M7_HLW3KDSX7_TACGTGAAGG-CTAATAACCG_L001_R1.fastq.gz\n",
      "M7_HLW3KDSX7_TACGTGAAGG-CTAATAACCG_L001_R2.fastq.gz\n",
      "M7_HLW3KDSX7_TACGTGAAGG-CTAATAACCG_L002_R1.fastq.gz\n",
      "M7_HLW3KDSX7_TACGTGAAGG-CTAATAACCG_L002_R2.fastq.gz\n"
     ]
    }
   ],
   "source": [
    "# M7 RNA Data:\n",
    "# Both files are from the same Stage 8 berry mRNA seq.\n",
    "ls /input/genomic/plant/Vaccinium/corymbosum/ExperimentRequestor11039_M7_BerrymRNA/AGRF_CAGRF230715384_HLW3KDSX7/\n",
    "# Cat files together here:\n",
    "ls /workspace/hraijc/Blueberry/Blueberry_trio/annotation/RNASeq/M7"
   ]
  },
  {
   "cell_type": "code",
   "execution_count": 10,
   "id": "41410ad2-be23-422a-b9fe-334333073208",
   "metadata": {},
   "outputs": [
    {
     "name": "stdout",
     "output_type": "stream",
     "text": [
      "Submitted batch job 2006141\n"
     ]
    }
   ],
   "source": [
    "\n",
    "sbatch << EOF\n",
    "#!/bin/bash\n",
    "#SBATCH -J cat_input\n",
    "#SBATCH -o ${WKDIR}/log/%J.out\n",
    "#SBATCH -e ${WKDIR}/log/%J.err\n",
    "#SBATCH --cpus-per-task=1\n",
    "#SBATCH --mem=1G\n",
    "#SBATCH --time=01:10:00\n",
    "\n",
    "cat /input/genomic/plant/Vaccinium/corymbosum/ExperimentRequestor11039_M7_BerrymRNA/AGRF_CAGRF230715384_HLW3KDSX7/M7_HLW3KDSX7_TACGTGAAGG-CTAATAACCG_L001_R1.fastq.gz /input/genomic/plant/Vaccinium/corymbosum/ExperimentRequestor11039_M7_BerrymRNA/AGRF_CAGRF230715384_HLW3KDSX7/M7_HLW3KDSX7_TACGTGAAGG-CTAATAACCG_L002_R1.fastq.gz > /workspace/hraijc/Blueberry/Blueberry_trio/annotation/RNASeq/M7/M7_RNA_R1.fastq.gz\n",
    "cat /input/genomic/plant/Vaccinium/corymbosum/ExperimentRequestor11039_M7_BerrymRNA/AGRF_CAGRF230715384_HLW3KDSX7/M7_HLW3KDSX7_TACGTGAAGG-CTAATAACCG_L001_R2.fastq.gz /input/genomic/plant/Vaccinium/corymbosum/ExperimentRequestor11039_M7_BerrymRNA/AGRF_CAGRF230715384_HLW3KDSX7/M7_HLW3KDSX7_TACGTGAAGG-CTAATAACCG_L002_R2.fastq.gz > /workspace/hraijc/Blueberry/Blueberry_trio/annotation/RNASeq/M7/M7_RNA_R2.fastq.gz\n",
    "\n",
    "\n",
    "\n",
    "\n",
    "EOF"
   ]
  },
  {
   "cell_type": "markdown",
   "id": "e6e3a0fb-4644-465c-9ba6-3c62625c3d58",
   "metadata": {},
   "source": [
    "# Annotation Pipeline | M7"
   ]
  },
  {
   "cell_type": "code",
   "execution_count": 6,
   "id": "e7411967-d4f0-445c-a7d5-590c9d804d9a",
   "metadata": {},
   "outputs": [],
   "source": [
    "##Bench test # First we are using Chromomsome 6 of the CK6901M genome and a subset of RNA-seq samples including shoot, root,leaf,fruit,flower and cane # Extract Chr6 of CK6901M\n",
    "module load samtools\n",
    "mkdir -p $hdir\n",
    "mkdir -p $gdir\n",
    "mkdir -p $reads\n",
    "mkdir -p $trim_reads \n",
    "#copy genome to working dir and renome slightly\n",
    "#cp $oref /workspace/hrtjbs/Annotation_Pipeline_2023/genome/CK6901M.chromosomes.only.masked.fa\n",
    "#samtools faidx /workspace/hrtjbs/Annotation_Pipeline_2023/genome/CK6901M.chromosomes.only.masked.fa\n",
    "#samtools faidx /workspace/hrtjbs/Annotation_Pipeline_2023/genome/CK6901M.chromosomes.only.masked.fa  chr6 > $tinyref"
   ]
  },
  {
   "cell_type": "code",
   "execution_count": 6,
   "id": "4079ecd1-7a97-4888-9fcc-6afb8d71e68b",
   "metadata": {},
   "outputs": [],
   "source": [
    "#Get RNA-seq reads\n",
    "#for i in `ls $rnaseqdir | grep -E 'cane3|Flower11|Root1_|shoot5|Fruit_T115|Sink10'`\n",
    "for i in `ls $rnaseqdir`\n",
    "do cp  $rnaseqdir/$i $reads/\n",
    "done"
   ]
  },
  {
   "cell_type": "code",
   "execution_count": 7,
   "id": "62683e5b-c722-414d-b75c-3b948c181a9d",
   "metadata": {},
   "outputs": [
    {
     "name": "stdout",
     "output_type": "stream",
     "text": [
      "Submitted batch job 2062170\n"
     ]
    }
   ],
   "source": [
    "#Trim reads\n",
    "cd $hdir\n",
    "readarray -t r1s < <(ls $reads/*1.fastq.gz)\n",
    "readarray -t r2s < <(ls $reads/*2.fastq.gz)\n",
    "readarray -t sn < <(ls  $reads/*1.fastq.gz | awk -F \"/\" '{print $NF}' | awk -F \"_\" '{print$1}')\n",
    "\n",
    "for ((i=0;i<${#r1s[@]};i++));\n",
    "do \n",
    "\n",
    "cat << EOF >  ${sn[$i]}.trim.sl\n",
    "#!/bin/bash -e\n",
    "#SBATCH -J ${sn[$i]}\n",
    "#SBATCH --output=${sn[$i]}.trim.out\n",
    "#SBATCH --error=${sn[$i]}.trim.err\n",
    "#SBATCH --cpus-per-task=8\n",
    "#SBATCH --mem=16G\n",
    "#SBATCH --time=12:00:00\n",
    "\n",
    "module load fastp/0.23.2\n",
    "\n",
    "fastp -l 20 -w 8 -i ${r1s[$i]} \\\n",
    "-I  ${r2s[$i]} -o $trim_reads/${sn[$i]}.fastp.R1.fq.gz -O $trim_reads/${sn[$i]}.fastp.R2.fq.gz\n",
    "EOF\n",
    "sbatch ${sn[$i]}.trim.sl\n",
    "done"
   ]
  },
  {
   "cell_type": "code",
   "execution_count": 7,
   "id": "fc3b681a-a805-4a5c-8914-0a69d4bbfdc0",
   "metadata": {},
   "outputs": [
    {
     "name": "stdout",
     "output_type": "stream",
     "text": [
      "Submitted batch job 2062283\n"
     ]
    }
   ],
   "source": [
    "#Generate de-novo transcriptome assembly with Trinity\n",
    "\n",
    "mkdir -p $trinitydir\n",
    "cd $trinitydir\n",
    "\n",
    "\n",
    "readarray -t r1trimmed < <(ls $trim_reads/*.R1.fq.gz )\n",
    "readarray -t r2trimmed < <(ls $trim_reads/*.R2.fq.gz )\n",
    "\n",
    "cat << EOF > trinityDenovo.sl\n",
    "#!/bin/bash -e\n",
    "#SBATCH -J Trinity\n",
    "#SBATCH --output=TrinityDn.out\n",
    "#SBATCH --error=TrinityDn.err\n",
    "#SBATCH --cpus-per-task=16\n",
    "#SBATCH --mem=100G\n",
    "#SBATCH --time=7-00:00:00\n",
    "\n",
    "module load  trinityrnaseq/2.14.0\n",
    "\n",
    "trinityrnaseq.v2.14.0.sif \\\n",
    "--seqType fq \\\n",
    "--left  `echo ${r1trimmed[@]} | tr ' ' ',' | sed 's/,$//g'` \\\n",
    "--right `echo ${r2trimmed[@]} | tr ' ' ',' | sed 's/,$//g'` \\\n",
    "--max_memory 96G \\\n",
    "--SS_lib_type RF \\\n",
    "--CPU 16 \\\n",
    "--min_contig_length 250 \\\n",
    "--output $trinitydir/trinity.out\n",
    "EOF\n",
    "sbatch trinityDenovo.sl\n"
   ]
  },
  {
   "cell_type": "code",
   "execution_count": null,
   "id": "c3cacee8-eb6f-42df-99b1-4800563b03c6",
   "metadata": {},
   "outputs": [],
   "source": [
    "#Clean trinity transcripts with Evigene\n",
    "cd $hdir\n",
    "\n",
    "mkdir -p clean_trans\n",
    "cd clean_trans\n",
    "\n",
    "cat << 'EOF' > Evigene.sl\n",
    "#!/bin/bash -e\n",
    "#SBATCH -J eviG\n",
    "#SBATCH --output=eviG.out\n",
    "#SBATCH --error=eviG.err\n",
    "#SBATCH --cpus-per-task=24\n",
    "#SBATCH --mem=48G\n",
    "#SBATCH --time=08:00:00\n",
    "\n",
    "module load  evigene/30-07-2021\n",
    "tr2aacds.pl -tidy -NCPU=24 -MAXMEM=24000 -log -debug  -cdna /workspace/hrtjbs/Annotation_Pipeline_2023/transcriptAssembly/trinity.out.Trinity.fasta\n",
    "EOF\n",
    "sbatch Evigene.sl\n"
   ]
  },
  {
   "cell_type": "code",
   "execution_count": null,
   "id": "c89d216d-181c-45f3-a35b-220f9e7372a4",
   "metadata": {},
   "outputs": [],
   "source": [
    "#prepare configs and directory structure for pasa\n",
    "\n",
    "runID=\"R1_chr6\"\n",
    "\n",
    "mkdir -p $pasa_dir/$runID\\_tmp\n",
    "mkdir -p $pasa_dir/$runID\\_work\n",
    "\n",
    "cd $pasa_dir/$runID\\_work\n",
    "\n",
    "#copy the input files required \n",
    "\n",
    "cp /workspace/hrtjbs/Annotation_Pipeline_2023/clean_trans/okayset/trinity.out.Trinity.okay.out.Trinity.cds clean.transcripts.fasta\n",
    "cp $tinyref genome.fasta\n",
    "\n",
    "# make the sqlite3 file\n",
    "touch $runID.db\n",
    "\n",
    "#edit the conf files to point to the sql db\n",
    "\n",
    "sed  \"s|DATABASE=.*|DATABASE=$pasadir/$runID\\_work/$runID.db|g\" /workspace/hrtjbs/github_pasa/work_Neo_R2/conf.txt > conf.txt\n",
    "sed  \"s|DATABASE=.*|DATABASE=$pasadir/$runID\\_work/$runID.db|g\" /workspace/hrtjbs/github_pasa/work_Neo_R2/pasa.annotationCompare.conf.txt > pasa.annotationCompare.conf.txt\n",
    "sed  \"s|DATABASE=.*|DATABASE=$pasadir/$runID\\_work/$runID.db|g\" /workspace/hrtjbs/github_pasa/work_Neo_R2/pasa.alignAssembly.conf.txt > pasa.alignAssembly.conf.txt\n",
    "\n",
    "\n",
    "\n",
    "cat conf.txt\n",
    "cat pasa.annotationCompare.conf.txt\n",
    "cat pasa.alignAssembly.conf.txt\n"
   ]
  },
  {
   "cell_type": "code",
   "execution_count": null,
   "id": "fab07cc1-8488-4d2b-bdf3-3a73b74c7097",
   "metadata": {},
   "outputs": [],
   "source": [
    "#Run Pasa aligner (to map clean trinity transcripts to genome)\n",
    "\n",
    "cd /workspace/hrtjbs/Annotation_Pipeline_2023/pasa/R1_chr6_work\n",
    "cat << EOF > PASA.sl\n",
    "#!/bin/bash -e\n",
    "#SBATCH -J pasa\n",
    "#SBATCH --output=PASAalign.out\n",
    "#SBATCH --error=PASAalign.err\n",
    "#SBATCH --cpus-per-task=24\n",
    "#SBATCH --mem=48G\n",
    "#SBATCH --time=23:00:00\n",
    "\n",
    "#align the seqs \n",
    "singularity exec -B /workspace/hrtjbs/Annotation_Pipeline_2023/pasa/R1_chr6_tmp:/workspace/hrtjbs/Annotation_Pipeline_2023/pasa/R1_chr6_tmp \\\n",
    "-B /workspace/hrtjbs/Annotation_Pipeline_2023/pasa/R1_chr6_work:/workspace/hrtjbs/Annotation_Pipeline_2023/pasa/R1_chr6_work \\\n",
    "/workspace/hrtjbs/github_pasa/pasapipeline_latest.sif \\\n",
    "bash -c 'cd /workspace/hrtjbs/Annotation_Pipeline_2023/pasa/R1_chr6_work && /usr/local/src/PASApipeline/Launch_PASA_pipeline.pl \\\n",
    "--MAX_INTRON_LENGTH 25000 \\\n",
    "-c conf.txt \\\n",
    "--TRANSDECODER \\\n",
    "-C \\\n",
    "-R \\\n",
    "--ALIGNER gmap,blat \\\n",
    "--CPU 24 \\\n",
    "-g genome.fasta \\\n",
    "--stringent_alignment_overlap 30.0 \\\n",
    "-t clean.transcripts.fasta'\n",
    "EOF\n",
    "\n",
    "sbatch PASA.sl"
   ]
  },
  {
   "cell_type": "code",
   "execution_count": null,
   "id": "645470c1-aa51-4266-aeb0-94357ccdb509",
   "metadata": {},
   "outputs": [],
   "source": [
    "#Genrate training prots to be used by Braker3\n",
    "\n",
    "\n",
    "cd /workspace/hrtjbs/Annotation_Pipeline_2023/pasa/R1_chr6_work\n",
    "\n",
    "\n",
    "singularity exec -B /workspace/hrtjbs/Annotation_Pipeline_2023/pasa/R1_chr6_tmp:/workspace/hrtjbs/Annotation_Pipeline_2023/pasa/R1_chr6_tmp \\\n",
    "-B /workspace/hrtjbs/Annotation_Pipeline_2023/pasa/R1_chr6_work:/workspace/hrtjbs/Annotation_Pipeline_2023/pasa/R1_chr6_work \\\n",
    "/workspace/hrtjbs/github_pasa/pasapipeline_latest.sif \\\n",
    "bash -c 'cd /workspace/hrtjbs/Annotation_Pipeline_2023/pasa/R1_chr6_work  && /usr/local/src/PASApipeline/scripts/pasa_asmbls_to_training_set.dbi --pasa_transcripts_fasta /workspace/hrtjbs/Annotation_Pipeline_2023/pasa/R1_chr6_work/R1_chr6.db.assemblies.fasta --pasa_transcripts_gff3 /workspace/hrtjbs/Annotation_Pipeline_2023/pasa/R1_chr6_work/R1_chr6.db.pasa_assemblies.gff3'"
   ]
  },
  {
   "cell_type": "code",
   "execution_count": null,
   "id": "fec57fd0-26c2-4ca4-a2f0-03f274bc50aa",
   "metadata": {},
   "outputs": [],
   "source": [
    "#Get the complete proteins only\n",
    "\n",
    "\n",
    "mkdir -p /workspace/hrtjbs/Annotation_Pipeline_2023/trainingprots\n",
    "cd  /workspace/hrtjbs/Annotation_Pipeline_2023/trainingprots\n",
    "module load samtools\n",
    "samtools faidx /workspace/hrtjbs/Annotation_Pipeline_2023/pasa/R1_chr6_work/R1_chr6.db.assemblies.fasta.transdecoder.pep\n",
    "grep \"complete\" /workspace/hrtjbs/Annotation_Pipeline_2023/pasa/R1_chr6_work/R1_chr6.db.assemblies.fasta.transdecoder.pep | awk '{print$1}' | sed s'/>//g'  > /workspace/hrtjbs/Annotation_Pipeline_2023/trainingprots/keep.me.pasa\n",
    "xargs samtools faidx /workspace/hrtjbs/Annotation_Pipeline_2023/pasa/R1_chr6_work/R1_chr6.db.assemblies.fasta.transdecoder.pep < /workspace/hrtjbs/Annotation_Pipeline_2023/trainingprots/keep.me.pasa > /workspace/hrtjbs/Annotation_Pipeline_2023/trainingprots/pasa.complete.pep.faa"
   ]
  },
  {
   "cell_type": "code",
   "execution_count": null,
   "id": "5cfeb459-2f95-4fe4-bb97-fe3ab8797c0b",
   "metadata": {},
   "outputs": [],
   "source": [
    "#Mapo RNA-seq reads too re genome (first generate star index)\n",
    "\n",
    "mkdir -p $mapping_dir\n",
    "cd $mapping_dir\n",
    "cat << EOF >  StarGenerate.sl\n",
    "#!/bin/bash -e\n",
    "#SBATCH -J generate\n",
    "#SBATCH --output=generate.out\n",
    "#SBATCH --error=generate.err\n",
    "#SBATCH --cpus-per-task=8\n",
    "#SBATCH --mem=32G\n",
    "#SBATCH --time=12:00:00\n",
    "\n",
    "module load  STAR/2.7.10a\n",
    "STAR --runThreadN 8 \\\n",
    "--runMode genomeGenerate \\\n",
    "--genomeSAindexNbases 11 \\\n",
    "--genomeDir /workspace/hrtjbs/Annotation_Pipeline_2023/genome/ \\\n",
    "--genomeFastaFiles /workspace/hrtjbs/Annotation_Pipeline_2023/genome/CK6901M.chr6.masked.fa\n",
    "EOF\n",
    "sbatch StarGenerate.sl"
   ]
  },
  {
   "cell_type": "code",
   "execution_count": null,
   "id": "09206f02-deba-45a0-8d17-ccfbda559165",
   "metadata": {},
   "outputs": [],
   "source": [
    "## Map RNA-seq reads to genome (note outSAMstrandField ‘intronMotif’ is crucial for braker3)\n",
    "\n",
    "mkdir -p $mapping_dir\n",
    "cd $mapping_dir\n",
    "readarray -t r1trimmed < <(ls /workspace/hrtjbs/Annotation_Pipeline_2023/rnaseq/trim/*.R1.fq.gz )\n",
    "readarray -t r2trimmed < <(ls /workspace/hrtjbs/Annotation_Pipeline_2023/rnaseq/trim/*.R2.fq.gz )\n",
    "readarray -t sn < <(ls /workspace/hrtjbs/Annotation_Pipeline_2023/rnaseq/trim/*.R1.fq.gz | awk -F \".\" '{print$1}' | awk -F \"/\" '{print$NF}')\n",
    "\n",
    "for ((i=0;i<${#r1trimmed[@]};i++));\n",
    "do \n",
    "\n",
    "cat << EOF >  ${sn[$i]}.star.sl\n",
    "#!/bin/bash -e\n",
    "#SBATCH -J ${sn[$i]}\n",
    "#SBATCH --output=${sn[$i]}.trim.out\n",
    "#SBATCH --error=${sn[$i]}.trim.err\n",
    "#SBATCH --cpus-per-task=8\n",
    "#SBATCH --mem=16G\n",
    "#SBATCH --time=48:00:00\n",
    "\n",
    "module load  STAR/2.7.10a\n",
    "cd $mapping_dir\n",
    "STAR --runThreadN 8 \\\n",
    "--readFilesCommand zcat \\\n",
    "--readFilesIn  ${r1trimmed[$i]}  ${r2trimmed[$i]} \\\n",
    "--genomeDir /workspace/hrtjbs/Annotation_Pipeline_2023/genome \\\n",
    "--outSAMstrandField intronMotif \\\n",
    "--outSAMtype BAM SortedByCoordinate \\\n",
    "--outFileNamePrefix ${sn[$i]} \\\n",
    "--outSAMunmapped Within\n",
    "EOF\n",
    "done"
   ]
  },
  {
   "cell_type": "code",
   "execution_count": null,
   "id": "900549f0-2264-4877-99c8-651b1b73dd15",
   "metadata": {},
   "outputs": [],
   "source": [
    "#Fetch orthodb proteins for use with the braker annotation and merge with the proteins created with trintiy / pasa\n",
    "cd /workspace/hrtjbs/Annotation_Pipeline_2023/trainingprots\n",
    "\n",
    "wget https://bioinf.uni-greifswald.de/bioinf/partitioned_odb11/Viridiplantae.fa.gz .\n",
    "gunzip Viridiplantae.fa.gz\n",
    "cat Viridiplantae.fa pasa.complete.pep.faa > viridiplanta.odb11.plus.pasa.fa"
   ]
  },
  {
   "cell_type": "code",
   "execution_count": null,
   "id": "432f6545-fe64-416b-ba6c-c4d40d3c70e4",
   "metadata": {},
   "outputs": [],
   "source": [
    "#Run braker 3 (This run includes proteins from orthodb + prots generted with trinity pasa + mapped rna-seq reads )\n",
    "mkdir -p $braker_dir/R1\n",
    "\n",
    "cd $braker_dir/R1\n",
    "cp /workspace/hrtjbs/Annotation_Pipeline_2023/genome/CK6901M.chr6.masked.fa genome.fasta\n",
    " \n",
    "#copy over the training prots\n",
    "\n",
    "cp /workspace/hrtjbs/Annotation_Pipeline_2023/trainingprots/viridiplanta.odb11.plus.pasa.fa .\n",
    "\n",
    "cat << 'EOF' > Braker3_R1.sl\n",
    "#!/bin/bash -e\n",
    "#SBATCH -J Braker3\n",
    "#SBATCH --output=braker3_R1.out\n",
    "#SBATCH --error=braker3_R1.err\n",
    "#SBATCH --cpus-per-task=16\n",
    "#SBATCH --mem=32G\n",
    "#SBATCH --time=01-00:00:00\n",
    "\n",
    "module load conda\n",
    "conda deactivate \n",
    "module load pfr-python3/3.9.13\n",
    "module load samtools/1.16\n",
    "module load singularity/3\n",
    "\n",
    "singularity exec -B /workspace/hrtjbs/Annotation_Pipeline_2023/braker/R1:/workspace/hrtjbs/Annotation_Pipeline_2023/braker/R1 \\\n",
    "-B /workspace/hrtjbs/Annotation_Pipeline_2023/mapping:/workspace/hrtjbs/Annotation_Pipeline_2023/mapping \\\n",
    "-B /workspace/hrtjbs/augustus/:/workspace/hrtjbs/augustus/ \\\n",
    "/workspace/hrtjbs/software/braker3.sif braker.pl \\\n",
    "--AUGUSTUS_CONFIG_PATH=/workspace/hrtjbs/augustus/config \\\n",
    "--species=CK6901M_R1 \\\n",
    "--gff3 \\\n",
    "--genome=genome.fasta \\\n",
    "--prot_seq=viridiplanta.odb11.plus.pasa.fa \\\n",
    "--alternatives-from-evidence=true \\\n",
    "--rnaseq_sets_ids=cane3Aligned.sortedByCoord.out,Flower11Aligned.sortedByCoord.out,FruitAligned.sortedByCoord.out,LeafAligned.sortedByCoord.out,Root1Aligned.sortedByCoord.out,shoot5Aligned.sortedByCoord.out \\\n",
    "--rnaseq_sets_dirs=/workspace/hrtjbs/Annotation_Pipeline_2023/mapping \\\n",
    "--workingdir=/workspace/hrtjbs/Annotation_Pipeline_2023/braker/R1 \\\n",
    "--GENEMARK_PATH=${ETP}/gmes \\\n",
    "--threads 16\n",
    "EOF\n",
    "\n",
    "sbatch Braker3_R1.sl\n"
   ]
  },
  {
   "cell_type": "code",
   "execution_count": null,
   "id": "b3f61a58-f097-4b8b-b1d0-20be0ad16e93",
   "metadata": {},
   "outputs": [],
   "source": [
    "#run braker3 again using just the proteins generated with pasa + trinity + mapped rna-seq reads but without no orthodb prots\n",
    "\n",
    "mkdir -p $braker_dir/R2\n",
    "\n",
    "cd $braker_dir/R2\n",
    "cp /workspace/hrtjbs/Annotation_Pipeline_2023/genome/CK6901M.chr6.masked.fa genome.fasta\n",
    " \n",
    "#copy over the training prots\n",
    "\n",
    "cp /workspace/hrtjbs/Annotation_Pipeline_2023/trainingprots/pasa.complete.pep.faa .\n",
    "\n",
    "cat << 'EOF' > Braker3_R2.sl\n",
    "#!/bin/bash -e\n",
    "#SBATCH -J Braker3\n",
    "#SBATCH --output=braker3_R2.out\n",
    "#SBATCH --error=braker3_R2.err\n",
    "#SBATCH --cpus-per-task=16\n",
    "#SBATCH --mem=32G\n",
    "#SBATCH --time=01-00:00:00\n",
    "\n",
    "module load conda\n",
    "conda deactivate \n",
    "module load pfr-python3/3.9.13\n",
    "module load samtools/1.16\n",
    "module load singularity/3\n",
    "\n",
    "singularity exec -B /workspace/hrtjbs/Annotation_Pipeline_2023/braker/R2:/workspace/hrtjbs/Annotation_Pipeline_2023/braker/R2 \\\n",
    "-B /workspace/hrtjbs/Annotation_Pipeline_2023/mapping:/workspace/hrtjbs/Annotation_Pipeline_2023/mapping \\\n",
    "-B /workspace/hrtjbs/augustus/:/workspace/hrtjbs/augustus/ \\\n",
    "/workspace/hrtjbs/software/braker3.sif braker.pl \\\n",
    "--AUGUSTUS_CONFIG_PATH=/workspace/hrtjbs/augustus/config \\\n",
    "--species=CK6901M_R2 \\\n",
    "--gff3 \\\n",
    "--genome=genome.fasta \\\n",
    "--prot_seq=pasa.complete.pep.faa \\\n",
    "--alternatives-from-evidence=true \\\n",
    "--rnaseq_sets_ids=cane3Aligned.sortedByCoord.out,Flower11Aligned.sortedByCoord.out,FruitAligned.sortedByCoord.out,LeafAligned.sortedByCoord.out,Root1Aligned.sortedByCoord.out,shoot5Aligned.sortedByCoord.out \\\n",
    "--rnaseq_sets_dirs=/workspace/hrtjbs/Annotation_Pipeline_2023/mapping \\\n",
    "--workingdir=/workspace/hrtjbs/Annotation_Pipeline_2023/braker/R2 \\\n",
    "--GENEMARK_PATH=${ETP}/gmes \\\n",
    "--threads 16\n",
    "EOF\n",
    "\n",
    "sbatch Braker3_R2.sl"
   ]
  },
  {
   "cell_type": "code",
   "execution_count": null,
   "id": "69302f10-fd07-4184-8db1-51456e83f826",
   "metadata": {},
   "outputs": [],
   "source": [
    "#Run braker3 again using just the mapped rna-seq reads and the orthodb prots\n",
    "\n",
    "mkdir -p $braker_dir/R3\n",
    "\n",
    "cd $braker_dir/R3\n",
    "cp /workspace/hrtjbs/Annotation_Pipeline_2023/genome/CK6901M.chr6.masked.fa genome.fasta\n",
    " \n",
    "copy over the training prots\n",
    "\n",
    "cp /workspace/hrtjbs/Annotation_Pipeline_2023/trainingprots/Viridiplantae.fa .\n",
    "\n",
    "cat << 'EOF' > Braker3_R3.sl\n",
    "#!/bin/bash -e\n",
    "#SBATCH -J Braker3\n",
    "#SBATCH --output=braker3_R3.out\n",
    "#SBATCH --error=braker3_R3.err\n",
    "#SBATCH --cpus-per-task=16\n",
    "#SBATCH --mem=32G\n",
    "#SBATCH --time=12:00:00\n",
    "\n",
    "module load conda\n",
    "conda deactivate \n",
    "module load pfr-python3/3.9.13\n",
    "module load samtools/1.16\n",
    "module load singularity/3\n",
    "\n",
    "singularity exec -B /workspace/hrtjbs/Annotation_Pipeline_2023/braker/R3:/workspace/hrtjbs/Annotation_Pipeline_2023/braker/R3 \\\n",
    "-B /workspace/hrtjbs/Annotation_Pipeline_2023/mapping:/workspace/hrtjbs/Annotation_Pipeline_2023/mapping \\\n",
    "-B /workspace/hrtjbs/augustus/:/workspace/hrtjbs/augustus/ \\\n",
    "/workspace/hrtjbs/software/braker3.sif braker.pl \\\n",
    "--AUGUSTUS_CONFIG_PATH=/workspace/hrtjbs/augustus/config \\\n",
    "--species=CK6901M_R3_2 \\\n",
    "--gff3 \\\n",
    "--genome=genome.fasta \\\n",
    "--prot_seq=Viridiplantae.fa \\\n",
    "--alternatives-from-evidence=true \\\n",
    "--rnaseq_sets_ids=cane3Aligned.sortedByCoord.out,Flower11Aligned.sortedByCoord.out,FruitAligned.sortedByCoord.out,LeafAligned.sortedByCoord.out,Root1Aligned.sortedByCoord.out,shoot5Aligned.sortedByCoord.out \\\n",
    "--rnaseq_sets_dirs=/workspace/hrtjbs/Annotation_Pipeline_2023/mapping \\\n",
    "--workingdir=/workspace/hrtjbs/Annotation_Pipeline_2023/braker/R3 \\\n",
    "--threads 16\n",
    "EOF\n",
    "\n",
    "sbatch Braker3_R3.sl"
   ]
  },
  {
   "cell_type": "code",
   "execution_count": null,
   "id": "c9e96969-4e29-4b50-9d85-23027ea43b91",
   "metadata": {},
   "outputs": [],
   "source": [
    "#Run braker 3 including kiwifruit prots + orthodb prots + trin pasa prots + mapped rna-seq reads To test a method which uses our current kiwifruit resources to better annotate new kiwifruit genomes. Created a file with all our kiwifruit proteins and use this in conjunction with orthodb prots\n",
    "\n",
    "mkdir -p $braker_dir/R4\n",
    "cd $braker_dir/R4\n",
    "\n",
    "#copy over training proteins (red5 + russell + orthodb)\n",
    "cp /workspace/hrtjbs/Annotation_Pipeline_2023/genome/CK6901M.chr6.masked.fa genome.fasta\n",
    "cat /output/genomic/fairGenomes/Plant/Actinidia/chinensis/var_chinensis/male/2x/assembly_russell/v2.1/RU01.20221117162301.primary.pep.fasta /output/genomic/fairGenomes/Plant/Actinidia/chinensis/var_chinensis/female/2x/assembly_red5/v2/MA20.20220711141824.pep.fasta /workspace/hrtjbs/Annotation_Pipeline_2023/trainingprots/viridiplanta.odb11.plus.pasa.fa > red5_russell_orthodb.fa\n",
    "\n",
    "cat << 'EOF' > Braker3_R4.sl\n",
    "#!/bin/bash -e\n",
    "#SBATCH -J Braker3\n",
    "#SBATCH --output=braker3_R4.out\n",
    "#SBATCH --error=braker3_R4.err\n",
    "#SBATCH --cpus-per-task=16\n",
    "#SBATCH --mem=32G\n",
    "#SBATCH --time=12:00:00\n",
    "\n",
    "module load conda\n",
    "conda deactivate \n",
    "module load pfr-python3/3.9.13\n",
    "module load samtools/1.16\n",
    "module load singularity/3\n",
    "\n",
    "singularity exec -B /workspace/hrtjbs/Annotation_Pipeline_2023/braker/R4:/workspace/hrtjbs/Annotation_Pipeline_2023/braker/R4 \\\n",
    "-B /workspace/hrtjbs/Annotation_Pipeline_2023/mapping:/workspace/hrtjbs/Annotation_Pipeline_2023/mapping \\\n",
    "-B /workspace/hrtjbs/augustus/:/workspace/hrtjbs/augustus/ \\\n",
    "/workspace/hrtjbs/software/braker3.sif braker.pl \\\n",
    "--AUGUSTUS_CONFIG_PATH=/workspace/hrtjbs/augustus/config \\\n",
    "--species=CK6901M_R3_4 \\\n",
    "--gff3 \\\n",
    "--genome=genome.fasta \\\n",
    "--prot_seq=red5_russell_orthodb.fa \\\n",
    "--alternatives-from-evidence=true \\\n",
    "--rnaseq_sets_ids=cane3Aligned.sortedByCoord.out,Flower11Aligned.sortedByCoord.out,FruitAligned.sortedByCoord.out,LeafAligned.sortedByCoord.out,Root1Aligned.sortedByCoord.out,shoot5Aligned.sortedByCoord.out \\\n",
    "--rnaseq_sets_dirs=/workspace/hrtjbs/Annotation_Pipeline_2023/mapping \\\n",
    "--workingdir=/workspace/hrtjbs/Annotation_Pipeline_2023/braker/R4 \\\n",
    "--threads 16\n",
    "EOF\n",
    "\n",
    "sbatch Braker3_R4.sl"
   ]
  },
  {
   "cell_type": "code",
   "execution_count": null,
   "id": "b500bccf-cba8-4255-aaf0-34035e2e0864",
   "metadata": {},
   "outputs": [],
   "source": []
  },
  {
   "cell_type": "code",
   "execution_count": null,
   "id": "6679d57a-9fa2-4810-b3ad-179785f3a6c7",
   "metadata": {},
   "outputs": [],
   "source": []
  },
  {
   "cell_type": "code",
   "execution_count": null,
   "id": "5e3d3498-98e6-4a6d-b508-4704929f133d",
   "metadata": {},
   "outputs": [],
   "source": []
  },
  {
   "cell_type": "code",
   "execution_count": null,
   "id": "89b1d92a-0d31-4fc3-a43a-cee85b8409b2",
   "metadata": {},
   "outputs": [],
   "source": []
  },
  {
   "cell_type": "code",
   "execution_count": null,
   "id": "2a08e0cc-db60-451e-a95d-be8059ff52ee",
   "metadata": {},
   "outputs": [],
   "source": []
  },
  {
   "cell_type": "code",
   "execution_count": null,
   "id": "32885a25-8696-4171-a003-6a33d5bb5fd3",
   "metadata": {},
   "outputs": [],
   "source": []
  },
  {
   "cell_type": "code",
   "execution_count": 3,
   "id": "fcc5c215-c9e3-4b1f-be95-32d37efd9c19",
   "metadata": {},
   "outputs": [],
   "source": [
    "cd /workspace/hraijc/Blueberry/Blueberry_trio/annotation/bioinf_genome_annotation_nui"
   ]
  },
  {
   "cell_type": "code",
   "execution_count": 4,
   "id": "07abfea2-7039-44eb-9e58-a5c8e6e6373d",
   "metadata": {},
   "outputs": [
    {
     "name": "stdout",
     "output_type": "stream",
     "text": [
      "includeConfig './conf/base.config'\n",
      "\n",
      "params {\n",
      "\n",
      "    // Input options\n",
      "\n",
      "    experiment_name         = \"Progeny_Nuihap1_annotation\"\n",
      "    rnaseq_files_path       = \"/workspace/hraijc/Blueberry/Blueberry_trio/annotation/RNASeq/Nui\"\n",
      "    \n",
      "    genome_file             = \"/workspace/hraijc/Blueberry/Blueberry_trio/annotation/Assemblies/Nui.bp.hap1.p_ctg.fa\"\n",
      "    masked_genome_file      = \"\"\n",
      "\n",
      "    protein_file            = \"\"\n",
      "\n",
      "    out_prefix              = \"Nui_Hap1\"\n"
     ]
    }
   ],
   "source": [
    "head -n 15 nextflow.config"
   ]
  },
  {
   "cell_type": "code",
   "execution_count": 5,
   "id": "afeba468-3b2a-49c1-ba3f-5ce21889ea45",
   "metadata": {},
   "outputs": [
    {
     "name": "stdout",
     "output_type": "stream",
     "text": [
      "sbatch: It is not safe to run jobs over 7 days of walltime without checkpointing.\n",
      "sbatch: The time limit for this job is 14 days.\n",
      "Submitted batch job 2007595\n"
     ]
    }
   ],
   "source": [
    "sbatch << EOF\n",
    "#!/bin/bash\n",
    "#SBATCH --job-name annotation_pipeline_${USER}\n",
    "#SBATCH --time=14-00:00:00\n",
    "#SBATCH --nodes=1\n",
    "#SBATCH --ntasks=1\n",
    "#SBATCH --cpus-per-task=8\n",
    "#SBATCH -o ${WKDIR}/log/%J.out\n",
    "#SBATCH -e ${WKDIR}/log/%J.err\n",
    "#SBATCH --mem=32G\n",
    "\n",
    "ml apptainer/1.1\n",
    "ml nextflow/22.10.4\n",
    "\n",
    "module load pfr-python3/3.9.13\n",
    "pip install --user -r ./requirements.txt\n",
    "\n",
    "srun nextflow main.nf -resume\n",
    "\n",
    "EOF\n",
    "\n",
    "\n",
    "\n"
   ]
  },
  {
   "cell_type": "markdown",
   "id": "d5da0208-0ee1-4450-b592-e6b47b520c2b",
   "metadata": {},
   "source": [
    "# Annotation Pipeline\n",
    "\n",
    "## M7"
   ]
  },
  {
   "cell_type": "code",
   "execution_count": 12,
   "id": "3059920b-fe07-4dce-bb2c-00b09daf7bda",
   "metadata": {},
   "outputs": [],
   "source": [
    "cd /workspace/hraijc/Blueberry/Blueberry_trio/annotation/bioinf_genome_annotation_m7"
   ]
  },
  {
   "cell_type": "code",
   "execution_count": 13,
   "id": "0a001697-d2b2-4b33-b3eb-b0622397a9a1",
   "metadata": {},
   "outputs": [
    {
     "name": "stdout",
     "output_type": "stream",
     "text": [
      "includeConfig './conf/base.config'\n",
      "\n",
      "params {\n",
      "\n",
      "    // Input options\n",
      "\n",
      "    experiment_name         = \"Progeny_M7hap1_annotation\"\n",
      "    rnaseq_files_path       = \"/workspace/hraijc/Blueberry/Blueberry_trio/annotation/RNASeq/M7\"\n",
      "    \n",
      "    genome_file             = \"/workspace/hraijc/Blueberry/Blueberry_trio/annotation/Assemblies/M7.bp.hap1.p_ctg.fa\"\n",
      "    masked_genome_file      = \"\"\n",
      "\n",
      "    protein_file            = \"\"\n",
      "\n",
      "    out_prefix              = \"M7_Hap1\"\n"
     ]
    }
   ],
   "source": [
    "head -n 15 nextflow.config"
   ]
  },
  {
   "cell_type": "code",
   "execution_count": 14,
   "id": "caf2ab26-7d0d-46d4-9318-0cc77f675a6d",
   "metadata": {},
   "outputs": [
    {
     "name": "stdout",
     "output_type": "stream",
     "text": [
      "sbatch: It is not safe to run jobs over 7 days of walltime without checkpointing.\n",
      "sbatch: The time limit for this job is 14 days.\n",
      "Submitted batch job 2007628\n"
     ]
    }
   ],
   "source": [
    "sbatch << EOF\n",
    "#!/bin/bash\n",
    "#SBATCH --job-name annotation_pipeline_${USER}\n",
    "#SBATCH --time=14-00:00:00\n",
    "#SBATCH --nodes=1\n",
    "#SBATCH --ntasks=1\n",
    "#SBATCH --cpus-per-task=8\n",
    "#SBATCH -o ${WKDIR}/log/%J.out\n",
    "#SBATCH -e ${WKDIR}/log/%J.err\n",
    "#SBATCH --mem=32G\n",
    "\n",
    "ml apptainer/1.1\n",
    "ml nextflow/22.10.4\n",
    "\n",
    "module load pfr-python3/3.9.13\n",
    "pip install --user -r ./requirements.txt\n",
    "\n",
    "srun nextflow main.nf -resume\n",
    "EOF\n",
    "\n"
   ]
  },
  {
   "cell_type": "code",
   "execution_count": 19,
   "id": "3189186e-6c7e-4b8d-a02d-99101b20db2c",
   "metadata": {},
   "outputs": [
    {
     "name": "stdout",
     "output_type": "stream",
     "text": [
      "JobID           JobName  Partition    Account  AllocCPUS      State ExitCode \n",
      "------------ ---------- ---------- ---------- ---------- ---------- -------- \n",
      "2007595      annotatio+       long powerplant          8    RUNNING      0:0 \n",
      "2007595.bat+      batch            powerplant          8    RUNNING      0:0 \n",
      "2007595.ext+     extern            powerplant          8    RUNNING      0:0 \n",
      "2007595.0      nextflow            powerplant          8    RUNNING      0:0 \n",
      "2007598      nf-FASTP_+       fast powerplant          1    RUNNING      0:0 \n",
      "2007598.bat+      batch            powerplant          1    RUNNING      0:0 \n",
      "2007598.ext+     extern            powerplant          1    RUNNING      0:0 \n",
      "2007613      nf-EDTA_(+       fast powerplant          4    RUNNING      0:0 \n",
      "2007613.bat+      batch            powerplant          4    RUNNING      0:0 \n",
      "2007613.ext+     extern            powerplant          4    RUNNING      0:0 \n",
      "2007628      annotatio+       long powerplant          8    RUNNING      0:0 \n",
      "2007628.bat+      batch            powerplant          8    RUNNING      0:0 \n",
      "2007628.ext+     extern            powerplant          8    RUNNING      0:0 \n",
      "2007628.0      nextflow            powerplant          8    RUNNING      0:0 \n",
      "2007629      nf-EDTA_(+       fast powerplant          4    RUNNING      0:0 \n",
      "2007629.bat+      batch            powerplant          4    RUNNING      0:0 \n",
      "2007629.ext+     extern            powerplant          4    RUNNING      0:0 \n",
      "2007630      nf-FASTP_+       fast powerplant          1    RUNNING      0:0 \n",
      "2007630.bat+      batch            powerplant          1    RUNNING      0:0 \n",
      "2007630.ext+     extern            powerplant          1    RUNNING      0:0 \n"
     ]
    }
   ],
   "source": [
    "sacct -s R -s PD"
   ]
  },
  {
   "cell_type": "code",
   "execution_count": null,
   "id": "94f84453-babd-4b51-bfc6-24c8a3e0115c",
   "metadata": {},
   "outputs": [],
   "source": []
  }
 ],
 "metadata": {
  "kernelspec": {
   "display_name": "Bash",
   "language": "bash",
   "name": "bash"
  },
  "language_info": {
   "codemirror_mode": "shell",
   "file_extension": ".sh",
   "mimetype": "text/x-sh",
   "name": "bash"
  }
 },
 "nbformat": 4,
 "nbformat_minor": 5
}
