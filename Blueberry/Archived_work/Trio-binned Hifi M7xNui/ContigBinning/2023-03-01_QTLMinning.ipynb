{
 "cells": [
  {
   "cell_type": "markdown",
   "id": "7bcba7c0-6f72-479a-afa8-67ee9b12bc78",
   "metadata": {},
   "source": [
    "# Align the Antocyanin QTL for all four haplotypes of the baby blueberry progeny of M7 and Nui."
   ]
  },
  {
   "cell_type": "code",
   "execution_count": 39,
   "id": "b5d61856-d0ec-41f0-9ddd-ee0084f98fef",
   "metadata": {},
   "outputs": [],
   "source": [
    "WKDIR=/workspace/hraijc/Blueberry/Blueberry_trio/QTL_Minning\n",
    "LOGDIR=/workspace/hraijc/Blueberry/Blueberry_trio/log\n",
    "\n",
    "\n",
    "VCAE_TARGETS=${WKDIR}/AnthoQTL_Vcae.fasta\n",
    "VCAE_REGION=${WKDIR}/VcaeV1.3.p0.region8-9mb.fa\n",
    "HAPLOTYPE_DIR=/workspace/hraijc/Blueberry/Blueberry_trio/phased_QC"
   ]
  },
  {
   "cell_type": "code",
   "execution_count": 37,
   "id": "4e1a44e5-2f40-4947-bc8b-8e21984bd784",
   "metadata": {},
   "outputs": [],
   "source": [
    "cd $WKDIR"
   ]
  },
  {
   "cell_type": "code",
   "execution_count": 16,
   "id": "c007026c-7cfa-4ca3-a2d5-8e4ace58e084",
   "metadata": {},
   "outputs": [],
   "source": [
    "cd $WKDIR\n",
    "# Symlink Chen's assemblies into my workspace.\n",
    "for FILE in /workspace/hraczw/github/bioinf_blueberry_trio/*.fa\n",
    "    do\n",
    "    ln -s $FILE\n",
    "done"
   ]
  },
  {
   "cell_type": "code",
   "execution_count": null,
   "id": "0962e5a7-cdb1-4ebb-9ffc-275cf404c82e",
   "metadata": {},
   "outputs": [],
   "source": []
  },
  {
   "cell_type": "code",
   "execution_count": 27,
   "id": "0e38afcc-cb40-4414-8451-62a7b1ac2366",
   "metadata": {},
   "outputs": [
    {
     "name": "stdout",
     "output_type": "stream",
     "text": [
      "makeblastdb -in M7.bp.hap1.p_ctg.fa -parse_seqids -dbtype nucl\n",
      "blastn -task dc-megablast -db M7.bp.hap1.p_ctg.fa -query /workspace/hraijc/Blueberry/Blueberry_trio/QTL_Minning/AnthoQTL_Vcae.fasta -outfmt 6 -evalue 1e-50 -num_threads 8 -out M7.bp.hap1.p_ctg_blast_out.txt\n",
      "makeblastdb -in M7.bp.hap2.p_ctg.fa -parse_seqids -dbtype nucl\n",
      "blastn -task dc-megablast -db M7.bp.hap2.p_ctg.fa -query /workspace/hraijc/Blueberry/Blueberry_trio/QTL_Minning/AnthoQTL_Vcae.fasta -outfmt 6 -evalue 1e-50 -num_threads 8 -out M7.bp.hap2.p_ctg_blast_out.txt\n",
      "makeblastdb -in Nui.bp.hap1.p_ctg.fa -parse_seqids -dbtype nucl\n",
      "blastn -task dc-megablast -db Nui.bp.hap1.p_ctg.fa -query /workspace/hraijc/Blueberry/Blueberry_trio/QTL_Minning/AnthoQTL_Vcae.fasta -outfmt 6 -evalue 1e-50 -num_threads 8 -out Nui.bp.hap1.p_ctg_blast_out.txt\n",
      "makeblastdb -in Nui.bp.hap2.p_ctg.fa -parse_seqids -dbtype nucl\n",
      "blastn -task dc-megablast -db Nui.bp.hap2.p_ctg.fa -query /workspace/hraijc/Blueberry/Blueberry_trio/QTL_Minning/AnthoQTL_Vcae.fasta -outfmt 6 -evalue 1e-50 -num_threads 8 -out Nui.bp.hap2.p_ctg_blast_out.txt\n"
     ]
    }
   ],
   "source": [
    "#For loops are not working in slurm. Defaulting to copy and paste output from here to next cell.\n",
    "for HAP2 in *ctg.fa\n",
    "do\n",
    "    echo makeblastdb -in ${HAP2} -parse_seqids -dbtype nucl\n",
    "    echo blastn -task dc-megablast -db ${HAP2} -query ${VCAE_TARGETS} -outfmt 6 -evalue 1e-50 -num_threads 8 -out ${HAP2%.fa}_blast_out.txt\n",
    "    #echo ${HAP2}\n",
    "done"
   ]
  },
  {
   "cell_type": "code",
   "execution_count": 28,
   "id": "941765b2-f0bf-43e6-a454-c2783c5bfd7b",
   "metadata": {},
   "outputs": [
    {
     "name": "stdout",
     "output_type": "stream",
     "text": [
      "Submitted batch job 1040708\n"
     ]
    }
   ],
   "source": [
    "# Blast haplotyped assemblies to the Vcae Ant QTL \n",
    "cd $WKDIR\n",
    "\n",
    "sbatch << EOF\n",
    "#!/bin/bash\n",
    "#SBATCH -J hic_compqc\n",
    "#SBATCH -o ${LOGDIR}/%J.out\n",
    "#SBATCH -e ${LOGDIR}/%J.err\n",
    "#SBATCH --cpus-per-task=8\n",
    "#SBATCH --mem=1G\n",
    "#SBATCH --time=04:10:00\n",
    "\n",
    "module load ncbi-blast/2.11.0 \n",
    "\n",
    "\n",
    "makeblastdb -in M7.bp.hap1.p_ctg.fa -parse_seqids -dbtype nucl\n",
    "blastn -task dc-megablast -db M7.bp.hap1.p_ctg.fa -query /workspace/hraijc/Blueberry/Blueberry_trio/QTL_Minning/AnthoQTL_Vcae.fasta -outfmt 6 -evalue 1e-50 -num_threads 8 -out M7.bp.hap1.p_ctg_blast_out.txt\n",
    "makeblastdb -in M7.bp.hap2.p_ctg.fa -parse_seqids -dbtype nucl\n",
    "blastn -task dc-megablast -db M7.bp.hap2.p_ctg.fa -query /workspace/hraijc/Blueberry/Blueberry_trio/QTL_Minning/AnthoQTL_Vcae.fasta -outfmt 6 -evalue 1e-50 -num_threads 8 -out M7.bp.hap2.p_ctg_blast_out.txt\n",
    "makeblastdb -in Nui.bp.hap1.p_ctg.fa -parse_seqids -dbtype nucl\n",
    "blastn -task dc-megablast -db Nui.bp.hap1.p_ctg.fa -query /workspace/hraijc/Blueberry/Blueberry_trio/QTL_Minning/AnthoQTL_Vcae.fasta -outfmt 6 -evalue 1e-50 -num_threads 8 -out Nui.bp.hap1.p_ctg_blast_out.txt\n",
    "makeblastdb -in Nui.bp.hap2.p_ctg.fa -parse_seqids -dbtype nucl\n",
    "blastn -task dc-megablast -db Nui.bp.hap2.p_ctg.fa -query /workspace/hraijc/Blueberry/Blueberry_trio/QTL_Minning/AnthoQTL_Vcae.fasta -outfmt 6 -evalue 1e-50 -num_threads 8 -out Nui.bp.hap2.p_ctg_blast_out.txt\n",
    "\n",
    "EOF"
   ]
  },
  {
   "cell_type": "code",
   "execution_count": 40,
   "id": "a562a4db-3253-4f7c-a6d3-84af97efa3e1",
   "metadata": {},
   "outputs": [
    {
     "name": "stdout",
     "output_type": "stream",
     "text": [
      "cut -f2 M7.bp.hap1.p_ctg_blast_out.txt | sort | uniq > M7.bp.hap1.p_ctg_hits.txt\n",
      "seqtk subseq M7.bp.hap1.p_ctg.fa M7.bp.hap1.p_ctg_hits.txt > M7.bp.hap1.p_ctg_hits.fa\n",
      "minimap2 -t 4 -cx asm10 M7.bp.hap1.p_ctg_hits.fa /workspace/hraijc/Blueberry/Blueberry_trio/QTL_Minning/VcaeV1.3.p0.region8-9mb.fa > M7.bp.hap1.p_ctg_AnthQTL_asm10.paf\n",
      "cut -f2 M7.bp.hap2.p_ctg_blast_out.txt | sort | uniq > M7.bp.hap2.p_ctg_hits.txt\n",
      "seqtk subseq M7.bp.hap2.p_ctg.fa M7.bp.hap2.p_ctg_hits.txt > M7.bp.hap2.p_ctg_hits.fa\n",
      "minimap2 -t 4 -cx asm10 M7.bp.hap2.p_ctg_hits.fa /workspace/hraijc/Blueberry/Blueberry_trio/QTL_Minning/VcaeV1.3.p0.region8-9mb.fa > M7.bp.hap2.p_ctg_AnthQTL_asm10.paf\n",
      "cut -f2 Nui.bp.hap1.p_ctg_blast_out.txt | sort | uniq > Nui.bp.hap1.p_ctg_hits.txt\n",
      "seqtk subseq Nui.bp.hap1.p_ctg.fa Nui.bp.hap1.p_ctg_hits.txt > Nui.bp.hap1.p_ctg_hits.fa\n",
      "minimap2 -t 4 -cx asm10 Nui.bp.hap1.p_ctg_hits.fa /workspace/hraijc/Blueberry/Blueberry_trio/QTL_Minning/VcaeV1.3.p0.region8-9mb.fa > Nui.bp.hap1.p_ctg_AnthQTL_asm10.paf\n",
      "cut -f2 Nui.bp.hap2.p_ctg_blast_out.txt | sort | uniq > Nui.bp.hap2.p_ctg_hits.txt\n",
      "seqtk subseq Nui.bp.hap2.p_ctg.fa Nui.bp.hap2.p_ctg_hits.txt > Nui.bp.hap2.p_ctg_hits.fa\n",
      "minimap2 -t 4 -cx asm10 Nui.bp.hap2.p_ctg_hits.fa /workspace/hraijc/Blueberry/Blueberry_trio/QTL_Minning/VcaeV1.3.p0.region8-9mb.fa > Nui.bp.hap2.p_ctg_AnthQTL_asm10.paf\n"
     ]
    }
   ],
   "source": [
    "cd $WKDIR\n",
    "for HAP in *ctg.fa\n",
    "do\n",
    "    echo \"cut -f2 ${HAP%.fa}_blast_out.txt | sort | uniq > ${HAP%.fa}_hits.txt\"\n",
    "    echo \"seqtk subseq ${HAP} ${HAP%.fa}_hits.txt > ${HAP%.fa}_hits.fa\"\n",
    "    echo \"minimap2 -t 4 -cx asm10 ${HAP%.fa}_hits.fa ${VCAE_REGION} > ${HAP%.fa}_AnthQTL_asm10.paf\"     \n",
    "done"
   ]
  },
  {
   "cell_type": "code",
   "execution_count": 46,
   "id": "160bf43d-cd6d-4a40-8690-e3bc7fa31ecb",
   "metadata": {},
   "outputs": [
    {
     "name": "stdout",
     "output_type": "stream",
     "text": [
      "Submitted batch job 1040872\n"
     ]
    }
   ],
   "source": [
    "# Extract contigs with hits. then map\n",
    "cd $WKDIR\n",
    "sbatch << EOF\n",
    "#!/bin/bash\n",
    "#SBATCH -J minimap\n",
    "#SBATCH -o ${LOGDIR}/%J.out\n",
    "#SBATCH -e ${LOGDIR}/%J.err\n",
    "#SBATCH --cpus-per-task=4\n",
    "#SBATCH --mem=12G\n",
    "#SBATCH --time=01:10:00\n",
    "\n",
    "module load minimap2\n",
    "module load seqtk\n",
    "\n",
    "#cut -f2 M7.bp.hap1.p_ctg_blast_out.txt | sort | uniq > M7.bp.hap1.p_ctg_hits.txt\n",
    "#seqtk subseq M7.bp.hap1.p_ctg.fa M7.bp.hap1.p_ctg_hits.txt > M7.bp.hap1.p_ctg_hits.fa\n",
    "#minimap2 -t 4 -cx asm10 M7.bp.hap1.p_ctg_hits.fa /workspace/hraijc/Blueberry/Blueberry_trio/QTL_Minning/VcaeV1.3.p0.region8-9mb.fa > M7.bp.hap1.p_ctg_AnthQTL_asm10.paf\n",
    "#cut -f2 M7.bp.hap2.p_ctg_blast_out.txt | sort | uniq > M7.bp.hap2.p_ctg_hits.txt\n",
    "#seqtk subseq M7.bp.hap2.p_ctg.fa M7.bp.hap2.p_ctg_hits.txt > M7.bp.hap2.p_ctg_hits.fa\n",
    "#minimap2 -t 4 -cx asm10 M7.bp.hap2.p_ctg_hits.fa /workspace/hraijc/Blueberry/Blueberry_trio/QTL_Minning/VcaeV1.3.p0.region8-9mb.fa > M7.bp.hap2.p_ctg_AnthQTL_asm10.paf\n",
    "#cut -f2 Nui.bp.hap1.p_ctg_blast_out.txt | sort | uniq > Nui.bp.hap1.p_ctg_hits.txt\n",
    "seqtk subseq Nui.bp.hap1.p_ctg.fa Nui.bp.hap1.p_ctg_hits.txt > Nui.bp.hap1.p_ctg_hits.fa\n",
    "#minimap2 -t 4 -cx asm10 Nui.bp.hap1.p_ctg_hits.fa /workspace/hraijc/Blueberry/Blueberry_trio/QTL_Minning/VcaeV1.3.p0.region8-9mb.fa > Nui.bp.hap1.p_ctg_AnthQTL_asm10.paf\n",
    "#cut -f2 Nui.bp.hap2.p_ctg_blast_out.txt | sort | uniq > Nui.bp.hap2.p_ctg_hits.txt\n",
    "seqtk subseq Nui.bp.hap2.p_ctg.fa Nui.bp.hap2.p_ctg_hits.txt > Nui.bp.hap2.p_ctg_hits.fa\n",
    "#minimap2 -t 4 -cx asm10 Nui.bp.hap2.p_ctg_hits.fa /workspace/hraijc/Blueberry/Blueberry_trio/QTL_Minning/VcaeV1.3.p0.region8-9mb.fa > Nui.bp.hap2.p_ctg_AnthQTL_asm10.paf\n",
    "EOF"
   ]
  },
  {
   "cell_type": "code",
   "execution_count": 43,
   "id": "92738202-ca6e-4fc8-afc6-743d7786b92d",
   "metadata": {},
   "outputs": [
    {
     "name": "stdout",
     "output_type": "stream",
     "text": [
      "du: cannot access ‘/workspace/hraijc/Blueberry/Blueberry_trio/QTL_Minning/VcaeV1.3.p0.region8-9mb.fa’: No such file or directory\n"
     ]
    },
    {
     "ename": "",
     "evalue": "1",
     "output_type": "error",
     "traceback": []
    }
   ],
   "source": [
    "du -sh /workspace/hraijc/Blueberry/Blueberry_trio/QTL_Minning/VcaeV1.3.p0.region8-9mb.fa"
   ]
  },
  {
   "cell_type": "code",
   "execution_count": 33,
   "id": "ef15ead8-a8a8-4e57-a039-99362c54b042",
   "metadata": {},
   "outputs": [
    {
     "name": "stdout",
     "output_type": "stream",
     "text": [
      "[M::mm_idx_gen::0.003*0.88] collected minimizers\n",
      "[M::mm_idx_gen::0.004*1.49] sorted minimizers\n",
      "[M::main::0.004*1.49] loaded/built the index for 68 target sequence(s)\n",
      "[M::mm_mapopt_update::0.004*1.48] mid_occ = 50\n",
      "[M::mm_idx_stat] kmer size: 19; skip: 19; is_hpc: 0; #seq: 68\n",
      "[M::mm_idx_stat::0.004*1.47] distinct minimizers: 838 (69.93% are singletons); average occurrences: 1.414; average spacing: 11.477; total length: 13600\n",
      "[M::worker_pipeline::0.223*1.49] mapped 2 sequences\n",
      "[M::main] Version: 2.22-r1101\n",
      "[M::main] CMD: minimap2 -t 4 -cx asm10 AnthoQTL_Vcae.fasta VcaeV1.3.p0.regions.fa\n",
      "[M::main] Real time: 0.224 sec; CPU: 0.333 sec; Peak RSS: 0.066 GB\n"
     ]
    }
   ],
   "source": [
    "module load minimap2\n",
    "minimap2 -t 4 -cx asm10 AnthoQTL_Vcae.fasta VcaeV1.3.p0.regions.fa > QTL_AnthQTL_asm10.paf\n"
   ]
  },
  {
   "cell_type": "code",
   "execution_count": null,
   "id": "e8c38a68-ae95-48b9-abe9-572ab1181102",
   "metadata": {},
   "outputs": [],
   "source": []
  }
 ],
 "metadata": {
  "kernelspec": {
   "display_name": "Bash",
   "language": "bash",
   "name": "bash"
  },
  "language_info": {
   "codemirror_mode": "shell",
   "file_extension": ".sh",
   "mimetype": "text/x-sh",
   "name": "bash"
  }
 },
 "nbformat": 4,
 "nbformat_minor": 5
}
