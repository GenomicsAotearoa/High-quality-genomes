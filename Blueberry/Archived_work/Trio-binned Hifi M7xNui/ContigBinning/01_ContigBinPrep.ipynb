{
 "cells": [
  {
   "cell_type": "markdown",
   "id": "72fc9954-d478-4109-9383-ee880c3a1c82",
   "metadata": {},
   "source": [
    "## Bin Reads into their corresponding haplotypes using genetic linkage map for the parents and progeny. HiFiasm has partially phased the assembly into two haplotypes but the haplotypes are not fully phased. We can now fully phase because we have the linkage map. \n",
    "### Assembly has been purged and had \"contaminant\" contigs removed. \n",
    "#### Merge and map the contigs to the same reference as the genetic map.\n",
    "\n",
    "+ Genetic Map here: /workspace/hrpsym/Blueberry/NuixM7/map_cleaned_phased\n",
    "+ Cleaned Assemblies here: /workspace/hraijc/Blueberry/Blueberry_trio/Assembly/postcontamremoval/merged\n",
    "+ Reference for linkage map is /output/genomic/fairGenomes/Plant/Vaccinium/corymbosum/var_na/sex_na/2x/assembly_w85_20/v1.3/VcaeV1.3.p0.fa\n"
   ]
  },
  {
   "cell_type": "code",
   "execution_count": 1,
   "id": "a017ed63-0d46-49cb-883b-9afbcfa49853",
   "metadata": {},
   "outputs": [],
   "source": [
    "WKDIR=/workspace/hraijc/Blueberry/Blueberry_trio/contigbin\n",
    "VCAE=/output/genomic/fairGenomes/Plant/Vaccinium/corymbosum/var_na/sex_na/2x/assembly_w85_20/v1.3/VcaeV1.3.p0.fa\n",
    "MERGEDIR=/workspace/hraijc/Blueberry/Blueberry_trio/Assembly/postcontamremoval/merged\n",
    "LOG=${WKDIR}/log\n",
    "\n",
    "mkdir -p $LOG\n",
    "cd $WKDIR"
   ]
  },
  {
   "cell_type": "code",
   "execution_count": 17,
   "id": "8555b5fe-9526-44d5-9153-c5b8cc250e39",
   "metadata": {},
   "outputs": [],
   "source": [
    "#cd $WORK/Blueberry/Blueberry_trio/Assembly/\n",
    "#mkdir merged\n",
    "#cat classified_M7_plus_unclassified_hap* > M7h1h2_cleanMerge.fa\n",
    "#cat classified_Nui_plus_unclassified_hap* > Nuih1h2_cleanMerge.fa\n"
   ]
  },
  {
   "cell_type": "code",
   "execution_count": 9,
   "id": "95b2a59b-e063-4322-aa01-6558f474f9dd",
   "metadata": {},
   "outputs": [
    {
     "name": "stdout",
     "output_type": "stream",
     "text": [
      "SBATCH_ARGS: --time 2:30:00 --cpus-per-task=8 --mem 4G\n",
      "JOB_ARRAY_NAME: /workspace/hraijc/Blueberry/Blueberry_trio/contigbin/log\n",
      "GROUP_SIZE: 1\n",
      "NUM_COMMANDS: 2\n",
      "Submitted batch job 2283487\n"
     ]
    }
   ],
   "source": [
    "# Map each assembly to VcaeV1.3 using minimap2\n",
    "\n",
    "module load minimap2\n",
    "cd ${WKDIR}\n",
    "\n",
    "for contigfile in ${MERGEDIR}/*.fa\n",
    "do\n",
    "    contigfilename=$(basename \"$contigfile\")\n",
    "    echo \"minimap2 -t 8 -ax asm10 ${VCAE} ${contigfile} > ${contigfilename%.fa}_to_Vcae13_asm10.sam\"\n",
    "#    echo ${contigfilename%.fa}\n",
    "#    echo $contigfile\n",
    "done | abatch -j ${LOG} --time 2:30:00 --cpus-per-task=8 --mem 4G | sbatch\n",
    "\n",
    "module unload minimap2"
   ]
  },
  {
   "cell_type": "code",
   "execution_count": null,
   "id": "456703bf-01fb-4643-bc04-423a41bd8d74",
   "metadata": {},
   "outputs": [],
   "source": []
  },
  {
   "cell_type": "code",
   "execution_count": 10,
   "id": "4f0b878e-8869-4582-bfda-9ff2b2712921",
   "metadata": {},
   "outputs": [
    {
     "name": "stdout",
     "output_type": "stream",
     "text": [
      "Submitted batch job 2283793\n"
     ]
    }
   ],
   "source": [
    "### Create coordinated sorted bamfiles and index. \n",
    "cd $WKDIR\n",
    "\n",
    "sbatch << EOF\n",
    "#!/bin/bash\n",
    "#SBATCH -J samtools\n",
    "#SBATCH -o ${LOG}/%J.out\n",
    "#SBATCH -e ${LOG}/%J.err\n",
    "#SBATCH --cpus-per-task=8\n",
    "#SBATCH --mem=4G\n",
    "#SBATCH --time=1:30:00\n",
    "\n",
    "ml samtools\n",
    "\n",
    "cd ${WKDIR}\n",
    "\n",
    "samtools view -@ 8 -bS M7h1h2_cleanMerge_to_Vcae13_asm10.sam > M7h1h2_cleanMerge_to_Vcae13_asm10.bam\n",
    "samtools view -@ 8 -bS Nuih1h2_cleanMerge_to_Vcae13_asm10.sam > Nuih1h2_cleanMerge_to_Vcae13_asm10.bam\n",
    "samtools sort -@ 8 M7h1h2_cleanMerge_to_Vcae13_asm10.bam -o M7h1h2_cleanMerge_to_Vcae13_psorted.bam\n",
    "samtools sort -@ 8 Nuih1h2_cleanMerge_to_Vcae13_asm10.bam -o Nuih1h2_cleanMerge_to_Vcae13_psorted.bam\n",
    "samtools index -@ 8 M7h1h2_cleanMerge_to_Vcae13_psorted.bam\n",
    "samtools index -@ 8 Nuih1h2_cleanMerge_to_Vcae13_psorted.bam\n",
    "\n",
    "\n",
    "EOF"
   ]
  },
  {
   "cell_type": "code",
   "execution_count": 2,
   "id": "d537c79d-ec01-4f08-81c2-3a3e63c55e04",
   "metadata": {},
   "outputs": [
    {
     "name": "stdout",
     "output_type": "stream",
     "text": [
      "Submitted batch job 2565369\n"
     ]
    }
   ],
   "source": [
    "### Remove secondary alignments and low quality mappings. \n",
    "cd $WKDIR\n",
    "\n",
    "sbatch << EOF\n",
    "#!/bin/bash\n",
    "#SBATCH -J samtools\n",
    "#SBATCH -o ${LOG}/%J.out\n",
    "#SBATCH -e ${LOG}/%J.err\n",
    "#SBATCH --cpus-per-task=8\n",
    "#SBATCH --mem=4G\n",
    "#SBATCH --time=1:30:00\n",
    "\n",
    "ml samtools\n",
    "\n",
    "cd ${WKDIR}\n",
    "\n",
    "samtools view -@8 -F 256 -q 30 -o M7h1h2_cleanMerge_to_Vcae13_filtered.bam M7h1h2_cleanMerge_to_Vcae13_psorted.bam\n",
    "samtools view -@8 -F 256 -q 30 -o Nuih1h2_cleanMerge_to_Vcae13_filtered.bam Nuih1h2_cleanMerge_to_Vcae13_psorted.bam\n",
    "samtools index -@ 8 Nuih1h2_cleanMerge_to_Vcae13_filtered.bam\n",
    "samtools index -@ 8 M7h1h2_cleanMerge_to_Vcae13_filtered.bam\n",
    "\n",
    "\n",
    "EOF"
   ]
  },
  {
   "cell_type": "code",
   "execution_count": 1,
   "id": "63a3d03c-08c0-4995-a181-40b74facda1d",
   "metadata": {},
   "outputs": [
    {
     "name": "stdout",
     "output_type": "stream",
     "text": [
      "ls: cannot access /workspace/hraijc/Blueberry/Blueberry_trio/contigbin/LinkageMap: No such file or directory\n"
     ]
    },
    {
     "ename": "",
     "evalue": "2",
     "output_type": "error",
     "traceback": []
    }
   ],
   "source": [
    "# Add copy of LinkageMap xlsx to powerplant.  \n",
    "ls /workspace/hraijc/Blueberry/Blueberry_trio/contigbin/LinkageMap"
   ]
  },
  {
   "cell_type": "code",
   "execution_count": null,
   "id": "c26bf0a5-d943-487a-957d-1e371e396763",
   "metadata": {},
   "outputs": [],
   "source": []
  }
 ],
 "metadata": {
  "kernelspec": {
   "display_name": "Bash",
   "language": "bash",
   "name": "bash"
  },
  "language_info": {
   "codemirror_mode": "shell",
   "file_extension": ".sh",
   "mimetype": "text/x-sh",
   "name": "bash"
  }
 },
 "nbformat": 4,
 "nbformat_minor": 5
}
