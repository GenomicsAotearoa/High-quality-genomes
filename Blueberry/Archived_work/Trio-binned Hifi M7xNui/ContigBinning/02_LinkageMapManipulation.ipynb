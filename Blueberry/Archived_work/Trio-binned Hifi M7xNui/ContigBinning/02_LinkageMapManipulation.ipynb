{
 "cells": [
  {
   "cell_type": "code",
   "execution_count": 42,
   "id": "829b36dc-7e1e-4aed-97ec-06ac2c7f11d5",
   "metadata": {},
   "outputs": [],
   "source": [
    "library(tidyverse)\n",
    "library(readr)\n",
    "library(fs)\n",
    "library(magrittr)\n",
    "library(ggplot2)\n",
    "library(openxlsx)\n",
    "library(dplyr)\n"
   ]
  },
  {
   "cell_type": "code",
   "execution_count": 2,
   "id": "59623f63-6f3a-489b-99d0-ee3f871cb7a1",
   "metadata": {},
   "outputs": [],
   "source": [
    "setwd(\"/workspace/hraijc/Blueberry/Blueberry_trio/contigbin/LinkageMap\")\n"
   ]
  },
  {
   "cell_type": "code",
   "execution_count": 32,
   "id": "9bbcc33e-d42d-4aa8-b7fb-2c549135b7ce",
   "metadata": {},
   "outputs": [],
   "source": [
    "excel_file <- \"LinkageMap_clean_phased_all_info.xlsx\"\n",
    "\n",
    "\n",
    "# Get sheet names\n",
    "sheet_names <- getSheetNames(excel_file)\n",
    "\n",
    "# Initialize an empty list to store data frames\n",
    "data_frames_list <- list()\n",
    "\n",
    "# Loop through each sheet and read data into data frames\n",
    "for (sheet_name in sheet_names) {\n",
    "  data <- read.xlsx(excel_file, sheet = sheet_name)\n",
    "  data_frames_list[[sheet_name]] <- data\n",
    "}\n",
    "\n",
    "# Combine data frames by row\n",
    "lm <- do.call(rbind, data_frames_list)\n"
   ]
  },
  {
   "cell_type": "code",
   "execution_count": 33,
   "id": "6438e119-0051-42a2-adff-a4192e912a0e",
   "metadata": {},
   "outputs": [],
   "source": [
    "# Add column for name of contig in reference.\n",
    "lm <- separate(lm,\n",
    "         marker,\n",
    "         sep = \"_\",\n",
    "         c(\"refContig\", \"refPosition\"))\n"
   ]
  },
  {
   "cell_type": "code",
   "execution_count": null,
   "id": "4a0d63e3-f7e4-4b29-82a2-eb781a5511f9",
   "metadata": {},
   "outputs": [],
   "source": []
  },
  {
   "cell_type": "code",
   "execution_count": 34,
   "id": "d4741f0c-b627-467a-af85-918219bca34a",
   "metadata": {},
   "outputs": [
    {
     "data": {
      "text/html": [
       "<table>\n",
       "<caption>A data.frame: 6 × 19</caption>\n",
       "<thead>\n",
       "\t<tr><th></th><th scope=col>refContig</th><th scope=col>refPosition</th><th scope=col>position</th><th scope=col>h1</th><th scope=col>h2</th><th scope=col>h3</th><th scope=col>h4</th><th scope=col>h5</th><th scope=col>h6</th><th scope=col>h7</th><th scope=col>h8</th><th scope=col>chr</th><th scope=col>bp</th><th scope=col>M7</th><th scope=col>Nui</th><th scope=col>V06.A002-186</th><th scope=col>Ref</th><th scope=col>Alt</th><th scope=col>LG</th></tr>\n",
       "\t<tr><th></th><th scope=col>&lt;chr&gt;</th><th scope=col>&lt;chr&gt;</th><th scope=col>&lt;dbl&gt;</th><th scope=col>&lt;dbl&gt;</th><th scope=col>&lt;dbl&gt;</th><th scope=col>&lt;dbl&gt;</th><th scope=col>&lt;dbl&gt;</th><th scope=col>&lt;dbl&gt;</th><th scope=col>&lt;dbl&gt;</th><th scope=col>&lt;dbl&gt;</th><th scope=col>&lt;dbl&gt;</th><th scope=col>&lt;dbl&gt;</th><th scope=col>&lt;dbl&gt;</th><th scope=col>&lt;dbl&gt;</th><th scope=col>&lt;dbl&gt;</th><th scope=col>&lt;dbl&gt;</th><th scope=col>&lt;chr&gt;</th><th scope=col>&lt;chr&gt;</th><th scope=col>&lt;chr&gt;</th></tr>\n",
       "</thead>\n",
       "<tbody>\n",
       "\t<tr><th scope=row>chr1.1</th><td>seq-0-001</td><td>1068804</td><td>0.000000</td><td>0</td><td>0</td><td>0</td><td>1</td><td>0</td><td>0</td><td>1</td><td>0</td><td>1</td><td>1068804</td><td>1</td><td>1</td><td>1</td><td>C</td><td>T</td><td>LG1</td></tr>\n",
       "\t<tr><th scope=row>chr1.2</th><td>seq-0-001</td><td>1215280</td><td>1.739313</td><td>0</td><td>1</td><td>0</td><td>0</td><td>0</td><td>1</td><td>1</td><td>0</td><td>1</td><td>1215280</td><td>1</td><td>2</td><td>1</td><td>C</td><td>T</td><td>LG1</td></tr>\n",
       "\t<tr><th scope=row>chr1.3</th><td>seq-0-001</td><td>3688823</td><td>3.072420</td><td>0</td><td>0</td><td>0</td><td>0</td><td>1</td><td>0</td><td>0</td><td>0</td><td>1</td><td>3688823</td><td>0</td><td>1</td><td>1</td><td>T</td><td>A</td><td>LG1</td></tr>\n",
       "\t<tr><th scope=row>chr1.4</th><td>seq-0-001</td><td>2717632</td><td>3.286541</td><td>0</td><td>0</td><td>1</td><td>0</td><td>0</td><td>0</td><td>1</td><td>1</td><td>1</td><td>2717632</td><td>1</td><td>2</td><td>0</td><td>C</td><td>G</td><td>LG1</td></tr>\n",
       "\t<tr><th scope=row>chr1.5</th><td>seq-0-001</td><td>2176934</td><td>4.536024</td><td>0</td><td>1</td><td>0</td><td>0</td><td>0</td><td>0</td><td>0</td><td>0</td><td>1</td><td>2176934</td><td>1</td><td>0</td><td>0</td><td>T</td><td>C</td><td>LG1</td></tr>\n",
       "\t<tr><th scope=row>chr1.6</th><td>seq-0-001</td><td>400216 </td><td>4.551335</td><td>0</td><td>1</td><td>0</td><td>0</td><td>0</td><td>1</td><td>0</td><td>0</td><td>1</td><td> 400216</td><td>1</td><td>1</td><td>2</td><td>T</td><td>A</td><td>LG1</td></tr>\n",
       "</tbody>\n",
       "</table>\n"
      ],
      "text/latex": [
       "A data.frame: 6 × 19\n",
       "\\begin{tabular}{r|lllllllllllllllllll}\n",
       "  & refContig & refPosition & position & h1 & h2 & h3 & h4 & h5 & h6 & h7 & h8 & chr & bp & M7 & Nui & V06.A002-186 & Ref & Alt & LG\\\\\n",
       "  & <chr> & <chr> & <dbl> & <dbl> & <dbl> & <dbl> & <dbl> & <dbl> & <dbl> & <dbl> & <dbl> & <dbl> & <dbl> & <dbl> & <dbl> & <dbl> & <chr> & <chr> & <chr>\\\\\n",
       "\\hline\n",
       "\tchr1.1 & seq-0-001 & 1068804 & 0.000000 & 0 & 0 & 0 & 1 & 0 & 0 & 1 & 0 & 1 & 1068804 & 1 & 1 & 1 & C & T & LG1\\\\\n",
       "\tchr1.2 & seq-0-001 & 1215280 & 1.739313 & 0 & 1 & 0 & 0 & 0 & 1 & 1 & 0 & 1 & 1215280 & 1 & 2 & 1 & C & T & LG1\\\\\n",
       "\tchr1.3 & seq-0-001 & 3688823 & 3.072420 & 0 & 0 & 0 & 0 & 1 & 0 & 0 & 0 & 1 & 3688823 & 0 & 1 & 1 & T & A & LG1\\\\\n",
       "\tchr1.4 & seq-0-001 & 2717632 & 3.286541 & 0 & 0 & 1 & 0 & 0 & 0 & 1 & 1 & 1 & 2717632 & 1 & 2 & 0 & C & G & LG1\\\\\n",
       "\tchr1.5 & seq-0-001 & 2176934 & 4.536024 & 0 & 1 & 0 & 0 & 0 & 0 & 0 & 0 & 1 & 2176934 & 1 & 0 & 0 & T & C & LG1\\\\\n",
       "\tchr1.6 & seq-0-001 & 400216  & 4.551335 & 0 & 1 & 0 & 0 & 0 & 1 & 0 & 0 & 1 &  400216 & 1 & 1 & 2 & T & A & LG1\\\\\n",
       "\\end{tabular}\n"
      ],
      "text/markdown": [
       "\n",
       "A data.frame: 6 × 19\n",
       "\n",
       "| <!--/--> | refContig &lt;chr&gt; | refPosition &lt;chr&gt; | position &lt;dbl&gt; | h1 &lt;dbl&gt; | h2 &lt;dbl&gt; | h3 &lt;dbl&gt; | h4 &lt;dbl&gt; | h5 &lt;dbl&gt; | h6 &lt;dbl&gt; | h7 &lt;dbl&gt; | h8 &lt;dbl&gt; | chr &lt;dbl&gt; | bp &lt;dbl&gt; | M7 &lt;dbl&gt; | Nui &lt;dbl&gt; | V06.A002-186 &lt;dbl&gt; | Ref &lt;chr&gt; | Alt &lt;chr&gt; | LG &lt;chr&gt; |\n",
       "|---|---|---|---|---|---|---|---|---|---|---|---|---|---|---|---|---|---|---|---|\n",
       "| chr1.1 | seq-0-001 | 1068804 | 0.000000 | 0 | 0 | 0 | 1 | 0 | 0 | 1 | 0 | 1 | 1068804 | 1 | 1 | 1 | C | T | LG1 |\n",
       "| chr1.2 | seq-0-001 | 1215280 | 1.739313 | 0 | 1 | 0 | 0 | 0 | 1 | 1 | 0 | 1 | 1215280 | 1 | 2 | 1 | C | T | LG1 |\n",
       "| chr1.3 | seq-0-001 | 3688823 | 3.072420 | 0 | 0 | 0 | 0 | 1 | 0 | 0 | 0 | 1 | 3688823 | 0 | 1 | 1 | T | A | LG1 |\n",
       "| chr1.4 | seq-0-001 | 2717632 | 3.286541 | 0 | 0 | 1 | 0 | 0 | 0 | 1 | 1 | 1 | 2717632 | 1 | 2 | 0 | C | G | LG1 |\n",
       "| chr1.5 | seq-0-001 | 2176934 | 4.536024 | 0 | 1 | 0 | 0 | 0 | 0 | 0 | 0 | 1 | 2176934 | 1 | 0 | 0 | T | C | LG1 |\n",
       "| chr1.6 | seq-0-001 | 400216  | 4.551335 | 0 | 1 | 0 | 0 | 0 | 1 | 0 | 0 | 1 |  400216 | 1 | 1 | 2 | T | A | LG1 |\n",
       "\n"
      ],
      "text/plain": [
       "       refContig refPosition position h1 h2 h3 h4 h5 h6 h7 h8 chr bp      M7\n",
       "chr1.1 seq-0-001 1068804     0.000000 0  0  0  1  0  0  1  0  1   1068804 1 \n",
       "chr1.2 seq-0-001 1215280     1.739313 0  1  0  0  0  1  1  0  1   1215280 1 \n",
       "chr1.3 seq-0-001 3688823     3.072420 0  0  0  0  1  0  0  0  1   3688823 0 \n",
       "chr1.4 seq-0-001 2717632     3.286541 0  0  1  0  0  0  1  1  1   2717632 1 \n",
       "chr1.5 seq-0-001 2176934     4.536024 0  1  0  0  0  0  0  0  1   2176934 1 \n",
       "chr1.6 seq-0-001 400216      4.551335 0  1  0  0  0  1  0  0  1    400216 1 \n",
       "       Nui V06.A002-186 Ref Alt LG \n",
       "chr1.1 1   1            C   T   LG1\n",
       "chr1.2 2   1            C   T   LG1\n",
       "chr1.3 1   1            T   A   LG1\n",
       "chr1.4 2   0            C   G   LG1\n",
       "chr1.5 0   0            T   C   LG1\n",
       "chr1.6 1   2            T   A   LG1"
      ]
     },
     "metadata": {},
     "output_type": "display_data"
    },
    {
     "data": {
      "text/html": [
       "<table>\n",
       "<caption>A data.frame: 6 × 19</caption>\n",
       "<thead>\n",
       "\t<tr><th></th><th scope=col>refContig</th><th scope=col>refPosition</th><th scope=col>position</th><th scope=col>h1</th><th scope=col>h2</th><th scope=col>h3</th><th scope=col>h4</th><th scope=col>h5</th><th scope=col>h6</th><th scope=col>h7</th><th scope=col>h8</th><th scope=col>chr</th><th scope=col>bp</th><th scope=col>M7</th><th scope=col>Nui</th><th scope=col>V06.A002-186</th><th scope=col>Ref</th><th scope=col>Alt</th><th scope=col>LG</th></tr>\n",
       "\t<tr><th></th><th scope=col>&lt;chr&gt;</th><th scope=col>&lt;chr&gt;</th><th scope=col>&lt;dbl&gt;</th><th scope=col>&lt;dbl&gt;</th><th scope=col>&lt;dbl&gt;</th><th scope=col>&lt;dbl&gt;</th><th scope=col>&lt;dbl&gt;</th><th scope=col>&lt;dbl&gt;</th><th scope=col>&lt;dbl&gt;</th><th scope=col>&lt;dbl&gt;</th><th scope=col>&lt;dbl&gt;</th><th scope=col>&lt;dbl&gt;</th><th scope=col>&lt;dbl&gt;</th><th scope=col>&lt;dbl&gt;</th><th scope=col>&lt;dbl&gt;</th><th scope=col>&lt;dbl&gt;</th><th scope=col>&lt;chr&gt;</th><th scope=col>&lt;chr&gt;</th><th scope=col>&lt;chr&gt;</th></tr>\n",
       "</thead>\n",
       "<tbody>\n",
       "\t<tr><th scope=row>chr12.1043</th><td>seq-0-012</td><td>50866596</td><td>138.3927</td><td>0</td><td>0</td><td>0</td><td>0</td><td>0</td><td>0</td><td>0</td><td>1</td><td>12</td><td>50866596</td><td>0</td><td>1</td><td>0</td><td>A</td><td>T</td><td>LG11</td></tr>\n",
       "\t<tr><th scope=row>chr12.1044</th><td>seq-0-012</td><td>47892807</td><td>139.1278</td><td>0</td><td>0</td><td>0</td><td>0</td><td>1</td><td>0</td><td>0</td><td>1</td><td>12</td><td>47892807</td><td>0</td><td>2</td><td>1</td><td>G</td><td>A</td><td>LG11</td></tr>\n",
       "\t<tr><th scope=row>chr12.1045</th><td>seq-0-012</td><td>46789320</td><td>140.0528</td><td>0</td><td>0</td><td>0</td><td>0</td><td>0</td><td>1</td><td>1</td><td>0</td><td>12</td><td>46789320</td><td>0</td><td>2</td><td>1</td><td>T</td><td>A</td><td>LG11</td></tr>\n",
       "\t<tr><th scope=row>chr12.1046</th><td>seq-0-012</td><td>50404642</td><td>140.2262</td><td>0</td><td>0</td><td>0</td><td>0</td><td>1</td><td>0</td><td>0</td><td>0</td><td>12</td><td>50404642</td><td>0</td><td>1</td><td>1</td><td>C</td><td>T</td><td>LG11</td></tr>\n",
       "\t<tr><th scope=row>chr12.1047</th><td>seq-0-012</td><td>46789344</td><td>140.9332</td><td>0</td><td>0</td><td>0</td><td>0</td><td>0</td><td>1</td><td>1</td><td>0</td><td>12</td><td>46789344</td><td>0</td><td>2</td><td>1</td><td>C</td><td>T</td><td>LG11</td></tr>\n",
       "\t<tr><th scope=row>chr12.1048</th><td>seq-0-012</td><td>50866557</td><td>144.5528</td><td>0</td><td>0</td><td>0</td><td>0</td><td>0</td><td>0</td><td>0</td><td>1</td><td>12</td><td>50866557</td><td>0</td><td>1</td><td>0</td><td>C</td><td>T</td><td>LG11</td></tr>\n",
       "</tbody>\n",
       "</table>\n"
      ],
      "text/latex": [
       "A data.frame: 6 × 19\n",
       "\\begin{tabular}{r|lllllllllllllllllll}\n",
       "  & refContig & refPosition & position & h1 & h2 & h3 & h4 & h5 & h6 & h7 & h8 & chr & bp & M7 & Nui & V06.A002-186 & Ref & Alt & LG\\\\\n",
       "  & <chr> & <chr> & <dbl> & <dbl> & <dbl> & <dbl> & <dbl> & <dbl> & <dbl> & <dbl> & <dbl> & <dbl> & <dbl> & <dbl> & <dbl> & <dbl> & <chr> & <chr> & <chr>\\\\\n",
       "\\hline\n",
       "\tchr12.1043 & seq-0-012 & 50866596 & 138.3927 & 0 & 0 & 0 & 0 & 0 & 0 & 0 & 1 & 12 & 50866596 & 0 & 1 & 0 & A & T & LG11\\\\\n",
       "\tchr12.1044 & seq-0-012 & 47892807 & 139.1278 & 0 & 0 & 0 & 0 & 1 & 0 & 0 & 1 & 12 & 47892807 & 0 & 2 & 1 & G & A & LG11\\\\\n",
       "\tchr12.1045 & seq-0-012 & 46789320 & 140.0528 & 0 & 0 & 0 & 0 & 0 & 1 & 1 & 0 & 12 & 46789320 & 0 & 2 & 1 & T & A & LG11\\\\\n",
       "\tchr12.1046 & seq-0-012 & 50404642 & 140.2262 & 0 & 0 & 0 & 0 & 1 & 0 & 0 & 0 & 12 & 50404642 & 0 & 1 & 1 & C & T & LG11\\\\\n",
       "\tchr12.1047 & seq-0-012 & 46789344 & 140.9332 & 0 & 0 & 0 & 0 & 0 & 1 & 1 & 0 & 12 & 46789344 & 0 & 2 & 1 & C & T & LG11\\\\\n",
       "\tchr12.1048 & seq-0-012 & 50866557 & 144.5528 & 0 & 0 & 0 & 0 & 0 & 0 & 0 & 1 & 12 & 50866557 & 0 & 1 & 0 & C & T & LG11\\\\\n",
       "\\end{tabular}\n"
      ],
      "text/markdown": [
       "\n",
       "A data.frame: 6 × 19\n",
       "\n",
       "| <!--/--> | refContig &lt;chr&gt; | refPosition &lt;chr&gt; | position &lt;dbl&gt; | h1 &lt;dbl&gt; | h2 &lt;dbl&gt; | h3 &lt;dbl&gt; | h4 &lt;dbl&gt; | h5 &lt;dbl&gt; | h6 &lt;dbl&gt; | h7 &lt;dbl&gt; | h8 &lt;dbl&gt; | chr &lt;dbl&gt; | bp &lt;dbl&gt; | M7 &lt;dbl&gt; | Nui &lt;dbl&gt; | V06.A002-186 &lt;dbl&gt; | Ref &lt;chr&gt; | Alt &lt;chr&gt; | LG &lt;chr&gt; |\n",
       "|---|---|---|---|---|---|---|---|---|---|---|---|---|---|---|---|---|---|---|---|\n",
       "| chr12.1043 | seq-0-012 | 50866596 | 138.3927 | 0 | 0 | 0 | 0 | 0 | 0 | 0 | 1 | 12 | 50866596 | 0 | 1 | 0 | A | T | LG11 |\n",
       "| chr12.1044 | seq-0-012 | 47892807 | 139.1278 | 0 | 0 | 0 | 0 | 1 | 0 | 0 | 1 | 12 | 47892807 | 0 | 2 | 1 | G | A | LG11 |\n",
       "| chr12.1045 | seq-0-012 | 46789320 | 140.0528 | 0 | 0 | 0 | 0 | 0 | 1 | 1 | 0 | 12 | 46789320 | 0 | 2 | 1 | T | A | LG11 |\n",
       "| chr12.1046 | seq-0-012 | 50404642 | 140.2262 | 0 | 0 | 0 | 0 | 1 | 0 | 0 | 0 | 12 | 50404642 | 0 | 1 | 1 | C | T | LG11 |\n",
       "| chr12.1047 | seq-0-012 | 46789344 | 140.9332 | 0 | 0 | 0 | 0 | 0 | 1 | 1 | 0 | 12 | 46789344 | 0 | 2 | 1 | C | T | LG11 |\n",
       "| chr12.1048 | seq-0-012 | 50866557 | 144.5528 | 0 | 0 | 0 | 0 | 0 | 0 | 0 | 1 | 12 | 50866557 | 0 | 1 | 0 | C | T | LG11 |\n",
       "\n"
      ],
      "text/plain": [
       "           refContig refPosition position h1 h2 h3 h4 h5 h6 h7 h8 chr bp      \n",
       "chr12.1043 seq-0-012 50866596    138.3927 0  0  0  0  0  0  0  1  12  50866596\n",
       "chr12.1044 seq-0-012 47892807    139.1278 0  0  0  0  1  0  0  1  12  47892807\n",
       "chr12.1045 seq-0-012 46789320    140.0528 0  0  0  0  0  1  1  0  12  46789320\n",
       "chr12.1046 seq-0-012 50404642    140.2262 0  0  0  0  1  0  0  0  12  50404642\n",
       "chr12.1047 seq-0-012 46789344    140.9332 0  0  0  0  0  1  1  0  12  46789344\n",
       "chr12.1048 seq-0-012 50866557    144.5528 0  0  0  0  0  0  0  1  12  50866557\n",
       "           M7 Nui V06.A002-186 Ref Alt LG  \n",
       "chr12.1043 0  1   0            A   T   LG11\n",
       "chr12.1044 0  2   1            G   A   LG11\n",
       "chr12.1045 0  2   1            T   A   LG11\n",
       "chr12.1046 0  1   1            C   T   LG11\n",
       "chr12.1047 0  2   1            C   T   LG11\n",
       "chr12.1048 0  1   0            C   T   LG11"
      ]
     },
     "metadata": {},
     "output_type": "display_data"
    }
   ],
   "source": [
    "head(lm)\n",
    "tail(lm)"
   ]
  },
  {
   "cell_type": "code",
   "execution_count": 43,
   "id": "4f22848d-8839-4389-9e13-9b9951ab7e5f",
   "metadata": {},
   "outputs": [
    {
     "data": {
      "text/html": [
       "<table>\n",
       "<caption>A data.frame: 0 × 19</caption>\n",
       "<thead>\n",
       "\t<tr><th scope=col>refContig</th><th scope=col>refPosition</th><th scope=col>position</th><th scope=col>h1</th><th scope=col>h2</th><th scope=col>h3</th><th scope=col>h4</th><th scope=col>h5</th><th scope=col>h6</th><th scope=col>h7</th><th scope=col>h8</th><th scope=col>chr</th><th scope=col>bp</th><th scope=col>M7</th><th scope=col>Nui</th><th scope=col>V06.A002-186</th><th scope=col>Ref</th><th scope=col>Alt</th><th scope=col>LG</th></tr>\n",
       "\t<tr><th scope=col>&lt;chr&gt;</th><th scope=col>&lt;chr&gt;</th><th scope=col>&lt;dbl&gt;</th><th scope=col>&lt;dbl&gt;</th><th scope=col>&lt;dbl&gt;</th><th scope=col>&lt;dbl&gt;</th><th scope=col>&lt;dbl&gt;</th><th scope=col>&lt;dbl&gt;</th><th scope=col>&lt;dbl&gt;</th><th scope=col>&lt;dbl&gt;</th><th scope=col>&lt;dbl&gt;</th><th scope=col>&lt;dbl&gt;</th><th scope=col>&lt;dbl&gt;</th><th scope=col>&lt;dbl&gt;</th><th scope=col>&lt;dbl&gt;</th><th scope=col>&lt;dbl&gt;</th><th scope=col>&lt;chr&gt;</th><th scope=col>&lt;chr&gt;</th><th scope=col>&lt;chr&gt;</th></tr>\n",
       "</thead>\n",
       "<tbody>\n",
       "</tbody>\n",
       "</table>\n"
      ],
      "text/latex": [
       "A data.frame: 0 × 19\n",
       "\\begin{tabular}{lllllllllllllllllll}\n",
       " refContig & refPosition & position & h1 & h2 & h3 & h4 & h5 & h6 & h7 & h8 & chr & bp & M7 & Nui & V06.A002-186 & Ref & Alt & LG\\\\\n",
       " <chr> & <chr> & <dbl> & <dbl> & <dbl> & <dbl> & <dbl> & <dbl> & <dbl> & <dbl> & <dbl> & <dbl> & <dbl> & <dbl> & <dbl> & <dbl> & <chr> & <chr> & <chr>\\\\\n",
       "\\hline\n",
       "\\end{tabular}\n"
      ],
      "text/markdown": [
       "\n",
       "A data.frame: 0 × 19\n",
       "\n",
       "| refContig &lt;chr&gt; | refPosition &lt;chr&gt; | position &lt;dbl&gt; | h1 &lt;dbl&gt; | h2 &lt;dbl&gt; | h3 &lt;dbl&gt; | h4 &lt;dbl&gt; | h5 &lt;dbl&gt; | h6 &lt;dbl&gt; | h7 &lt;dbl&gt; | h8 &lt;dbl&gt; | chr &lt;dbl&gt; | bp &lt;dbl&gt; | M7 &lt;dbl&gt; | Nui &lt;dbl&gt; | V06.A002-186 &lt;dbl&gt; | Ref &lt;chr&gt; | Alt &lt;chr&gt; | LG &lt;chr&gt; |\n",
       "|---|---|---|---|---|---|---|---|---|---|---|---|---|---|---|---|---|---|---|\n",
       "\n"
      ],
      "text/plain": [
       "     refContig refPosition position h1 h2 h3 h4 h5 h6 h7 h8 chr bp M7 Nui\n",
       "     V06.A002-186 Ref Alt LG"
      ]
     },
     "metadata": {},
     "output_type": "display_data"
    }
   ],
   "source": [
    "# Quick check to see that the values in refPostion match bp from the original\n",
    "lm[lm$refPosition != lm$bp, ]"
   ]
  },
  {
   "cell_type": "code",
   "execution_count": 36,
   "id": "5fb01262-3239-4717-ae26-6a0126e35c48",
   "metadata": {},
   "outputs": [
    {
     "name": "stdout",
     "output_type": "stream",
     "text": [
      "       refContig refPosition position h1 h2 h3 h4 h5 h6 h7 h8 chr       bp M7\n",
      "chr3.6 seq-0-002    25253729 4.391946  0  0  0  0  1  0  0  0   2 25253729  0\n",
      "       Nui V06.A002-186 Ref Alt  LG\n",
      "chr3.6   1            1   G   A LG3\n"
     ]
    }
   ],
   "source": [
    "print(lm[lm$refPosition == 25253729, ])"
   ]
  },
  {
   "cell_type": "code",
   "execution_count": 37,
   "id": "f3749c7f-61b4-462c-bb41-e59b2c706a4a",
   "metadata": {},
   "outputs": [
    {
     "name": "stdout",
     "output_type": "stream",
     "text": [
      "\n",
      "   1    2    3    4    5    6    7    8    9   10   11   12   16   17   23   30 \n",
      "1186 1477 1334 1198 1259 1558 1082 1030 1460 1330 1614 1053    4    1    1    2 \n",
      "  57   79   86   97  105  107  124  125  139  150  201  270 \n",
      "   1    3    1    1    1    1    2    2    1    1    1    4 \n"
     ]
    }
   ],
   "source": [
    "# Some of the SNPs are in smaller contigs of the Vcae v1.3 assembly. Most are in the 12 Largest scaffolds. \n",
    "value_counts <- table(lm$chr)\n",
    "print(value_counts)"
   ]
  },
  {
   "cell_type": "code",
   "execution_count": 51,
   "id": "edb63121-1900-47ce-8dd7-491a71f7bf7b",
   "metadata": {},
   "outputs": [],
   "source": [
    "# Make new dataframes of the simplex SNPs for M7 and Nui.\n",
    "simplex_M7_df <- lm[lm$M7 == 1, ]\n",
    "simplex_Nui_df <- lm[lm$Nui == 1, ]\n",
    "\n",
    "\n",
    "# only keep the snp info for that parent.\n",
    "simplex_M7_df <- simplex_M7_df %>%\n",
    "  select(-h5, -h6, -h7, -h8)\n",
    "\n",
    "simplex_Nui_df <- simplex_Nui_df %>%\n",
    "  select(-h1, -h2, -h3, -h4)"
   ]
  },
  {
   "cell_type": "code",
   "execution_count": 52,
   "id": "51487f43-47ec-4d02-ab6e-155d7586559c",
   "metadata": {},
   "outputs": [
    {
     "data": {
      "text/html": [
       "<table>\n",
       "<caption>A data.frame: 6 × 15</caption>\n",
       "<thead>\n",
       "\t<tr><th></th><th scope=col>refContig</th><th scope=col>refPosition</th><th scope=col>position</th><th scope=col>h5</th><th scope=col>h6</th><th scope=col>h7</th><th scope=col>h8</th><th scope=col>chr</th><th scope=col>bp</th><th scope=col>M7</th><th scope=col>Nui</th><th scope=col>V06.A002-186</th><th scope=col>Ref</th><th scope=col>Alt</th><th scope=col>LG</th></tr>\n",
       "\t<tr><th></th><th scope=col>&lt;chr&gt;</th><th scope=col>&lt;chr&gt;</th><th scope=col>&lt;dbl&gt;</th><th scope=col>&lt;dbl&gt;</th><th scope=col>&lt;dbl&gt;</th><th scope=col>&lt;dbl&gt;</th><th scope=col>&lt;dbl&gt;</th><th scope=col>&lt;dbl&gt;</th><th scope=col>&lt;dbl&gt;</th><th scope=col>&lt;dbl&gt;</th><th scope=col>&lt;dbl&gt;</th><th scope=col>&lt;dbl&gt;</th><th scope=col>&lt;chr&gt;</th><th scope=col>&lt;chr&gt;</th><th scope=col>&lt;chr&gt;</th></tr>\n",
       "</thead>\n",
       "<tbody>\n",
       "\t<tr><th scope=row>chr1.1</th><td>seq-0-001</td><td>1068804</td><td>0.000000</td><td>0</td><td>0</td><td>1</td><td>0</td><td>1</td><td>1068804</td><td>1</td><td>1</td><td>1</td><td>C</td><td>T</td><td>LG1</td></tr>\n",
       "\t<tr><th scope=row>chr1.3</th><td>seq-0-001</td><td>3688823</td><td>3.072420</td><td>1</td><td>0</td><td>0</td><td>0</td><td>1</td><td>3688823</td><td>0</td><td>1</td><td>1</td><td>T</td><td>A</td><td>LG1</td></tr>\n",
       "\t<tr><th scope=row>chr1.6</th><td>seq-0-001</td><td>400216 </td><td>4.551335</td><td>0</td><td>1</td><td>0</td><td>0</td><td>1</td><td> 400216</td><td>1</td><td>1</td><td>2</td><td>T</td><td>A</td><td>LG1</td></tr>\n",
       "\t<tr><th scope=row>chr1.7</th><td>seq-0-001</td><td>1098337</td><td>5.138439</td><td>1</td><td>0</td><td>0</td><td>0</td><td>1</td><td>1098337</td><td>0</td><td>1</td><td>1</td><td>G</td><td>A</td><td>LG1</td></tr>\n",
       "\t<tr><th scope=row>chr1.9</th><td>seq-0-001</td><td>968984 </td><td>6.215677</td><td>1</td><td>0</td><td>0</td><td>0</td><td>1</td><td> 968984</td><td>0</td><td>1</td><td>2</td><td>A</td><td>G</td><td>LG1</td></tr>\n",
       "\t<tr><th scope=row>chr1.10</th><td>seq-0-001</td><td>3101638</td><td>6.431929</td><td>1</td><td>0</td><td>0</td><td>0</td><td>1</td><td>3101638</td><td>0</td><td>1</td><td>1</td><td>A</td><td>G</td><td>LG1</td></tr>\n",
       "</tbody>\n",
       "</table>\n"
      ],
      "text/latex": [
       "A data.frame: 6 × 15\n",
       "\\begin{tabular}{r|lllllllllllllll}\n",
       "  & refContig & refPosition & position & h5 & h6 & h7 & h8 & chr & bp & M7 & Nui & V06.A002-186 & Ref & Alt & LG\\\\\n",
       "  & <chr> & <chr> & <dbl> & <dbl> & <dbl> & <dbl> & <dbl> & <dbl> & <dbl> & <dbl> & <dbl> & <dbl> & <chr> & <chr> & <chr>\\\\\n",
       "\\hline\n",
       "\tchr1.1 & seq-0-001 & 1068804 & 0.000000 & 0 & 0 & 1 & 0 & 1 & 1068804 & 1 & 1 & 1 & C & T & LG1\\\\\n",
       "\tchr1.3 & seq-0-001 & 3688823 & 3.072420 & 1 & 0 & 0 & 0 & 1 & 3688823 & 0 & 1 & 1 & T & A & LG1\\\\\n",
       "\tchr1.6 & seq-0-001 & 400216  & 4.551335 & 0 & 1 & 0 & 0 & 1 &  400216 & 1 & 1 & 2 & T & A & LG1\\\\\n",
       "\tchr1.7 & seq-0-001 & 1098337 & 5.138439 & 1 & 0 & 0 & 0 & 1 & 1098337 & 0 & 1 & 1 & G & A & LG1\\\\\n",
       "\tchr1.9 & seq-0-001 & 968984  & 6.215677 & 1 & 0 & 0 & 0 & 1 &  968984 & 0 & 1 & 2 & A & G & LG1\\\\\n",
       "\tchr1.10 & seq-0-001 & 3101638 & 6.431929 & 1 & 0 & 0 & 0 & 1 & 3101638 & 0 & 1 & 1 & A & G & LG1\\\\\n",
       "\\end{tabular}\n"
      ],
      "text/markdown": [
       "\n",
       "A data.frame: 6 × 15\n",
       "\n",
       "| <!--/--> | refContig &lt;chr&gt; | refPosition &lt;chr&gt; | position &lt;dbl&gt; | h5 &lt;dbl&gt; | h6 &lt;dbl&gt; | h7 &lt;dbl&gt; | h8 &lt;dbl&gt; | chr &lt;dbl&gt; | bp &lt;dbl&gt; | M7 &lt;dbl&gt; | Nui &lt;dbl&gt; | V06.A002-186 &lt;dbl&gt; | Ref &lt;chr&gt; | Alt &lt;chr&gt; | LG &lt;chr&gt; |\n",
       "|---|---|---|---|---|---|---|---|---|---|---|---|---|---|---|---|\n",
       "| chr1.1 | seq-0-001 | 1068804 | 0.000000 | 0 | 0 | 1 | 0 | 1 | 1068804 | 1 | 1 | 1 | C | T | LG1 |\n",
       "| chr1.3 | seq-0-001 | 3688823 | 3.072420 | 1 | 0 | 0 | 0 | 1 | 3688823 | 0 | 1 | 1 | T | A | LG1 |\n",
       "| chr1.6 | seq-0-001 | 400216  | 4.551335 | 0 | 1 | 0 | 0 | 1 |  400216 | 1 | 1 | 2 | T | A | LG1 |\n",
       "| chr1.7 | seq-0-001 | 1098337 | 5.138439 | 1 | 0 | 0 | 0 | 1 | 1098337 | 0 | 1 | 1 | G | A | LG1 |\n",
       "| chr1.9 | seq-0-001 | 968984  | 6.215677 | 1 | 0 | 0 | 0 | 1 |  968984 | 0 | 1 | 2 | A | G | LG1 |\n",
       "| chr1.10 | seq-0-001 | 3101638 | 6.431929 | 1 | 0 | 0 | 0 | 1 | 3101638 | 0 | 1 | 1 | A | G | LG1 |\n",
       "\n"
      ],
      "text/plain": [
       "        refContig refPosition position h5 h6 h7 h8 chr bp      M7 Nui\n",
       "chr1.1  seq-0-001 1068804     0.000000 0  0  1  0  1   1068804 1  1  \n",
       "chr1.3  seq-0-001 3688823     3.072420 1  0  0  0  1   3688823 0  1  \n",
       "chr1.6  seq-0-001 400216      4.551335 0  1  0  0  1    400216 1  1  \n",
       "chr1.7  seq-0-001 1098337     5.138439 1  0  0  0  1   1098337 0  1  \n",
       "chr1.9  seq-0-001 968984      6.215677 1  0  0  0  1    968984 0  1  \n",
       "chr1.10 seq-0-001 3101638     6.431929 1  0  0  0  1   3101638 0  1  \n",
       "        V06.A002-186 Ref Alt LG \n",
       "chr1.1  1            C   T   LG1\n",
       "chr1.3  1            T   A   LG1\n",
       "chr1.6  2            T   A   LG1\n",
       "chr1.7  1            G   A   LG1\n",
       "chr1.9  2            A   G   LG1\n",
       "chr1.10 1            A   G   LG1"
      ]
     },
     "metadata": {},
     "output_type": "display_data"
    }
   ],
   "source": [
    "head(simplex_Nui_df)"
   ]
  },
  {
   "cell_type": "code",
   "execution_count": 53,
   "id": "05bb2cc0-62e8-4a6f-bcf7-fc00cd4e2b1b",
   "metadata": {},
   "outputs": [
    {
     "data": {
      "text/html": [
       "<table>\n",
       "<caption>A data.frame: 6 × 16</caption>\n",
       "<thead>\n",
       "\t<tr><th></th><th scope=col>refContig</th><th scope=col>refPosition</th><th scope=col>position</th><th scope=col>h5</th><th scope=col>h6</th><th scope=col>h7</th><th scope=col>h8</th><th scope=col>chr</th><th scope=col>bp</th><th scope=col>M7</th><th scope=col>Nui</th><th scope=col>V06.A002-186</th><th scope=col>Ref</th><th scope=col>Alt</th><th scope=col>LG</th><th scope=col>Hx</th></tr>\n",
       "\t<tr><th></th><th scope=col>&lt;chr&gt;</th><th scope=col>&lt;chr&gt;</th><th scope=col>&lt;dbl&gt;</th><th scope=col>&lt;dbl&gt;</th><th scope=col>&lt;dbl&gt;</th><th scope=col>&lt;dbl&gt;</th><th scope=col>&lt;dbl&gt;</th><th scope=col>&lt;dbl&gt;</th><th scope=col>&lt;dbl&gt;</th><th scope=col>&lt;dbl&gt;</th><th scope=col>&lt;dbl&gt;</th><th scope=col>&lt;dbl&gt;</th><th scope=col>&lt;chr&gt;</th><th scope=col>&lt;chr&gt;</th><th scope=col>&lt;chr&gt;</th><th scope=col>&lt;chr&gt;</th></tr>\n",
       "</thead>\n",
       "<tbody>\n",
       "\t<tr><th scope=row>chr1.1</th><td>seq-0-001</td><td>1068804</td><td>0.000000</td><td>0</td><td>0</td><td>1</td><td>0</td><td>1</td><td>1068804</td><td>1</td><td>1</td><td>1</td><td>C</td><td>T</td><td>LG1</td><td>h7</td></tr>\n",
       "\t<tr><th scope=row>chr1.3</th><td>seq-0-001</td><td>3688823</td><td>3.072420</td><td>1</td><td>0</td><td>0</td><td>0</td><td>1</td><td>3688823</td><td>0</td><td>1</td><td>1</td><td>T</td><td>A</td><td>LG1</td><td>h5</td></tr>\n",
       "\t<tr><th scope=row>chr1.6</th><td>seq-0-001</td><td>400216 </td><td>4.551335</td><td>0</td><td>1</td><td>0</td><td>0</td><td>1</td><td> 400216</td><td>1</td><td>1</td><td>2</td><td>T</td><td>A</td><td>LG1</td><td>h6</td></tr>\n",
       "\t<tr><th scope=row>chr1.7</th><td>seq-0-001</td><td>1098337</td><td>5.138439</td><td>1</td><td>0</td><td>0</td><td>0</td><td>1</td><td>1098337</td><td>0</td><td>1</td><td>1</td><td>G</td><td>A</td><td>LG1</td><td>h5</td></tr>\n",
       "\t<tr><th scope=row>chr1.9</th><td>seq-0-001</td><td>968984 </td><td>6.215677</td><td>1</td><td>0</td><td>0</td><td>0</td><td>1</td><td> 968984</td><td>0</td><td>1</td><td>2</td><td>A</td><td>G</td><td>LG1</td><td>h5</td></tr>\n",
       "\t<tr><th scope=row>chr1.10</th><td>seq-0-001</td><td>3101638</td><td>6.431929</td><td>1</td><td>0</td><td>0</td><td>0</td><td>1</td><td>3101638</td><td>0</td><td>1</td><td>1</td><td>A</td><td>G</td><td>LG1</td><td>h5</td></tr>\n",
       "</tbody>\n",
       "</table>\n"
      ],
      "text/latex": [
       "A data.frame: 6 × 16\n",
       "\\begin{tabular}{r|llllllllllllllll}\n",
       "  & refContig & refPosition & position & h5 & h6 & h7 & h8 & chr & bp & M7 & Nui & V06.A002-186 & Ref & Alt & LG & Hx\\\\\n",
       "  & <chr> & <chr> & <dbl> & <dbl> & <dbl> & <dbl> & <dbl> & <dbl> & <dbl> & <dbl> & <dbl> & <dbl> & <chr> & <chr> & <chr> & <chr>\\\\\n",
       "\\hline\n",
       "\tchr1.1 & seq-0-001 & 1068804 & 0.000000 & 0 & 0 & 1 & 0 & 1 & 1068804 & 1 & 1 & 1 & C & T & LG1 & h7\\\\\n",
       "\tchr1.3 & seq-0-001 & 3688823 & 3.072420 & 1 & 0 & 0 & 0 & 1 & 3688823 & 0 & 1 & 1 & T & A & LG1 & h5\\\\\n",
       "\tchr1.6 & seq-0-001 & 400216  & 4.551335 & 0 & 1 & 0 & 0 & 1 &  400216 & 1 & 1 & 2 & T & A & LG1 & h6\\\\\n",
       "\tchr1.7 & seq-0-001 & 1098337 & 5.138439 & 1 & 0 & 0 & 0 & 1 & 1098337 & 0 & 1 & 1 & G & A & LG1 & h5\\\\\n",
       "\tchr1.9 & seq-0-001 & 968984  & 6.215677 & 1 & 0 & 0 & 0 & 1 &  968984 & 0 & 1 & 2 & A & G & LG1 & h5\\\\\n",
       "\tchr1.10 & seq-0-001 & 3101638 & 6.431929 & 1 & 0 & 0 & 0 & 1 & 3101638 & 0 & 1 & 1 & A & G & LG1 & h5\\\\\n",
       "\\end{tabular}\n"
      ],
      "text/markdown": [
       "\n",
       "A data.frame: 6 × 16\n",
       "\n",
       "| <!--/--> | refContig &lt;chr&gt; | refPosition &lt;chr&gt; | position &lt;dbl&gt; | h5 &lt;dbl&gt; | h6 &lt;dbl&gt; | h7 &lt;dbl&gt; | h8 &lt;dbl&gt; | chr &lt;dbl&gt; | bp &lt;dbl&gt; | M7 &lt;dbl&gt; | Nui &lt;dbl&gt; | V06.A002-186 &lt;dbl&gt; | Ref &lt;chr&gt; | Alt &lt;chr&gt; | LG &lt;chr&gt; | Hx &lt;chr&gt; |\n",
       "|---|---|---|---|---|---|---|---|---|---|---|---|---|---|---|---|---|\n",
       "| chr1.1 | seq-0-001 | 1068804 | 0.000000 | 0 | 0 | 1 | 0 | 1 | 1068804 | 1 | 1 | 1 | C | T | LG1 | h7 |\n",
       "| chr1.3 | seq-0-001 | 3688823 | 3.072420 | 1 | 0 | 0 | 0 | 1 | 3688823 | 0 | 1 | 1 | T | A | LG1 | h5 |\n",
       "| chr1.6 | seq-0-001 | 400216  | 4.551335 | 0 | 1 | 0 | 0 | 1 |  400216 | 1 | 1 | 2 | T | A | LG1 | h6 |\n",
       "| chr1.7 | seq-0-001 | 1098337 | 5.138439 | 1 | 0 | 0 | 0 | 1 | 1098337 | 0 | 1 | 1 | G | A | LG1 | h5 |\n",
       "| chr1.9 | seq-0-001 | 968984  | 6.215677 | 1 | 0 | 0 | 0 | 1 |  968984 | 0 | 1 | 2 | A | G | LG1 | h5 |\n",
       "| chr1.10 | seq-0-001 | 3101638 | 6.431929 | 1 | 0 | 0 | 0 | 1 | 3101638 | 0 | 1 | 1 | A | G | LG1 | h5 |\n",
       "\n"
      ],
      "text/plain": [
       "        refContig refPosition position h5 h6 h7 h8 chr bp      M7 Nui\n",
       "chr1.1  seq-0-001 1068804     0.000000 0  0  1  0  1   1068804 1  1  \n",
       "chr1.3  seq-0-001 3688823     3.072420 1  0  0  0  1   3688823 0  1  \n",
       "chr1.6  seq-0-001 400216      4.551335 0  1  0  0  1    400216 1  1  \n",
       "chr1.7  seq-0-001 1098337     5.138439 1  0  0  0  1   1098337 0  1  \n",
       "chr1.9  seq-0-001 968984      6.215677 1  0  0  0  1    968984 0  1  \n",
       "chr1.10 seq-0-001 3101638     6.431929 1  0  0  0  1   3101638 0  1  \n",
       "        V06.A002-186 Ref Alt LG  Hx\n",
       "chr1.1  1            C   T   LG1 h7\n",
       "chr1.3  1            T   A   LG1 h5\n",
       "chr1.6  2            T   A   LG1 h6\n",
       "chr1.7  1            G   A   LG1 h5\n",
       "chr1.9  2            A   G   LG1 h5\n",
       "chr1.10 1            A   G   LG1 h5"
      ]
     },
     "metadata": {},
     "output_type": "display_data"
    }
   ],
   "source": [
    "# Create the \"Hx\" column\n",
    "simplex_Nui_df <- simplex_Nui_df %>%\n",
    "  mutate(Hx = paste0(\"h\", \n",
    "                     ifelse(h5 == 1, \"5\", \"\"),\n",
    "                      ifelse(h6 == 1, \"6\", \"\"),\n",
    "                      ifelse(h7 == 1, \"7\", \"\"),\n",
    "                      ifelse(h8 == 1, \"8\", \"\")))\n",
    "\n",
    "head(simplex_Nui_df)\n"
   ]
  },
  {
   "cell_type": "code",
   "execution_count": 54,
   "id": "c1d7934c-d6a9-449f-bd39-f28bcb009f38",
   "metadata": {},
   "outputs": [
    {
     "data": {
      "text/html": [
       "<table>\n",
       "<caption>A data.frame: 6 × 16</caption>\n",
       "<thead>\n",
       "\t<tr><th></th><th scope=col>refContig</th><th scope=col>refPosition</th><th scope=col>position</th><th scope=col>h1</th><th scope=col>h2</th><th scope=col>h3</th><th scope=col>h4</th><th scope=col>chr</th><th scope=col>bp</th><th scope=col>M7</th><th scope=col>Nui</th><th scope=col>V06.A002-186</th><th scope=col>Ref</th><th scope=col>Alt</th><th scope=col>LG</th><th scope=col>Hx</th></tr>\n",
       "\t<tr><th></th><th scope=col>&lt;chr&gt;</th><th scope=col>&lt;chr&gt;</th><th scope=col>&lt;dbl&gt;</th><th scope=col>&lt;dbl&gt;</th><th scope=col>&lt;dbl&gt;</th><th scope=col>&lt;dbl&gt;</th><th scope=col>&lt;dbl&gt;</th><th scope=col>&lt;dbl&gt;</th><th scope=col>&lt;dbl&gt;</th><th scope=col>&lt;dbl&gt;</th><th scope=col>&lt;dbl&gt;</th><th scope=col>&lt;dbl&gt;</th><th scope=col>&lt;chr&gt;</th><th scope=col>&lt;chr&gt;</th><th scope=col>&lt;chr&gt;</th><th scope=col>&lt;chr&gt;</th></tr>\n",
       "</thead>\n",
       "<tbody>\n",
       "\t<tr><th scope=row>chr1.1</th><td>seq-0-001</td><td>1068804</td><td>0.000000</td><td>0</td><td>0</td><td>0</td><td>1</td><td>1</td><td>1068804</td><td>1</td><td>1</td><td>1</td><td>C</td><td>T</td><td>LG1</td><td>h4</td></tr>\n",
       "\t<tr><th scope=row>chr1.2</th><td>seq-0-001</td><td>1215280</td><td>1.739313</td><td>0</td><td>1</td><td>0</td><td>0</td><td>1</td><td>1215280</td><td>1</td><td>2</td><td>1</td><td>C</td><td>T</td><td>LG1</td><td>h2</td></tr>\n",
       "\t<tr><th scope=row>chr1.4</th><td>seq-0-001</td><td>2717632</td><td>3.286541</td><td>0</td><td>0</td><td>1</td><td>0</td><td>1</td><td>2717632</td><td>1</td><td>2</td><td>0</td><td>C</td><td>G</td><td>LG1</td><td>h3</td></tr>\n",
       "\t<tr><th scope=row>chr1.5</th><td>seq-0-001</td><td>2176934</td><td>4.536024</td><td>0</td><td>1</td><td>0</td><td>0</td><td>1</td><td>2176934</td><td>1</td><td>0</td><td>0</td><td>T</td><td>C</td><td>LG1</td><td>h2</td></tr>\n",
       "\t<tr><th scope=row>chr1.6</th><td>seq-0-001</td><td>400216 </td><td>4.551335</td><td>0</td><td>1</td><td>0</td><td>0</td><td>1</td><td> 400216</td><td>1</td><td>1</td><td>2</td><td>T</td><td>A</td><td>LG1</td><td>h2</td></tr>\n",
       "\t<tr><th scope=row>chr1.11</th><td>seq-0-001</td><td>516531 </td><td>6.661429</td><td>0</td><td>1</td><td>0</td><td>0</td><td>1</td><td> 516531</td><td>1</td><td>1</td><td>1</td><td>T</td><td>C</td><td>LG1</td><td>h2</td></tr>\n",
       "</tbody>\n",
       "</table>\n"
      ],
      "text/latex": [
       "A data.frame: 6 × 16\n",
       "\\begin{tabular}{r|llllllllllllllll}\n",
       "  & refContig & refPosition & position & h1 & h2 & h3 & h4 & chr & bp & M7 & Nui & V06.A002-186 & Ref & Alt & LG & Hx\\\\\n",
       "  & <chr> & <chr> & <dbl> & <dbl> & <dbl> & <dbl> & <dbl> & <dbl> & <dbl> & <dbl> & <dbl> & <dbl> & <chr> & <chr> & <chr> & <chr>\\\\\n",
       "\\hline\n",
       "\tchr1.1 & seq-0-001 & 1068804 & 0.000000 & 0 & 0 & 0 & 1 & 1 & 1068804 & 1 & 1 & 1 & C & T & LG1 & h4\\\\\n",
       "\tchr1.2 & seq-0-001 & 1215280 & 1.739313 & 0 & 1 & 0 & 0 & 1 & 1215280 & 1 & 2 & 1 & C & T & LG1 & h2\\\\\n",
       "\tchr1.4 & seq-0-001 & 2717632 & 3.286541 & 0 & 0 & 1 & 0 & 1 & 2717632 & 1 & 2 & 0 & C & G & LG1 & h3\\\\\n",
       "\tchr1.5 & seq-0-001 & 2176934 & 4.536024 & 0 & 1 & 0 & 0 & 1 & 2176934 & 1 & 0 & 0 & T & C & LG1 & h2\\\\\n",
       "\tchr1.6 & seq-0-001 & 400216  & 4.551335 & 0 & 1 & 0 & 0 & 1 &  400216 & 1 & 1 & 2 & T & A & LG1 & h2\\\\\n",
       "\tchr1.11 & seq-0-001 & 516531  & 6.661429 & 0 & 1 & 0 & 0 & 1 &  516531 & 1 & 1 & 1 & T & C & LG1 & h2\\\\\n",
       "\\end{tabular}\n"
      ],
      "text/markdown": [
       "\n",
       "A data.frame: 6 × 16\n",
       "\n",
       "| <!--/--> | refContig &lt;chr&gt; | refPosition &lt;chr&gt; | position &lt;dbl&gt; | h1 &lt;dbl&gt; | h2 &lt;dbl&gt; | h3 &lt;dbl&gt; | h4 &lt;dbl&gt; | chr &lt;dbl&gt; | bp &lt;dbl&gt; | M7 &lt;dbl&gt; | Nui &lt;dbl&gt; | V06.A002-186 &lt;dbl&gt; | Ref &lt;chr&gt; | Alt &lt;chr&gt; | LG &lt;chr&gt; | Hx &lt;chr&gt; |\n",
       "|---|---|---|---|---|---|---|---|---|---|---|---|---|---|---|---|---|\n",
       "| chr1.1 | seq-0-001 | 1068804 | 0.000000 | 0 | 0 | 0 | 1 | 1 | 1068804 | 1 | 1 | 1 | C | T | LG1 | h4 |\n",
       "| chr1.2 | seq-0-001 | 1215280 | 1.739313 | 0 | 1 | 0 | 0 | 1 | 1215280 | 1 | 2 | 1 | C | T | LG1 | h2 |\n",
       "| chr1.4 | seq-0-001 | 2717632 | 3.286541 | 0 | 0 | 1 | 0 | 1 | 2717632 | 1 | 2 | 0 | C | G | LG1 | h3 |\n",
       "| chr1.5 | seq-0-001 | 2176934 | 4.536024 | 0 | 1 | 0 | 0 | 1 | 2176934 | 1 | 0 | 0 | T | C | LG1 | h2 |\n",
       "| chr1.6 | seq-0-001 | 400216  | 4.551335 | 0 | 1 | 0 | 0 | 1 |  400216 | 1 | 1 | 2 | T | A | LG1 | h2 |\n",
       "| chr1.11 | seq-0-001 | 516531  | 6.661429 | 0 | 1 | 0 | 0 | 1 |  516531 | 1 | 1 | 1 | T | C | LG1 | h2 |\n",
       "\n"
      ],
      "text/plain": [
       "        refContig refPosition position h1 h2 h3 h4 chr bp      M7 Nui\n",
       "chr1.1  seq-0-001 1068804     0.000000 0  0  0  1  1   1068804 1  1  \n",
       "chr1.2  seq-0-001 1215280     1.739313 0  1  0  0  1   1215280 1  2  \n",
       "chr1.4  seq-0-001 2717632     3.286541 0  0  1  0  1   2717632 1  2  \n",
       "chr1.5  seq-0-001 2176934     4.536024 0  1  0  0  1   2176934 1  0  \n",
       "chr1.6  seq-0-001 400216      4.551335 0  1  0  0  1    400216 1  1  \n",
       "chr1.11 seq-0-001 516531      6.661429 0  1  0  0  1    516531 1  1  \n",
       "        V06.A002-186 Ref Alt LG  Hx\n",
       "chr1.1  1            C   T   LG1 h4\n",
       "chr1.2  1            C   T   LG1 h2\n",
       "chr1.4  0            C   G   LG1 h3\n",
       "chr1.5  0            T   C   LG1 h2\n",
       "chr1.6  2            T   A   LG1 h2\n",
       "chr1.11 1            T   C   LG1 h2"
      ]
     },
     "metadata": {},
     "output_type": "display_data"
    }
   ],
   "source": [
    "# Repeat for M7\n",
    "simplex_M7_df <- simplex_M7_df %>%\n",
    "  mutate(Hx = paste0(\"h\", \n",
    "                     ifelse(h1 == 1, \"1\", \"\"),\n",
    "                      ifelse(h2 == 1, \"2\", \"\"),\n",
    "                      ifelse(h3 == 1, \"3\", \"\"),\n",
    "                      ifelse(h4 == 1, \"4\", \"\")))\n",
    "\n",
    "head(simplex_M7_df)"
   ]
  },
  {
   "cell_type": "code",
   "execution_count": null,
   "id": "1819a98d-90e1-4380-8dc7-b0d3fb11684b",
   "metadata": {},
   "outputs": [],
   "source": []
  },
  {
   "cell_type": "code",
   "execution_count": 55,
   "id": "e30197a8-3322-42eb-acb3-6b89c302ddea",
   "metadata": {},
   "outputs": [],
   "source": [
    "write.csv(simplex_M7_df, file = \"simplex_M7.csv\", row.names = TRUE)\n",
    "write.csv(simplex_Nui_df, file = \"simplex_Nui.csv\", row.names = TRUE)"
   ]
  },
  {
   "cell_type": "code",
   "execution_count": null,
   "id": "aadaa99d-cfb6-4b92-88e7-d2b1531c4a5c",
   "metadata": {},
   "outputs": [],
   "source": []
  }
 ],
 "metadata": {
  "kernelspec": {
   "display_name": "R-4.0.0",
   "language": "R",
   "name": "ir4.0.0"
  },
  "language_info": {
   "codemirror_mode": "r",
   "file_extension": ".r",
   "mimetype": "text/x-r-source",
   "name": "R",
   "pygments_lexer": "r",
   "version": "4.0.0"
  }
 },
 "nbformat": 4,
 "nbformat_minor": 5
}
