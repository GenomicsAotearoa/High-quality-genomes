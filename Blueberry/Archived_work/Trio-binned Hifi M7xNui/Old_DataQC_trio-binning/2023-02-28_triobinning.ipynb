{
 "cells": [
  {
   "cell_type": "markdown",
   "id": "d9101b5e-347d-495a-8214-62beeabffd34",
   "metadata": {},
   "source": [
    "# Reads\n",
    "* Nui (Mother)\n",
    "* M7 (Hortblue Petite) (Father)\n",
    "\n",
    "Trio-binning scripts downloaded from: https://github.com/esrice/trio_binning"
   ]
  },
  {
   "cell_type": "code",
   "execution_count": 1,
   "id": "5fb2e1d6-80da-4789-8383-51baac8b3773",
   "metadata": {},
   "outputs": [],
   "source": [
    "## Nui\n",
    "NUI_R1=/powerplant/input/genomic/plant/Vaccinium/corymbosum/ExperimentRequestor10969_NuixM7_TrioBin/816043/Nui_L001_ds.8485a4d14def4ea9ad3784b85fadd7a2/Nui_S2_L001_R1_001.fastq.gz\t\n",
    "NUI_R1=/powerplant/input/genomic/plant/Vaccinium/corymbosum/ExperimentRequestor10969_NuixM7_TrioBin/816043/Nui_L001_ds.8485a4d14def4ea9ad3784b85fadd7a2/Nui_S2_L001_R2_001.fastq.gz\t\n",
    "\n",
    "## M7\n",
    "M7_L001_R1=/powerplant/input/genomic/plant/Vaccinium/corymbosum/ExperimentRequestor10969_NuixM7_TrioBin/816043/M7_L001_ds.588732e90e434df093aa5fbfe0ad68c2/M7_S1_L001_R1_001.fastq.gz\n",
    "M7_L001_R2=/powerplant/input/genomic/plant/Vaccinium/corymbosum/ExperimentRequestor10969_NuixM7_TrioBin/816043/M7_L001_ds.588732e90e434df093aa5fbfe0ad68c2/M7_S1_L001_R2_001.fastq.gz\n",
    "M7_L004_R1=/powerplant/input/genomic/plant/Vaccinium/corymbosum/ExperimentRequestor10969_NuixM7_TrioBin/816043/M7_L004_ds.3bb185df2b8c4f09a01f7279b8236997/M7_S1_L004_R1_001.fastq.gz\n",
    "M7_L004_R2=/powerplant/input/genomic/plant/Vaccinium/corymbosum/ExperimentRequestor10969_NuixM7_TrioBin/816043/M7_L004_ds.3bb185df2b8c4f09a01f7279b8236997/M7_S1_L004_R2_001.fastq.gz\n",
    "\n",
    "## progeny\n",
    "progeny1=/powerplant/input/genomic/plant/Vaccinium/corymbosum/ExperimentRequestor10969_NuixM7_TrioBin/Blueberry_M7xNui/SMRTcell1/CCS_Data/m64136_221113_041854.hifi_reads.fastq.gz\n",
    "## 15G\n",
    "progeny2=/powerplant/input/genomic/plant/Vaccinium/corymbosum/ExperimentRequestor10969_NuixM7_TrioBin/Blueberry_M7xNui/SMRTcell2/CCS_Data/m64136_221114_133241.hifi_reads.fastq.gz\n",
    "## 19G"
   ]
  },
  {
   "cell_type": "markdown",
   "id": "fb27e985-af48-4e4a-bd55-ca1743f3340c",
   "metadata": {},
   "source": [
    "# Module"
   ]
  },
  {
   "cell_type": "code",
   "execution_count": 2,
   "id": "e38ed301-6eda-4dd3-b661-2ec83d759e89",
   "metadata": {},
   "outputs": [],
   "source": [
    "TRIO_BIN=/powerplant/workspace/hrasrb/my_modules/trio_binning"
   ]
  },
  {
   "cell_type": "markdown",
   "id": "d2d43499-fef4-46ee-b50e-7d81b1ba8eb3",
   "metadata": {},
   "source": [
    "# Find Unique Kmers"
   ]
  },
  {
   "cell_type": "code",
   "execution_count": 3,
   "id": "0d753f17-35b4-4222-b60c-ffa8a5035491",
   "metadata": {},
   "outputs": [
    {
     "name": "stdout",
     "output_type": "stream",
     "text": [
      "Submitted batch job 1039699\n"
     ]
    }
   ],
   "source": [
    "# set variables for directories\n",
    "BASE=/powerplant/workspace/hrasrb/Blueberry_trio\n",
    "WKDIR=${BASE}/trio-binning\n",
    "LOG=${BASE}/log\n",
    "\n",
    "# define a subdir for this step's output\n",
    "OUTPUT=${WKDIR}/01.find-unique-kmers\n",
    "mkdir -p $OUTPUT\n",
    "INTERMEDIATE_DIR=${WKDIR}/intermediate_result_dir\n",
    "mkdir -p $INTERMEDIATE_DIR\n",
    "\n",
    "\n",
    "module load pfr-python3\n",
    "module load KMC/3.0.0\n",
    "\n",
    "# Submit the job with the here-doc script.\n",
    "\n",
    "# Note the shell $VARIABLES are evaluated in the here-doc.\n",
    "# Note the lines beggining with #SBATCH are equivalent to the usual sbatch CLI arguments\n",
    "\n",
    "sbatch << EOF\n",
    "#!/bin/bash\n",
    "#SBATCH -J findUniqKmers\n",
    "#SBATCH --output=${LOG}/hrasrb_%j.out\n",
    "#SBATCH --error=${LOG}/hrasrb_%j.err\n",
    "#SBATCH --mail-user=Sarah.Bailey@plantandfood.co.nz\n",
    "#SBATCH --mail-type=ALL\n",
    "#SBATCH --cpus-per-task=16\n",
    "#SBATCH --mem=100G\n",
    "#SBATCH --time=10:00:00\n",
    "\n",
    "# load the module inside the job\n",
    "\n",
    "$TRIO_BIN/find-unique-kmers \\\n",
    "  -k 21 \\\n",
    "  -p 16 \\\n",
    "  -o $OUTPUT \\\n",
    "  -s $INTERMEDIATE_DIR \\\n",
    "  $NUI_R1,$NUI_R2 \\\n",
    "  $M7_L001_R1,$M7_L001_R2,$M7_L004_R1,$M7_L004_2_R2\n",
    "\n",
    "EOF\n",
    "module unload pfr-python3\n",
    "module unload KMC/3.0.0"
   ]
  },
  {
   "cell_type": "code",
   "execution_count": null,
   "id": "a30b333e-a6f7-488c-8ad8-33f8fbb617b3",
   "metadata": {},
   "outputs": [],
   "source": [
    "# job 1039699"
   ]
  },
  {
   "cell_type": "markdown",
   "id": "f12329b4-9961-4619-8d8d-08d47a48d606",
   "metadata": {},
   "source": [
    "* Nui unique kmers in hapA_only_kmers.txt\n",
    "* M7 unique kmers in hapB_only_kmers.txt"
   ]
  },
  {
   "cell_type": "code",
   "execution_count": 6,
   "id": "f766c9a2-04c8-4db0-b845-6675cede1f12",
   "metadata": {},
   "outputs": [
    {
     "name": "stdout",
     "output_type": "stream",
     "text": [
      "Job ID: 1039699\n",
      "Cluster: powerplant\n",
      "User/Group: hrasrb/hrasrb\n",
      "State: COMPLETED (exit code 0)\n",
      "Nodes: 1\n",
      "Cores per node: 16\n",
      "CPU Utilized: 01:07:53\n",
      "CPU Efficiency: 32.26% of 03:30:24 core-walltime\n",
      "Job Wall-clock time: 00:13:09\n",
      "Memory Utilized: 11.23 GB\n",
      "Memory Efficiency: 11.23% of 100.00 GB\n"
     ]
    }
   ],
   "source": [
    "seff 1039699"
   ]
  },
  {
   "cell_type": "code",
   "execution_count": 7,
   "id": "5b25e05c-3d14-4eea-b1f6-3d3c41ef6cf7",
   "metadata": {},
   "outputs": [],
   "source": [
    "cd $LOG"
   ]
  },
  {
   "cell_type": "code",
   "execution_count": 8,
   "id": "8a63596c-e7e2-491c-b1f6-92b34f9563b6",
   "metadata": {},
   "outputs": [
    {
     "name": "stdout",
     "output_type": "stream",
     "text": [
      "*****************\n",
      "Stage 1: 100%\n",
      "Stage 2: 100%\n",
      "1st stage: 145.084s\n",
      "2nd stage: 77.1244s\n",
      "Total    : 222.209s\n",
      "Tmp size : 16169MB\n",
      "\n",
      "Stats:\n",
      "   No. of k-mers below min. threshold :   1565088859\n",
      "   No. of k-mers above max. threshold :            0\n",
      "   No. of unique k-mers               :   2347467521\n",
      "   No. of unique counted k-mers       :    782378662\n",
      "   Total no. of k-mers                :  12919883616\n",
      "   Total no. of reads                 :    100266085\n",
      "   Total no. of super-k-mers          :   1983446412\n",
      "in1: 100% \n",
      "***************************************\n",
      "Stage 1: 100%\n",
      "Stage 2: 100%\n",
      "1st stage: 186.128s\n",
      "2nd stage: 185.499s\n",
      "Total    : 371.627s\n",
      "Tmp size : 38534MB\n",
      "\n",
      "Stats:\n",
      "   No. of k-mers below min. threshold :   2026580058\n",
      "   No. of k-mers above max. threshold :            0\n",
      "   No. of unique k-mers               :   2947122095\n",
      "   No. of unique counted k-mers       :    920542037\n",
      "   Total no. of k-mers                :  30786079495\n",
      "   Total no. of reads                 :    239303325\n",
      "   Total no. of super-k-mers          :   4726815278\n",
      "in1: 100% \n",
      "in1: 100% in2: 100% \n",
      "in1: 100% in2: 100% \n"
     ]
    }
   ],
   "source": [
    "cat *1039699.out"
   ]
  },
  {
   "cell_type": "code",
   "execution_count": 9,
   "id": "7b2e9adb-33cc-4a01-872f-5dead5fc52ae",
   "metadata": {},
   "outputs": [
    {
     "name": "stdout",
     "output_type": "stream",
     "text": [
      "\u001b[92mCounting k-mers in haplotype A...\u001b[0m\n",
      "\u001b[92mComputing and analyzing histogram...\u001b[0m\n",
      "WARNING: min and max coverage not very far apart. This may be a result of coverage being too low. Try taking a look at the histogram in \"/powerplant/workspace/hrasrb/Blueberry_trio/trio-binning/intermediate_result_dir/6081308\" yourself.\n",
      "\u001b[92mUsing counts in range [163,165].\u001b[0m\n",
      "\u001b[92mCounting k-mers in haplotype B...\u001b[0m\n",
      "\u001b[92mComputing and analyzing histogram...\u001b[0m\n",
      "\u001b[92mUsing counts in range [5,20].\u001b[0m\n",
      "\u001b[92mFinding k-mers unique to haplotype A...\u001b[0m\n",
      "\u001b[92mDumping k-mers unique to haplotype A...\u001b[0m\n",
      "\u001b[92mFinding k-mers unique to haplotype B...\u001b[0m\n",
      "\u001b[92mDumping k-mers unique to haplotype A...\u001b[0m\n",
      "\n",
      "\n",
      "\u001b[94m# of unique k-mers in haplotype A: 253176103\u001b[0m\n",
      "\u001b[94m# of unique k-mers in haplotype B: 391339478\u001b[0m\n"
     ]
    }
   ],
   "source": [
    "cat *1039699.err"
   ]
  },
  {
   "cell_type": "markdown",
   "id": "d957bd5a-9e65-4e7e-85b8-52d09b0ee898",
   "metadata": {},
   "source": [
    "# Classify HiFi - Set 1"
   ]
  },
  {
   "cell_type": "code",
   "execution_count": 4,
   "id": "6d2cfd78-6578-451e-829b-36019c6ee0d1",
   "metadata": {},
   "outputs": [
    {
     "name": "stdout",
     "output_type": "stream",
     "text": [
      "Submitted batch job 1039705\n"
     ]
    }
   ],
   "source": [
    "# set variables for directories\n",
    "BASE=/powerplant/workspace/hrasrb/Blueberry_trio\n",
    "WKDIR=${BASE}/trio-binning\n",
    "LOG=${BASE}/log\n",
    "\n",
    "INPUT=${WKDIR}/01.find-unique-kmers\n",
    "\n",
    "# define a subdir for this step's output\n",
    "OUTPUT=${WKDIR}/02.classifyHiFi\n",
    "mkdir -p $OUTPUT\n",
    "\n",
    "# Submit the job with the here-doc script.\n",
    "\n",
    "# Note the shell $VARIABLES are evaluated in the here-doc.\n",
    "# Note the lines beggining with #SBATCH are equivalent to the usual sbatch CLI arguments\n",
    "\n",
    "sbatch --dependency=afterok:1039699 << EOF\n",
    "#!/bin/bash\n",
    "#SBATCH -J classifyHiFi\n",
    "#SBATCH --output=${LOG}/hrasrb_%j.out\n",
    "#SBATCH --error=${LOG}/hrasrb_%j.err\n",
    "#SBATCH --mail-user=Sarah.Bailey@plantandfood.co.nz\n",
    "#SBATCH --mail-type=ALL\n",
    "#SBATCH --cpus-per-task=12\n",
    "#SBATCH --mem=100G\n",
    "#SBATCH --time=10:00:00\n",
    "\n",
    "# load the module inside the job\n",
    "\n",
    "$TRIO_BIN/classify_by_kmers \\\n",
    "    -a $INPUT/hapA_only_kmers.txt \\\n",
    "    -A $OUTPUT/classified_progeny1_hapA_Nui \\\n",
    "    -b $INPUT/hapB_only_kmers.txt \\\n",
    "    -B $OUTPUT/classified_progeny1_hapB_M7 \\\n",
    "    -U $OUTPUT/unclassified_progeny1 \\\n",
    "    -i ${progeny1} \\\n",
    "    --threads 12\n",
    "\n",
    "EOF\n",
    "#squeue"
   ]
  },
  {
   "cell_type": "code",
   "execution_count": null,
   "id": "a765e3c7-e76d-4ac5-b61e-906d73999e7b",
   "metadata": {},
   "outputs": [],
   "source": [
    "# job 1039705"
   ]
  },
  {
   "cell_type": "code",
   "execution_count": 2,
   "id": "c75ddb0f-4888-4be6-9cd4-ec9227e8c9d1",
   "metadata": {},
   "outputs": [],
   "source": [
    "# set variables for directories\n",
    "BASE=/powerplant/workspace/hrasrb/Blueberry_trio\n",
    "LOG=${BASE}/log\n",
    "cd $LOG"
   ]
  },
  {
   "cell_type": "code",
   "execution_count": 2,
   "id": "6736a003-7476-4aaf-8973-01afbdcf91e0",
   "metadata": {},
   "outputs": [
    {
     "name": "stdout",
     "output_type": "stream",
     "text": [
      "\u001b[1;34mReading k-mers into sets...\u001b[0m\n",
      "\u001b[1;34mClassifying reads...\u001b[0m\n"
     ]
    }
   ],
   "source": [
    "cat *1039705.err"
   ]
  },
  {
   "cell_type": "code",
   "execution_count": 3,
   "id": "0d8e2277-3f1b-4383-ad32-8cfd0f5b8e0b",
   "metadata": {},
   "outputs": [
    {
     "name": "stdout",
     "output_type": "stream",
     "text": [
      "m64136_221113_041854/69797155/ccs\tA\t20.094368\t9\n",
      "m64136_221113_041854/69797162/ccs\tA\t1089.733\t12\n",
      "m64136_221113_041854/69797166/ccs\tB\t10.820044\t57\n",
      "m64136_221113_041854/69797168/ccs\tB\t0\t301\n",
      "m64136_221113_041854/69797169/ccs\tA\t74.19459\t9\n",
      "m64136_221113_041854/69797171/ccs\tB\t1.5457206\t383\n",
      "m64136_221113_041854/69797176/ccs\tA\t370.97293\t40\n",
      "m64136_221113_041854/69797179/ccs\tB\t1.5457206\t433\n",
      "m64136_221113_041854/69797186/ccs\tA\t54.10022\t15\n",
      "m64136_221113_041854/69797193/ccs\tA\t683.2085\t4\n"
     ]
    }
   ],
   "source": [
    "tail *1039705.out"
   ]
  },
  {
   "cell_type": "markdown",
   "id": "526c55ef-7838-48da-8a68-17e958d5b881",
   "metadata": {},
   "source": [
    "# Classify HiFi - Set 2"
   ]
  },
  {
   "cell_type": "code",
   "execution_count": 5,
   "id": "f8f5367b-9a9f-4cc6-a282-063f8d0e21f9",
   "metadata": {},
   "outputs": [
    {
     "name": "stdout",
     "output_type": "stream",
     "text": [
      "Submitted batch job 1039707\n"
     ]
    }
   ],
   "source": [
    "# set variables for directories\n",
    "BASE=/powerplant/workspace/hrasrb/Blueberry_trio\n",
    "WKDIR=${BASE}/trio-binning\n",
    "LOG=${BASE}/log\n",
    "\n",
    "INPUT=${WKDIR}/01.find-unique-kmers\n",
    "\n",
    "# define a subdir for this step's output\n",
    "OUTPUT=${WKDIR}/02.classifyHiFi_p2\n",
    "mkdir -p $OUTPUT\n",
    "\n",
    "# Submit the job with the here-doc script.\n",
    "\n",
    "# Note the shell $VARIABLES are evaluated in the here-doc.\n",
    "# Note the lines beggining with #SBATCH are equivalent to the usual sbatch CLI arguments\n",
    "\n",
    "sbatch --dependency=afterok:1039699 << EOF\n",
    "#!/bin/bash\n",
    "#SBATCH -J classifyHiFi\n",
    "#SBATCH --output=${LOG}/hrasrb_%j.out\n",
    "#SBATCH --error=${LOG}/hrasrb_%j.err\n",
    "#SBATCH --mail-user=Sarah.Bailey@plantandfood.co.nz\n",
    "#SBATCH --mail-type=ALL\n",
    "#SBATCH --cpus-per-task=12\n",
    "#SBATCH --mem=100G\n",
    "#SBATCH --time=10:00:00\n",
    "\n",
    "# load the module inside the job\n",
    "\n",
    "$TRIO_BIN/classify_by_kmers \\\n",
    "    -a $INPUT/hapA_only_kmers.txt \\\n",
    "    -A $OUTPUT/classified_progeny2_hapA_Nui \\\n",
    "    -b $INPUT/hapB_only_kmers.txt \\\n",
    "    -B $OUTPUT/classified_progeny2_hapB_M7 \\\n",
    "    -U $OUTPUT/unclassified_progeny2 \\\n",
    "    -i ${progeny2} \\\n",
    "    --threads 12\n",
    "\n",
    "EOF\n",
    "#squeue"
   ]
  },
  {
   "cell_type": "code",
   "execution_count": null,
   "id": "b906bf40-23a2-4648-9086-6059865a3d43",
   "metadata": {},
   "outputs": [],
   "source": [
    "# job 1039707"
   ]
  },
  {
   "cell_type": "code",
   "execution_count": 5,
   "id": "894867a3-1f25-4d18-9fb3-fedd70d79b99",
   "metadata": {},
   "outputs": [
    {
     "name": "stdout",
     "output_type": "stream",
     "text": [
      "\u001b[1;34mReading k-mers into sets...\u001b[0m\n",
      "\u001b[1;34mClassifying reads...\u001b[0m\n"
     ]
    }
   ],
   "source": [
    "cat *1039707.err"
   ]
  },
  {
   "cell_type": "code",
   "execution_count": 4,
   "id": "c1ead434-a2d7-47d1-9cff-4c41d5929b2d",
   "metadata": {},
   "outputs": [
    {
     "name": "stdout",
     "output_type": "stream",
     "text": [
      "m64136_221114_133241/25231828/ccs\tA\t75.74031\t18\n",
      "m64136_221114_133241/25231835/ccs\tB\t0\t311\n",
      "m64136_221114_133241/25231838/ccs\tB\t6.1828823\t589\n",
      "m64136_221114_133241/25231848/ccs\tB\t9.274323\t285\n",
      "m64136_221114_133241/25231854/ccs\tA\t168.48354\t5\n",
      "m64136_221114_133241/25231858/ccs\tB\t4.6371617\t275\n",
      "m64136_221114_133241/25231867/ccs\tB\t9.274323\t572\n",
      "m64136_221114_133241/25231878/ccs\tA\t46.371616\t4\n",
      "m64136_221114_133241/25231883/ccs\tA\t1425.1544\t24\n",
      "m64136_221114_133241/25231891/ccs\tB\t1.5457206\t323\n"
     ]
    }
   ],
   "source": [
    "tail *1039707.out"
   ]
  },
  {
   "cell_type": "code",
   "execution_count": 10,
   "id": "20994343-a8ba-4b6b-a176-6e13ca16480f",
   "metadata": {},
   "outputs": [
    {
     "name": "stdout",
     "output_type": "stream",
     "text": [
      "             JOBID PARTITION     NAME     USER ST       TIME  NODES NODELIST(REASON)\n",
      "           1008034      long resume_s   hrasrb  R 5-01:56:43      1 aklppb30\n",
      "           1039705     short classify   hrasrb  R    1:53:34      1 aklppb30\n",
      "           1039707     short classify   hrasrb  R    1:53:34      1 aklppb30\n"
     ]
    }
   ],
   "source": [
    "squeue -u hrasrb"
   ]
  },
  {
   "cell_type": "code",
   "execution_count": 12,
   "id": "5887d694-c3a3-482e-80a7-d1197629bcea",
   "metadata": {},
   "outputs": [
    {
     "name": "stdout",
     "output_type": "stream",
     "text": [
      "Job ID: 482971\n",
      "Cluster: powerplant\n",
      "User/Group: hraczw/hraczw\n",
      "State: COMPLETED (exit code 0)\n",
      "Nodes: 1\n",
      "Cores per node: 12\n",
      "CPU Utilized: 08:22:47\n",
      "CPU Efficiency: 8.93% of 3-21:52:36 core-walltime\n",
      "Job Wall-clock time: 07:49:23\n",
      "Memory Utilized: 64.00 GB\n",
      "Memory Efficiency: 64.00% of 100.00 GB\n"
     ]
    }
   ],
   "source": [
    "seff 482971"
   ]
  }
 ],
 "metadata": {
  "kernelspec": {
   "display_name": "Bash",
   "language": "bash",
   "name": "bash"
  },
  "language_info": {
   "codemirror_mode": "shell",
   "file_extension": ".sh",
   "mimetype": "text/x-sh",
   "name": "bash"
  }
 },
 "nbformat": 4,
 "nbformat_minor": 5
}
