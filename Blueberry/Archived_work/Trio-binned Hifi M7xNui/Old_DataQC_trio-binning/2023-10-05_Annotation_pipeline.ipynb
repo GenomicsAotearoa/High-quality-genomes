{
 "cells": [
  {
   "cell_type": "code",
   "execution_count": 2,
   "id": "18ca6a15-9170-4e53-ac3b-93580e1c4bcf",
   "metadata": {},
   "outputs": [],
   "source": [
    "WKDIR=/workspace/hraijc/Blueberry/Blueberry_trio/Annotation_pipeline/M7_Hap1_pipeline/\n",
    "ASSEMBLIES=/workspace/hraijc/Blueberry/Blueberry_trio/Annotation_pipeline/Assemblies/clean"
   ]
  },
  {
   "cell_type": "code",
   "execution_count": 2,
   "id": "1da95d7b-64fd-463b-ae8f-b76f3d54fa89",
   "metadata": {},
   "outputs": [],
   "source": [
    "mkdir -p $ASSEMBLIES\n",
    "mkdir -p $WKDIR/log"
   ]
  },
  {
   "cell_type": "code",
   "execution_count": 3,
   "id": "cb7586b8-57d3-4599-a230-dfe8fff557a4",
   "metadata": {},
   "outputs": [],
   "source": [
    "# Move Sarah's cleaned assemblies to the Assembly Folder and unzip\n",
    "#cp /workspace/hrasrb/Blueberry_trio/2023-09-01_remove_contamination/no_contamination/*.blobtools.noContamination.fa $ASSEMBLIES "
   ]
  },
  {
   "cell_type": "code",
   "execution_count": null,
   "id": "e66e4d84-99e2-4dba-baa8-3e87283911f8",
   "metadata": {},
   "outputs": [],
   "source": []
  },
  {
   "cell_type": "code",
   "execution_count": null,
   "id": "fc191d90-1e46-45cb-a541-b52e7280dd5a",
   "metadata": {},
   "outputs": [],
   "source": []
  },
  {
   "cell_type": "code",
   "execution_count": 3,
   "id": "4ade0c42-40d5-4add-96c8-06732acbb4f7",
   "metadata": {},
   "outputs": [],
   "source": [
    "cd $WKDIR"
   ]
  },
  {
   "cell_type": "code",
   "execution_count": 5,
   "id": "42001f61-4c4d-4b1a-a913-797742b86ffa",
   "metadata": {},
   "outputs": [
    {
     "name": "stdout",
     "output_type": "stream",
     "text": [
      "includeConfig './conf/base.config'\n",
      "\n",
      "params {\n",
      "\n",
      "    // Input options\n",
      "\n",
      "    experiment_name         = \"M7_hap1\"\n",
      "    rnaseq_files_path       = \"/workspace/hraijc/Blueberry/Blueberry_trio/Annotation_pipeline/RNASeq/M7\"\n",
      "    \n",
      "    genome_file             = \"/workspace/hraijc/Blueberry/Blueberry_trio/Annotation_pipeline/Assemblies/clean/progeny_M7_hap1.blobtools.noContamination.fa\"\n",
      "    masked_genome_file      = \"\"\n",
      "\n",
      "    protein_file            = \"\"\n",
      "\n",
      "    out_prefix              = \"M7_hap1\"\n",
      "\n",
      "    //EDTA options\n",
      "    sensitive               = 0\n",
      "    anno                    = 1\n",
      "\n",
      "    // RepeatMasker options\n",
      "\n",
      "\n",
      "\n",
      "    //email options\n",
      "    should_email            = false\n",
      "    email                   = \"First.Last@plantandfood.co.nz\"\n",
      "\n",
      "    // Without a storage server, the HIC SCAFFOLDING REPORT process cannot\n",
      "    // load hic files for presentation.\n",
      "    // If a storage server is not available, set the below 'storage_server' variable to null.\n",
      "    // This will store all the individual results in the hic_scaffolding_report\n",
      "    // folder but will not curate them into a single HTML report.\n",
      "    storage_server          = \"https://storage.powerplant.pfr.co.nz\"\n",
      "\n",
      "    // Results folder\n",
      "    // All the results are stored under 'results' directory inside the\n",
      "    // directory from which the pipeline is launched.\n",
      "}\n",
      "\n",
      "includeConfig './conf/compiled.config'"
     ]
    }
   ],
   "source": [
    "cat $WKDIR/nextflow.config"
   ]
  },
  {
   "cell_type": "code",
   "execution_count": 5,
   "id": "7fff6c08-837a-4ba2-9847-b25d14a47483",
   "metadata": {},
   "outputs": [
    {
     "name": "stdout",
     "output_type": "stream",
     "text": [
      "sbatch: It is not safe to run jobs over 7 days of walltime without checkpointing.\n",
      "sbatch: The time limit for this job is 14 days.\n",
      "Submitted batch job 2091686\n"
     ]
    }
   ],
   "source": [
    "###### M7 Hap1 ######\n",
    "WKDIR=/workspace/hraijc/Blueberry/Blueberry_trio/Annotation_pipeline/M7_Hap1_pipeline/\n",
    "#mkdir -p ${WKDIR}/log\n",
    "cd ${WKDIR}\n",
    "\n",
    "cat << EOF > genome_annotation_pipeline_slurm.sh\n",
    "#!/bin/bash -e\n",
    "\n",
    "#SBATCH --job-name M7H1_${USER}\n",
    "#SBATCH --time=14-00:00:00\n",
    "#SBATCH --nodes=1\n",
    "#SBATCH --ntasks=1\n",
    "#SBATCH --cpus-per-task=2\n",
    "#SBATCH -o ${WKDIR}/log/%J.out\n",
    "#SBATCH -e ${WKDIR}/log/%J.err\n",
    "#SBATCH --mem=4G\n",
    "\n",
    "export TMPDIR=\"/workspace/$USER/tmp\"\n",
    "\n",
    "module load conda\n",
    "conda deactivate\n",
    "ml apptainer/1.1\n",
    "ml nextflow/22.10.4\n",
    "module load pfr-python3/3.9.13\n",
    "#pip install --user -r ./requirements.txt\n",
    "\n",
    "srun nextflow main.nf -resume\n",
    "EOF\n",
    "\n",
    "chmod u+x ./genome_annotation_pipeline_slurm.sh\n",
    "sbatch ./genome_annotation_pipeline_slurm.sh"
   ]
  },
  {
   "cell_type": "code",
   "execution_count": 8,
   "id": "f1b18b24-b980-4343-b1b3-192f9d800c39",
   "metadata": {},
   "outputs": [
    {
     "name": "stdout",
     "output_type": "stream",
     "text": [
      "Submitted batch job 2091712\n"
     ]
    }
   ],
   "source": [
    "# Annotate using EDTA\n",
    "repeat_lib=/workspace/hraijc/Blueberry/Blueberry_trio/Annotation_pipeline/M7_Hap1_pipeline/results/edta/progeny_M7_hap1.blobtools.noContamination.fa.mod.EDTA.TElib.fa\n",
    "genome_fasta=/workspace/hraijc/Blueberry/Blueberry_trio/Annotation_pipeline/Assemblies/clean/progeny_M7_hap1.blobtools.noContamination.fa\n",
    "task_cpus=12\n",
    "WKDIR=/workspace/hraijc/Blueberry/Blueberry_trio/Annotation_pipeline/M7_Hap1_pipeline/\n",
    "\n",
    "sbatch << EOF\n",
    "#!/bin/bash\n",
    "#SBATCH -J EDTA_M7\n",
    "#SBATCH -o ${WKDIR}/log/%J.out\n",
    "#SBATCH -e ${WKDIR}/log/%J.err\n",
    "#SBATCH --cpus-per-task=12\n",
    "#SBATCH --mem=12G\n",
    "#SBATCH --time=22:10:00\n",
    "\n",
    "module load conda\n",
    "module load RepeatMasker/4.1.5\n",
    "conda activate hraijc_EDTA \n",
    "\n",
    "\n",
    "\n",
    "cd  ${WKDIR}\n",
    "RepeatMasker -pa ${task_cpus} -xsmall -q -no_is -norna -nolow -div 40 -gff -lib $repeat_lib -cutoff 225 $genome_fasta\n",
    "\n",
    "EOF"
   ]
  },
  {
   "cell_type": "code",
   "execution_count": null,
   "id": "5d611b27-859a-4d81-811a-d388a9070edc",
   "metadata": {},
   "outputs": [],
   "source": []
  },
  {
   "cell_type": "code",
   "execution_count": null,
   "id": "5862d6e5-23e8-4e47-86b9-03c0f58109c8",
   "metadata": {},
   "outputs": [],
   "source": []
  },
  {
   "cell_type": "code",
   "execution_count": null,
   "id": "bc29ef2c-c759-4ca6-ae5c-bb4e24c7692a",
   "metadata": {},
   "outputs": [],
   "source": []
  },
  {
   "cell_type": "code",
   "execution_count": 6,
   "id": "a48bafee-1128-49de-b098-76fd689405b1",
   "metadata": {},
   "outputs": [
    {
     "name": "stdout",
     "output_type": "stream",
     "text": [
      "sbatch: It is not safe to run jobs over 7 days of walltime without checkpointing.\n",
      "sbatch: The time limit for this job is 14 days.\n",
      "Submitted batch job 2101909\n"
     ]
    }
   ],
   "source": [
    "###### NUI HAP1 ######\n",
    "WKDIR=/workspace/hraijc/Blueberry/Blueberry_trio/Annotation_pipeline/Nui_Hap1_pipeline/\n",
    "mkdir -p ${WKDIR}/log\n",
    "cd ${WKDIR}\n",
    "\n",
    "cat << EOF > genome_annotation_pipeline_slurm.sh\n",
    "#!/bin/bash -e\n",
    "\n",
    "#SBATCH --job-name NuiH1_${USER}\n",
    "#SBATCH --time=14-00:00:00\n",
    "#SBATCH --nodes=1\n",
    "#SBATCH --ntasks=1\n",
    "#SBATCH --cpus-per-task=2\n",
    "#SBATCH -o ${WKDIR}/log/%J.out\n",
    "#SBATCH -e ${WKDIR}/log/%J.err\n",
    "#SBATCH --mem=4G\n",
    "\n",
    "#export TMPDIR=\"/workspace/$USER/tmp\"\n",
    "\n",
    "module load conda\n",
    "conda deactivate\n",
    "ml apptainer/1.1\n",
    "ml nextflow/22.10.4\n",
    "module load pfr-python3/3.9.13\n",
    "#pip install --user -r ./requirements.txt\n",
    "\n",
    "srun nextflow main.nf -resume\n",
    "EOF\n",
    "\n",
    "chmod u+x ./genome_annotation_pipeline_slurm.sh\n",
    "sbatch ./genome_annotation_pipeline_slurm.sh"
   ]
  },
  {
   "cell_type": "code",
   "execution_count": null,
   "id": "fea63277-9928-484e-9c51-e53b512d7f6d",
   "metadata": {},
   "outputs": [],
   "source": []
  },
  {
   "cell_type": "code",
   "execution_count": null,
   "id": "fca81d4b-6974-4228-a230-e35aad710bc2",
   "metadata": {},
   "outputs": [],
   "source": []
  },
  {
   "cell_type": "code",
   "execution_count": 9,
   "id": "99303eb8-d28a-4de7-b50f-c17b48e6db60",
   "metadata": {},
   "outputs": [
    {
     "name": "stdout",
     "output_type": "stream",
     "text": [
      "sbatch: It is not safe to run jobs over 7 days of walltime without checkpointing.\n",
      "sbatch: The time limit for this job is 14 days.\n",
      "Submitted batch job 2099925\n"
     ]
    }
   ],
   "source": [
    "###### M7 HAP2 ######\n",
    "### Using txtm and softmask files from M7Hap1 #####\n",
    "#####################\n",
    "WKDIR=/workspace/hraijc/Blueberry/Blueberry_trio/Annotation_pipeline/M7_Hap2_pipeline\n",
    "mkdir -p ${WKDIR}/log\n",
    "cd ${WKDIR}\n",
    "\n",
    "cat << EOF > genome_annotation_pipeline_slurm.sh\n",
    "#!/bin/bash -e\n",
    "\n",
    "#SBATCH --job-name NuiH1_${USER}\n",
    "#SBATCH --time=14-00:00:00\n",
    "#SBATCH --nodes=1\n",
    "#SBATCH --ntasks=1\n",
    "#SBATCH --cpus-per-task=2\n",
    "#SBATCH -o ${WKDIR}/log/%J.out\n",
    "#SBATCH -e ${WKDIR}/log/%J.err\n",
    "#SBATCH --mem=4G\n",
    "\n",
    "export TMPDIR=\"/workspace/$USER/tmp\"\n",
    "\n",
    "module load conda\n",
    "conda deactivate\n",
    "ml apptainer/1.1\n",
    "ml nextflow/22.10.4\n",
    "module load pfr-python3/3.9.13\n",
    "#pip install --user -r ./requirements.txt\n",
    "\n",
    "srun nextflow main.nf -resume\n",
    "EOF\n",
    "\n",
    "chmod u+x ./genome_annotation_pipeline_slurm.sh\n",
    "sbatch ./genome_annotation_pipeline_slurm.sh"
   ]
  },
  {
   "cell_type": "code",
   "execution_count": 5,
   "id": "1bc8bf8d-bb84-4b70-9f6a-ceac2939dd44",
   "metadata": {},
   "outputs": [
    {
     "name": "stdout",
     "output_type": "stream",
     "text": [
      "sbatch: It is not safe to run jobs over 7 days of walltime without checkpointing.\n",
      "sbatch: The time limit for this job is 14 days.\n",
      "Submitted batch job 2101804\n"
     ]
    }
   ],
   "source": [
    "###### TEST    ######\n",
    "###             #####\n",
    "#####################\n",
    "WKDIR=/workspace/hraijc/Blueberry/Blueberry_trio/Annotation_pipeline/bioinf_genome_annotation\n",
    "mkdir -p ${WKDIR}/log\n",
    "cd ${WKDIR}\n",
    "\n",
    "cat << EOF > genome_annotation_pipeline_slurm.sh\n",
    "#!/bin/bash -e\n",
    "\n",
    "#SBATCH --job-name NuiH1_${USER}\n",
    "#SBATCH --time=14-00:00:00\n",
    "#SBATCH --nodes=1\n",
    "#SBATCH --ntasks=1\n",
    "#SBATCH --cpus-per-task=2\n",
    "#SBATCH -o ${WKDIR}/log/%J.out\n",
    "#SBATCH -e ${WKDIR}/log/%J.err\n",
    "#SBATCH --mem=4G\n",
    "\n",
    "#export TMPDIR=\"/workspace/$USER/tmp\"\n",
    "\n",
    "module load conda\n",
    "conda deactivate\n",
    "ml apptainer/1.1\n",
    "ml nextflow/22.10.4\n",
    "module load pfr-python3/3.9.13\n",
    "#pip install --user -r ./requirements.txt\n",
    "\n",
    "srun nextflow main.nf -resume\n",
    "EOF\n",
    "\n",
    "chmod u+x ./genome_annotation_pipeline_slurm.sh\n",
    "sbatch ./genome_annotation_pipeline_slurm.sh"
   ]
  },
  {
   "cell_type": "code",
   "execution_count": null,
   "id": "16e44978-87d5-4a01-b16c-530f692e7740",
   "metadata": {},
   "outputs": [],
   "source": [
    "##\n",
    "# Need to set export TMPDIR=\"/workspace/$USER/tmp\" at beginning of pipeline but it breaks PASA for some reason....\n",
    "# Temp fix is the delete PASA directories and rerun commenting out the TMPDIR line in the SLURM script. "
   ]
  },
  {
   "cell_type": "code",
   "execution_count": null,
   "id": "422883ad-eb5f-480f-9e51-035b2235cea5",
   "metadata": {},
   "outputs": [],
   "source": []
  },
  {
   "cell_type": "code",
   "execution_count": null,
   "id": "1d419443-c20e-4617-96fb-6e1c141a5b65",
   "metadata": {},
   "outputs": [],
   "source": []
  },
  {
   "cell_type": "code",
   "execution_count": null,
   "id": "a16d8cf9-0701-414e-b1e1-5dc9082ee19a",
   "metadata": {},
   "outputs": [],
   "source": []
  },
  {
   "cell_type": "code",
   "execution_count": null,
   "id": "ead54334-8e67-4998-b821-e4e9d3cad1ab",
   "metadata": {},
   "outputs": [],
   "source": []
  }
 ],
 "metadata": {
  "kernelspec": {
   "display_name": "Bash",
   "language": "bash",
   "name": "bash"
  },
  "language_info": {
   "codemirror_mode": "shell",
   "file_extension": ".sh",
   "mimetype": "text/x-sh",
   "name": "bash"
  }
 },
 "nbformat": 4,
 "nbformat_minor": 5
}
