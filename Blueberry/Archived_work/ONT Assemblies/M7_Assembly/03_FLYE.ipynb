{
 "cells": [
  {
   "cell_type": "markdown",
   "id": "ef5560b3-c3c5-4b6c-88a6-7003b6091755",
   "metadata": {},
   "source": [
    "## Denovo M7 FLYE assemblies using different subsets of data"
   ]
  },
  {
   "cell_type": "code",
   "execution_count": 1,
   "id": "c9e487dc-9047-4941-8cfd-3d20fb679a88",
   "metadata": {},
   "outputs": [],
   "source": [
    "WKDIR=/workspace/hraijc/BB_M7_Assembly/03_FLYE\n",
    "READDIR=/workspace/hraijc/BB_M7_Assembly/02_M7_cleanReads\n",
    "DUPLEXREADS=${READDIR}/M7_duplex_clean.fastq\n",
    "SIMPLEXREADS=${READDIR}/M7_simplex_clean.fastq\n",
    "ALLREADS=${READDIR}/M7_all_clean.fastq\n",
    "ALLQ20READS=${READDIR}/M7_all_clean_Q20.fastq\n",
    "ALLQ15READS=${READDIR}/M7_all_clean_Q15.fastq"
   ]
  },
  {
   "cell_type": "code",
   "execution_count": 1,
   "id": "32a01cc2-69be-4089-bea9-57d5ff1387c4",
   "metadata": {},
   "outputs": [
    {
     "name": "stdout",
     "output_type": "stream",
     "text": [
      "mkdir: cannot create directory ‘/log’: Permission denied\n"
     ]
    },
    {
     "ename": "",
     "evalue": "1",
     "output_type": "error",
     "traceback": []
    }
   ],
   "source": [
    "mkdir $WKDIR/log"
   ]
  },
  {
   "cell_type": "code",
   "execution_count": 7,
   "id": "b0de50b9-621c-4599-bbe7-cccd55061222",
   "metadata": {},
   "outputs": [
    {
     "name": "stdout",
     "output_type": "stream",
     "text": [
      "(/workspace/appscratch/miniconda/hraijc_flye) "
     ]
    },
    {
     "ename": "",
     "evalue": "1",
     "output_type": "error",
     "traceback": []
    }
   ],
   "source": [
    "module load conda\n",
    "conda activate hraijc_flye\n"
   ]
  },
  {
   "cell_type": "code",
   "execution_count": 4,
   "id": "7a8e5c32-3982-48a4-81b2-535927a6d6ed",
   "metadata": {},
   "outputs": [
    {
     "name": "stdout",
     "output_type": "stream",
     "text": [
      "2.9-b1774\n",
      "(/workspace/appscratch/miniconda/hraijc_flye) "
     ]
    },
    {
     "ename": "",
     "evalue": "1",
     "output_type": "error",
     "traceback": []
    }
   ],
   "source": [
    "python /workspace/hraijc/git_clones/Flye/bin/flye -v"
   ]
  },
  {
   "cell_type": "code",
   "execution_count": 5,
   "id": "189e4f32-130f-4552-a9f7-e4017d9023eb",
   "metadata": {},
   "outputs": [
    {
     "name": "stdout",
     "output_type": "stream",
     "text": [
      "(/workspace/appscratch/miniconda/hraijc_flye) (/workspace/appscratch/miniconda/hraijc_flye) (/workspace/appscratch/miniconda/hraijc_flye) "
     ]
    },
    {
     "ename": "",
     "evalue": "1",
     "output_type": "error",
     "traceback": []
    }
   ],
   "source": [
    "##FLYE MANUAL:\n",
    "#For the most recent ONT data basecalled with Guppy5+ SUP use the new --nano-hq mode. Expected error rate is <5%.\n",
    "#For Q20 data, use a combination of --nano-hq and --read-error 0.03."
   ]
  },
  {
   "cell_type": "code",
   "execution_count": 7,
   "id": "1d592276-3988-4ee4-b4ee-40cb434df5b1",
   "metadata": {},
   "outputs": [
    {
     "name": "stdout",
     "output_type": "stream",
     "text": [
      "(/workspace/appscratch/miniconda/hraijc_flye) (/workspace/appscratch/miniconda/hraijc_flye) Job <729070> is submitted to default queue <lowpriority>.\n",
      "(/workspace/appscratch/miniconda/hraijc_flye) "
     ]
    },
    {
     "ename": "",
     "evalue": "1",
     "output_type": "error",
     "traceback": []
    }
   ],
   "source": [
    "#Assemble Simplex reads denovo\n",
    "#Use Flag --nano-hq\n",
    "bsub -J Flye_simplex  -o $WKDIR/log/Flye_simplex.out -e $WKDIR/log/Flye_simplex.err -n 17 \\\n",
    "\"python /workspace/hraijc/git_clones/Flye/bin/flye --nano-hq ${SIMPLEXREADS} --out-dir ${WKDIR}/simplex --genome-size 600m --threads 16 --iterations 2\""
   ]
  },
  {
   "cell_type": "code",
   "execution_count": 10,
   "id": "ce74ca07-25af-4a56-8279-868a5c434b4a",
   "metadata": {},
   "outputs": [
    {
     "name": "stdout",
     "output_type": "stream",
     "text": [
      "(/workspace/appscratch/miniconda/hraijc_flye) (/workspace/appscratch/miniconda/hraijc_flye) Job <729073> is submitted to default queue <lowpriority>.\n",
      "(/workspace/appscratch/miniconda/hraijc_flye) "
     ]
    },
    {
     "ename": "",
     "evalue": "1",
     "output_type": "error",
     "traceback": []
    }
   ],
   "source": [
    "#Assemble Duplex reads denovo\n",
    "#Use Flag --nano-hq AND --read-error 0.03\n",
    "bsub -J Flye_duplex  -o $WKDIR/log/Flye_duplex.out -e $WKDIR/log/Flye_duplex.err -n 17 \\\n",
    "\"python /workspace/hraijc/git_clones/Flye/bin/flye --nano-hq ${DUPLEXREADS} --out-dir ${WKDIR}/duplex --read-error 0.03 --genome-size 600m --threads 16 --iterations 2\""
   ]
  },
  {
   "cell_type": "code",
   "execution_count": 9,
   "id": "77cfd1bd-89e9-47dd-9b5b-680cf185b047",
   "metadata": {},
   "outputs": [
    {
     "name": "stdout",
     "output_type": "stream",
     "text": [
      "(/workspace/appscratch/miniconda/hraijc_flye) (/workspace/appscratch/miniconda/hraijc_flye) Job <729072> is submitted to default queue <lowpriority>.\n",
      "(/workspace/appscratch/miniconda/hraijc_flye) "
     ]
    },
    {
     "ename": "",
     "evalue": "1",
     "output_type": "error",
     "traceback": []
    }
   ],
   "source": [
    "#Assemble All reads denovo\n",
    "#Use Flag --nano-hq \n",
    "bsub -J Flye_all -o $WKDIR/log/Flye_all.out -e $WKDIR/log/Flye_all.err -n 17 \\\n",
    "\"python /workspace/hraijc/git_clones/Flye/bin/flye --nano-hq ${ALLREADS} --out-dir ${WKDIR}/all --genome-size 600m --threads 16 --iterations 2\""
   ]
  },
  {
   "cell_type": "code",
   "execution_count": null,
   "id": "9959776b-a72b-4c21-8dd9-626bb49eedbe",
   "metadata": {},
   "outputs": [],
   "source": [
    "#Assemble All reads with >=Q20 denovo\n",
    "#Use Flag --nano-hq \n",
    "bsub -J Flye_all_q20 -o $WKDIR/log/Flye_all_q20.out -e $WKDIR/log/Flye_all_q20.err -n 17 \\\n",
    "\"python /workspace/hraijc/git_clones/Flye/bin/flye --nano-hq ${ALLQ20READS} --out-dir ${WKDIR}/all_q20 --genome-size 600m --threads 16 --iterations 2\""
   ]
  },
  {
   "cell_type": "code",
   "execution_count": null,
   "id": "e51a7e22-c6a2-4133-bdfd-324ac6804c17",
   "metadata": {},
   "outputs": [],
   "source": [
    "#Assemble All reads with >=Q15 denovo\n",
    "#Use Flag --nano-hq \n",
    "bsub -J Flye_all_q15 -o $WKDIR/log/Flye_all_q15.out -e $WKDIR/log/Flye_all_q15.err -n 17 \\\n",
    "\"python /workspace/hraijc/git_clones/Flye/bin/flye --nano-hq ${ALLQ15READS} --out-dir ${WKDIR}/all_q15 --genome-size 600m --threads 16 --iterations 2\""
   ]
  },
  {
   "cell_type": "code",
   "execution_count": 8,
   "id": "b3151306-d36a-482a-a112-d1e2cabc92bc",
   "metadata": {},
   "outputs": [
    {
     "name": "stdout",
     "output_type": "stream",
     "text": [
      "(/workspace/appscratch/miniconda/hraijc_flye) (/workspace/appscratch/miniconda/hraijc_flye) Job <737875> is submitted to default queue <lowpriority>.\n",
      "(/workspace/appscratch/miniconda/hraijc_flye) "
     ]
    },
    {
     "ename": "",
     "evalue": "1",
     "output_type": "error",
     "traceback": []
    }
   ],
   "source": [
    "#Assemble All reads with >=Q20 denovo USING read error flag!\n",
    "#Use Flag --nano-hq AND --read-error 0.03\n",
    "bsub -J FLYE_all_q20_re3  -o $WKDIR/log/FLYE_all_q20_re3.out -e $WKDIR/log/FLYE_all_q20_re3.err -n 17 \\\n",
    "\"python /workspace/hraijc/git_clones/Flye/bin/flye --nano-hq ${ALLQ20READS} --out-dir ${WKDIR}/all_q20_re3 --read-error 0.03 --genome-size 600m --threads 16 --iterations 2\""
   ]
  },
  {
   "cell_type": "code",
   "execution_count": 9,
   "id": "14732117-0b94-418a-b202-2d4d0e5c292d",
   "metadata": {},
   "outputs": [
    {
     "name": "stdout",
     "output_type": "stream",
     "text": [
      "(/workspace/appscratch/miniconda/hraijc_flye) "
     ]
    },
    {
     "ename": "",
     "evalue": "1",
     "output_type": "error",
     "traceback": []
    }
   ],
   "source": [
    "module unload conda"
   ]
  },
  {
   "cell_type": "markdown",
   "id": "fd6080d5-6e8a-4bc7-82c0-692ab65ddca1",
   "metadata": {},
   "source": [
    "### QC Assemblies"
   ]
  },
  {
   "cell_type": "code",
   "execution_count": 2,
   "id": "f07ee011-6615-4ddd-8f74-6766a0f40938",
   "metadata": {},
   "outputs": [],
   "source": []
  },
  {
   "cell_type": "code",
   "execution_count": 3,
   "id": "af4f051c-e03d-4b6e-8428-0b28794abb54",
   "metadata": {},
   "outputs": [
    {
     "name": "stdout",
     "output_type": "stream",
     "text": [
      "Job <738205> is submitted to default queue <lowpriority>.\n"
     ]
    }
   ],
   "source": [
    "module load BBMap/38.33\n",
    "bsub -J Flye_QC -o ${WKDIR}/log/Flye_QC.log -e ${WKDIR}/log/Flye_QC.err \\\n",
    "\"statswrapper.sh in=${WKDIR}/duplex/assembly.fasta,${WKDIR}/simplex/assembly.fasta,${WKDIR}/all/assembly.fasta,${WKDIR}/all_q20/assembly.fasta,${WKDIR}/all_q20_re3/assembly.fasta,${WKDIR}/all_q15/assembly.fasta format=3\"\n",
    "module unload BBMap/38.33"
   ]
  },
  {
   "cell_type": "code",
   "execution_count": 4,
   "id": "0f3c42f2-d3e5-41be-9d84-7592fdbcff20",
   "metadata": {},
   "outputs": [],
   "source": []
  },
  {
   "cell_type": "code",
   "execution_count": 4,
   "id": "9e734767-dfcf-47bf-af97-de4f704d15de",
   "metadata": {},
   "outputs": [
    {
     "name": "stdout",
     "output_type": "stream",
     "text": [
      "Loading \u001b[1mBUSCO/v5.2.2\u001b[22m\n",
      "  \u001b[94mLoading requirement\u001b[0m: singularity/3\n",
      "Job <738210> is submitted to default queue <lowpriority>.\n"
     ]
    }
   ],
   "source": [
    "module load BUSCO/v5.2.2\n",
    "bsub -J busco_M7_Q20_Flye_RE3 -o ${WKDIR}/log/busco_M7_Q20_Flye_RE3.log -e ${WKDIR}/log/busco_M7_Q20_Flye_RE3.err -n 25 \\\n",
    "\"busco -i /workspace/hraijc/BB_M7_Assembly/03_FLYE/all_q20_re3/assembly.fasta -l eudicots -o Flye04_busco -m geno -c 24 --datasets_version odb10\"\n",
    "module unload BUSCO"
   ]
  },
  {
   "cell_type": "code",
   "execution_count": 6,
   "id": "8cc613a5-d7fa-4b65-8122-9b4743e73361",
   "metadata": {},
   "outputs": [
    {
     "name": "stdout",
     "output_type": "stream",
     "text": [
      "Job <738217> is submitted to default queue <lowpriority>.\n"
     ]
    }
   ],
   "source": [
    "module load BUSCO/v5.2.2\n",
    "bsub -J busco_M7_all_Flye -o ${WKDIR}/log/busco_M7_all_Flye.log -e ${WKDIR}/log/busco_M7_all_Flye.err -n 25 \\\n",
    "\"busco -i /workspace/hraijc/BB_M7_Assembly/03_FLYE/all/assembly.fasta -l eudicots -o M7_all_Flye_busco -m geno -c 24 --datasets_version odb10\"\n",
    "module unload BUSCO"
   ]
  },
  {
   "cell_type": "code",
   "execution_count": null,
   "id": "1ac3798b-dde3-4ffb-9e13-0cf5d5516932",
   "metadata": {},
   "outputs": [],
   "source": []
  }
 ],
 "metadata": {
  "kernelspec": {
   "display_name": "Bash",
   "language": "bash",
   "name": "bash"
  },
  "language_info": {
   "codemirror_mode": "shell",
   "file_extension": ".sh",
   "mimetype": "text/x-sh",
   "name": "bash"
  }
 },
 "nbformat": 4,
 "nbformat_minor": 5
}
