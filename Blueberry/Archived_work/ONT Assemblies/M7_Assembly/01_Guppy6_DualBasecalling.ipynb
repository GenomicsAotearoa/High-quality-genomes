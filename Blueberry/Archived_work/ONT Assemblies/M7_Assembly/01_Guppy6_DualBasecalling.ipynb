{
 "cells": [
  {
   "attachments": {},
   "cell_type": "markdown",
   "id": "79e16f5a-7274-4b47-a73c-86355d00cd31",
   "metadata": {},
   "source": [
    "## Guppy v6 Duplex basecalling\n",
    "\n",
    "* Re-Basecalling using guppy_v6\n",
    "* comparing guppyv5 to guppyv6 output using PycoQC and MinIONQC (Should use nanoplot next time)"
   ]
  },
  {
   "cell_type": "code",
   "execution_count": 1,
   "id": "f5bf41a4-fb0a-4b71-a3cc-e5b54709ecac",
   "metadata": {},
   "outputs": [],
   "source": [
    "WKDIR=/workspace/hraijc/BB_M7_Assembly"
   ]
  },
  {
   "cell_type": "code",
   "execution_count": 2,
   "id": "062c9c18-755b-448f-8274-186dbfd58795",
   "metadata": {},
   "outputs": [],
   "source": [
    "cd /workspace/hraijc/BB_M7_Assembly"
   ]
  },
  {
   "cell_type": "code",
   "execution_count": 3,
   "id": "8dccfb5d-8fe1-4a6c-b5cb-2fe44372b0df",
   "metadata": {},
   "outputs": [
    {
     "name": "stdout",
     "output_type": "stream",
     "text": [
      "mkdir: cannot create directory ‘log’: File exists\n"
     ]
    },
    {
     "ename": "",
     "evalue": "1",
     "output_type": "error",
     "traceback": []
    }
   ],
   "source": [
    "mkdir log"
   ]
  },
  {
   "cell_type": "code",
   "execution_count": 1,
   "id": "a9ff9893-33d0-47b9-a4b4-bb6a1b177dfb",
   "metadata": {},
   "outputs": [],
   "source": [
    "module load pfr-python3"
   ]
  },
  {
   "cell_type": "code",
   "execution_count": 2,
   "id": "6e858b30-5c90-4155-b059-f524213cffad",
   "metadata": {},
   "outputs": [],
   "source": [
    "#Need to add the guppy basecaller to the path, not sure how to get around this.\n",
    "export PATH=\"/home/hraijc/.local/bin:/workspace/hraijc/packages/guppyV6/ont-guppy/bin:$PATH\""
   ]
  },
  {
   "cell_type": "code",
   "execution_count": 3,
   "id": "7da6e4a3-026f-449f-a579-ab726d1b25a1",
   "metadata": {},
   "outputs": [
    {
     "name": "stdout",
     "output_type": "stream",
     "text": [
      "usage: guppy_duplex [-h] [--basecaller_exe BASECALLER_EXE]\n",
      "                    [--duplex_basecaller_exe DUPLEX_BASECALLER_EXE]\n",
      "                    --input_path INPUT_PATH --save_path SAVE_PATH\n",
      "                    [--disable_logging] [--skip_simplex] [--skip_duplex]\n",
      "                    [--call_non_duplex_reads] [--device DEVICE]\n",
      "                    [--do_read_splitting]\n",
      "                    [--duplex_chunks_per_runner DUPLEX_CHUNKS_PER_RUNNER]\n",
      "                    [--recursive]\n",
      "\n",
      "All-in-one processing of r10.4 duplex reads using guppy\n",
      "\n",
      "optional arguments:\n",
      "  -h, --help            show this help message and exit\n",
      "  --basecaller_exe BASECALLER_EXE\n",
      "                        Path to the guppy_basecaller executable. If\n",
      "                        unspecified it is assumed that the basecaller exe is\n",
      "                        in the path.\n",
      "  --duplex_basecaller_exe DUPLEX_BASECALLER_EXE\n",
      "                        Path to the guppy_basecaller_duplex executable. If\n",
      "                        unspecified it is assumed that the duplex basecaller\n",
      "                        exe is in the path.\n",
      "  --input_path INPUT_PATH, -i INPUT_PATH\n",
      "                        Directory to read fast5 input files from.\n",
      "  --save_path SAVE_PATH, -s SAVE_PATH\n",
      "                        Directory to write resulting sequence files to.\n",
      "  --disable_logging     Turn off logging.\n",
      "  --skip_simplex        Skip simplex basecall step (the pipeline will assume\n",
      "                        the sequencing_summary.txt file exists ).\n",
      "  --skip_duplex         Skip duplex basecall step.\n",
      "  --call_non_duplex_reads\n",
      "                        Perform high accuracy basecall of all reads which do\n",
      "                        not participate in a duplex pair.\n",
      "  --device DEVICE, -d DEVICE\n",
      "                        CUDA device string to pass to basecallers.\n",
      "  --do_read_splitting   Perform read-splitting during the simplex basecall\n",
      "                        step.\n",
      "  --duplex_chunks_per_runner DUPLEX_CHUNKS_PER_RUNNER\n",
      "                        --chunks_per_runner value to pass to guppy when\n",
      "                        performing duplex basecalling. Decrease this if guppy\n",
      "                        gives an out-of-memory error.\n",
      "  --recursive, -r       Search for input files recursively.\n"
     ]
    }
   ],
   "source": [
    "/home/hraijc/.local/bin/guppy_duplex -h"
   ]
  },
  {
   "cell_type": "code",
   "execution_count": 3,
   "id": "4bf8ed23-9aa1-49a0-9779-f7322ddca814",
   "metadata": {},
   "outputs": [
    {
     "name": "stdout",
     "output_type": "stream",
     "text": [
      "Job <738459> is submitted to default queue <lowpriority>.\n",
      "<<Waiting for dispatch ...>>\n",
      "<<Starting on wkoppg33>>\n",
      "Loading model version information, please wait .................................\n",
      "Available flowcell + kit combinations are:\n",
      "flowcell       kit               barcoding config_name                    model version\n",
      "FLO-PRO001     SQK-RNA002                  rna_r9.4.1_70bps_hac_prom      2020-09-21_rna_r9.4.1_promethion_256_855130ab\n",
      "FLO-PRO002     SQK-RNA002                  rna_r9.4.1_70bps_hac_prom      2020-09-21_rna_r9.4.1_promethion_256_855130ab\n",
      "FLO-PRO002-ECO SQK-RNA002                  rna_r9.4.1_70bps_hac_prom      2020-09-21_rna_r9.4.1_promethion_256_855130ab\n",
      "FLO-PRO002     SQK-LSK112                  dna_r9.4.1_e8.1_hac_prom       2021-09-13_dna_r9.4.1_minion_promethion_384_ca963bcb\n",
      "FLO-PRO002     SQK-LSK112-XL               dna_r9.4.1_e8.1_hac_prom       2021-09-13_dna_r9.4.1_minion_promethion_384_ca963bcb\n",
      "FLO-PRO002     SQK-NBD112-24               dna_r9.4.1_e8.1_hac_prom       2021-09-13_dna_r9.4.1_minion_promethion_384_ca963bcb\n",
      "FLO-PRO002     SQK-NBD112-96               dna_r9.4.1_e8.1_hac_prom       2021-09-13_dna_r9.4.1_minion_promethion_384_ca963bcb\n",
      "FLO-PRO002     SQK-Q20EA                   dna_r9.4.1_e8.1_hac_prom       2021-09-13_dna_r9.4.1_minion_promethion_384_ca963bcb\n",
      "FLO-PRO002     SQK-RAD112                  dna_r9.4.1_e8.1_hac_prom       2021-09-13_dna_r9.4.1_minion_promethion_384_ca963bcb\n",
      "FLO-FLG111     SQK-CAS109                  dna_r10.3_450bps_hac           2021-04-20_dna_r10.3_minion_promethion_384_72309afc\n",
      "FLO-FLG111     SQK-CS9109                  dna_r10.3_450bps_hac           2021-04-20_dna_r10.3_minion_promethion_384_72309afc\n",
      "FLO-FLG111     SQK-DCS108                  dna_r10.3_450bps_hac           2021-04-20_dna_r10.3_minion_promethion_384_72309afc\n",
      "FLO-FLG111     SQK-DCS109                  dna_r10.3_450bps_hac           2021-04-20_dna_r10.3_minion_promethion_384_72309afc\n",
      "FLO-FLG111     SQK-LRK001                  dna_r10.3_450bps_hac           2021-04-20_dna_r10.3_minion_promethion_384_72309afc\n",
      "FLO-FLG111     SQK-LSK108                  dna_r10.3_450bps_hac           2021-04-20_dna_r10.3_minion_promethion_384_72309afc\n",
      "FLO-FLG111     SQK-LSK109                  dna_r10.3_450bps_hac           2021-04-20_dna_r10.3_minion_promethion_384_72309afc\n",
      "FLO-FLG111     SQK-LSK109-XL               dna_r10.3_450bps_hac           2021-04-20_dna_r10.3_minion_promethion_384_72309afc\n",
      "FLO-FLG111     SQK-LSK110                  dna_r10.3_450bps_hac           2021-04-20_dna_r10.3_minion_promethion_384_72309afc\n",
      "FLO-FLG111     SQK-LSK110-XL               dna_r10.3_450bps_hac           2021-04-20_dna_r10.3_minion_promethion_384_72309afc\n",
      "FLO-FLG111     SQK-LWP001                  dna_r10.3_450bps_hac           2021-04-20_dna_r10.3_minion_promethion_384_72309afc\n",
      "FLO-FLG111     SQK-PCS108                  dna_r10.3_450bps_hac           2021-04-20_dna_r10.3_minion_promethion_384_72309afc\n",
      "FLO-FLG111     SQK-PCS109                  dna_r10.3_450bps_hac           2021-04-20_dna_r10.3_minion_promethion_384_72309afc\n",
      "FLO-FLG111     SQK-PCS110                  dna_r10.3_450bps_hac           2021-04-20_dna_r10.3_minion_promethion_384_72309afc\n",
      "FLO-FLG111     SQK-PRC109                  dna_r10.3_450bps_hac           2021-04-20_dna_r10.3_minion_promethion_384_72309afc\n",
      "FLO-FLG111     SQK-PSK004                  dna_r10.3_450bps_hac           2021-04-20_dna_r10.3_minion_promethion_384_72309afc\n",
      "FLO-FLG111     SQK-RAD002                  dna_r10.3_450bps_hac           2021-04-20_dna_r10.3_minion_promethion_384_72309afc\n",
      "FLO-FLG111     SQK-RAD003                  dna_r10.3_450bps_hac           2021-04-20_dna_r10.3_minion_promethion_384_72309afc\n",
      "FLO-FLG111     SQK-RAD004                  dna_r10.3_450bps_hac           2021-04-20_dna_r10.3_minion_promethion_384_72309afc\n",
      "FLO-FLG111     SQK-RAS201                  dna_r10.3_450bps_hac           2021-04-20_dna_r10.3_minion_promethion_384_72309afc\n",
      "FLO-FLG111     SQK-RLI001                  dna_r10.3_450bps_hac           2021-04-20_dna_r10.3_minion_promethion_384_72309afc\n",
      "FLO-FLG111     SQK-ULK001                  dna_r10.3_450bps_hac           2021-04-20_dna_r10.3_minion_promethion_384_72309afc\n",
      "FLO-FLG111     VSK-VBK001                  dna_r10.3_450bps_hac           2021-04-20_dna_r10.3_minion_promethion_384_72309afc\n",
      "FLO-FLG111     VSK-VSK001                  dna_r10.3_450bps_hac           2021-04-20_dna_r10.3_minion_promethion_384_72309afc\n",
      "FLO-FLG111     VSK-VSK002                  dna_r10.3_450bps_hac           2021-04-20_dna_r10.3_minion_promethion_384_72309afc\n",
      "FLO-FLG111     VSK-VSK003                  dna_r10.3_450bps_hac           2021-04-20_dna_r10.3_minion_promethion_384_72309afc\n",
      "FLO-FLG111     SQK-16S024        included  dna_r10.3_450bps_hac           2021-04-20_dna_r10.3_minion_promethion_384_72309afc\n",
      "FLO-FLG111     SQK-MLK110-96-XL  included  dna_r10.3_450bps_hac           2021-04-20_dna_r10.3_minion_promethion_384_72309afc\n",
      "FLO-FLG111     SQK-PCB109        included  dna_r10.3_450bps_hac           2021-04-20_dna_r10.3_minion_promethion_384_72309afc\n",
      "FLO-FLG111     SQK-PCB110        included  dna_r10.3_450bps_hac           2021-04-20_dna_r10.3_minion_promethion_384_72309afc\n",
      "FLO-FLG111     SQK-RBK001        included  dna_r10.3_450bps_hac           2021-04-20_dna_r10.3_minion_promethion_384_72309afc\n",
      "FLO-FLG111     SQK-RBK004        included  dna_r10.3_450bps_hac           2021-04-20_dna_r10.3_minion_promethion_384_72309afc\n",
      "FLO-FLG111     SQK-RBK110-96     included  dna_r10.3_450bps_hac           2021-04-20_dna_r10.3_minion_promethion_384_72309afc\n",
      "FLO-FLG111     SQK-RLB001        included  dna_r10.3_450bps_hac           2021-04-20_dna_r10.3_minion_promethion_384_72309afc\n",
      "FLO-FLG111     SQK-LWB001        included  dna_r10.3_450bps_hac           2021-04-20_dna_r10.3_minion_promethion_384_72309afc\n",
      "FLO-FLG111     SQK-PBK004        included  dna_r10.3_450bps_hac           2021-04-20_dna_r10.3_minion_promethion_384_72309afc\n",
      "FLO-FLG111     SQK-RAB201        included  dna_r10.3_450bps_hac           2021-04-20_dna_r10.3_minion_promethion_384_72309afc\n",
      "FLO-FLG111     SQK-RAB204        included  dna_r10.3_450bps_hac           2021-04-20_dna_r10.3_minion_promethion_384_72309afc\n",
      "FLO-FLG111     SQK-RPB004        included  dna_r10.3_450bps_hac           2021-04-20_dna_r10.3_minion_promethion_384_72309afc\n",
      "FLO-FLG111     VSK-PTC001        included  dna_r10.3_450bps_hac           2021-04-20_dna_r10.3_minion_promethion_384_72309afc\n",
      "FLO-FLG111     VSK-VMK001        included  dna_r10.3_450bps_hac           2021-04-20_dna_r10.3_minion_promethion_384_72309afc\n",
      "FLO-FLG111     VSK-VMK002        included  dna_r10.3_450bps_hac           2021-04-20_dna_r10.3_minion_promethion_384_72309afc\n",
      "FLO-FLG111     VSK-VMK003        included  dna_r10.3_450bps_hac           2021-04-20_dna_r10.3_minion_promethion_384_72309afc\n",
      "FLO-MIN111     SQK-CAS109                  dna_r10.3_450bps_hac           2021-04-20_dna_r10.3_minion_promethion_384_72309afc\n",
      "FLO-MIN111     SQK-CS9109                  dna_r10.3_450bps_hac           2021-04-20_dna_r10.3_minion_promethion_384_72309afc\n",
      "FLO-MIN111     SQK-DCS108                  dna_r10.3_450bps_hac           2021-04-20_dna_r10.3_minion_promethion_384_72309afc\n",
      "FLO-MIN111     SQK-DCS109                  dna_r10.3_450bps_hac           2021-04-20_dna_r10.3_minion_promethion_384_72309afc\n",
      "FLO-MIN111     SQK-LRK001                  dna_r10.3_450bps_hac           2021-04-20_dna_r10.3_minion_promethion_384_72309afc\n",
      "FLO-MIN111     SQK-LSK108                  dna_r10.3_450bps_hac           2021-04-20_dna_r10.3_minion_promethion_384_72309afc\n",
      "FLO-MIN111     SQK-LSK109                  dna_r10.3_450bps_hac           2021-04-20_dna_r10.3_minion_promethion_384_72309afc\n",
      "FLO-MIN111     SQK-LSK109-XL               dna_r10.3_450bps_hac           2021-04-20_dna_r10.3_minion_promethion_384_72309afc\n",
      "FLO-MIN111     SQK-LSK110                  dna_r10.3_450bps_hac           2021-04-20_dna_r10.3_minion_promethion_384_72309afc\n",
      "FLO-MIN111     SQK-LSK110-XL               dna_r10.3_450bps_hac           2021-04-20_dna_r10.3_minion_promethion_384_72309afc\n",
      "FLO-MIN111     SQK-LWP001                  dna_r10.3_450bps_hac           2021-04-20_dna_r10.3_minion_promethion_384_72309afc\n",
      "FLO-MIN111     SQK-PCS108                  dna_r10.3_450bps_hac           2021-04-20_dna_r10.3_minion_promethion_384_72309afc\n",
      "FLO-MIN111     SQK-PCS109                  dna_r10.3_450bps_hac           2021-04-20_dna_r10.3_minion_promethion_384_72309afc\n",
      "FLO-MIN111     SQK-PCS110                  dna_r10.3_450bps_hac           2021-04-20_dna_r10.3_minion_promethion_384_72309afc\n",
      "FLO-MIN111     SQK-PRC109                  dna_r10.3_450bps_hac           2021-04-20_dna_r10.3_minion_promethion_384_72309afc\n",
      "FLO-MIN111     SQK-PSK004                  dna_r10.3_450bps_hac           2021-04-20_dna_r10.3_minion_promethion_384_72309afc\n",
      "FLO-MIN111     SQK-RAD002                  dna_r10.3_450bps_hac           2021-04-20_dna_r10.3_minion_promethion_384_72309afc\n",
      "FLO-MIN111     SQK-RAD003                  dna_r10.3_450bps_hac           2021-04-20_dna_r10.3_minion_promethion_384_72309afc\n",
      "FLO-MIN111     SQK-RAD004                  dna_r10.3_450bps_hac           2021-04-20_dna_r10.3_minion_promethion_384_72309afc\n",
      "FLO-MIN111     SQK-RAS201                  dna_r10.3_450bps_hac           2021-04-20_dna_r10.3_minion_promethion_384_72309afc\n",
      "FLO-MIN111     SQK-RLI001                  dna_r10.3_450bps_hac           2021-04-20_dna_r10.3_minion_promethion_384_72309afc\n",
      "FLO-MIN111     SQK-ULK001                  dna_r10.3_450bps_hac           2021-04-20_dna_r10.3_minion_promethion_384_72309afc\n",
      "FLO-MIN111     VSK-VBK001                  dna_r10.3_450bps_hac           2021-04-20_dna_r10.3_minion_promethion_384_72309afc\n",
      "FLO-MIN111     VSK-VSK001                  dna_r10.3_450bps_hac           2021-04-20_dna_r10.3_minion_promethion_384_72309afc\n",
      "FLO-MIN111     VSK-VSK002                  dna_r10.3_450bps_hac           2021-04-20_dna_r10.3_minion_promethion_384_72309afc\n",
      "FLO-MIN111     VSK-VSK003                  dna_r10.3_450bps_hac           2021-04-20_dna_r10.3_minion_promethion_384_72309afc\n",
      "FLO-MIN111     SQK-16S024        included  dna_r10.3_450bps_hac           2021-04-20_dna_r10.3_minion_promethion_384_72309afc\n",
      "FLO-MIN111     SQK-MLK110-96-XL  included  dna_r10.3_450bps_hac           2021-04-20_dna_r10.3_minion_promethion_384_72309afc\n",
      "FLO-MIN111     SQK-PCB109        included  dna_r10.3_450bps_hac           2021-04-20_dna_r10.3_minion_promethion_384_72309afc\n",
      "FLO-MIN111     SQK-PCB110        included  dna_r10.3_450bps_hac           2021-04-20_dna_r10.3_minion_promethion_384_72309afc\n",
      "FLO-MIN111     SQK-RBK001        included  dna_r10.3_450bps_hac           2021-04-20_dna_r10.3_minion_promethion_384_72309afc\n",
      "FLO-MIN111     SQK-RBK004        included  dna_r10.3_450bps_hac           2021-04-20_dna_r10.3_minion_promethion_384_72309afc\n",
      "FLO-MIN111     SQK-RBK110-96     included  dna_r10.3_450bps_hac           2021-04-20_dna_r10.3_minion_promethion_384_72309afc\n",
      "FLO-MIN111     SQK-RLB001        included  dna_r10.3_450bps_hac           2021-04-20_dna_r10.3_minion_promethion_384_72309afc\n",
      "FLO-MIN111     SQK-LWB001        included  dna_r10.3_450bps_hac           2021-04-20_dna_r10.3_minion_promethion_384_72309afc\n",
      "FLO-MIN111     SQK-PBK004        included  dna_r10.3_450bps_hac           2021-04-20_dna_r10.3_minion_promethion_384_72309afc\n",
      "FLO-MIN111     SQK-RAB201        included  dna_r10.3_450bps_hac           2021-04-20_dna_r10.3_minion_promethion_384_72309afc\n",
      "FLO-MIN111     SQK-RAB204        included  dna_r10.3_450bps_hac           2021-04-20_dna_r10.3_minion_promethion_384_72309afc\n",
      "FLO-MIN111     SQK-RPB004        included  dna_r10.3_450bps_hac           2021-04-20_dna_r10.3_minion_promethion_384_72309afc\n",
      "FLO-MIN111     VSK-PTC001        included  dna_r10.3_450bps_hac           2021-04-20_dna_r10.3_minion_promethion_384_72309afc\n",
      "FLO-MIN111     VSK-VMK001        included  dna_r10.3_450bps_hac           2021-04-20_dna_r10.3_minion_promethion_384_72309afc\n",
      "FLO-MIN111     VSK-VMK002        included  dna_r10.3_450bps_hac           2021-04-20_dna_r10.3_minion_promethion_384_72309afc\n",
      "FLO-MIN111     VSK-VMK003        included  dna_r10.3_450bps_hac           2021-04-20_dna_r10.3_minion_promethion_384_72309afc\n",
      "FLO-FLG001     SQK-CAS109                  dna_r9.4.1_450bps_hac          2021-05-17_dna_r9.4.1_minion_384_d37a2ab9\n",
      "FLO-FLG001     SQK-CS9109                  dna_r9.4.1_450bps_hac          2021-05-17_dna_r9.4.1_minion_384_d37a2ab9\n",
      "FLO-FLG001     SQK-DCS108                  dna_r9.4.1_450bps_hac          2021-05-17_dna_r9.4.1_minion_384_d37a2ab9\n",
      "FLO-FLG001     SQK-DCS109                  dna_r9.4.1_450bps_hac          2021-05-17_dna_r9.4.1_minion_384_d37a2ab9\n",
      "FLO-FLG001     SQK-LRK001                  dna_r9.4.1_450bps_hac          2021-05-17_dna_r9.4.1_minion_384_d37a2ab9\n",
      "FLO-FLG001     SQK-LSK108                  dna_r9.4.1_450bps_hac          2021-05-17_dna_r9.4.1_minion_384_d37a2ab9\n",
      "FLO-FLG001     SQK-LSK109                  dna_r9.4.1_450bps_hac          2021-05-17_dna_r9.4.1_minion_384_d37a2ab9\n",
      "FLO-FLG001     SQK-LSK109-XL               dna_r9.4.1_450bps_hac          2021-05-17_dna_r9.4.1_minion_384_d37a2ab9\n",
      "FLO-FLG001     SQK-LSK110                  dna_r9.4.1_450bps_hac          2021-05-17_dna_r9.4.1_minion_384_d37a2ab9\n",
      "FLO-FLG001     SQK-LSK110-XL               dna_r9.4.1_450bps_hac          2021-05-17_dna_r9.4.1_minion_384_d37a2ab9\n",
      "FLO-FLG001     SQK-LWP001                  dna_r9.4.1_450bps_hac          2021-05-17_dna_r9.4.1_minion_384_d37a2ab9\n",
      "FLO-FLG001     SQK-PCS108                  dna_r9.4.1_450bps_hac          2021-05-17_dna_r9.4.1_minion_384_d37a2ab9\n",
      "FLO-FLG001     SQK-PCS109                  dna_r9.4.1_450bps_hac          2021-05-17_dna_r9.4.1_minion_384_d37a2ab9\n",
      "FLO-FLG001     SQK-PCS110                  dna_r9.4.1_450bps_hac          2021-05-17_dna_r9.4.1_minion_384_d37a2ab9\n",
      "FLO-FLG001     SQK-PCS111                  dna_r9.4.1_450bps_hac          2021-05-17_dna_r9.4.1_minion_384_d37a2ab9\n",
      "FLO-FLG001     SQK-PRC109                  dna_r9.4.1_450bps_hac          2021-05-17_dna_r9.4.1_minion_384_d37a2ab9\n",
      "FLO-FLG001     SQK-PSK004                  dna_r9.4.1_450bps_hac          2021-05-17_dna_r9.4.1_minion_384_d37a2ab9\n",
      "FLO-FLG001     SQK-RAD002                  dna_r9.4.1_450bps_hac          2021-05-17_dna_r9.4.1_minion_384_d37a2ab9\n",
      "FLO-FLG001     SQK-RAD003                  dna_r9.4.1_450bps_hac          2021-05-17_dna_r9.4.1_minion_384_d37a2ab9\n",
      "FLO-FLG001     SQK-RAD004                  dna_r9.4.1_450bps_hac          2021-05-17_dna_r9.4.1_minion_384_d37a2ab9\n",
      "FLO-FLG001     SQK-RAD112                  dna_r9.4.1_450bps_hac          2021-05-17_dna_r9.4.1_minion_384_d37a2ab9\n",
      "FLO-FLG001     SQK-RAS201                  dna_r9.4.1_450bps_hac          2021-05-17_dna_r9.4.1_minion_384_d37a2ab9\n",
      "FLO-FLG001     SQK-RLI001                  dna_r9.4.1_450bps_hac          2021-05-17_dna_r9.4.1_minion_384_d37a2ab9\n",
      "FLO-FLG001     SQK-ULK001                  dna_r9.4.1_450bps_hac          2021-05-17_dna_r9.4.1_minion_384_d37a2ab9\n",
      "FLO-FLG001     VSK-VBK001                  dna_r9.4.1_450bps_hac          2021-05-17_dna_r9.4.1_minion_384_d37a2ab9\n",
      "FLO-FLG001     VSK-VSK001                  dna_r9.4.1_450bps_hac          2021-05-17_dna_r9.4.1_minion_384_d37a2ab9\n",
      "FLO-FLG001     VSK-VSK002                  dna_r9.4.1_450bps_hac          2021-05-17_dna_r9.4.1_minion_384_d37a2ab9\n",
      "FLO-FLG001     VSK-VSK003                  dna_r9.4.1_450bps_hac          2021-05-17_dna_r9.4.1_minion_384_d37a2ab9\n",
      "FLO-FLG001     OND-SQK-LP0096M   included  dna_r9.4.1_450bps_hac          2021-05-17_dna_r9.4.1_minion_384_d37a2ab9\n",
      "FLO-FLG001     OND-SQK-LP0096MA  included  dna_r9.4.1_450bps_hac          2021-05-17_dna_r9.4.1_minion_384_d37a2ab9\n",
      "FLO-FLG001     OND-SQK-LP0096S   included  dna_r9.4.1_450bps_hac          2021-05-17_dna_r9.4.1_minion_384_d37a2ab9\n",
      "FLO-FLG001     OND-SQK-LP0768L   included  dna_r9.4.1_450bps_hac          2021-05-17_dna_r9.4.1_minion_384_d37a2ab9\n",
      "FLO-FLG001     OND-SQK-LP1152S   included  dna_r9.4.1_450bps_hac          2021-05-17_dna_r9.4.1_minion_384_d37a2ab9\n",
      "FLO-FLG001     OND-SQK-LP9216    included  dna_r9.4.1_450bps_hac          2021-05-17_dna_r9.4.1_minion_384_d37a2ab9\n",
      "FLO-FLG001     OND-SQK-RP0096M   included  dna_r9.4.1_450bps_hac          2021-05-17_dna_r9.4.1_minion_384_d37a2ab9\n",
      "FLO-FLG001     OND-SQK-RP0096MA  included  dna_r9.4.1_450bps_hac          2021-05-17_dna_r9.4.1_minion_384_d37a2ab9\n",
      "FLO-FLG001     OND-SQK-RP0384L   included  dna_r9.4.1_450bps_hac          2021-05-17_dna_r9.4.1_minion_384_d37a2ab9\n",
      "FLO-FLG001     SQK-16S024        included  dna_r9.4.1_450bps_hac          2021-05-17_dna_r9.4.1_minion_384_d37a2ab9\n",
      "FLO-FLG001     SQK-MLK110-96-XL  included  dna_r9.4.1_450bps_hac          2021-05-17_dna_r9.4.1_minion_384_d37a2ab9\n",
      "FLO-FLG001     SQK-MLK111-96-XL  included  dna_r9.4.1_450bps_hac          2021-05-17_dna_r9.4.1_minion_384_d37a2ab9\n",
      "FLO-FLG001     SQK-NBD110-24     included  dna_r9.4.1_450bps_hac          2021-05-17_dna_r9.4.1_minion_384_d37a2ab9\n",
      "FLO-FLG001     SQK-NBD110-96     included  dna_r9.4.1_450bps_hac          2021-05-17_dna_r9.4.1_minion_384_d37a2ab9\n",
      "FLO-FLG001     SQK-NBD112-24     included  dna_r9.4.1_450bps_hac          2021-05-17_dna_r9.4.1_minion_384_d37a2ab9\n",
      "FLO-FLG001     SQK-NBD112-96     included  dna_r9.4.1_450bps_hac          2021-05-17_dna_r9.4.1_minion_384_d37a2ab9\n",
      "FLO-FLG001     SQK-PCB109        included  dna_r9.4.1_450bps_hac          2021-05-17_dna_r9.4.1_minion_384_d37a2ab9\n",
      "FLO-FLG001     SQK-PCB110        included  dna_r9.4.1_450bps_hac          2021-05-17_dna_r9.4.1_minion_384_d37a2ab9\n",
      "FLO-FLG001     SQK-PCB111-24     included  dna_r9.4.1_450bps_hac          2021-05-17_dna_r9.4.1_minion_384_d37a2ab9\n",
      "FLO-FLG001     SQK-RBK001        included  dna_r9.4.1_450bps_hac          2021-05-17_dna_r9.4.1_minion_384_d37a2ab9\n",
      "FLO-FLG001     SQK-RBK004        included  dna_r9.4.1_450bps_hac          2021-05-17_dna_r9.4.1_minion_384_d37a2ab9\n",
      "FLO-FLG001     SQK-RBK110-96     included  dna_r9.4.1_450bps_hac          2021-05-17_dna_r9.4.1_minion_384_d37a2ab9\n",
      "FLO-FLG001     SQK-RLB001        included  dna_r9.4.1_450bps_hac          2021-05-17_dna_r9.4.1_minion_384_d37a2ab9\n",
      "FLO-FLG001     SQK-LWB001        included  dna_r9.4.1_450bps_hac          2021-05-17_dna_r9.4.1_minion_384_d37a2ab9\n",
      "FLO-FLG001     SQK-PBK004        included  dna_r9.4.1_450bps_hac          2021-05-17_dna_r9.4.1_minion_384_d37a2ab9\n",
      "FLO-FLG001     SQK-RAB201        included  dna_r9.4.1_450bps_hac          2021-05-17_dna_r9.4.1_minion_384_d37a2ab9\n",
      "FLO-FLG001     SQK-RAB204        included  dna_r9.4.1_450bps_hac          2021-05-17_dna_r9.4.1_minion_384_d37a2ab9\n",
      "FLO-FLG001     SQK-RPB004        included  dna_r9.4.1_450bps_hac          2021-05-17_dna_r9.4.1_minion_384_d37a2ab9\n",
      "FLO-FLG001     VSK-PTC001        included  dna_r9.4.1_450bps_hac          2021-05-17_dna_r9.4.1_minion_384_d37a2ab9\n",
      "FLO-FLG001     VSK-VMK001        included  dna_r9.4.1_450bps_hac          2021-05-17_dna_r9.4.1_minion_384_d37a2ab9\n",
      "FLO-FLG001     VSK-VMK002        included  dna_r9.4.1_450bps_hac          2021-05-17_dna_r9.4.1_minion_384_d37a2ab9\n",
      "FLO-FLG001     VSK-VMK003        included  dna_r9.4.1_450bps_hac          2021-05-17_dna_r9.4.1_minion_384_d37a2ab9\n",
      "FLO-MIN106     SQK-CAS109                  dna_r9.4.1_450bps_hac          2021-05-17_dna_r9.4.1_minion_384_d37a2ab9\n",
      "FLO-MIN106     SQK-CS9109                  dna_r9.4.1_450bps_hac          2021-05-17_dna_r9.4.1_minion_384_d37a2ab9\n",
      "FLO-MIN106     SQK-DCS108                  dna_r9.4.1_450bps_hac          2021-05-17_dna_r9.4.1_minion_384_d37a2ab9\n",
      "FLO-MIN106     SQK-DCS109                  dna_r9.4.1_450bps_hac          2021-05-17_dna_r9.4.1_minion_384_d37a2ab9\n",
      "FLO-MIN106     SQK-LRK001                  dna_r9.4.1_450bps_hac          2021-05-17_dna_r9.4.1_minion_384_d37a2ab9\n",
      "FLO-MIN106     SQK-LSK108                  dna_r9.4.1_450bps_hac          2021-05-17_dna_r9.4.1_minion_384_d37a2ab9\n",
      "FLO-MIN106     SQK-LSK109                  dna_r9.4.1_450bps_hac          2021-05-17_dna_r9.4.1_minion_384_d37a2ab9\n",
      "FLO-MIN106     SQK-LSK109-XL               dna_r9.4.1_450bps_hac          2021-05-17_dna_r9.4.1_minion_384_d37a2ab9\n",
      "FLO-MIN106     SQK-LSK110                  dna_r9.4.1_450bps_hac          2021-05-17_dna_r9.4.1_minion_384_d37a2ab9\n",
      "FLO-MIN106     SQK-LSK110-XL               dna_r9.4.1_450bps_hac          2021-05-17_dna_r9.4.1_minion_384_d37a2ab9\n",
      "FLO-MIN106     SQK-LWP001                  dna_r9.4.1_450bps_hac          2021-05-17_dna_r9.4.1_minion_384_d37a2ab9\n",
      "FLO-MIN106     SQK-PCS108                  dna_r9.4.1_450bps_hac          2021-05-17_dna_r9.4.1_minion_384_d37a2ab9\n",
      "FLO-MIN106     SQK-PCS109                  dna_r9.4.1_450bps_hac          2021-05-17_dna_r9.4.1_minion_384_d37a2ab9\n",
      "FLO-MIN106     SQK-PCS110                  dna_r9.4.1_450bps_hac          2021-05-17_dna_r9.4.1_minion_384_d37a2ab9\n",
      "FLO-MIN106     SQK-PCS111                  dna_r9.4.1_450bps_hac          2021-05-17_dna_r9.4.1_minion_384_d37a2ab9\n",
      "FLO-MIN106     SQK-PRC109                  dna_r9.4.1_450bps_hac          2021-05-17_dna_r9.4.1_minion_384_d37a2ab9\n",
      "FLO-MIN106     SQK-PSK004                  dna_r9.4.1_450bps_hac          2021-05-17_dna_r9.4.1_minion_384_d37a2ab9\n",
      "FLO-MIN106     SQK-RAD002                  dna_r9.4.1_450bps_hac          2021-05-17_dna_r9.4.1_minion_384_d37a2ab9\n",
      "FLO-MIN106     SQK-RAD003                  dna_r9.4.1_450bps_hac          2021-05-17_dna_r9.4.1_minion_384_d37a2ab9\n",
      "FLO-MIN106     SQK-RAD004                  dna_r9.4.1_450bps_hac          2021-05-17_dna_r9.4.1_minion_384_d37a2ab9\n",
      "FLO-MIN106     SQK-RAD112                  dna_r9.4.1_450bps_hac          2021-05-17_dna_r9.4.1_minion_384_d37a2ab9\n",
      "FLO-MIN106     SQK-RAS201                  dna_r9.4.1_450bps_hac          2021-05-17_dna_r9.4.1_minion_384_d37a2ab9\n",
      "FLO-MIN106     SQK-RLI001                  dna_r9.4.1_450bps_hac          2021-05-17_dna_r9.4.1_minion_384_d37a2ab9\n",
      "FLO-MIN106     SQK-ULK001                  dna_r9.4.1_450bps_hac          2021-05-17_dna_r9.4.1_minion_384_d37a2ab9\n",
      "FLO-MIN106     VSK-VBK001                  dna_r9.4.1_450bps_hac          2021-05-17_dna_r9.4.1_minion_384_d37a2ab9\n",
      "FLO-MIN106     VSK-VSK001                  dna_r9.4.1_450bps_hac          2021-05-17_dna_r9.4.1_minion_384_d37a2ab9\n",
      "FLO-MIN106     VSK-VSK002                  dna_r9.4.1_450bps_hac          2021-05-17_dna_r9.4.1_minion_384_d37a2ab9\n",
      "FLO-MIN106     VSK-VSK003                  dna_r9.4.1_450bps_hac          2021-05-17_dna_r9.4.1_minion_384_d37a2ab9\n",
      "FLO-MIN106     OND-SQK-LP0096M   included  dna_r9.4.1_450bps_hac          2021-05-17_dna_r9.4.1_minion_384_d37a2ab9\n",
      "FLO-MIN106     OND-SQK-LP0096MA  included  dna_r9.4.1_450bps_hac          2021-05-17_dna_r9.4.1_minion_384_d37a2ab9\n",
      "FLO-MIN106     OND-SQK-LP0096S   included  dna_r9.4.1_450bps_hac          2021-05-17_dna_r9.4.1_minion_384_d37a2ab9\n",
      "FLO-MIN106     OND-SQK-LP0768L   included  dna_r9.4.1_450bps_hac          2021-05-17_dna_r9.4.1_minion_384_d37a2ab9\n",
      "FLO-MIN106     OND-SQK-LP1152S   included  dna_r9.4.1_450bps_hac          2021-05-17_dna_r9.4.1_minion_384_d37a2ab9\n",
      "FLO-MIN106     OND-SQK-LP9216    included  dna_r9.4.1_450bps_hac          2021-05-17_dna_r9.4.1_minion_384_d37a2ab9\n",
      "FLO-MIN106     OND-SQK-RP0096M   included  dna_r9.4.1_450bps_hac          2021-05-17_dna_r9.4.1_minion_384_d37a2ab9\n",
      "FLO-MIN106     OND-SQK-RP0096MA  included  dna_r9.4.1_450bps_hac          2021-05-17_dna_r9.4.1_minion_384_d37a2ab9\n",
      "FLO-MIN106     OND-SQK-RP0384L   included  dna_r9.4.1_450bps_hac          2021-05-17_dna_r9.4.1_minion_384_d37a2ab9\n",
      "FLO-MIN106     SQK-16S024        included  dna_r9.4.1_450bps_hac          2021-05-17_dna_r9.4.1_minion_384_d37a2ab9\n",
      "FLO-MIN106     SQK-MLK110-96-XL  included  dna_r9.4.1_450bps_hac          2021-05-17_dna_r9.4.1_minion_384_d37a2ab9\n",
      "FLO-MIN106     SQK-MLK111-96-XL  included  dna_r9.4.1_450bps_hac          2021-05-17_dna_r9.4.1_minion_384_d37a2ab9\n",
      "FLO-MIN106     SQK-NBD110-24     included  dna_r9.4.1_450bps_hac          2021-05-17_dna_r9.4.1_minion_384_d37a2ab9\n",
      "FLO-MIN106     SQK-NBD110-96     included  dna_r9.4.1_450bps_hac          2021-05-17_dna_r9.4.1_minion_384_d37a2ab9\n",
      "FLO-MIN106     SQK-NBD112-24     included  dna_r9.4.1_450bps_hac          2021-05-17_dna_r9.4.1_minion_384_d37a2ab9\n",
      "FLO-MIN106     SQK-NBD112-96     included  dna_r9.4.1_450bps_hac          2021-05-17_dna_r9.4.1_minion_384_d37a2ab9\n",
      "FLO-MIN106     SQK-PCB109        included  dna_r9.4.1_450bps_hac          2021-05-17_dna_r9.4.1_minion_384_d37a2ab9\n",
      "FLO-MIN106     SQK-PCB110        included  dna_r9.4.1_450bps_hac          2021-05-17_dna_r9.4.1_minion_384_d37a2ab9\n",
      "FLO-MIN106     SQK-PCB111-24     included  dna_r9.4.1_450bps_hac          2021-05-17_dna_r9.4.1_minion_384_d37a2ab9\n",
      "FLO-MIN106     SQK-RBK001        included  dna_r9.4.1_450bps_hac          2021-05-17_dna_r9.4.1_minion_384_d37a2ab9\n",
      "FLO-MIN106     SQK-RBK004        included  dna_r9.4.1_450bps_hac          2021-05-17_dna_r9.4.1_minion_384_d37a2ab9\n",
      "FLO-MIN106     SQK-RBK110-96     included  dna_r9.4.1_450bps_hac          2021-05-17_dna_r9.4.1_minion_384_d37a2ab9\n",
      "FLO-MIN106     SQK-RLB001        included  dna_r9.4.1_450bps_hac          2021-05-17_dna_r9.4.1_minion_384_d37a2ab9\n",
      "FLO-MIN106     SQK-LWB001        included  dna_r9.4.1_450bps_hac          2021-05-17_dna_r9.4.1_minion_384_d37a2ab9\n",
      "FLO-MIN106     SQK-PBK004        included  dna_r9.4.1_450bps_hac          2021-05-17_dna_r9.4.1_minion_384_d37a2ab9\n",
      "FLO-MIN106     SQK-RAB201        included  dna_r9.4.1_450bps_hac          2021-05-17_dna_r9.4.1_minion_384_d37a2ab9\n",
      "FLO-MIN106     SQK-RAB204        included  dna_r9.4.1_450bps_hac          2021-05-17_dna_r9.4.1_minion_384_d37a2ab9\n",
      "FLO-MIN106     SQK-RPB004        included  dna_r9.4.1_450bps_hac          2021-05-17_dna_r9.4.1_minion_384_d37a2ab9\n",
      "FLO-MIN106     VSK-PTC001        included  dna_r9.4.1_450bps_hac          2021-05-17_dna_r9.4.1_minion_384_d37a2ab9\n",
      "FLO-MIN106     VSK-VMK001        included  dna_r9.4.1_450bps_hac          2021-05-17_dna_r9.4.1_minion_384_d37a2ab9\n",
      "FLO-MIN106     VSK-VMK002        included  dna_r9.4.1_450bps_hac          2021-05-17_dna_r9.4.1_minion_384_d37a2ab9\n",
      "FLO-MIN106     VSK-VMK003        included  dna_r9.4.1_450bps_hac          2021-05-17_dna_r9.4.1_minion_384_d37a2ab9\n",
      "FLO-MINSP6     SQK-CAS109                  dna_r9.4.1_450bps_hac          2021-05-17_dna_r9.4.1_minion_384_d37a2ab9\n",
      "FLO-MINSP6     SQK-CS9109                  dna_r9.4.1_450bps_hac          2021-05-17_dna_r9.4.1_minion_384_d37a2ab9\n",
      "FLO-MINSP6     SQK-DCS108                  dna_r9.4.1_450bps_hac          2021-05-17_dna_r9.4.1_minion_384_d37a2ab9\n",
      "FLO-MINSP6     SQK-DCS109                  dna_r9.4.1_450bps_hac          2021-05-17_dna_r9.4.1_minion_384_d37a2ab9\n",
      "FLO-MINSP6     SQK-LRK001                  dna_r9.4.1_450bps_hac          2021-05-17_dna_r9.4.1_minion_384_d37a2ab9\n",
      "FLO-MINSP6     SQK-LSK108                  dna_r9.4.1_450bps_hac          2021-05-17_dna_r9.4.1_minion_384_d37a2ab9\n",
      "FLO-MINSP6     SQK-LSK109                  dna_r9.4.1_450bps_hac          2021-05-17_dna_r9.4.1_minion_384_d37a2ab9\n",
      "FLO-MINSP6     SQK-LSK109-XL               dna_r9.4.1_450bps_hac          2021-05-17_dna_r9.4.1_minion_384_d37a2ab9\n",
      "FLO-MINSP6     SQK-LSK110                  dna_r9.4.1_450bps_hac          2021-05-17_dna_r9.4.1_minion_384_d37a2ab9\n",
      "FLO-MINSP6     SQK-LSK110-XL               dna_r9.4.1_450bps_hac          2021-05-17_dna_r9.4.1_minion_384_d37a2ab9\n",
      "FLO-MINSP6     SQK-LWP001                  dna_r9.4.1_450bps_hac          2021-05-17_dna_r9.4.1_minion_384_d37a2ab9\n",
      "FLO-MINSP6     SQK-PCS108                  dna_r9.4.1_450bps_hac          2021-05-17_dna_r9.4.1_minion_384_d37a2ab9\n",
      "FLO-MINSP6     SQK-PCS109                  dna_r9.4.1_450bps_hac          2021-05-17_dna_r9.4.1_minion_384_d37a2ab9\n",
      "FLO-MINSP6     SQK-PCS110                  dna_r9.4.1_450bps_hac          2021-05-17_dna_r9.4.1_minion_384_d37a2ab9\n",
      "FLO-MINSP6     SQK-PCS111                  dna_r9.4.1_450bps_hac          2021-05-17_dna_r9.4.1_minion_384_d37a2ab9\n",
      "FLO-MINSP6     SQK-PRC109                  dna_r9.4.1_450bps_hac          2021-05-17_dna_r9.4.1_minion_384_d37a2ab9\n",
      "FLO-MINSP6     SQK-PSK004                  dna_r9.4.1_450bps_hac          2021-05-17_dna_r9.4.1_minion_384_d37a2ab9\n",
      "FLO-MINSP6     SQK-RAD002                  dna_r9.4.1_450bps_hac          2021-05-17_dna_r9.4.1_minion_384_d37a2ab9\n",
      "FLO-MINSP6     SQK-RAD003                  dna_r9.4.1_450bps_hac          2021-05-17_dna_r9.4.1_minion_384_d37a2ab9\n",
      "FLO-MINSP6     SQK-RAD004                  dna_r9.4.1_450bps_hac          2021-05-17_dna_r9.4.1_minion_384_d37a2ab9\n",
      "FLO-MINSP6     SQK-RAD112                  dna_r9.4.1_450bps_hac          2021-05-17_dna_r9.4.1_minion_384_d37a2ab9\n",
      "FLO-MINSP6     SQK-RAS201                  dna_r9.4.1_450bps_hac          2021-05-17_dna_r9.4.1_minion_384_d37a2ab9\n",
      "FLO-MINSP6     SQK-RLI001                  dna_r9.4.1_450bps_hac          2021-05-17_dna_r9.4.1_minion_384_d37a2ab9\n",
      "FLO-MINSP6     SQK-ULK001                  dna_r9.4.1_450bps_hac          2021-05-17_dna_r9.4.1_minion_384_d37a2ab9\n",
      "FLO-MINSP6     VSK-VBK001                  dna_r9.4.1_450bps_hac          2021-05-17_dna_r9.4.1_minion_384_d37a2ab9\n",
      "FLO-MINSP6     VSK-VSK001                  dna_r9.4.1_450bps_hac          2021-05-17_dna_r9.4.1_minion_384_d37a2ab9\n",
      "FLO-MINSP6     VSK-VSK002                  dna_r9.4.1_450bps_hac          2021-05-17_dna_r9.4.1_minion_384_d37a2ab9\n",
      "FLO-MINSP6     VSK-VSK003                  dna_r9.4.1_450bps_hac          2021-05-17_dna_r9.4.1_minion_384_d37a2ab9\n",
      "FLO-MINSP6     OND-SQK-LP0096M   included  dna_r9.4.1_450bps_hac          2021-05-17_dna_r9.4.1_minion_384_d37a2ab9\n",
      "FLO-MINSP6     OND-SQK-LP0096MA  included  dna_r9.4.1_450bps_hac          2021-05-17_dna_r9.4.1_minion_384_d37a2ab9\n",
      "FLO-MINSP6     OND-SQK-LP0096S   included  dna_r9.4.1_450bps_hac          2021-05-17_dna_r9.4.1_minion_384_d37a2ab9\n",
      "FLO-MINSP6     OND-SQK-LP0768L   included  dna_r9.4.1_450bps_hac          2021-05-17_dna_r9.4.1_minion_384_d37a2ab9\n",
      "FLO-MINSP6     OND-SQK-LP1152S   included  dna_r9.4.1_450bps_hac          2021-05-17_dna_r9.4.1_minion_384_d37a2ab9\n",
      "FLO-MINSP6     OND-SQK-LP9216    included  dna_r9.4.1_450bps_hac          2021-05-17_dna_r9.4.1_minion_384_d37a2ab9\n",
      "FLO-MINSP6     OND-SQK-RP0096M   included  dna_r9.4.1_450bps_hac          2021-05-17_dna_r9.4.1_minion_384_d37a2ab9\n",
      "FLO-MINSP6     OND-SQK-RP0096MA  included  dna_r9.4.1_450bps_hac          2021-05-17_dna_r9.4.1_minion_384_d37a2ab9\n",
      "FLO-MINSP6     OND-SQK-RP0384L   included  dna_r9.4.1_450bps_hac          2021-05-17_dna_r9.4.1_minion_384_d37a2ab9\n",
      "FLO-MINSP6     SQK-16S024        included  dna_r9.4.1_450bps_hac          2021-05-17_dna_r9.4.1_minion_384_d37a2ab9\n",
      "FLO-MINSP6     SQK-MLK110-96-XL  included  dna_r9.4.1_450bps_hac          2021-05-17_dna_r9.4.1_minion_384_d37a2ab9\n",
      "FLO-MINSP6     SQK-MLK111-96-XL  included  dna_r9.4.1_450bps_hac          2021-05-17_dna_r9.4.1_minion_384_d37a2ab9\n",
      "FLO-MINSP6     SQK-NBD110-24     included  dna_r9.4.1_450bps_hac          2021-05-17_dna_r9.4.1_minion_384_d37a2ab9\n",
      "FLO-MINSP6     SQK-NBD110-96     included  dna_r9.4.1_450bps_hac          2021-05-17_dna_r9.4.1_minion_384_d37a2ab9\n",
      "FLO-MINSP6     SQK-NBD112-24     included  dna_r9.4.1_450bps_hac          2021-05-17_dna_r9.4.1_minion_384_d37a2ab9\n",
      "FLO-MINSP6     SQK-NBD112-96     included  dna_r9.4.1_450bps_hac          2021-05-17_dna_r9.4.1_minion_384_d37a2ab9\n",
      "FLO-MINSP6     SQK-PCB109        included  dna_r9.4.1_450bps_hac          2021-05-17_dna_r9.4.1_minion_384_d37a2ab9\n",
      "FLO-MINSP6     SQK-PCB110        included  dna_r9.4.1_450bps_hac          2021-05-17_dna_r9.4.1_minion_384_d37a2ab9\n",
      "FLO-MINSP6     SQK-PCB111-24     included  dna_r9.4.1_450bps_hac          2021-05-17_dna_r9.4.1_minion_384_d37a2ab9\n",
      "FLO-MINSP6     SQK-RBK001        included  dna_r9.4.1_450bps_hac          2021-05-17_dna_r9.4.1_minion_384_d37a2ab9\n",
      "FLO-MINSP6     SQK-RBK004        included  dna_r9.4.1_450bps_hac          2021-05-17_dna_r9.4.1_minion_384_d37a2ab9\n",
      "FLO-MINSP6     SQK-RBK110-96     included  dna_r9.4.1_450bps_hac          2021-05-17_dna_r9.4.1_minion_384_d37a2ab9\n",
      "FLO-MINSP6     SQK-RLB001        included  dna_r9.4.1_450bps_hac          2021-05-17_dna_r9.4.1_minion_384_d37a2ab9\n",
      "FLO-MINSP6     SQK-LWB001        included  dna_r9.4.1_450bps_hac          2021-05-17_dna_r9.4.1_minion_384_d37a2ab9\n",
      "FLO-MINSP6     SQK-PBK004        included  dna_r9.4.1_450bps_hac          2021-05-17_dna_r9.4.1_minion_384_d37a2ab9\n",
      "FLO-MINSP6     SQK-RAB201        included  dna_r9.4.1_450bps_hac          2021-05-17_dna_r9.4.1_minion_384_d37a2ab9\n",
      "FLO-MINSP6     SQK-RAB204        included  dna_r9.4.1_450bps_hac          2021-05-17_dna_r9.4.1_minion_384_d37a2ab9\n",
      "FLO-MINSP6     SQK-RPB004        included  dna_r9.4.1_450bps_hac          2021-05-17_dna_r9.4.1_minion_384_d37a2ab9\n",
      "FLO-MINSP6     VSK-PTC001        included  dna_r9.4.1_450bps_hac          2021-05-17_dna_r9.4.1_minion_384_d37a2ab9\n",
      "FLO-MINSP6     VSK-VMK001        included  dna_r9.4.1_450bps_hac          2021-05-17_dna_r9.4.1_minion_384_d37a2ab9\n",
      "FLO-MINSP6     VSK-VMK002        included  dna_r9.4.1_450bps_hac          2021-05-17_dna_r9.4.1_minion_384_d37a2ab9\n",
      "FLO-MINSP6     VSK-VMK003        included  dna_r9.4.1_450bps_hac          2021-05-17_dna_r9.4.1_minion_384_d37a2ab9\n",
      "FLO-PRO001     SQK-LSK109                  dna_r9.4.1_450bps_hac_prom     2021-05-05_dna_r9.4.1_promethion_384_dd219f32\n",
      "FLO-PRO001     SQK-LSK109-XL               dna_r9.4.1_450bps_hac_prom     2021-05-05_dna_r9.4.1_promethion_384_dd219f32\n",
      "FLO-PRO001     SQK-LSK110                  dna_r9.4.1_450bps_hac_prom     2021-05-05_dna_r9.4.1_promethion_384_dd219f32\n",
      "FLO-PRO001     SQK-DCS109                  dna_r9.4.1_450bps_hac_prom     2021-05-05_dna_r9.4.1_promethion_384_dd219f32\n",
      "FLO-PRO001     SQK-PCS109                  dna_r9.4.1_450bps_hac_prom     2021-05-05_dna_r9.4.1_promethion_384_dd219f32\n",
      "FLO-PRO001     SQK-PCS110                  dna_r9.4.1_450bps_hac_prom     2021-05-05_dna_r9.4.1_promethion_384_dd219f32\n",
      "FLO-PRO001     SQK-PCS111                  dna_r9.4.1_450bps_hac_prom     2021-05-05_dna_r9.4.1_promethion_384_dd219f32\n",
      "FLO-PRO001     SQK-PRC109                  dna_r9.4.1_450bps_hac_prom     2021-05-05_dna_r9.4.1_promethion_384_dd219f32\n",
      "FLO-PRO001     SQK-RAD112                  dna_r9.4.1_450bps_hac_prom     2021-05-05_dna_r9.4.1_promethion_384_dd219f32\n",
      "FLO-PRO001     SQK-MLK110-96-XL  included  dna_r9.4.1_450bps_hac_prom     2021-05-05_dna_r9.4.1_promethion_384_dd219f32\n",
      "FLO-PRO001     SQK-MLK111-96-XL  included  dna_r9.4.1_450bps_hac_prom     2021-05-05_dna_r9.4.1_promethion_384_dd219f32\n",
      "FLO-PRO001     SQK-NBD112-24     included  dna_r9.4.1_450bps_hac_prom     2021-05-05_dna_r9.4.1_promethion_384_dd219f32\n",
      "FLO-PRO001     SQK-NBD112-96     included  dna_r9.4.1_450bps_hac_prom     2021-05-05_dna_r9.4.1_promethion_384_dd219f32\n",
      "FLO-PRO001     SQK-PCB109        included  dna_r9.4.1_450bps_hac_prom     2021-05-05_dna_r9.4.1_promethion_384_dd219f32\n",
      "FLO-PRO001     SQK-PCB110        included  dna_r9.4.1_450bps_hac_prom     2021-05-05_dna_r9.4.1_promethion_384_dd219f32\n",
      "FLO-PRO001     SQK-PCB111-24     included  dna_r9.4.1_450bps_hac_prom     2021-05-05_dna_r9.4.1_promethion_384_dd219f32\n",
      "FLO-PRO002     SQK-LSK109                  dna_r9.4.1_450bps_hac_prom     2021-05-05_dna_r9.4.1_promethion_384_dd219f32\n",
      "FLO-PRO002     SQK-LSK109-XL               dna_r9.4.1_450bps_hac_prom     2021-05-05_dna_r9.4.1_promethion_384_dd219f32\n",
      "FLO-PRO002     SQK-LSK110                  dna_r9.4.1_450bps_hac_prom     2021-05-05_dna_r9.4.1_promethion_384_dd219f32\n",
      "FLO-PRO002     SQK-DCS109                  dna_r9.4.1_450bps_hac_prom     2021-05-05_dna_r9.4.1_promethion_384_dd219f32\n",
      "FLO-PRO002     SQK-PCS109                  dna_r9.4.1_450bps_hac_prom     2021-05-05_dna_r9.4.1_promethion_384_dd219f32\n",
      "FLO-PRO002     SQK-PCS110                  dna_r9.4.1_450bps_hac_prom     2021-05-05_dna_r9.4.1_promethion_384_dd219f32\n",
      "FLO-PRO002     SQK-PCS111                  dna_r9.4.1_450bps_hac_prom     2021-05-05_dna_r9.4.1_promethion_384_dd219f32\n",
      "FLO-PRO002     SQK-PRC109                  dna_r9.4.1_450bps_hac_prom     2021-05-05_dna_r9.4.1_promethion_384_dd219f32\n",
      "FLO-PRO002     SQK-RAD112                  dna_r9.4.1_450bps_hac_prom     2021-05-05_dna_r9.4.1_promethion_384_dd219f32\n",
      "FLO-PRO002     SQK-MLK110-96-XL  included  dna_r9.4.1_450bps_hac_prom     2021-05-05_dna_r9.4.1_promethion_384_dd219f32\n",
      "FLO-PRO002     SQK-MLK111-96-XL  included  dna_r9.4.1_450bps_hac_prom     2021-05-05_dna_r9.4.1_promethion_384_dd219f32\n",
      "FLO-PRO002     SQK-NBD112-24     included  dna_r9.4.1_450bps_hac_prom     2021-05-05_dna_r9.4.1_promethion_384_dd219f32\n",
      "FLO-PRO002     SQK-NBD112-96     included  dna_r9.4.1_450bps_hac_prom     2021-05-05_dna_r9.4.1_promethion_384_dd219f32\n",
      "FLO-PRO002     SQK-PCB109        included  dna_r9.4.1_450bps_hac_prom     2021-05-05_dna_r9.4.1_promethion_384_dd219f32\n",
      "FLO-PRO002     SQK-PCB110        included  dna_r9.4.1_450bps_hac_prom     2021-05-05_dna_r9.4.1_promethion_384_dd219f32\n",
      "FLO-PRO002     SQK-PCB111-24     included  dna_r9.4.1_450bps_hac_prom     2021-05-05_dna_r9.4.1_promethion_384_dd219f32\n",
      "FLO-PRO002-ECO SQK-LSK109                  dna_r9.4.1_450bps_hac_prom     2021-05-05_dna_r9.4.1_promethion_384_dd219f32\n",
      "FLO-PRO002-ECO SQK-LSK109-XL               dna_r9.4.1_450bps_hac_prom     2021-05-05_dna_r9.4.1_promethion_384_dd219f32\n",
      "FLO-PRO002-ECO SQK-LSK110                  dna_r9.4.1_450bps_hac_prom     2021-05-05_dna_r9.4.1_promethion_384_dd219f32\n",
      "FLO-PRO002-ECO SQK-DCS109                  dna_r9.4.1_450bps_hac_prom     2021-05-05_dna_r9.4.1_promethion_384_dd219f32\n",
      "FLO-PRO002-ECO SQK-PCS109                  dna_r9.4.1_450bps_hac_prom     2021-05-05_dna_r9.4.1_promethion_384_dd219f32\n",
      "FLO-PRO002-ECO SQK-PCS110                  dna_r9.4.1_450bps_hac_prom     2021-05-05_dna_r9.4.1_promethion_384_dd219f32\n",
      "FLO-PRO002-ECO SQK-PCS111                  dna_r9.4.1_450bps_hac_prom     2021-05-05_dna_r9.4.1_promethion_384_dd219f32\n",
      "FLO-PRO002-ECO SQK-PRC109                  dna_r9.4.1_450bps_hac_prom     2021-05-05_dna_r9.4.1_promethion_384_dd219f32\n",
      "FLO-PRO002-ECO SQK-RAD112                  dna_r9.4.1_450bps_hac_prom     2021-05-05_dna_r9.4.1_promethion_384_dd219f32\n",
      "FLO-PRO002-ECO SQK-MLK110-96-XL  included  dna_r9.4.1_450bps_hac_prom     2021-05-05_dna_r9.4.1_promethion_384_dd219f32\n",
      "FLO-PRO002-ECO SQK-MLK111-96-XL  included  dna_r9.4.1_450bps_hac_prom     2021-05-05_dna_r9.4.1_promethion_384_dd219f32\n",
      "FLO-PRO002-ECO SQK-NBD112-24     included  dna_r9.4.1_450bps_hac_prom     2021-05-05_dna_r9.4.1_promethion_384_dd219f32\n",
      "FLO-PRO002-ECO SQK-NBD112-96     included  dna_r9.4.1_450bps_hac_prom     2021-05-05_dna_r9.4.1_promethion_384_dd219f32\n",
      "FLO-PRO002-ECO SQK-PCB109        included  dna_r9.4.1_450bps_hac_prom     2021-05-05_dna_r9.4.1_promethion_384_dd219f32\n",
      "FLO-PRO002-ECO SQK-PCB110        included  dna_r9.4.1_450bps_hac_prom     2021-05-05_dna_r9.4.1_promethion_384_dd219f32\n",
      "FLO-PRO002-ECO SQK-PCB111-24     included  dna_r9.4.1_450bps_hac_prom     2021-05-05_dna_r9.4.1_promethion_384_dd219f32\n",
      "FLO-PRO112     SQK-LSK112                  dna_r10.4_e8.1_hac_prom        2021-09-03_dna_r10.4_minion_promethion_384_6b8e75c7\n",
      "FLO-PRO112     SQK-LSK112-XL               dna_r10.4_e8.1_hac_prom        2021-09-03_dna_r10.4_minion_promethion_384_6b8e75c7\n",
      "FLO-PRO112     SQK-NBD112-24               dna_r10.4_e8.1_hac_prom        2021-09-03_dna_r10.4_minion_promethion_384_6b8e75c7\n",
      "FLO-PRO112     SQK-NBD112-96               dna_r10.4_e8.1_hac_prom        2021-09-03_dna_r10.4_minion_promethion_384_6b8e75c7\n",
      "FLO-PRO112     SQK-Q20EA                   dna_r10.4_e8.1_hac_prom        2021-09-03_dna_r10.4_minion_promethion_384_6b8e75c7\n",
      "FLO-PRO112     SQK-RAD112                  dna_r10.4_e8.1_hac_prom        2021-09-03_dna_r10.4_minion_promethion_384_6b8e75c7\n",
      "FLO-PRO111     SQK-CAS109                  dna_r10.3_450bps_hac_prom      2021-04-20_dna_r10.3_minion_promethion_384_72309afc\n",
      "FLO-PRO111     SQK-CS9109                  dna_r10.3_450bps_hac_prom      2021-04-20_dna_r10.3_minion_promethion_384_72309afc\n",
      "FLO-PRO111     SQK-DCS108                  dna_r10.3_450bps_hac_prom      2021-04-20_dna_r10.3_minion_promethion_384_72309afc\n",
      "FLO-PRO111     SQK-DCS109                  dna_r10.3_450bps_hac_prom      2021-04-20_dna_r10.3_minion_promethion_384_72309afc\n",
      "FLO-PRO111     SQK-LRK001                  dna_r10.3_450bps_hac_prom      2021-04-20_dna_r10.3_minion_promethion_384_72309afc\n",
      "FLO-PRO111     SQK-LSK108                  dna_r10.3_450bps_hac_prom      2021-04-20_dna_r10.3_minion_promethion_384_72309afc\n",
      "FLO-PRO111     SQK-LSK109                  dna_r10.3_450bps_hac_prom      2021-04-20_dna_r10.3_minion_promethion_384_72309afc\n",
      "FLO-PRO111     SQK-LSK109-XL               dna_r10.3_450bps_hac_prom      2021-04-20_dna_r10.3_minion_promethion_384_72309afc\n",
      "FLO-PRO111     SQK-LSK110                  dna_r10.3_450bps_hac_prom      2021-04-20_dna_r10.3_minion_promethion_384_72309afc\n",
      "FLO-PRO111     SQK-LSK110-XL               dna_r10.3_450bps_hac_prom      2021-04-20_dna_r10.3_minion_promethion_384_72309afc\n",
      "FLO-PRO111     SQK-LWP001                  dna_r10.3_450bps_hac_prom      2021-04-20_dna_r10.3_minion_promethion_384_72309afc\n",
      "FLO-PRO111     SQK-PCS108                  dna_r10.3_450bps_hac_prom      2021-04-20_dna_r10.3_minion_promethion_384_72309afc\n",
      "FLO-PRO111     SQK-PCS109                  dna_r10.3_450bps_hac_prom      2021-04-20_dna_r10.3_minion_promethion_384_72309afc\n",
      "FLO-PRO111     SQK-PCS110                  dna_r10.3_450bps_hac_prom      2021-04-20_dna_r10.3_minion_promethion_384_72309afc\n",
      "FLO-PRO111     SQK-PRC109                  dna_r10.3_450bps_hac_prom      2021-04-20_dna_r10.3_minion_promethion_384_72309afc\n",
      "FLO-PRO111     SQK-PSK004                  dna_r10.3_450bps_hac_prom      2021-04-20_dna_r10.3_minion_promethion_384_72309afc\n",
      "FLO-PRO111     SQK-RAD002                  dna_r10.3_450bps_hac_prom      2021-04-20_dna_r10.3_minion_promethion_384_72309afc\n",
      "FLO-PRO111     SQK-RAD003                  dna_r10.3_450bps_hac_prom      2021-04-20_dna_r10.3_minion_promethion_384_72309afc\n",
      "FLO-PRO111     SQK-RAD004                  dna_r10.3_450bps_hac_prom      2021-04-20_dna_r10.3_minion_promethion_384_72309afc\n",
      "FLO-PRO111     SQK-RAS201                  dna_r10.3_450bps_hac_prom      2021-04-20_dna_r10.3_minion_promethion_384_72309afc\n",
      "FLO-PRO111     SQK-RLI001                  dna_r10.3_450bps_hac_prom      2021-04-20_dna_r10.3_minion_promethion_384_72309afc\n",
      "FLO-PRO111     SQK-ULK001                  dna_r10.3_450bps_hac_prom      2021-04-20_dna_r10.3_minion_promethion_384_72309afc\n",
      "FLO-PRO111     VSK-VBK001                  dna_r10.3_450bps_hac_prom      2021-04-20_dna_r10.3_minion_promethion_384_72309afc\n",
      "FLO-PRO111     VSK-VSK001                  dna_r10.3_450bps_hac_prom      2021-04-20_dna_r10.3_minion_promethion_384_72309afc\n",
      "FLO-PRO111     VSK-VSK002                  dna_r10.3_450bps_hac_prom      2021-04-20_dna_r10.3_minion_promethion_384_72309afc\n",
      "FLO-PRO111     VSK-VSK003                  dna_r10.3_450bps_hac_prom      2021-04-20_dna_r10.3_minion_promethion_384_72309afc\n",
      "FLO-PRO111     SQK-16S024        included  dna_r10.3_450bps_hac_prom      2021-04-20_dna_r10.3_minion_promethion_384_72309afc\n",
      "FLO-PRO111     SQK-MLK110-96-XL  included  dna_r10.3_450bps_hac_prom      2021-04-20_dna_r10.3_minion_promethion_384_72309afc\n",
      "FLO-PRO111     SQK-PCB109        included  dna_r10.3_450bps_hac_prom      2021-04-20_dna_r10.3_minion_promethion_384_72309afc\n",
      "FLO-PRO111     SQK-PCB110        included  dna_r10.3_450bps_hac_prom      2021-04-20_dna_r10.3_minion_promethion_384_72309afc\n",
      "FLO-PRO111     SQK-RBK001        included  dna_r10.3_450bps_hac_prom      2021-04-20_dna_r10.3_minion_promethion_384_72309afc\n",
      "FLO-PRO111     SQK-RBK004        included  dna_r10.3_450bps_hac_prom      2021-04-20_dna_r10.3_minion_promethion_384_72309afc\n",
      "FLO-PRO111     SQK-RBK110-96     included  dna_r10.3_450bps_hac_prom      2021-04-20_dna_r10.3_minion_promethion_384_72309afc\n",
      "FLO-PRO111     SQK-RLB001        included  dna_r10.3_450bps_hac_prom      2021-04-20_dna_r10.3_minion_promethion_384_72309afc\n",
      "FLO-PRO111     SQK-LWB001        included  dna_r10.3_450bps_hac_prom      2021-04-20_dna_r10.3_minion_promethion_384_72309afc\n",
      "FLO-PRO111     SQK-PBK004        included  dna_r10.3_450bps_hac_prom      2021-04-20_dna_r10.3_minion_promethion_384_72309afc\n",
      "FLO-PRO111     SQK-RAB201        included  dna_r10.3_450bps_hac_prom      2021-04-20_dna_r10.3_minion_promethion_384_72309afc\n",
      "FLO-PRO111     SQK-RAB204        included  dna_r10.3_450bps_hac_prom      2021-04-20_dna_r10.3_minion_promethion_384_72309afc\n",
      "FLO-PRO111     SQK-RPB004        included  dna_r10.3_450bps_hac_prom      2021-04-20_dna_r10.3_minion_promethion_384_72309afc\n",
      "FLO-PRO111     VSK-PTC001        included  dna_r10.3_450bps_hac_prom      2021-04-20_dna_r10.3_minion_promethion_384_72309afc\n",
      "FLO-PRO111     VSK-VMK001        included  dna_r10.3_450bps_hac_prom      2021-04-20_dna_r10.3_minion_promethion_384_72309afc\n",
      "FLO-PRO111     VSK-VMK002        included  dna_r10.3_450bps_hac_prom      2021-04-20_dna_r10.3_minion_promethion_384_72309afc\n",
      "FLO-PRO111     VSK-VMK003        included  dna_r10.3_450bps_hac_prom      2021-04-20_dna_r10.3_minion_promethion_384_72309afc\n",
      "FLO-MIN110     SQK-CAS109                  dna_r10_450bps_hac             unknown\n",
      "FLO-MIN110     SQK-CS9109                  dna_r10_450bps_hac             unknown\n",
      "FLO-MIN110     SQK-DCS108                  dna_r10_450bps_hac             unknown\n",
      "FLO-MIN110     SQK-DCS109                  dna_r10_450bps_hac             unknown\n",
      "FLO-MIN110     SQK-LRK001                  dna_r10_450bps_hac             unknown\n",
      "FLO-MIN110     SQK-LSK108                  dna_r10_450bps_hac             unknown\n",
      "FLO-MIN110     SQK-LSK109                  dna_r10_450bps_hac             unknown\n",
      "FLO-MIN110     SQK-LSK109-XL               dna_r10_450bps_hac             unknown\n",
      "FLO-MIN110     SQK-LSK110                  dna_r10_450bps_hac             unknown\n",
      "FLO-MIN110     SQK-LSK110-XL               dna_r10_450bps_hac             unknown\n",
      "FLO-MIN110     SQK-LWP001                  dna_r10_450bps_hac             unknown\n",
      "FLO-MIN110     SQK-PCS108                  dna_r10_450bps_hac             unknown\n",
      "FLO-MIN110     SQK-PCS109                  dna_r10_450bps_hac             unknown\n",
      "FLO-MIN110     SQK-PCS110                  dna_r10_450bps_hac             unknown\n",
      "FLO-MIN110     SQK-PRC109                  dna_r10_450bps_hac             unknown\n",
      "FLO-MIN110     SQK-PSK004                  dna_r10_450bps_hac             unknown\n",
      "FLO-MIN110     SQK-RAD002                  dna_r10_450bps_hac             unknown\n",
      "FLO-MIN110     SQK-RAD003                  dna_r10_450bps_hac             unknown\n",
      "FLO-MIN110     SQK-RAD004                  dna_r10_450bps_hac             unknown\n",
      "FLO-MIN110     SQK-RAS201                  dna_r10_450bps_hac             unknown\n",
      "FLO-MIN110     SQK-RLI001                  dna_r10_450bps_hac             unknown\n",
      "FLO-MIN110     VSK-VBK001                  dna_r10_450bps_hac             unknown\n",
      "FLO-MIN110     VSK-VSK001                  dna_r10_450bps_hac             unknown\n",
      "FLO-MIN110     VSK-VSK002                  dna_r10_450bps_hac             unknown\n",
      "FLO-MIN110     SQK-16S024        included  dna_r10_450bps_hac             unknown\n",
      "FLO-MIN110     SQK-PCB109        included  dna_r10_450bps_hac             unknown\n",
      "FLO-MIN110     SQK-PCB110        included  dna_r10_450bps_hac             unknown\n",
      "FLO-MIN110     SQK-RBK001        included  dna_r10_450bps_hac             unknown\n",
      "FLO-MIN110     SQK-RBK004        included  dna_r10_450bps_hac             unknown\n",
      "FLO-MIN110     SQK-RLB001        included  dna_r10_450bps_hac             unknown\n",
      "FLO-MIN110     SQK-LWB001        included  dna_r10_450bps_hac             unknown\n",
      "FLO-MIN110     SQK-PBK004        included  dna_r10_450bps_hac             unknown\n",
      "FLO-MIN110     SQK-RAB201        included  dna_r10_450bps_hac             unknown\n",
      "FLO-MIN110     SQK-RAB204        included  dna_r10_450bps_hac             unknown\n",
      "FLO-MIN110     SQK-RPB004        included  dna_r10_450bps_hac             unknown\n",
      "FLO-MIN110     VSK-VMK001        included  dna_r10_450bps_hac             unknown\n",
      "FLO-MIN110     VSK-VMK002        included  dna_r10_450bps_hac             unknown\n",
      "FLO-MIN106     SQK-LSK112                  dna_r9.4.1_e8.1_hac            2021-09-13_dna_r9.4.1_minion_promethion_384_ca963bcb\n",
      "FLO-MIN106     SQK-LSK112-XL               dna_r9.4.1_e8.1_hac            2021-09-13_dna_r9.4.1_minion_promethion_384_ca963bcb\n",
      "FLO-MIN106     SQK-NBD112-24               dna_r9.4.1_e8.1_hac            2021-09-13_dna_r9.4.1_minion_promethion_384_ca963bcb\n",
      "FLO-MIN106     SQK-NBD112-96               dna_r9.4.1_e8.1_hac            2021-09-13_dna_r9.4.1_minion_promethion_384_ca963bcb\n",
      "FLO-MIN106     SQK-Q20EA                   dna_r9.4.1_e8.1_hac            2021-09-13_dna_r9.4.1_minion_promethion_384_ca963bcb\n",
      "FLO-MIN106     SQK-RAD112                  dna_r9.4.1_e8.1_hac            2021-09-13_dna_r9.4.1_minion_promethion_384_ca963bcb\n",
      "FLO-MIN107     SQK-DCS108                  dna_r9.5_450bps                unknown\n",
      "FLO-MIN107     SQK-DCS109                  dna_r9.5_450bps                unknown\n",
      "FLO-MIN107     SQK-LRK001                  dna_r9.5_450bps                unknown\n",
      "FLO-MIN107     SQK-LSK108                  dna_r9.5_450bps                unknown\n",
      "FLO-MIN107     SQK-LSK109                  dna_r9.5_450bps                unknown\n",
      "FLO-MIN107     SQK-LSK308                  dna_r9.5_450bps                unknown\n",
      "FLO-MIN107     SQK-LSK309                  dna_r9.5_450bps                unknown\n",
      "FLO-MIN107     SQK-LSK319                  dna_r9.5_450bps                unknown\n",
      "FLO-MIN107     SQK-LWP001                  dna_r9.5_450bps                unknown\n",
      "FLO-MIN107     SQK-PCS108                  dna_r9.5_450bps                unknown\n",
      "FLO-MIN107     SQK-PCS109                  dna_r9.5_450bps                unknown\n",
      "FLO-MIN107     SQK-PSK004                  dna_r9.5_450bps                unknown\n",
      "FLO-MIN107     SQK-RAD002                  dna_r9.5_450bps                unknown\n",
      "FLO-MIN107     SQK-RAD003                  dna_r9.5_450bps                unknown\n",
      "FLO-MIN107     SQK-RAD004                  dna_r9.5_450bps                unknown\n",
      "FLO-MIN107     SQK-RAS201                  dna_r9.5_450bps                unknown\n",
      "FLO-MIN107     SQK-RLI001                  dna_r9.5_450bps                unknown\n",
      "FLO-MIN107     VSK-VBK001                  dna_r9.5_450bps                unknown\n",
      "FLO-MIN107     VSK-VSK001                  dna_r9.5_450bps                unknown\n",
      "FLO-MIN107     VSK-VSK002                  dna_r9.5_450bps                unknown\n",
      "FLO-MIN107     SQK-LWB001        included  dna_r9.5_450bps                unknown\n",
      "FLO-MIN107     SQK-PBK004        included  dna_r9.5_450bps                unknown\n",
      "FLO-MIN107     SQK-RAB201        included  dna_r9.5_450bps                unknown\n",
      "FLO-MIN107     SQK-RAB204        included  dna_r9.5_450bps                unknown\n",
      "FLO-MIN107     SQK-RBK001        included  dna_r9.5_450bps                unknown\n",
      "FLO-MIN107     SQK-RBK004        included  dna_r9.5_450bps                unknown\n",
      "FLO-MIN107     SQK-RLB001        included  dna_r9.5_450bps                unknown\n",
      "FLO-MIN107     SQK-RPB004        included  dna_r9.5_450bps                unknown\n",
      "FLO-MIN107     VSK-VMK001        included  dna_r9.5_450bps                unknown\n",
      "FLO-MIN107     VSK-VMK002        included  dna_r9.5_450bps                unknown\n",
      "FLO-FLG001     SQK-RNA001                  rna_r9.4.1_70bps_hac           2020-09-07_rna_r9.4.1_minion_256_8f8fc47b\n",
      "FLO-FLG001     SQK-RNA002                  rna_r9.4.1_70bps_hac           2020-09-07_rna_r9.4.1_minion_256_8f8fc47b\n",
      "FLO-MIN106     SQK-RNA001                  rna_r9.4.1_70bps_hac           2020-09-07_rna_r9.4.1_minion_256_8f8fc47b\n",
      "FLO-MIN106     SQK-RNA002                  rna_r9.4.1_70bps_hac           2020-09-07_rna_r9.4.1_minion_256_8f8fc47b\n",
      "FLO-MINSP6     SQK-RNA001                  rna_r9.4.1_70bps_hac           2020-09-07_rna_r9.4.1_minion_256_8f8fc47b\n",
      "FLO-MINSP6     SQK-RNA002                  rna_r9.4.1_70bps_hac           2020-09-07_rna_r9.4.1_minion_256_8f8fc47b\n",
      "FLO-MIN107     SQK-RNA001                  rna_r9.4.1_70bps_hac           2020-09-07_rna_r9.4.1_minion_256_8f8fc47b\n",
      "FLO-MIN107     SQK-RNA002                  rna_r9.4.1_70bps_hac           2020-09-07_rna_r9.4.1_minion_256_8f8fc47b\n",
      "FLO-MIN112     SQK-LSK112                  dna_r10.4_e8.1_hac             2021-09-03_dna_r10.4_minion_promethion_384_6b8e75c7\n",
      "FLO-MIN112     SQK-LSK112-XL               dna_r10.4_e8.1_hac             2021-09-03_dna_r10.4_minion_promethion_384_6b8e75c7\n",
      "FLO-MIN112     SQK-NBD112-24               dna_r10.4_e8.1_hac             2021-09-03_dna_r10.4_minion_promethion_384_6b8e75c7\n",
      "FLO-MIN112     SQK-NBD112-96               dna_r10.4_e8.1_hac             2021-09-03_dna_r10.4_minion_promethion_384_6b8e75c7\n",
      "FLO-MIN112     SQK-Q20EA                   dna_r10.4_e8.1_hac             2021-09-03_dna_r10.4_minion_promethion_384_6b8e75c7\n",
      "FLO-MIN112     SQK-RAD112                  dna_r10.4_e8.1_hac             2021-09-03_dna_r10.4_minion_promethion_384_6b8e75c7\n",
      "\n"
     ]
    }
   ],
   "source": [
    "bsub -R 'select[defined(gpu)]' -I \"/workspace/hraijc/packages/guppyV6/ont-guppy/bin/guppy_basecaller --print_workflows\" "
   ]
  },
  {
   "cell_type": "code",
   "execution_count": 17,
   "id": "9e22513c-debb-41fb-8988-85dcf60995ab",
   "metadata": {},
   "outputs": [
    {
     "name": "stdout",
     "output_type": "stream",
     "text": [
      "Job <714006> is submitted to default queue <lowpriority>.\n"
     ]
    }
   ],
   "source": [
    "#First Try. Did simplex calling for non-duplex reads which is not as accurate as the GuppyV5 'sup' calling. Going to use this for next run to not redo.\n",
    "# Did not do 'call_non_duplex_reads' option so will only output duplex data. Want all data.\n",
    "#bsub -J guppyM721 -o $WKDIR/log/guppyM721.out -e $WKDIR/log/guppyM721.err -R 'gpu' \"guppy_duplex \\\n",
    "#--input_path squee \\\n",
    "#--save_path /workspace/hraijc/BB_M7_Assembly/GuppyV6 \\\n",
    "#--device 'cuda:0' \\\n",
    "#--do_read_splitting \\\n",
    "#--duplex_chunks_per_runner 1200\"\n"
   ]
  },
  {
   "cell_type": "code",
   "execution_count": 15,
   "id": "bdf56165-8c55-47a2-8138-c2763ee5e239",
   "metadata": {},
   "outputs": [],
   "source": [
    "#copying output from step one from previous run so don't need to do again. \n",
    "#bsub -I \"cp -r /workspace/hraijc/BB_M7_Assembly/GuppyV6/simplex/ /workspace/hraijc/BB_M7_Assembly/GuppyV6_duplex/\""
   ]
  },
  {
   "cell_type": "code",
   "execution_count": 6,
   "id": "ce57c938-8df3-48ad-9756-127ff8f1a1da",
   "metadata": {
    "tags": []
   },
   "outputs": [
    {
     "name": "stdout",
     "output_type": "stream",
     "text": [
      "Job <715983> is submitted to default queue <lowpriority>.\n"
     ]
    }
   ],
   "source": [
    "#Second try. Skipping simplex (done before) and calling non_duplex_reads with GuppyV6 'sup' accuracy\n",
    "#bsub -n 9 -J guppyM7224 -o $WKDIR/log/guppyM7224.out -e $WKDIR/log/guppyM7224.err -R 'select[defined(gpu)] rusage[mem=40000]' \"guppy_duplex \\\n",
    "#--input_path /input/genomic/plant/Vaccinium/corymbosum/20220104_M7/20220104_1231_1A_PAI49175_9725852c/fast5_pass \\\n",
    "#--save_path /workspace/hraijc/BB_M7_Assembly/GuppyV6_duplex \\\n",
    "#--device 'cuda:0' \\\n",
    "#--do_read_splitting \\\n",
    "#--duplex_chunks_per_runner 1200 \\\n",
    "#--skip_simplex \\\n",
    "#--call_non_duplex_reads\"\n"
   ]
  },
  {
   "cell_type": "code",
   "execution_count": 7,
   "id": "7b85a17f-8d01-4db6-b02d-324be8d23987",
   "metadata": {},
   "outputs": [
    {
     "name": "stdout",
     "output_type": "stream",
     "text": [
      "Job <716298> is submitted to default queue <lowpriority>.\n"
     ]
    }
   ],
   "source": [
    "#Third try. Was not able to skip simplex calling and read run1. Running again from scratch.\n",
    "#Calling non_duplex_reads with GuppyV6 'sup' accuracy\n",
    "bsub -n 9 -J guppyM7_3 -o $WKDIR/log/guppyM7_3.out -e $WKDIR/log/guppyM7_3.err -R 'select[defined(gpu)] rusage[mem=40000]' \"guppy_duplex \\\n",
    "--input_path /input/genomic/plant/Vaccinium/corymbosum/20220104_M7/20220104_1231_1A_PAI49175_9725852c/fast5_pass \\\n",
    "--save_path /workspace/hraijc/BB_M7_Assembly/GuppyV6_duplex_3 \\\n",
    "--device 'cuda:0' \\\n",
    "--do_read_splitting \\\n",
    "--duplex_chunks_per_runner 1200 \\\n",
    "--call_non_duplex_reads\"\n"
   ]
  },
  {
   "cell_type": "code",
   "execution_count": null,
   "id": "261cbe9a-9af1-4ef0-8074-e328ac47eaae",
   "metadata": {},
   "outputs": [],
   "source": []
  },
  {
   "cell_type": "code",
   "execution_count": null,
   "id": "c2e11019-bb9a-4b9a-949e-a31145e5434b",
   "metadata": {},
   "outputs": [],
   "source": []
  },
  {
   "cell_type": "markdown",
   "id": "aa3c2870-12f9-467d-9814-4ce0a4b68289",
   "metadata": {},
   "source": [
    "## Comparing quality of reads with Guppyv5 and Guppyv6 Duplex"
   ]
  },
  {
   "cell_type": "markdown",
   "id": "cccfbe03-fc1e-4495-8536-21c57c543d0d",
   "metadata": {},
   "source": [
    "### Using MinIONQC"
   ]
  },
  {
   "cell_type": "code",
   "execution_count": 5,
   "id": "f4a8fef0-f643-4464-b003-eee888bb633e",
   "metadata": {},
   "outputs": [
    {
     "name": "stdout",
     "output_type": "stream",
     "text": [
      "Loading \u001b[1mR/4.0.0\u001b[22m\n",
      "  \u001b[94mLoading requirement\u001b[0m: unixODBC/2.3.0 JAGS/4.2.0 gdal/2.4.0 proj/5.2.0\n"
     ]
    }
   ],
   "source": [
    "#ONT QC\n",
    "module load R/4.0.0\n",
    "#Rscript /workspace/hraijc/git_clones/MinIONQC.R -h\n"
   ]
  },
  {
   "cell_type": "code",
   "execution_count": 6,
   "id": "7a0ad20c-3027-4318-8396-1d7ac6f92523",
   "metadata": {},
   "outputs": [
    {
     "name": "stdout",
     "output_type": "stream",
     "text": [
      "mkdir: cannot create directory ‘/workspace/hraijc/BB_M7_Assembly/ONT_QC_GuppyV5’: File exists\n"
     ]
    }
   ],
   "source": [
    "mkdir /workspace/hraijc/BB_M7_Assembly/ONT_QC_GuppyV5\n",
    "mkdir /workspace/hraijc/BB_M7_Assembly/ONT_QC_GuppyV6_duplex\n",
    "mkdir /workspace/hraijc/BB_M7_Assembly/ONT_QC_GuppyV6_simplex\n",
    "mkdir /workspace/hraijc/BB_M7_Assembly/ONT_QC_GuppyV6_simplexduplex\n",
    "\n"
   ]
  },
  {
   "cell_type": "code",
   "execution_count": 7,
   "id": "d742fdd3-ed45-498a-ae29-7c209d255935",
   "metadata": {},
   "outputs": [
    {
     "name": "stdout",
     "output_type": "stream",
     "text": [
      "Job <725881> is submitted to default queue <lowpriority>.\n"
     ]
    }
   ],
   "source": [
    "#QC GuppyV5\n",
    "bsub -J minqc5  -o $WKDIR/log/minqc5.out -e $WKDIR/log/minqc5.err -n 1 \\\n",
    "\"Rscript /workspace/hraijc/git_clones/MinIONQC.R -i /input/genomic/plant/Vaccinium/corymbosum/20220104_M7/20220104_1231_1A_PAI49175_9725852c/sequencing_summary_PAI49175_7e6a4738.txt -o $WKDIR/ONT_QC_GuppyV5 -c TRUE\"\n",
    "\n"
   ]
  },
  {
   "cell_type": "code",
   "execution_count": 17,
   "id": "bedec09e-b435-4373-984d-e128ed3603ab",
   "metadata": {},
   "outputs": [
    {
     "name": "stdout",
     "output_type": "stream",
     "text": [
      "Job <725898> is submitted to default queue <lowpriority>.\n"
     ]
    }
   ],
   "source": [
    "#QC Guppy_duplex\n",
    "bsub -J minqct  -o $WKDIR/log/minqct.out -e $WKDIR/log/minqct.err -n 1 \\\n",
    "\"Rscript /workspace/hraijc/git_clones/MinIONQC.R -i /workspace/hraijc/BB_M7_Assembly/GuppyV6_duplex_3/final/duplex/sequencing_summary.txt -o /workspace/hraijc/BB_M7_Assembly/ONT_QC_GuppyV6_duplex -c TRUE\"\n"
   ]
  },
  {
   "cell_type": "code",
   "execution_count": 18,
   "id": "c51c912b-e38a-43e7-9d76-3ec5eef08b93",
   "metadata": {},
   "outputs": [
    {
     "name": "stdout",
     "output_type": "stream",
     "text": [
      "Job <725899> is submitted to default queue <lowpriority>.\n"
     ]
    }
   ],
   "source": [
    "#QC Guppy_simplex\n",
    "bsub -J minqct  -o $WKDIR/log/minqct.out -e $WKDIR/log/minqct.err -n 1 \\\n",
    "\"Rscript /workspace/hraijc/git_clones/MinIONQC.R -i /workspace/hraijc/BB_M7_Assembly/GuppyV6_duplex_3/final/simplex/sequencing_summary.txt -o /workspace/hraijc/BB_M7_Assembly/ONT_QC_GuppyV6_simplex -c TRUE\"\n",
    "\n"
   ]
  },
  {
   "cell_type": "code",
   "execution_count": 6,
   "id": "145717c6-e213-4d7d-8884-7fcf56ea8474",
   "metadata": {},
   "outputs": [
    {
     "name": "stdout",
     "output_type": "stream",
     "text": [
      "Job <718590> is submitted to default queue <lowpriority>.\n",
      "<<Waiting for dispatch ...>>\n",
      "<<Starting on aklppg31>>\n"
     ]
    }
   ],
   "source": [
    "bsub -I \"cat /workspace/hraijc/BB_M7_Assembly/GuppyV6_duplex_3/final/simplex/sequencing_summary.txt >> /workspace/hraijc/BB_M7_Assembly/GuppyV6_duplex_3/sim_dup_seq_sum.txt\""
   ]
  },
  {
   "cell_type": "code",
   "execution_count": 7,
   "id": "1bede118-d349-4ebc-9116-398df948f08c",
   "metadata": {},
   "outputs": [
    {
     "name": "stdout",
     "output_type": "stream",
     "text": [
      "Job <718591> is submitted to default queue <lowpriority>.\n",
      "<<Waiting for dispatch ...>>\n",
      "<<Starting on aklppg31>>\n"
     ]
    }
   ],
   "source": [
    "bsub -I \"tail -n 88542 /workspace/hraijc/BB_M7_Assembly/GuppyV6_duplex_3/final/duplex/sequencing_summary.txt >> /workspace/hraijc/BB_M7_Assembly/GuppyV6_duplex_3/sim_dup_seq_sum.txt\""
   ]
  },
  {
   "cell_type": "code",
   "execution_count": 9,
   "id": "6eb7e6bb-3f8b-46b8-8781-1cfb035e6784",
   "metadata": {},
   "outputs": [
    {
     "name": "stdout",
     "output_type": "stream",
     "text": [
      "Job <718593> is submitted to default queue <lowpriority>.\n",
      "<<Waiting for dispatch ...>>\n",
      "<<Starting on wkoppb41>>\n",
      "filename\tread_id\trun_id\tbatch_id\tchannel\tmux\tstart_time\tduration\tnum_events\tpasses_filtering\ttemplate_start\tnum_events_template\ttemplate_duration\tsequence_length_template\tmean_qscore_template\tstrand_score_template\tmedian_template\tmad_template\tscaling_median_template\tscaling_mad_template\n"
     ]
    }
   ],
   "source": [
    "bsub -I 'grep \"filename\" /workspace/hraijc/BB_M7_Assembly/GuppyV6_duplex_3/sim_dup_seq_sum.txt'"
   ]
  },
  {
   "cell_type": "code",
   "execution_count": 14,
   "id": "8486428a-e413-4902-b570-f8ea748039d6",
   "metadata": {},
   "outputs": [
    {
     "name": "stdout",
     "output_type": "stream",
     "text": [
      "mkdir: cannot create directory ‘/workspace/hraijc/BB_M7_Assembly/ONT_QC_GuppyV6_simplexduplex’: File exists\n"
     ]
    }
   ],
   "source": []
  },
  {
   "cell_type": "code",
   "execution_count": 16,
   "id": "59035031-5c19-4ec5-bd2b-dbef7a4004c9",
   "metadata": {},
   "outputs": [
    {
     "name": "stdout",
     "output_type": "stream",
     "text": [
      "Job <725897> is submitted to default queue <lowpriority>.\n"
     ]
    }
   ],
   "source": [
    "#QC Guppy_duplex+Guppy_Simplex\n",
    "bsub -J minqct  -o $WKDIR/log/minqct.out -e $WKDIR/log/minqct.err -n 1 \\\n",
    "\"Rscript /workspace/hraijc/git_clones/MinIONQC.R -i /workspace/hraijc/BB_M7_Assembly/GuppyV6_duplex_3/sim_dup_seq_sum.txt -o /workspace/hraijc/BB_M7_Assembly/ONT_QC_GuppyV6_simplexduplex -c TRUE\"\n"
   ]
  },
  {
   "cell_type": "markdown",
   "id": "1b41e930-ca68-4134-a08e-be4125c7b059",
   "metadata": {},
   "source": [
    "### Using PycoQC"
   ]
  },
  {
   "cell_type": "code",
   "execution_count": 21,
   "id": "f0636fac-8858-42de-82bc-85f47cec9164",
   "metadata": {},
   "outputs": [],
   "source": [
    "mkdir $WKDIR/PycoQC"
   ]
  },
  {
   "cell_type": "code",
   "execution_count": 3,
   "id": "f2059829-cef9-4cff-8639-3857569b4df5",
   "metadata": {},
   "outputs": [],
   "source": [
    "ml load pycoqc"
   ]
  },
  {
   "cell_type": "code",
   "execution_count": 13,
   "id": "73ceb800-c899-4c58-82af-c728cd77db4f",
   "metadata": {},
   "outputs": [
    {
     "name": "stdout",
     "output_type": "stream",
     "text": [
      "Job <725925> is submitted to default queue <lowpriority>.\n"
     ]
    }
   ],
   "source": [
    "bsub -J pycoQC -o $WKDIR/log/pycoQC.out -e $WKDIR/log/pycoQC.err -n 1 \\\n",
    "\"pycoQC -f /workspace/hraijc/BB_M7_Assembly/GuppyV6_duplex_3/final/duplex/sequencing_summary.txt /workspace/hraijc/BB_M7_Assembly/GuppyV6_duplex_3/final/simplex/sequencing_summary.txt \\\n",
    "    -o $WKDIR/PycoQC/BB_M7_ONTreport_GuppyV6Duplex.html \\\n",
    "    --report_title 'BB_M7_GuppyV6Duplex' \\\n",
    "    --min_pass_qual 10\" \n"
   ]
  },
  {
   "cell_type": "code",
   "execution_count": 14,
   "id": "0ab51cd6-c090-4e06-97ea-6ab8897cde5c",
   "metadata": {},
   "outputs": [
    {
     "name": "stdout",
     "output_type": "stream",
     "text": [
      "Job <725926> is submitted to default queue <lowpriority>.\n"
     ]
    }
   ],
   "source": [
    "bsub -J pycoQC3 -o $WKDIR/log/pycoQC3.out -e $WKDIR/log/pycoQC3.err -n 1 \\\n",
    "\"pycoQC -f /input/genomic/plant/Vaccinium/corymbosum/20220104_M7/20220104_1231_1A_PAI49175_9725852c/sequencing_summary_PAI49175_7e6a4738.txt -o $WKDIR/PycoQC/BB_M7_ONTreport_GuppyV5.html --report_title 'BB_M7_GuppyV5' --min_pass_qual 10\" \n"
   ]
  },
  {
   "cell_type": "code",
   "execution_count": 15,
   "id": "d82457be-cf12-4095-9254-add6b1c181e1",
   "metadata": {},
   "outputs": [
    {
     "name": "stdout",
     "output_type": "stream",
     "text": [
      "Job <725927> is submitted to default queue <lowpriority>.\n"
     ]
    }
   ],
   "source": [
    "bsub -J pycoQC2 -o $WKDIR/log/pycoQC2.out -e $WKDIR/log/pycoQC2.err -n 1 \\\n",
    "\"pycoQC -f /workspace/hraijc/BB_M7_Assembly/GuppyV6_duplex_3/final/duplex/sequencing_summary.txt -o $WKDIR/PycoQC/BB_M7_ONTreport_GuppyV6_DuplexONLY.html --report_title 'BB_M7_GuppyV6_DuplexONLY' --min_pass_qual 10\" \n"
   ]
  },
  {
   "cell_type": "code",
   "execution_count": null,
   "id": "845cfec0-d6eb-474e-9830-49b56781590c",
   "metadata": {},
   "outputs": [],
   "source": []
  },
  {
   "cell_type": "code",
   "execution_count": null,
   "id": "ee185ab7-932f-4dcf-87af-4d0a7d233bea",
   "metadata": {},
   "outputs": [],
   "source": []
  },
  {
   "cell_type": "code",
   "execution_count": null,
   "id": "b94b61d1-c267-4ec6-83a0-44702ce6789a",
   "metadata": {},
   "outputs": [],
   "source": []
  }
 ],
 "metadata": {
  "kernelspec": {
   "display_name": "Bash",
   "language": "bash",
   "name": "bash"
  },
  "language_info": {
   "codemirror_mode": "shell",
   "file_extension": ".sh",
   "mimetype": "text/x-sh",
   "name": "bash"
  }
 },
 "nbformat": 4,
 "nbformat_minor": 5
}
