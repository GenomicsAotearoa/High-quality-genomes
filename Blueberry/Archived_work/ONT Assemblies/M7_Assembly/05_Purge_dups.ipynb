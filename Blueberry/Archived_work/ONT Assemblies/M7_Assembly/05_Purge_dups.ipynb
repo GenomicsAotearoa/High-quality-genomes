{
 "cells": [
  {
   "cell_type": "markdown",
   "id": "4bffa152-e899-4f7e-befd-ec9a7db90d03",
   "metadata": {},
   "source": [
    "# purge haplotigs and overlaps in an assembly based on read depth\n",
    "\n"
   ]
  },
  {
   "cell_type": "code",
   "execution_count": 44,
   "id": "c6bd0d2e-2d25-4a88-87ff-678752dfa024",
   "metadata": {},
   "outputs": [],
   "source": [
    "#Define Variables\n",
    "WKDIR=/workspace/hraijc/BB_M7_Assembly\n",
    "OUTDIR=${WKDIR}/05_Purge_dups\n",
    "OUTPREFIX=M7_FlyeAll\n",
    "ASSEMBLY=${WKDIR}/03_FLYE/all/assembly.fasta\n",
    "ALLREADS=/workspace/hraijc/BB_M7_Assembly/02_M7_cleanReads/M7_all_clean.fastq\n",
    "PURGEDUPS_BIN_DIR=/workspace/hraijc/git_clones/purge_dups/bin"
   ]
  },
  {
   "cell_type": "code",
   "execution_count": 45,
   "id": "3bcb4c16-f372-4759-8358-b96eccc5f02e",
   "metadata": {},
   "outputs": [],
   "source": [
    "mkdir -p ${WKDIR}/log/\n",
    "cd ${OUTDIR}"
   ]
  },
  {
   "cell_type": "code",
   "execution_count": 8,
   "id": "afec5d47-2b0e-418f-9b09-6e26774f3341",
   "metadata": {},
   "outputs": [
    {
     "name": "stdout",
     "output_type": "stream",
     "text": [
      "usage: pd_config.py [-h] [-s SRF] [-l LOCD] [-B] [-n FN] [--version]\n",
      "                    ref pbfofn\n",
      "\n",
      "generate a configuration file in json format\n",
      "\n",
      "positional arguments:\n",
      "  ref                   reference file\n",
      "  pbfofn                list of pacbio file (one absolute file path per line)\n",
      "\n",
      "optional arguments:\n",
      "  -h, --help            show this help message and exit\n",
      "  -s SRF, --srfofn SRF  list of short reads files (one record per line, the\n",
      "                        record is a tab splitted line of abosulte file path\n",
      "                        plus trimmed bases, refer to\n",
      "                        https://github.com/dfguan/KMC) [NONE]\n",
      "  -l LOCD, --localdir LOCD\n",
      "                        local directory to keep the reference and lists of the\n",
      "                        pacbio, short reads files [.]\n",
      "  -B, --skipB           skip running busco [False]\n",
      "  -n FN, --name FN      output config file name [config.json]\n",
      "  --version             show program's version number and exit\n"
     ]
    }
   ],
   "source": [
    "module load pfr-python3\n",
    "\n",
    "python /workspace/hraijc/git_clones/purge_dups/scripts/pd_config.py --help"
   ]
  },
  {
   "cell_type": "code",
   "execution_count": 16,
   "id": "25b08882-1a73-4b50-882c-7b186af85670",
   "metadata": {},
   "outputs": [],
   "source": [
    "# make pbofn file\n",
    "printf \"/workspace/hraijc/BB_M7_Assembly/02_M7_cleanReads/M7_all_clean.fastq\" > ${OUTDIR}/ONT_files.txt"
   ]
  },
  {
   "cell_type": "code",
   "execution_count": 36,
   "id": "3baaeaa7-5d1e-45c9-91fa-9d521e433a3d",
   "metadata": {},
   "outputs": [],
   "source": [
    "module load pfr-python3\n",
    "python /workspace/hraijc/git_clones/purge_dups/scripts/pd_config.py -n config.${OUTPREFIX}.json ${ASSEMBLY} ${OUTDIR}/ONT_files.txt"
   ]
  },
  {
   "cell_type": "code",
   "execution_count": null,
   "id": "91f90a9c-db39-4d71-934c-b6f29c7584bf",
   "metadata": {},
   "outputs": [],
   "source": []
  },
  {
   "cell_type": "code",
   "execution_count": null,
   "id": "afd99469-d1dd-46cc-b44a-874bfd391ed2",
   "metadata": {},
   "outputs": [],
   "source": [
    "\n"
   ]
  },
  {
   "cell_type": "code",
   "execution_count": null,
   "id": "02b76912-03ad-4943-87e2-abfef96c8e6d",
   "metadata": {},
   "outputs": [],
   "source": []
  },
  {
   "cell_type": "code",
   "execution_count": 38,
   "id": "39fa2fc6-59eb-4b3e-a176-b8015237b4ec",
   "metadata": {},
   "outputs": [
    {
     "name": "stdout",
     "output_type": "stream",
     "text": [
      "Submitted batch job 333063\n"
     ]
    }
   ],
   "source": [
    "\n",
    "sbatch << EOF\n",
    "#!/bin/bash\n",
    "#SBATCH -J PurgeDups\n",
    "#SBATCH -o ${WKDIR}/log/%J.out\n",
    "#SBATCH -e ${WKDIR}/log/%J.err\n",
    "#SBATCH --cpus-per-task=24\n",
    "#SBATCH --mem=20G\n",
    "#SBATCH --time=31:00:00\n",
    "\n",
    "module load pfr-python3\n",
    "module load zlib\n",
    "module load minimap2\n",
    "module load BUSCO\n",
    "\n",
    "\n",
    "python /workspace/hraijc/git_clones/purge_dups/scripts/run_purge_dups.py config.M7_FlyeAll.json ${PURGEDUPS_BIN_DIR} M7_FlyeAll -p bash\n",
    "\n",
    "EOF"
   ]
  },
  {
   "cell_type": "code",
   "execution_count": 48,
   "id": "3e5937d3-d2df-4ddc-8bd9-5626c38290a7",
   "metadata": {},
   "outputs": [
    {
     "name": "stdout",
     "output_type": "stream",
     "text": [
      "850M\t/workspace/hraijc/BB_M7_Assembly/05_Purge_dups/M7_FlyeAll/seqs/M7_FlyeAll.purged.fa\n"
     ]
    }
   ],
   "source": [
    "# Peek output\n",
    "du -sh ${OUTDIR}/M7_FlyeAll/seqs/M7_FlyeAll.purged.fa\n"
   ]
  },
  {
   "cell_type": "code",
   "execution_count": 49,
   "id": "fcc9c94d-cf26-473e-99dc-729fca7af56f",
   "metadata": {},
   "outputs": [
    {
     "name": "stdout",
     "output_type": "stream",
     "text": [
      "Submitted batch job 333195\n"
     ]
    }
   ],
   "source": [
    "# QC results\n",
    "\n",
    "sbatch << EOF\n",
    "#!/bin/bash\n",
    "#SBATCH -J hic_hap_mapyahs\n",
    "#SBATCH -o ${OUTDIR}/M7_FlyeAll.purged_stats.txt\n",
    "#SBATCH -e ${WKDIR}/log/%J.err\n",
    "#SBATCH --cpus-per-task=1\n",
    "#SBATCH --mem=1G\n",
    "#SBATCH --time=0:10:00\n",
    "\n",
    "module load BBMap/38.33\n",
    "\n",
    "statswrapper.sh in=${OUTDIR}/M7_FlyeAll/seqs/M7_FlyeAll.purged.fa format=3\n",
    "EOF"
   ]
  },
  {
   "cell_type": "code",
   "execution_count": null,
   "id": "15fd9d61-ab71-4ae9-872b-1126fd320eef",
   "metadata": {},
   "outputs": [],
   "source": [
    "module load BUSCO/v5.2.2\n",
    "bsub -J busco_M7_Q20_Flye_RE3 -o ${WKDIR}/log/busco_M7_Q20_Flye_RE3.log -e ${WKDIR}/log/busco_M7_Q20_Flye_RE3.err -n 25 \\\n",
    "\"busco -i /workspace/hraijc/BB_M7_Assembly/03_FLYE/all_q20_re3/assembly.fasta -l eudicots -o Flye04_busco -m geno -c 24 --datasets_version odb10\"\n",
    "module unload BUSCO"
   ]
  },
  {
   "cell_type": "code",
   "execution_count": 50,
   "id": "f273cbb4-11b2-4fa4-acce-5d99e9e1788b",
   "metadata": {},
   "outputs": [
    {
     "name": "stdout",
     "output_type": "stream",
     "text": [
      "Submitted batch job 333201\n"
     ]
    }
   ],
   "source": [
    "# Using the yahs script:\n",
    "# Contact map after yahs\n",
    "\n",
    "sbatch << EOF\n",
    "#!/bin/bash\n",
    "#SBATCH -J Busco\n",
    "#SBATCH -o ${OUTDIR}/M7_FlyeAll.purged_stats.txt\n",
    "#SBATCH -e ${WKDIR}/log/%J.err\n",
    "#SBATCH --cpus-per-task=24\n",
    "#SBATCH --mem=1G\n",
    "#SBATCH --time=2:10:00\n",
    "\n",
    "module load BUSCO/v5.2.2\n",
    "\n",
    "busco -i ${OUTDIR}/M7_FlyeAll/seqs/M7_FlyeAll.purged.fa -l eudicots -o M7_FlyeAll.purged_busco -m geno -c 24 --datasets_version odb10\n",
    "\n",
    "EOF"
   ]
  },
  {
   "cell_type": "code",
   "execution_count": null,
   "id": "7080fdea-53c1-4c25-bf0c-89dbf3fc424b",
   "metadata": {},
   "outputs": [],
   "source": []
  }
 ],
 "metadata": {
  "kernelspec": {
   "display_name": "Bash",
   "language": "bash",
   "name": "bash"
  },
  "language_info": {
   "codemirror_mode": "shell",
   "file_extension": ".sh",
   "mimetype": "text/x-sh",
   "name": "bash"
  }
 },
 "nbformat": 4,
 "nbformat_minor": 5
}
