{
 "cells": [
  {
   "cell_type": "code",
   "execution_count": null,
   "id": "4b3175a0-1515-447d-8612-fd7416c2db3f",
   "metadata": {},
   "outputs": [],
   "source": []
  },
  {
   "cell_type": "code",
   "execution_count": 2,
   "id": "b27f0585-8ba0-4642-9fcb-cc8234af7868",
   "metadata": {},
   "outputs": [],
   "source": [
    "WKDIR=/workspace/hraijc/BB_M7xNui_Assembly/03_FLYE\n",
    "READDIR=/workspace/hraijc/BB_M7xNui_Assembly/02_cleanReads\n",
    "DUPLEXREADS=${READDIR}/M7xNui_duplex_clean.fastq\n",
    "SIMPLEXREADS=${READDIR}/M7xNui_simplex_clean.fastq\n",
    "ALLREADS=${READDIR}/M7xNui_all_clean.fastq\n",
    "READS5k=${READDIR}/M7xNui_min5k_clean.fastq"
   ]
  },
  {
   "cell_type": "code",
   "execution_count": 3,
   "id": "093ade92-0f48-42d1-8ea4-19ddad2c09a8",
   "metadata": {},
   "outputs": [],
   "source": [
    "mkdir -p $WKDIR/log"
   ]
  },
  {
   "cell_type": "code",
   "execution_count": 4,
   "id": "68142ba7-8f68-4d25-b8ae-37267bd2d5d6",
   "metadata": {},
   "outputs": [],
   "source": [
    "cd $WKDIR"
   ]
  },
  {
   "cell_type": "code",
   "execution_count": 3,
   "id": "5addf7cd-23c9-43f1-8588-2b53643cc1c2",
   "metadata": {},
   "outputs": [
    {
     "name": "stdout",
     "output_type": "stream",
     "text": [
      "(/workspace/appscratch/miniconda/hraijc_flye) "
     ]
    },
    {
     "ename": "",
     "evalue": "1",
     "output_type": "error",
     "traceback": []
    }
   ],
   "source": [
    "module load conda\n",
    "conda activate hraijc_flye\n"
   ]
  },
  {
   "cell_type": "code",
   "execution_count": 4,
   "id": "31e15cf7-ea20-41f3-a03f-11453a11656f",
   "metadata": {},
   "outputs": [
    {
     "name": "stdout",
     "output_type": "stream",
     "text": [
      "2.9-b1774\n",
      "(/workspace/appscratch/miniconda/hraijc_flye) "
     ]
    },
    {
     "ename": "",
     "evalue": "1",
     "output_type": "error",
     "traceback": []
    }
   ],
   "source": [
    "python /workspace/hraijc/git_clones/Flye/bin/flye -v"
   ]
  },
  {
   "cell_type": "code",
   "execution_count": null,
   "id": "311a1868-6ddd-459e-a9d0-49dd44d19ffc",
   "metadata": {},
   "outputs": [],
   "source": [
    "##FLYE MANUAL:\n",
    "#For the most recent ONT data basecalled with Guppy5+ SUP use the new --nano-hq mode. Expected error rate is <5%.\n",
    "#For Q20 data, use a combination of --nano-hq and --read-error 0.03."
   ]
  },
  {
   "cell_type": "code",
   "execution_count": null,
   "id": "9972c829-f283-4d77-913e-ab469d46d54d",
   "metadata": {},
   "outputs": [],
   "source": [
    "#Assemble Duplex reads denovo\n",
    "#Use Flag --nano-hq AND --read-error 0.03\n",
    "#bsub -J Flye_duplex  -o $WKDIR/log/Flye_duplex.out -e $WKDIR/log/Flye_duplex.err -n 17 \\\n",
    "#\"python /workspace/hraijc/git_clones/Flye/bin/flye --nano-hq ${DUPLEXREADS} --out-dir ${WKDIR}/duplex --read-error 0.03 --genome-size 600m --threads 16 --iterations 2\""
   ]
  },
  {
   "cell_type": "code",
   "execution_count": null,
   "id": "bb616ebd-251a-478a-a34f-cbc1b5a206d5",
   "metadata": {},
   "outputs": [],
   "source": [
    "#Assemble All reads denovo\n",
    "#Use Flag --nano-hq \n",
    "bsub -J Flye_2k -o $WKDIR/log/Flye_2k.out -e $WKDIR/log/Flye_2k.err -n 17 -R rusage[mem=100000] \\\n",
    "\"python /workspace/hraijc/git_clones/Flye/bin/flye --nano-hq ${ALLREADS} --out-dir ${WKDIR}/M7xNui_min2k_Flye --genome-size 600m --threads 16 --iterations 2\""
   ]
  },
  {
   "cell_type": "code",
   "execution_count": 5,
   "id": "ad0e0850-6c8e-41ed-a8c3-ab9cb29ceecd",
   "metadata": {},
   "outputs": [
    {
     "name": "stdout",
     "output_type": "stream",
     "text": [
      "(/workspace/appscratch/miniconda/hraijc_flye) (/workspace/appscratch/miniconda/hraijc_flye) Job <816740> is submitted to default queue <lowpriority>.\n",
      "(/workspace/appscratch/miniconda/hraijc_flye) "
     ]
    },
    {
     "ename": "",
     "evalue": "1",
     "output_type": "error",
     "traceback": []
    }
   ],
   "source": [
    "#Assemble Min5kb reads denovo\n",
    "#Use Flag --nano-hq \n",
    "bsub -J Flye_5k -o $WKDIR/log/Flye_5k.out -e $WKDIR/log/Flye_5k.err -n 17 -R rusage[mem=100000] \\\n",
    "\"python /workspace/hraijc/git_clones/Flye/bin/flye --nano-hq ${READS5k} --out-dir ${WKDIR}/M7xNui_min5k_Flye --genome-size 600m --threads 16 --iterations 2\""
   ]
  },
  {
   "cell_type": "code",
   "execution_count": 5,
   "id": "23d32c88-9cb3-4f24-931f-fc0e44dcd89d",
   "metadata": {},
   "outputs": [
    {
     "name": "stdout",
     "output_type": "stream",
     "text": [
      "Submitted batch job 330732\n"
     ]
    }
   ],
   "source": [
    "#Assemble Min2kb reads denovo \n",
    "#Use Flag --nano-raw\n",
    "# Doing 4 iterations # Prob too many two should be fine.\n",
    "# removing genome-size option.\n",
    "\n",
    "sbatch << EOF\n",
    "#!/bin/bash\n",
    "#SBATCH -J Flye-bb\n",
    "#SBATCH -o ${WKDIR}/log/%J.out\n",
    "#SBATCH -e ${WKDIR}/log/%J.err\n",
    "#SBATCH --cpus-per-task=24\n",
    "#SBATCH --mem=15G\n",
    "#SBATCH --time=33:00:00\n",
    "\n",
    "module load conda\n",
    "conda activate hraijc_flye\n",
    "\n",
    "python /workspace/hraijc/git_clones/Flye/bin/flye --nano-raw ${ALLREADS} --out-dir ${WKDIR}/M7xNui_min2k_Flyeraw --threads 24 --iterations 4\n",
    "EOF\n"
   ]
  },
  {
   "cell_type": "markdown",
   "id": "1f481b03-d5f9-4a2e-beca-e415361c0de2",
   "metadata": {},
   "source": [
    "### QC Assemblies"
   ]
  },
  {
   "cell_type": "code",
   "execution_count": 10,
   "id": "8ebb966c-52b0-4d9d-b061-14b0ab778595",
   "metadata": {},
   "outputs": [
    {
     "name": "stdout",
     "output_type": "stream",
     "text": [
      "Submitted batch job 333008\n"
     ]
    }
   ],
   "source": [
    "# QC the three assemblies.\n",
    "\n",
    "sbatch << EOF\n",
    "#!/bin/bash\n",
    "#SBATCH -J Flye-bb\n",
    "#SBATCH -o ${WKDIR}/Assemb_stat3.out\n",
    "#SBATCH -e ${WKDIR}/log/%J.err\n",
    "#SBATCH --cpus-per-task=1\n",
    "#SBATCH --mem=1G\n",
    "#SBATCH --time=1:00:00\n",
    "\n",
    "module load BBMap/38.33\n",
    "\n",
    "statswrapper.sh in=${WKDIR}/M7xNui_min2k_Flye/assembly.fasta,${WKDIR}/M7xNui_min5k_Flye/assembly.fasta,${WKDIR}/M7xNui_min2k_Flyeraw/40-polishing/polished_3.fasta format=3\n",
    "EOF"
   ]
  },
  {
   "cell_type": "code",
   "execution_count": null,
   "id": "c14503c5-4609-419c-a23b-62fb200309dd",
   "metadata": {},
   "outputs": [],
   "source": []
  },
  {
   "cell_type": "code",
   "execution_count": 3,
   "id": "9907c81e-52a9-4d93-80d5-4f1b5b6bcd46",
   "metadata": {},
   "outputs": [
    {
     "name": "stdout",
     "output_type": "stream",
     "text": [
      "Job <820518> is submitted to default queue <lowpriority>.\n"
     ]
    }
   ],
   "source": [
    "module load BBMap/38.33\n",
    "bsub -J Flye_QC -o ${WKDIR}/log/Flye_QC.log -e ${WKDIR}/log/Flye_QC.err \\\n",
    "\"statswrapper.sh in=${WKDIR}/M7xNui_min2k_Flye/assembly.fasta,${WKDIR}/M7xNui_min5k_Flye/assembly.fasta format=3\"\n",
    "module unload BBMap/38.33"
   ]
  },
  {
   "cell_type": "code",
   "execution_count": null,
   "id": "47ecb504-d63c-4c02-b541-45fe2b789bce",
   "metadata": {},
   "outputs": [],
   "source": []
  },
  {
   "cell_type": "code",
   "execution_count": 4,
   "id": "a1c515f8-f324-47ea-b770-5ec96e86f132",
   "metadata": {},
   "outputs": [
    {
     "name": "stdout",
     "output_type": "stream",
     "text": [
      "Loading \u001b[1mBUSCO/v5.2.2\u001b[22m\n",
      "  \u001b[94mLoading requirement\u001b[0m: singularity/3\n",
      "Job <822012> is submitted to default queue <lowpriority>.\n"
     ]
    }
   ],
   "source": [
    "module load BUSCO/v5.2.2\n",
    "bsub -J M7xNui_min2k_Busco -o ${WKDIR}/log/M7xNui_min2k_Busco.log -e ${WKDIR}/log/M7xNui_min2k_Busco.err -n 25 \\\n",
    "\"busco -i ${WKDIR}/M7xNui_min2k_Flye/assembly.fasta -l eudicots -o M7xNui_min2k_Busco -m geno -c 24 --datasets_version odb10\"\n",
    "module unload BUSCO"
   ]
  },
  {
   "cell_type": "code",
   "execution_count": null,
   "id": "9c5da43e-da53-474d-8d2f-b23064c91fe2",
   "metadata": {},
   "outputs": [],
   "source": []
  },
  {
   "cell_type": "code",
   "execution_count": null,
   "id": "e8bc33ae-1035-4674-b8d3-287de880bb59",
   "metadata": {},
   "outputs": [],
   "source": [
    "######OLD#####\n",
    "\n",
    "\n",
    "\n",
    "\n",
    "\n"
   ]
  },
  {
   "cell_type": "code",
   "execution_count": null,
   "id": "5fc92a64-9a01-403a-a8e4-c800dce38c00",
   "metadata": {},
   "outputs": [],
   "source": [
    "#Assemble All reads with >=Q15 denovo\n",
    "#Use Flag --nano-hq \n",
    "bsub -J Flye_all_q15 -o $WKDIR/log/Flye_all_q15.out -e $WKDIR/log/Flye_all_q15.err -n 17 \\\n",
    "\"python /workspace/hraijc/git_clones/Flye/bin/flye --nano-hq ${ALLQ15READS} --out-dir ${WKDIR}/all_q15 --genome-size 600m --threads 16 --iterations 2\""
   ]
  },
  {
   "cell_type": "code",
   "execution_count": null,
   "id": "52d035c3-e603-485e-96df-e780cc834af2",
   "metadata": {},
   "outputs": [],
   "source": [
    "#Assemble All reads with >=Q20 denovo USING read error flag!\n",
    "#Use Flag --nano-hq AND --read-error 0.03\n",
    "bsub -J FLYE_all_q20_re3  -o $WKDIR/log/FLYE_all_q20_re3.out -e $WKDIR/log/FLYE_all_q20_re3.err -n 17 \\\n",
    "\"python /workspace/hraijc/git_clones/Flye/bin/flye --nano-hq ${ALLQ20READS} --out-dir ${WKDIR}/all_q20_re3 --read-error 0.03 --genome-size 600m --threads 16 --iterations 2\""
   ]
  }
 ],
 "metadata": {
  "kernelspec": {
   "display_name": "Bash",
   "language": "bash",
   "name": "bash"
  },
  "language_info": {
   "codemirror_mode": "shell",
   "file_extension": ".sh",
   "mimetype": "text/x-sh",
   "name": "bash"
  }
 },
 "nbformat": 4,
 "nbformat_minor": 5
}
