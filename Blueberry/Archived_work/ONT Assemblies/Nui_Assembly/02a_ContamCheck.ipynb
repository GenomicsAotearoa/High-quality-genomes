{
 "cells": [
  {
   "cell_type": "markdown",
   "id": "b70c37b9-a756-44a9-9eff-1fdb285ac4dc",
   "metadata": {},
   "source": [
    "## Data sources\n",
    "\n",
    "- HiC Data for Nui is here:\n",
    "    - /input/genomic/plant/Vaccinium/corymbosum/AGRF_CAGRF21434_HJWHFDRXX\n",
    "\n",
    "\n",
    "- 10X data for Nui and M7 here:\n",
    "    - /input/genomic/plant/Vaccinium/corymbosum/AGRF_CAGRF18813_H7JY3DRXX\n",
    "\n",
    "\n",
    "- ONT PromethION Nui (BB2020 and BB2020-2 are the same sample) here:\n",
    "    - /input/genomic/plant/Vaccinium/corymbosum/Blueberry_PromethION_Apr2020\n",
    "\n",
    "\n",
    "- ONT MinION Nui (BB2020) here:\n",
    "    - /input/genomic/plant/Vaccinium/corymbosum/CAGRF21436/20200224_MinION/AGRF_CAGRFF21436_FAL87845_BB2020/\n",
    "\n",
    "\n",
    "- 10X Supernova Assembly for 10X data here:\n",
    "    - /output/genomic/plant/Vaccinium/corymbosum/2021_GenomeAssembly/Nui/01_Supernova\n",
    "\n",
    "### Plan \n",
    "- base-calling for ONT samples using Guppy v5.\n",
    "- Filter out MinION reads <1kb. Or higher...\n",
    "- Cecilia has done the Supernova assembly for the 10X data.\n",
    "- Use Flye to assemble ONT fastq\n",
    "- Use quickmerge to merge the Supernova contigs + ONT contigs\n",
    "- Use Salsa to improve assembly\n",
    "- Tetraploid Haplotyping and gene annotation etc. \n",
    "\n",
    "\n"
   ]
  },
  {
   "cell_type": "code",
   "execution_count": 7,
   "id": "5194a717-f63d-4d5e-bba4-a1511a837024",
   "metadata": {},
   "outputs": [],
   "source": [
    "WKDIR=/workspace/hraijc/BB_Nui_Assembly/blob\n",
    "AL=/workspace/hraijc/BB_Nui_Assembly/Hybrid_assembly/Assembly_comparison/Nui_quickmerge2.fasta\n",
    "ML=/workspace/hraijc/BB_Nui_Assembly/Hi-C_mapping/qm2_HiC_dedup.bam"
   ]
  },
  {
   "cell_type": "code",
   "execution_count": 8,
   "id": "140a879c-e701-4f76-a51b-fc653115d8c1",
   "metadata": {},
   "outputs": [
    {
     "name": "stdout",
     "output_type": "stream",
     "text": [
      "mkdir: cannot create directory ‘/workspace/hraijc/BB_Nui_Assembly/blob’: File exists\n",
      "mkdir: cannot create directory ‘/workspace/hraijc/BB_Nui_Assembly/blob/log’: File exists\n"
     ]
    },
    {
     "ename": "",
     "evalue": "1",
     "output_type": "error",
     "traceback": []
    }
   ],
   "source": [
    "mkdir ${WKDIR}\n",
    "mkdir ${WKDIR}/log"
   ]
  },
  {
   "cell_type": "code",
   "execution_count": 9,
   "id": "3e94fc03-537a-4471-ac80-c6aead939b61",
   "metadata": {},
   "outputs": [],
   "source": [
    "cd ${WKDIR}"
   ]
  },
  {
   "cell_type": "code",
   "execution_count": null,
   "id": "eec9470d-3209-4da8-9a1f-61d9e7d8e3ce",
   "metadata": {},
   "outputs": [],
   "source": []
  },
  {
   "cell_type": "code",
   "execution_count": 3,
   "id": "85a9ca30-3097-4f39-b3d9-fb8d64fa6839",
   "metadata": {},
   "outputs": [
    {
     "name": "stdout",
     "output_type": "stream",
     "text": [
      "Loading \u001b[1mdiamond/0.9.24\u001b[22m\n",
      "  \u001b[94mLoading requirement\u001b[0m: singularity/3\n"
     ]
    }
   ],
   "source": [
    "module load diamond"
   ]
  },
  {
   "cell_type": "code",
   "execution_count": 4,
   "id": "3e7a1741-3555-4bd0-901e-fd71c1e89ddc",
   "metadata": {},
   "outputs": [
    {
     "name": "stdout",
     "output_type": "stream",
     "text": [
      "Job <636121> is submitted to default queue <lowpriority>.\n"
     ]
    }
   ],
   "source": [
    "bsub -J diamond2 -o $WKDIR/log/diamond2.out -e $WKDIR/log/diamond2.err -n 17 \\\n",
    "\"diamond blastx \\\n",
    "--query ${AL} \\\n",
    "--max-target-seqs 1 \\\n",
    "--sensitive \\\n",
    "--threads 16 \\\n",
    "--db /workspace/hraijc/packages/diamond/uniprot_sprot.dmnd \\\n",
    "--evalue 1e-25 \\\n",
    "--outfmt 6 \\\n",
    "--out assembly.vs.uniprot_ref.mts1.1e25.out\""
   ]
  },
  {
   "cell_type": "code",
   "execution_count": 17,
   "id": "7d7062ed-e54c-4e3b-baa8-f121ad25fbd8",
   "metadata": {},
   "outputs": [],
   "source": [
    "cat assembly.vs.uniprot_ref.mts1.1e25.out | cut -f2 | cut -f2 -d \"|\" | sort| uniq > uniprot_ids.txt\n",
    "#Then go to here to convert the UniProt IDs to NCBI TaxaIds:\n",
    "# https://biodbnet.abcc.ncifcrf.gov/db/db2db.php\n",
    "# save as tab deliniated UniProt01.txt"
   ]
  },
  {
   "cell_type": "code",
   "execution_count": 10,
   "id": "2d418676-684f-4e40-82f9-c36d46aa6ef9",
   "metadata": {},
   "outputs": [
    {
     "name": "stdout",
     "output_type": "stream",
     "text": [
      "Loading \u001b[1mblobtools/1.0\u001b[22m\n",
      "  \u001b[94mLoading requirement\u001b[0m: pfr-python2/2.7.13\n"
     ]
    }
   ],
   "source": [
    "module load blobtools"
   ]
  },
  {
   "cell_type": "code",
   "execution_count": 14,
   "id": "af2370c8-7337-4689-91b2-7d96f19825fb",
   "metadata": {},
   "outputs": [
    {
     "name": "stdout",
     "output_type": "stream",
     "text": [
      "usage: blobtools taxify          -f FILE [-a INT] [-b INT] [-c INT]\n",
      "                                    [-m FILE] [-s INT] [-t INT]\n",
      "                                    [-i FILE] [-x INT] [-v FLOAT]\n",
      "                                    [-o PREFIX] [-h|--help]\n",
      "\n",
      "    Options:\n",
      "        -h --help                           show this\n",
      "\n",
      "    Options for similarity search input\n",
      "        -f, --hit_file <FILE>               BLAST/Diamond similarity search result (TSV format).\n",
      "                                                Defaults assume \"-outfmt '6 qseqid sseqid pident length mismatch gapopen qstart qend sstart send evalue bitscore'\"\n",
      "        -a, --hit_column_qseqid <INT>       Zero-based column of qseqid in similarity search result [default: 0]\n",
      "                                                Change if different format than (-outfmt '6')\n",
      "        -b, --hit_column_sseqid <INT>       Zero-based column of sseqid in similarity search result [default: 1]\n",
      "                                                Change if different format than (-outfmt '6')\n",
      "        -c, --hit_column_score <INT>        Zero-based column of (bit)score in similarity search result [default: 11]\n",
      "                                                Change if different format than (-outfmt '6')\n",
      "    Options for TaxID mapping file\n",
      "        -m, --taxid_mapping_file <FILE>     TaxID mapping file (contains seqid and taxid)\n",
      "        -s, --map_col_sseqid <INT>          Zero-based column of sseqid in TaxID mapping file (it will search for sseqid in this column)\n",
      "        -t, --map_col_taxid <INT>           Zero-based Column of taxid in TaxID mapping file (it will extract for taxid from this column)\n",
      "\n",
      "    Options for custom input\n",
      "        -i, --custom <FILE>                 File containing list of sequence IDs\n",
      "        -x, --custom_taxid <INT>            TaxID to assign to all sequence IDs in list\n",
      "        -v, --custom_score <FLOAT>          Score to assign to all sequence IDs in list\n",
      "\n",
      "    General\n",
      "        -o, --out <PREFIX>                  Output prefix\n"
     ]
    }
   ],
   "source": [
    "blobtools taxify -h"
   ]
  },
  {
   "cell_type": "code",
   "execution_count": 17,
   "id": "46c12a86-dca4-4aae-aff2-00e1ecce11ab",
   "metadata": {},
   "outputs": [
    {
     "name": "stdout",
     "output_type": "stream",
     "text": [
      "Job <637660> is submitted to default queue <lowpriority>.\n"
     ]
    }
   ],
   "source": [
    "# taxify results\n",
    "bsub -J blobtools -o $WKDIR/log/blobtools.out -e $WKDIR/log/blobtools.err -n 2 \\\n",
    "\"blobtools taxify -f assembly.vs.uniprot_ref.mts1.1e25.out -m UniProt01.txt -s 0 -t 1\""
   ]
  },
  {
   "cell_type": "code",
   "execution_count": 18,
   "id": "ca36bd91-bf73-419e-90e1-51a8330efade",
   "metadata": {},
   "outputs": [
    {
     "name": "stdout",
     "output_type": "stream",
     "text": [
      "Job <637661> is submitted to default queue <lowpriority>.\n"
     ]
    }
   ],
   "source": [
    "bsub -J blobtools2 -o $WKDIR/log/blobtools2.out -e $WKDIR/log/blobtools2.err -n 2 \\\n",
    "\"blobtools create \\\n",
    " -i $AL \\\n",
    " -b $ML \\\n",
    " -t assembly.vs.uniprot_ref.mts1.1e25.taxified.out \\\n",
    " -o my_first_blobplot\""
   ]
  },
  {
   "cell_type": "code",
   "execution_count": 4,
   "id": "acbeb1e9-8eda-4440-b7a3-21e79c143cd3",
   "metadata": {
    "collapsed": true,
    "jupyter": {
     "outputs_hidden": true
    },
    "tags": []
   },
   "outputs": [
    {
     "name": "stdout",
     "output_type": "stream",
     "text": [
      "Job <636352> is submitted to default queue <lowpriority>.\n"
     ]
    }
   ],
   "source": [
    "#View results\n",
    "bsub -J blobtools3 -o $WKDIR/log/blobtools3.out -e $WKDIR/log/blobtools3.err -n 2 \\\n",
    "\"blobtools view -i my_first_blobplot.blobDB.json\""
   ]
  },
  {
   "cell_type": "code",
   "execution_count": 19,
   "id": "941cb6f4-9440-41a9-ab37-1f002dd18d5d",
   "metadata": {},
   "outputs": [
    {
     "name": "stdout",
     "output_type": "stream",
     "text": [
      "Job <637665> is submitted to default queue <lowpriority>.\n"
     ]
    }
   ],
   "source": [
    "bsub -J blobtools4 -o $WKDIR/log/blobtools4.out -e $WKDIR/log/blobtools4.err -n 2 \\\n",
    "\"blobtools plot -i my_first_blobplot.blobDB.json\""
   ]
  },
  {
   "cell_type": "code",
   "execution_count": null,
   "id": "76bae6d9-588e-4887-a912-dc5f6f3b0bbc",
   "metadata": {},
   "outputs": [],
   "source": []
  }
 ],
 "metadata": {
  "kernelspec": {
   "display_name": "Bash",
   "language": "bash",
   "name": "bash"
  },
  "language_info": {
   "codemirror_mode": "shell",
   "file_extension": ".sh",
   "mimetype": "text/x-sh",
   "name": "bash"
  }
 },
 "nbformat": 4,
 "nbformat_minor": 5
}
