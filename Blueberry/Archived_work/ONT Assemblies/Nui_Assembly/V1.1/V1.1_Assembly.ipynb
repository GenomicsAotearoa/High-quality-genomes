{
 "cells": [
  {
   "cell_type": "markdown",
   "id": "6b9383f5-e9b9-4b89-be7c-e6554286737a",
   "metadata": {},
   "source": [
    "# Nui ONT + HiC Assembly V1.1\n",
    "*Vaccinium corymbosum nui*\n",
    "\n",
    "## Data sources\n",
    "\n",
    "- HiC Data for Nui is here:\n",
    "    - /input/genomic/plant/Vaccinium/corymbosum/AGRF_CAGRF21434_HJWHFDRXX\n",
    "\n",
    "\n",
    "- 10X data for Nui and M7 here:\n",
    "    - /input/genomic/plant/Vaccinium/corymbosum/AGRF_CAGRF18813_H7JY3DRXX\n",
    "\n",
    "\n",
    "- ONT PromethION Nui (BB2020 and BB2020-2 are the same sample) here:\n",
    "    - /input/genomic/plant/Vaccinium/corymbosum/Blueberry_PromethION_Apr2020\n",
    "\n",
    "\n",
    "- ONT MinION Nui (BB2020) here:\n",
    "    - /input/genomic/plant/Vaccinium/corymbosum/CAGRF21436/20200224_MinION/AGRF_CAGRFF21436_FAL87845_BB2020/\n",
    "\n",
    "\n",
    "- 10X Supernova Assembly for 10X data here:\n",
    "    - /output/genomic/plant/Vaccinium/corymbosum/2021_GenomeAssembly/Nui/01_Supernova\n",
    "\n",
    "## Basecalling using Guppy V6.3.4"
   ]
  },
  {
   "cell_type": "code",
   "execution_count": 67,
   "id": "dc7a98cd-429b-4c7a-8b73-4ab42967af32",
   "metadata": {},
   "outputs": [],
   "source": [
    "WKDIR=/workspace/hraijc/Blueberry/BB_Nui_Assembly/Nui_V1.1\n",
    "TEMP=${WKDIR}/temp\n",
    "LOGDIR=${WKDIR}/log\n",
    "ONTINDIR2=/input/genomic/plant/Vaccinium/corymbosum/Blueberry_PromethION_Apr2020/AGRF_CAGRF21436-2_PAE71986_BB2020-2/fast5_pass\n",
    "ONTINDIR1=/input/genomic/plant/Vaccinium/corymbosum/Blueberry_PromethION_Apr2020/AGRF_CAGRF21436-2_PAE71986_BB2020/fast5_pass\n",
    "FAST5DIR=${WKDIR}/fast5\n",
    "FASTQDIR=${WKDIR}/fastq\n",
    "FAST5DIR_UNZIP=${WKDIR}/fast5_unzip"
   ]
  },
  {
   "cell_type": "code",
   "execution_count": 39,
   "id": "cd3bbe69-44bf-4bf7-bcf1-42a65ef962e0",
   "metadata": {},
   "outputs": [],
   "source": [
    "# Set up workspace\n",
    "mkdir -p $WKDIR\n",
    "mkdir -p $LOGDIR\n",
    "mkdir -p $TEMP\n",
    "mkdir -p $FAST5DIR\n",
    "mkdir -p $FAST5DIR_UNZIP\n",
    "mkdir -p $FASTQDIR"
   ]
  },
  {
   "cell_type": "code",
   "execution_count": 34,
   "id": "4f3ca1b4-df82-43d5-8b09-525718de18be",
   "metadata": {},
   "outputs": [],
   "source": [
    "#Make symlinks of inputfiles into one directory\n",
    "cp -s $ONTINDIR1/PAE* $FAST5DIR/\n",
    "cp -s $ONTINDIR2/PAE* $FAST5DIR/\n",
    "#ls -lrS $FAST5DIR | head"
   ]
  },
  {
   "cell_type": "code",
   "execution_count": 45,
   "id": "ebe5f00d-3649-45e3-bda0-15a19d885f05",
   "metadata": {},
   "outputs": [
    {
     "name": "stdout",
     "output_type": "stream",
     "text": [
      "SBATCH_ARGS: --mem=1G --time=00:30:00\n",
      "JOB_ARRAY_NAME: unzip_fast5\n",
      "GROUP_SIZE: 20\n",
      "NUM_COMMANDS: 674\n",
      "ARRAY_SIZE: 34\n"
     ]
    }
   ],
   "source": [
    "#Unzip all of the Fast5 files\n",
    "cd $FAST5DIR\n",
    "for file in *.gz\n",
    "do \n",
    "    echo gunzip -c $FAST5DIR/$file '>' $FAST5DIR_UNZIP/${file%.gz}\n",
    "done | abatch -j unzip_fast5 -g 20 --mem=1G --time=00:30:00 > unzip_sbatch_script.sh"
   ]
  },
  {
   "cell_type": "code",
   "execution_count": 46,
   "id": "300c4b72-99a2-4fa6-9acb-8ad3fcc22ad6",
   "metadata": {},
   "outputs": [
    {
     "name": "stdout",
     "output_type": "stream",
     "text": [
      "Submitted batch job 885843\n"
     ]
    }
   ],
   "source": [
    "cd $FAST5DIR\n",
    "sbatch unzip_sbatch_script.sh\n",
    "cd $WKDIR"
   ]
  },
  {
   "cell_type": "code",
   "execution_count": 68,
   "id": "2b131770-c873-4cbc-93a3-9564a4242d3d",
   "metadata": {},
   "outputs": [
    {
     "name": "stdout",
     "output_type": "stream",
     "text": [
      "19M\t/workspace/hraijc/Blueberry/BB_Nui_Assembly/Nui_V1.1/fast5\n",
      "537G\t/workspace/hraijc/Blueberry/BB_Nui_Assembly/Nui_V1.1/fast5_unzip\n",
      "80G\t/workspace/hraijc/Blueberry/BB_Nui_Assembly/Nui_V1.1/fastq\n",
      "752K\t/workspace/hraijc/Blueberry/BB_Nui_Assembly/Nui_V1.1/log\n",
      "46M\t/workspace/hraijc/Blueberry/BB_Nui_Assembly/Nui_V1.1/ONT_QC\n",
      "32K\t/workspace/hraijc/Blueberry/BB_Nui_Assembly/Nui_V1.1/temp\n"
     ]
    }
   ],
   "source": [
    "du -sh ${WKDIR}/*"
   ]
  },
  {
   "cell_type": "code",
   "execution_count": 53,
   "id": "435e7a4c-32ac-4690-90c3-7397a1f5f638",
   "metadata": {},
   "outputs": [
    {
     "name": "stdout",
     "output_type": "stream",
     "text": [
      "sbatch: slurm_job_submit: Job assigned to GPU nodes: gpu\n",
      "Submitted batch job 885877\n"
     ]
    }
   ],
   "source": [
    "#Basecalling with defaults.\n",
    "sbatch << EOF\n",
    "#!/bin/bash -e\n",
    "#SBATCH -J basecalling\n",
    "#SBATCH --nodes=1\n",
    "#SBATCH --ntasks=10\n",
    "#SBATCH --cpus-per-task=1\n",
    "#SBATCH --mem=20G\n",
    "#SBATCH --output=${LOGDIR}/%J.out\n",
    "#SBATCH --error=${LOGDIR}/%J.err\n",
    "#SBATCH --time=30:00:00\n",
    "#SBATCH --gres=gpu:1\n",
    "\n",
    "module load guppy/6.3.4\n",
    "\n",
    "guppy_basecaller --input_path ${FAST5DIR_UNZIP} -s ${FASTQDIR} --cpu_threads_per_caller 1 --num_callers 10 -c dna_r9.4.1_450bps_hac_prom.cfg --device 'cuda:0'\n",
    "\n",
    "EOF\n",
    "     "
   ]
  },
  {
   "cell_type": "code",
   "execution_count": 36,
   "id": "78750271-b336-41e3-8c07-d91cfda40644",
   "metadata": {},
   "outputs": [
    {
     "name": "stdout",
     "output_type": "stream",
     "text": [
      "sbatch: slurm_job_submit: Job assigned to GPU nodes: gpu\n",
      "Submitted batch job 885833\n"
     ]
    }
   ],
   "source": [
    "#Print Workflow Options\n",
    "sbatch << EOF\n",
    "#!/bin/bash -e\n",
    "#SBATCH -J basecalling\n",
    "#SBATCH --nodes=1\n",
    "#SBATCH --ntasks=1\n",
    "#SBATCH --cpus-per-task=1\n",
    "#SBATCH --output=${LOGDIR}/%J.out\n",
    "#SBATCH --error=${LOGDIR}/%J.err\n",
    "#SBATCH --mem=1G\n",
    "#SBATCH --time=00:01:00\n",
    "#SBATCH --gres=gpu:1\n",
    "\n",
    "module load guppy/6.3.4\n",
    "\n",
    "guppy_basecaller --print_workflows --device 'cuda:0'\n",
    "\n",
    "EOF"
   ]
  },
  {
   "cell_type": "code",
   "execution_count": 56,
   "id": "6355c7a4-45c2-4e00-9381-af3f158ebc14",
   "metadata": {},
   "outputs": [],
   "source": [
    "mkdir -p ${WKDIR}/ONT_QC"
   ]
  },
  {
   "cell_type": "code",
   "execution_count": 70,
   "id": "92e83179-2b9b-4c57-90b0-ca52c9fa008f",
   "metadata": {},
   "outputs": [
    {
     "name": "stdout",
     "output_type": "stream",
     "text": [
      "Submitted batch job 886478\n"
     ]
    }
   ],
   "source": [
    "#QC ONT Basecalling\n",
    "\n",
    "sbatch << EOF\n",
    "#!/bin/bash\n",
    "#SBATCH -J Nanoplot\n",
    "#SBATCH -o ${WKDIR}/log/%J.out\n",
    "#SBATCH -e ${WKDIR}/log/%J.err\n",
    "#SBATCH --cpus-per-task=1\n",
    "#SBATCH --mem-per-cpu=1G\n",
    "#SBATCH --time=00:30:00\n",
    "\n",
    "module load conda\n",
    "conda activate hraijc_NanoPlot\n",
    "\n",
    "cd ${WKDIR}/ONT_QC\n",
    "#NanoPlot --summary ${FASTQDIR}/sequencing_summary.txt --loglength --minqual 9 -o BB_Nui_Guppy6.3\n",
    "#NanoPlot --summary /workspace/hraijc/Blueberry/BB_Nui_Assembly/Nui_BB2020_ONT/BB2020_PromethION_Fastq/sequencing_summary.txt --minqual 9 --loglength -o BB_Nui_Guppy5  \n",
    "\n",
    "#NanoComp --summary ${FASTQDIR}/sequencing_summary.txt /workspace/hraijc/Blueberry/BB_Nui_Assembly/Nui_BB2020_ONT/BB2020_PromethION_Fastq/sequencing_summary.txt -p Nui_Guppy5vGuppy6\n",
    "#NanoComp --summary Guppy5.txt Guppy6.txt -p test -n Guppy5 Guppy6 MinION \n",
    "NanoComp --summary ${FASTQDIR}/sequencing_summary.txt /workspace/hraijc/Blueberry/BB_Nui_Assembly/Nui_BB2020_ONT/BB2020_PromethION_Fastq/sequencing_summary.txt /workspace/hraijc/Blueberry/BB_Nui_Assembly/Nui_BB2020_ONT/BB2020_MinION_Fastq/sequencing_summary.txt -p Nui_Guppy5vGuppy6vMinION -n Guppy5 Guppy6 MinION\n",
    "\n",
    "\n",
    "conda deactivate\n",
    "module unload conda\n",
    "\n",
    "EOF"
   ]
  },
  {
   "cell_type": "code",
   "execution_count": 4,
   "id": "727c1c7a-bb75-47d3-be62-28fd80410aed",
   "metadata": {},
   "outputs": [],
   "source": [
    "#Combine fastq.\n",
    "#for file in /workspace/hraijc/Blueberry/BB_Nui_Assembly/Nui_V1.1/fastq/pass/*.fastq \n",
    "#do \n",
    "#cat $file\n",
    "#done >> /workspace/hraijc/Blueberry/BB_Nui_Assembly/Nui_V1.1/fastq/BB_Nui_ONT_Guppyv6_all.fastq\n",
    "\n",
    "\n",
    "#cat /workspace/hraijc/Blueberry/BB_Nui_Assembly/Nui_BB2020_ONT/BB2020_MinION_1kb/all.fastq >> /workspace/hraijc/Blueberry/BB_Nui_Assembly/Nui_V1.1/fastq/BB_Nui_ONT_Guppyv6_all.fastq"
   ]
  },
  {
   "cell_type": "code",
   "execution_count": 15,
   "id": "4d53c41d-0387-4b9b-ba46-eec05a6710e9",
   "metadata": {},
   "outputs": [
    {
     "name": "stdout",
     "output_type": "stream",
     "text": [
      "68G\t/workspace/hraijc/Blueberry/BB_Nui_Assembly/Nui_V1.1/fastq/pass/\n",
      "86G\t/workspace/hraijc/Blueberry/BB_Nui_Assembly/Nui_V1.1/fastq/BB_Nui_ONT_Guppyv6_all.fastq\n",
      "19G\t/workspace/hraijc/Blueberry/BB_Nui_Assembly/Nui_BB2020_ONT/BB2020_MinION_1kb/all.fastq\n"
     ]
    }
   ],
   "source": [
    "du -sh /workspace/hraijc/Blueberry/BB_Nui_Assembly/Nui_V1.1/fastq/pass/\n",
    "du -sh /workspace/hraijc/Blueberry/BB_Nui_Assembly/Nui_V1.1/fastq/BB_Nui_ONT_Guppyv6_all.fastq\n",
    "du -sh /workspace/hraijc/Blueberry/BB_Nui_Assembly/Nui_BB2020_ONT/BB2020_MinION_1kb/all.fastq"
   ]
  },
  {
   "cell_type": "markdown",
   "id": "1694d99d-3358-499b-8f95-47044d9f430c",
   "metadata": {},
   "source": [
    "## Flye assembly"
   ]
  },
  {
   "cell_type": "code",
   "execution_count": 18,
   "id": "a24bb143-2a6a-49be-9757-7e80129647df",
   "metadata": {},
   "outputs": [
    {
     "name": "stdout",
     "output_type": "stream",
     "text": [
      "Submitted batch job 886648\n"
     ]
    }
   ],
   "source": [
    "# Trim Reads by length/quality using NanoFilt\n",
    "# FLYE --nano-hq expects qscore of 14 so almost all of our reads would be thrown out.\n",
    "# Using --nano-raw with expects qscore of 10. Using all reads >5kb.\n",
    "cd /workspace/hraijc/Blueberry/BB_Nui_Assembly/Nui_V1.1/fastq/\n",
    "mkdir -p log\n",
    "\n",
    "\n",
    "sbatch << EOF\n",
    "#!/bin/bash\n",
    "#SBATCH -J seqkit\n",
    "#SBATCH -o log/%J.out\n",
    "#SBATCH -e log/%J.err\n",
    "#SBATCH --cpus-per-task=2\n",
    "#SBATCH --mem-per-cpu=1G\n",
    "#SBATCH --time=01:30:00\n",
    "\n",
    "module load seqkit\n",
    "\n",
    "seqkit seq -m 5000 BB_Nui_ONT_Guppyv6_all.fastq > BB_Nui_ONT_Guppyv6_5kb.fastq\n",
    "seqkit stats BB_Nui_ONT_Guppyv6_all.fastq BB_Nui_ONT_Guppyv6_5kb.fastq\n",
    "\n",
    "\n",
    "EOF"
   ]
  },
  {
   "cell_type": "code",
   "execution_count": null,
   "id": "5180d2d8-7580-4ac9-85b3-ecc9bf25e6a5",
   "metadata": {},
   "outputs": [],
   "source": [
    "#file                          format  type   num_seqs         sum_len  min_len   avg_len  max_len\n",
    "#BB_Nui_ONT_Guppyv6_all.fastq  FASTQ   DNA   3,212,086  39,760,967,397       29  12,378.6  199,090\n",
    "#BB_Nui_ONT_Guppyv6_5kb.fastq  FASTQ   DNA   1,911,492  36,524,002,011    5,000  19,107.6  199,090"
   ]
  },
  {
   "cell_type": "code",
   "execution_count": 63,
   "id": "10a0b6ed-182e-4948-ba5f-89512cc8bc95",
   "metadata": {},
   "outputs": [
    {
     "name": "stdout",
     "output_type": "stream",
     "text": [
      "------------------- \u001b[1;94m/software/powerPlant/modulefiles/custom\u001b[0m --------------------\n",
      "\u001b[1mflye\u001b[22m/2.4.2  \u001b[1mflye\u001b[22m/2.5  \u001b[1mflye\u001b[22m/2.7.1  \u001b[1mflye\u001b[22m/2.8.3  \n",
      "\n",
      "Key:\n",
      "\u001b[1;94mmodulepath\u001b[0m  \n",
      "Conflict with existing Conda environment. Please unload/deactivate base\n",
      "\n",
      "Loading \u001b[1mpfr-python3/3.9.13\u001b[22m\n",
      "  \u001b[91mERROR\u001b[0m: can't read \"errorCode\": no such variable\n",
      "2.9.1-b1780\n"
     ]
    }
   ],
   "source": [
    "#Using flye 2.9.1 instead of PFR instalation. \n",
    "module avail flye\n",
    "module load pfr-python3\n",
    "python /workspace/hraijc/git_clones/Flye/bin/flye -v"
   ]
  },
  {
   "cell_type": "code",
   "execution_count": null,
   "id": "61cdc8e8-ceaf-411f-8a8c-51be1fda92e3",
   "metadata": {},
   "outputs": [],
   "source": []
  },
  {
   "cell_type": "code",
   "execution_count": null,
   "id": "48696a1b-9a17-4c17-8e64-1995a02564da",
   "metadata": {},
   "outputs": [],
   "source": []
  },
  {
   "cell_type": "code",
   "execution_count": 1,
   "id": "113cce2f-8af9-4876-aa9b-ccf9c88560ad",
   "metadata": {},
   "outputs": [],
   "source": [
    "WKDIR=/workspace/hraijc/Blueberry/BB_Nui_Assembly/Nui_V1.1\n",
    "INFASTQ=/workspace/hraijc/Blueberry/BB_Nui_Assembly/Nui_V1.1/fastq/BB_Nui_ONT_Guppyv6_5kb.fastq"
   ]
  },
  {
   "cell_type": "code",
   "execution_count": 22,
   "id": "284c0f49-1029-401c-a51a-570a07d30ae6",
   "metadata": {},
   "outputs": [
    {
     "name": "stdout",
     "output_type": "stream",
     "text": [
      "Submitted batch job 886659\n"
     ]
    }
   ],
   "source": [
    "#Running Flye and then Busco. \n",
    "sbatch << EOF\n",
    "#!/bin/bash\n",
    "#SBATCH -J Flye\n",
    "#SBATCH -o ${WKDIR}/log/%J.out\n",
    "#SBATCH -e ${WKDIR}/log/%J.err\n",
    "#SBATCH --cpus-per-task=36\n",
    "#SBATCH --mem=200G\n",
    "#SBATCH --time=100:30:00\n",
    "\n",
    "module load pfr-python3\n",
    "module load BUSCO/v5.2.2\n",
    "\n",
    "python /workspace/hraijc/git_clones/Flye/bin/flye --nano-raw $INFASTQ --out-dir ${WKDIR}/FLYE --thread 36 --iteration 1\n",
    "busco -i ${WKDIR}/FLYE/assembly.fasta -l eudicots -o Nui_V1_1_Flye_busco -m geno -c 36 --datasets_version odb10\n",
    "\n",
    "EOF"
   ]
  },
  {
   "cell_type": "code",
   "execution_count": 2,
   "id": "ccff2900-788a-4edf-a7d8-2ef1cc1a0927",
   "metadata": {},
   "outputs": [],
   "source": [
    "cp ${WKDIR}/FLYE/assembly.fasta ${WKDIR}/V1.1_Flye.fasta"
   ]
  },
  {
   "cell_type": "markdown",
   "id": "31dbfc04-7e4c-48ec-9c8e-a7d77d2f5ca2",
   "metadata": {},
   "source": [
    "## purge haplotigs and overlaps in an assembly based on read depth\n",
    "Flye 4 version of the assembly was better so going to use that version, not the guppy_v6 version"
   ]
  },
  {
   "cell_type": "code",
   "execution_count": 1,
   "id": "87789a2a-ac9b-407e-bf7a-33620fb8abb8",
   "metadata": {},
   "outputs": [],
   "source": [
    "#Define Variables\n",
    "WKDIR=/workspace/hraijc/Blueberry/BB_Nui_Assembly/Nui_V1.1\n",
    "OUTDIR=${WKDIR}\n",
    "OUTPREFIX=Nui_Flye04_dedup2\n",
    "\n",
    "ASSEMBLY=/workspace/hraijc/Blueberry/BB_Nui_Assembly/ONT_Assemly/FLYE04/Flye04_assembly.fasta\n",
    "ALLREADS=/workspace/hraijc/Blueberry/BB_Nui_Assembly/Nui_V1.1/fastq/BB_Nui_ONT_Guppyv6_5kb.fastq\n",
    "PURGEDUPS_BIN_DIR=/workspace/hraijc/git_clones/purge_dups/bin\n",
    "OUTPUT=${WKDIR}/purge_dups"
   ]
  },
  {
   "cell_type": "code",
   "execution_count": 30,
   "id": "d323cc46-dc25-40d7-8beb-4f644e980574",
   "metadata": {},
   "outputs": [
    {
     "name": "stdout",
     "output_type": "stream",
     "text": [
      "2.0G\t/workspace/hraijc/Blueberry/BB_Nui_Assembly/ONT_Assemly/FLYE04/Flye04_assembly.fasta\n"
     ]
    }
   ],
   "source": [
    "mkdir -p ${WKDIR}/log/\n",
    "mkdir -p ${WKDIR}/purge_dups\n",
    "cd ${OUTDIR}\n",
    "du -sh $ASSEMBLY"
   ]
  },
  {
   "cell_type": "code",
   "execution_count": 6,
   "id": "7e52f0cf-6c63-4043-aa81-c8020843ee69",
   "metadata": {},
   "outputs": [
    {
     "name": "stdout",
     "output_type": "stream",
     "text": [
      "usage: pd_config.py [-h] [-s SRF] [-l LOCD] [-B] [-n FN] [--version]\n",
      "                    ref pbfofn\n",
      "\n",
      "generate a configuration file in json format\n",
      "\n",
      "positional arguments:\n",
      "  ref                   reference file\n",
      "  pbfofn                list of pacbio file (one absolute file path per line)\n",
      "\n",
      "optional arguments:\n",
      "  -h, --help            show this help message and exit\n",
      "  -s SRF, --srfofn SRF  list of short reads files (one record per line, the\n",
      "                        record is a tab splitted line of abosulte file path\n",
      "                        plus trimmed bases, refer to\n",
      "                        https://github.com/dfguan/KMC) [NONE]\n",
      "  -l LOCD, --localdir LOCD\n",
      "                        local directory to keep the reference and lists of the\n",
      "                        pacbio, short reads files [.]\n",
      "  -B, --skipB           skip running busco [False]\n",
      "  -n FN, --name FN      output config file name [config.json]\n",
      "  --version             show program's version number and exit\n"
     ]
    }
   ],
   "source": [
    "conda deactivate\n",
    "module load pfr-python3\n",
    "\n",
    "python /workspace/hraijc/git_clones/purge_dups/scripts/pd_config.py --help"
   ]
  },
  {
   "cell_type": "code",
   "execution_count": 31,
   "id": "ec5a1685-d043-418a-b8a9-822135af15f9",
   "metadata": {},
   "outputs": [],
   "source": [
    "# make pbofn file\n",
    "printf ${ALLREADS} > ${OUTDIR}/ONT_files.txt"
   ]
  },
  {
   "cell_type": "code",
   "execution_count": 32,
   "id": "54011375-77ab-456b-a3e9-618bea70171b",
   "metadata": {},
   "outputs": [],
   "source": [
    "module load pfr-python3\n",
    "python /workspace/hraijc/git_clones/purge_dups/scripts/pd_config.py -n config.${OUTPREFIX}.json ${ASSEMBLY} ${OUTDIR}/ONT_files.txt"
   ]
  },
  {
   "cell_type": "code",
   "execution_count": 34,
   "id": "f539cd08-2698-441b-bfa6-00e29a6555d9",
   "metadata": {},
   "outputs": [
    {
     "name": "stdout",
     "output_type": "stream",
     "text": [
      "Submitted batch job 903171\n"
     ]
    }
   ],
   "source": [
    "\n",
    "sbatch << EOF\n",
    "#!/bin/bash\n",
    "#SBATCH -J PurgeDups\n",
    "#SBATCH -o ${WKDIR}/log/%J.out\n",
    "#SBATCH -e ${WKDIR}/log/%J.err\n",
    "#SBATCH --cpus-per-task=1\n",
    "#SBATCH --mem=8G\n",
    "#SBATCH --time=6:00:00\n",
    "\n",
    "conda deactivate\n",
    "module load pfr-python3\n",
    "module load zlib\n",
    "module load minimap2\n",
    "module load BUSCO/v5.2.2\n",
    "\n",
    "\n",
    "python /workspace/hraijc/git_clones/purge_dups/scripts/run_purge_dups.py config.${OUTPREFIX}.json ${PURGEDUPS_BIN_DIR} ${OUTPREFIX} -p bash\n",
    "\n",
    "EOF"
   ]
  },
  {
   "cell_type": "code",
   "execution_count": 2,
   "id": "2459fc06-2b86-4f4f-8df1-1db9efbdaf24",
   "metadata": {},
   "outputs": [],
   "source": [
    "cp ${WKDIR}/Flye04_assembly/seqs/Flye04_assembly.purged.fa ${WKDIR}/Flye04_assembly_purged.fa"
   ]
  },
  {
   "cell_type": "code",
   "execution_count": 3,
   "id": "bdb43fbd-929c-469a-aaef-e9f14abe4204",
   "metadata": {},
   "outputs": [
    {
     "name": "stdout",
     "output_type": "stream",
     "text": [
      "Submitted batch job 903533\n"
     ]
    }
   ],
   "source": [
    "#Busco. \n",
    "sbatch << EOF\n",
    "#!/bin/bash\n",
    "#SBATCH -J BUSCO\n",
    "#SBATCH -o ${WKDIR}/log/%J.out\n",
    "#SBATCH -e ${WKDIR}/log/%J.err\n",
    "#SBATCH --cpus-per-task=24\n",
    "#SBATCH --mem=6G\n",
    "#SBATCH --time=06:30:00\n",
    "\n",
    "module load BUSCO/v5.2.2\n",
    "module load assemblathon_stats\n",
    "\n",
    "assemblathon_stats.pl ${WKDIR}/Flye04_assembly_purged2.fa\n",
    "busco -i ${WKDIR}/Flye04_assembly_purged.fa -l eudicots -o Nui_V1_1_Flye_busco -m geno -c 24 --datasets_version odb10\n",
    "\n",
    "EOF"
   ]
  },
  {
   "cell_type": "code",
   "execution_count": null,
   "id": "e785e7c7-4ef8-4cb3-a157-831ec4b31f48",
   "metadata": {},
   "outputs": [],
   "source": []
  },
  {
   "cell_type": "markdown",
   "id": "c5137d29-326e-44de-8840-d534ae5416b2",
   "metadata": {},
   "source": [
    "## HiC mapping and scaffolding.\n",
    "\n",
    "\n",
    "HiC Reads here:\n",
    "/input/genomic/plant/Vaccinium/corymbosum/AGRF_CAGRF21434_HJWHFDRXX\n"
   ]
  },
  {
   "cell_type": "markdown",
   "id": "839c966f-a288-4c18-a9df-b4791b3f1745",
   "metadata": {},
   "source": [
    "### Clean HiC Reads\n"
   ]
  },
  {
   "cell_type": "code",
   "execution_count": 1,
   "id": "5914a02f-cbfc-4443-8cce-e632f4472b21",
   "metadata": {
    "vscode": {
     "languageId": "shellscript"
    }
   },
   "outputs": [],
   "source": [
    "#Define Variables\n",
    "WKDIR=/workspace/hraijc/Blueberry/BB_Nui_Assembly/Nui_V1.1\n",
    "CONTIGS=${WKDIR}/Flye04_assembly_purged.fa\n",
    "OUT_PREFIX_CONTIGS=Nui_Flye04_purged\n",
    "\n",
    "RAW_READ1=/input/genomic/plant/Vaccinium/corymbosum/AGRF_CAGRF21434_HJWHFDRXX/BlueberryNui_HiC_HJWHFDRXX_GTACGA_L002_R1.fastq.gz\n",
    "RAW_READ2=/input/genomic/plant/Vaccinium/corymbosum/AGRF_CAGRF21434_HJWHFDRXX/BlueberryNui_HiC_HJWHFDRXX_GTACGA_L002_R2.fastq.gz\n",
    "\n",
    "HiC_CLEAN=${WKDIR}/HiC_Clean\n",
    "HiC_CLEAN_R1=${HiC_CLEAN}/BlueberryNui_HiC_HJWHFDRXX_GTACGA_L002_R1_CLEAN.fastq.gz\n",
    "HiC_CLEAN_R2=${HiC_CLEAN}/BlueberryNui_HiC_HJWHFDRXX_GTACGA_L002_R2_CLEAN.fastq.gz"
   ]
  },
  {
   "cell_type": "code",
   "execution_count": 18,
   "id": "f3777d30-717d-4b67-911a-663de7af7cc8",
   "metadata": {},
   "outputs": [],
   "source": [
    "mkdir -p $HiC_CLEAN\n",
    "mkdir -p ${WKDIR}/log"
   ]
  },
  {
   "cell_type": "code",
   "execution_count": 19,
   "id": "ec8a600b-6b92-4155-becb-b5cf19336793",
   "metadata": {},
   "outputs": [
    {
     "name": "stdout",
     "output_type": "stream",
     "text": [
      "Submitted batch job 903625\n"
     ]
    }
   ],
   "source": [
    "# Filter HiC Reads.\n",
    "\n",
    "sbatch << EOF\n",
    "#!/bin/bash\n",
    "#SBATCH -J fastp\n",
    "#SBATCH -o ${WKDIR}/log/%J.out\n",
    "#SBATCH -e ${WKDIR}/log/%J.err\n",
    "#SBATCH --cpus-per-task=6\n",
    "#SBATCH --mem=6G\n",
    "#SBATCH --time=6:00:00\n",
    "\n",
    "module load fastp/0.23.2\n",
    "\n",
    "fastp -i $RAW_READ1 -o $HiC_CLEAN_R1 -I $RAW_READ2 -O $HiC_CLEAN_R2 --trim_front1 15 --trim_front2 15 --qualified_quality_phred 25 --length_required 75 --thread 6\n",
    "\n",
    "EOF"
   ]
  },
  {
   "cell_type": "code",
   "execution_count": 2,
   "id": "217d5e65-63ac-4e6a-bf0c-85854ce31884",
   "metadata": {},
   "outputs": [
    {
     "name": "stdout",
     "output_type": "stream",
     "text": [
      "6.1G\t/workspace/hraijc/Blueberry/BB_Nui_Assembly/Nui_V1.1/HiC_Clean/BlueberryNui_HiC_HJWHFDRXX_GTACGA_L002_R1_CLEAN.fastq.gz\n",
      "7.2G\t/workspace/hraijc/Blueberry/BB_Nui_Assembly/Nui_V1.1/HiC_Clean/BlueberryNui_HiC_HJWHFDRXX_GTACGA_L002_R2_CLEAN.fastq.gz\n",
      "869M\t/workspace/hraijc/Blueberry/BB_Nui_Assembly/Nui_V1.1/Flye04_assembly_purged.fa\n",
      "8.1G\t/input/genomic/plant/Vaccinium/corymbosum/AGRF_CAGRF21434_HJWHFDRXX/BlueberryNui_HiC_HJWHFDRXX_GTACGA_L002_R1.fastq.gz\n",
      "8.7G\t/input/genomic/plant/Vaccinium/corymbosum/AGRF_CAGRF21434_HJWHFDRXX/BlueberryNui_HiC_HJWHFDRXX_GTACGA_L002_R2.fastq.gz\n"
     ]
    }
   ],
   "source": [
    "du -sh ${HiC_CLEAN}/*.fastq.gz\n",
    "du -sh $CONTIGS\n",
    "du -sh $RAW_READ1\n",
    "du -sh $RAW_READ2"
   ]
  },
  {
   "cell_type": "markdown",
   "id": "1e2544c1-a9bf-4f1e-b89a-ae5871ac6efb",
   "metadata": {},
   "source": [
    "### Map HiC Reads\n",
    "\n"
   ]
  },
  {
   "cell_type": "code",
   "execution_count": 4,
   "id": "da64dfa0-2a6e-4ea3-9942-5ae319d2b96c",
   "metadata": {
    "tags": []
   },
   "outputs": [
    {
     "name": "stdout",
     "output_type": "stream",
     "text": [
      "Submitted batch job 903761\n"
     ]
    }
   ],
   "source": [
    "#Create HiC BAM FILE of 1kb contigs\n",
    "\n",
    "sbatch << EOF\n",
    "#!/bin/bash\n",
    "#SBATCH -J HiC_Pipe_BB\n",
    "#SBATCH -o ${WKDIR}/log/%J.out\n",
    "#SBATCH -e ${WKDIR}/log/%J.err\n",
    "#SBATCH --cpus-per-task=18\n",
    "#SBATCH --mem=10G\n",
    "#SBATCH --time=30:00:00\n",
    "\n",
    "module load bwa/0.7.17\n",
    "module load samtools/0.1.19\n",
    "\n",
    "cd ${WKDIR}\n",
    "\n",
    "bwa index $CONTIGS\n",
    "samtools faidx $CONTIGS\n",
    "\n",
    "#Align reads with BWA. Use -5SP for Hi-C reads.\n",
    "bwa mem -5SP -t18 ${CONTIGS} $HiC_CLEAN_R1 $HiC_CLEAN_R2 -o ${OUT_PREFIX_CONTIGS}.sam\n",
    "\n",
    "#Flag PCR Duplicates with SAMBLASTER\n",
    "/workspace/hraijc/git_clones/samblaster/samblaster -i ${OUT_PREFIX_CONTIGS}.sam -o ${OUT_PREFIX_CONTIGS}_marked_byread.sam\n",
    "\n",
    "#Remove PCR Duplicates\n",
    "samtools view -S -b -h -@ 18 -F 2316 ${OUT_PREFIX_CONTIGS}_marked_byread.sam > ${OUT_PREFIX_CONTIGS}_dedup.bam\n",
    "\n",
    "# Run YAHS\n",
    "/workspace/hraijc/git_clones/yahs/yahs $CONTIGS ${OUT_PREFIX_CONTIGS}_dedup.bam -o ${OUT_PREFIX_CONTIGS}_yahs1\n",
    "\n",
    "#YAHS without error correction.\n",
    "/workspace/hraijc/git_clones/yahs/yahs --no-contig-ec --no-scaffold-ec $CONTIGS ${OUT_PREFIX_CONTIGS}_dedup.bam -o ${OUT_PREFIX_CONTIGS}_yahs_noEC\n",
    "\n",
    "\n",
    "EOF"
   ]
  },
  {
   "cell_type": "code",
   "execution_count": null,
   "id": "024592bc-db41-48cc-bdac-382ded06fc8d",
   "metadata": {},
   "outputs": [],
   "source": []
  },
  {
   "cell_type": "code",
   "execution_count": 5,
   "id": "162b052a-f366-4d92-8a62-95867cabd33e",
   "metadata": {
    "vscode": {
     "languageId": "shellscript"
    }
   },
   "outputs": [
    {
     "name": "stdout",
     "output_type": "stream",
     "text": [
      "90G\tNui_Flye04_purged_marked_byread.sam\n",
      "90G\tNui_Flye04_purged.sam\n",
      "22G\tNui_Flye04_purged_dedup.bam\n"
     ]
    }
   ],
   "source": [
    "cd $WKDIR\n",
    "du -sh *.sam\n",
    "du -sh *.bam\n",
    "mv *.sam temp\n"
   ]
  },
  {
   "cell_type": "code",
   "execution_count": 6,
   "id": "d350eaa3-73ff-4129-a17d-5c74dc33dde6",
   "metadata": {},
   "outputs": [
    {
     "name": "stdout",
     "output_type": "stream",
     "text": [
      "Submitted batch job 904093\n"
     ]
    }
   ],
   "source": [
    "#Stat Assemblies \n",
    "sbatch << EOF\n",
    "#!/bin/bash\n",
    "#SBATCH -J Assemblathon\n",
    "#SBATCH -o ${WKDIR}/log/%J.out\n",
    "#SBATCH -e ${WKDIR}/log/%J.err\n",
    "#SBATCH --cpus-per-task=1\n",
    "#SBATCH --mem=1G\n",
    "#SBATCH --time=00:30:00\n",
    "\n",
    "module load assemblathon_stats\n",
    "\n",
    "assemblathon_stats.pl ${WKDIR}/Nui_Flye04_purged_yahs_noEC_scaffolds_final.fa\n",
    "assemblathon_stats.pl ${WKDIR}/Nui_Flye04_purged_yahs1_scaffolds_final.fa\n",
    "\n",
    "EOF"
   ]
  },
  {
   "cell_type": "code",
   "execution_count": 7,
   "id": "2a4c1d9c-c1c5-4021-bb3e-706a4d7adb95",
   "metadata": {},
   "outputs": [
    {
     "name": "stdout",
     "output_type": "stream",
     "text": [
      "Submitted batch job 904094\n"
     ]
    }
   ],
   "source": [
    "#Index Contigs \n",
    "sbatch << EOF\n",
    "#!/bin/bash\n",
    "#SBATCH -J Samtools\n",
    "#SBATCH -o ${WKDIR}/log/%J.out\n",
    "#SBATCH -e ${WKDIR}/log/%J.err\n",
    "#SBATCH --cpus-per-task=1\n",
    "#SBATCH --mem=1G\n",
    "#SBATCH --time=00:30:00\n",
    "\n",
    "module load samtools\n",
    "\n",
    "samtools faidx ${CONTIGS}\n",
    "\n",
    "EOF"
   ]
  },
  {
   "cell_type": "code",
   "execution_count": 9,
   "id": "ec07122f-09af-4644-90af-5c83514cb5ec",
   "metadata": {},
   "outputs": [
    {
     "name": "stdout",
     "output_type": "stream",
     "text": [
      "Submitted batch job 904235\n"
     ]
    }
   ],
   "source": [
    "#Variables are not read within slurm scripts so need to set them before.\n",
    "# Create heatmap using Yahs script.\n",
    "\n",
    "\n",
    "out=${WKDIR}/Nui_Flye04_purged_yahs1\n",
    "contigs=${CONTIGS} # need to be indexed, i.e., test.fa.gz.fai is available\n",
    "\n",
    "sbatch << EOF\n",
    "#!/bin/bash\n",
    "#SBATCH -J mapyahs5\n",
    "#SBATCH -o ${WKDIR}/log/%J.out\n",
    "#SBATCH -e ${WKDIR}/log/%J.err\n",
    "#SBATCH --cpus-per-task=8\n",
    "#SBATCH --mem=32G\n",
    "#SBATCH --time=3:10:00\n",
    "\n",
    "module load conda\n",
    "conda activate hraijc_yahs\n",
    "\n",
    "\n",
    "############# code modified from YAHS script #####################################\n",
    "#### this is to generate input file for juicer_tools - non-assembly mode or for PretextMap\n",
    "(/workspace/hraijc/git_clones/yahs/juicer pre ${out}.bin ${out}_scaffolds_final.agp ${contigs}.fai 2>${out}_tmp_juicer_pre.log | LC_ALL=C sort -k2,2d -k6,6d --parallel=8 -S32G | awk 'NF' > ${out}_alignments_sorted.txt.part) && (mv ${out}_alignments_sorted.txt.part ${out}_alignments_sorted.txt)\n",
    "## prepare chromosome size file from samtools index file\n",
    "cat ${out}_tmp_juicer_pre.log | grep \"PRE_C_SIZE\" | cut -d' ' -f2- >${out}_scaffolds_final.chrom.sizes\n",
    "## do juicer hic map\n",
    "#(java -Xmx32G -jar /workspace/hraijc/git_clones/juicer_tools.1.9.9_jcuda.0.8.jar pre ${out}_alignments_sorted.txt ${out}.hic.part ${out}_scaffolds_final.chrom.sizes) && (mv ${out}.hic.part ${out}.hic)\n",
    "#### generate input file for juicer_tools - assembly (JBAT) mode (-a)\n",
    "/workspace/hraijc/git_clones/yahs/juicer pre -a -o ${out}_JBAT ${out}.bin ${out}_scaffolds_final.agp ${contigs}.fai 2>${out}_tmp_juicer_pre_JBAT.log\n",
    "cat ${out}_tmp_juicer_pre_JBAT.log | grep \"PRE_C_SIZE\" | cut -d' ' -f2- >${out}_JBAT.chrom.sizes\n",
    "(java -Xmx32G -jar /workspace/hraijc/git_clones/juicer_tools.1.9.9_jcuda.0.8.jar pre ${out}_JBAT.txt ${out}_JBAT.hic.part ${out}_JBAT.chrom.sizes) && (mv ${out}_JBAT.hic.part ${out}_JBAT.hic)\n",
    "#################################################################################\n",
    "\n",
    "\n",
    "EOF\n",
    "\n",
    "#unsetting varialbes to avoid confusion.\n",
    "unset out\n",
    "unset contigs"
   ]
  },
  {
   "cell_type": "code",
   "execution_count": null,
   "id": "9b1b1486-6eaa-434d-bedf-6c0f51840e0c",
   "metadata": {},
   "outputs": [],
   "source": []
  },
  {
   "cell_type": "code",
   "execution_count": 14,
   "id": "cd39a6f0-178f-46ed-8cdf-1925856e2b00",
   "metadata": {},
   "outputs": [],
   "source": [
    "WKDIR=/workspace/hraijc/Blueberry/BB_Nui_Assembly/Nui_V1.1\n",
    "PREFIX=Nui_V1.1\n",
    "INFILE=Nui_Flye04_purged_dedup.bam\n",
    "APREFIX=Nui_Flye04_purged\n"
   ]
  },
  {
   "cell_type": "code",
   "execution_count": 11,
   "id": "6297bcbe-53df-40af-9158-e229f54881a6",
   "metadata": {},
   "outputs": [
    {
     "name": "stdout",
     "output_type": "stream",
     "text": [
      "Submitted batch job 904241\n"
     ]
    }
   ],
   "source": [
    "# Viz HiC Coverage\n",
    "\n",
    "cd $WKDIR\n",
    "\n",
    "sbatch << EOF\n",
    "#!/bin/bash\n",
    "#SBATCH -J hic\n",
    "#SBATCH -o ${WKDIR}/log/%J.out\n",
    "#SBATCH -e ${WKDIR}/log/%J.err\n",
    "#SBATCH --cpus-per-task=10\n",
    "#SBATCH --mem=10G\n",
    "#SBATCH --time=6:00:00\n",
    "\n",
    "module load conda\n",
    "conda deactivate\n",
    "module load pfr-python3\n",
    "module load samtools\n",
    "\n",
    "samtools sort -@ 10 $INFILE > ${INFILE%.bam}_sorted.bam\n",
    "samtools index ${INFILE%.bam}_sorted.bam\n",
    "/home/hraijc/.local/bin/plotCoverage -b ${INFILE%.bam}_sorted.bam -n 10000 --plotFile ${PREFIX}_HiC_Coverage -o ${PREFIX}_HiC_Coverage_quick.png --labels ${PREFIX} --plotTitle \"HiC_Coverage\" \n",
    "/home/hraijc/.local/bin/plotCoverage -b ${INFILE%.bam}_sorted.bam -n 100000 --plotFile ${PREFIX}_HiC_Coverage -o ${PREFIX}_HiC_Coverage.png --labels ${PREFIX} --plotTitle \"HiC_Coverage\" \n",
    "\n",
    "\n",
    "EOF"
   ]
  },
  {
   "cell_type": "code",
   "execution_count": 15,
   "id": "7bcbc1f9-46f3-4b9d-8125-d71004967344",
   "metadata": {},
   "outputs": [
    {
     "name": "stdout",
     "output_type": "stream",
     "text": [
      "Submitted batch job 904772\n"
     ]
    }
   ],
   "source": [
    "### HiC QC from Phase genomics ###\n",
    "sbatch << EOF\n",
    "#!/bin/bash\n",
    "#SBATCH -J HiCQC\n",
    "#SBATCH -o ${WKDIR}/log/%J.out\n",
    "#SBATCH -e ${WKDIR}/log/%J.err\n",
    "#SBATCH --cpus-per-task=1\n",
    "#SBATCH --mem=1G\n",
    "#SBATCH --time=00:30:00\n",
    "\n",
    "module load conda\n",
    "\n",
    "conda activate hraijc_hic_qc2\n",
    "python /workspace/hraijc/git_clones/hic_qc/hic_qc.py -n 3000000 -b ${APREFIX}_dedup.bam --outfile_prefix ${APREFIX}\n",
    "conda deactivate\n",
    "\n",
    "EOF"
   ]
  },
  {
   "cell_type": "code",
   "execution_count": null,
   "id": "c96faa33-e6eb-4f3d-b566-c5c9f3a72867",
   "metadata": {},
   "outputs": [],
   "source": []
  },
  {
   "cell_type": "code",
   "execution_count": null,
   "id": "2f5f4257-dcfa-4b73-af11-205679ba49be",
   "metadata": {},
   "outputs": [],
   "source": []
  },
  {
   "cell_type": "code",
   "execution_count": null,
   "id": "636c6961-712e-44c1-8681-00aa9392ea83",
   "metadata": {},
   "outputs": [],
   "source": []
  },
  {
   "cell_type": "code",
   "execution_count": null,
   "id": "a49c5813-90ef-4b3a-a46c-40bb6f679047",
   "metadata": {
    "tags": []
   },
   "outputs": [],
   "source": []
  },
  {
   "cell_type": "code",
   "execution_count": null,
   "id": "9c5b49cc-4b2f-4d55-96a9-f34138d0ab69",
   "metadata": {},
   "outputs": [],
   "source": []
  }
 ],
 "metadata": {
  "kernelspec": {
   "display_name": "Bash",
   "language": "bash",
   "name": "bash"
  },
  "language_info": {
   "codemirror_mode": "shell",
   "file_extension": ".sh",
   "mimetype": "text/x-sh",
   "name": "bash"
  }
 },
 "nbformat": 4,
 "nbformat_minor": 5
}
