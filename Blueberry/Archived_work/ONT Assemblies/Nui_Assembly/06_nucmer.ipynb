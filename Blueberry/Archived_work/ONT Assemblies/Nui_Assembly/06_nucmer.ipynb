{
 "cells": [
  {
   "cell_type": "markdown",
   "id": "b97c2071-f449-4b08-83ab-9d916e1b981a",
   "metadata": {},
   "source": [
    "## Pairwise comparison of Nui Assembly"
   ]
  },
  {
   "cell_type": "code",
   "execution_count": 2,
   "id": "8a803f9d-0bc0-4e8b-ac93-71082366481d",
   "metadata": {},
   "outputs": [],
   "source": [
    "#Set Variables\n",
    "WKDIR=/workspace/hraijc/BB_Nui_Assembly/Nucmer\n",
    "\n",
    "Vcae_ASSEMBLY=${WKDIR}/VcaeV1.3.fa\n",
    "BB_ASSEMBLY=${WKDIR}/BB_genome_10kbUp_renamed.fasta\n",
    "NuiSalsa2_ASSEMBLY=/workspace/hraijc/BB_Nui_Assembly/Salsa/Nui_Salsa02.fasta\n",
    "NuiSalsa2_ASSEMBLY_min100kb=/workspace/hraijc/BB_Nui_Assembly/Salsa/Nui_Salsa02_min100kb.fasta"
   ]
  },
  {
   "cell_type": "code",
   "execution_count": 3,
   "id": "1419803c-c4a5-4f9f-a235-ca811df746e0",
   "metadata": {},
   "outputs": [],
   "source": [
    "#cp /workspace/ComparativeDataSources/Vaccinium_corymbosum/NCSU_VcaeV1.3/VcaeV1.3.fa ${WKDIR}\n",
    "#cp /output/genomic/plant/Vaccinium/corymbosum/Blueberry_genome_MSU_tetraploid_18012019/BB_genome_10kbUp_renamed.fasta ${WKDIR}"
   ]
  },
  {
   "cell_type": "code",
   "execution_count": 4,
   "id": "14993ab9-e5c0-4e93-9700-96aa37e0a9b1",
   "metadata": {},
   "outputs": [],
   "source": [
    "cd $WKDIR"
   ]
  },
  {
   "cell_type": "code",
   "execution_count": 6,
   "id": "a586bb91-2002-46a7-a624-c6b94bde0710",
   "metadata": {},
   "outputs": [],
   "source": [
    "#mkdir log"
   ]
  },
  {
   "cell_type": "code",
   "execution_count": 22,
   "id": "1f32c70a-adca-4379-bb50-23e079708973",
   "metadata": {},
   "outputs": [],
   "source": [
    "module load seqtk"
   ]
  },
  {
   "cell_type": "code",
   "execution_count": 23,
   "id": "d9acc36a-fed5-40c7-8be8-7cae4271c815",
   "metadata": {},
   "outputs": [
    {
     "name": "stdout",
     "output_type": "stream",
     "text": [
      "Job <710489> is submitted to default queue <lowpriority>.\n",
      "<<Waiting for dispatch ...>>\n",
      "<<Starting on wkoppb40>>\n"
     ]
    }
   ],
   "source": [
    "bsub -I \"seqtk seq -L 100000 ${NuiSalsa2_ASSEMBLY} > ${NuiSalsa2_ASSEMBLY_min100kb}\""
   ]
  },
  {
   "cell_type": "code",
   "execution_count": 24,
   "id": "533c7ccf-8585-43d5-98e7-af32313c5183",
   "metadata": {},
   "outputs": [],
   "source": [
    "module unload seqtk"
   ]
  },
  {
   "cell_type": "code",
   "execution_count": null,
   "id": "0e576f92-2c10-4ce4-839f-f4f29f9e0cb6",
   "metadata": {},
   "outputs": [],
   "source": []
  },
  {
   "cell_type": "code",
   "execution_count": null,
   "id": "556cd9a2-a279-45c2-a651-1ccf8e49062a",
   "metadata": {},
   "outputs": [],
   "source": []
  },
  {
   "cell_type": "code",
   "execution_count": 7,
   "id": "8c985925-fc25-4e46-acee-6f0547fd029f",
   "metadata": {},
   "outputs": [
    {
     "name": "stdout",
     "output_type": "stream",
     "text": [
      "Job <710059> is submitted to default queue <lowpriority>.\n",
      "Job <710060> is submitted to default queue <lowpriority>.\n"
     ]
    }
   ],
   "source": [
    "bsub -J nucmer1 -o ${WKDIR}/log/nucmer1.log -e ${WKDIR}/log/nucmer1.err \\\n",
    "\"/workspace/hraijc/git_clones/mummer4/bin/nucmer -p Nui_Salsa2_TO_BB ${BB_ASSEMBLY} ${NuiSalsa2_ASSEMBLY}\"\n",
    "\n",
    "bsub -J nucmer2 -o ${WKDIR}/log/nucmer2.log -e ${WKDIR}/log/nucmer2.err \\\n",
    "\"/workspace/hraijc/git_clones/mummer4/bin/nucmer -p  Nui_Salsa2_TO_Vcae ${Vcae_ASSEMBLY} ${NuiSalsa2_ASSEMBLY}\"\n"
   ]
  },
  {
   "cell_type": "code",
   "execution_count": 4,
   "id": "14566dc4-4193-4547-949b-c1ef3c29dca3",
   "metadata": {},
   "outputs": [
    {
     "name": "stdout",
     "output_type": "stream",
     "text": [
      "Job <711150> is submitted to default queue <lowpriority>.\n",
      "Job <711151> is submitted to default queue <lowpriority>.\n"
     ]
    }
   ],
   "source": [
    "bsub -J nucmer3 -o ${WKDIR}/log/nucmer1.log -e ${WKDIR}/log/nucmer1.err \\\n",
    "\"/workspace/hraijc/git_clones/mummer4/bin/nucmer -p Nui_Salsa2_min100kb_TO_BB ${BB_ASSEMBLY} ${NuiSalsa2_ASSEMBLY_min100kb}\"\n",
    "\n",
    "bsub -J nucmer4 -o ${WKDIR}/log/nucmer2.log -e ${WKDIR}/log/nucmer2.err \\\n",
    "\"/workspace/hraijc/git_clones/mummer4/bin/nucmer -p  Nui_Salsa2_min100kb_TO_Vcae ${Vcae_ASSEMBLY} ${NuiSalsa2_ASSEMBLY_min100kb}\"\n"
   ]
  },
  {
   "cell_type": "code",
   "execution_count": 15,
   "id": "b8725b20-b9cd-48fb-9497-fd5a726d1fc6",
   "metadata": {},
   "outputs": [
    {
     "name": "stdout",
     "output_type": "stream",
     "text": [
      "Job <710452> is submitted to default queue <lowpriority>.\n",
      "Job <710453> is submitted to default queue <lowpriority>.\n",
      "Job <710454> is submitted to default queue <lowpriority>.\n",
      "Job <710455> is submitted to default queue <lowpriority>.\n",
      "Job <710456> is submitted to default queue <lowpriority>.\n",
      "Job <710457> is submitted to default queue <lowpriority>.\n",
      "Job <710458> is submitted to default queue <lowpriority>.\n",
      "Job <710459> is submitted to default queue <lowpriority>.\n"
     ]
    }
   ],
   "source": [
    "#Filter\n",
    "bsub -J nucfilt1 -o ${WKDIR}/log/nucfilt1.log -e ${WKDIR}/log/nucfilt1.err \\\n",
    "\"/workspace/hraijc/git_clones/mummer4/bin/delta-filter -i 98 -l 5000 -q -r Nui_Salsa2_TO_BB.delta > Nui_Salsa2_TO_BB_i98l5.filter\"\n",
    "bsub -J nucfilt2 -o ${WKDIR}/log/nucfilt2.log -e ${WKDIR}/log/nucfilt2.err \\\n",
    "\"/workspace/hraijc/git_clones/mummer4/bin/delta-filter -i 99 -l 5000 -q -r Nui_Salsa2_TO_BB.delta > Nui_Salsa2_TO_BB_i99l5.filter\"\n",
    "bsub -J nucfilt3 -o ${WKDIR}/log/nucfilt3.log -e ${WKDIR}/log/nucfilt3.err \\\n",
    "\"/workspace/hraijc/git_clones/mummer4/bin/delta-filter -i 98 -l 7500 -q -r Nui_Salsa2_TO_BB.delta > Nui_Salsa2_TO_BB_i98l75.filter\"\n",
    "bsub -J nucfilt4 -o ${WKDIR}/log/nucfilt4.log -e ${WKDIR}/log/nucfilt4.err \\\n",
    "\"/workspace/hraijc/git_clones/mummer4/bin/delta-filter -i 99 -l 7500 -q -r Nui_Salsa2_TO_BB.delta > Nui_Salsa2_TO_BB_i99l75.filter\"\n",
    "\n",
    "bsub -J nucfilt21 -o ${WKDIR}/log/nucfilt21.log -e ${WKDIR}/log/nucfilt21.err \\\n",
    "\"/workspace/hraijc/git_clones/mummer4/bin/delta-filter -i 98 -l 5000 -q -r Nui_Salsa2_TO_Vcae.delta > Nui_Salsa2_TO_Vcae_i98l5.filter\"\n",
    "bsub -J nucfilt22 -o ${WKDIR}/log/nucfilt22.log -e ${WKDIR}/log/nucfilt22.err \\\n",
    "\"/workspace/hraijc/git_clones/mummer4/bin/delta-filter -i 99 -l 5000 -q -r Nui_Salsa2_TO_Vcae.delta > Nui_Salsa2_TO_Vcae_i99l5.filter\"\n",
    "bsub -J nucfilt23 -o ${WKDIR}/log/nucfilt23.log -e ${WKDIR}/log/nucfilt23.err \\\n",
    "\"/workspace/hraijc/git_clones/mummer4/bin/delta-filter -i 98 -l 7500 -q -r Nui_Salsa2_TO_Vcae.delta > Nui_Salsa2_TO_Vcae_i98l75.filter\"\n",
    "bsub -J nucfilt24 -o ${WKDIR}/log/nucfilt24.log -e ${WKDIR}/log/nucfilt24.err \\\n",
    "\"/workspace/hraijc/git_clones/mummer4/bin/delta-filter -i 99 -l 7500 -q -r Nui_Salsa2_TO_Vcae.delta > Nui_Salsa2_TO_Vcae_i99l75.filter\"\n",
    "\n"
   ]
  },
  {
   "cell_type": "code",
   "execution_count": 5,
   "id": "3ad0afb7-d164-4165-8b46-591c17a05847",
   "metadata": {},
   "outputs": [
    {
     "name": "stdout",
     "output_type": "stream",
     "text": [
      "Job <712902> is submitted to default queue <lowpriority>.\n",
      "Job <712903> is submitted to default queue <lowpriority>.\n",
      "Job <712904> is submitted to default queue <lowpriority>.\n",
      "Job <712905> is submitted to default queue <lowpriority>.\n",
      "Job <712906> is submitted to default queue <lowpriority>.\n",
      "Job <712907> is submitted to default queue <lowpriority>.\n",
      "Job <712908> is submitted to default queue <lowpriority>.\n",
      "Job <712909> is submitted to default queue <lowpriority>.\n"
     ]
    }
   ],
   "source": [
    "#Filter2\n",
    "bsub -J nucfilt1 -o ${WKDIR}/log/nucfilt1.log -e ${WKDIR}/log/nucfilt1.err \\\n",
    "\"/workspace/hraijc/git_clones/mummer4/bin/delta-filter -i 98 -l 5000 -q -r Nui_Salsa2_min100kb_TO_BB.delta > Nui_Salsa2_min100kb_TO_BB_i98l5.filter\"\n",
    "bsub -J nucfilt2 -o ${WKDIR}/log/nucfilt2.log -e ${WKDIR}/log/nucfilt2.err \\\n",
    "\"/workspace/hraijc/git_clones/mummer4/bin/delta-filter -i 99 -l 5000 -q -r Nui_Salsa2_min100kb_TO_BB.delta > Nui_Salsa2_min100kb_TO_BB_i99l5.filter\"\n",
    "bsub -J nucfilt3 -o ${WKDIR}/log/nucfilt3.log -e ${WKDIR}/log/nucfilt3.err \\\n",
    "\"/workspace/hraijc/git_clones/mummer4/bin/delta-filter -i 98 -l 7500 -q -r Nui_Salsa2_min100kb_TO_BB.delta > Nui_Salsa2_min100kb_TO_BB_i98l75.filter\"\n",
    "bsub -J nucfilt4 -o ${WKDIR}/log/nucfilt4.log -e ${WKDIR}/log/nucfilt4.err \\\n",
    "\"/workspace/hraijc/git_clones/mummer4/bin/delta-filter -i 99 -l 7500 -q -r Nui_Salsa2_min100kb_TO_BB.delta > Nui_Salsa2_min100kb_TO_BB_i99l75.filter\"\n",
    "\n",
    "bsub -J nucfilt21 -o ${WKDIR}/log/nucfilt21.log -e ${WKDIR}/log/nucfilt21.err \\\n",
    "\"/workspace/hraijc/git_clones/mummer4/bin/delta-filter -i 98 -l 5000 -q -r Nui_Salsa2_min100kb_TO_Vcae.delta > Nui_Salsa2_min100kb_TO_Vcae_i98l5.filter\"\n",
    "bsub -J nucfilt22 -o ${WKDIR}/log/nucfilt22.log -e ${WKDIR}/log/nucfilt22.err \\\n",
    "\"/workspace/hraijc/git_clones/mummer4/bin/delta-filter -i 99 -l 5000 -q -r Nui_Salsa2_min100kb_TO_Vcae.delta > Nui_Salsa2_min100kb_TO_Vcae_i99l5.filter\"\n",
    "bsub -J nucfilt23 -o ${WKDIR}/log/nucfilt23.log -e ${WKDIR}/log/nucfilt23.err \\\n",
    "\"/workspace/hraijc/git_clones/mummer4/bin/delta-filter -i 98 -l 7500 -q -r Nui_Salsa2_min100kb_TO_Vcae.delta > Nui_Salsa2_min100kb_TO_Vcae_i98l75.filter\"\n",
    "bsub -J nucfilt24 -o ${WKDIR}/log/nucfilt24.log -e ${WKDIR}/log/nucfilt24.err \\\n",
    "\"/workspace/hraijc/git_clones/mummer4/bin/delta-filter -i 99 -l 7500 -q -r Nui_Salsa2_min100kb_TO_Vcae.delta > Nui_Salsa2_min100kb_TO_Vcae_i99l75.filter\"\n"
   ]
  },
  {
   "cell_type": "code",
   "execution_count": 16,
   "id": "441b435b-00e1-42db-8ce7-1c2232b52673",
   "metadata": {},
   "outputs": [
    {
     "name": "stdout",
     "output_type": "stream",
     "text": [
      "Job <710462> is submitted to default queue <lowpriority>.\n",
      "Job <710463> is submitted to default queue <lowpriority>.\n",
      "Job <710464> is submitted to default queue <lowpriority>.\n",
      "Job <710465> is submitted to default queue <lowpriority>.\n",
      "Job <710466> is submitted to default queue <lowpriority>.\n",
      "Job <710467> is submitted to default queue <lowpriority>.\n",
      "Job <710468> is submitted to default queue <lowpriority>.\n",
      "Job <710469> is submitted to default queue <lowpriority>.\n"
     ]
    }
   ],
   "source": [
    "#Plot\n",
    "\n",
    "bsub -J nucplot1 -o ${WKDIR}/log/nucplot1.log -e ${WKDIR}/log/nucplot1.err \\\n",
    "\"/workspace/hraijc/git_clones/mummer4/bin/mummerplot --large --png Nui_Salsa2_TO_BB_i98l5.filter -R ${BB_ASSEMBLY} -Q ${NuiSalsa2_ASSEMBLY} --prefix=Nui_Salsa2_TO_BB_i98l5\"\n",
    "bsub -J nucplot2 -o ${WKDIR}/log/nucplot2.log -e ${WKDIR}/log/nucplot2.err \\\n",
    "\"/workspace/hraijc/git_clones/mummer4/bin/mummerplot --large --png Nui_Salsa2_TO_BB_i99l5.filter -R ${BB_ASSEMBLY} -Q ${NuiSalsa2_ASSEMBLY} --prefix=Nui_Salsa2_TO_BB_i99l5\"\n",
    "bsub -J nucplot3 -o ${WKDIR}/log/nucplot3.log -e ${WKDIR}/log/nucplot3.err \\\n",
    "\"/workspace/hraijc/git_clones/mummer4/bin/mummerplot --large --png Nui_Salsa2_TO_BB_i98l75.filter -R ${BB_ASSEMBLY} -Q ${NuiSalsa2_ASSEMBLY} --prefix=Nui_Salsa2_TO_BB_i98l75\"\n",
    "bsub -J nucplot4 -o ${WKDIR}/log/nucplot4.log -e ${WKDIR}/log/nucplot4.err \\\n",
    "\"/workspace/hraijc/git_clones/mummer4/bin/mummerplot --large --png Nui_Salsa2_TO_BB_i99l75.filter -R ${BB_ASSEMBLY} -Q ${NuiSalsa2_ASSEMBLY} --prefix=Nui_Salsa2_TO_BB_i99l75\"\n",
    "\n",
    "bsub -J nucplot5 -o ${WKDIR}/log/nucplot5.log -e ${WKDIR}/log/nucplot5.err \\\n",
    "\"/workspace/hraijc/git_clones/mummer4/bin/mummerplot --large --png Nui_Salsa2_TO_Vcae_i98l5.filter -R ${Vcae_ASSEMBLY} -Q ${NuiSalsa2_ASSEMBLY} --prefix=Nui_Salsa2_TO_Vcae_i98l5\"\n",
    "bsub -J nucplot6 -o ${WKDIR}/log/nucplot6.log -e ${WKDIR}/log/nucplot6.err \\\n",
    "\"/workspace/hraijc/git_clones/mummer4/bin/mummerplot --large --png Nui_Salsa2_TO_Vcae_i99l5.filter -R ${Vcae_ASSEMBLY} -Q ${NuiSalsa2_ASSEMBLY} --prefix=Nui_Salsa2_TO_Vcae_i99l5\"\n",
    "bsub -J nucplot7 -o ${WKDIR}/log/nucplot7.log -e ${WKDIR}/log/nucplot7.err \\\n",
    "\"/workspace/hraijc/git_clones/mummer4/bin/mummerplot --large --png Nui_Salsa2_TO_Vcae_i98l75.filter -R ${Vcae_ASSEMBLY} -Q ${NuiSalsa2_ASSEMBLY} --prefix=Nui_Salsa2_TO_Vcae_i98l75\"\n",
    "bsub -J nucplot8 -o ${WKDIR}/log/nucplot8.log -e ${WKDIR}/log/nucplot8.err \\\n",
    "\"/workspace/hraijc/git_clones/mummer4/bin/mummerplot --large --png Nui_Salsa2_TO_Vcae_i99l75.filter -R ${Vcae_ASSEMBLY} -Q ${NuiSalsa2_ASSEMBLY} --prefix=Nui_Salsa2_TO_Vcae_i99l75\""
   ]
  },
  {
   "cell_type": "code",
   "execution_count": 6,
   "id": "b05dc42a-9c7c-404a-b81e-c9c93c9bd382",
   "metadata": {},
   "outputs": [
    {
     "name": "stdout",
     "output_type": "stream",
     "text": [
      "Job <712910> is submitted to default queue <lowpriority>.\n",
      "Job <712911> is submitted to default queue <lowpriority>.\n",
      "Job <712912> is submitted to default queue <lowpriority>.\n",
      "Job <712913> is submitted to default queue <lowpriority>.\n",
      "Job <712914> is submitted to default queue <lowpriority>.\n",
      "Job <712915> is submitted to default queue <lowpriority>.\n",
      "Job <712916> is submitted to default queue <lowpriority>.\n",
      "Job <712917> is submitted to default queue <lowpriority>.\n"
     ]
    }
   ],
   "source": [
    "#Plot2\n",
    "\n",
    "bsub -J nucplot1 -o ${WKDIR}/log/nucplot1.log -e ${WKDIR}/log/nucplot1.err \\\n",
    "\"/workspace/hraijc/git_clones/mummer4/bin/mummerplot --large --png Nui_Salsa2_min100kb_TO_BB_i98l5.filter -R ${BB_ASSEMBLY} -Q ${NuiSalsa2_ASSEMBLY_min100kb} --prefix=Nui_Salsa2_min100kb_TO_BB_i98l5\"\n",
    "bsub -J nucplot2 -o ${WKDIR}/log/nucplot2.log -e ${WKDIR}/log/nucplot2.err \\\n",
    "\"/workspace/hraijc/git_clones/mummer4/bin/mummerplot --large --png Nui_Salsa2_min100kb_TO_BB_i99l5.filter -R ${BB_ASSEMBLY} -Q ${NuiSalsa2_ASSEMBLY_min100kb} --prefix=Nui_Salsa2_min100kb_TO_BB_i99l5\"\n",
    "bsub -J nucplot3 -o ${WKDIR}/log/nucplot3.log -e ${WKDIR}/log/nucplot3.err \\\n",
    "\"/workspace/hraijc/git_clones/mummer4/bin/mummerplot --large --png Nui_Salsa2_min100kb_TO_BB_i98l75.filter -R ${BB_ASSEMBLY} -Q ${NuiSalsa2_ASSEMBLY_min100kb} --prefix=Nui_Salsa2_min100kb_TO_BB_i98l75\"\n",
    "bsub -J nucplot4 -o ${WKDIR}/log/nucplot4.log -e ${WKDIR}/log/nucplot4.err \\\n",
    "\"/workspace/hraijc/git_clones/mummer4/bin/mummerplot --large --png Nui_Salsa2_min100kb_TO_BB_i99l75.filter -R ${BB_ASSEMBLY} -Q ${NuiSalsa2_ASSEMBLY_min100kb} --prefix=Nui_Salsa2_min100kb_TO_BB_i99l75\"\n",
    "\n",
    "bsub -J nucplot5 -o ${WKDIR}/log/nucplot5.log -e ${WKDIR}/log/nucplot5.err \\\n",
    "\"/workspace/hraijc/git_clones/mummer4/bin/mummerplot --large --png Nui_Salsa2_min100kb_TO_Vcae_i98l5.filter -R ${Vcae_ASSEMBLY} -Q ${NuiSalsa2_ASSEMBLY_min100kb} --prefix=Nui_Salsa2_min100kb_TO_Vcae_i98l5\"\n",
    "bsub -J nucplot6 -o ${WKDIR}/log/nucplot6.log -e ${WKDIR}/log/nucplot6.err \\\n",
    "\"/workspace/hraijc/git_clones/mummer4/bin/mummerplot --large --png Nui_Salsa2_min100kb_TO_Vcae_i99l5.filter -R ${Vcae_ASSEMBLY} -Q ${NuiSalsa2_ASSEMBLY_min100kb} --prefix=Nui_Salsa2_min100kb_TO_Vcae_i99l5\"\n",
    "bsub -J nucplot7 -o ${WKDIR}/log/nucplot7.log -e ${WKDIR}/log/nucplot7.err \\\n",
    "\"/workspace/hraijc/git_clones/mummer4/bin/mummerplot --large --png Nui_Salsa2_min100kb_TO_Vcae_i98l75.filter -R ${Vcae_ASSEMBLY} -Q ${NuiSalsa2_ASSEMBLY_min100kb} --prefix=Nui_Salsa2_min100kb_TO_Vcae_i98l75\"\n",
    "bsub -J nucplot8 -o ${WKDIR}/log/nucplot8.log -e ${WKDIR}/log/nucplot8.err \\\n",
    "\"/workspace/hraijc/git_clones/mummer4/bin/mummerplot --large --png Nui_Salsa2_min100kb_TO_Vcae_i99l75.filter -R ${Vcae_ASSEMBLY} -Q ${NuiSalsa2_ASSEMBLY_min100kb} --prefix=Nui_Salsa2_min100kb_TO_Vcae_i99l75\""
   ]
  },
  {
   "cell_type": "code",
   "execution_count": null,
   "id": "4eabaace-2d66-4807-89b9-3a6eaf2c772e",
   "metadata": {},
   "outputs": [],
   "source": []
  }
 ],
 "metadata": {
  "kernelspec": {
   "display_name": "Bash",
   "language": "bash",
   "name": "bash"
  },
  "language_info": {
   "codemirror_mode": "shell",
   "file_extension": ".sh",
   "mimetype": "text/x-sh",
   "name": "bash"
  }
 },
 "nbformat": 4,
 "nbformat_minor": 5
}
