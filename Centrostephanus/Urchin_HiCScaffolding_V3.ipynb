{
 "cells": [
  {
   "cell_type": "markdown",
   "id": "ed696821-0dc1-4160-895c-186038dd2075",
   "metadata": {},
   "source": [
    "# Hi-C Scaffolding Urchin\n",
    "### New assembly needs new scaffolding"
   ]
  },
  {
   "cell_type": "code",
   "execution_count": null,
   "id": "918d0e0c-0155-471c-a4fc-31201ea1fcd3",
   "metadata": {},
   "outputs": [],
   "source": [
    "#Set Up\n",
    "WKDIR=/workspace/hraijc/HiC_trials/HiC23/NovaSeq/Urchin/Crodergsii_V3\n",
    "TEMP=${WKDIR}/TEMP\n",
    "ASSEMBLY=/workspace/hraijc/HiC_trials/HiC23/Assemblies/urchin_230923_primary_purged.fa\n",
    "#ASSEMBLY_POSTSCAFF=/workspace/hraijc/HiC_trials/HiC23/Results/Crodergsii_HiC092623_v3.fa\n",
    "HiC_R1=/workspace/hraijc/HiC_trials/HiC23/NovaSeq/Urchin/Crodergsii_V3/reads/Urchin_HiC_combined_filtered_R1.fq.gz\n",
    "HiC_R2=/workspace/hraijc/HiC_trials/HiC23/NovaSeq/Urchin/Crodergsii_V3/reads/Urchin_HiC_combined_filtered_R2.fq.gz\n",
    "OUT_PREFIX=Crodergsii_HiC092623\n",
    "#TELOMERE=TTAGGG #http://telomerase.asu.edu/sequences_telomere.html\n",
    "#GENOME_SIZE=880000000\n",
    "#NF_CONFIG=/workspace/hraijc/HiC_trials/HiC23/NovaSeq/Urchin/hic-scaffolding-pipeline/nextflow.config\n",
    "\n",
    "mkdir -p $WKDIR/log\n",
    "mkdir -p $TEMP\n",
    "cd $WKDIR"
   ]
  },
  {
   "cell_type": "code",
   "execution_count": null,
   "id": "7c2f2972-2160-47d2-8f9d-83d4338b0014",
   "metadata": {},
   "outputs": [],
   "source": []
  },
  {
   "cell_type": "code",
   "execution_count": null,
   "id": "c5cb93d7-ddd6-4e78-b600-a085d0437592",
   "metadata": {},
   "outputs": [],
   "source": [
    "#cp /input/globus-test/transfer/public/hraijc/urchin_092023/*.fa /workspace/hraijc/HiC_trials/HiC23/Assemblies/"
   ]
  },
  {
   "cell_type": "code",
   "execution_count": null,
   "id": "f3073bdb-615a-48ad-8ec3-5ba7030c70ae",
   "metadata": {},
   "outputs": [],
   "source": [
    "# Using Annabels filtered reads"
   ]
  },
  {
   "cell_type": "code",
   "execution_count": null,
   "id": "d0d9237d-10b4-43c5-880a-20811d7a9d2c",
   "metadata": {},
   "outputs": [],
   "source": [
    "#Prep Reference\n",
    "\n",
    "sbatch << EOF\n",
    "#!/bin/bash\n",
    "#SBATCH -J bwaindex\n",
    "#SBATCH --cpus-per-task=1\n",
    "#SBATCH --mem=1G\n",
    "#SBATCH --time=1:00:00\n",
    "#SBATCH -o ${WKDIR}/log/%J.out\n",
    "#SBATCH -e ${WKDIR}/log/%J.err\n",
    "\n",
    "module load bwa/0.7.17\n",
    "module load samtools/1.16\n",
    "\n",
    "\n",
    "samtools faidx ${ASSEMBLY}\n",
    "bwa index ${ASSEMBLY}\n",
    "\n",
    "\n",
    "EOF"
   ]
  },
  {
   "cell_type": "code",
   "execution_count": null,
   "id": "21c984b2-3d77-44c6-b5f0-7579be0831f6",
   "metadata": {},
   "outputs": [],
   "source": [
    "#Map HiC reads\n",
    "\n",
    "sbatch << EOF\n",
    "#!/bin/bash\n",
    "#SBATCH -J hic\n",
    "#SBATCH -o ${WKDIR}/log/%J.out\n",
    "#SBATCH -e ${WKDIR}/log/%J.err\n",
    "#SBATCH --cpus-per-task=12\n",
    "#SBATCH --mem=20G\n",
    "#SBATCH --time=73:00:00\n",
    "\n",
    "module load bwa/0.7.17\n",
    "module load samtools/1.16\n",
    "\n",
    "\n",
    "cd ${WKDIR}\n",
    "\n",
    "### Align reads with BWA. Use -5SP for Hi-C reads.#############################\n",
    "\n",
    "bwa mem -5SP -t12 ${ASSEMBLY} ${HiC_R1} ${HiC_R2} -o ${TEMP}/${OUT_PREFIX}.sam\n",
    "\n",
    "\n",
    "### Flag PCR Duplicates with SAMBLASTER #######################################\n",
    "/workspace/hraijc/git_clones/samblaster/samblaster -i ${TEMP}/${OUT_PREFIX}.sam -o ${TEMP}/${OUT_PREFIX}_marked_byread.sam\n",
    "\n",
    "\n",
    "### Remove unmmaped and non-primary aligned reads. Sort and Index bam files.###\n",
    "samtools view -S -b -h -@ 12 -F 2316 ${TEMP}/${OUT_PREFIX}_marked_byread.sam > ${TEMP}/${OUT_PREFIX}_presort_marked.bam\n",
    "samtools sort -@ 12 ${TEMP}/${OUT_PREFIX}_presort_marked.bam -o ${OUT_PREFIX}_marked.bam\n",
    "samtools view -S -b -h -@ 12 -F 3340 ${TEMP}/${OUT_PREFIX}_marked_byread.sam > ${TEMP}/${OUT_PREFIX}_presort_dedup.bam\n",
    "samtools sort -@ 12 ${TEMP}/${OUT_PREFIX}_presort_dedup.bam -o ${OUT_PREFIX}_dedup.bam\n",
    "\n",
    "\n",
    "### Run YAHS with contig and scaffolding error correction. ####################\n",
    "/workspace/hraijc/git_clones/yahs/yahs --no-mem-check ${ASSEMBLY} ${OUT_PREFIX}_dedup.bam -o ${OUT_PREFIX}_dedup_yahs3\n",
    "\n",
    "EOF\n"
   ]
  },
  {
   "cell_type": "code",
   "execution_count": null,
   "id": "226b105d-05e3-42d4-9a84-6487bf7c1f46",
   "metadata": {},
   "outputs": [],
   "source": [
    "out=${OUT_PREFIX}_dedup_yahs3 # prefix of outfiles produced by YAHS.  \n",
    "contigs=${ASSEMBLY} # need to be indexed, i.e., test.fa.gz.fai in same directory\n",
    "wkdir=${WKDIR}\n",
    "\n",
    "\n",
    "sbatch --job-name=hic_mapyahs \\\n",
    "    -o ${WKDIR}/log/%J.out \\\n",
    "    -e ${WKDIR}/log/%J.err \\\n",
    "    --cpus-per-task=8 \\\n",
    "    --mem=24G \\\n",
    "    --time=03:10:00 \\\n",
    "    --export=out=$out,contigs=$contigs,wkdir=$wkdir \\\n",
    "    /workspace/hraijc/Gitrepos/High-quality-genomes/Methods/DNase_HiC/notebooks/yahs_contactmapgen2.sh"
   ]
  },
  {
   "cell_type": "code",
   "execution_count": null,
   "id": "4db7a8b0-b13f-40d5-8ab1-56f92ea1a9dc",
   "metadata": {},
   "outputs": [],
   "source": [
    "seff 2069748\n"
   ]
  },
  {
   "cell_type": "code",
   "execution_count": null,
   "id": "8cf08b62-0555-4391-bd3a-4a563cc18282",
   "metadata": {},
   "outputs": [],
   "source": [
    "#Re-Run YAHS at higher resolutions to fix breaks in smaller contigs. \n",
    "\n",
    "sbatch << EOF\n",
    "#!/bin/bash\n",
    "#SBATCH -J hic\n",
    "#SBATCH -o ${WKDIR}/log/%J.out\n",
    "#SBATCH -e ${WKDIR}/log/%J.err\n",
    "#SBATCH --cpus-per-task=1\n",
    "#SBATCH --mem=20G\n",
    "#SBATCH --time=6:00:00\n",
    "\n",
    "\n",
    "\n",
    "cd ${WKDIR}\n",
    "\n",
    "### Run YAHS with contig and scaffolding error correction. ####################\n",
    "#/workspace/hraijc/git_clones/yahs/yahs --no-mem-check ${ASSEMBLY} ${OUT_PREFIX}_dedup.bam -o ${OUT_PREFIX}_dedup_yahs3\n",
    "/workspace/hraijc/git_clones/yahs/yahs --no-mem-check ${ASSEMBLY} ${OUT_PREFIX}_dedup.bam -r 5000,10000,20000,50000,100000,200000,500000,1000000,2000000,5000000,10000000,20000000,50000000,100000000,200000000,500000000 -o ${OUT_PREFIX}_dedup_yahs3_5k\n",
    "/workspace/hraijc/git_clones/yahs/yahs --no-mem-check ${ASSEMBLY} ${OUT_PREFIX}_dedup.bam -r 1000,5000,10000,20000,50000,100000,200000,500000,1000000,2000000,5000000,10000000,20000000,50000000,100000000,200000000,500000000 -o ${OUT_PREFIX}_dedup_yahs3_1k\n",
    "\n",
    "\n",
    "EOF"
   ]
  },
  {
   "cell_type": "code",
   "execution_count": null,
   "id": "24132051-c0f6-4cde-bba3-07bb29ccaa42",
   "metadata": {},
   "outputs": [],
   "source": [
    "out=${OUT_PREFIX}_dedup_yahs3_5k # prefix of outfiles produced by YAHS.  \n",
    "contigs=${ASSEMBLY} # need to be indexed, i.e., test.fa.gz.fai in same directory\n",
    "wkdir=${WKDIR}\n",
    "\n",
    "\n",
    "sbatch --job-name=hic_mapyahs \\\n",
    "    -o ${WKDIR}/log/%J.out \\\n",
    "    -e ${WKDIR}/log/%J.err \\\n",
    "    --cpus-per-task=8 \\\n",
    "    --mem=24G \\\n",
    "    --time=03:10:00 \\\n",
    "    --export=out=$out,contigs=$contigs,wkdir=$wkdir \\\n",
    "    /workspace/hraijc/Gitrepos/High-quality-genomes/Methods/DNase_HiC/notebooks/yahs_contactmapgen2.sh\n",
    "    \n",
    "out=${OUT_PREFIX}_dedup_yahs3_1k # prefix of outfiles produced by YAHS.  \n",
    "contigs=${ASSEMBLY} # need to be indexed, i.e., test.fa.gz.fai in same directory\n",
    "wkdir=${WKDIR}\n",
    "\n",
    "\n",
    "sbatch --job-name=hic_mapyahs \\\n",
    "    -o ${WKDIR}/log/%J.out \\\n",
    "    -e ${WKDIR}/log/%J.err \\\n",
    "    --cpus-per-task=8 \\\n",
    "    --mem=24G \\\n",
    "    --time=03:10:00 \\\n",
    "    --export=out=$out,contigs=$contigs,wkdir=$wkdir \\\n",
    "    /workspace/hraijc/Gitrepos/High-quality-genomes/Methods/DNase_HiC/notebooks/yahs_contactmapgen2.sh"
   ]
  },
  {
   "cell_type": "code",
   "execution_count": null,
   "id": "dcadeed6-57ef-4331-a228-d06a7b0dd09e",
   "metadata": {},
   "outputs": [],
   "source": [
    "##############\n",
    "#Do manual scaffolding cleanup in Juicer then run\n",
    "\n",
    "##############\n",
    "out=${OUT_PREFIX}_dedup_yahs3_5k # prefix of outfiles produced by YAHS.  \n",
    "contigs=${ASSEMBLY} # need to be indexed, i.e., test.fa.gz.fai in same directory\n",
    "wkdir=${WKDIR}\n",
    "\n",
    "sbatch << EOF\n",
    "#!/bin/bash\n",
    "#SBATCH -J YAHS\n",
    "#SBATCH -o ${WKDIR}/log/%J.out\n",
    "#SBATCH -e ${WKDIR}/log/%J.err\n",
    "#SBATCH --cpus-per-task=1\n",
    "#SBATCH --mem=4G\n",
    "#SBATCH --time=2:00:00\n",
    "\n",
    "\n",
    "\n",
    "cd ${WKDIR}\n",
    "\n",
    "\n",
    "\n",
    "/workspace/hraijc/git_clones/yahs/juicer post -o Crodergsii_HiC092623_dedup_yahs3_5k_manual Crodergsii_HiC092623_dedup_yahs3_5k_JBAT.review.assembly Crodergsii_HiC092623_dedup_yahs3_5k_JBAT.liftover.agp ${ASSEMBLY}\n",
    "\n",
    "\n",
    "\n",
    "EOF\n"
   ]
  },
  {
   "cell_type": "code",
   "execution_count": null,
   "id": "1505f981-e28f-4584-a9e5-0a594b9b2e97",
   "metadata": {},
   "outputs": [],
   "source": [
    "# SET INFO FOR SUBSETTING UNIQUE MAPPED HIC READS\n",
    "WKDIR=/workspace/hraijc/HiC_trials/HiC23/NovaSeq/Urchin/Crodergsii_V3\n",
    "READ1=${WKDIR}/reads/Urchin_HiC_U_R1.fq.gz\n",
    "READ2=${WKDIR}/reads/Urchin_HiC_U_R2.fq.gz\n",
    "DEDUP_BAM=${WKDIR}/Crodergsii_HiC092623_dedup.bam\n"
   ]
  },
  {
   "cell_type": "code",
   "execution_count": null,
   "id": "71a87ed3-e697-47f5-a3c7-03e3e307f5d0",
   "metadata": {},
   "outputs": [],
   "source": [
    "\n",
    "#Subset HiC reads\n",
    "\n",
    "sbatch << EOF\n",
    "#!/bin/bash\n",
    "#SBATCH -J hic_subset\n",
    "#SBATCH -o ${WKDIR}/log/%J.out\n",
    "#SBATCH -e ${WKDIR}/log/%J.err\n",
    "#SBATCH --cpus-per-task=12\n",
    "#SBATCH --mem=12G\n",
    "#SBATCH --time=2:00:00\n",
    "\n",
    "\n",
    "module load samtools/1.16\n",
    "\n",
    "\n",
    "cd ${WKDIR}\n",
    "samtools sort -@ 12 -n ${DEDUP_BAM} -o ${DEDUP_BAM%.bam}_namesort.bam\n",
    "\n",
    "samtools bam2fq -@ 12 -1 ${READ1} -2 ${READ2} ${DEDUP_BAM%.bam}_namesort.bam\n",
    "\n",
    "EOF"
   ]
  },
  {
   "cell_type": "code",
   "execution_count": null,
   "id": "057f0600-bc6b-4546-9eaa-a3cafaf2b293",
   "metadata": {},
   "outputs": [],
   "source": []
  },
  {
   "cell_type": "code",
   "execution_count": null,
   "id": "b8f90c76-a632-482b-a1bf-416750405c87",
   "metadata": {},
   "outputs": [],
   "source": []
  },
  {
   "cell_type": "code",
   "execution_count": null,
   "id": "ee291693-46e9-4df3-882f-311d3900d0aa",
   "metadata": {},
   "outputs": [],
   "source": [
    "cp ${WKDIR}/${OUT_PREFIX}_v2.FINAL.fa ${ASSEMBLY_POSTSCAFF}"
   ]
  },
  {
   "cell_type": "code",
   "execution_count": null,
   "id": "4dfebcac-14a7-4dff-bf7a-e8644841c5e0",
   "metadata": {},
   "outputs": [],
   "source": []
  },
  {
   "cell_type": "code",
   "execution_count": null,
   "id": "84066d8e-1cfd-4600-9686-aa239bc2e290",
   "metadata": {
    "tags": []
   },
   "outputs": [],
   "source": [
    "out=${OUT_PREFIX}_yahs_10K # prefix of outfiles produced by YAHS.  \n",
    "\n",
    "cd ${WKDIR}\n",
    "module load BBMap/38.33\n",
    "\n",
    "statswrapper.sh in=${ASSEMBLY_PRESCAFF},${WKDIR}/${OUT_PREFIX}_yahs_10K_scaffolds_final.fa,${ASSEMBLY_POSTSCAFF} format=3 \n",
    "module unload BBMap/38.33"
   ]
  },
  {
   "cell_type": "markdown",
   "id": "510979d7-9483-4fec-b1f4-9be7fd21cef9",
   "metadata": {},
   "source": [
    "| n_scaffolds \t| n_contigs \t| scaf_bp \t| contig_bp \t| gap_pct \t| scaf_N50 \t| scaf_L50 \t| ctg_N50 \t| ctg_L50 \t| scaf_N90 \t| scaf_L90 \t| ctg_N90 \t| ctg_L90 \t| scaf_max \t| ctg_max \t| scaf_n_gt50K \t| scaf_pct_gt50K \t| gc_avg \t| gc_std \t| filename \t|\n",
    "|---\t|---\t|---\t|---\t|---\t|---\t|---\t|---\t|---\t|---\t|---\t|---\t|---\t|---\t|---\t|---\t|---\t|---\t|---\t|---\t|\n",
    "| 2770 \t| 2887 \t| 883753165 \t| 883750474 \t| 0.000 \t| 498 \t| 559676 \t| 501 \t| 557004 \t| 1595 \t| 156350 \t| 1621 \t| 150094 \t| 4267868 \t| 4267868 \t| 2376 \t| 98.531 \t| 0.39359 \t| 0.00860 \t| /powerplant/workspace/hraijc/HiC_trials/HiC23/Assemblies/Crodergsii_HiFi130423_purged.fa \t|\n",
    "| 337 \t| 3002 \t| 884262765 \t| 883750474 \t| 0.058 \t| 9 \t| 39820943 \t| 515 \t| 549938 \t| 18 \t| 32836090 \t| 1661 \t| 146243 \t| 76945733 \t| 4267868 \t| 167 \t| 99.575 \t| 0.39359 \t| 0.01835 \t| /powerplant/workspace/hraijc/HiC_trials/HiC23/NovaSeq/Urchin/Crodergsii_HiC070623_yahs_10K_scaffolds_final.fa \t|\n",
    "| 346 \t| 3010 \t| 884262565 \t| 883750474 \t| 0.058 \t| 11 \t| 38040201 \t| 517 \t| 549493 \t| 21 \t| 32277710 \t| 1666 \t| 145522 \t| 52699487 \t| 4267868 \t| 174 \t| 99.570 \t| 0.39359 \t| 0.01826 \t| /powerplant/workspace/hraijc/HiC_trials/HiC23/Results/Crodergsii_HiC070623_v2.fa \t|"
   ]
  },
  {
   "cell_type": "markdown",
   "id": "23383ace-30d6-4a5e-aa44-de3d364b3760",
   "metadata": {},
   "source": [
    "## AssemblyQC"
   ]
  },
  {
   "cell_type": "code",
   "execution_count": null,
   "id": "e8f04541-8b76-4fc5-b1ea-bfa6999654d5",
   "metadata": {},
   "outputs": [],
   "source": [
    "#cd ${WKDIR}\n",
    "#git clone git@github.com:PlantandFoodResearch/assembly_qc.git"
   ]
  },
  {
   "cell_type": "code",
   "execution_count": null,
   "id": "1cd4945e-2f86-4998-ab4b-6cf8c09a18fe",
   "metadata": {},
   "outputs": [],
   "source": [
    "cd ${WKDIR}/assembly_qc\n"
   ]
  },
  {
   "cell_type": "code",
   "execution_count": null,
   "id": "43172c36-f477-4895-a7d3-b251fbb49e49",
   "metadata": {},
   "outputs": [],
   "source": [
    "sbatch ./assembly_qc_pfr.sh\n"
   ]
  },
  {
   "cell_type": "code",
   "execution_count": null,
   "id": "7eee43c0-4341-4cff-bc25-c114b3e342b2",
   "metadata": {},
   "outputs": [],
   "source": []
  },
  {
   "cell_type": "code",
   "execution_count": null,
   "id": "f3360725-7e28-4796-887a-ff1dbf1bc0c5",
   "metadata": {},
   "outputs": [],
   "source": []
  }
 ],
 "metadata": {
  "kernelspec": {
   "display_name": "Bash",
   "language": "bash",
   "name": "bash"
  },
  "language_info": {
   "codemirror_mode": "shell",
   "file_extension": ".sh",
   "mimetype": "text/x-sh",
   "name": "bash"
  }
 },
 "nbformat": 4,
 "nbformat_minor": 5
}
