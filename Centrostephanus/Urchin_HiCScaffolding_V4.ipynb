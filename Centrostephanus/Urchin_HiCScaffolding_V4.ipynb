{
 "cells": [
  {
   "cell_type": "code",
   "execution_count": 1,
   "id": "4bfeba26-5b5d-4b5a-9ca9-1fbd82fb6219",
   "metadata": {},
   "outputs": [],
   "source": [
    "#Set Up\n",
    "WKDIR=/workspace/hraijc/HiC_trials/HiC23/NovaSeq/Crodgersii_V4\n",
    "READ1=/workspace/hraijc/HiC_trials/HiC23/NovaSeq/Urchin/Crodergsii_V3/reads/Urchin_HiC_U_R1.fq.gz\n",
    "READ2=/workspace/hraijc/HiC_trials/HiC23/NovaSeq/Urchin/Crodergsii_V3/reads/Urchin_HiC_U_R2.fq.gz\n",
    "ASSEMBLY_DIR=/workspace/hraijc/HiC_trials/HiC23/Assemblies\n",
    "TEMP=/workspace/hraijc/TEMP\n",
    "ASSEMBLY=${ASSEMBLY_DIR}/urchin_ONT_purged_prim_55.fa\n",
    "APREFIX=urchin_ONT_purged_prim_55_hic4\n",
    "\n",
    "mkdir -p $WKDIR/log\n",
    "cd $WKDIR"
   ]
  },
  {
   "cell_type": "code",
   "execution_count": 2,
   "id": "72f89c5e-2985-4c3c-b3e3-46182fbbc9cd",
   "metadata": {},
   "outputs": [
    {
     "name": "stdout",
     "output_type": "stream",
     "text": [
      "Submitted batch job 2702028\n"
     ]
    }
   ],
   "source": [
    "\n",
    "sbatch << EOF\n",
    "#!/bin/bash\n",
    "#SBATCH -J hic\n",
    "#SBATCH -o ${WKDIR}/log/%J.out\n",
    "#SBATCH -e ${WKDIR}/log/%J.err\n",
    "#SBATCH --cpus-per-task=12\n",
    "#SBATCH --mem=20G\n",
    "#SBATCH --time=88:00:00\n",
    "\n",
    "module load bwa/0.7.17\n",
    "module load samtools/1.16\n",
    "\n",
    "\n",
    "cd ${WKDIR}\n",
    "\n",
    "### Align reads with BWA. Use -5SP for Hi-C reads.#############################\n",
    "samtools faidx ${ASSEMBLY}\n",
    "bwa index ${ASSEMBLY}\n",
    "bwa mem -5SP -t12 ${ASSEMBLY} ${READ1} ${READ2} -o ${TEMP}/${APREFIX}.sam\n",
    "\n",
    "\n",
    "### Flag PCR Duplicates with SAMBLASTER #######################################\n",
    "/workspace/hraijc/git_clones/samblaster/samblaster -i ${TEMP}/${APREFIX}.sam -o ${TEMP}/${APREFIX}_marked_byread.sam\n",
    "\n",
    "\n",
    "### Remove unmmaped and non-primary aligned reads. Sort and Index bam files.###\n",
    "samtools view -S -b -h -@ 12 -F 2316 ${TEMP}/${APREFIX}_marked_byread.sam > ${TEMP}/${APREFIX}_presort_marked.bam\n",
    "samtools sort -@ 12 ${TEMP}/${APREFIX}_presort_marked.bam -o ${APREFIX}.bam\n",
    "\n",
    "### Run YAHS with contig and scaffolding error correction. ####################\n",
    "/workspace/hraijc/git_clones/yahs/yahs --no-mem-check ${ASSEMBLY} ${APREFIX}.bam -o ${APREFIX}_yahs4\n",
    "/workspace/hraijc/git_clones/yahs/yahs --no-contig-ec --no-mem-check ${ASSEMBLY} ${APREFIX}.bam -o ${APREFIX}_yahs4_noEC\n",
    "\n",
    "EOF\n",
    "\n",
    "unset ASSEMBLY\n",
    "unset APREFIX"
   ]
  },
  {
   "cell_type": "code",
   "execution_count": 5,
   "id": "0e822da4-8cd2-404f-a89b-6262cab0fcaf",
   "metadata": {},
   "outputs": [
    {
     "name": "stdout",
     "output_type": "stream",
     "text": [
      "Submitted batch job 2706109\n"
     ]
    }
   ],
   "source": [
    "### Make heatmap of YAHS output ###############################################\n",
    "cd ${WKDIR}\n",
    "\n",
    "out=${APREFIX}_yahs4 # prefix of outfiles produced by YAHS.  \n",
    "contigs=${ASSEMBLY} # need to be indexed, i.e., test.fa.gz.fai in same directory\n",
    "wkdir=${WKDIR}\n",
    "\n",
    "\n",
    "sbatch --job-name=hic_mapyahs \\\n",
    "    -o ${WKDIR}/log/%J.out \\\n",
    "    -e ${WKDIR}/log/%J.err \\\n",
    "    --cpus-per-task=8 \\\n",
    "    --mem=24G \\\n",
    "    --time=03:10:00 \\\n",
    "    --export=out=$out,contigs=$contigs,wkdir=$wkdir \\\n",
    "    /workspace/hraijc/Gitrepos/High-quality-genomes/Methods/DNase_HiC/notebooks/yahs_contactmapgen2.sh"
   ]
  },
  {
   "cell_type": "code",
   "execution_count": 3,
   "id": "51e16740-bd9b-4929-8645-5a2fd5b135f5",
   "metadata": {},
   "outputs": [
    {
     "name": "stdout",
     "output_type": "stream",
     "text": [
      "Submitted batch job 2887758\n"
     ]
    }
   ],
   "source": [
    "### Make heatmap of YAHS output ###############################################\n",
    "cd ${WKDIR}\n",
    "\n",
    "out=${APREFIX}_yahs4_noEC # prefix of outfiles produced by YAHS.  \n",
    "contigs=${ASSEMBLY} # need to be indexed, i.e., test.fa.gz.fai in same directory\n",
    "wkdir=${WKDIR}\n",
    "\n",
    "\n",
    "sbatch --job-name=hic_mapyahs \\\n",
    "    -o ${WKDIR}/log/%J.out \\\n",
    "    -e ${WKDIR}/log/%J.err \\\n",
    "    --cpus-per-task=8 \\\n",
    "    --mem=24G \\\n",
    "    --time=03:10:00 \\\n",
    "    --export=out=$out,contigs=$contigs,wkdir=$wkdir \\\n",
    "    /workspace/hraijc/Gitrepos/High-quality-genomes/Methods/DNase_HiC/notebooks/yahs_contactmapgen2.sh"
   ]
  },
  {
   "cell_type": "code",
   "execution_count": null,
   "id": "186a1925-6126-42a6-b125-5a25350e5068",
   "metadata": {},
   "outputs": [],
   "source": []
  },
  {
   "cell_type": "code",
   "execution_count": null,
   "id": "20436057-c659-4382-b3f8-50d74e9eb7ae",
   "metadata": {},
   "outputs": [],
   "source": []
  },
  {
   "cell_type": "code",
   "execution_count": 3,
   "id": "23a179c0-6110-4176-8306-7ef0a9fac807",
   "metadata": {},
   "outputs": [
    {
     "name": "stdout",
     "output_type": "stream",
     "text": [
      "java -ea -Xmx200m -cp /software/bioinformatics/BBMap-38.33/current/ jgi.AssemblyStatsWrapper format=3 in=/workspace/hraijc/HiC_trials/HiC23/Assemblies/urchin_ONT_purged_prim_55.fa,urchin_ONT_purged_prim_55_hic4_yahs4_noEC_scaffolds_final.fa,urchin_ONT_purged_prim_55_hic4_yahs4_scaffolds_final.fa format=3\n",
      "n_scaffolds\tn_contigs\tscaf_bp\tcontig_bp\tgap_pct\tscaf_N50\tscaf_L50\tctg_N50\tctg_L50\tscaf_N90\tscaf_L90\tctg_N90\tctg_L90\tscaf_max\tctg_max\tscaf_n_gt50K\tscaf_pct_gt50K\tgc_avg\tgc_std\tfilename\n",
      "351\t351\t932665333\t932665333\t0.000\t67\t4628585\t67\t4628585\t198\t1555391\t198\t1555391\t18081068\t18081068\t334\t99.944\t0.39366\t0.00451\t/powerplant/workspace/hraijc/HiC_trials/HiC23/Assemblies/urchin_ONT_purged_prim_55.fa\n",
      "43\t351\t932726933\t932665333\t0.007\t6\t49448748\t67\t4628585\t15\t34445106\t198\t1555391\t116933604\t18081068\t32\t99.967\t0.39366\t0.00631\t/powerplant/workspace/hraijc/HiC_trials/HiC23/NovaSeq/Crodgersii_V4/urchin_ONT_purged_prim_55_hic4_yahs4_noEC_scaffolds_final.fa\n",
      "69\t382\t932727933\t932665333\t0.007\t7\t43199803\t68\t4619023\t16\t34445106\t201\t1506292\t156661703\t18081068\t44\t99.938\t0.39366\t0.01054\t/powerplant/workspace/hraijc/HiC_trials/HiC23/NovaSeq/Crodgersii_V4/urchin_ONT_purged_prim_55_hic4_yahs4_scaffolds_final.fa\n"
     ]
    }
   ],
   "source": [
    "cd $WKDIR\n",
    "module load BBMap/38.33\n",
    "statswrapper.sh in=$ASSEMBLY,urchin_ONT_purged_prim_55_hic4_yahs4_noEC_scaffolds_final.fa,urchin_ONT_purged_prim_55_hic4_yahs4_scaffolds_final.fa format=3\n",
    "module unload BBMap/38.33"
   ]
  },
  {
   "cell_type": "markdown",
   "id": "32e1c3ed-46a9-46ed-8ee0-1f8d1ff9ec58",
   "metadata": {},
   "source": [
    "| n_scaffolds \t| n_contigs \t| scaf_bp \t| contig_bp \t| gap_pct \t| scaf_N50 \t| scaf_L50 \t| ctg_N50 \t| ctg_L50 \t| scaf_N90 \t| scaf_L90 \t| ctg_N90 \t| ctg_L90 \t| scaf_max \t| ctg_max \t| scaf_n_gt50K \t| scaf_pct_gt50K \t| gc_avg \t| gc_std \t| filename \t|\n",
    "|---\t|---\t|---\t|---\t|---\t|---\t|---\t|---\t|---\t|---\t|---\t|---\t|---\t|---\t|---\t|---\t|---\t|---\t|---\t|---\t|\n",
    "| 351 \t| 351 \t| 932665333 \t| 932665333 \t| 0.000 \t| 67 \t| 4628585 \t| 67 \t| 4628585 \t| 198 \t| 1555391 \t| 198 \t| 1555391 \t| 18081068 \t| 18081068 \t| 334 \t| 99.944 \t| 0.39366 \t| 0.00451 \t| /powerplant/workspace/hraijc/HiC_trials/HiC23/Assemblies/urchin_ONT_purged_prim_55.fa \t|\n",
    "| 43 \t| 351 \t| 932726933 \t| 932665333 \t| 0.007 \t| 6 \t| 49448748 \t| 67 \t| 4628585 \t| 15 \t| 34445106 \t| 198 \t| 1555391 \t| 116933604 \t| 18081068 \t| 32 \t| 99.967 \t| 0.39366 \t| 0.00631 \t| /powerplant/workspace/hraijc/HiC_trials/HiC23/NovaSeq/Crodgersii_V4/urchin_ONT_purged_prim_55_hic4_yahs4_noEC_scaffolds_final.fa \t|\n",
    "| 69 \t| 382 \t| 932727933 \t| 932665333 \t| 0.007 \t| 7 \t| 43199803 \t| 68 \t| 4619023 \t| 16 \t| 34445106 \t| 201 \t| 1506292 \t| 156661703 \t| 18081068 \t| 44 \t| 99.938 \t| 0.39366 \t| 0.01054 \t| /powerplant/workspace/hraijc/HiC_trials/HiC23/NovaSeq/Crodgersii_V4/urchin_ONT_purged_prim_55_hic4_yahs4_scaffolds_final.fa \t|\n"
   ]
  },
  {
   "cell_type": "code",
   "execution_count": null,
   "id": "efe7c842-a9c5-4947-afab-b0cb78070189",
   "metadata": {},
   "outputs": [],
   "source": []
  }
 ],
 "metadata": {
  "kernelspec": {
   "display_name": "Bash",
   "language": "bash",
   "name": "bash"
  },
  "language_info": {
   "codemirror_mode": "shell",
   "file_extension": ".sh",
   "mimetype": "text/x-sh",
   "name": "bash"
  }
 },
 "nbformat": 4,
 "nbformat_minor": 5
}
