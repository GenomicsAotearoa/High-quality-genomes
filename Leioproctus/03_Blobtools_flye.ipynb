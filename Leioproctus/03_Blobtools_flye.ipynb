{
 "cells": [
  {
   "cell_type": "markdown",
   "id": "205aefff-e08b-430c-be97-287e396aafa8",
   "metadata": {},
   "source": [
    "# Blobtools check"
   ]
  },
  {
   "cell_type": "code",
   "execution_count": 1,
   "id": "e26abd60-38ff-4206-a49a-68b4715add36",
   "metadata": {},
   "outputs": [],
   "source": [
    "WKDIR=/workspace/hraijc/Bee/BeeT/Assemblies/blobplots\n",
    "\n",
    "FLYE10=/workspace/hraijc/Bee/BeeT/Assemblies/Flye_BeeT_q10/Flye_BeeT_q10.fasta\n",
    "\n",
    "ONTREADS_Q15=/workspace/hraijc/Bee/BeeT/BeeT_ONT14_1_basecalling/fastq/BeeT_Q15.fastq\n",
    "\n",
    "ILLREAD1=/workspace/hraijc/Bee/input/Leioproctus_imitatus/popgen/NI-FR-Li-F-61-40567916_S16_L004_R1_001.clean.fastq\n",
    "ILLREAD2=/workspace/hraijc/Bee/input/Leioproctus_imitatus/popgen/NI-FR-Li-F-61-40567916_S16_L004_R2_001.clean.fastq\n",
    "\n",
    "cd ${WKDIR}"
   ]
  },
  {
   "cell_type": "code",
   "execution_count": 22,
   "id": "7731e460-2cd5-49e6-9ad6-82bd96e0ee6f",
   "metadata": {},
   "outputs": [],
   "source": [
    "mkdir -p ${WKDIR}/log\n",
    "mkdir -p ${WKDIR}/blasthits\n",
    "mkdir -p ${WKDIR}/bamfiles\n",
    "\n"
   ]
  },
  {
   "cell_type": "code",
   "execution_count": null,
   "id": "4b1cfbf0-251a-4839-af27-076a798defa2",
   "metadata": {},
   "outputs": [],
   "source": []
  },
  {
   "cell_type": "markdown",
   "id": "110f88a9-2914-4e56-b45e-8959d27dfa1b",
   "metadata": {},
   "source": [
    "## Blobtools for contam check."
   ]
  },
  {
   "cell_type": "code",
   "execution_count": 28,
   "id": "ec28be39-9a2f-49b3-bb91-7c569b4ef38f",
   "metadata": {},
   "outputs": [
    {
     "name": "stdout",
     "output_type": "stream",
     "text": [
      "Submitted batch job 1404229\n"
     ]
    }
   ],
   "source": [
    "# Create coverage files.\n",
    "sbatch << EOF\n",
    "#!/bin/bash\n",
    "#SBATCH -J minimap_samtools\n",
    "#SBATCH -o ${WKDIR}/log/%J.out\n",
    "#SBATCH -e ${WKDIR}/log/%J.err\n",
    "#SBATCH --cpus-per-task=32\n",
    "#SBATCH --mem=20G\n",
    "#SBATCH --time=11:00:00\n",
    "\n",
    "module load minimap2/2.22\n",
    "module load samtools/1.16\n",
    "\n",
    "## Map ##\n",
    "#minimap2 -t 32 -ax map-ont ${FLYE10} ${ONTREADS_Q15} > ${WKDIR}/bamfiles/BeeT_FLYE10_ONT15.sam\n",
    "\n",
    "## Sam -> bam ##\n",
    "#samtools view --threads 32 -b ${WKDIR}/bamfiles/BeeT_FLYE10_ONT15.sam > ${WKDIR}/bamfiles/BeeT_FLYE10_ONT15.bam\n",
    "\n",
    "## Sort bam ##\n",
    "samtools sort --threads 32 ${WKDIR}/bamfiles/BeeT_FLYE10_ONT15.bam > ${WKDIR}/bamfiles/BeeT_FLYE10_ONT15.sorted.bam\n",
    "\n",
    "## index bam ##\n",
    "samtools index ${WKDIR}/bamfiles/BeeT_FLYE10_ONT15.sorted.bam\n",
    "\n",
    "\n",
    "EOF\n"
   ]
  },
  {
   "cell_type": "code",
   "execution_count": 3,
   "id": "b23c203f-4e31-41ac-8cb6-e2ec650d8a79",
   "metadata": {},
   "outputs": [
    {
     "name": "stdout",
     "output_type": "stream",
     "text": [
      "Submitted batch job 1404424\n"
     ]
    }
   ],
   "source": [
    "# Coverage file of pop-gen data \n",
    "# Hopefully this has less microbial contamination than the gut sample.\n",
    "ILLREAD1=/workspace/hraijc/Bee/input/Leioproctus_imitatus/popgen/NI-FR-Li-F-61-40567916_S16_L004_R1_001.clean.fastq\n",
    "ILLREAD2=/workspace/hraijc/Bee/input/Leioproctus_imitatus/popgen/NI-FR-Li-F-61-40567916_S16_L004_R2_001.clean.fastq\n",
    "\n",
    "sbatch << EOF\n",
    "#!/bin/bash\n",
    "#SBATCH -J minimap_samtools\n",
    "#SBATCH -o ${WKDIR}/log/%J.out\n",
    "#SBATCH -e ${WKDIR}/log/%J.err\n",
    "#SBATCH --cpus-per-task=16\n",
    "#SBATCH --mem=10G\n",
    "#SBATCH --time=2:00:00\n",
    "\n",
    "module load minimap2/2.22\n",
    "module load samtools/1.16\n",
    "\n",
    "## Map ##\n",
    "minimap2 -t 16 -ax sr ${FLYE10} ${ILLREAD1} ${ILLREAD2} > ${WKDIR}/bamfiles/BeeT_FLYE10_NIFRLiF61.sam\n",
    "\n",
    "## Sam -> bam ##\n",
    "samtools view --threads 32 -b ${WKDIR}/bamfiles/BeeT_FLYE10_NIFRLiF61.sam > ${WKDIR}/bamfiles/BeeT_FLYE10_NIFRLiF61.bam\n",
    "\n",
    "## Sort bam ##\n",
    "samtools sort --threads 32 ${WKDIR}/bamfiles/BeeT_FLYE10_NIFRLiF61.bam > ${WKDIR}/bamfiles/BeeT_FLYE10_NIFRLiF61.sorted.bam\n",
    "\n",
    "## index bam ##\n",
    "samtools index ${WKDIR}/bamfiles/BeeT_FLYE10_NIFRLiF61.sorted.bam\n",
    "\n",
    "\n",
    "EOF\n",
    "\n"
   ]
  },
  {
   "cell_type": "code",
   "execution_count": 5,
   "id": "01e2ffa5-8384-4f35-ad4c-5b5c140310e3",
   "metadata": {},
   "outputs": [],
   "source": [
    "cd ${WKDIR}/bamfiles/\n",
    "mkdir sorted\n",
    "mv *.sorted.bam* sorted\n",
    "rm -rf *am\n",
    "mv sorted/* .\n",
    "rm -rf sorted/"
   ]
  },
  {
   "cell_type": "code",
   "execution_count": null,
   "id": "6798fe4a-5df4-48e6-b42c-b55dd2d7cb54",
   "metadata": {},
   "outputs": [],
   "source": []
  },
  {
   "cell_type": "code",
   "execution_count": 8,
   "id": "8a923fdd-41d3-488e-822e-c6c5bf7b21c4",
   "metadata": {},
   "outputs": [
    {
     "name": "stdout",
     "output_type": "stream",
     "text": [
      "Submitted batch job 1404123\n"
     ]
    }
   ],
   "source": [
    "# Create Blast files.\n",
    "\n",
    "\n",
    "sbatch << EOF\n",
    "#!/bin/bash\n",
    "#SBATCH -J megablast\n",
    "#SBATCH -o ${WKDIR}/log/%J.out\n",
    "#SBATCH -e ${WKDIR}/log/%J.err\n",
    "#SBATCH --cpus-per-task=32\n",
    "#SBATCH --mem=10G\n",
    "#SBATCH --time=11:00:00\n",
    "\n",
    "module load ncbi-blast/2.11.0\n",
    "\n",
    "#Flye10\n",
    "blastn \\\n",
    "-task megablast \\\n",
    "-query ${FLYE10} \\\n",
    "-db /workspace/ComparativeDataSources/NCBI/nt/nt \\\n",
    "-outfmt '6 qseqid staxids bitscore std' \\\n",
    "-max_target_seqs 1 \\\n",
    "-max_hsps 1 \\\n",
    "-num_threads 32 \\\n",
    "-evalue 1e-25 \\\n",
    "-out ${WKDIR}/blasthits/FLYE10.vs.nt.mts1.hsp1.1e25.megablast.out\n",
    "\n",
    "\n",
    "\n",
    "\n",
    "EOF\n",
    "\n"
   ]
  },
  {
   "cell_type": "code",
   "execution_count": null,
   "id": "f8ae8270-62cd-4a10-ab4a-137b1e88d905",
   "metadata": {},
   "outputs": [],
   "source": []
  },
  {
   "cell_type": "code",
   "execution_count": 3,
   "id": "e74b1fa7-2def-4be1-9506-740c21449f45",
   "metadata": {},
   "outputs": [
    {
     "name": "stdout",
     "output_type": "stream",
     "text": [
      "Submitted batch job 1404427\n"
     ]
    }
   ],
   "source": [
    "sbatch << EOF\n",
    "#!/bin/bash\n",
    "#SBATCH -J blobtools\n",
    "#SBATCH -o ${WKDIR}/log/%J.out\n",
    "#SBATCH -e ${WKDIR}/log/%J.err\n",
    "#SBATCH --cpus-per-task=2\n",
    "#SBATCH --mem=1G\n",
    "#SBATCH --time=2:00:00\n",
    "\n",
    "module load conda\n",
    "conda activate hraijc_blobtools\n",
    "/workspace/hraijc/git_clones/blobtools/blobtools --version\n",
    "\n",
    "/workspace/hraijc/git_clones/blobtools/blobtools create \\\n",
    " -i ${FLYE10} \\\n",
    " -b ${WKDIR}/bamfiles/BeeT_FLYE10_ONT15.sorted.bam \\\n",
    " -t ${WKDIR}/blasthits/FLYE10.vs.nt.mts1.hsp1.1e25.megablast.out \\\n",
    " -o ${WKDIR}/FLYE10.blobplot\n",
    "\n",
    " \n",
    " \n",
    "/workspace/hraijc/git_clones/blobtools/blobtools plot \\\n",
    " -i ${WKDIR}/FLYE10.blobplot.blobDB.json \\\n",
    " -o ${WKDIR}/FLYE10.blobplot\n",
    " \n",
    " \n",
    " \n",
    "/workspace/hraijc/git_clones/blobtools/blobtools view \\\n",
    " -i ${WKDIR}/FLYE10.blobplot.blobDB.json \\\n",
    " -o ${WKDIR}/FLYE10.blobplot\n",
    "\n",
    "\n",
    "EOF"
   ]
  },
  {
   "cell_type": "code",
   "execution_count": 2,
   "id": "eece15a5-c727-4244-82c2-31676b2c043c",
   "metadata": {},
   "outputs": [
    {
     "name": "stdout",
     "output_type": "stream",
     "text": [
      "Submitted batch job 1404425\n"
     ]
    }
   ],
   "source": [
    "#Plot popgen sample coverage.\n",
    "\n",
    "sbatch << EOF\n",
    "#!/bin/bash\n",
    "#SBATCH -J blobtools\n",
    "#SBATCH -o ${WKDIR}/log/%J.out\n",
    "#SBATCH -e ${WKDIR}/log/%J.err\n",
    "#SBATCH --cpus-per-task=2\n",
    "#SBATCH --mem=1G\n",
    "#SBATCH --time=1:00:00\n",
    "\n",
    "\n",
    "module load conda\n",
    "conda activate hraijc_blobtools\n",
    "\n",
    "/workspace/hraijc/git_clones/blobtools/blobtools create \\\n",
    " -i ${FLYE10} \\\n",
    " -b ${WKDIR}/bamfiles/BeeT_FLYE10_NIFRLiF61.sorted.bam \\\n",
    " -t ${WKDIR}/blasthits/FLYE10.vs.nt.mts1.hsp1.1e25.megablast.out \\\n",
    " -o ${WKDIR}/BeeT_FLYE10_NIFRLiF61.blobplot\n",
    "\n",
    "/workspace/hraijc/git_clones/blobtools/blobtools plot \\\n",
    " -i ${WKDIR}/BeeT_FLYE10_NIFRLiF61.blobplot.blobDB.json \\\n",
    " -o ${WKDIR}/BeeT_FLYE10_NIFRLiF61.blobplot\n",
    "\n",
    "/workspace/hraijc/git_clones/blobtools/blobtools view \\\n",
    " -i ${WKDIR}/BeeT_FLYE10_NIFRLiF61.blobplot.blobDB.json \\\n",
    " -o ${WKDIR}/BeeT_FLYE10_NIFRLiF61.blobplot\n",
    " \n",
    "EOF"
   ]
  },
  {
   "cell_type": "code",
   "execution_count": 1,
   "id": "7e946d70-c388-48f6-ae1a-05757f28672e",
   "metadata": {},
   "outputs": [],
   "source": [
    "# CP blobplot to github img folder.\n",
    "cp /workspace/hraijc/Bee/BeeT/Assemblies/blobplots/BeeT_FLYE10_NIFRLiF61.blobplot.BeeT_FLYE10_NIFRLiF61.blobplot.blobDB.json.bestsum.phylum.p8.span.100.blobplot.bam0.png /workspace/hraijc/Gitrepos/High-quality-genomes/Leioproctus/img/BeeT_FLYE10_NIFRLiF61.blobplot.png"
   ]
  },
  {
   "cell_type": "code",
   "execution_count": null,
   "id": "e99434c9-8604-4b21-b4b9-0a60475c07cb",
   "metadata": {},
   "outputs": [],
   "source": []
  },
  {
   "cell_type": "code",
   "execution_count": null,
   "id": "7ba3f36a-6727-455c-8d18-529f7b1d2591",
   "metadata": {},
   "outputs": [],
   "source": []
  },
  {
   "cell_type": "code",
   "execution_count": null,
   "id": "39f05fab-75df-494e-b02c-9a34c8b2355f",
   "metadata": {},
   "outputs": [],
   "source": []
  }
 ],
 "metadata": {
  "kernelspec": {
   "display_name": "Bash",
   "language": "bash",
   "name": "bash"
  },
  "language_info": {
   "codemirror_mode": "shell",
   "file_extension": ".sh",
   "mimetype": "text/x-sh",
   "name": "bash"
  }
 },
 "nbformat": 4,
 "nbformat_minor": 5
}
