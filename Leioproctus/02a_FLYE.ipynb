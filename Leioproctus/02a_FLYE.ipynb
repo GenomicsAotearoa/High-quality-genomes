{
 "cells": [
  {
   "cell_type": "markdown",
   "id": "bb5e792e-1d8c-4115-b83a-d1491b307648",
   "metadata": {},
   "source": [
    "# Trialing FLYE on a few subsets for BeeT sample. "
   ]
  },
  {
   "cell_type": "code",
   "execution_count": 6,
   "id": "c1a4c47a-e4c9-47f3-bb7d-dcba0642705f",
   "metadata": {},
   "outputs": [],
   "source": [
    "WKDIR=/workspace/hraijc/Bee/BeeT/Assemblies\n",
    "ONTREADS_Q10=/workspace/hraijc/Bee/BeeT/BeeT_ONT14_1_basecalling/fastq/BeeT_Q10.fastq\n",
    "ONTREADS_Q15=/workspace/hraijc/Bee/BeeT/BeeT_ONT14_1_basecalling/fastq/BeeT_Q15.fastq\n",
    "ONTREADS_Q20=/workspace/hraijc/Bee/BeeT/BeeT_ONT14_1_basecalling/fastq/BeeT_Q20.fastq\n"
   ]
  },
  {
   "cell_type": "code",
   "execution_count": 7,
   "id": "a0ea1f7c-b166-4cc4-9437-5a36e5462a9c",
   "metadata": {},
   "outputs": [],
   "source": [
    "mkdir -p $WKDIR/log"
   ]
  },
  {
   "cell_type": "code",
   "execution_count": 4,
   "id": "a0909490-7edd-4492-b6f7-e618417993a3",
   "metadata": {},
   "outputs": [
    {
     "name": "stdout",
     "output_type": "stream",
     "text": [
      "2.9.2-b1794\n"
     ]
    }
   ],
   "source": [
    "module load conda\n",
    "conda activate hraijc_flye\n",
    "python /workspace/hraijc/git_clones/Flye/bin/flye -v"
   ]
  },
  {
   "cell_type": "code",
   "execution_count": 5,
   "id": "2e87ba40-7742-492d-85ef-cda3fb8225b4",
   "metadata": {},
   "outputs": [],
   "source": [
    "#python /workspace/hraijc/git_clones/Flye/bin/flye -h"
   ]
  },
  {
   "cell_type": "markdown",
   "id": "dd259e2c-bea5-4ffa-9342-5b9f762a0f7d",
   "metadata": {},
   "source": [
    "## From FLYE Site\n",
    "- For the most recent ONT data basecalled with Guppy5+ SUP use the new --nano-hq mode. Expected error rate is <5% (Q13)\n",
    "\n",
    "- For Q20 data, use a combination of --nano-hq and --read-error 0.03.(Q15)\n",
    "\n",
    "|      Genome      \t|       Data      \t| Asm.Size \t|   NG50  \t| CPU time \t|   RAM  \t|\n",
    "|:----------------:\t|:---------------:\t|:--------:\t|:-------:\t|:--------:\t|:------:\t|\n",
    "| E.coli           \t| PB 50x          \t| 4.6 Mb   \t| 4.6 Mb  \t| 2 h      \t| 2 Gb   \t|\n",
    "| C.elegans        \t| PB 40x          \t| 107 Mb   \t| 2.7 Mb  \t| 100 h    \t| 31 Gb  \t|\n",
    "| A.thaliana       \t| PB 75x          \t| 120 Mb   \t| 8.7 Mb  \t| 100 h    \t| 59 Gb  \t|\n",
    "| D.melanogaster   \t| ONT 30x         \t| 136 Mb   \t| 13.8 Mb \t| 130 h    \t| 33 Gb  \t|\n",
    "| D.melanogaster   \t| PB 120x         \t| 141 Mb   \t| 11.5 Mb \t| 150 h    \t| 70 Gb  \t|\n",
    "| Human NA12878    \t| ONT 35x (rel6)  \t| 2.8 Gb   \t| 30.3 Mb \t| 3100 h   \t| 394 Gb \t|\n",
    "| Human CHM13 ONT  \t| ONT 120x (rel5) \t| 2.9 Gb   \t| 69.5 Mb \t| 4000 h   \t| 450 Gb \t|\n",
    "| Human CHM13 HiFi \t| PB HiFi 30x     \t| 3.0 Gb   \t| 34.8 Mb \t| 780 h    \t| 141 Gb \t|\n",
    "| Human HG002      \t| PB ONT 110x     \t| 2.9 Gb   \t| 46.9 Mb \t| 4000 h   \t| 409 Gb \t|\n",
    "| Human CHM1       \t| PB 100x         \t| 2.8 Gb   \t| 18.6 Mb \t| 2700 h   \t| 444 Gb \t|\n",
    "| Cliveome Q20     \t| ONT 35x         \t| 3.0 Gb   \t| 46.5 Mb \t| 2000 h   \t| 257 Gb \t|\n",
    "| HMP mock         \t| PB meta 7 Gb    \t| 68 Mb    \t| N/A     \t| 60 h     \t| 72 Gb  \t|\n",
    "| Zymo Even        \t| ONT meta 14 Gb  \t| 65 Mb    \t| N/A     \t| 60 h     \t| 129 Gb \t|\n",
    "| Zymo Log         \t| ONT meta 16 Gb  \t| 29 Mb    \t| N/A     \t| 100 h    \t| 76 Gb  \t|\n",
    "| Sheep gut        \t| HiFi meta 255G  \t| 4.2 Gb   \t| N/A     \t| 3500 h   \t| 662 Gb \t|"
   ]
  },
  {
   "cell_type": "markdown",
   "id": "845aaa70-f63d-4f70-941d-9b5d234fd08c",
   "metadata": {},
   "source": [
    "## BeeT subsets\n",
    "\n",
    "| file               \t| format \t| type \t| num_seqs  \t| sum_len        \t| min_len \t| avg_len  \t| max_len \t| Cov \t|\n",
    "|--------------------\t|--------\t|------\t|-----------\t|----------------\t|---------\t|----------\t|---------\t|-----\t|\n",
    "| BeeT_all.fastq     \t| FASTQ  \t| DNA  \t| 7,421,057 \t| 23,414,422,118 \t| 5       \t| 3,155.1  \t| 875,881 \t| 93  \t|\n",
    "| BeeT_Q10.fastq     \t| FASTQ  \t| DNA  \t| 6,396,748 \t| 20,555,038,801 \t| 5       \t| 3,213.4  \t| 297,692 \t| 82  \t|\n",
    "| BeeT_Q20.fastq     \t| FASTQ  \t| DNA  \t| 251,705   \t| 1,225,520,236  \t| 7       \t| 4,868.9  \t| 90,177  \t| 4.9 \t|\n",
    "| BeeT_Q10L10k.fastq \t| FASTQ  \t| DNA  \t| 423,974   \t| 7,233,587,695  \t| 10,000  \t| 17,061.4 \t| 297,692 \t| 29  \t|\n",
    "| BeeT_Q15.fastq     \t| FASTQ  \t| DNA  \t| 3,651,868 \t| 14,914,358,713 \t| 5       \t| 4,084    \t| 170,427 \t| 60  \t|\n",
    "| BeeT_Q18.fastq     \t| FASTQ  \t| DNA  \t| 1,000,226 \t| 5,319,026,047  \t| 7       \t| 5,317.8  \t| 111,791 \t| 21  \t|\n",
    "| BeeT_Q10L2k.fastq  \t| FASTQ  \t| DNA  \t| 2,828,085 \t| 17,914,783,173 \t| 2,000   \t| 6,334.6  \t| 297,692 \t| 71  \t|\n",
    "| BeeT_Q15L2k.fastq  \t| FASTQ  \t| DNA  \t| 2,101,275 \t| 13,496,914,746 \t| 2,000   \t| 6,423.2  \t| 170,427 \t| 54  \t|\n",
    "| BeeT_Q18L2k.fastq  \t| FASTQ  \t| DNA  \t| 730,203   \t| 5,009,927,952  \t| 2,000   \t| 6,861    \t| 111,791 \t| 20  \t|\n",
    "| BeeT_Q20L2k.fastq  \t| FASTQ  \t| DNA  \t| 179,368   \t| 1,137,907,479  \t| 2,000   \t| 6,344    \t| 90,177  \t| 4.5 \t|"
   ]
  },
  {
   "cell_type": "code",
   "execution_count": 8,
   "id": "787702b7-03d9-4726-ba6c-b71d1cfb9507",
   "metadata": {},
   "outputs": [
    {
     "name": "stdout",
     "output_type": "stream",
     "text": [
      "Submitted batch job 1402900\n"
     ]
    }
   ],
   "source": [
    "#Q10 FLYE\n",
    "sbatch << EOF\n",
    "#!/bin/bash\n",
    "#SBATCH -J Flye10\n",
    "#SBATCH --cpus-per-task=16\n",
    "#SBATCH --mem=80G\n",
    "#SBATCH --time=22:00:00\n",
    "#SBATCH -o ${WKDIR}/log/%J.out\n",
    "#SBATCH -e ${WKDIR}/log/%J.err\n",
    "\n",
    "\n",
    "cd $WKDIR\n",
    "\n",
    "python /workspace/hraijc/git_clones/Flye/bin/flye \\\n",
    "--nano-hq ${ONTREADS_Q10} \\\n",
    "--out-dir ${WKDIR}/Flye_BeeT_q10 \\\n",
    "--genome-size 250m --threads 16 --iterations 2\n",
    "\n",
    "\n",
    "EOF"
   ]
  },
  {
   "cell_type": "code",
   "execution_count": 9,
   "id": "e3d4e251-baf2-49a1-99ad-c4f41112304d",
   "metadata": {},
   "outputs": [
    {
     "name": "stdout",
     "output_type": "stream",
     "text": [
      "Submitted batch job 1402907\n"
     ]
    }
   ],
   "source": [
    "#Q15 FLYE\n",
    "sbatch << EOF\n",
    "#!/bin/bash\n",
    "#SBATCH -J Flye15\n",
    "#SBATCH --cpus-per-task=16\n",
    "#SBATCH --mem=50G\n",
    "#SBATCH --time=22:00:00\n",
    "#SBATCH -o ${WKDIR}/log/%J.out\n",
    "#SBATCH -e ${WKDIR}/log/%J.err\n",
    "\n",
    "\n",
    "cd $WKDIR\n",
    "\n",
    "python /workspace/hraijc/git_clones/Flye/bin/flye \\\n",
    "--nano-hq ${ONTREADS_Q15} \\\n",
    "--read-error 0.03 \\\n",
    "--out-dir ${WKDIR}/Flye_BeeT_q15 \\\n",
    "--genome-size 250m --threads 16 --iterations 2\n",
    "\n",
    "\n",
    "EOF"
   ]
  },
  {
   "cell_type": "code",
   "execution_count": 10,
   "id": "5b1efdd4-35f5-4f33-b90f-11dbe5cbae4c",
   "metadata": {},
   "outputs": [
    {
     "name": "stdout",
     "output_type": "stream",
     "text": [
      "Submitted batch job 1402915\n"
     ]
    }
   ],
   "source": [
    "#Q20 FLYE\n",
    "sbatch << EOF\n",
    "#!/bin/bash\n",
    "#SBATCH -J Flye20\n",
    "#SBATCH --cpus-per-task=16\n",
    "#SBATCH --mem=30G\n",
    "#SBATCH --time=22:00:00\n",
    "#SBATCH -o ${WKDIR}/log/%J.out\n",
    "#SBATCH -e ${WKDIR}/log/%J.err\n",
    "\n",
    "\n",
    "cd $WKDIR\n",
    "\n",
    "python /workspace/hraijc/git_clones/Flye/bin/flye \\\n",
    "--nano-hq ${ONTREADS_Q20} \\\n",
    "--read-error 0.01 \\\n",
    "--out-dir ${WKDIR}/Flye_BeeT_q20 \\\n",
    "--genome-size 250m --threads 16 --iterations 2\n",
    "\n",
    "\n",
    "EOF"
   ]
  },
  {
   "cell_type": "code",
   "execution_count": 1,
   "id": "df3ad6d0-2430-4d14-ade0-25e4f5e9ee8e",
   "metadata": {},
   "outputs": [],
   "source": [
    "#Rename outputs\n",
    "mv /workspace/hraijc/Bee/BeeT/Assemblies/Flye_BeeT_q15/assembly.fasta /workspace/hraijc/Bee/BeeT/Assemblies/Flye_BeeT_q15/Flye_BeeT_q15.fasta\n",
    "mv /workspace/hraijc/Bee/BeeT/Assemblies/Flye_BeeT_q10/assembly.fasta /workspace/hraijc/Bee/BeeT/Assemblies/Flye_BeeT_q10/Flye_BeeT_q10.fasta"
   ]
  },
  {
   "cell_type": "code",
   "execution_count": null,
   "id": "1c50fa4c-0427-45e3-b4e1-3136bf40b783",
   "metadata": {},
   "outputs": [],
   "source": []
  }
 ],
 "metadata": {
  "kernelspec": {
   "display_name": "Bash",
   "language": "bash",
   "name": "bash"
  },
  "language_info": {
   "codemirror_mode": "shell",
   "file_extension": ".sh",
   "mimetype": "text/x-sh",
   "name": "bash"
  }
 },
 "nbformat": 4,
 "nbformat_minor": 5
}
