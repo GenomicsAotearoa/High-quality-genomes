{
 "cells": [
  {
   "cell_type": "markdown",
   "id": "ef5560b3-c3c5-4b6c-88a6-7003b6091755",
   "metadata": {},
   "source": [
    "## Denovo M7 FLYE assemblies using different subsets of data"
   ]
  },
  {
   "cell_type": "code",
   "execution_count": 2,
   "id": "c9e487dc-9047-4941-8cfd-3d20fb679a88",
   "metadata": {},
   "outputs": [],
   "source": [
    "WKDIR=/workspace/hraijc/Bee/\n",
    "ONTREADS=/workspace/hraijc/Bee/input/Leioproctus_imitatus/ONT/Bee_ONT_M1F2.fastq\n",
    "ILLREADS=/workspace/hraijc/Bee/input/Leioproctus_imitatus/popgen/"
   ]
  },
  {
   "cell_type": "code",
   "execution_count": 2,
   "id": "32a01cc2-69be-4089-bea9-57d5ff1387c4",
   "metadata": {},
   "outputs": [],
   "source": [
    "mkdir $WKDIR/log"
   ]
  },
  {
   "cell_type": "code",
   "execution_count": 3,
   "id": "b0de50b9-621c-4599-bbe7-cccd55061222",
   "metadata": {},
   "outputs": [],
   "source": [
    "module load conda\n",
    "conda activate hraijc_flye\n",
    "python /workspace/hraijc/git_clones/Flye/bin/flye -v"
   ]
  },
  {
   "cell_type": "code",
   "execution_count": 4,
   "id": "7a8e5c32-3982-48a4-81b2-535927a6d6ed",
   "metadata": {},
   "outputs": [
    {
     "name": "stdout",
     "output_type": "stream",
     "text": [
      "2.9.2-b1794\n"
     ]
    }
   ],
   "source": [
    "python /workspace/hraijc/git_clones/Flye/bin/flye -v"
   ]
  },
  {
   "cell_type": "code",
   "execution_count": 5,
   "id": "51c034c5-8042-4040-82a3-1e2e7bf12d58",
   "metadata": {},
   "outputs": [
    {
     "name": "stdout",
     "output_type": "stream",
     "text": [
      "usage: flye (--pacbio-raw | --pacbio-corr | --pacbio-hifi | --nano-raw |\n",
      "\t     --nano-corr | --nano-hq ) file1 [file_2 ...]\n",
      "\t     --out-dir PATH\n",
      "\n",
      "\t     [--genome-size SIZE] [--threads int] [--iterations int]\n",
      "\t     [--meta] [--polish-target] [--min-overlap SIZE]\n",
      "\t     [--keep-haplotypes] [--debug] [--version] [--help] \n",
      "\t     [--scaffold] [--resume] [--resume-from] [--stop-after] \n",
      "\t     [--read-error float] [--extra-params] \n",
      "\t     [--deterministic]\n",
      "\n",
      "Assembly of long reads with repeat graphs\n",
      "\n",
      "optional arguments:\n",
      "  -h, --help            show this help message and exit\n",
      "  --pacbio-raw path [path ...]\n",
      "                        PacBio regular CLR reads (<20% error)\n",
      "  --pacbio-corr path [path ...]\n",
      "                        PacBio reads that were corrected with other methods\n",
      "                        (<3% error)\n",
      "  --pacbio-hifi path [path ...]\n",
      "                        PacBio HiFi reads (<1% error)\n",
      "  --nano-raw path [path ...]\n",
      "                        ONT regular reads, pre-Guppy5 (<20% error)\n",
      "  --nano-corr path [path ...]\n",
      "                        ONT reads that were corrected with other methods (<3%\n",
      "                        error)\n",
      "  --nano-hq path [path ...]\n",
      "                        ONT high-quality reads: Guppy5+ SUP or Q20 (<5% error)\n",
      "  --subassemblies path [path ...]\n",
      "                        [deprecated] high-quality contigs input\n",
      "  -g size, --genome-size size\n",
      "                        estimated genome size (for example, 5m or 2.6g)\n",
      "  -o path, --out-dir path\n",
      "                        Output directory\n",
      "  -t int, --threads int\n",
      "                        number of parallel threads [1]\n",
      "  -i int, --iterations int\n",
      "                        number of polishing iterations [1]\n",
      "  -m int, --min-overlap int\n",
      "                        minimum overlap between reads [auto]\n",
      "  --asm-coverage int    reduced coverage for initial disjointig assembly [not\n",
      "                        set]\n",
      "  --hifi-error float    [deprecated] same as --read-error\n",
      "  --read-error float    adjust parameters for given read error rate (as\n",
      "                        fraction e.g. 0.03)\n",
      "  --extra-params extra_params\n",
      "                        extra configuration parameters list (comma-separated)\n",
      "  --plasmids            unused (retained for backward compatibility)\n",
      "  --meta                metagenome / uneven coverage mode\n",
      "  --keep-haplotypes     do not collapse alternative haplotypes\n",
      "  --no-alt-contigs      do not output contigs representing alternative\n",
      "                        haplotypes\n",
      "  --scaffold            enable scaffolding using graph [disabled by default]\n",
      "  --trestle             [deprecated] enable Trestle [disabled by default]\n",
      "  --polish-target path  run polisher on the target sequence\n",
      "  --resume              resume from the last completed stage\n",
      "  --resume-from stage_name\n",
      "                        resume from a custom stage\n",
      "  --stop-after stage_name\n",
      "                        stop after the specified stage completed\n",
      "  --debug               enable debug output\n",
      "  -v, --version         show program's version number and exit\n",
      "  --deterministic       perform disjointig assembly single-threaded\n",
      "\n",
      "Input reads can be in FASTA or FASTQ format, uncompressed\n",
      "or compressed with gz. Currently, PacBio (CLR, HiFi, corrected)\n",
      "and ONT reads (regular, HQ, corrected) are supported. Expected error rates are\n",
      "<15% for PB CLR/regular ONT; <5% for ONT HQ, <3% for corrected, and <1% for HiFi. Note that Flye\n",
      "was primarily developed to run on uncorrected reads. You may specify multiple\n",
      "files with reads (separated by spaces). Mixing different read\n",
      "types is not yet supported. The --meta option enables the mode\n",
      "for metagenome/uneven coverage assembly.\n",
      "\n",
      "To reduce memory consumption for large genome assemblies,\n",
      "you can use a subset of the longest reads for initial disjointig\n",
      "assembly by specifying --asm-coverage and --genome-size options. Typically,\n",
      "40x coverage is enough to produce good disjointigs.\n",
      "\n",
      "You can run Flye polisher as a standalone tool using\n",
      "--polish-target option.\n"
     ]
    }
   ],
   "source": [
    "python /workspace/hraijc/git_clones/Flye/bin/flye -h"
   ]
  },
  {
   "cell_type": "code",
   "execution_count": 5,
   "id": "189e4f32-130f-4552-a9f7-e4017d9023eb",
   "metadata": {},
   "outputs": [
    {
     "name": "stdout",
     "output_type": "stream",
     "text": [
      "(/workspace/appscratch/miniconda/hraijc_flye) (/workspace/appscratch/miniconda/hraijc_flye) (/workspace/appscratch/miniconda/hraijc_flye) "
     ]
    },
    {
     "ename": "",
     "evalue": "1",
     "output_type": "error",
     "traceback": []
    }
   ],
   "source": [
    "##FLYE MANUAL:\n",
    "#For the most recent ONT data basecalled with Guppy5+ SUP use the new --nano-hq mode. Expected error rate is <5%.\n",
    "#For Q20 data, use a combination of --nano-hq and --read-error 0.03."
   ]
  },
  {
   "cell_type": "code",
   "execution_count": 16,
   "id": "5d547958-c5be-431b-8a81-977c18994530",
   "metadata": {},
   "outputs": [
    {
     "name": "stdout",
     "output_type": "stream",
     "text": [
      "Submitted batch job 1360231\n"
     ]
    }
   ],
   "source": [
    "#module load conda\n",
    "#conda activate hraijc_flye\n",
    "\n",
    "#Assemble ONT test runs. ~5x coverage\n",
    "sbatch << EOF\n",
    "#!/bin/bash\n",
    "#SBATCH -J Flye\n",
    "#SBATCH --cpus-per-task=16\n",
    "#SBATCH --mem=20G\n",
    "#SBATCH --time=12:00:00\n",
    "#SBATCH -o ${WKDIR}/log/%J.out\n",
    "#SBATCH -e ${WKDIR}/log/%J.err\n",
    "\n",
    "\n",
    "cd $WKDIR\n",
    "\n",
    "\n",
    "\n",
    "python /workspace/hraijc/git_clones/Flye/bin/flye --nano-raw /workspace/hraijc/Bee/input/Leioproctus_imitatus/ONT/Bee_ONT_M1F2.fastq --out-dir /workspace/hraijc/Bee/ONT_Test1 --genome-size 200m --threads 16 --iterations 2\n",
    "\n",
    "\n",
    "EOF"
   ]
  },
  {
   "cell_type": "code",
   "execution_count": 9,
   "id": "14732117-0b94-418a-b202-2d4d0e5c292d",
   "metadata": {},
   "outputs": [
    {
     "name": "stdout",
     "output_type": "stream",
     "text": [
      "(/workspace/appscratch/miniconda/hraijc_flye) "
     ]
    },
    {
     "ename": "",
     "evalue": "1",
     "output_type": "error",
     "traceback": []
    }
   ],
   "source": [
    "module unload conda"
   ]
  },
  {
   "cell_type": "raw",
   "id": "0fb152a7-5ca4-4bc6-964c-e16c3b86761d",
   "metadata": {},
   "source": [
    "Total length:    5223673\n",
    "    Fragments:    593\n",
    "    Fragments N50:    12626\n",
    "    Largest frg:    59836\n",
    "    Scaffolds:    0\n",
    "    Mean coverage:    9"
   ]
  },
  {
   "cell_type": "markdown",
   "id": "fd6080d5-6e8a-4bc7-82c0-692ab65ddca1",
   "metadata": {},
   "source": [
    "### Assemble with Illumina Data from PopGen work."
   ]
  },
  {
   "cell_type": "code",
   "execution_count": 2,
   "id": "bfe8620d-a227-438e-9d74-4992659c64cc",
   "metadata": {},
   "outputs": [],
   "source": [
    "FLYE_T1=/workspace/hraijc/Bee/ONT_Test1/assembly.fasta\n",
    "I1=${ILLREADS}/NI-FR-Li-F-61-40567916_S16_L004_R1_001.clean.fastq.gz \n",
    "I2=${ILLREADS}/NI-FR-Li-F-61-40567916_S16_L004_R2_001.clean.fastq.gz\n",
    "WKDIR=/workspace/hraijc/Bee/\n",
    "ONTREADS=/workspace/hraijc/Bee/input/Leioproctus_imitatus/ONT/Bee_ONT_M1F2.fastq\n"
   ]
  },
  {
   "cell_type": "code",
   "execution_count": 2,
   "id": "f07ee011-6615-4ddd-8f74-6766a0f40938",
   "metadata": {},
   "outputs": [],
   "source": [
    "module load fastp"
   ]
  },
  {
   "cell_type": "code",
   "execution_count": 18,
   "id": "d0de3d35-f450-4515-8dd9-1679885c140b",
   "metadata": {},
   "outputs": [
    {
     "name": "stdout",
     "output_type": "stream",
     "text": [
      "Submitted batch job 1360263\n"
     ]
    }
   ],
   "source": [
    "\n",
    "#CleanReads\n",
    "sbatch << EOF\n",
    "#!/bin/bash\n",
    "#SBATCH -J fastp\n",
    "#SBATCH --cpus-per-task=1\n",
    "#SBATCH --mem=2G\n",
    "#SBATCH --time=2:00:00\n",
    "#SBATCH -o ${WKDIR}/log/%J.out\n",
    "#SBATCH -e ${WKDIR}/log/%J.err\n",
    "\n",
    "\n",
    "cd $WKDIR\n",
    "module load fastp\n",
    "\n",
    "\n",
    "fastp -i ${ILLREADS}/NI-FR-Li-F-61-40567916_S16_L004_R1_001.fastq.gz -I ${ILLREADS}/NI-FR-Li-F-61-40567916_S16_L004_R2_001.fastq.gz -o ${ILLREADS}/NI-FR-Li-F-61-40567916_S16_L004_R1_001.clean.fastq.gz -O ${ILLREADS}/NI-FR-Li-F-61-40567916_S16_L004_R2_001.clean.fastq.gz\n",
    "\n",
    "\n",
    "EOF"
   ]
  },
  {
   "cell_type": "code",
   "execution_count": 3,
   "id": "aa241b17-b904-4319-843e-236e0d50bf84",
   "metadata": {},
   "outputs": [],
   "source": [
    "#### SPADES\n",
    "module load SPAdes/3.15.4 "
   ]
  },
  {
   "cell_type": "code",
   "execution_count": 32,
   "id": "d3d37d96-84fc-41d5-bee9-e83e44324899",
   "metadata": {},
   "outputs": [],
   "source": [
    "#spades.py -h"
   ]
  },
  {
   "cell_type": "code",
   "execution_count": 6,
   "id": "5ee60560-2df1-4984-960f-7aa4520dc493",
   "metadata": {},
   "outputs": [
    {
     "name": "stdout",
     "output_type": "stream",
     "text": [
      "Submitted batch job 1360751\n"
     ]
    }
   ],
   "source": [
    "#Spades on Illumina data only\n",
    "sbatch << EOF\n",
    "#!/bin/bash\n",
    "#SBATCH -J Spades\n",
    "#SBATCH --cpus-per-task=16\n",
    "#SBATCH --mem=20G\n",
    "#SBATCH --time=12:00:00\n",
    "#SBATCH -o ${WKDIR}/log/%J.out\n",
    "#SBATCH -e ${WKDIR}/log/%J.err\n",
    "\n",
    "\n",
    "cd $WKDIR\n",
    "\n",
    "module load SPAdes/3.15.4 \n",
    "\n",
    "#spades.py -k 21,33,55,77 --careful -1 ${I1} -2 ${I2} -o ${WKDIR}/spades_output\n",
    "spades.py --continue -o ${WKDIR}/spades_output\n",
    "\n",
    "\n",
    "EOF\n",
    "\n"
   ]
  },
  {
   "cell_type": "code",
   "execution_count": 3,
   "id": "509def25-0eb8-4506-832f-cb8d01e2a9d0",
   "metadata": {},
   "outputs": [
    {
     "name": "stdout",
     "output_type": "stream",
     "text": [
      "Submitted batch job 1403001\n"
     ]
    }
   ],
   "source": [
    "#Spades on Illumina data and ONT Data\n",
    "sbatch << EOF\n",
    "#!/bin/bash\n",
    "#SBATCH -J Spades\n",
    "#SBATCH --cpus-per-task=16\n",
    "#SBATCH --mem=20G\n",
    "#SBATCH --time=22:00:00\n",
    "#SBATCH -o ${WKDIR}/log/%J.out\n",
    "#SBATCH -e ${WKDIR}/log/%J.err\n",
    "\n",
    "\n",
    "cd $WKDIR\n",
    "\n",
    "module load SPAdes/3.15.4 \n",
    "\n",
    "#spades.py -k 21,33,55,77 --continue --careful -1 ${I1} -2 ${I2} --nanopore ${ONTREADS} -o ${WKDIR}/spades_output_ONT\n",
    "spades.py --continue -o ${WKDIR}/spades_output_ONT\n",
    "\n",
    "EOF\n",
    "\n"
   ]
  },
  {
   "cell_type": "code",
   "execution_count": 1,
   "id": "1169a1c0-90df-4198-91b6-f619f8c3630e",
   "metadata": {},
   "outputs": [
    {
     "name": "stdout",
     "output_type": "stream",
     "text": [
      "Job ID: 1360752\n",
      "Cluster: powerplant\n",
      "User/Group: hraijc/hraijc\n",
      "State: TIMEOUT (exit code 0)\n",
      "Nodes: 1\n",
      "Cores per node: 16\n",
      "CPU Utilized: 01:21:34\n",
      "CPU Efficiency: 0.71% of 8-00:04:32 core-walltime\n",
      "Job Wall-clock time: 12:00:17\n",
      "Memory Utilized: 3.07 GB\n",
      "Memory Efficiency: 15.34% of 20.00 GB\n"
     ]
    }
   ],
   "source": [
    "seff 1360752\n"
   ]
  },
  {
   "cell_type": "code",
   "execution_count": null,
   "id": "9de57757-4a86-471f-8016-893b6e6f7ebb",
   "metadata": {},
   "outputs": [],
   "source": []
  },
  {
   "cell_type": "code",
   "execution_count": null,
   "id": "6c368bc2-2468-4dc9-9dcf-5237a664b99a",
   "metadata": {},
   "outputs": [],
   "source": []
  },
  {
   "cell_type": "code",
   "execution_count": null,
   "id": "e7766aa4-c04b-4a93-9180-cc178e938175",
   "metadata": {},
   "outputs": [],
   "source": []
  },
  {
   "cell_type": "code",
   "execution_count": null,
   "id": "1f23529d-d1f1-43c5-afcb-afd684f153c0",
   "metadata": {},
   "outputs": [],
   "source": []
  },
  {
   "cell_type": "code",
   "execution_count": 27,
   "id": "af4f051c-e03d-4b6e-8428-0b28794abb54",
   "metadata": {},
   "outputs": [
    {
     "name": "stdout",
     "output_type": "stream",
     "text": [
      "java -ea -Xmx200m -cp /software/bioinformatics/BBMap-38.33/current/ jgi.AssemblyStatsWrapper format=3 in=/workspace/hraijc/Bee/ONT_Test1/assembly.fasta format=3\n",
      "n_scaffolds\tn_contigs\tscaf_bp\tcontig_bp\tgap_pct\tscaf_N50\tscaf_L50\tctg_N50\tctg_L50\tscaf_N90\tscaf_L90\tctg_N90\tctg_L90\tscaf_max\tctg_max\tscaf_n_gt50K\tscaf_pct_gt50K\tgc_avg\tgc_std\tfilename\n",
      "593\t593\t5223673\t5223673\t0.000\t131\t12626\t131\t12626\t375\t4855\t375\t4855\t59836\t59836\t1\t1.145\t0.36344\t0.05878\t/powerplant/workspace/hraijc/Bee/ONT_Test1/assembly.fasta\n"
     ]
    }
   ],
   "source": [
    "module load BBMap/38.33\n",
    "statswrapper.sh in=$FLYE_T1 format=3\n",
    "module unload BBMap/38.33"
   ]
  },
  {
   "cell_type": "code",
   "execution_count": 29,
   "id": "1ac3798b-dde3-4ffb-9e13-0cf5d5516932",
   "metadata": {},
   "outputs": [
    {
     "name": "stdout",
     "output_type": "stream",
     "text": [
      "Submitted batch job 1360293\n"
     ]
    }
   ],
   "source": [
    "#module load conda\n",
    "#conda activate hraijc_flye\n",
    "\n",
    "#Assemble ONT test runs. ~5x coverage\n",
    "sbatch << EOF\n",
    "#!/bin/bash\n",
    "#SBATCH -J Busco\n",
    "#SBATCH --cpus-per-task=12\n",
    "#SBATCH --mem=2G\n",
    "#SBATCH --time=2:00:00\n",
    "#SBATCH -o ${WKDIR}/log/%J.out\n",
    "#SBATCH -e ${WKDIR}/log/%J.err\n",
    "\n",
    "\n",
    "cd $WKDIR\n",
    "module load BUSCO/v5.2.2\n",
    "\n",
    "\n",
    "busco -i $FLYE_T1 -l insecta -o Bee_ONT_Test1 -m geno -c 12 --datasets_version odb10\n",
    "\n",
    "\n",
    "EOF"
   ]
  },
  {
   "cell_type": "code",
   "execution_count": null,
   "id": "005ca15d-4a9f-49f6-befe-3394592d23ea",
   "metadata": {},
   "outputs": [],
   "source": []
  }
 ],
 "metadata": {
  "kernelspec": {
   "display_name": "Bash",
   "language": "bash",
   "name": "bash"
  },
  "language_info": {
   "codemirror_mode": "shell",
   "file_extension": ".sh",
   "mimetype": "text/x-sh",
   "name": "bash"
  }
 },
 "nbformat": 4,
 "nbformat_minor": 5
}
