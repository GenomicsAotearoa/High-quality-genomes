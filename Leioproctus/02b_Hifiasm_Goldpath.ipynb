{
 "cells": [
  {
   "cell_type": "markdown",
   "id": "f892965b-f2fa-4a89-9709-933b85a96781",
   "metadata": {},
   "source": [
    "# Trialing HiFiasm and Goldpath on a few subsets for BeeT sample. "
   ]
  },
  {
   "cell_type": "markdown",
   "id": "69d9395f-6bfc-4ddf-b973-a64d6e2d882a",
   "metadata": {},
   "source": [
    "## BeeT subsets\n",
    "\n",
    "| file               \t| format \t| type \t| num_seqs  \t| sum_len        \t| min_len \t| avg_len  \t| max_len \t| Cov \t|\n",
    "|--------------------\t|--------\t|------\t|-----------\t|----------------\t|---------\t|----------\t|---------\t|-----\t|\n",
    "| BeeT_all.fastq     \t| FASTQ  \t| DNA  \t| 7,421,057 \t| 23,414,422,118 \t| 5       \t| 3,155.1  \t| 875,881 \t| 93  \t|\n",
    "| BeeT_Q10.fastq     \t| FASTQ  \t| DNA  \t| 6,396,748 \t| 20,555,038,801 \t| 5       \t| 3,213.4  \t| 297,692 \t| 82  \t|\n",
    "| BeeT_Q20.fastq     \t| FASTQ  \t| DNA  \t| 251,705   \t| 1,225,520,236  \t| 7       \t| 4,868.9  \t| 90,177  \t| 4.9 \t|\n",
    "| BeeT_Q10L10k.fastq \t| FASTQ  \t| DNA  \t| 423,974   \t| 7,233,587,695  \t| 10,000  \t| 17,061.4 \t| 297,692 \t| 29  \t|\n",
    "| BeeT_Q15.fastq     \t| FASTQ  \t| DNA  \t| 3,651,868 \t| 14,914,358,713 \t| 5       \t| 4,084    \t| 170,427 \t| 60  \t|\n",
    "| BeeT_Q18.fastq     \t| FASTQ  \t| DNA  \t| 1,000,226 \t| 5,319,026,047  \t| 7       \t| 5,317.8  \t| 111,791 \t| 21  \t|\n",
    "| BeeT_Q10L2k.fastq  \t| FASTQ  \t| DNA  \t| 2,828,085 \t| 17,914,783,173 \t| 2,000   \t| 6,334.6  \t| 297,692 \t| 71  \t|\n",
    "| BeeT_Q15L2k.fastq  \t| FASTQ  \t| DNA  \t| 2,101,275 \t| 13,496,914,746 \t| 2,000   \t| 6,423.2  \t| 170,427 \t| 54  \t|\n",
    "| BeeT_Q18L2k.fastq  \t| FASTQ  \t| DNA  \t| 730,203   \t| 5,009,927,952  \t| 2,000   \t| 6,861    \t| 111,791 \t| 20  \t|\n",
    "| BeeT_Q20L2k.fastq  \t| FASTQ  \t| DNA  \t| 179,368   \t| 1,137,907,479  \t| 2,000   \t| 6,344    \t| 90,177  \t| 4.5 \t|"
   ]
  },
  {
   "cell_type": "code",
   "execution_count": 19,
   "id": "55c10778-e2ff-409a-ac20-e33c0dd94fe2",
   "metadata": {},
   "outputs": [],
   "source": [
    "WKDIR=/workspace/hraijc/Bee/BeeT/Assemblies\n",
    "ONTREADS_Q18L2k=/workspace/hraijc/Bee/BeeT/BeeT_ONT14_1_basecalling/fastq/BeeT_Q18L2k.fastq\n",
    "ONTREADS_Q10L10k=/workspace/hraijc/Bee/BeeT/BeeT_ONT14_1_basecalling/fastq/BeeT_Q10L10k.fastq\n",
    "ONTREADS_Q15L2k=/workspace/hraijc/Bee/BeeT/BeeT_ONT14_1_basecalling/fastq/BeeT_Q15L2k.fastq\n"
   ]
  },
  {
   "cell_type": "code",
   "execution_count": null,
   "id": "3e5b120c-0916-4aa9-acb5-18ec9283e263",
   "metadata": {},
   "outputs": [],
   "source": []
  },
  {
   "cell_type": "markdown",
   "id": "40da8d19-94ec-408e-bbc9-954f481380f9",
   "metadata": {},
   "source": [
    "## HiFiasm\n",
    "#### What is the minimum read coverage required for hifiasm?\n",
    "Usually >=13x HiFi reads per haplotype. Higher coverage might be able to improve the contiguity of assembly."
   ]
  },
  {
   "cell_type": "code",
   "execution_count": 6,
   "id": "49f23590-d2d4-4964-bb40-7d51484a7534",
   "metadata": {},
   "outputs": [
    {
     "name": "stdout",
     "output_type": "stream",
     "text": [
      "0.19.5-r592\n"
     ]
    }
   ],
   "source": [
    "/workspace/hraijc/git_clones/hifiasm/hifiasm -v"
   ]
  },
  {
   "cell_type": "code",
   "execution_count": 7,
   "id": "919c73d6-60d8-42ff-a225-deba1967ff3f",
   "metadata": {},
   "outputs": [],
   "source": [
    "mkdir $WKDIR/Hifiasm_q18l2kULR"
   ]
  },
  {
   "cell_type": "code",
   "execution_count": 11,
   "id": "a77534a4-c961-48f5-989d-29d0bb59c7a0",
   "metadata": {},
   "outputs": [
    {
     "name": "stdout",
     "output_type": "stream",
     "text": [
      "Submitted batch job 1402986\n"
     ]
    }
   ],
   "source": [
    "#Q18L2K HiFiasm. Coverage ~20x\n",
    "sbatch << EOF\n",
    "#!/bin/bash\n",
    "#SBATCH -J HiFiasm\n",
    "#SBATCH --cpus-per-task=48\n",
    "#SBATCH --mem=100G\n",
    "#SBATCH --time=22:00:00\n",
    "#SBATCH -o ${WKDIR}/log/%J.out\n",
    "#SBATCH -e ${WKDIR}/log/%J.err\n",
    "\n",
    "\n",
    "cd $WKDIR/Hifiasm_q18l2kULR\n",
    "\n",
    "/workspace/hraijc/git_clones/hifiasm/hifiasm -o $WKDIR/Hifiasm_q18l2kULR/BeeT_Hifiasm_q18l2kULR.asm -t48 --ul ${ONTREADS_Q10L10k} ${ONTREADS_Q18L2k}\n",
    "\n",
    "EOF"
   ]
  },
  {
   "cell_type": "raw",
   "id": "0d179f46-0f48-4ab2-b5db-b1822b05a820",
   "metadata": {},
   "source": [
    "module load assemblathon_stats/2011_10_13\n",
    "awk '/^S/{print \">\"$2;print $3}' /workspace/hraijc/Bee/BeeT/Assemblies/Hifiasm_q18l2kULR/BeeT_Hifiasm_q18l2kULR.asm.bp.p_ctg.gfa > /workspace/hraijc/Bee/BeeT/Assemblies/Hifiasm_q18l2kULR/BeeT_Hifiasm_q18l2kULR.asm.bp.p_ctg.fasta\n",
    "assemblathon_stats.pl /workspace/hraijc/Bee/BeeT/Assemblies/Hifiasm_q18l2kULR/BeeT_Hifiasm_q18l2kULR.asm.bp.p_ctg.fasta\n"
   ]
  },
  {
   "cell_type": "raw",
   "id": "30d419f7-3274-4944-ae3c-5621c4fbc520",
   "metadata": {},
   "source": [
    "---------------- Information for assembly '/workspace/hraijc/Bee/BeeT/Assemblies/Hifiasm_q18l2kULR/BeeT_Hifiasm_q18l2kULR.asm.bp.p_ctg.fasta' ----------------\n",
    "\n",
    "\n",
    "                                         Number of scaffolds       4993\n",
    "                                     Total size of scaffolds  380881427\n",
    "                                            Longest scaffold     545116\n",
    "                                           Shortest scaffold         77\n",
    "                                 Number of scaffolds > 1K nt       4984  99.8%\n",
    "                                Number of scaffolds > 10K nt       4927  98.7%\n",
    "                               Number of scaffolds > 100K nt       1124  22.5%\n",
    "                                 Number of scaffolds > 1M nt          0   0.0%\n",
    "                                Number of scaffolds > 10M nt          0   0.0%\n",
    "                                          Mean scaffold size      76283\n",
    "                                        Median scaffold size      63355\n",
    "                                         N50 scaffold length      92058\n",
    "                                          L50 scaffold count       1364\n",
    "                                                 scaffold %A      32.80\n",
    "                                                 scaffold %C      17.19\n",
    "                                                 scaffold %G      17.19\n",
    "                                                 scaffold %T      32.82\n",
    "                                                 scaffold %N       0.00\n",
    "                                         scaffold %non-ACGTN       0.00\n",
    "                             Number of scaffold non-ACGTN nt          0\n",
    "\n",
    "                Percentage of assembly in scaffolded contigs       0.0%\n",
    "              Percentage of assembly in unscaffolded contigs     100.0%\n",
    "                      Average number of contigs per scaffold        1.0\n",
    "Average length of break (>25 Ns) between contigs in scaffold          0\n",
    "\n",
    "                                           Number of contigs       4993\n",
    "                              Number of contigs in scaffolds          0\n",
    "                          Number of contigs not in scaffolds       4993\n",
    "                                       Total size of contigs  380881427\n",
    "                                              Longest contig     545116\n",
    "                                             Shortest contig         77\n",
    "                                   Number of contigs > 1K nt       4984  99.8%\n",
    "                                  Number of contigs > 10K nt       4927  98.7%\n",
    "                                 Number of contigs > 100K nt       1124  22.5%\n",
    "                                   Number of contigs > 1M nt          0   0.0%\n",
    "                                  Number of contigs > 10M nt          0   0.0%\n",
    "                                            Mean contig size      76283\n",
    "                                          Median contig size      63355\n",
    "                                           N50 contig length      92058\n",
    "                                            L50 contig count       1364\n",
    "                                                   contig %A      32.80\n",
    "                                                   contig %C      17.19\n",
    "                                                   contig %G      17.19\n",
    "                                                   contig %T      32.82\n",
    "                                                   contig %N       0.00\n",
    "                                           contig %non-ACGTN       0.00\n",
    "                               Number of contig non-ACGTN nt          0"
   ]
  },
  {
   "cell_type": "code",
   "execution_count": null,
   "id": "a60c55e6-d56c-44de-8e3e-5f6f47298504",
   "metadata": {},
   "outputs": [],
   "source": []
  },
  {
   "cell_type": "markdown",
   "id": "99a66a6d-452a-4266-9353-a926107af5f8",
   "metadata": {},
   "source": [
    "## Goldrush"
   ]
  },
  {
   "cell_type": "code",
   "execution_count": 9,
   "id": "37e6a0f9-07a6-47dd-9959-0a4b1947901b",
   "metadata": {},
   "outputs": [
    {
     "name": "stdout",
     "output_type": "stream",
     "text": [
      "GoldRush\n",
      "v1.0.3\n",
      "\n",
      "Usage: goldrush [COMMAND] [OPTION=VALUE]…\n",
      "\n",
      "For example, to run the default pipeline on reads 'reads.fq' with a genome size of gsize:\n",
      "goldrush run reads=reads G=gsize\n",
      "\n",
      "\tCommands:\n",
      "\n",
      "\trun\t\t\trun default GoldRush pipeline: GoldRush-Path + Polisher (GoldRush-Edit by default) + Tigmint-long + ntLink (default 5 rounds)\n",
      "\n",
      "\tgoldrush-path\t\trun GoldRush-Path\n",
      "\tpath-polish\t\trun GoldRush-Path, then GoldRush-Edit\n",
      "\tpath-tigmint\t\trun GoldRush-Path, then GoldRush-Edit, then Tigmint-long\n",
      "\tpath-tigmint-ntLink\trun GoldRush-Path, then GoldRush-Edit, then Tigmint-long, then ntLink (default 5 rounds)\n",
      "\n",
      "\tGeneral options (required):\n",
      "\treads\t\t\tread name [reads]. File must have .fq or .fastq extension, but do not include the suffix in the supplied read name\n",
      "\tG\t\t\thaploid genome size (bp) (e.g. '3e9' for human genome)\n",
      "\n",
      "\tGeneral options (optional):\n",
      "\tt\t\t\tnumber of threads [48]\n",
      "\tz\t\t\tminimum size of contig (bp) to scaffold [1000]\n",
      "\ttrack_time\t\tIf 1 then track the run time and memory usage, if 0 then don't [0]\n",
      "\n",
      "\tGoldRush-Path options:\n",
      "\tk\t\t\tbase k value to generate hash [22]\n",
      "\tw\t\t\tweight of spaced seed (number of 1's) [16]\n",
      "\ttile\t\t\ttile size [1000]\n",
      "\tb\t\t\tduring insertion, number of consecutive tiles to be inserted with the same ID [10]\n",
      "\tu\t\t\tminimum number of unassigned tiles for the read to be considered unassigned [5]\n",
      "\ta\t\t\tmaximum number of tiles that can be assigned, minimum number of overlapping tiles kept after trimming [1]\n",
      "\to\t\t\toccupancy of the miBF [0.1]\n",
      "\tx\t\t\tthreshold for number of hits in miBF for a given frame to be considered assigned [10]\n",
      "\th\t\t\tnumber of seed patterns to use [3]\n",
      "\ts\t\t\tspaced seed design [1011011110110111101101]\n",
      "\tm\t\t\tminimum read length [20000]\n",
      "\tM\t\t\tmaximum number of silver paths to generate [5]\n",
      "\tr\t\t\tratio of full genome in golden path [0.9]\n",
      "\tP\t\t\tminimum average phred score for each read [15]\n",
      "\td\t\t\tremove reads with greater or equal than d difference between average phred quality of first half and second half of the read [5]\n",
      "\tp\t\t\tprefix to use for the output paths [w16_x10]\n",
      "\n",
      "\tTigmint-long options:\n",
      "\tspan\t\t\tmin number of spanning molecules [2]\n",
      "\tdist\t\t\tmaximum distance between alignments to be considered the same molecule [500]\n",
      "\n",
      "\tntLink options:\n",
      "\tk_ntLink\t\tk-mer size for minimizers [40]\n",
      "\tw_ntLink\t\twindow size for minimizers [250]\n",
      "\trounds\t\t\tnumber of rounds of ntLink [5]\n",
      "\n",
      "\tGoldRush-Edit options:\n",
      "\tpolisher_mapper\t\tWhether to use ntlink or minimap2 for mappings [minimap2]\n",
      "\tshared_mem\t\tShared memory path where polishing occurs [/dev/shm] \n",
      "\n",
      "Notes:\n",
      "\t- GoldRush-Path generates silver paths before generating the golden path\n",
      "\t- Ensure that all input files are in the current working directory, making soft-links if needed\n"
     ]
    }
   ],
   "source": [
    "module load conda\n",
    "conda activate hraijc_goldrush\n",
    "goldrush help"
   ]
  },
  {
   "cell_type": "code",
   "execution_count": null,
   "id": "c59103ca-afab-4f8b-9e29-4de7d27e3f22",
   "metadata": {},
   "outputs": [],
   "source": []
  },
  {
   "cell_type": "code",
   "execution_count": 15,
   "id": "3dbdfeae-2998-408d-b024-a0fc4a03adf4",
   "metadata": {},
   "outputs": [
    {
     "name": "stdout",
     "output_type": "stream",
     "text": [
      "mkdir: cannot create directory ‘/workspace/hraijc/Bee/BeeT/Assemblies/Goldpath_Q15L2k’: File exists\n"
     ]
    }
   ],
   "source": [
    "mkdir ${WKDIR}/Goldpath_Q15L2k\n",
    "cd ${WKDIR}/Goldpath_Q15L2k\n",
    "ln -s ${ONTREADS_Q15L2k} ."
   ]
  },
  {
   "cell_type": "code",
   "execution_count": 20,
   "id": "745f464e-1e5c-4305-a509-7356707cd757",
   "metadata": {},
   "outputs": [
    {
     "name": "stdout",
     "output_type": "stream",
     "text": [
      "total 88\n",
      "drwxrwsr-x. 2 hraijc powerplant  35 Jun 16 15:24 .\n",
      "drwxrwsr-x. 8 hraijc powerplant 182 Jun 16 15:23 ..\n",
      "lrwxrwxrwx. 1 hraijc powerplant  75 Jun 16 15:24 BeeT_Q15L2k.fastq -> /workspace/hraijc/Bee/BeeT/BeeT_ONT14_1_basecalling/fastq/BeeT_Q15L2k.fastq\n",
      "/workspace/hraijc/Bee/BeeT/Assemblies/Goldpath_Q15L2k\n"
     ]
    }
   ],
   "source": [
    "ls -la\n",
    "pwd"
   ]
  },
  {
   "cell_type": "code",
   "execution_count": 22,
   "id": "7a4f72c2-642e-4d82-8da2-6862047ea1ec",
   "metadata": {},
   "outputs": [
    {
     "name": "stdout",
     "output_type": "stream",
     "text": [
      "Submitted batch job 1403015\n"
     ]
    }
   ],
   "source": [
    "#Q15L2K GOLDRUSH. Coverage ~54x\n",
    "sbatch << EOF\n",
    "#!/bin/bash\n",
    "#SBATCH -J GOLDRUSH\n",
    "#SBATCH --cpus-per-task=48\n",
    "#SBATCH --mem=90G\n",
    "#SBATCH --time=22:00:00\n",
    "#SBATCH -o ${WKDIR}/log/%J.out\n",
    "#SBATCH -e ${WKDIR}/log/%J.err\n",
    "\n",
    "#Load conda\n",
    "module load conda\n",
    "\n",
    "# ACTIVATE ANACONDA\n",
    "eval \"$(conda shell.bash hook)\"\n",
    "conda activate hraijc_goldrush\n",
    "\n",
    "# RUN\n",
    "\n",
    "cd $WKDIR/Goldpath_Q15L2k\n",
    "\n",
    "\n",
    "goldrush run t=48 reads=BeeT_Q15L2k.fastq G=2.5e8\n",
    "\n",
    "\n",
    "EOF"
   ]
  },
  {
   "cell_type": "code",
   "execution_count": null,
   "id": "1d2e9552-c29c-4679-905c-f3c30907935e",
   "metadata": {},
   "outputs": [],
   "source": []
  }
 ],
 "metadata": {
  "kernelspec": {
   "display_name": "Bash",
   "language": "bash",
   "name": "bash"
  },
  "language_info": {
   "codemirror_mode": "shell",
   "file_extension": ".sh",
   "mimetype": "text/x-sh",
   "name": "bash"
  }
 },
 "nbformat": 4,
 "nbformat_minor": 5
}
