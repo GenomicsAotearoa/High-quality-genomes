{
 "cells": [
  {
   "cell_type": "markdown",
   "id": "da78c4c9-0904-47cf-974e-29065afb8c22",
   "metadata": {},
   "source": [
    "# Basecalling Bee ONT Data from R10 flowcell"
   ]
  },
  {
   "cell_type": "code",
   "execution_count": 6,
   "id": "b976ff85-4f89-4136-9c54-5653a857c06e",
   "metadata": {},
   "outputs": [],
   "source": [
    "WKDIR=/workspace/hraijc/Bee/BeeT/BeeT_ONT14_1_basecalling\n",
    "READDIR=/input/genomic/insect/Leioproctus/imitatus/ExperimentRequestor10992/BeeT_ONT14_1/20230608_1019_MN19482_FAW89221_7fa32855/pod5/\n",
    "TESTDIR=/workspace/hraijc/TEMP/Bee_Test\n",
    "DORADO=/workspace/hraijc/git_clones/dorado/dorado-0.3.0-linux-x64/bin/dorado\n",
    "MODELS=/workspace/hraijc/git_clones/dorado/dorado-0.3.0-linux-x64/models"
   ]
  },
  {
   "cell_type": "code",
   "execution_count": 7,
   "id": "d0f23e71-2d37-41ae-8297-eba190f79c1a",
   "metadata": {},
   "outputs": [],
   "source": [
    "cd $WKDIR\n",
    "mkdir -p ${WKDIR}/log"
   ]
  },
  {
   "cell_type": "code",
   "execution_count": 5,
   "id": "3566c075-3d46-46b0-8341-7820d5cb4d56",
   "metadata": {},
   "outputs": [
    {
     "name": "stdout",
     "output_type": "stream",
     "text": [
      "Submitted batch job 1387939\n"
     ]
    }
   ],
   "source": [
    "#Get printout of workflows\n",
    "# Using non-GPU guppy\n",
    "\n",
    "sbatch << EOF\n",
    "#!/bin/bash\n",
    "#SBATCH -J Flye\n",
    "#SBATCH --cpus-per-task=1\n",
    "#SBATCH --mem=1G\n",
    "#SBATCH --time=1:00:00\n",
    "#SBATCH -o ${WKDIR}/log/%J.out\n",
    "#SBATCH -e ${WKDIR}/log/%J.err\n",
    "\n",
    "module load guppy/6.4.6 \n",
    "guppy_basecaller --help\n",
    "module unload guppy\n",
    "\n",
    "\n",
    "EOF\n"
   ]
  },
  {
   "cell_type": "code",
   "execution_count": null,
   "id": "82d59384-9c15-4eaa-8a7c-4dbfb0f8a2e6",
   "metadata": {},
   "outputs": [],
   "source": [
    "# WANT: dna_r10.4.1_e8.2_260bps_hac\n",
    "# FLO-MIN114     SQK-LSK114\n",
    "# guppy_basecaller -i <input path> -s <save path> -c <config file>"
   ]
  },
  {
   "cell_type": "code",
   "execution_count": null,
   "id": "2e9b93af-c267-4333-a010-3a0f49ac2c6f",
   "metadata": {},
   "outputs": [],
   "source": []
  },
  {
   "cell_type": "markdown",
   "id": "c48ad51e-5c71-454e-8272-c1970482d4be",
   "metadata": {},
   "source": [
    "### Test run on a small file"
   ]
  },
  {
   "cell_type": "code",
   "execution_count": 11,
   "id": "1fca2cbf-5fff-47ed-9191-b15a4356adb3",
   "metadata": {},
   "outputs": [],
   "source": [
    "cp ${READDIR}/FAW89221_7fa32855_2be29263_99* $TESTDIR"
   ]
  },
  {
   "cell_type": "code",
   "execution_count": 11,
   "id": "0ac2878e-5b3e-43f5-b9ef-73d3e2cb3ddf",
   "metadata": {},
   "outputs": [
    {
     "name": "stdout",
     "output_type": "stream",
     "text": [
      "FAW89221_7fa32855_2be29263_990.pod5  FAW89221_7fa32855_2be29263_996.pod5\n",
      "FAW89221_7fa32855_2be29263_991.pod5  FAW89221_7fa32855_2be29263_997.pod5\n",
      "FAW89221_7fa32855_2be29263_992.pod5  FAW89221_7fa32855_2be29263_998.pod5\n",
      "FAW89221_7fa32855_2be29263_993.pod5  FAW89221_7fa32855_2be29263_999.pod5\n",
      "FAW89221_7fa32855_2be29263_994.pod5  FAW89221_7fa32855_2be29263_99.pod5\n",
      "FAW89221_7fa32855_2be29263_995.pod5\n"
     ]
    }
   ],
   "source": [
    "#mkdir ${WKDIR}/test1\n",
    "ls ${TESTDIR}"
   ]
  },
  {
   "cell_type": "code",
   "execution_count": 12,
   "id": "8ddc0498-ff1c-4941-b027-952501a31975",
   "metadata": {},
   "outputs": [
    {
     "name": "stdout",
     "output_type": "stream",
     "text": [
      "sbatch: slurm_job_submit: Job assigned to GPU nodes: gpu\n",
      "Submitted batch job 1387991\n"
     ]
    }
   ],
   "source": [
    "#Guppy\n",
    "sbatch << EOF\n",
    "#!/bin/bash -e\n",
    "#SBATCH -J basecalling\n",
    "#SBATCH --nodes=1\n",
    "#SBATCH --ntasks=1\n",
    "#SBATCH --cpus-per-task=4\n",
    "#SBATCH --mem=4G\n",
    "#SBATCH --output=${WKDIR}/log/%J.out\n",
    "#SBATCH --error=${WKDIR}/log/%J.err\n",
    "#SBATCH --time=1:00:00\n",
    "#SBATCH --gres=gpu:1\n",
    "\n",
    "module load guppy/6.4.6-gpu\n",
    "\n",
    "guppy_basecaller -i ${TESTDIR} -s ${WKDIR}/test1 --flowcell FLO-MIN114 --kit SQK-LSK114 --device auto --recursive\n",
    "\n",
    "EOF"
   ]
  },
  {
   "cell_type": "code",
   "execution_count": 21,
   "id": "26006130-7b65-4e2b-a950-d529cd79d0b3",
   "metadata": {},
   "outputs": [
    {
     "name": "stdout",
     "output_type": "stream",
     "text": [
      "sbatch: slurm_job_submit: Job assigned to GPU nodes: gpu\n",
      "Submitted batch job 1401332\n"
     ]
    }
   ],
   "source": [
    "#DORADO duplex\n",
    "sbatch << EOF\n",
    "#!/bin/bash -e\n",
    "#SBATCH -J basecalling\n",
    "#SBATCH --nodes=1\n",
    "#SBATCH --ntasks=1\n",
    "#SBATCH --cpus-per-task=4\n",
    "#SBATCH --mem=8G\n",
    "#SBATCH --output=${WKDIR}/log/%J.out\n",
    "#SBATCH --error=${WKDIR}/log/%J.err\n",
    "#SBATCH --time=1:00:00\n",
    "#SBATCH --gres=gpu:1\n",
    "\n",
    "cd ${WKDIR}/test1\n",
    "\n",
    "${DORADO} duplex ${MODELS}/dna_r10.4.1_e8.2_400bps_hac@v4.2.0 ${TESTDIR} --device 'cuda:0' --recursive > BeeT_DoradoTest1.bam\n",
    "\n",
    "EOF"
   ]
  },
  {
   "cell_type": "code",
   "execution_count": 25,
   "id": "26f17967-0548-4508-bfe5-7359abae6aa2",
   "metadata": {},
   "outputs": [
    {
     "name": "stdout",
     "output_type": "stream",
     "text": [
      "sbatch: slurm_job_submit: Job assigned to GPU nodes: gpu\n",
      "Submitted batch job 1401341\n"
     ]
    }
   ],
   "source": [
    "#DORADO simplex\n",
    "sbatch << EOF\n",
    "#!/bin/bash -e\n",
    "#SBATCH -J basecalling\n",
    "#SBATCH --nodes=1\n",
    "#SBATCH --ntasks=1\n",
    "#SBATCH --cpus-per-task=4\n",
    "#SBATCH --mem=8G\n",
    "#SBATCH --output=${WKDIR}/log/%J.out\n",
    "#SBATCH --error=${WKDIR}/log/%J.err\n",
    "#SBATCH --time=1:00:00\n",
    "#SBATCH --gres=gpu:1\n",
    "\n",
    "cd ${WKDIR}/test1\n",
    "\n",
    "${DORADO} basecaller ${MODELS}/dna_r10.4.1_e8.2_400bps_hac@v4.2.0 ${TESTDIR} --device 'cuda:0' --recursive > BeeT_DoradoTestS2.bam\n",
    "\n",
    "EOF"
   ]
  },
  {
   "cell_type": "code",
   "execution_count": 12,
   "id": "44b4070e-8f60-4e86-8d65-b374a8d818b7",
   "metadata": {},
   "outputs": [
    {
     "name": "stdout",
     "output_type": "stream",
     "text": [
      "du: cannot access ‘/workspace/hraijc/Bee/BeeT/BeeT_ONT14_1_basecalling/test1/pass/’: No such file or directory\n",
      "du: cannot access ‘/workspace/hraijc/Bee/BeeT/BeeT_ONT14_1_basecalling/test1/fail/’: No such file or directory\n"
     ]
    },
    {
     "ename": "",
     "evalue": "1",
     "output_type": "error",
     "traceback": []
    }
   ],
   "source": [
    "du -sh ${WKDIR}/test1/pass/\n",
    "du -sh ${WKDIR}/test1/fail/\n"
   ]
  },
  {
   "cell_type": "code",
   "execution_count": 18,
   "id": "1dacc2bc-ed6f-43b5-b626-cce89d80c6ce",
   "metadata": {},
   "outputs": [
    {
     "name": "stdout",
     "output_type": "stream",
     "text": [
      "Job ID: 1387991\n",
      "Cluster: powerplant\n",
      "User/Group: hraijc/hraijc\n",
      "State: COMPLETED (exit code 0)\n",
      "Nodes: 1\n",
      "Cores per node: 4\n",
      "CPU Utilized: 00:05:26\n",
      "CPU Efficiency: 44.54% of 00:12:12 core-walltime\n",
      "Job Wall-clock time: 00:03:03\n",
      "Memory Utilized: 534.66 MB\n",
      "Memory Efficiency: 13.05% of 4.00 GB\n"
     ]
    }
   ],
   "source": [
    "#Guppy\n",
    "seff 1387991"
   ]
  },
  {
   "cell_type": "code",
   "execution_count": 22,
   "id": "78c641a5-ed7f-428e-ae7a-9d0d5fbaa04a",
   "metadata": {},
   "outputs": [
    {
     "name": "stdout",
     "output_type": "stream",
     "text": [
      "Job ID: 1401332\n",
      "Cluster: powerplant\n",
      "User/Group: hraijc/hraijc\n",
      "State: COMPLETED (exit code 0)\n",
      "Nodes: 1\n",
      "Cores per node: 4\n",
      "CPU Utilized: 00:03:29\n",
      "CPU Efficiency: 39.29% of 00:08:52 core-walltime\n",
      "Job Wall-clock time: 00:02:13\n",
      "Memory Utilized: 3.88 GB\n",
      "Memory Efficiency: 48.53% of 8.00 GB\n"
     ]
    }
   ],
   "source": [
    "#DoradoDuplex\n",
    "seff 1401332"
   ]
  },
  {
   "cell_type": "code",
   "execution_count": 26,
   "id": "7bf411a4-435b-4225-a139-9240a37cd22e",
   "metadata": {},
   "outputs": [
    {
     "name": "stdout",
     "output_type": "stream",
     "text": [
      "Job ID: 1401341\n",
      "Cluster: powerplant\n",
      "User/Group: hraijc/hraijc\n",
      "State: COMPLETED (exit code 0)\n",
      "Nodes: 1\n",
      "Cores per node: 4\n",
      "CPU Utilized: 00:02:35\n",
      "CPU Efficiency: 26.36% of 00:09:48 core-walltime\n",
      "Job Wall-clock time: 00:02:27\n",
      "Memory Utilized: 3.02 GB\n",
      "Memory Efficiency: 37.75% of 8.00 GB\n"
     ]
    }
   ],
   "source": [
    "#DoradoDuplex\n",
    "seff 1401341"
   ]
  },
  {
   "cell_type": "code",
   "execution_count": 27,
   "id": "3a5385aa-c2b4-4131-93cb-20f812c514fb",
   "metadata": {},
   "outputs": [
    {
     "name": "stdout",
     "output_type": "stream",
     "text": [
      "Submitted batch job 1401342\n"
     ]
    }
   ],
   "source": [
    "# Get QC report of runs. \n",
    "\n",
    "sbatch << EOF\n",
    "#!/bin/bash\n",
    "#SBATCH -J NanoPlot\n",
    "#SBATCH -o ${WKDIR}/log/%J.out\n",
    "#SBATCH -e ${WKDIR}/log/%J.err\n",
    "#SBATCH --cpus-per-task=2\n",
    "#SBATCH --mem-per-cpu=1G\n",
    "#SBATCH --time=01:02:00\n",
    "\n",
    "source deactivate\n",
    "module load nanopack/1.1.1\n",
    "\n",
    "\n",
    "NanoPlot -t 2 --ubam ${WKDIR}/test1/BeeT_DoradoTest1.bam -o ${WKDIR}/test1/summary-plots\n",
    "NanoPlot -t 2 --ubam ${WKDIR}/test1/BeeT_DoradoTestS2.bam -o ${WKDIR}/test1/summary-plots-s2\n",
    "\n",
    "\n",
    "EOF"
   ]
  },
  {
   "cell_type": "markdown",
   "id": "219e7106-6320-47f3-931b-a04efcd2e14f",
   "metadata": {},
   "source": [
    "## Dorado conclusions:\n",
    "- Duplex mode is faster and gives more accurate reads in smaller datasets but takes longer in larger datasets.\n",
    "- benchmarking info here: https://aws.amazon.com/blogs/hpc/benchmarking-the-oxford-nanopore-technologies-basecallers-on-aws/\n",
    "- Dorado works best on 1 GPU with 60GB RAM and 8vCPU"
   ]
  },
  {
   "cell_type": "markdown",
   "id": "9e4fde9c-c080-4c68-80ce-f6b005ae41c4",
   "metadata": {},
   "source": [
    "## Basecalling"
   ]
  },
  {
   "cell_type": "code",
   "execution_count": 7,
   "id": "ef05b38d-dcf6-41f1-9d8a-27e85b92d9c4",
   "metadata": {},
   "outputs": [
    {
     "name": "stdout",
     "output_type": "stream",
     "text": [
      "sbatch: slurm_job_submit: Job assigned to GPU nodes: gpu\n",
      "Submitted batch job 1401302\n"
     ]
    }
   ],
   "source": [
    "#Guppy\n",
    "sbatch << EOF\n",
    "#!/bin/bash -e\n",
    "#SBATCH -J basecalling\n",
    "#SBATCH --nodes=1\n",
    "#SBATCH --ntasks=1\n",
    "#SBATCH --cpus-per-task=6\n",
    "#SBATCH --mem=6G\n",
    "#SBATCH --output=${WKDIR}/log/%J.out\n",
    "#SBATCH --error=${WKDIR}/log/%J.err\n",
    "#SBATCH --time=11:00:00\n",
    "#SBATCH --gres=gpu:1\n",
    "\n",
    "module load guppy/6.4.6-gpu\n",
    "\n",
    "guppy_basecaller -i ${READDIR} -s ${WKDIR}/guppy --flowcell FLO-MIN114 --kit SQK-LSK114 --device auto --recursive\n",
    "\n",
    "EOF"
   ]
  },
  {
   "cell_type": "code",
   "execution_count": 32,
   "id": "64888634-b395-4fad-8df8-1cc320fc49f8",
   "metadata": {},
   "outputs": [
    {
     "name": "stdout",
     "output_type": "stream",
     "text": [
      "sbatch: slurm_job_submit: Job assigned to GPU nodes: gpu\n",
      "Submitted batch job 1401348\n"
     ]
    }
   ],
   "source": [
    "#DORADO duplex\n",
    "sbatch << EOF\n",
    "#!/bin/bash -e\n",
    "#SBATCH -J basecalling\n",
    "#SBATCH --nodes=1\n",
    "#SBATCH --ntasks=1\n",
    "#SBATCH --cpus-per-task=8\n",
    "#SBATCH --mem=61G\n",
    "#SBATCH --output=${WKDIR}/log/%J.out\n",
    "#SBATCH --error=${WKDIR}/log/%J.err\n",
    "#SBATCH --time=24:00:00\n",
    "#SBATCH --gres=gpu:1\n",
    "\n",
    "cd ${WKDIR}/dorado\n",
    "\n",
    "${DORADO} duplex ${MODELS}/dna_r10.4.1_e8.2_400bps_hac@v4.2.0 ${READDIR} --device 'cuda:0' --recursive > BeeT_DoradoDuplex.bam\n",
    "\n",
    "EOF"
   ]
  },
  {
   "cell_type": "code",
   "execution_count": 31,
   "id": "cfa6c21a-bee7-4412-bc10-1f1718e6b72f",
   "metadata": {},
   "outputs": [
    {
     "name": "stdout",
     "output_type": "stream",
     "text": [
      "sbatch: slurm_job_submit: Job assigned to GPU nodes: gpu\n",
      "Submitted batch job 1401345\n"
     ]
    }
   ],
   "source": [
    "#DORADO simplex\n",
    "sbatch << EOF\n",
    "#!/bin/bash -e\n",
    "#SBATCH -J basecalling\n",
    "#SBATCH --nodes=1\n",
    "#SBATCH --ntasks=1\n",
    "#SBATCH --cpus-per-task=6\n",
    "#SBATCH --mem=8G\n",
    "#SBATCH --output=${WKDIR}/log/%J.out\n",
    "#SBATCH --error=${WKDIR}/log/%J.err\n",
    "#SBATCH --time=11:00:00\n",
    "#SBATCH --gres=gpu:1\n",
    "\n",
    "cd ${WKDIR}/dorado\n",
    "\n",
    "${DORADO} basecaller ${MODELS}/dna_r10.4.1_e8.2_400bps_hac@v4.2.0 ${READDIR} --device 'cuda:0' --recursive > BeeT_DoradoSimplex.bam\n",
    "\n",
    "EOF"
   ]
  },
  {
   "cell_type": "code",
   "execution_count": 5,
   "id": "37bbf9a6-2414-4635-a65d-6458c574b767",
   "metadata": {},
   "outputs": [
    {
     "name": "stdout",
     "output_type": "stream",
     "text": [
      "Submitted batch job 1402825\n"
     ]
    }
   ],
   "source": [
    "# Get QC report of runs. \n",
    "\n",
    "sbatch << EOF\n",
    "#!/bin/bash\n",
    "#SBATCH -J NanoPlot\n",
    "#SBATCH -o ${WKDIR}/log/%J.out\n",
    "#SBATCH -e ${WKDIR}/log/%J.err\n",
    "#SBATCH --cpus-per-task=12\n",
    "#SBATCH --mem-per-cpu=6G\n",
    "#SBATCH --time=02:02:00\n",
    "\n",
    "source deactivate\n",
    "module load nanopack/1.1.1\n",
    "\n",
    "\n",
    "NanoPlot -t 12 --summary ${WKDIR}/guppy/sequencing_summary.txt -o ${WKDIR}/guppy/NanoPlot-GS\n",
    "NanoPlot -t 12 --ubam ${WKDIR}/dorado/BeeT_DoradoDuplex.bam -o ${WKDIR}/dorado/NanoPlot-DD\n",
    "NanoPlot -t 12 --ubam ${WKDIR}/dorado/BeeT_DoradoSimplex.bam -o ${WKDIR}/dorado/NanoPlot-DS\n",
    "\n",
    "\n",
    "EOF"
   ]
  },
  {
   "cell_type": "code",
   "execution_count": 3,
   "id": "3aa7a312-197f-4d4f-a97c-9d40e278fefe",
   "metadata": {},
   "outputs": [
    {
     "name": "stdout",
     "output_type": "stream",
     "text": [
      "Job ID: 1401302\n",
      "Cluster: powerplant\n",
      "User/Group: hraijc/hraijc\n",
      "State: COMPLETED (exit code 0)\n",
      "Nodes: 1\n",
      "Cores per node: 6\n",
      "CPU Utilized: 15:01:55\n",
      "CPU Efficiency: 32.99% of 1-21:33:36 core-walltime\n",
      "Job Wall-clock time: 07:35:36\n",
      "Memory Utilized: 1.46 GB\n",
      "Memory Efficiency: 24.31% of 6.00 GB\n",
      "Job ID: 1401345\n",
      "Cluster: powerplant\n",
      "User/Group: hraijc/hraijc\n",
      "State: COMPLETED (exit code 0)\n",
      "Nodes: 1\n",
      "Cores per node: 6\n",
      "CPU Utilized: 06:30:54\n",
      "CPU Efficiency: 24.26% of 1-02:51:24 core-walltime\n",
      "Job Wall-clock time: 04:28:34\n",
      "Memory Utilized: 4.00 GB\n",
      "Memory Efficiency: 50.02% of 8.00 GB\n",
      "Job ID: 1401348\n",
      "Cluster: powerplant\n",
      "User/Group: hraijc/hraijc\n",
      "State: COMPLETED (exit code 0)\n",
      "Nodes: 1\n",
      "Cores per node: 8\n",
      "CPU Utilized: 09:50:51\n",
      "CPU Efficiency: 21.50% of 1-21:47:36 core-walltime\n",
      "Job Wall-clock time: 05:43:27\n",
      "Memory Utilized: 8.35 GB\n",
      "Memory Efficiency: 13.70% of 61.00 GB\n"
     ]
    }
   ],
   "source": [
    "seff 1401302\n",
    "seff 1401345\n",
    "seff 1401348\n"
   ]
  },
  {
   "cell_type": "code",
   "execution_count": 4,
   "id": "d69d1f73-9364-4f92-9948-3365731a404f",
   "metadata": {},
   "outputs": [],
   "source": []
  },
  {
   "cell_type": "markdown",
   "id": "642584ba-cfb4-45fd-b29a-29cfa5381398",
   "metadata": {},
   "source": [
    "## Fastq Generation and file filtering:"
   ]
  },
  {
   "cell_type": "code",
   "execution_count": 16,
   "id": "6a701405-6629-44de-853c-05b7f5b126a9",
   "metadata": {},
   "outputs": [
    {
     "name": "stdout",
     "output_type": "stream",
     "text": [
      "Submitted batch job 1402953\n"
     ]
    }
   ],
   "source": [
    "# Bam -> fastq samtools\n",
    "# Filtering using seqkit\n",
    "\n",
    "\n",
    "sbatch << EOF\n",
    "#!/bin/bash\n",
    "#SBATCH -J NanoPlot\n",
    "#SBATCH -o ${WKDIR}/log/%J.out\n",
    "#SBATCH -e ${WKDIR}/log/%J.err\n",
    "#SBATCH --cpus-per-task=12\n",
    "#SBATCH --mem-per-cpu=6G\n",
    "#SBATCH --time=02:02:00\n",
    "\n",
    "module load samtools/1.16\n",
    "\n",
    "#samtools fastq -@ 12 ${WKDIR}/dorado/BeeT_DoradoDuplex.bam > ${WKDIR}/fastq/BeeT_all.fastq\n",
    "#/workspace/hraijc/git_clones/seqkit/seqkit seq ${WKDIR}/fastq/BeeT_all.fastq -j 12 -Q 10 > ${WKDIR}/fastq/BeeT_Q10.fastq\n",
    "#/workspace/hraijc/git_clones/seqkit/seqkit seq ${WKDIR}/fastq/BeeT_Q10.fastq -j 12 -Q 20 > ${WKDIR}/fastq/BeeT_Q20.fastq\n",
    "#/workspace/hraijc/git_clones/seqkit/seqkit seq ${WKDIR}/fastq/BeeT_Q10.fastq -j 12 -m 10000 > ${WKDIR}/fastq/BeeT_Q10L10k.fastq\n",
    "#/workspace/hraijc/git_clones/seqkit/seqkit seq ${WKDIR}/fastq/BeeT_Q10.fastq -j 12 -Q 15 > ${WKDIR}/fastq/BeeT_Q15.fastq\n",
    "#/workspace/hraijc/git_clones/seqkit/seqkit seq ${WKDIR}/fastq/BeeT_Q15.fastq -j 12 -Q 18 > ${WKDIR}/fastq/BeeT_Q18.fastq\n",
    "/workspace/hraijc/git_clones/seqkit/seqkit seq ${WKDIR}/fastq/BeeT_Q10.fastq -j 12 -m 2000 > ${WKDIR}/fastq/BeeT_Q10L2k.fastq\n",
    "/workspace/hraijc/git_clones/seqkit/seqkit seq ${WKDIR}/fastq/BeeT_Q15.fastq -j 12 -m 2000 > ${WKDIR}/fastq/BeeT_Q15L2k.fastq\n",
    "/workspace/hraijc/git_clones/seqkit/seqkit seq ${WKDIR}/fastq/BeeT_Q18.fastq -j 12 -m 2000 > ${WKDIR}/fastq/BeeT_Q18L2k.fastq\n",
    "/workspace/hraijc/git_clones/seqkit/seqkit seq ${WKDIR}/fastq/BeeT_Q20.fastq -j 12 -m 2000 > ${WKDIR}/fastq/BeeT_Q20L2k.fastq\n",
    "\n",
    "\n",
    "EOF"
   ]
  },
  {
   "cell_type": "code",
   "execution_count": 17,
   "id": "b133832f-ebaf-489c-8c52-6b8fec7c22ae",
   "metadata": {},
   "outputs": [
    {
     "name": "stdout",
     "output_type": "stream",
     "text": [
      "Submitted batch job 1402957\n"
     ]
    }
   ],
   "source": [
    "# seqstats\n",
    "\n",
    "\n",
    "sbatch << EOF\n",
    "#!/bin/bash\n",
    "#SBATCH -J NanoPlot\n",
    "#SBATCH -o ${WKDIR}/log/%J.out\n",
    "#SBATCH -e ${WKDIR}/log/%J.err\n",
    "#SBATCH --cpus-per-task=1\n",
    "#SBATCH --mem-per-cpu=1G\n",
    "#SBATCH --time=00:30:00\n",
    "\n",
    "#/workspace/hraijc/git_clones/seqkit/seqkit stat ${WKDIR}/fastq/BeeT_all.fastq\n",
    "#/workspace/hraijc/git_clones/seqkit/seqkit stat ${WKDIR}/fastq/BeeT_Q10.fastq\n",
    "#/workspace/hraijc/git_clones/seqkit/seqkit stat ${WKDIR}/fastq/BeeT_Q15.fastq\n",
    "#/workspace/hraijc/git_clones/seqkit/seqkit stat ${WKDIR}/fastq/BeeT_Q18.fastq\n",
    "#/workspace/hraijc/git_clones/seqkit/seqkit stat ${WKDIR}/fastq/BeeT_Q20.fastq\n",
    "#/workspace/hraijc/git_clones/seqkit/seqkit stat ${WKDIR}/fastq/BeeT_Q10L10k.fastq\n",
    "/workspace/hraijc/git_clones/seqkit/seqkit stat ${WKDIR}/fastq/BeeT_Q10L2k.fastq\n",
    "/workspace/hraijc/git_clones/seqkit/seqkit stat ${WKDIR}/fastq/BeeT_Q15L2k.fastq\n",
    "/workspace/hraijc/git_clones/seqkit/seqkit stat ${WKDIR}/fastq/BeeT_Q18L2k.fastq\n",
    "/workspace/hraijc/git_clones/seqkit/seqkit stat ${WKDIR}/fastq/BeeT_Q20L2k.fastq\n",
    "\n",
    "\n",
    "EOF\n",
    "\n",
    "\n"
   ]
  },
  {
   "cell_type": "code",
   "execution_count": null,
   "id": "b57418c4-e0e8-4120-b21f-af23bd5da8ce",
   "metadata": {},
   "outputs": [],
   "source": []
  }
 ],
 "metadata": {
  "kernelspec": {
   "display_name": "Bash",
   "language": "bash",
   "name": "bash"
  },
  "language_info": {
   "codemirror_mode": "shell",
   "file_extension": ".sh",
   "mimetype": "text/x-sh",
   "name": "bash"
  }
 },
 "nbformat": 4,
 "nbformat_minor": 5
}
