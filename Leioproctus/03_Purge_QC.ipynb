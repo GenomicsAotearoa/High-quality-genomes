{
 "cells": [
  {
   "cell_type": "markdown",
   "id": "205aefff-e08b-430c-be97-287e396aafa8",
   "metadata": {},
   "source": [
    "# Picking best assembly"
   ]
  },
  {
   "cell_type": "code",
   "execution_count": 1,
   "id": "e26abd60-38ff-4206-a49a-68b4715add36",
   "metadata": {},
   "outputs": [],
   "source": [
    "WKDIR=/workspace/hraijc/Bee/BeeT/Assemblies/Purged_Assemblies\n",
    "PURGEDUPS_BIN_DIR=/workspace/hraijc/git_clones/purge_dups/bin\n",
    "PDDIR=${WKDIR}/purge_dups\n",
    "\n",
    "FLYE10=/workspace/hraijc/Bee/BeeT/Assemblies/Flye_BeeT_q10/Flye_BeeT_q10.fasta\n",
    "FLYE15=/workspace/hraijc/Bee/BeeT/Assemblies/Flye_BeeT_q15/Flye_BeeT_q15.fasta\n",
    "HIFIASM18=/workspace/hraijc/Bee/BeeT/Assemblies/Hifiasm_q18l2kULR/BeeT_Hifiasm_q18l2kULR.asm.bp.p_ctg.fasta\n",
    "\n",
    "ONTREADS_Q15=/workspace/hraijc/Bee/BeeT/BeeT_ONT14_1_basecalling/fastq/BeeT_Q15.fastq\n"
   ]
  },
  {
   "cell_type": "code",
   "execution_count": 2,
   "id": "7731e460-2cd5-49e6-9ad6-82bd96e0ee6f",
   "metadata": {},
   "outputs": [],
   "source": [
    "mkdir -p ${WKDIR}/log\n",
    "mkdir -p ${PDDIR}\n",
    "cd ${PDDIR}"
   ]
  },
  {
   "cell_type": "markdown",
   "id": "c4b0db6b-005e-47fc-85bc-7654aab35fe2",
   "metadata": {},
   "source": [
    "## Using Assembly_QC pipeline for contam check."
   ]
  },
  {
   "cell_type": "code",
   "execution_count": 11,
   "id": "e9df7c8a-3ae8-4a83-8ed0-de6e35b4597f",
   "metadata": {},
   "outputs": [],
   "source": [
    "cd /workspace/hraijc/Bee/BeeT/Assemblies/Purged_Assemblies/assembly_qc_F10/"
   ]
  },
  {
   "cell_type": "code",
   "execution_count": 12,
   "id": "69fb82e7-fb62-4004-9b07-d5296f0092d3",
   "metadata": {},
   "outputs": [
    {
     "name": "stdout",
     "output_type": "stream",
     "text": [
      "Submitted batch job 1403933\n"
     ]
    }
   ],
   "source": [
    "sbatch ./assembly_qc_pfr.sh"
   ]
  },
  {
   "cell_type": "markdown",
   "id": "ef4a9961-a4b2-42e2-bd14-add6c14af70d",
   "metadata": {},
   "source": [
    "## Purge_dups\n",
    "\n",
    "Using q15 data to purge all of the assemblies."
   ]
  },
  {
   "cell_type": "code",
   "execution_count": null,
   "id": "b0c768a3-043b-467b-9aeb-6129a26f8d09",
   "metadata": {},
   "outputs": [],
   "source": []
  },
  {
   "cell_type": "code",
   "execution_count": 19,
   "id": "d4d910dc-d26b-4834-afba-85f38e102e99",
   "metadata": {},
   "outputs": [
    {
     "name": "stdout",
     "output_type": "stream",
     "text": [
      "pd_config.py 0.0.0\n",
      "usage: pd_config.py [-h] [-s SRF] [-l LOCD] [-B] [-n FN] [--version]\n",
      "                    ref pbfofn\n",
      "\n",
      "generate a configuration file in json format\n",
      "\n",
      "positional arguments:\n",
      "  ref                   reference file\n",
      "  pbfofn                list of pacbio file (one absolute file path per line)\n",
      "\n",
      "optional arguments:\n",
      "  -h, --help            show this help message and exit\n",
      "  -s SRF, --srfofn SRF  list of short reads files (one record per line, the\n",
      "                        record is a tab splitted line of abosulte file path\n",
      "                        plus trimmed bases, refer to\n",
      "                        https://github.com/dfguan/KMC) [NONE]\n",
      "  -l LOCD, --localdir LOCD\n",
      "                        local directory to keep the reference and lists of the\n",
      "                        pacbio, short reads files [.]\n",
      "  -B, --skipB           skip running busco [False]\n",
      "  -n FN, --name FN      output config file name [config.json]\n",
      "  --version             show program's version number and exit\n",
      "usage: run_purge_dups.py [-h] [-p PLTFM] [-w WAIT] [-r RETRIES] [--version]\n",
      "                         config bin_dir spid\n",
      "\n",
      "purge_dups wrapper\n",
      "\n",
      "positional arguments:\n",
      "  config                configuration file\n",
      "  bin_dir               directory of purge_dups executable files\n",
      "  spid                  species identifier\n",
      "\n",
      "optional arguments:\n",
      "  -h, --help            show this help message and exit\n",
      "  -p PLTFM, --platform PLTFM\n",
      "                        workload management platform, input bash if you want\n",
      "                        to run locally\n",
      "  -w WAIT, --wait WAIT  <int> seconds sleep intervals\n",
      "  -r RETRIES, --retries RETRIES\n",
      "                        maximum number of retries\n",
      "  --version             show program's version number and exit\n"
     ]
    }
   ],
   "source": [
    "python /workspace/hraijc/git_clones/purge_dups/scripts/pd_config.py --version\n",
    "python /workspace/hraijc/git_clones/purge_dups/scripts/pd_config.py --help\n",
    "python /workspace/hraijc/git_clones/purge_dups/scripts/run_purge_dups.py --help\n"
   ]
  },
  {
   "cell_type": "code",
   "execution_count": 3,
   "id": "698ccd13-3472-4cef-9cbc-183689ed52ba",
   "metadata": {},
   "outputs": [],
   "source": [
    "printf \"${ONTREADS_Q15}\" > ${PDDIR}/ONT_files.txt"
   ]
  },
  {
   "cell_type": "code",
   "execution_count": 4,
   "id": "fe3abdae-c189-4d18-a5f1-e1c742a94e02",
   "metadata": {},
   "outputs": [],
   "source": [
    "python /workspace/hraijc/git_clones/purge_dups/scripts/pd_config.py -n config.FLYE10.json ${FLYE10} ${PDDIR}/ONT_files.txt\n",
    "python /workspace/hraijc/git_clones/purge_dups/scripts/pd_config.py -n config.FLYE15.json ${FLYE15} ${PDDIR}/ONT_files.txt\n",
    "python /workspace/hraijc/git_clones/purge_dups/scripts/pd_config.py -n config.HIFIASM18.json ${HIFIASM18} ${PDDIR}/ONT_files.txt"
   ]
  },
  {
   "cell_type": "code",
   "execution_count": 12,
   "id": "a820276a-ec1a-431f-a61c-bb14b5214084",
   "metadata": {},
   "outputs": [],
   "source": [
    "####Change json files####\n"
   ]
  },
  {
   "cell_type": "code",
   "execution_count": 15,
   "id": "3b469a3e-883f-4531-b40e-a0023af6741b",
   "metadata": {},
   "outputs": [
    {
     "name": "stdout",
     "output_type": "stream",
     "text": [
      "python /workspace/hraijc/git_clones/purge_dups/scripts/run_purge_dups.py config.FLYE10.json /workspace/hraijc/git_clones/purge_dups/bin FLYE10 -p bash\n",
      "python /workspace/hraijc/git_clones/purge_dups/scripts/run_purge_dups.py config.FLYE15.json /workspace/hraijc/git_clones/purge_dups/bin FLYE15 -p bash\n",
      "python /workspace/hraijc/git_clones/purge_dups/scripts/run_purge_dups.py config.HIFIASM18.json /workspace/hraijc/git_clones/purge_dups/bin HIFIASM18 -p bash\n"
     ]
    }
   ],
   "source": [
    "cd ${PDDIR}\n",
    "\n",
    "module load zlib\n",
    "module load minimap2\n",
    "module load BUSCO\n",
    "\n",
    "for FILE in *.json;\n",
    "do \n",
    "    PRE=${FILE%.json}\n",
    "    OUTPREFIX=${PRE#config.}\n",
    "    echo python /workspace/hraijc/git_clones/purge_dups/scripts/run_purge_dups.py $FILE ${PURGEDUPS_BIN_DIR} ${OUTPREFIX} -p bash;\n",
    "done "
   ]
  },
  {
   "cell_type": "code",
   "execution_count": 5,
   "id": "8c43a1c6-980b-4b62-9dba-87ccbf5b9923",
   "metadata": {},
   "outputs": [
    {
     "name": "stdout",
     "output_type": "stream",
     "text": [
      "Submitted batch job 1403900\n"
     ]
    }
   ],
   "source": [
    "\n",
    "sbatch << EOF\n",
    "#!/bin/bash\n",
    "#SBATCH -J PurgeDups\n",
    "#SBATCH -o ${WKDIR}/log/%J.out\n",
    "#SBATCH -e ${WKDIR}/log/%J.err\n",
    "#SBATCH --cpus-per-task=24\n",
    "#SBATCH --mem=30G\n",
    "#SBATCH --time=11:00:00\n",
    "\n",
    "module load zlib\n",
    "module load minimap2/2.22\n",
    "\n",
    "\n",
    "python /workspace/hraijc/git_clones/purge_dups/scripts/run_purge_dups.py config.FLYE10.json /workspace/hraijc/git_clones/purge_dups/bin FLYE10 -p bash\n",
    "EOF"
   ]
  },
  {
   "cell_type": "code",
   "execution_count": 17,
   "id": "37a30a94-e9c5-4ad5-953d-d2b55df533b4",
   "metadata": {},
   "outputs": [
    {
     "name": "stdout",
     "output_type": "stream",
     "text": [
      "Submitted batch job 1403898\n"
     ]
    }
   ],
   "source": [
    "\n",
    "sbatch << EOF\n",
    "#!/bin/bash\n",
    "#SBATCH -J PurgeDups\n",
    "#SBATCH -o ${WKDIR}/log/%J.out\n",
    "#SBATCH -e ${WKDIR}/log/%J.err\n",
    "#SBATCH --cpus-per-task=24\n",
    "#SBATCH --mem=30G\n",
    "#SBATCH --time=11:00:00\n",
    "\n",
    "module load zlib\n",
    "module load minimap2/2.22\n",
    "\n",
    "\n",
    "python /workspace/hraijc/git_clones/purge_dups/scripts/run_purge_dups.py config.FLYE15.json /workspace/hraijc/git_clones/purge_dups/bin FLYE15 -p bash\n",
    "EOF"
   ]
  },
  {
   "cell_type": "code",
   "execution_count": 18,
   "id": "64735f68-a76f-4e69-84da-4c241f50a52e",
   "metadata": {},
   "outputs": [
    {
     "name": "stdout",
     "output_type": "stream",
     "text": [
      "Submitted batch job 1403899\n"
     ]
    }
   ],
   "source": [
    "\n",
    "sbatch << EOF\n",
    "#!/bin/bash\n",
    "#SBATCH -J PurgeDups\n",
    "#SBATCH -o ${WKDIR}/log/%J.out\n",
    "#SBATCH -e ${WKDIR}/log/%J.err\n",
    "#SBATCH --cpus-per-task=24\n",
    "#SBATCH --mem=30G\n",
    "#SBATCH --time=11:00:00\n",
    "\n",
    "module load zlib\n",
    "module load minimap2/2.22\n",
    "\n",
    "\n",
    "python /workspace/hraijc/git_clones/purge_dups/scripts/run_purge_dups.py config.HIFIASM18.json /workspace/hraijc/git_clones/purge_dups/bin HIFIASM18 -p bash\n",
    "EOF"
   ]
  },
  {
   "cell_type": "code",
   "execution_count": 6,
   "id": "fce55119-3fcf-4b72-bc42-6c0112fec846",
   "metadata": {},
   "outputs": [],
   "source": [
    "# Move purged assemblies\n",
    "cp /workspace/hraijc/Bee/BeeT/Assemblies/Purged_Assemblies/purge_dups/BeeT_Hifiasm_q18l2kULR/seqs/BeeT_Hifiasm_q18l2kULR.asm.bp.p_ctg.purged.fa ${WKDIR}/BeeT_Hifiasm_q18l2kULR.asm.bp.p_ctg.purged.fa\n",
    "cp /workspace/hraijc/Bee/BeeT/Assemblies/Purged_Assemblies/purge_dups/Flye_BeeT_q10/seqs/Flye_BeeT_q10.purged.fa ${WKDIR}/Flye_BeeT_q10.purged.fa\n",
    "cp /workspace/hraijc/Bee/BeeT/Assemblies/Purged_Assemblies/purge_dups/Flye_BeeT_q15/seqs/Flye_BeeT_q15.purged.fa ${WKDIR}/Flye_BeeT_q15.purged.fa"
   ]
  },
  {
   "cell_type": "code",
   "execution_count": 7,
   "id": "55fe7e7f-83ef-428b-87a6-0f7b7fadb9a8",
   "metadata": {},
   "outputs": [
    {
     "name": "stdout",
     "output_type": "stream",
     "text": [
      "java -ea -Xmx200m -cp /software/bioinformatics/BBMap-38.33/current/ jgi.AssemblyStatsWrapper format=3 in=Flye_BeeT_q10.purged.fa format=3\n",
      "n_scaffolds\tn_contigs\tscaf_bp\tcontig_bp\tgap_pct\tscaf_N50\tscaf_L50\tctg_N50\tctg_L50\tscaf_N90\tscaf_L90\tctg_N90\tctg_L90\tscaf_max\tctg_max\tscaf_n_gt50K\tscaf_pct_gt50K\tgc_avg\tgc_std\tfilename\n",
      "1801\t1801\t684202654\t684202654\t0.000\t77\t2764729\t77\t2764729\t286\t545060\t286\t545060\t11075509\t11075509\t587\t98.714\t0.34954\t0.06735\t/powerplant/workspace/hraijc/Bee/BeeT/Assemblies/Purged_Assemblies/Flye_BeeT_q10.purged.fa\n"
     ]
    }
   ],
   "source": [
    "cd ${WKDIR}\n",
    "module load BBMap/38.33\n",
    "\n",
    "statswrapper.sh in=BeeT_Hifiasm_q18l2kULR.asm.bp.p_ctg.purged.fa,Flye_BeeT_q10.purged.fa,Flye_BeeT_q15.purged.fa,${FLYE10},${FLYE15},${HIFIASM18} format=3\n"
   ]
  },
  {
   "cell_type": "markdown",
   "id": "e6c17269-59b1-458f-ae0c-18c01aa307d0",
   "metadata": {},
   "source": [
    "| n_scaffolds \t| n_contigs \t| scaf_bp   \t| contig_bp \t| gap_pct \t| scaf_N50 \t| scaf_L50 \t| ctg_N50 \t| ctg_L50 \t| scaf_N90 \t| scaf_L90 \t| ctg_N90 \t| ctg_L90 \t| scaf_max \t| ctg_max  \t| scaf_n_gt50K \t| scaf_pct_gt50K \t| gc_avg  \t| gc_std  \t| filename                                                                                                         \t|\n",
    "|-------------\t|-----------\t|-----------\t|-----------\t|---------\t|----------\t|----------\t|---------\t|---------\t|----------\t|----------\t|---------\t|---------\t|----------\t|----------\t|--------------\t|----------------\t|---------\t|---------\t|------------------------------------------------------------------------------------------------------------------\t|\n",
    "| 4901        \t| 4901      \t| 375319691 \t| 375319691 \t| 0.000   \t| 1336     \t| 92562    \t| 1336    \t| 92562   \t| 3676     \t| 42794    \t| 3676    \t| 42794   \t| 545116   \t| 545116   \t| 3217         \t| 84.347         \t| 0.34390 \t| 0.03088 \t| /powerplant/workspace/hraijc/Bee/BeeT/Assemblies/Purged_Assemblies/BeeT_Hifiasm_q18l2kULR.asm.bp.p_ctg.purged.fa \t|\n",
    "| 110         \t| 110       \t| 1259829   \t| 1259829   \t| 0.000   \t| 14       \t| 30805    \t| 14      \t| 30805   \t| 41       \t| 10014    \t| 41      \t| 10014   \t| 67539    \t| 67539    \t| 4            \t| 19.196         \t| 0.52518 \t| 0.08472 \t| /powerplant/workspace/hraijc/Bee/BeeT/Assemblies/Purged_Assemblies/Flye_BeeT_q10.purged.fa                       \t|\n",
    "| 103         \t| 103       \t| 1325841   \t| 1325841   \t| 0.000   \t| 15       \t| 28060    \t| 15      \t| 28060   \t| 52       \t| 5485     \t| 52      \t| 5485    \t| 98900    \t| 98900    \t| 3            \t| 18.357         \t| 0.53127 \t| 0.07364 \t| /powerplant/workspace/hraijc/Bee/BeeT/Assemblies/Purged_Assemblies/Flye_BeeT_q15.purged.fa                       \t|\n",
    "| 3262        \t| 3262      \t| 696244996 \t| 696244996 \t| 0.000   \t| 79       \t| 2696791  \t| 79      \t| 2696791 \t| 308      \t| 449130   \t| 308     \t| 449130  \t| 11075509 \t| 11075509 \t| 628          \t| 97.582         \t| 0.35009 \t| 0.06989 \t| /powerplant/workspace/hraijc/Bee/BeeT/Assemblies/Flye_BeeT_q10/Flye_BeeT_q10.fasta                               \t|\n",
    "| 3141        \t| 3141      \t| 702584375 \t| 702584375 \t| 0.000   \t| 92       \t| 2088307  \t| 92      \t| 2088307 \t| 398      \t| 300382   \t| 398     \t| 300382  \t| 13082533 \t| 13082533 \t| 736          \t| 96.690         \t| 0.35055 \t| 0.07090 \t| /powerplant/workspace/hraijc/Bee/BeeT/Assemblies/Flye_BeeT_q15/Flye_BeeT_q15.fasta                               \t|\n",
    "| 4993        \t| 4993      \t| 380881427 \t| 380881427 \t| 0.000   \t| 1364     \t| 92058    \t| 1364    \t| 92058   \t| 3749     \t| 42794    \t| 3749    \t| 42794   \t| 545116   \t| 545116   \t| 3273         \t| 84.215         \t| 0.34380 \t| 0.03146 \t| /powerplant/workspace/hraijc/Bee/BeeT/Assemblies/Hifiasm_q18l2kULR/BeeT_Hifiasm_q18l2kULR.asm.bp.p_ctg.fasta     \t|"
   ]
  },
  {
   "cell_type": "code",
   "execution_count": null,
   "id": "f49ad029-0cba-4dc0-b086-91cb52d1056c",
   "metadata": {},
   "outputs": [],
   "source": [
    "1801\t1801\t684202654\t684202654\t0.000\t77\t2764729\t77\t2764729\t286\t545060\t286\t545060\t11075509\t11075509\t587\t98.714\t0.34954\t0.06735\t/powerplant/workspace/hraijc/Bee/BeeT/Assemblies/Purged_Assemblies/Flye_BeeT_q10.purged.fa\n"
   ]
  }
 ],
 "metadata": {
  "kernelspec": {
   "display_name": "Bash",
   "language": "bash",
   "name": "bash"
  },
  "language_info": {
   "codemirror_mode": "shell",
   "file_extension": ".sh",
   "mimetype": "text/x-sh",
   "name": "bash"
  }
 },
 "nbformat": 4,
 "nbformat_minor": 5
}
