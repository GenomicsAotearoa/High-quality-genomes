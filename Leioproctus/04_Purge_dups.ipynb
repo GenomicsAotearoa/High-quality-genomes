{
 "cells": [
  {
   "cell_type": "markdown",
   "id": "205aefff-e08b-430c-be97-287e396aafa8",
   "metadata": {},
   "source": [
    "# Filtering Assembly based on blobplot results then doing Purge_dups\n"
   ]
  },
  {
   "cell_type": "code",
   "execution_count": 7,
   "id": "e26abd60-38ff-4206-a49a-68b4715add36",
   "metadata": {},
   "outputs": [],
   "source": [
    "WKDIR=/workspace/hraijc/Bee/BeeT/Assemblies/Purged_Assemblies\n",
    "PURGEDUPS_BIN_DIR=/workspace/hraijc/git_clones/purge_dups/bin\n",
    "PDDIR=${WKDIR}/purge_dups\n",
    "\n",
    "FLYE10=/workspace/hraijc/Bee/BeeT/Assemblies/Flye_BeeT_q10/Flye_BeeT_q10.fasta\n",
    "BFLYE10=/workspace/hraijc/Bee/BeeT/Assemblies/Flye_BeeT_q10/Flye_BeeT_q10_bfil.fasta\n",
    "\n",
    "#FLYE15=/workspace/hraijc/Bee/BeeT/Assemblies/Flye_BeeT_q15/Flye_BeeT_q15.fasta\n",
    "HIFIASM18=/workspace/hraijc/Bee/BeeT/Assemblies/Hifiasm_q18l2kULR/BeeT_Hifiasm_q18l2kULR.asm.bp.p_ctg.fasta\n",
    "BHIFIASM18=/workspace/hraijc/Bee/BeeT/Assemblies/Hifiasm_q18l2kULR/BeeT_Hifiasm_q18l2kULR_bfil.fasta\n",
    "\n",
    "ONTREADS_Q10=/workspace/hraijc/Bee/BeeT/BeeT_ONT14_1_basecalling/fastq/BeeT_Q10.fastq\n",
    "ONTREADS_Q15=/workspace/hraijc/Bee/BeeT/BeeT_ONT14_1_basecalling/fastq/BeeT_Q15.fastq\n",
    "\n",
    "ILLREAD1=/workspace/hraijc/Bee/input/Leioproctus_imitatus/popgen/NI-FR-Li-F-61-40567916_S16_L004_R1_001.clean.fastq\n",
    "ILLREAD2=/workspace/hraijc/Bee/input/Leioproctus_imitatus/popgen/NI-FR-Li-F-61-40567916_S16_L004_R2_001.clean.fastq\n",
    "ILLREADS=/workspace/hraijc/Bee/input/Leioproctus_imitatus/popgen/NI-FR-Li-F-61.clean.fastq\n",
    "\n",
    "BLOBKEEP=/workspace/hraijc/Bee/BeeT/Assemblies/blobplots/Flye10.keep.txt\n",
    "BLOBKEEP2=/workspace/hraijc/Bee/BeeT/Assemblies/blobplots/HiFi18.keep.txt\n",
    "\n",
    "OUTPUT=/workspace/hraijc/Bee/BeeT/Assemblies/OUTPUT\n",
    "cd ${WKDIR}"
   ]
  },
  {
   "cell_type": "code",
   "execution_count": 40,
   "id": "7731e460-2cd5-49e6-9ad6-82bd96e0ee6f",
   "metadata": {},
   "outputs": [],
   "source": [
    "mkdir -p ${WKDIR}/log\n",
    "mkdir -p ${PDDIR}\n",
    "cd ${PDDIR}"
   ]
  },
  {
   "cell_type": "code",
   "execution_count": null,
   "id": "4b1cfbf0-251a-4839-af27-076a798defa2",
   "metadata": {},
   "outputs": [],
   "source": []
  },
  {
   "cell_type": "markdown",
   "id": "bc51bfdb-556b-499e-b223-93f8cba5b68b",
   "metadata": {},
   "source": [
    "## Remove contigs based on blobtools output"
   ]
  },
  {
   "cell_type": "code",
   "execution_count": 41,
   "id": "45963bee-fd48-4704-9cf4-c4496abb7bef",
   "metadata": {},
   "outputs": [],
   "source": [
    "module load seqtk\n",
    "#seqtk subseq ${FLYE10} ${BLOBKEEP} > ${BFLYE10}\n",
    "seqtk subseq ${HIFIASM18} ${BLOBKEEP2} > ${BHIFIASM18}\n",
    "#seqtk mergepe ${ILLREAD1} ${ILLREAD2} > ${ILLREADS}\n",
    "module unload seqtk"
   ]
  },
  {
   "cell_type": "code",
   "execution_count": 42,
   "id": "e304caec-1a73-4227-aead-4d1c9a314b67",
   "metadata": {},
   "outputs": [
    {
     "name": "stdout",
     "output_type": "stream",
     "text": [
      "417M\t/workspace/hraijc/Bee/BeeT/Assemblies/Hifiasm_q18l2kULR/BeeT_Hifiasm_q18l2kULR.asm.bp.p_ctg.fasta\n",
      "315M\t/workspace/hraijc/Bee/BeeT/Assemblies/Hifiasm_q18l2kULR/BeeT_Hifiasm_q18l2kULR_bfil.fasta\n",
      "4993\n",
      "3368\n"
     ]
    }
   ],
   "source": [
    "du -sh ${HIFIASM18}\n",
    "du -sh ${BHIFIASM18}\n",
    "grep \">\" ${HIFIASM18} | wc -l\n",
    "grep \">\" ${BHIFIASM18} | wc -l\n",
    "#du -sh $ILLREADS"
   ]
  },
  {
   "cell_type": "code",
   "execution_count": null,
   "id": "5de591b2-e066-44d7-8792-ba37b6b46685",
   "metadata": {},
   "outputs": [],
   "source": []
  },
  {
   "cell_type": "code",
   "execution_count": null,
   "id": "43cdca55-d9d7-48bf-9047-7c642626a119",
   "metadata": {},
   "outputs": [],
   "source": []
  },
  {
   "cell_type": "markdown",
   "id": "ef4a9961-a4b2-42e2-bd14-add6c14af70d",
   "metadata": {},
   "source": [
    "## Purge_dups\n",
    "\n",
    "Trialing a few different inputs for the coverage calculations on Purge_dups. Does it matter if its ONT or illumina data??\n",
    "\n",
    "Cant be just illumina. must be combo of Illumina and long reads\n",
    "\n",
    "\n",
    " - Doing ONT_q15 Plus Illumina (10x coverage) (THIS DOES NOT SEEM TO WORK)\n",
    " - ONT_Q10 only (WORKED SLIGHLY BETTER)\n",
    " - ONT_Q15 only\n",
    " - HiFiasm18 with ont_Q10 data.\n"
   ]
  },
  {
   "cell_type": "code",
   "execution_count": null,
   "id": "b0c768a3-043b-467b-9aeb-6129a26f8d09",
   "metadata": {},
   "outputs": [],
   "source": []
  },
  {
   "cell_type": "code",
   "execution_count": null,
   "id": "d4d910dc-d26b-4834-afba-85f38e102e99",
   "metadata": {},
   "outputs": [],
   "source": [
    "python /workspace/hraijc/git_clones/purge_dups/scripts/pd_config.py --version\n",
    "python /workspace/hraijc/git_clones/purge_dups/scripts/pd_config.py --help\n",
    "python /workspace/hraijc/git_clones/purge_dups/scripts/run_purge_dups.py --help\n"
   ]
  },
  {
   "cell_type": "code",
   "execution_count": 43,
   "id": "698ccd13-3472-4cef-9cbc-183689ed52ba",
   "metadata": {},
   "outputs": [],
   "source": [
    "printf \"${ONTREADS_Q10}\" > ${PDDIR}/ONT10_files.txt\n",
    "printf \"${ONTREADS_Q15}\" > ${PDDIR}/ONT15_files.txt\n",
    "printf \"${ILLREADS}\" > ${PDDIR}/ill_files.txt"
   ]
  },
  {
   "cell_type": "code",
   "execution_count": 44,
   "id": "fe3abdae-c189-4d18-a5f1-e1c742a94e02",
   "metadata": {},
   "outputs": [],
   "source": [
    "#python /workspace/hraijc/git_clones/purge_dups/scripts/pd_config.py -n config.FLYE10.q10.json ${FLYE10} ${PDDIR}/ONT10_files.txt\n",
    "#python /workspace/hraijc/git_clones/purge_dups/scripts/pd_config.py -n config.FLYE10.q15.json ${FLYE10} ${PDDIR}/ONT15_files.txt\n",
    "#python /workspace/hraijc/git_clones/purge_dups/scripts/pd_config.py -n config.FLYE10.q15ill.json -s ${PDDIR}/ill_files.txt ${FLYE10} ${PDDIR}/ONT15_files.txt\n",
    "python /workspace/hraijc/git_clones/purge_dups/scripts/pd_config.py -n config.BHIFIASM18.q10.json ${BHIFIASM18} ${PDDIR}/ONT10_files.txt\n"
   ]
  },
  {
   "cell_type": "code",
   "execution_count": 12,
   "id": "a820276a-ec1a-431f-a61c-bb14b5214084",
   "metadata": {},
   "outputs": [],
   "source": [
    "####Change json files####\n"
   ]
  },
  {
   "cell_type": "code",
   "execution_count": 45,
   "id": "3b469a3e-883f-4531-b40e-a0023af6741b",
   "metadata": {},
   "outputs": [
    {
     "name": "stdout",
     "output_type": "stream",
     "text": [
      "python /workspace/hraijc/git_clones/purge_dups/scripts/run_purge_dups.py config.BHIFIASM18.q10.json /workspace/hraijc/git_clones/purge_dups/bin BHIFIASM18.q10 -p bash\n",
      "python /workspace/hraijc/git_clones/purge_dups/scripts/run_purge_dups.py config.FLYE10.q10.json /workspace/hraijc/git_clones/purge_dups/bin FLYE10.q10 -p bash\n",
      "python /workspace/hraijc/git_clones/purge_dups/scripts/run_purge_dups.py config.FLYE10.q15ill.json /workspace/hraijc/git_clones/purge_dups/bin FLYE10.q15ill -p bash\n",
      "python /workspace/hraijc/git_clones/purge_dups/scripts/run_purge_dups.py config.FLYE10.q15.json /workspace/hraijc/git_clones/purge_dups/bin FLYE10.q15 -p bash\n"
     ]
    }
   ],
   "source": [
    "cd ${PDDIR}\n",
    "\n",
    "\n",
    "for FILE in *.json;\n",
    "do \n",
    "    PRE=${FILE%.json}\n",
    "    OUTPREFIX=${PRE#config.}\n",
    "    echo python /workspace/hraijc/git_clones/purge_dups/scripts/run_purge_dups.py $FILE ${PURGEDUPS_BIN_DIR} ${OUTPREFIX} -p bash;\n",
    "done "
   ]
  },
  {
   "cell_type": "code",
   "execution_count": 46,
   "id": "8c43a1c6-980b-4b62-9dba-87ccbf5b9923",
   "metadata": {},
   "outputs": [
    {
     "name": "stdout",
     "output_type": "stream",
     "text": [
      "Submitted batch job 1404999\n"
     ]
    }
   ],
   "source": [
    "\n",
    "sbatch << EOF\n",
    "#!/bin/bash\n",
    "#SBATCH -J PurgeDups\n",
    "#SBATCH -o ${WKDIR}/log/%J.out\n",
    "#SBATCH -e ${WKDIR}/log/%J.err\n",
    "#SBATCH --cpus-per-task=24\n",
    "#SBATCH --mem=30G\n",
    "#SBATCH --time=11:00:00\n",
    "\n",
    "module load zlib\n",
    "module load minimap2/2.22\n",
    "\n",
    "\n",
    "#python /workspace/hraijc/git_clones/purge_dups/scripts/run_purge_dups.py config.FLYE10.q15ill.json /workspace/hraijc/git_clones/purge_dups/bin FLYE10.q15ill -p bash\n",
    "#python /workspace/hraijc/git_clones/purge_dups/scripts/run_purge_dups.py config.FLYE10.q10.json /workspace/hraijc/git_clones/purge_dups/bin FLYE10.q10 -p bash\n",
    "#python /workspace/hraijc/git_clones/purge_dups/scripts/run_purge_dups.py config.FLYE10.q15.json /workspace/hraijc/git_clones/purge_dups/bin FLYE10.q15 -p bash\n",
    "python /workspace/hraijc/git_clones/purge_dups/scripts/run_purge_dups.py config.BHIFIASM18.q10.json /workspace/hraijc/git_clones/purge_dups/bin BHIFIASM18.q10 -p bash\n",
    "EOF"
   ]
  },
  {
   "cell_type": "code",
   "execution_count": null,
   "id": "9e7e0197-6d70-41aa-bfbb-2ba05f350b87",
   "metadata": {},
   "outputs": [],
   "source": []
  },
  {
   "cell_type": "code",
   "execution_count": 8,
   "id": "fce55119-3fcf-4b72-bc42-6c0112fec846",
   "metadata": {},
   "outputs": [
    {
     "name": "stdout",
     "output_type": "stream",
     "text": [
      "ln: failed to create symbolic link ‘/workspace/hraijc/Bee/BeeT/Assemblies/OUTPUT/other/BeeT_FLYE10.fasta’: File exists\n"
     ]
    },
    {
     "ename": "",
     "evalue": "1",
     "output_type": "error",
     "traceback": []
    }
   ],
   "source": [
    "## Organize results.\n",
    "mkdir -p ${OUTPUT}/other\n",
    "# Move raw assemblies\n",
    "cp ${FLYE10} ${OUTPUT}/other/BeeT_FLYE10.fasta\n",
    "cp ${HIFIASM18} ${OUTPUT}/other/BeeT_HIFIASM18.fasta\n",
    "# Move manually filtered assemblies\n",
    "cp ${BFLYE10} ${OUTPUT}/other/BeeT_FLYE10_bfil.fasta\n",
    "cp ${BHIFIASM18} ${OUTPUT}/other/BeeT_HIFIASM18_bfil.fasta\n",
    "\n",
    "# Move PURGED assemblies\n",
    "cp ${PDDIR}/Flye10_BeeT_bfil_ONT10/seqs/*.purged.fa ${OUTPUT}/BeeT_FLYE10_bfil.purged.fasta\n",
    "cp ${PDDIR}/BeeT_Hifiasm_q18l2kULR_bfil/seqs/*.purged.fa ${OUTPUT}/other/BeeT_HIFIASM18_bfil.purged.fasta\n",
    "\n",
    "\n",
    "\n",
    "#Make a symlink of best assembly to make it easier to get stats for all.\n",
    "ln -s ${OUTPUT}/BeeT_FLYE10_bfil.purged.fasta ${OUTPUT}/other/BeeT_FLYE10_bfil.purged.fasta"
   ]
  },
  {
   "cell_type": "code",
   "execution_count": 15,
   "id": "e1eae15d-5f51-4ac8-99ed-11d84d76c197",
   "metadata": {},
   "outputs": [
    {
     "name": "stdout",
     "output_type": "stream",
     "text": [
      "output/\n",
      "BeeT_FLYE10_bfil.purged.fasta  other\n",
      "output/other/\n",
      "BeeT_FLYE10_bfil.fasta\t       BeeT_HIFIASM18_bfil.fasta\n",
      "BeeT_FLYE10_bfil.purged.fasta  BeeT_HIFIASM18_bfil.purged.fasta\n",
      "BeeT_FLYE10.fasta\t       BeeT_HIFIASM18.fasta\n"
     ]
    }
   ],
   "source": [
    "echo \"output/\"\n",
    "ls ${OUTPUT}\n",
    "echo \"output/other/\"\n",
    "ls ${OUTPUT}/other "
   ]
  },
  {
   "cell_type": "code",
   "execution_count": 2,
   "id": "f49ad029-0cba-4dc0-b086-91cb52d1056c",
   "metadata": {},
   "outputs": [
    {
     "name": "stdout",
     "output_type": "stream",
     "text": [
      "Submitted batch job 1428753\n"
     ]
    }
   ],
   "source": [
    "sbatch << EOF\n",
    "#!/bin/bash\n",
    "#SBATCH -J BUSCO\n",
    "#SBATCH -o ${WKDIR}/log/%J.out\n",
    "#SBATCH -e ${WKDIR}/log/%J.err\n",
    "#SBATCH --cpus-per-task=12\n",
    "#SBATCH --mem=10G\n",
    "#SBATCH --time=21:00:00\n",
    "\n",
    "module load BUSCO/v5.2.2 \n",
    "\n",
    "cd /workspace/hraijc/Bee/BeeT/Assemblies/Purged_Assemblies/\n",
    "\n",
    "\n",
    "busco -m geno -c 12 -i ${BHIFIASM18} -l insecta_odb10 -o BeeT_Hifiasm_q18l2kULR_bfil.purged.busco\n",
    "busco -m geno -c 12 -i ${BFLYE10} -l insecta_odb10 -o Flye10_BeeT_bfil_ONT10.purged.busco\n",
    "busco -m geno -c 12 -i ${HIFIASM18} -l insecta_odb10 -o BeeT_Hifiasm_q18l2kULR.purged.busco\n",
    "\n",
    "\n",
    "\n",
    "EOF"
   ]
  },
  {
   "cell_type": "code",
   "execution_count": 18,
   "id": "55fe7e7f-83ef-428b-87a6-0f7b7fadb9a8",
   "metadata": {},
   "outputs": [
    {
     "name": "stdout",
     "output_type": "stream",
     "text": [
      "java -ea -Xmx200m -cp /software/bioinformatics/BBMap-38.33/current/ jgi.AssemblyStatsWrapper format=3 in=BeeT_FLYE10_bfil.fasta,BeeT_HIFIASM18_bfil.fasta,BeeT_FLYE10_bfil.purged.fasta,BeeT_HIFIASM18_bfil.purged.fasta,BeeT_FLYE10.fasta,BeeT_HIFIASM18.fasta format=5\n",
      "n_contigs\tcontig_bp\tgap_pct\tctg_N50\tctg_L50\tctg_N90\tctg_L90\tctg_max\tgc_avg\tgc_std\tfilename\n",
      "821\t679462663\t0.000\t76\t2766627\t279\t574703\t11075509\t0.34787\t0.03873\t/powerplant/workspace/hraijc/Bee/BeeT/Assemblies/OUTPUT/other/BeeT_FLYE10_bfil.fasta\n",
      "3368\t288138445\t0.000\t939\t101219\t2557\t48153\t545116\t0.34288\t0.02822\t/powerplant/workspace/hraijc/Bee/BeeT/Assemblies/OUTPUT/other/BeeT_HIFIASM18_bfil.fasta\n",
      "652\t673910815\t0.000\t75\t2770209\t270\t589332\t11075509\t0.34780\t0.03128\t/powerplant/workspace/hraijc/Bee/BeeT/Assemblies/OUTPUT/BeeT_FLYE10_bfil.purged.fasta\n",
      "3165\t275812870\t0.000\t882\t103454\t2408\t48353\t545116\t0.34311\t0.02161\t/powerplant/workspace/hraijc/Bee/BeeT/Assemblies/OUTPUT/other/BeeT_HIFIASM18_bfil.purged.fasta\n",
      "3262\t696244996\t0.000\t79\t2696791\t308\t449130\t11075509\t0.35009\t0.06989\t/powerplant/workspace/hraijc/Bee/BeeT/Assemblies/OUTPUT/other/BeeT_FLYE10.fasta\n",
      "4993\t380881427\t0.000\t1364\t92058\t3749\t42794\t545116\t0.34380\t0.03146\t/powerplant/workspace/hraijc/Bee/BeeT/Assemblies/OUTPUT/other/BeeT_HIFIASM18.fasta\n"
     ]
    }
   ],
   "source": [
    "cd ${OUTPUT}/other \n",
    "module load BBMap/38.33\n",
    "\n",
    "statswrapper.sh in=BeeT_FLYE10_bfil.fasta,BeeT_HIFIASM18_bfil.fasta,BeeT_FLYE10_bfil.purged.fasta,BeeT_HIFIASM18_bfil.purged.fasta,BeeT_FLYE10.fasta,BeeT_HIFIASM18.fasta format=5 \n",
    "module unload BBMap/38.33\n"
   ]
  },
  {
   "cell_type": "markdown",
   "id": "e6c17269-59b1-458f-ae0c-18c01aa307d0",
   "metadata": {},
   "source": [
    "| n_contigs \t| contig_bp \t| ctg_N50 \t| ctg_L50 \t| ctg_N90 \t| ctg_L90 \t| ctg_max  \t| gc_avg  \t| filename                         \t| Busco                                         \t|   \t|   \t|   \t|   \t|   \t|   \t|   \t|   \t|   \t|   \t|\n",
    "|-----------\t|-----------\t|---------\t|---------\t|---------\t|---------\t|----------\t|---------\t|----------------------------------\t|-----------------------------------------------\t|---\t|---\t|---\t|---\t|---\t|---\t|---\t|---\t|---\t|---\t|\n",
    "| 3262      \t| 696244996 \t| 79      \t| 2696791 \t| 308     \t| 449130  \t| 11075509 \t| 0.35009 \t| BeeT_FLYE10.fasta                \t|                                               \t|   \t|   \t|   \t|   \t|   \t|   \t|   \t|   \t|   \t|   \t|\n",
    "| 821       \t| 679462663 \t| 76      \t| 2766627 \t| 279     \t| 574703  \t| 11075509 \t| 0.34787 \t| BeeT_FLYE10_bfil.fasta           \t|                                               \t|   \t|   \t|   \t|   \t|   \t|   \t|   \t|   \t|   \t|   \t|\n",
    "| 652       \t| 673910815 \t| 75      \t| 2770209 \t| 270     \t| 589332  \t| 11075509 \t| 0.3478  \t| BeeT_FLYE10_bfil.purged.fasta    \t| C:98.9%[S:98.6%,D:0.3%],F:0.2%,M:0.9%,n:1367  \t|   \t|   \t|   \t|   \t|   \t|   \t|   \t|   \t|   \t|   \t|\n",
    "| 4993      \t| 380881427 \t| 1364    \t| 92058   \t| 3749    \t| 42794   \t| 545116   \t| 0.3438  \t| BeeT_HIFIASM18.fasta             \t| C:69.5%[S:66.0%,D:3.5%],F:1.5%,M:29.0%,n:1367 \t|   \t|   \t|   \t|   \t|   \t|   \t|   \t|   \t|   \t|   \t|\n",
    "| 3368      \t| 288138445 \t| 939     \t| 101219  \t| 2557    \t| 48153   \t| 545116   \t| 0.34288 \t| BeeT_HIFIASM18_bfil.fasta        \t|                                               \t|   \t|   \t|   \t|   \t|   \t|   \t|   \t|   \t|   \t|   \t|\n",
    "| 3165      \t| 275812870 \t| 882     \t| 103454  \t| 2408    \t| 48353   \t| 545116   \t| 0.34311 \t| BeeT_HIFIASM18_bfil.purged.fasta \t| C:66.8%[S:65.8%,D:1.0%],F:1.5%,M:31.7%,n:1367 \t|   \t|   \t|   \t|   \t|   \t|   \t|   \t|   \t|   \t|   \t|\n",
    "|           \t|           \t|         \t|         \t|         \t|         \t|          \t|         \t|                                  \t|                                               \t|   \t|   \t|   \t|   \t|   \t|   \t|   \t|   \t|   \t|   \t|"
   ]
  },
  {
   "cell_type": "code",
   "execution_count": null,
   "id": "2f6c59be-141c-4501-a5d9-40a21222f960",
   "metadata": {},
   "outputs": [],
   "source": []
  }
 ],
 "metadata": {
  "kernelspec": {
   "display_name": "Bash",
   "language": "bash",
   "name": "bash"
  },
  "language_info": {
   "codemirror_mode": "shell",
   "file_extension": ".sh",
   "mimetype": "text/x-sh",
   "name": "bash"
  }
 },
 "nbformat": 4,
 "nbformat_minor": 5
}
